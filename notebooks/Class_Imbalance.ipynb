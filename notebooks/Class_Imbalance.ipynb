{
 "metadata": {
  "language_info": {
   "codemirror_mode": {
    "name": "ipython",
    "version": 3
   },
   "file_extension": ".py",
   "mimetype": "text/x-python",
   "name": "python",
   "nbconvert_exporter": "python",
   "pygments_lexer": "ipython3",
   "version": "3.9.2-final"
  },
  "orig_nbformat": 2,
  "kernelspec": {
   "name": "python392jvsc74a57bd080773cdecc613a186b9eac051636553d2ff0f99c57590601666ed713bd5d0256",
   "display_name": "Python 3.9.2 64-bit ('learn-env': conda)"
  }
 },
 "nbformat": 4,
 "nbformat_minor": 2,
 "cells": [
  {
   "source": [
    "# Importing Packages"
   ],
   "cell_type": "markdown",
   "metadata": {}
  },
  {
   "cell_type": "code",
   "execution_count": 1,
   "metadata": {},
   "outputs": [],
   "source": [
    "import numpy as np \n",
    "import pandas as pd\n",
    "from matplotlib import pyplot as plt\n",
    "%matplotlib inline\n",
    "plt.style.use(\"fivethirtyeight\")\n",
    "import seaborn as sns\n",
    "import warnings\n",
    "warnings.filterwarnings('ignore')\n",
    "from collections import Counter\n",
    "import pickle\n",
    "\n",
    "%reload_ext autoreload\n",
    "%autoreload 2\n",
    "from utils import *\n",
    "\n",
    "import smote_variants as sv\n",
    "import imbalanced_databases as imbd\n",
    "import xgboost as xgb\n",
    "\n",
    "from sklearn.linear_model import LogisticRegression\n",
    "from sklearn.tree import DecisionTreeClassifier\n",
    "from sklearn.experimental import enable_hist_gradient_boosting\n",
    "from sklearn.ensemble import AdaBoostClassifier, GradientBoostingClassifier, RandomForestClassifier, BaggingClassifier, HistGradientBoostingClassifier\n",
    "from sklearn.model_selection import train_test_split, KFold, cross_val_score, cross_val_predict, GridSearchCV,RepeatedStratifiedKFold, cross_validate\n",
    "from sklearn.metrics import accuracy_score, confusion_matrix, precision_score, recall_score, f1_score, precision_recall_curve, roc_curve, roc_auc_score, classification_report, plot_confusion_matrix, auc, mean_squared_error, confusion_matrix, balanced_accuracy_score\n",
    "from sklearn.preprocessing import StandardScaler, MinMaxScaler\n",
    "from sklearn.utils import resample\n",
    "from sklearn.dummy import DummyClassifier\n",
    "from imblearn.metrics import geometric_mean_score\n",
    "\n",
    "from imblearn.under_sampling import CondensedNearestNeighbour, NearMiss, OneSidedSelection, NeighbourhoodCleaningRule, RandomUnderSampler, TomekLinks, EditedNearestNeighbours\n",
    "from imblearn.combine import SMOTETomek, SMOTEENN\n",
    "from imblearn.over_sampling import RandomOverSampler, SMOTE, ADASYN, SVMSMOTE\n",
    "from imblearn.ensemble import BalancedBaggingClassifier, BalancedRandomForestClassifier, EasyEnsembleClassifier, RUSBoostClassifier\n",
    "\n",
    "from xgboost.sklearn import XGBClassifier"
   ]
  },
  {
   "source": [
    "# Importing Training and Validation Datasets"
   ],
   "cell_type": "markdown",
   "metadata": {}
  },
  {
   "cell_type": "code",
   "execution_count": 2,
   "metadata": {},
   "outputs": [],
   "source": [
    "pickle_in = open(\"../data/pickles/training_model.pickle\",\"rb\")\n",
    "train = pickle.load(pickle_in)\n",
    "pickle_in = open(\"../data/pickles/validate_model.pickle\",\"rb\")\n",
    "validate = pickle.load(pickle_in)"
   ]
  },
  {
   "cell_type": "code",
   "execution_count": 3,
   "metadata": {},
   "outputs": [],
   "source": [
    "X_train = train.drop([\"default\"], axis=1)\n",
    "y_tr = train[\"default\"]\n",
    "X_validate = validate.drop([\"default\"], axis=1)\n",
    "y_val = validate[\"default\"]"
   ]
  },
  {
   "cell_type": "code",
   "execution_count": 4,
   "metadata": {},
   "outputs": [
    {
     "output_type": "execute_result",
     "data": {
      "text/plain": [
       "     limit  behind1    paid2  delayed  latemths  age  behind2  billed1  \\\n",
       "0  1790.26        0   179.13        0         0   44        0  1631.93   \n",
       "1  5728.83       -1   173.87        0         0   46       -1   891.69   \n",
       "2  3580.52       -1     0.00        0         0   47       -1   238.68   \n",
       "3  6086.88        0    89.26        0         0   29        0  2831.87   \n",
       "4  5370.78       -2  1171.37        0         0   33       -2   873.40   \n",
       "\n",
       "     avg_av    avail1  \n",
       "0  0.344578  0.088440  \n",
       "1  0.957227  0.844350  \n",
       "2  0.968650  0.933339  \n",
       "3  0.650602  0.534758  \n",
       "4  0.836153  0.837379  "
      ],
      "text/html": "<div>\n<style scoped>\n    .dataframe tbody tr th:only-of-type {\n        vertical-align: middle;\n    }\n\n    .dataframe tbody tr th {\n        vertical-align: top;\n    }\n\n    .dataframe thead th {\n        text-align: right;\n    }\n</style>\n<table border=\"1\" class=\"dataframe\">\n  <thead>\n    <tr style=\"text-align: right;\">\n      <th></th>\n      <th>limit</th>\n      <th>behind1</th>\n      <th>paid2</th>\n      <th>delayed</th>\n      <th>latemths</th>\n      <th>age</th>\n      <th>behind2</th>\n      <th>billed1</th>\n      <th>avg_av</th>\n      <th>avail1</th>\n    </tr>\n  </thead>\n  <tbody>\n    <tr>\n      <th>0</th>\n      <td>1790.26</td>\n      <td>0</td>\n      <td>179.13</td>\n      <td>0</td>\n      <td>0</td>\n      <td>44</td>\n      <td>0</td>\n      <td>1631.93</td>\n      <td>0.344578</td>\n      <td>0.088440</td>\n    </tr>\n    <tr>\n      <th>1</th>\n      <td>5728.83</td>\n      <td>-1</td>\n      <td>173.87</td>\n      <td>0</td>\n      <td>0</td>\n      <td>46</td>\n      <td>-1</td>\n      <td>891.69</td>\n      <td>0.957227</td>\n      <td>0.844350</td>\n    </tr>\n    <tr>\n      <th>2</th>\n      <td>3580.52</td>\n      <td>-1</td>\n      <td>0.00</td>\n      <td>0</td>\n      <td>0</td>\n      <td>47</td>\n      <td>-1</td>\n      <td>238.68</td>\n      <td>0.968650</td>\n      <td>0.933339</td>\n    </tr>\n    <tr>\n      <th>3</th>\n      <td>6086.88</td>\n      <td>0</td>\n      <td>89.26</td>\n      <td>0</td>\n      <td>0</td>\n      <td>29</td>\n      <td>0</td>\n      <td>2831.87</td>\n      <td>0.650602</td>\n      <td>0.534758</td>\n    </tr>\n    <tr>\n      <th>4</th>\n      <td>5370.78</td>\n      <td>-2</td>\n      <td>1171.37</td>\n      <td>0</td>\n      <td>0</td>\n      <td>33</td>\n      <td>-2</td>\n      <td>873.40</td>\n      <td>0.836153</td>\n      <td>0.837379</td>\n    </tr>\n  </tbody>\n</table>\n</div>"
     },
     "metadata": {},
     "execution_count": 4
    }
   ],
   "source": [
    "X_train.head()"
   ]
  },
  {
   "cell_type": "code",
   "execution_count": 5,
   "metadata": {},
   "outputs": [
    {
     "output_type": "execute_result",
     "data": {
      "text/plain": [
       "     limit  behind1   paid2  delayed  latemths  age  behind2  billed1  \\\n",
       "0  1074.16        0   71.61        0         0   25        0   317.38   \n",
       "1  5370.78        0  151.64        0         0   26        0  4895.86   \n",
       "2  2506.36        0  111.43        0         0   32        0  2510.73   \n",
       "3  4654.68        0   64.74        0         0   49        0   740.38   \n",
       "4  1790.26        0   53.71        1         1   36        0  3373.85   \n",
       "\n",
       "     avg_av    avail1  \n",
       "0  0.602052  0.704532  \n",
       "1  0.293715  0.088427  \n",
       "2  0.005217 -0.001744  \n",
       "3  0.883482  0.840939  \n",
       "4  0.188227 -0.884559  "
      ],
      "text/html": "<div>\n<style scoped>\n    .dataframe tbody tr th:only-of-type {\n        vertical-align: middle;\n    }\n\n    .dataframe tbody tr th {\n        vertical-align: top;\n    }\n\n    .dataframe thead th {\n        text-align: right;\n    }\n</style>\n<table border=\"1\" class=\"dataframe\">\n  <thead>\n    <tr style=\"text-align: right;\">\n      <th></th>\n      <th>limit</th>\n      <th>behind1</th>\n      <th>paid2</th>\n      <th>delayed</th>\n      <th>latemths</th>\n      <th>age</th>\n      <th>behind2</th>\n      <th>billed1</th>\n      <th>avg_av</th>\n      <th>avail1</th>\n    </tr>\n  </thead>\n  <tbody>\n    <tr>\n      <th>0</th>\n      <td>1074.16</td>\n      <td>0</td>\n      <td>71.61</td>\n      <td>0</td>\n      <td>0</td>\n      <td>25</td>\n      <td>0</td>\n      <td>317.38</td>\n      <td>0.602052</td>\n      <td>0.704532</td>\n    </tr>\n    <tr>\n      <th>1</th>\n      <td>5370.78</td>\n      <td>0</td>\n      <td>151.64</td>\n      <td>0</td>\n      <td>0</td>\n      <td>26</td>\n      <td>0</td>\n      <td>4895.86</td>\n      <td>0.293715</td>\n      <td>0.088427</td>\n    </tr>\n    <tr>\n      <th>2</th>\n      <td>2506.36</td>\n      <td>0</td>\n      <td>111.43</td>\n      <td>0</td>\n      <td>0</td>\n      <td>32</td>\n      <td>0</td>\n      <td>2510.73</td>\n      <td>0.005217</td>\n      <td>-0.001744</td>\n    </tr>\n    <tr>\n      <th>3</th>\n      <td>4654.68</td>\n      <td>0</td>\n      <td>64.74</td>\n      <td>0</td>\n      <td>0</td>\n      <td>49</td>\n      <td>0</td>\n      <td>740.38</td>\n      <td>0.883482</td>\n      <td>0.840939</td>\n    </tr>\n    <tr>\n      <th>4</th>\n      <td>1790.26</td>\n      <td>0</td>\n      <td>53.71</td>\n      <td>1</td>\n      <td>1</td>\n      <td>36</td>\n      <td>0</td>\n      <td>3373.85</td>\n      <td>0.188227</td>\n      <td>-0.884559</td>\n    </tr>\n  </tbody>\n</table>\n</div>"
     },
     "metadata": {},
     "execution_count": 5
    }
   ],
   "source": [
    "X_validate.head()"
   ]
  },
  {
   "source": [
    "# Standardize Datasets"
   ],
   "cell_type": "markdown",
   "metadata": {}
  },
  {
   "cell_type": "code",
   "execution_count": 6,
   "metadata": {},
   "outputs": [],
   "source": [
    "scaler = StandardScaler()\n",
    "scaler.fit(X_train)\n",
    "X_tr_ss = scaler.transform(X_train)\n",
    "X_val_ss = scaler.transform(X_validate)"
   ]
  },
  {
   "cell_type": "code",
   "execution_count": 7,
   "metadata": {},
   "outputs": [],
   "source": [
    "scaled = MinMaxScaler()\n",
    "scaled.fit(X_train)\n",
    "X_tr = scaled.transform(X_train)\n",
    "X_val = scaled.transform(X_validate)"
   ]
  },
  {
   "source": [
    "# Importing Model"
   ],
   "cell_type": "markdown",
   "metadata": {}
  },
  {
   "cell_type": "code",
   "execution_count": 8,
   "metadata": {},
   "outputs": [],
   "source": [
    "pickle_in = open(\"../data/pickles/best_model.pickle\",\"rb\")\n",
    "rfcb = pickle.load(pickle_in)"
   ]
  },
  {
   "cell_type": "code",
   "execution_count": 9,
   "metadata": {},
   "outputs": [
    {
     "output_type": "execute_result",
     "data": {
      "text/plain": [
       "RandomForestClassifier(max_depth=8, n_estimators=400)"
      ]
     },
     "metadata": {},
     "execution_count": 9
    }
   ],
   "source": [
    "rfcb"
   ]
  },
  {
   "source": [
    "# Dummy Classifier"
   ],
   "cell_type": "markdown",
   "metadata": {}
  },
  {
   "cell_type": "code",
   "execution_count": 10,
   "metadata": {},
   "outputs": [
    {
     "output_type": "stream",
     "name": "stdout",
     "text": [
      "Baseline:  Counter({0: 16344, 1: 4656})\nValidation:  Counter({0: 4687, 1: 1313})\n"
     ]
    }
   ],
   "source": [
    "#baseline counts\n",
    "counter = Counter(y_tr)\n",
    "print(\"Baseline: \", counter)\n",
    "counter2 = Counter(y_val)\n",
    "print(\"Validation: \", counter2)"
   ]
  },
  {
   "cell_type": "code",
   "execution_count": 11,
   "metadata": {},
   "outputs": [
    {
     "output_type": "stream",
     "name": "stdout",
     "text": [
      "Training Accuracy:  0.7782857142857142\nValidation Accuracy:  0.7811666666666667\nTraining F1 Score:  0.0\nValidation F1 Score:  0.0\nTraining AUC Score:  0.5\nValidation AUC Score:  0.5\nTraining Recall Score:  0.0\nValidation Recall Score:  0.0\nTraining Precision Score:  0.0\nValidation Precision Score:  0.0\nTraining Average Precision Score:  0.22171428571428572\nValidation Average Precision Score:  0.21883333333333332\n"
     ]
    }
   ],
   "source": [
    "dc = DummyClassifier(strategy='most_frequent').fit(X_tr, y_tr)\n",
    "y_pred_dc_tr = dc.predict(X_tr)\n",
    "y_pred_dc_val = dc.predict(X_val)\n",
    "get_metric(X_tr, y_tr, X_val, y_val, y_pred_dc_tr, y_pred_dc_val, dc)"
   ]
  },
  {
   "source": [
    "# Ensemble Methods"
   ],
   "cell_type": "markdown",
   "metadata": {}
  },
  {
   "source": [
    "## Bagging Classifier\n",
    "\n",
    "Instead of using a single tree, we will check if an ensemble of decsion tree can actually alleviate the issue induced by the class imbalancing. First, we will use a bagging classifier and its counter part which internally uses a random under-sampling to balanced each boostrap sample.\n",
    "\n",
    "Balancing each bootstrap sample allows to increase significantly the balanced accuracy and the geometric mean."
   ],
   "cell_type": "markdown",
   "metadata": {}
  },
  {
   "cell_type": "code",
   "execution_count": 47,
   "metadata": {},
   "outputs": [
    {
     "output_type": "stream",
     "name": "stdout",
     "text": [
      "Training Accuracy:  0.996904761904762\nValidation Accuracy:  0.807\nTraining F1 Score:  0.9929964443486693\nValidation F1 Score:  0.44326923076923075\nTraining AUC Score:  0.9998954304300327\nValidation AUC Score:  0.740359286457933\nTraining Recall Score:  0.9896907216494846\nValidation Recall Score:  0.3511043412033511\nTraining Precision Score:  0.9963243243243243\nValidation Precision Score:  0.6010430247718384\nTraining Average Precision Score:  0.9996190235446103\nValidation Average Precision Score:  0.48114820511254575\n\nTraining Balanced Accuracy:  0.9943252922980659\nTraining Geometric Mean:  0.9943144913248209\nValidation Balanced Accuracy:  0.6429086886302653\nValidation Geometric Mean:  0.5728715429649479\n"
     ]
    }
   ],
   "source": [
    "bc = BaggingClassifier(n_estimators=50, random_state=42).fit(X_tr_ss, y_tr)\n",
    "y_pred_bc_tr = bc.predict(X_tr_ss)\n",
    "y_pred_bc_val = bc.predict(X_val_ss)\n",
    "get_metric(X_tr_ss, y_tr, X_val_ss, y_val, y_pred_bc_tr, y_pred_bc_val, bc)\n",
    "print(\"\")\n",
    "print('Training Balanced Accuracy: ', balanced_accuracy_score(y_tr, y_pred_bc_tr))\n",
    "print('Training Geometric Mean: ', geometric_mean_score(y_tr, y_pred_bc_tr))\n",
    "print('Validation Balanced Accuracy: ', balanced_accuracy_score(y_val, y_pred_bc_val))\n",
    "print('Validation Geometric Mean: ', geometric_mean_score(y_val, y_pred_bc_val))"
   ]
  },
  {
   "source": [
    "## Balanced Bagging Classifier\n",
    "\n",
    "A Bagging classifier with additional balancing.\n",
    "\n",
    "This implementation of Bagging is similar to the scikit-learn implementation. It includes an additional step to balance the training set at fit time using a given sampler.\n",
    "\n",
    "This classifier can serves as a basis to implement various methods such as Exactly Balanced Bagging [6], Roughly Balanced Bagging [7], Over-Bagging [6], or SMOTE-Bagging [8]."
   ],
   "cell_type": "markdown",
   "metadata": {}
  },
  {
   "cell_type": "code",
   "execution_count": 48,
   "metadata": {},
   "outputs": [
    {
     "output_type": "stream",
     "name": "stdout",
     "text": [
      "Training Accuracy:  0.9383333333333334\nValidation Accuracy:  0.7631666666666667\nTraining F1 Score:  0.8778186621379375\nValidation F1 Score:  0.5111799105607154\nTraining AUC Score:  0.9955504481714446\nValidation AUC Score:  0.7528188434539899\nTraining Recall Score:  0.9991408934707904\nValidation Recall Score:  0.5658796648895659\nTraining Precision Score:  0.7827696449604576\nValidation Precision Score:  0.46612296110414053\nTraining Average Precision Score:  0.9819759873453777\nValidation Average Precision Score:  0.499848233823849\n\nTraining Balanced Accuracy:  0.9600758309742596\nTraining Geometric Mean:  0.9592807316490086\nValidation Balanced Accuracy:  0.6921568155896517\nValidation Geometric Mean:  0.680540328399629\n"
     ]
    }
   ],
   "source": [
    "bbc = BalancedBaggingClassifier(n_estimators=50, random_state=42).fit(X_tr_ss, y_tr)\n",
    "y_pred_bbc_tr = bbc.predict(X_tr_ss)\n",
    "y_pred_bbc_val = bbc.predict(X_val_ss)\n",
    "get_metric(X_tr_ss, y_tr, X_val_ss, y_val, y_pred_bbc_tr, y_pred_bbc_val, bbc)\n",
    "print(\"\")\n",
    "print('Training Balanced Accuracy: ', balanced_accuracy_score(y_tr, y_pred_bbc_tr))\n",
    "print('Training Geometric Mean: ', geometric_mean_score(y_tr, y_pred_bbc_tr))\n",
    "print('Validation Balanced Accuracy: ', balanced_accuracy_score(y_val, y_pred_bbc_val))\n",
    "print('Validation Geometric Mean: ', geometric_mean_score(y_val, y_pred_bbc_val))"
   ]
  },
  {
   "source": [
    "## Balanced Bagging Classifier with Gradient Boosting Classifier"
   ],
   "cell_type": "markdown",
   "metadata": {}
  },
  {
   "cell_type": "code",
   "execution_count": 49,
   "metadata": {},
   "outputs": [
    {
     "output_type": "stream",
     "name": "stdout",
     "text": [
      "Training Accuracy:  0.793\nValidation Accuracy:  0.7533333333333333\nTraining F1 Score:  0.6030499497762761\nValidation F1 Score:  0.5271565495207667\nTraining AUC Score:  0.8560039766792316\nValidation AUC Score:  0.7749874838134551\nTraining Recall Score:  0.709192439862543\nValidation Recall Score:  0.6283320639756284\nTraining Precision Score:  0.5245432883240667\nValidation Precision Score:  0.45404512933406715\nTraining Average Precision Score:  0.680188981227117\nValidation Average Precision Score:  0.5372388529575939\n"
     ]
    }
   ],
   "source": [
    "bbc3 = BalancedBaggingClassifier(\n",
    "        base_estimator=HistGradientBoostingClassifier(random_state=42),\n",
    "        n_estimators=10,\n",
    "        random_state=42,\n",
    "        n_jobs=2).fit(X_tr_ss, y_tr)\n",
    "y_pred_bbc3_tr = bbc3.predict(X_tr_ss)\n",
    "y_pred_bbc3_val = bbc3.predict(X_val_ss)\n",
    "get_metric(X_tr_ss, y_tr, X_val_ss, y_val, y_pred_bbc3_tr, y_pred_bbc3_val, bbc3)"
   ]
  },
  {
   "source": [
    "## Balanced Random Forest Classifier\n",
    "\n",
    "Random forest is another popular ensemble method and it is usually outperforming bagging. Here, we used a vanilla random forest and its balanced counterpart in which each bootstrap sample is balanced.\n",
    "\n",
    "Similarly to the previous experiment, the balanced classifier outperform the classifier which learn from imbalanced bootstrap samples. In addition, random forest outsperforms the bagging classifier."
   ],
   "cell_type": "markdown",
   "metadata": {}
  },
  {
   "cell_type": "code",
   "execution_count": 50,
   "metadata": {},
   "outputs": [
    {
     "output_type": "stream",
     "name": "stdout",
     "text": [
      "Training Accuracy:  0.888\nValidation Accuracy:  0.724\nTraining F1 Score:  0.7983539094650206\nValidation F1 Score:  0.5083135391923991\nTraining AUC Score:  0.9928255616361626\nValidation AUC Score:  0.7643157793647772\nTraining Recall Score:  1.0\nValidation Recall Score:  0.6519421172886519\nTraining Precision Score:  0.6643835616438356\nValidation Precision Score:  0.41654501216545015\nTraining Average Precision Score:  0.973183893912578\nValidation Average Precision Score:  0.5111466083509113\n"
     ]
    }
   ],
   "source": [
    "brf = BalancedRandomForestClassifier(n_estimators=100, random_state=42).fit(X_tr, y_tr)\n",
    "y_pred_brf_tr = brf.predict(X_tr)\n",
    "y_pred_brf_val = brf.predict(X_val)\n",
    "get_metric(X_tr, y_tr, X_val, y_val, y_pred_brf_tr, y_pred_brf_val, brf)"
   ]
  },
  {
   "source": [
    "## RUSBoostClassifier\n",
    "\n",
    "Random under-sampling integrated in the learning of AdaBoost.\n",
    "\n",
    "During learning, the problem of class balancing is alleviated by random under-sampling the sample at each iteration of the boosting algorithm"
   ],
   "cell_type": "markdown",
   "metadata": {}
  },
  {
   "cell_type": "code",
   "execution_count": 51,
   "metadata": {},
   "outputs": [
    {
     "output_type": "stream",
     "name": "stdout",
     "text": [
      "Training Accuracy:  0.7674761904761904\nValidation Accuracy:  0.7566666666666667\nTraining F1 Score:  0.5456406439006235\nValidation F1 Score:  0.5197368421052632\nTraining AUC Score:  0.7936512282426961\nValidation AUC Score:  0.7667346817069983\nTraining Recall Score:  0.6297250859106529\nValidation Recall Score:  0.6016755521706016\nTraining Precision Score:  0.48136594976194386\nValidation Precision Score:  0.45744064852345107\nTraining Average Precision Score:  0.5609306330020786\nValidation Average Precision Score:  0.5244608728332589\n"
     ]
    }
   ],
   "source": [
    "rbc = RUSBoostClassifier(n_estimators=200, algorithm='SAMME.R', random_state=42).fit(X_tr, y_tr)\n",
    "y_pred_rbc_tr = rbc.predict(X_tr)\n",
    "y_pred_rbc_val = rbc.predict(X_val)\n",
    "get_metric(X_tr, y_tr, X_val, y_val, y_pred_rbc_tr, y_pred_rbc_val, rbc)"
   ]
  },
  {
   "source": [
    "## Easy Ensemble Classifier\n",
    "\n",
    "Bag of balanced boosted learners also known as EasyEnsemble.\n",
    "\n",
    "This algorithm is known as EasyEnsemble [1]. The classifier is an ensemble of AdaBoost learners trained on different balanced boostrap samples. The balancing is achieved by random under-sampling."
   ],
   "cell_type": "markdown",
   "metadata": {}
  },
  {
   "cell_type": "code",
   "execution_count": 52,
   "metadata": {},
   "outputs": [
    {
     "output_type": "stream",
     "name": "stdout",
     "text": [
      "Training Accuracy:  0.7592380952380953\nValidation Accuracy:  0.7516666666666667\nTraining F1 Score:  0.5427744619280159\nValidation F1 Score:  0.5278833967046895\nTraining AUC Score:  0.790370227396205\nValidation AUC Score:  0.7749849651391096\nTraining Recall Score:  0.6445446735395189\nValidation Recall Score:  0.6344249809596344\nTraining Precision Score:  0.46875976257419555\nValidation Precision Score:  0.45198046663049374\nTraining Average Precision Score:  0.5504213877594832\nValidation Average Precision Score:  0.5262955379856071\n"
     ]
    }
   ],
   "source": [
    "eec = EasyEnsembleClassifier(random_state=42).fit(X_tr, y_tr) \n",
    "y_pred_eec_tr = eec.predict(X_tr)\n",
    "y_pred_eec_val = eec.predict(X_val)\n",
    "get_metric(X_tr, y_tr, X_val, y_val, y_pred_eec_tr, y_pred_eec_val, eec)"
   ]
  },
  {
   "source": [
    "# Undersampling Methods\n",
    "\n",
    "## Tomek Links\n",
    "\n",
    "Tomek links are instances of a minority-majority class pair where each is its own nearest neighbor aka instances of opposing class very close together.  These pairs ultimately fall into one of two categories:  boundary or noise instances.  Only these two cases will have nearest neighbors from opposite classes.  By identify such pairs, Tomek links removes the majority instance with the goal of clarifying the boundary between the two classes by making the minority class region more distinct."
   ],
   "cell_type": "markdown",
   "metadata": {}
  },
  {
   "cell_type": "code",
   "execution_count": 12,
   "metadata": {},
   "outputs": [
    {
     "output_type": "stream",
     "name": "stdout",
     "text": [
      "Training Count:  Counter({0: 14764, 1: 4656})\n",
      "Training Accuracy:  0.84129763130793\n",
      "Validation Accuracy:  0.8203333333333334\n",
      "Training F1 Score:  0.5739563173901023\n",
      "Validation F1 Score:  0.4919886899151743\n",
      "Training AUC Score:  0.8417570098879879\n",
      "Validation AUC Score:  0.7796665307665821\n",
      "Training Recall Score:  0.44587628865979384\n",
      "Validation Recall Score:  0.39756283320639757\n",
      "Training Precision Score:  0.8052754072924748\n",
      "Validation Precision Score:  0.6452410383189122\n",
      "Training Average Precision Score:  0.70876857570943\n",
      "Validation Average Precision Score:  0.5418005782123946\n"
     ]
    }
   ],
   "source": [
    "tl = TomekLinks()\n",
    "sampling(X_tr, y_tr, X_val, y_val, tl, rfcb)"
   ]
  },
  {
   "cell_type": "code",
   "execution_count": 13,
   "metadata": {},
   "outputs": [],
   "source": [
    "X_tr_tl, y_tr_tl = tl.fit_resample(X_tr, y_tr)\n",
    "tlm = rfcb.fit(X_tr_tl, y_tr_tl)\n",
    "y_pred_tl_tr = tlm.predict(X_tr_tl)\n",
    "y_pred_tl_val = tlm.predict(X_val)"
   ]
  },
  {
   "source": [
    "## Edited Nearest Neighbors Rule\n",
    "\n",
    "This is a rule for finding ambiguous and noisy examples in the dataset by using k = 3 nearest neighbors to edit the preclassified samples and then k = 1 rule to make decisions.\n",
    "\n"
   ],
   "cell_type": "markdown",
   "metadata": {}
  },
  {
   "cell_type": "code",
   "execution_count": 14,
   "metadata": {},
   "outputs": [
    {
     "output_type": "stream",
     "name": "stdout",
     "text": [
      "Training Count:  Counter({0: 9976, 1: 4656})\n",
      "Training Accuracy:  0.847457627118644\n",
      "Validation Accuracy:  0.7861666666666667\n",
      "Training F1 Score:  0.7074705111402361\n",
      "Validation F1 Score:  0.5263935031376892\n",
      "Training AUC Score:  0.890159751100235\n",
      "Validation AUC Score:  0.7783997188184459\n",
      "Training Recall Score:  0.5796821305841925\n",
      "Validation Recall Score:  0.543031226199543\n",
      "Training Precision Score:  0.9075319435104237\n",
      "Validation Precision Score:  0.5107449856733525\n",
      "Training Average Precision Score:  0.8494880697247924\n",
      "Validation Average Precision Score:  0.5324626580629498\n"
     ]
    }
   ],
   "source": [
    "enn = EditedNearestNeighbours()\n",
    "sampling(X_tr, y_tr, X_val, y_val, enn, rfcb)"
   ]
  },
  {
   "cell_type": "code",
   "execution_count": 15,
   "metadata": {},
   "outputs": [],
   "source": [
    "X_tr_enn, y_tr_enn = enn.fit_resample(X_tr, y_tr)\n",
    "ennm = rfcb.fit(X_tr_enn, y_tr_enn)\n",
    "y_pred_enn_tr = ennm.predict(X_tr_enn)\n",
    "y_pred_enn_val = ennm.predict(X_val)"
   ]
  },
  {
   "cell_type": "code",
   "execution_count": 16,
   "metadata": {},
   "outputs": [
    {
     "output_type": "stream",
     "name": "stdout",
     "text": [
      "Training Count:  Counter({0: 13439, 1: 4656})\n",
      "Training Accuracy:  0.8308925117435756\n",
      "Validation Accuracy:  0.8185\n",
      "Training F1 Score:  0.579092159559835\n",
      "Validation F1 Score:  0.48992974238875875\n",
      "Training AUC Score:  0.8358804636912264\n",
      "Validation AUC Score:  0.7793365031797858\n",
      "Training Recall Score:  0.4521048109965636\n",
      "Validation Recall Score:  0.3983244478293983\n",
      "Training Precision Score:  0.8052792654934966\n",
      "Validation Precision Score:  0.6362530413625304\n",
      "Training Average Precision Score:  0.7167220651629658\n",
      "Validation Average Precision Score:  0.5429037752368918\n"
     ]
    }
   ],
   "source": [
    "oss = OneSidedSelection(n_neighbors=1, n_seeds_S=200)\n",
    "sampling(X_tr, y_tr, X_val, y_val, oss, rfcb)"
   ]
  },
  {
   "cell_type": "code",
   "execution_count": 17,
   "metadata": {},
   "outputs": [],
   "source": [
    "X_tr_oss, y_tr_oss = oss.fit_resample(X_tr, y_tr)\n",
    "ossm = rfcb.fit(X_tr_oss, y_tr_oss)\n",
    "y_pred_oss_tr = ossm.predict(X_tr_oss)\n",
    "y_pred_oss_val = ossm.predict(X_val)"
   ]
  },
  {
   "cell_type": "code",
   "execution_count": 18,
   "metadata": {},
   "outputs": [
    {
     "output_type": "stream",
     "name": "stdout",
     "text": [
      "Training Count:  Counter({0: 10206, 1: 4656})\n",
      "Training Accuracy:  0.846117615394967\n",
      "Validation Accuracy:  0.7911666666666667\n",
      "Training F1 Score:  0.7005368600235694\n",
      "Validation F1 Score:  0.5326370757180157\n",
      "Training AUC Score:  0.8880858755512726\n",
      "Validation AUC Score:  0.7786070625903574\n",
      "Training Recall Score:  0.5745274914089347\n",
      "Validation Recall Score:  0.5437928408225438\n",
      "Training Precision Score:  0.897349882589735\n",
      "Validation Precision Score:  0.5219298245614035\n",
      "Training Average Precision Score:  0.8419235879154527\n",
      "Validation Average Precision Score:  0.5281597053047045\n"
     ]
    }
   ],
   "source": [
    "ncr = NeighbourhoodCleaningRule(n_neighbors=3, threshold_cleaning=0.5)\n",
    "sampling(X_tr, y_tr, X_val, y_val, ncr, rfcb)"
   ]
  },
  {
   "cell_type": "code",
   "execution_count": 19,
   "metadata": {},
   "outputs": [],
   "source": [
    "X_tr_ncr, y_tr_ncr = ncr.fit_resample(X_tr, y_tr)\n",
    "ncrm = rfcb.fit(X_tr_ncr, y_tr_ncr)\n",
    "y_pred_ncr_tr = ncrm.predict(X_tr_ncr)\n",
    "y_pred_ncr_val = ncrm.predict(X_val)"
   ]
  },
  {
   "source": [
    "# Oversampling Methods"
   ],
   "cell_type": "markdown",
   "metadata": {}
  },
  {
   "source": [
    "## SMOTE"
   ],
   "cell_type": "markdown",
   "metadata": {}
  },
  {
   "cell_type": "code",
   "execution_count": 20,
   "metadata": {},
   "outputs": [
    {
     "output_type": "stream",
     "name": "stdout",
     "text": [
      "Training Count:  Counter({0: 16344, 1: 16344})\n",
      "Training Accuracy:  0.7598813020068527\n",
      "Validation Accuracy:  0.7636666666666667\n",
      "Training F1 Score:  0.7416987527561129\n",
      "Validation F1 Score:  0.524798927613941\n",
      "Training AUC Score:  0.8428007150893575\n",
      "Validation AUC Score:  0.7736144000574583\n",
      "Training Recall Score:  0.6894884973078805\n",
      "Validation Recall Score:  0.5963442498095963\n",
      "Training Precision Score:  0.8024638609983622\n",
      "Validation Precision Score:  0.46858168761220825\n",
      "Training Average Precision Score:  0.849865392961803\n",
      "Validation Average Precision Score:  0.5357606777880041\n"
     ]
    }
   ],
   "source": [
    "sm = SMOTE(sampling_strategy='minority', random_state=42)\n",
    "sampling(X_tr, y_tr, X_val, y_val, sm, rfcb)"
   ]
  },
  {
   "cell_type": "code",
   "execution_count": 21,
   "metadata": {},
   "outputs": [],
   "source": [
    "X_tr_sm, y_tr_sm = sm.fit_resample(X_tr, y_tr)\n",
    "smm = rfcb.fit(X_tr_sm, y_tr_sm)\n",
    "y_pred_sm_tr = smm.predict(X_tr_sm)\n",
    "y_pred_sm_val = smm.predict(X_val)"
   ]
  },
  {
   "source": [
    "## SVMSMOTE"
   ],
   "cell_type": "markdown",
   "metadata": {}
  },
  {
   "cell_type": "code",
   "execution_count": 22,
   "metadata": {},
   "outputs": [
    {
     "output_type": "stream",
     "name": "stdout",
     "text": [
      "Training Count:  Counter({0: 16344, 1: 16344})\n",
      "Training Accuracy:  0.7865883504650024\n",
      "Validation Accuracy:  0.777\n",
      "Training F1 Score:  0.7722494286647079\n",
      "Validation F1 Score:  0.5324947589098532\n",
      "Training AUC Score:  0.877603191472667\n",
      "Validation AUC Score:  0.7752159519508433\n",
      "Training Recall Score:  0.7236294664708761\n",
      "Validation Recall Score:  0.5803503427265804\n",
      "Training Precision Score:  0.8278734425311494\n",
      "Validation Precision Score:  0.4919302775984506\n",
      "Training Average Precision Score:  0.8864177983868675\n",
      "Validation Average Precision Score:  0.5382684997594274\n"
     ]
    }
   ],
   "source": [
    "svmsm = SVMSMOTE()\n",
    "sampling(X_tr, y_tr, X_val, y_val, svmsm, rfcb)"
   ]
  },
  {
   "cell_type": "code",
   "execution_count": 23,
   "metadata": {},
   "outputs": [],
   "source": [
    "X_tr_svm, y_tr_svm = svmsm.fit_resample(X_tr, y_tr)\n",
    "svmsmote = rfcb.fit(X_tr_svm, y_tr_svm)\n",
    "y_pred_svmsm_tr = svmsmote.predict(X_tr_svm)\n",
    "y_pred_svmsm_val = svmsmote.predict(X_val)"
   ]
  },
  {
   "source": [
    "## ADASYN"
   ],
   "cell_type": "markdown",
   "metadata": {}
  },
  {
   "cell_type": "code",
   "execution_count": 24,
   "metadata": {},
   "outputs": [
    {
     "output_type": "stream",
     "name": "stdout",
     "text": [
      "Training Count:  Counter({0: 16344, 1: 15798})\n",
      "Training Accuracy:  0.7357662871009893\n",
      "Validation Accuracy:  0.7346666666666667\n",
      "Training F1 Score:  0.7162473689485817\n",
      "Validation F1 Score:  0.5086419753086419\n",
      "Training AUC Score:  0.8099940329008108\n",
      "Validation AUC Score:  0.7700356888029976\n",
      "Training Recall Score:  0.6785036080516521\n",
      "Validation Recall Score:  0.6275704493526276\n",
      "Training Precision Score:  0.7584376990023349\n",
      "Validation Precision Score:  0.4276076803321225\n",
      "Training Average Precision Score:  0.8050639820385264\n",
      "Validation Average Precision Score:  0.5344189933451883\n"
     ]
    }
   ],
   "source": [
    "adsn = ADASYN()\n",
    "sampling(X_tr, y_tr, X_val, y_val, adsn, rfcb)"
   ]
  },
  {
   "cell_type": "code",
   "execution_count": 25,
   "metadata": {},
   "outputs": [],
   "source": [
    "X_tr_adsn, y_tr_adsn = adsn.fit_resample(X_tr, y_tr)\n",
    "adsnm = rfcb.fit(X_tr_adsn, y_tr_adsn)\n",
    "y_pred_adsnm_tr = adsnm.predict(X_tr_adsn)\n",
    "y_pred_adsnm_val = adsnm.predict(X_val)"
   ]
  },
  {
   "source": [
    "# Combined Methods"
   ],
   "cell_type": "markdown",
   "metadata": {}
  },
  {
   "source": [
    "## SMOTE Tomek"
   ],
   "cell_type": "markdown",
   "metadata": {}
  },
  {
   "cell_type": "code",
   "execution_count": 26,
   "metadata": {},
   "outputs": [
    {
     "output_type": "stream",
     "name": "stdout",
     "text": [
      "Training Count:  Counter({0: 15434, 1: 15434})\n",
      "Training Accuracy:  0.7724180380977064\n",
      "Validation Accuracy:  0.763\n",
      "Training F1 Score:  0.7557456277598136\n",
      "Validation F1 Score:  0.5237776289350301\n",
      "Training AUC Score:  0.8551836359594372\n",
      "Validation AUC Score:  0.7718141978810312\n",
      "Training Recall Score:  0.7041596475314241\n",
      "Validation Recall Score:  0.5955826351865956\n",
      "Training Precision Score:  0.8154873564943348\n",
      "Validation Precision Score:  0.4674237895995218\n",
      "Training Average Precision Score:  0.861548443411833\n",
      "Validation Average Precision Score:  0.5344147248352176\n"
     ]
    }
   ],
   "source": [
    "smtk = SMOTETomek()\n",
    "sampling(X_tr, y_tr, X_val, y_val, smtk, rfcb)"
   ]
  },
  {
   "cell_type": "code",
   "execution_count": 27,
   "metadata": {},
   "outputs": [],
   "source": [
    "X_tr_smt, y_tr_smt = smtk.fit_resample(X_tr, y_tr)\n",
    "smtkm = rfcb.fit(X_tr_smt, y_tr_smt)\n",
    "y_pred_smtk_tr = smtkm.predict(X_tr_smt)\n",
    "y_pred_smtk_val = smtkm.predict(X_val)"
   ]
  },
  {
   "source": [
    "## SMOTE ENN"
   ],
   "cell_type": "markdown",
   "metadata": {}
  },
  {
   "cell_type": "code",
   "execution_count": 28,
   "metadata": {},
   "outputs": [
    {
     "output_type": "stream",
     "name": "stdout",
     "text": [
      "Training Count:  Counter({1: 10841, 0: 8601})\n",
      "Training Accuracy:  0.8672976031272502\n",
      "Validation Accuracy:  0.7315\n",
      "Training F1 Score:  0.8749272833042466\n",
      "Validation F1 Score:  0.5175202156334232\n",
      "Training AUC Score:  0.9476800840071958\n",
      "Validation AUC Score:  0.7734414240032266\n",
      "Training Recall Score:  0.8323955354672078\n",
      "Validation Recall Score:  0.6580350342726581\n",
      "Training Precision Score:  0.922039440073567\n",
      "Validation Precision Score:  0.42645607107601186\n",
      "Training Average Precision Score:  0.9636258846533216\n",
      "Validation Average Precision Score:  0.5238793379222708\n"
     ]
    }
   ],
   "source": [
    "smenn = SMOTEENN(sampling_strategy=\"minority\", n_jobs= -1)\n",
    "sampling(X_tr, y_tr, X_val, y_val, smenn, rfcb)"
   ]
  },
  {
   "cell_type": "code",
   "execution_count": 29,
   "metadata": {},
   "outputs": [],
   "source": [
    "X_tr_sme, y_tr_sme = smenn.fit_resample(X_tr, y_tr)\n",
    "smennm = rfcb.fit(X_tr_sme, y_tr_sme)\n",
    "y_pred_smenn_tr = smennm.predict(X_tr_sme)\n",
    "y_pred_smenn_val = smennm.predict(X_val)"
   ]
  },
  {
   "source": [
    "# SMOTE Variants"
   ],
   "cell_type": "markdown",
   "metadata": {}
  },
  {
   "cell_type": "code",
   "execution_count": 30,
   "metadata": {},
   "outputs": [
    {
     "output_type": "stream",
     "name": "stderr",
     "text": [
      "2021-04-16 17:19:22,537:INFO:polynom_fit_SMOTE: Running sampling via ('polynom_fit_SMOTE', \"{'proportion': 1.0, 'topology': 'star'}\")\n",
      "Training Count:  Counter({1: 18624, 0: 16344})\n",
      "Training Accuracy:  0.8984500114390299\n",
      "Validation Accuracy:  0.8211666666666667\n",
      "Training F1 Score:  0.8991680154470851\n",
      "Validation F1 Score:  0.47168882323978334\n",
      "Training AUC Score:  0.9572546356350702\n",
      "Validation AUC Score:  0.7792807673539506\n",
      "Training Recall Score:  0.8501396048109966\n",
      "Validation Recall Score:  0.3648134044173648\n",
      "Training Precision Score:  0.954197553185078\n",
      "Validation Precision Score:  0.6671309192200557\n",
      "Training Average Precision Score:  0.970652150241486\n",
      "Validation Average Precision Score:  0.5459309732931904\n"
     ]
    }
   ],
   "source": [
    "pfsm = sv.polynom_fit_SMOTE()\n",
    "sampling2(X_tr, y_tr, X_val, y_val, pfsm, rfcb)"
   ]
  },
  {
   "cell_type": "code",
   "execution_count": 31,
   "metadata": {},
   "outputs": [
    {
     "output_type": "stream",
     "name": "stderr",
     "text": [
      "2021-04-16 17:19:35,712:INFO:polynom_fit_SMOTE: Running sampling via ('polynom_fit_SMOTE', \"{'proportion': 1.0, 'topology': 'star'}\")\n"
     ]
    }
   ],
   "source": [
    "X_tr_pfs, y_tr_pfs = pfsm.sample(X_tr, y_tr)\n",
    "pfsmm = rfcb.fit(X_tr_pfs, y_tr_pfs)\n",
    "y_pred_pfsm_tr = pfsmm.predict(X_tr_pfs)\n",
    "y_pred_pfsm_val = pfsmm.predict(X_val)"
   ]
  },
  {
   "cell_type": "code",
   "execution_count": 32,
   "metadata": {},
   "outputs": [
    {
     "output_type": "stream",
     "name": "stderr",
     "text": [
      "2021-04-16 17:19:46,913:INFO:ProWSyn: Running sampling via ('ProWSyn', \"{'proportion': 1.0, 'n_neighbors': 5, 'L': 5, 'theta': 1.0, 'n_jobs': 1}\")\n",
      "Training Count:  Counter({0: 16344, 1: 16344})\n",
      "Training Accuracy:  0.8688509544787077\n",
      "Validation Accuracy:  0.8128333333333333\n",
      "Training F1 Score:  0.8602353861702473\n",
      "Validation F1 Score:  0.48884842967683206\n",
      "Training AUC Score:  0.9341265231893869\n",
      "Validation AUC Score:  0.7709209622115974\n",
      "Training Recall Score:  0.8072075379344101\n",
      "Validation Recall Score:  0.408987052551409\n",
      "Training Precision Score:  0.920720217740247\n",
      "Validation Precision Score:  0.6074660633484162\n",
      "Training Average Precision Score:  0.9476394043011918\n",
      "Validation Average Precision Score:  0.5385448336584753\n"
     ]
    }
   ],
   "source": [
    "pws = sv.ProWSyn()\n",
    "sampling2(X_tr, y_tr, X_val, y_val, pws, rfcb)"
   ]
  },
  {
   "cell_type": "code",
   "execution_count": 33,
   "metadata": {},
   "outputs": [
    {
     "output_type": "stream",
     "name": "stderr",
     "text": [
      "2021-04-16 17:20:03,190:INFO:ProWSyn: Running sampling via ('ProWSyn', \"{'proportion': 1.0, 'n_neighbors': 5, 'L': 5, 'theta': 1.0, 'n_jobs': 1}\")\n"
     ]
    }
   ],
   "source": [
    "X_tr_pws, y_tr_pws = pws.sample(X_tr, y_tr)\n",
    "pwsm = rfcb.fit(X_tr_pws, y_tr_pws)\n",
    "y_pred_pws_tr = pwsm.predict(X_tr_pws)\n",
    "y_pred_pws_val = pwsm.predict(X_val)"
   ]
  },
  {
   "cell_type": "code",
   "execution_count": 34,
   "metadata": {},
   "outputs": [
    {
     "output_type": "stream",
     "name": "stderr",
     "text": [
      "2021-04-16 17:20:17,227:INFO:SMOTE_IPF: Running sampling via ('SMOTE_IPF', \"{'proportion': 1.0, 'n_neighbors': 5, 'n_folds': 9, 'k': 3, 'p': 0.01, 'voting': 'majority', 'n_jobs': 1, 'classifier': DecisionTreeClassifier()}\")\n",
      "2021-04-16 17:20:17,228:INFO:SMOTE: Running sampling via ('SMOTE', \"{'proportion': 1.0, 'n_neighbors': 5, 'n_jobs': 1}\")\n",
      "2021-04-16 17:20:19,687:INFO:SMOTE_IPF: Removing 44 elements\n",
      "2021-04-16 17:20:21,682:INFO:SMOTE_IPF: Removing 0 elements\n",
      "2021-04-16 17:20:23,670:INFO:SMOTE_IPF: Removing 0 elements\n",
      "Training Count:  Counter({0: 16335, 1: 16309})\n",
      "Training Accuracy:  0.7594657517461095\n",
      "Validation Accuracy:  0.761\n",
      "Training F1 Score:  0.7412509062149871\n",
      "Validation F1 Score:  0.5207219251336899\n",
      "Training AUC Score:  0.8441428857590598\n",
      "Validation AUC Score:  0.7727691004481452\n",
      "Training Recall Score:  0.6896192286467595\n",
      "Validation Recall Score:  0.5932977913175933\n",
      "Training Precision Score:  0.8012395811070742\n",
      "Validation Precision Score:  0.4639666468135795\n",
      "Training Average Precision Score:  0.8504208705240028\n",
      "Validation Average Precision Score:  0.5357477115485982\n"
     ]
    }
   ],
   "source": [
    "smipf = sv.SMOTE_IPF()\n",
    "sampling2(X_tr, y_tr, X_val, y_val, smipf, rfcb)"
   ]
  },
  {
   "source": [
    "X_tr_smi, y_tr_smi = smipf.sample(X_tr, y_tr)\n",
    "smipfm = rfcb.fit(X_tr_smi, y_tr_smi)\n",
    "y_pred_smipf_tr = smipfm.predict(X_tr_smi)\n",
    "y_pred_smipf_val = smipfm.predict(X_val)"
   ],
   "cell_type": "code",
   "metadata": {},
   "execution_count": 35,
   "outputs": [
    {
     "output_type": "stream",
     "name": "stderr",
     "text": [
      "2021-04-16 17:20:38,414:INFO:SMOTE_IPF: Running sampling via ('SMOTE_IPF', \"{'proportion': 1.0, 'n_neighbors': 5, 'n_folds': 9, 'k': 3, 'p': 0.01, 'voting': 'majority', 'n_jobs': 1, 'classifier': DecisionTreeClassifier()}\")\n",
      "2021-04-16 17:20:38,416:INFO:SMOTE: Running sampling via ('SMOTE', \"{'proportion': 1.0, 'n_neighbors': 5, 'n_jobs': 1}\")\n",
      "2021-04-16 17:20:41,233:INFO:SMOTE_IPF: Removing 44 elements\n",
      "2021-04-16 17:20:43,485:INFO:SMOTE_IPF: Removing 0 elements\n",
      "2021-04-16 17:20:45,568:INFO:SMOTE_IPF: Removing 0 elements\n"
     ]
    }
   ]
  },
  {
   "cell_type": "code",
   "execution_count": 36,
   "metadata": {},
   "outputs": [
    {
     "output_type": "stream",
     "name": "stderr",
     "text": [
      "2021-04-16 17:20:57,661:INFO:SMOBD: Running sampling via ('SMOBD', \"{'proportion': 1.0, 'eta1': 0.5, 't': 1.8, 'min_samples': 5, 'max_eps': 1.0, 'n_jobs': 1}\")\n",
      "Training Count:  Counter({0: 16344, 1: 16344})\n",
      "Training Accuracy:  0.7812347038668624\n",
      "Validation Accuracy:  0.756\n",
      "Training F1 Score:  0.771963391689786\n",
      "Validation F1 Score:  0.5187376725838264\n",
      "Training AUC Score:  0.8652088931433553\n",
      "Validation AUC Score:  0.7746990549771361\n",
      "Training Recall Score:  0.7405775819872736\n",
      "Validation Recall Score:  0.6009139375476009\n",
      "Training Precision Score:  0.8061272061272061\n",
      "Validation Precision Score:  0.45633314054366686\n",
      "Training Average Precision Score:  0.8722611390691086\n",
      "Validation Average Precision Score:  0.5386363108200776\n"
     ]
    }
   ],
   "source": [
    "smobd = sv.SMOBD()\n",
    "sampling2(X_tr, y_tr, X_val, y_val, smobd, rfcb)"
   ]
  },
  {
   "cell_type": "code",
   "execution_count": 37,
   "metadata": {},
   "outputs": [
    {
     "output_type": "stream",
     "name": "stderr",
     "text": [
      "2021-04-16 17:21:24,981:INFO:SMOBD: Running sampling via ('SMOBD', \"{'proportion': 1.0, 'eta1': 0.5, 't': 1.8, 'min_samples': 5, 'max_eps': 1.0, 'n_jobs': 1}\")\n"
     ]
    }
   ],
   "source": [
    "X_tr_smo, y_tr_smo = smobd.sample(X_tr, y_tr)\n",
    "smobdm = rfcb.fit(X_tr_smo, y_tr_smo)\n",
    "y_pred_smobd_tr = smobdm.predict(X_tr_smo)\n",
    "y_pred_smobd_val = smobdm.predict(X_val)"
   ]
  },
  {
   "cell_type": "code",
   "execution_count": 38,
   "metadata": {},
   "outputs": [
    {
     "output_type": "stream",
     "name": "stderr",
     "text": [
      "2021-04-16 17:21:50,903:INFO:G_SMOTE: Running sampling via ('G_SMOTE', \"{'proportion': 1.0, 'n_neighbors': 5, 'method': 'linear', 'n_jobs': 1}\")\n",
      "Training Count:  Counter({0: 16344, 1: 16344})\n",
      "Training Accuracy:  0.768569505628977\n",
      "Validation Accuracy:  0.7713333333333333\n",
      "Training F1 Score:  0.7497270652066034\n",
      "Validation F1 Score:  0.5265700483091788\n",
      "Training AUC Score:  0.8492055141279669\n",
      "Validation AUC Score:  0.7721363444545535\n",
      "Training Recall Score:  0.6932819383259912\n",
      "Validation Recall Score:  0.5811119573495811\n",
      "Training Precision Score:  0.8161780594972268\n",
      "Validation Precision Score:  0.48138801261829656\n",
      "Training Average Precision Score:  0.8588620049562558\n",
      "Validation Average Precision Score:  0.5377825125993618\n"
     ]
    }
   ],
   "source": [
    "gsm = sv.G_SMOTE()\n",
    "sampling2(X_tr, y_tr, X_val, y_val, gsm, rfcb)"
   ]
  },
  {
   "cell_type": "code",
   "execution_count": 39,
   "metadata": {},
   "outputs": [
    {
     "output_type": "stream",
     "name": "stderr",
     "text": [
      "2021-04-16 17:22:06,493:INFO:G_SMOTE: Running sampling via ('G_SMOTE', \"{'proportion': 1.0, 'n_neighbors': 5, 'method': 'linear', 'n_jobs': 1}\")\n"
     ]
    }
   ],
   "source": [
    "X_tr_gsm, y_tr_gsm = gsm.sample(X_tr, y_tr)\n",
    "gsmm = rfcb.fit(X_tr_gsm, y_tr_gsm)\n",
    "y_pred_gsm_tr = gsmm.predict(X_tr_gsm)\n",
    "y_pred_gsm_val = gsmm.predict(X_val)"
   ]
  },
  {
   "cell_type": "code",
   "execution_count": 40,
   "metadata": {},
   "outputs": [
    {
     "output_type": "stream",
     "name": "stderr",
     "text": [
      "2021-04-16 17:22:20,632:INFO:CCR: Running sampling via ('CCR', \"{'proportion': 1.0, 'energy': 1.0, 'scaling': 0.0, 'n_jobs': 1}\")\n",
      "Training Count:  Counter({0: 16344, 1: 16326})\n",
      "Training Accuracy:  0.8866850321395776\n",
      "Validation Accuracy:  0.8205\n",
      "Training F1 Score:  0.878900883218842\n",
      "Validation F1 Score:  0.4691966485953672\n",
      "Training AUC Score:  0.9379536391237782\n",
      "Validation AUC Score:  0.771606447871322\n",
      "Training Recall Score:  0.822859242925395\n",
      "Validation Recall Score:  0.3625285605483625\n",
      "Training Precision Score:  0.943133951137321\n",
      "Validation Precision Score:  0.664804469273743\n",
      "Training Average Precision Score:  0.9545171097518231\n",
      "Validation Average Precision Score:  0.5377121590344558\n"
     ]
    }
   ],
   "source": [
    "ccr = sv.CCR()\n",
    "sampling2(X_tr, y_tr, X_val, y_val, ccr, rfcb)"
   ]
  },
  {
   "cell_type": "code",
   "execution_count": 41,
   "metadata": {},
   "outputs": [
    {
     "output_type": "stream",
     "name": "stderr",
     "text": [
      "2021-04-16 17:22:43,778:INFO:CCR: Running sampling via ('CCR', \"{'proportion': 1.0, 'energy': 1.0, 'scaling': 0.0, 'n_jobs': 1}\")\n"
     ]
    }
   ],
   "source": [
    "X_tr_ccr, y_tr_ccr = ccr.sample(X_tr, y_tr)\n",
    "ccrm = rfcb.fit(X_tr_ccr, y_tr_ccr)\n",
    "y_pred_ccr_tr = ccrm.predict(X_tr_ccr)\n",
    "y_pred_ccr_val = ccrm.predict(X_val)"
   ]
  },
  {
   "cell_type": "code",
   "execution_count": 42,
   "metadata": {},
   "outputs": [
    {
     "output_type": "stream",
     "name": "stderr",
     "text": [
      "2021-04-16 17:23:04,766:INFO:LVQ_SMOTE: Running sampling via ('LVQ_SMOTE', \"{'proportion': 1.0, 'n_neighbors': 5, 'n_clusters': 10, 'n_jobs': 1}\")\n",
      "Training Count:  Counter({0: 16344, 1: 16344})\n",
      "Training Accuracy:  0.8913362701908958\n",
      "Validation Accuracy:  0.8178333333333333\n",
      "Training F1 Score:  0.8847875445994162\n",
      "Validation F1 Score:  0.47325301204819276\n",
      "Training AUC Score:  0.943388539571029\n",
      "Validation AUC Score:  0.7656511642531537\n",
      "Training Recall Score:  0.8344958394517866\n",
      "Validation Recall Score:  0.37395277989337394\n",
      "Training Precision Score:  0.941529752864835\n",
      "Validation Precision Score:  0.6443569553805775\n",
      "Training Average Precision Score:  0.9583065728006597\n",
      "Validation Average Precision Score:  0.5241524796023469\n"
     ]
    }
   ],
   "source": [
    "lvq = sv.LVQ_SMOTE()\n",
    "sampling2(X_tr, y_tr, X_val, y_val, lvq, rfcb)"
   ]
  },
  {
   "cell_type": "code",
   "execution_count": 43,
   "metadata": {},
   "outputs": [
    {
     "output_type": "stream",
     "name": "stderr",
     "text": [
      "2021-04-16 17:23:22,041:INFO:LVQ_SMOTE: Running sampling via ('LVQ_SMOTE', \"{'proportion': 1.0, 'n_neighbors': 5, 'n_clusters': 10, 'n_jobs': 1}\")\n"
     ]
    }
   ],
   "source": [
    "X_tr_lvq, y_tr_lvq = lvq.sample(X_tr, y_tr)\n",
    "lvqm = rfcb.fit(X_tr_lvq, y_tr_lvq)\n",
    "y_pred_lvq_tr = lvqm.predict(X_tr_lvq)\n",
    "y_pred_lvq_val = lvqm.predict(X_val)"
   ]
  },
  {
   "cell_type": "code",
   "execution_count": 44,
   "metadata": {},
   "outputs": [
    {
     "output_type": "stream",
     "name": "stderr",
     "text": [
      "2021-04-16 17:30:20,062:INFO:Assembled_SMOTE: Running sampling via ('Assembled_SMOTE', \"{'proportion': 1.0, 'n_neighbors': 5, 'pop': 2, 'thres': 0.3, 'n_jobs': 1}\")\n",
      "Training Count:  Counter({0: 16344, 1: 16344})\n",
      "Training Accuracy:  0.7599730788056779\n",
      "Validation Accuracy:  0.7666666666666667\n",
      "Training F1 Score:  0.7401642601669095\n",
      "Validation F1 Score:  0.525101763907734\n",
      "Training AUC Score:  0.8438034990305112\n",
      "Validation AUC Score:  0.7722402600831878\n",
      "Training Recall Score:  0.6837371512481645\n",
      "Validation Recall Score:  0.5894897182025894\n",
      "Training Precision Score:  0.8067427086341322\n",
      "Validation Precision Score:  0.47339449541284406\n",
      "Training Average Precision Score:  0.8509803965962606\n",
      "Validation Average Precision Score:  0.5359082571907731\n"
     ]
    }
   ],
   "source": [
    "ass = sv.Assembled_SMOTE()\n",
    "sampling2(X_tr, y_tr, X_val, y_val, ass, rfcb)"
   ]
  },
  {
   "cell_type": "code",
   "execution_count": 45,
   "metadata": {},
   "outputs": [
    {
     "output_type": "stream",
     "name": "stderr",
     "text": [
      "2021-04-16 17:35:17,729:INFO:Assembled_SMOTE: Running sampling via ('Assembled_SMOTE', \"{'proportion': 1.0, 'n_neighbors': 5, 'pop': 2, 'thres': 0.3, 'n_jobs': 1}\")\n"
     ]
    }
   ],
   "source": [
    "X_tr_ass, y_tr_ass = ass.sample(X_tr, y_tr)\n",
    "assm = rfcb.fit(X_tr_ass, y_tr_ass)\n",
    "y_pred_ass_tr = assm.predict(X_tr_ass)\n",
    "y_pred_ass_val = assm.predict(X_val)"
   ]
  },
  {
   "cell_type": "code",
   "execution_count": 56,
   "metadata": {},
   "outputs": [],
   "source": [
    "data = {'Accuracy': [\"\",\n",
    "                     accuracy(y_val, y_pred_bc_val),\n",
    "                     accuracy(y_val, y_pred_bbc_val),\n",
    "                     accuracy(y_val, y_pred_bbc3_val),\n",
    "                     accuracy(y_val, y_pred_brf_val),\n",
    "                     accuracy(y_val, y_pred_rbc_val),\n",
    "                     accuracy(y_val, y_pred_eec_val),\n",
    "                     \"\",\n",
    "                     accuracy(y_val, y_pred_tl_val),\n",
    "                     accuracy(y_val, y_pred_enn_val),\n",
    "                     accuracy(y_val, y_pred_oss_val),\n",
    "                     accuracy(y_val, y_pred_ncr_val),\n",
    "                     \"\",\n",
    "                     accuracy(y_val, y_pred_sm_val),\n",
    "                     accuracy(y_val, y_pred_svmsm_val),\n",
    "                     accuracy(y_val, y_pred_adsnm_val),\n",
    "                     \"\",\n",
    "                     accuracy(y_val, y_pred_smtk_val),\n",
    "                     accuracy(y_val, y_pred_smenn_val),\n",
    "                     \"\",\n",
    "                     accuracy(y_val, y_pred_pfsm_val),\n",
    "                     accuracy(y_val, y_pred_pws_val),\n",
    "                     accuracy(y_val, y_pred_smipf_val),\n",
    "                     accuracy(y_val, y_pred_smobd_val),\n",
    "                     accuracy(y_val, y_pred_gsm_val),\n",
    "                     accuracy(y_val, y_pred_ccr_val),\n",
    "                     accuracy(y_val, y_pred_lvq_val),\n",
    "                     accuracy(y_val, y_pred_ass_val)],\n",
    "    'F1 Score': [\"\",\n",
    "                f1_score(y_val, y_pred_bc_val),\n",
    "                f1_score(y_val, y_pred_bbc_val),\n",
    "                f1_score(y_val, y_pred_bbc3_val),\n",
    "                f1_score(y_val, y_pred_brf_val),\n",
    "                f1_score(y_val, y_pred_rbc_val),\n",
    "                f1_score(y_val, y_pred_eec_val),\n",
    "                \"\",\n",
    "                f1_score(y_val, y_pred_tl_val),\n",
    "                f1_score(y_val, y_pred_enn_val),\n",
    "                f1_score(y_val, y_pred_oss_val),\n",
    "                f1_score(y_val, y_pred_ncr_val),\n",
    "                \"\",\n",
    "                f1_score(y_val, y_pred_sm_val),\n",
    "                f1_score(y_val, y_pred_svmsm_val),\n",
    "                f1_score(y_val, y_pred_adsnm_val),\n",
    "                \"\",\n",
    "                f1_score(y_val, y_pred_smtk_val),\n",
    "                f1_score(y_val, y_pred_smenn_val),\n",
    "                \"\",\n",
    "                f1_score(y_val, y_pred_pfsm_val),\n",
    "                f1_score(y_val, y_pred_pws_val),\n",
    "                f1_score(y_val, y_pred_smipf_val),\n",
    "                f1_score(y_val, y_pred_smobd_val),\n",
    "                f1_score(y_val, y_pred_gsm_val),\n",
    "                f1_score(y_val, y_pred_ccr_val),\n",
    "                f1_score(y_val, y_pred_lvq_val),\n",
    "                f1_score(y_val, y_pred_ass_val)],\n",
    "    'PR AUC Score': [\"\",\n",
    "              aps(X_val, y_val, bc),\n",
    "              aps(X_val, y_val, bbc),\n",
    "              aps(X_val, y_val, bbc3),\n",
    "              aps(X_val, y_val, brf),\n",
    "              aps(X_val, y_val, rbc),\n",
    "              aps(X_val, y_val, eec),\n",
    "              \"\",\n",
    "              aps(X_val, y_val, tlm),\n",
    "              aps(X_val, y_val, ennm),\n",
    "              \"\",\n",
    "              \"\",\n",
    "              \"\",\n",
    "              aps(X_val, y_val, smm),\n",
    "              aps(X_val, y_val, svmsmote),\n",
    "              aps(X_val, y_val, adsnm),\n",
    "              \"\",\n",
    "              aps(X_val, y_val, smtkm),\n",
    "              aps(X_val, y_val, smennm),\n",
    "              \"\",\n",
    "              aps(X_val, y_val, pfsmm),\n",
    "              aps(X_val, y_val, pwsm),\n",
    "              aps(X_val, y_val, smipfm),\n",
    "              aps(X_val, y_val, smobdm),\n",
    "              aps(X_val, y_val, gsmm),\n",
    "              aps(X_val, y_val, ccrm),\n",
    "              aps(X_val, y_val, lvqm),\n",
    "              aps(X_val, y_val, assm)]}\n",
    "scores = pd.DataFrame(data=data, index = ['ENSEMBLE METHODS',\n",
    "                                          'BaggingClassifier',\n",
    "                                          'BalancedBaggingClassifier',\n",
    "                                          'BBC with GradientBoostingClassifier',\n",
    "                                          'BalancedRandomForestClassifier',\n",
    "                                          'RUBoostClassifier',\n",
    "                                          'EasyEnsembleClassifier',\n",
    "                                          'UNDERSAMPLING METHODS',\n",
    "                                          'TomekLinks',\n",
    "                                          'EditedNearestNeighbours',\n",
    "                                          'OneSidedSelection',\n",
    "                                          'NeighbourhoodCleaningRule',\n",
    "                                          'OVERSAMPLING METHODS',\n",
    "                                          'SMOTE',\n",
    "                                          'SVMSMOTE',\n",
    "                                          'ADASYN',\n",
    "                                          'COMBINED METHODS',\n",
    "                                          'SMOTETomek',\n",
    "                                          'SMOTEENN',\n",
    "                                          'SMOTE-VARIANTS',\n",
    "                                          'sv.polynom_fit_SMOTE',\n",
    "                                          'sv.ProWSyn',\n",
    "                                          'sv.SMOTE_IPF',\n",
    "                                          'sv.SMOBD',\n",
    "                                          'sv.G_SMOTE',\n",
    "                                          'sv.CCR',\n",
    "                                          'sv.LQV_SMOTE',\n",
    "                                          'sv.Assembled_SMOTE'])"
   ]
  },
  {
   "cell_type": "code",
   "execution_count": 57,
   "metadata": {},
   "outputs": [
    {
     "output_type": "execute_result",
     "data": {
      "text/plain": [
       "                                     Accuracy  F1 Score PR AUC Score\n",
       "ENSEMBLE METHODS                                                    \n",
       "BaggingClassifier                       0.807  0.443269     0.204693\n",
       "BalancedBaggingClassifier            0.763167   0.51118     0.307574\n",
       "BBC with GradientBoostingClassifier  0.753333  0.527157      0.43927\n",
       "BalancedRandomForestClassifier          0.724  0.508314     0.511147\n",
       "RUBoostClassifier                    0.756667  0.519737     0.524461\n",
       "EasyEnsembleClassifier               0.751667  0.527883     0.526296\n",
       "UNDERSAMPLING METHODS                                               \n",
       "TomekLinks                           0.820667  0.491012     0.533732\n",
       "EditedNearestNeighbours              0.787333  0.528804     0.533732\n",
       "OneSidedSelection                    0.819833   0.49225             \n",
       "NeighbourhoodCleaningRule            0.790333  0.531297             \n",
       "OVERSAMPLING METHODS                                                \n",
       "SMOTE                                0.762167  0.522902     0.533732\n",
       "SVMSMOTE                               0.7705  0.530194     0.533732\n",
       "ADASYN                                  0.736  0.510507     0.533732\n",
       "COMBINED METHODS                                                    \n",
       "SMOTETomek                           0.763333  0.526667     0.533732\n",
       "SMOTEENN                             0.735667  0.518226     0.533732\n",
       "SMOTE-VARIANTS                                                      \n",
       "sv.polynom_fit_SMOTE                 0.821167  0.471168     0.533732\n",
       "sv.ProWSyn                           0.813333  0.491371     0.533732\n",
       "sv.SMOTE_IPF                         0.760167  0.518568     0.533732\n",
       "sv.SMOBD                                0.757  0.521967     0.533732\n",
       "sv.G_SMOTE                           0.765833  0.522596     0.533732\n",
       "sv.CCR                               0.821333  0.473477     0.533732\n",
       "sv.LQV_SMOTE                           0.8185  0.474167     0.533732\n",
       "sv.Assembled_SMOTE                     0.7635  0.521093     0.533732"
      ],
      "text/html": "<div>\n<style scoped>\n    .dataframe tbody tr th:only-of-type {\n        vertical-align: middle;\n    }\n\n    .dataframe tbody tr th {\n        vertical-align: top;\n    }\n\n    .dataframe thead th {\n        text-align: right;\n    }\n</style>\n<table border=\"1\" class=\"dataframe\">\n  <thead>\n    <tr style=\"text-align: right;\">\n      <th></th>\n      <th>Accuracy</th>\n      <th>F1 Score</th>\n      <th>PR AUC Score</th>\n    </tr>\n  </thead>\n  <tbody>\n    <tr>\n      <th>ENSEMBLE METHODS</th>\n      <td></td>\n      <td></td>\n      <td></td>\n    </tr>\n    <tr>\n      <th>BaggingClassifier</th>\n      <td>0.807</td>\n      <td>0.443269</td>\n      <td>0.204693</td>\n    </tr>\n    <tr>\n      <th>BalancedBaggingClassifier</th>\n      <td>0.763167</td>\n      <td>0.51118</td>\n      <td>0.307574</td>\n    </tr>\n    <tr>\n      <th>BBC with GradientBoostingClassifier</th>\n      <td>0.753333</td>\n      <td>0.527157</td>\n      <td>0.43927</td>\n    </tr>\n    <tr>\n      <th>BalancedRandomForestClassifier</th>\n      <td>0.724</td>\n      <td>0.508314</td>\n      <td>0.511147</td>\n    </tr>\n    <tr>\n      <th>RUBoostClassifier</th>\n      <td>0.756667</td>\n      <td>0.519737</td>\n      <td>0.524461</td>\n    </tr>\n    <tr>\n      <th>EasyEnsembleClassifier</th>\n      <td>0.751667</td>\n      <td>0.527883</td>\n      <td>0.526296</td>\n    </tr>\n    <tr>\n      <th>UNDERSAMPLING METHODS</th>\n      <td></td>\n      <td></td>\n      <td></td>\n    </tr>\n    <tr>\n      <th>TomekLinks</th>\n      <td>0.820667</td>\n      <td>0.491012</td>\n      <td>0.533732</td>\n    </tr>\n    <tr>\n      <th>EditedNearestNeighbours</th>\n      <td>0.787333</td>\n      <td>0.528804</td>\n      <td>0.533732</td>\n    </tr>\n    <tr>\n      <th>OneSidedSelection</th>\n      <td>0.819833</td>\n      <td>0.49225</td>\n      <td></td>\n    </tr>\n    <tr>\n      <th>NeighbourhoodCleaningRule</th>\n      <td>0.790333</td>\n      <td>0.531297</td>\n      <td></td>\n    </tr>\n    <tr>\n      <th>OVERSAMPLING METHODS</th>\n      <td></td>\n      <td></td>\n      <td></td>\n    </tr>\n    <tr>\n      <th>SMOTE</th>\n      <td>0.762167</td>\n      <td>0.522902</td>\n      <td>0.533732</td>\n    </tr>\n    <tr>\n      <th>SVMSMOTE</th>\n      <td>0.7705</td>\n      <td>0.530194</td>\n      <td>0.533732</td>\n    </tr>\n    <tr>\n      <th>ADASYN</th>\n      <td>0.736</td>\n      <td>0.510507</td>\n      <td>0.533732</td>\n    </tr>\n    <tr>\n      <th>COMBINED METHODS</th>\n      <td></td>\n      <td></td>\n      <td></td>\n    </tr>\n    <tr>\n      <th>SMOTETomek</th>\n      <td>0.763333</td>\n      <td>0.526667</td>\n      <td>0.533732</td>\n    </tr>\n    <tr>\n      <th>SMOTEENN</th>\n      <td>0.735667</td>\n      <td>0.518226</td>\n      <td>0.533732</td>\n    </tr>\n    <tr>\n      <th>SMOTE-VARIANTS</th>\n      <td></td>\n      <td></td>\n      <td></td>\n    </tr>\n    <tr>\n      <th>sv.polynom_fit_SMOTE</th>\n      <td>0.821167</td>\n      <td>0.471168</td>\n      <td>0.533732</td>\n    </tr>\n    <tr>\n      <th>sv.ProWSyn</th>\n      <td>0.813333</td>\n      <td>0.491371</td>\n      <td>0.533732</td>\n    </tr>\n    <tr>\n      <th>sv.SMOTE_IPF</th>\n      <td>0.760167</td>\n      <td>0.518568</td>\n      <td>0.533732</td>\n    </tr>\n    <tr>\n      <th>sv.SMOBD</th>\n      <td>0.757</td>\n      <td>0.521967</td>\n      <td>0.533732</td>\n    </tr>\n    <tr>\n      <th>sv.G_SMOTE</th>\n      <td>0.765833</td>\n      <td>0.522596</td>\n      <td>0.533732</td>\n    </tr>\n    <tr>\n      <th>sv.CCR</th>\n      <td>0.821333</td>\n      <td>0.473477</td>\n      <td>0.533732</td>\n    </tr>\n    <tr>\n      <th>sv.LQV_SMOTE</th>\n      <td>0.8185</td>\n      <td>0.474167</td>\n      <td>0.533732</td>\n    </tr>\n    <tr>\n      <th>sv.Assembled_SMOTE</th>\n      <td>0.7635</td>\n      <td>0.521093</td>\n      <td>0.533732</td>\n    </tr>\n  </tbody>\n</table>\n</div>"
     },
     "metadata": {},
     "execution_count": 57
    }
   ],
   "source": [
    "scores"
   ]
  },
  {
   "cell_type": "code",
   "execution_count": null,
   "metadata": {},
   "outputs": [],
   "source": []
  }
 ]
}