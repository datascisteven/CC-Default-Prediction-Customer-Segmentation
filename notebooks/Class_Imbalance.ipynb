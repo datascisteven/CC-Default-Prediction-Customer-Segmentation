{
 "metadata": {
  "language_info": {
   "codemirror_mode": {
    "name": "ipython",
    "version": 3
   },
   "file_extension": ".py",
   "mimetype": "text/x-python",
   "name": "python",
   "nbconvert_exporter": "python",
   "pygments_lexer": "ipython3",
   "version": "3.9.2"
  },
  "orig_nbformat": 2,
  "kernelspec": {
   "name": "python392jvsc74a57bd080773cdecc613a186b9eac051636553d2ff0f99c57590601666ed713bd5d0256",
   "display_name": "Python 3.9.2 64-bit ('learn-env': conda)"
  }
 },
 "nbformat": 4,
 "nbformat_minor": 2,
 "cells": [
  {
   "source": [
    "# Importing Packages"
   ],
   "cell_type": "markdown",
   "metadata": {}
  },
  {
   "cell_type": "code",
   "execution_count": 1,
   "metadata": {},
   "outputs": [],
   "source": [
    "import numpy as np \n",
    "import pandas as pd\n",
    "from matplotlib import pyplot as plt\n",
    "%matplotlib inline\n",
    "plt.style.use(\"fivethirtyeight\")\n",
    "import seaborn as sns\n",
    "import warnings\n",
    "warnings.filterwarnings('ignore')\n",
    "from collections import Counter\n",
    "import pickle\n",
    "\n",
    "%reload_ext autoreload\n",
    "%autoreload 2\n",
    "from utils import *\n",
    "\n",
    "import smote_variants as sv\n",
    "import imbalanced_databases as imbd\n",
    "import xgboost as xgb\n",
    "\n",
    "from sklearn.linear_model import LogisticRegression\n",
    "from sklearn.tree import DecisionTreeClassifier\n",
    "from sklearn.experimental import enable_hist_gradient_boosting\n",
    "from sklearn.ensemble import AdaBoostClassifier, GradientBoostingClassifier, RandomForestClassifier, BaggingClassifier, HistGradientBoostingClassifier\n",
    "from sklearn.model_selection import train_test_split, KFold, cross_val_score, cross_val_predict, GridSearchCV,RepeatedStratifiedKFold, cross_validate\n",
    "from sklearn.metrics import accuracy_score, confusion_matrix, precision_score, recall_score, f1_score, precision_recall_curve, roc_curve, roc_auc_score, classification_report, plot_confusion_matrix, auc, mean_squared_error, confusion_matrix, balanced_accuracy_score\n",
    "from sklearn.preprocessing import StandardScaler, MinMaxScaler\n",
    "from sklearn.utils import resample\n",
    "from sklearn.dummy import DummyClassifier\n",
    "from imblearn.metrics import geometric_mean_score\n",
    "\n",
    "from imblearn.under_sampling import CondensedNearestNeighbour, NearMiss, OneSidedSelection, NeighbourhoodCleaningRule, RandomUnderSampler, TomekLinks, EditedNearestNeighbours\n",
    "from imblearn.combine import SMOTETomek, SMOTEENN\n",
    "from imblearn.over_sampling import RandomOverSampler, SMOTE, ADASYN, SVMSMOTE\n",
    "from imblearn.ensemble import BalancedBaggingClassifier, BalancedRandomForestClassifier, EasyEnsembleClassifier, RUSBoostClassifier\n",
    "\n",
    "from xgboost.sklearn import XGBClassifier"
   ]
  },
  {
   "source": [
    "# Importing Training and Validation Datasets"
   ],
   "cell_type": "markdown",
   "metadata": {}
  },
  {
   "cell_type": "code",
   "execution_count": 2,
   "metadata": {},
   "outputs": [],
   "source": [
    "pickle_in = open(\"../data/pickles/training_model.pickle\",\"rb\")\n",
    "train = pickle.load(pickle_in)\n",
    "pickle_in = open(\"../data/pickles/validate_model.pickle\",\"rb\")\n",
    "validate = pickle.load(pickle_in)"
   ]
  },
  {
   "cell_type": "code",
   "execution_count": 3,
   "metadata": {},
   "outputs": [],
   "source": [
    "X_train = train.drop([\"default\"], axis=1)\n",
    "y_tr = train[\"default\"]\n",
    "X_validate = validate.drop([\"default\"], axis=1)\n",
    "y_val = validate[\"default\"]"
   ]
  },
  {
   "cell_type": "code",
   "execution_count": 4,
   "metadata": {},
   "outputs": [
    {
     "output_type": "execute_result",
     "data": {
      "text/plain": [
       "     limit  behind1    paid2  delayed  latemths  age  behind2  billed1  \\\n",
       "0  1790.26        0   179.13        0         0   44        0  1631.93   \n",
       "1  5728.83       -1   173.87        0         0   46       -1   891.69   \n",
       "2  3580.52       -1     0.00        0         0   47       -1   238.68   \n",
       "3  6086.88        0    89.26        0         0   29        0  2831.87   \n",
       "4  5370.78       -2  1171.37        0         0   33       -2   873.40   \n",
       "\n",
       "     avg_av    avail1  \n",
       "0  0.344578  0.088440  \n",
       "1  0.957227  0.844350  \n",
       "2  0.968650  0.933339  \n",
       "3  0.650602  0.534758  \n",
       "4  0.836153  0.837379  "
      ],
      "text/html": "<div>\n<style scoped>\n    .dataframe tbody tr th:only-of-type {\n        vertical-align: middle;\n    }\n\n    .dataframe tbody tr th {\n        vertical-align: top;\n    }\n\n    .dataframe thead th {\n        text-align: right;\n    }\n</style>\n<table border=\"1\" class=\"dataframe\">\n  <thead>\n    <tr style=\"text-align: right;\">\n      <th></th>\n      <th>limit</th>\n      <th>behind1</th>\n      <th>paid2</th>\n      <th>delayed</th>\n      <th>latemths</th>\n      <th>age</th>\n      <th>behind2</th>\n      <th>billed1</th>\n      <th>avg_av</th>\n      <th>avail1</th>\n    </tr>\n  </thead>\n  <tbody>\n    <tr>\n      <th>0</th>\n      <td>1790.26</td>\n      <td>0</td>\n      <td>179.13</td>\n      <td>0</td>\n      <td>0</td>\n      <td>44</td>\n      <td>0</td>\n      <td>1631.93</td>\n      <td>0.344578</td>\n      <td>0.088440</td>\n    </tr>\n    <tr>\n      <th>1</th>\n      <td>5728.83</td>\n      <td>-1</td>\n      <td>173.87</td>\n      <td>0</td>\n      <td>0</td>\n      <td>46</td>\n      <td>-1</td>\n      <td>891.69</td>\n      <td>0.957227</td>\n      <td>0.844350</td>\n    </tr>\n    <tr>\n      <th>2</th>\n      <td>3580.52</td>\n      <td>-1</td>\n      <td>0.00</td>\n      <td>0</td>\n      <td>0</td>\n      <td>47</td>\n      <td>-1</td>\n      <td>238.68</td>\n      <td>0.968650</td>\n      <td>0.933339</td>\n    </tr>\n    <tr>\n      <th>3</th>\n      <td>6086.88</td>\n      <td>0</td>\n      <td>89.26</td>\n      <td>0</td>\n      <td>0</td>\n      <td>29</td>\n      <td>0</td>\n      <td>2831.87</td>\n      <td>0.650602</td>\n      <td>0.534758</td>\n    </tr>\n    <tr>\n      <th>4</th>\n      <td>5370.78</td>\n      <td>-2</td>\n      <td>1171.37</td>\n      <td>0</td>\n      <td>0</td>\n      <td>33</td>\n      <td>-2</td>\n      <td>873.40</td>\n      <td>0.836153</td>\n      <td>0.837379</td>\n    </tr>\n  </tbody>\n</table>\n</div>"
     },
     "metadata": {},
     "execution_count": 4
    }
   ],
   "source": [
    "X_train.head()"
   ]
  },
  {
   "cell_type": "code",
   "execution_count": 5,
   "metadata": {},
   "outputs": [
    {
     "output_type": "execute_result",
     "data": {
      "text/plain": [
       "     limit  behind1   paid2  delayed  latemths  age  behind2  billed1  \\\n",
       "0  1074.16        0   71.61        0         0   25        0   317.38   \n",
       "1  5370.78        0  151.64        0         0   26        0  4895.86   \n",
       "2  2506.36        0  111.43        0         0   32        0  2510.73   \n",
       "3  4654.68        0   64.74        0         0   49        0   740.38   \n",
       "4  1790.26        0   53.71        1         1   36        0  3373.85   \n",
       "\n",
       "     avg_av    avail1  \n",
       "0  0.602052  0.704532  \n",
       "1  0.293715  0.088427  \n",
       "2  0.005217 -0.001744  \n",
       "3  0.883482  0.840939  \n",
       "4  0.188227 -0.884559  "
      ],
      "text/html": "<div>\n<style scoped>\n    .dataframe tbody tr th:only-of-type {\n        vertical-align: middle;\n    }\n\n    .dataframe tbody tr th {\n        vertical-align: top;\n    }\n\n    .dataframe thead th {\n        text-align: right;\n    }\n</style>\n<table border=\"1\" class=\"dataframe\">\n  <thead>\n    <tr style=\"text-align: right;\">\n      <th></th>\n      <th>limit</th>\n      <th>behind1</th>\n      <th>paid2</th>\n      <th>delayed</th>\n      <th>latemths</th>\n      <th>age</th>\n      <th>behind2</th>\n      <th>billed1</th>\n      <th>avg_av</th>\n      <th>avail1</th>\n    </tr>\n  </thead>\n  <tbody>\n    <tr>\n      <th>0</th>\n      <td>1074.16</td>\n      <td>0</td>\n      <td>71.61</td>\n      <td>0</td>\n      <td>0</td>\n      <td>25</td>\n      <td>0</td>\n      <td>317.38</td>\n      <td>0.602052</td>\n      <td>0.704532</td>\n    </tr>\n    <tr>\n      <th>1</th>\n      <td>5370.78</td>\n      <td>0</td>\n      <td>151.64</td>\n      <td>0</td>\n      <td>0</td>\n      <td>26</td>\n      <td>0</td>\n      <td>4895.86</td>\n      <td>0.293715</td>\n      <td>0.088427</td>\n    </tr>\n    <tr>\n      <th>2</th>\n      <td>2506.36</td>\n      <td>0</td>\n      <td>111.43</td>\n      <td>0</td>\n      <td>0</td>\n      <td>32</td>\n      <td>0</td>\n      <td>2510.73</td>\n      <td>0.005217</td>\n      <td>-0.001744</td>\n    </tr>\n    <tr>\n      <th>3</th>\n      <td>4654.68</td>\n      <td>0</td>\n      <td>64.74</td>\n      <td>0</td>\n      <td>0</td>\n      <td>49</td>\n      <td>0</td>\n      <td>740.38</td>\n      <td>0.883482</td>\n      <td>0.840939</td>\n    </tr>\n    <tr>\n      <th>4</th>\n      <td>1790.26</td>\n      <td>0</td>\n      <td>53.71</td>\n      <td>1</td>\n      <td>1</td>\n      <td>36</td>\n      <td>0</td>\n      <td>3373.85</td>\n      <td>0.188227</td>\n      <td>-0.884559</td>\n    </tr>\n  </tbody>\n</table>\n</div>"
     },
     "metadata": {},
     "execution_count": 5
    }
   ],
   "source": [
    "X_validate.head()"
   ]
  },
  {
   "source": [
    "# Standardize Datasets"
   ],
   "cell_type": "markdown",
   "metadata": {}
  },
  {
   "cell_type": "code",
   "execution_count": 6,
   "metadata": {},
   "outputs": [],
   "source": [
    "scaler = StandardScaler()\n",
    "scaler.fit(X_train)\n",
    "X_tr_ss = scaler.transform(X_train)\n",
    "X_val_ss = scaler.transform(X_validate)"
   ]
  },
  {
   "cell_type": "code",
   "execution_count": 7,
   "metadata": {},
   "outputs": [],
   "source": [
    "scaled = MinMaxScaler()\n",
    "scaled.fit(X_train)\n",
    "X_tr = scaled.transform(X_train)\n",
    "X_val = scaled.transform(X_validate)"
   ]
  },
  {
   "source": [
    "# Importing Model"
   ],
   "cell_type": "markdown",
   "metadata": {}
  },
  {
   "cell_type": "code",
   "execution_count": 8,
   "metadata": {},
   "outputs": [],
   "source": [
    "pickle_in = open(\"../data/pickles/best_model.pickle\",\"rb\")\n",
    "rfcb = pickle.load(pickle_in)"
   ]
  },
  {
   "cell_type": "code",
   "execution_count": 9,
   "metadata": {},
   "outputs": [
    {
     "output_type": "execute_result",
     "data": {
      "text/plain": [
       "RandomForestClassifier(max_depth=8, n_estimators=400)"
      ]
     },
     "metadata": {},
     "execution_count": 9
    }
   ],
   "source": [
    "rfcb"
   ]
  },
  {
   "source": [
    "# Dummy Classifier"
   ],
   "cell_type": "markdown",
   "metadata": {}
  },
  {
   "cell_type": "code",
   "execution_count": 10,
   "metadata": {},
   "outputs": [
    {
     "output_type": "stream",
     "name": "stdout",
     "text": [
      "Baseline:  Counter({0: 16344, 1: 4656})\nValidation:  Counter({0: 4687, 1: 1313})\n"
     ]
    }
   ],
   "source": [
    "#baseline counts\n",
    "counter = Counter(y_tr)\n",
    "print(\"Baseline: \", counter)\n",
    "counter2 = Counter(y_val)\n",
    "print(\"Validation: \", counter2)"
   ]
  },
  {
   "cell_type": "code",
   "execution_count": 11,
   "metadata": {},
   "outputs": [
    {
     "output_type": "stream",
     "name": "stdout",
     "text": [
      "Training Accuracy:  0.7782857142857142\nValidation Accuracy:  0.7811666666666667\nTraining F1 Score:  0.0\nValidation F1 Score:  0.0\nTraining AUC Score:  0.5\nValidation AUC Score:  0.5\nTraining Recall Score:  0.0\nValidation Recall Score:  0.0\nTraining Precision Score:  0.0\nValidation Precision Score:  0.0\nTraining Average Precision Score:  0.22171428571428572\nValidation Average Precision Score:  0.21883333333333332\n"
     ]
    }
   ],
   "source": [
    "dc = DummyClassifier(strategy='most_frequent').fit(X_tr, y_tr)\n",
    "y_pred_dc_tr = dc.predict(X_tr)\n",
    "y_pred_dc_val = dc.predict(X_val)\n",
    "get_metric(X_tr, y_tr, X_val, y_val, y_pred_dc_tr, y_pred_dc_val, dc)"
   ]
  },
  {
   "source": [
    "# Ensemble Methods"
   ],
   "cell_type": "markdown",
   "metadata": {}
  },
  {
   "source": [
    "## Bagging Classifier\n",
    "\n",
    "Instead of using a single tree, we will check if an ensemble of decsion tree can actually alleviate the issue induced by the class imbalancing. First, we will use a bagging classifier and its counter part which internally uses a random under-sampling to balanced each boostrap sample.\n",
    "\n",
    "Balancing each bootstrap sample allows to increase significantly the balanced accuracy and the geometric mean."
   ],
   "cell_type": "markdown",
   "metadata": {}
  },
  {
   "cell_type": "code",
   "execution_count": 63,
   "metadata": {},
   "outputs": [
    {
     "output_type": "stream",
     "name": "stdout",
     "text": [
      "Training Accuracy:  0.996904761904762\nValidation Accuracy:  0.807\nTraining F1 Score:  0.9929964443486693\nValidation F1 Score:  0.44326923076923075\nTraining AUC Score:  0.9998954304300327\nValidation AUC Score:  0.740359286457933\nTraining Recall Score:  0.9896907216494846\nValidation Recall Score:  0.3511043412033511\nTraining Precision Score:  0.9963243243243243\nValidation Precision Score:  0.6010430247718384\nTraining Average Precision Score:  0.9996190235446103\nValidation Average Precision Score:  0.48114820511254575\n\nTraining Balanced Accuracy:  0.9943252922980659\nTraining Geometric Mean:  0.9943144913248209\nValidation Balanced Accuracy:  0.6429086886302653\nValidation Geometric Mean:  0.5728715429649479\n"
     ]
    }
   ],
   "source": [
    "bc = BaggingClassifier(n_estimators=50, random_state=42).fit(X_tr_ss, y_tr)\n",
    "y_pred_bc_tr = bc.predict(X_tr_ss)\n",
    "y_pred_bc_val = bc.predict(X_val_ss)\n",
    "get_metric(X_tr_ss, y_tr, X_val_ss, y_val, y_pred_bc_tr, y_pred_bc_val, bc)\n",
    "print(\"\")\n",
    "print('Training Balanced Accuracy: ', balanced_accuracy_score(y_tr, y_pred_bc_tr))\n",
    "print('Training Geometric Mean: ', geometric_mean_score(y_tr, y_pred_bc_tr))\n",
    "print('Validation Balanced Accuracy: ', balanced_accuracy_score(y_val, y_pred_bc_val))\n",
    "print('Validation Geometric Mean: ', geometric_mean_score(y_val, y_pred_bc_val))"
   ]
  },
  {
   "source": [
    "## Balanced Bagging Classifier\n",
    "\n",
    "A Bagging classifier with additional balancing.\n",
    "\n",
    "This implementation of Bagging is similar to the scikit-learn implementation. It includes an additional step to balance the training set at fit time using a given sampler.\n",
    "\n",
    "This classifier can serves as a basis to implement various methods such as Exactly Balanced Bagging [6], Roughly Balanced Bagging [7], Over-Bagging [6], or SMOTE-Bagging [8]."
   ],
   "cell_type": "markdown",
   "metadata": {}
  },
  {
   "cell_type": "code",
   "execution_count": 14,
   "metadata": {},
   "outputs": [
    {
     "output_type": "stream",
     "name": "stdout",
     "text": [
      "Training Accuracy:  0.9383333333333334\nValidation Accuracy:  0.7631666666666667\nTraining F1 Score:  0.8778186621379375\nValidation F1 Score:  0.5111799105607154\nTraining AUC Score:  0.9955504481714446\nValidation AUC Score:  0.7528188434539899\nTraining Recall Score:  0.9991408934707904\nValidation Recall Score:  0.5658796648895659\nTraining Precision Score:  0.7827696449604576\nValidation Precision Score:  0.46612296110414053\nTraining Average Precision Score:  0.9819759873453777\nValidation Average Precision Score:  0.499848233823849\n\nTraining Balanced Accuracy:  0.9600758309742596\nTraining Geometric Mean:  0.9592807316490086\nValidation Balanced Accuracy:  0.6921568155896517\nValidation Geometric Mean:  0.680540328399629\n"
     ]
    }
   ],
   "source": [
    "bbc = BalancedBaggingClassifier(n_estimators=50, random_state=42).fit(X_tr_ss, y_tr)\n",
    "y_pred_bbc_tr = bbc.predict(X_tr_ss)\n",
    "y_pred_bbc_val = bbc.predict(X_val_ss)\n",
    "get_metric(X_tr_ss, y_tr, X_val_ss, y_val, y_pred_bbc_tr, y_pred_bbc_val, bbc)\n",
    "print(\"\")\n",
    "print('Training Balanced Accuracy: ', balanced_accuracy_score(y_tr, y_pred_bbc_tr))\n",
    "print('Training Geometric Mean: ', geometric_mean_score(y_tr, y_pred_bbc_tr))\n",
    "print('Validation Balanced Accuracy: ', balanced_accuracy_score(y_val, y_pred_bbc_val))\n",
    "print('Validation Geometric Mean: ', geometric_mean_score(y_val, y_pred_bbc_val))"
   ]
  },
  {
   "source": [
    "## Balanced Bagging Classifier with Gradient Boosting Classifier"
   ],
   "cell_type": "markdown",
   "metadata": {}
  },
  {
   "cell_type": "code",
   "execution_count": 15,
   "metadata": {},
   "outputs": [
    {
     "output_type": "stream",
     "name": "stdout",
     "text": [
      "Training Accuracy:  0.793\nValidation Accuracy:  0.7533333333333333\nTraining F1 Score:  0.6030499497762761\nValidation F1 Score:  0.5271565495207667\nTraining AUC Score:  0.8560039766792316\nValidation AUC Score:  0.7749874838134551\nTraining Recall Score:  0.709192439862543\nValidation Recall Score:  0.6283320639756284\nTraining Precision Score:  0.5245432883240667\nValidation Precision Score:  0.45404512933406715\nTraining Average Precision Score:  0.680188981227117\nValidation Average Precision Score:  0.5372388529575939\n"
     ]
    }
   ],
   "source": [
    "bbc3 = BalancedBaggingClassifier(\n",
    "        base_estimator=HistGradientBoostingClassifier(random_state=42),\n",
    "        n_estimators=10,\n",
    "        random_state=42,\n",
    "        n_jobs=2).fit(X_tr_ss, y_tr)\n",
    "y_pred_bbc3_tr = bbc3.predict(X_tr_ss)\n",
    "y_pred_bbc3_val = bbc3.predict(X_val_ss)\n",
    "get_metric(X_tr_ss, y_tr, X_val_ss, y_val, y_pred_bbc3_tr, y_pred_bbc3_val, bbc3)"
   ]
  },
  {
   "source": [
    "## Balanced Random Forest Classifier\n",
    "\n",
    "Random forest is another popular ensemble method and it is usually outperforming bagging. Here, we used a vanilla random forest and its balanced counterpart in which each bootstrap sample is balanced.\n",
    "\n",
    "Similarly to the previous experiment, the balanced classifier outperform the classifier which learn from imbalanced bootstrap samples. In addition, random forest outsperforms the bagging classifier."
   ],
   "cell_type": "markdown",
   "metadata": {}
  },
  {
   "cell_type": "code",
   "execution_count": 16,
   "metadata": {},
   "outputs": [
    {
     "output_type": "stream",
     "name": "stdout",
     "text": [
      "Training Accuracy:  0.888\nValidation Accuracy:  0.724\nTraining F1 Score:  0.7983539094650206\nValidation F1 Score:  0.5083135391923991\nTraining AUC Score:  0.9928255616361626\nValidation AUC Score:  0.7643157793647772\nTraining Recall Score:  1.0\nValidation Recall Score:  0.6519421172886519\nTraining Precision Score:  0.6643835616438356\nValidation Precision Score:  0.41654501216545015\nTraining Average Precision Score:  0.973183893912578\nValidation Average Precision Score:  0.5111466083509113\n"
     ]
    }
   ],
   "source": [
    "brf = BalancedRandomForestClassifier(n_estimators=100, random_state=42).fit(X_tr, y_tr)\n",
    "y_pred_brf_tr = brf.predict(X_tr)\n",
    "y_pred_brf_val = brf.predict(X_val)\n",
    "get_metric(X_tr, y_tr, X_val, y_val, y_pred_brf_tr, y_pred_brf_val, brf)"
   ]
  },
  {
   "source": [
    "## RUSBoostClassifier\n",
    "\n",
    "Random under-sampling integrated in the learning of AdaBoost.\n",
    "\n",
    "During learning, the problem of class balancing is alleviated by random under-sampling the sample at each iteration of the boosting algorithm"
   ],
   "cell_type": "markdown",
   "metadata": {}
  },
  {
   "cell_type": "code",
   "execution_count": 19,
   "metadata": {},
   "outputs": [
    {
     "output_type": "stream",
     "name": "stdout",
     "text": [
      "Training Accuracy:  0.7674761904761904\nValidation Accuracy:  0.7566666666666667\nTraining F1 Score:  0.5456406439006235\nValidation F1 Score:  0.5197368421052632\nTraining AUC Score:  0.7936512282426961\nValidation AUC Score:  0.7667346817069983\nTraining Recall Score:  0.6297250859106529\nValidation Recall Score:  0.6016755521706016\nTraining Precision Score:  0.48136594976194386\nValidation Precision Score:  0.45744064852345107\nTraining Average Precision Score:  0.5609306330020786\nValidation Average Precision Score:  0.5244608728332589\n"
     ]
    }
   ],
   "source": [
    "rbc = RUSBoostClassifier(n_estimators=200, algorithm='SAMME.R', random_state=42).fit(X_tr, y_tr)\n",
    "y_pred_rbc_tr = rbc.predict(X_tr)\n",
    "y_pred_rbc_val = rbc.predict(X_val)\n",
    "get_metric(X_tr, y_tr, X_val, y_val, y_pred_rbc_tr, y_pred_rbc_val, rbc)"
   ]
  },
  {
   "source": [
    "## Easy Ensemble Classifier\n",
    "\n",
    "Bag of balanced boosted learners also known as EasyEnsemble.\n",
    "\n",
    "This algorithm is known as EasyEnsemble [1]. The classifier is an ensemble of AdaBoost learners trained on different balanced boostrap samples. The balancing is achieved by random under-sampling."
   ],
   "cell_type": "markdown",
   "metadata": {}
  },
  {
   "cell_type": "code",
   "execution_count": 20,
   "metadata": {},
   "outputs": [
    {
     "output_type": "stream",
     "name": "stdout",
     "text": [
      "Training Accuracy:  0.7592380952380953\nValidation Accuracy:  0.7516666666666667\nTraining F1 Score:  0.5427744619280159\nValidation F1 Score:  0.5278833967046895\nTraining AUC Score:  0.790370227396205\nValidation AUC Score:  0.7749849651391096\nTraining Recall Score:  0.6445446735395189\nValidation Recall Score:  0.6344249809596344\nTraining Precision Score:  0.46875976257419555\nValidation Precision Score:  0.45198046663049374\nTraining Average Precision Score:  0.5504213877594832\nValidation Average Precision Score:  0.5262955379856071\n"
     ]
    }
   ],
   "source": [
    "eec = EasyEnsembleClassifier(random_state=42).fit(X_tr, y_tr) \n",
    "y_pred_eec_tr = eec.predict(X_tr)\n",
    "y_pred_eec_val = eec.predict(X_val)\n",
    "get_metric(X_tr, y_tr, X_val, y_val, y_pred_eec_tr, y_pred_eec_val, eec)"
   ]
  },
  {
   "source": [
    "# Undersampling Methods\n",
    "\n",
    "## Tomek Links\n",
    "\n",
    "Tomek links are instances of a minority-majority class pair where each is its own nearest neighbor aka instances of opposing class very close together.  These pairs ultimately fall into one of two categories:  boundary or noise instances.  Only these two cases will have nearest neighbors from opposite classes.  By identify such pairs, Tomek links removes the majority instance with the goal of clarifying the boundary between the two classes by making the minority class region more distinct."
   ],
   "cell_type": "markdown",
   "metadata": {}
  },
  {
   "cell_type": "code",
   "execution_count": 21,
   "metadata": {},
   "outputs": [
    {
     "output_type": "stream",
     "name": "stdout",
     "text": [
      "Training Count:  Counter({0: 14764, 1: 4656})\n",
      "Training Accuracy:  0.841091658084449\n",
      "Validation Accuracy:  0.8198333333333333\n",
      "Training F1 Score:  0.5739922694643844\n",
      "Validation F1 Score:  0.4893717524799244\n",
      "Training AUC Score:  0.8414495304590621\n",
      "Validation AUC Score:  0.7800662687594521\n",
      "Training Recall Score:  0.44652061855670105\n",
      "Validation Recall Score:  0.3945163747143945\n",
      "Training Precision Score:  0.8033230293663061\n",
      "Validation Precision Score:  0.6442786069651741\n",
      "Training Average Precision Score:  0.7083469944852872\n",
      "Validation Average Precision Score:  0.5425217465417795\n"
     ]
    }
   ],
   "source": [
    "tl = TomekLinks()\n",
    "sampling(X_tr, y_tr, X_val, y_val, tl, rfcb)"
   ]
  },
  {
   "cell_type": "code",
   "execution_count": 22,
   "metadata": {},
   "outputs": [],
   "source": [
    "X_tr_tl, y_tr_tl = tl.fit_resample(X_tr, y_tr)\n",
    "tlm = rfcb.fit(X_tr_tl, y_tr_tl)\n",
    "y_pred_tl_tr = tlm.predict(X_tr_tl)\n",
    "y_pred_tl_val = tlm.predict(X_val)"
   ]
  },
  {
   "source": [
    "## Edited Nearest Neighbors Rule\n",
    "\n",
    "This is a rule for finding ambiguous and noisy examples in the dataset by using k = 3 nearest neighbors to edit the preclassified samples and then k = 1 rule to make decisions.\n",
    "\n"
   ],
   "cell_type": "markdown",
   "metadata": {}
  },
  {
   "cell_type": "code",
   "execution_count": 23,
   "metadata": {},
   "outputs": [
    {
     "output_type": "stream",
     "name": "stdout",
     "text": [
      "Training Count:  Counter({0: 9976, 1: 4656})\n",
      "Training Accuracy:  0.84656916347731\n",
      "Validation Accuracy:  0.7856666666666666\n",
      "Training F1 Score:  0.7058052679858472\n",
      "Validation F1 Score:  0.5261606484893145\n",
      "Training AUC Score:  0.8902533606428624\n",
      "Validation AUC Score:  0.7780456419540298\n",
      "Training Recall Score:  0.5783934707903781\n",
      "Validation Recall Score:  0.5437928408225438\n",
      "Training Precision Score:  0.9052100840336135\n",
      "Validation Precision Score:  0.5096359743040685\n",
      "Training Average Precision Score:  0.8496757378433736\n",
      "Validation Average Precision Score:  0.5333312955110157\n"
     ]
    }
   ],
   "source": [
    "enn = EditedNearestNeighbours()\n",
    "sampling(X_tr, y_tr, X_val, y_val, enn, rfcb)"
   ]
  },
  {
   "cell_type": "code",
   "execution_count": 24,
   "metadata": {},
   "outputs": [],
   "source": [
    "X_tr_enn, y_tr_enn = enn.fit_resample(X_tr, y_tr)\n",
    "ennm = rfcb.fit(X_tr_enn, y_tr_enn)\n",
    "y_pred_enn_tr = ennm.predict(X_tr_enn)\n",
    "y_pred_enn_val = ennm.predict(X_val)"
   ]
  },
  {
   "cell_type": "code",
   "execution_count": 25,
   "metadata": {},
   "outputs": [
    {
     "output_type": "stream",
     "name": "stdout",
     "text": [
      "Training Count:  Counter({0: 13383, 1: 4656})\n",
      "Training Accuracy:  0.8297023116580742\n",
      "Validation Accuracy:  0.8195\n",
      "Training F1 Score:  0.5766262403528114\n",
      "Validation F1 Score:  0.4893917963224894\n",
      "Training AUC Score:  0.8343641504339634\n",
      "Validation AUC Score:  0.7800234512955817\n",
      "Training Recall Score:  0.4493127147766323\n",
      "Validation Recall Score:  0.3952779893373953\n",
      "Training Precision Score:  0.8046153846153846\n",
      "Validation Precision Score:  0.6423267326732673\n",
      "Training Average Precision Score:  0.7146237317981492\n",
      "Validation Average Precision Score:  0.5427343210219899\n"
     ]
    }
   ],
   "source": [
    "oss = OneSidedSelection(n_neighbors=1, n_seeds_S=200)\n",
    "sampling(X_tr, y_tr, X_val, y_val, oss, rfcb)"
   ]
  },
  {
   "cell_type": "code",
   "execution_count": 26,
   "metadata": {},
   "outputs": [],
   "source": [
    "X_tr_oss, y_tr_oss = oss.fit_resample(X_tr, y_tr)\n",
    "ossm = rfcb.fit(X_tr_oss, y_tr_oss)\n",
    "y_pred_oss_tr = ossm.predict(X_tr_oss)\n",
    "y_pred_oss_val = ossm.predict(X_val)"
   ]
  },
  {
   "cell_type": "code",
   "execution_count": 27,
   "metadata": {},
   "outputs": [
    {
     "output_type": "stream",
     "name": "stdout",
     "text": [
      "Training Count:  Counter({0: 10206, 1: 4656})\n",
      "Training Accuracy:  0.8460503296999058\n",
      "Validation Accuracy:  0.7906666666666666\n",
      "Training F1 Score:  0.700836820083682\n",
      "Validation F1 Score:  0.5313432835820896\n",
      "Training AUC Score:  0.8873870833846811\n",
      "Validation AUC Score:  0.7787279589589328\n",
      "Training Recall Score:  0.5756013745704467\n",
      "Validation Recall Score:  0.5422696115765423\n",
      "Training Precision Score:  0.8957219251336899\n",
      "Validation Precision Score:  0.520848573518654\n",
      "Training Average Precision Score:  0.8414602542438069\n",
      "Validation Average Precision Score:  0.5288568446973456\n"
     ]
    }
   ],
   "source": [
    "ncr = NeighbourhoodCleaningRule(n_neighbors=3, threshold_cleaning=0.5)\n",
    "sampling(X_tr, y_tr, X_val, y_val, ncr, rfcb)"
   ]
  },
  {
   "cell_type": "code",
   "execution_count": 28,
   "metadata": {},
   "outputs": [],
   "source": [
    "X_tr_ncr, y_tr_ncr = ncr.fit_resample(X_tr, y_tr)\n",
    "ncrm = rfcb.fit(X_tr_ncr, y_tr_ncr)\n",
    "y_pred_ncr_tr = ncrm.predict(X_tr_ncr)\n",
    "y_pred_ncr_val = ncrm.predict(X_val)"
   ]
  },
  {
   "source": [
    "# Oversampling Methods"
   ],
   "cell_type": "markdown",
   "metadata": {}
  },
  {
   "source": [
    "## SMOTE"
   ],
   "cell_type": "markdown",
   "metadata": {}
  },
  {
   "cell_type": "code",
   "execution_count": 29,
   "metadata": {},
   "outputs": [
    {
     "output_type": "stream",
     "name": "stdout",
     "text": [
      "Training Count:  Counter({0: 16344, 1: 16344})\n",
      "Training Accuracy:  0.7596977484092021\n",
      "Validation Accuracy:  0.7608333333333334\n",
      "Training F1 Score:  0.7418750616148005\n",
      "Validation F1 Score:  0.5221445221445221\n",
      "Training AUC Score:  0.8424826914108536\n",
      "Validation AUC Score:  0.7734004752332252\n",
      "Training Recall Score:  0.6906510034263338\n",
      "Validation Recall Score:  0.597105864432597\n",
      "Training Precision Score:  0.801306168808121\n",
      "Validation Precision Score:  0.463905325443787\n",
      "Training Average Precision Score:  0.8493504655835558\n",
      "Validation Average Precision Score:  0.5367279167232706\n"
     ]
    }
   ],
   "source": [
    "sm = SMOTE(sampling_strategy='minority', random_state=42)\n",
    "sampling(X_tr, y_tr, X_val, y_val, sm, rfcb)"
   ]
  },
  {
   "cell_type": "code",
   "execution_count": 30,
   "metadata": {},
   "outputs": [],
   "source": [
    "X_tr_sm, y_tr_sm = sm.fit_resample(X_tr, y_tr)\n",
    "smm = rfcb.fit(X_tr_sm, y_tr_sm)\n",
    "y_pred_sm_tr = smm.predict(X_tr_sm)\n",
    "y_pred_sm_val = smm.predict(X_val)"
   ]
  },
  {
   "source": [
    "## SVMSMOTE"
   ],
   "cell_type": "markdown",
   "metadata": {}
  },
  {
   "cell_type": "code",
   "execution_count": 31,
   "metadata": {},
   "outputs": [
    {
     "output_type": "stream",
     "name": "stdout",
     "text": [
      "Training Count:  Counter({0: 16344, 1: 16344})\n",
      "Training Accuracy:  0.8231461086637298\n",
      "Validation Accuracy:  0.797\n",
      "Training F1 Score:  0.8103906326871987\n",
      "Validation F1 Score:  0.5245901639344263\n",
      "Training AUC Score:  0.9040624882452624\n",
      "Validation AUC Score:  0.7771822241389424\n",
      "Training Recall Score:  0.7558737151248165\n",
      "Validation Recall Score:  0.5118050266565118\n",
      "Training Precision Score:  0.8733828207847296\n",
      "Validation Precision Score:  0.5380304243394716\n",
      "Training Average Precision Score:  0.9141460399862354\n",
      "Validation Average Precision Score:  0.5340016714128782\n"
     ]
    }
   ],
   "source": [
    "svmsm = SVMSMOTE()\n",
    "sampling(X_tr, y_tr, X_val, y_val, svmsm, rfcb)"
   ]
  },
  {
   "cell_type": "code",
   "execution_count": 32,
   "metadata": {},
   "outputs": [],
   "source": [
    "X_tr_svm, y_tr_svm = svmsm.fit_resample(X_tr, y_tr)\n",
    "svmsmote = rfcb.fit(X_tr_svm, y_tr_svm)\n",
    "y_pred_svmsm_tr = svmsmote.predict(X_tr_svm)\n",
    "y_pred_svmsm_val = svmsmote.predict(X_val)"
   ]
  },
  {
   "source": [
    "## ADASYN"
   ],
   "cell_type": "markdown",
   "metadata": {}
  },
  {
   "cell_type": "code",
   "execution_count": 33,
   "metadata": {},
   "outputs": [
    {
     "output_type": "stream",
     "name": "stdout",
     "text": [
      "Training Count:  Counter({0: 16344, 1: 15798})\n",
      "Training Accuracy:  0.7357040632194636\n",
      "Validation Accuracy:  0.7298333333333333\n",
      "Training F1 Score:  0.7182701555400789\n",
      "Validation F1 Score:  0.5068451475509583\n",
      "Training AUC Score:  0.809981021795791\n",
      "Validation AUC Score:  0.7700347950798427\n",
      "Training Recall Score:  0.6854665147487023\n",
      "Validation Recall Score:  0.6344249809596344\n",
      "Training Precision Score:  0.7543712991988855\n",
      "Validation Precision Score:  0.4219858156028369\n",
      "Training Average Precision Score:  0.8054226409857588\n",
      "Validation Average Precision Score:  0.5344529268723647\n"
     ]
    }
   ],
   "source": [
    "adsn = ADASYN()\n",
    "sampling(X_tr, y_tr, X_val, y_val, adsn, rfcb)"
   ]
  },
  {
   "cell_type": "code",
   "execution_count": 34,
   "metadata": {},
   "outputs": [],
   "source": [
    "X_tr_adsn, y_tr_adsn = adsn.fit_resample(X_tr, y_tr)\n",
    "adsnm = rfcb.fit(X_tr_adsn, y_tr_adsn)\n",
    "y_pred_adsnm_tr = adsnm.predict(X_tr_adsn)\n",
    "y_pred_adsnm_val = adsnm.predict(X_val)"
   ]
  },
  {
   "source": [
    "# Combined Methods"
   ],
   "cell_type": "markdown",
   "metadata": {}
  },
  {
   "source": [
    "## SMOTE Tomek"
   ],
   "cell_type": "markdown",
   "metadata": {}
  },
  {
   "cell_type": "code",
   "execution_count": 35,
   "metadata": {},
   "outputs": [
    {
     "output_type": "stream",
     "name": "stdout",
     "text": [
      "Training Count:  Counter({0: 15455, 1: 15455})\n",
      "Training Accuracy:  0.7701067615658364\n",
      "Validation Accuracy:  0.7606666666666667\n",
      "Training F1 Score:  0.7542706964520368\n",
      "Validation F1 Score:  0.5251322751322751\n",
      "Training AUC Score:  0.8555206822993797\n",
      "Validation AUC Score:  0.7739561272928264\n",
      "Training Recall Score:  0.7056615981882886\n",
      "Validation Recall Score:  0.6047220106626047\n",
      "Training Precision Score:  0.8100720493203595\n",
      "Validation Precision Score:  0.4640561075394506\n",
      "Training Average Precision Score:  0.8611250344543606\n",
      "Validation Average Precision Score:  0.53542346377142\n"
     ]
    }
   ],
   "source": [
    "smtk = SMOTETomek()\n",
    "sampling(X_tr, y_tr, X_val, y_val, smtk, rfcb)"
   ]
  },
  {
   "cell_type": "code",
   "execution_count": 36,
   "metadata": {},
   "outputs": [],
   "source": [
    "X_tr_smt, y_tr_smt = smtk.fit_resample(X_tr, y_tr)\n",
    "smtkm = rfcb.fit(X_tr_smt, y_tr_smt)\n",
    "y_pred_smtk_tr = smtkm.predict(X_tr_smt)\n",
    "y_pred_smtk_val = smtkm.predict(X_val)"
   ]
  },
  {
   "source": [
    "## SMOTE ENN"
   ],
   "cell_type": "markdown",
   "metadata": {}
  },
  {
   "cell_type": "code",
   "execution_count": 37,
   "metadata": {},
   "outputs": [
    {
     "output_type": "stream",
     "name": "stdout",
     "text": [
      "Training Count:  Counter({1: 10912, 0: 8584})\n",
      "Training Accuracy:  0.87443578169881\n",
      "Validation Accuracy:  0.7351666666666666\n",
      "Training F1 Score:  0.8819899730042422\n",
      "Validation F1 Score:  0.5148091603053434\n",
      "Training AUC Score:  0.9497287821337111\n",
      "Validation AUC Score:  0.7721236698352673\n",
      "Training Recall Score:  0.8383431085043989\n",
      "Validation Recall Score:  0.642041127189642\n",
      "Training Precision Score:  0.9304312449145646\n",
      "Validation Precision Score:  0.42966360856269115\n",
      "Training Average Precision Score:  0.9654422190097608\n",
      "Validation Average Precision Score:  0.525527894928956\n"
     ]
    }
   ],
   "source": [
    "smenn = SMOTEENN(sampling_strategy=\"minority\", n_jobs= -1)\n",
    "sampling(X_tr, y_tr, X_val, y_val, smenn, rfcb)"
   ]
  },
  {
   "cell_type": "code",
   "execution_count": 38,
   "metadata": {},
   "outputs": [],
   "source": [
    "X_tr_sme, y_tr_sme = smenn.fit_resample(X_tr, y_tr)\n",
    "smennm = rfcb.fit(X_tr_sme, y_tr_sme)\n",
    "y_pred_smenn_tr = smennm.predict(X_tr_sme)\n",
    "y_pred_smenn_val = smennm.predict(X_val)"
   ]
  },
  {
   "source": [
    "# SMOTE Variants"
   ],
   "cell_type": "markdown",
   "metadata": {}
  },
  {
   "cell_type": "code",
   "execution_count": 39,
   "metadata": {},
   "outputs": [
    {
     "output_type": "stream",
     "name": "stderr",
     "text": [
      "2021-06-09 01:45:42,973:INFO:polynom_fit_SMOTE: Running sampling via ('polynom_fit_SMOTE', \"{'proportion': 1.0, 'topology': 'star'}\")\n",
      "Training Count:  Counter({1: 18624, 0: 16344})\n",
      "Training Accuracy:  0.8984786090139556\n",
      "Validation Accuracy:  0.822\n",
      "Training F1 Score:  0.8991992730989834\n",
      "Validation F1 Score:  0.4738916256157635\n",
      "Training AUC Score:  0.9570314093347203\n",
      "Validation AUC Score:  0.7789750327874526\n",
      "Training Recall Score:  0.8501932989690721\n",
      "Validation Recall Score:  0.36633663366336633\n",
      "Training Precision Score:  0.954200313366277\n",
      "Validation Precision Score:  0.6708507670850767\n",
      "Training Average Precision Score:  0.9705378081648768\n",
      "Validation Average Precision Score:  0.5446084552864543\n"
     ]
    }
   ],
   "source": [
    "pfsm = sv.polynom_fit_SMOTE()\n",
    "sampling2(X_tr, y_tr, X_val, y_val, pfsm, rfcb)"
   ]
  },
  {
   "cell_type": "code",
   "execution_count": 40,
   "metadata": {},
   "outputs": [
    {
     "output_type": "stream",
     "name": "stderr",
     "text": [
      "2021-06-09 01:45:54,935:INFO:polynom_fit_SMOTE: Running sampling via ('polynom_fit_SMOTE', \"{'proportion': 1.0, 'topology': 'star'}\")\n"
     ]
    }
   ],
   "source": [
    "X_tr_pfs, y_tr_pfs = pfsm.sample(X_tr, y_tr)\n",
    "pfsmm = rfcb.fit(X_tr_pfs, y_tr_pfs)\n",
    "y_pred_pfsm_tr = pfsmm.predict(X_tr_pfs)\n",
    "y_pred_pfsm_val = pfsmm.predict(X_val)"
   ]
  },
  {
   "cell_type": "code",
   "execution_count": 41,
   "metadata": {},
   "outputs": [
    {
     "output_type": "stream",
     "name": "stderr",
     "text": [
      "2021-06-09 01:46:05,190:INFO:ProWSyn: Running sampling via ('ProWSyn', \"{'proportion': 1.0, 'n_neighbors': 5, 'L': 5, 'theta': 1.0, 'n_jobs': 1}\")\n",
      "Training Count:  Counter({0: 16344, 1: 16344})\n",
      "Training Accuracy:  0.8669542339696524\n",
      "Validation Accuracy:  0.8145\n",
      "Training F1 Score:  0.8576851336758402\n",
      "Validation F1 Score:  0.4910836762688614\n",
      "Training AUC Score:  0.9339168265310986\n",
      "Validation AUC Score:  0.7720182917505616\n",
      "Training Recall Score:  0.801823299069995\n",
      "Validation Recall Score:  0.408987052551409\n",
      "Training Precision Score:  0.92191347168484\n",
      "Validation Precision Score:  0.61441647597254\n",
      "Training Average Precision Score:  0.9472562938129672\n",
      "Validation Average Precision Score:  0.5371462864688781\n"
     ]
    }
   ],
   "source": [
    "pws = sv.ProWSyn()\n",
    "sampling2(X_tr, y_tr, X_val, y_val, pws, rfcb)"
   ]
  },
  {
   "cell_type": "code",
   "execution_count": 42,
   "metadata": {},
   "outputs": [
    {
     "output_type": "stream",
     "name": "stderr",
     "text": [
      "2021-06-09 01:46:20,962:INFO:ProWSyn: Running sampling via ('ProWSyn', \"{'proportion': 1.0, 'n_neighbors': 5, 'L': 5, 'theta': 1.0, 'n_jobs': 1}\")\n"
     ]
    }
   ],
   "source": [
    "X_tr_pws, y_tr_pws = pws.sample(X_tr, y_tr)\n",
    "pwsm = rfcb.fit(X_tr_pws, y_tr_pws)\n",
    "y_pred_pws_tr = pwsm.predict(X_tr_pws)\n",
    "y_pred_pws_val = pwsm.predict(X_val)"
   ]
  },
  {
   "cell_type": "code",
   "execution_count": 43,
   "metadata": {},
   "outputs": [
    {
     "output_type": "stream",
     "name": "stderr",
     "text": [
      "2021-06-09 01:46:34,599:INFO:SMOTE_IPF: Running sampling via ('SMOTE_IPF', \"{'proportion': 1.0, 'n_neighbors': 5, 'n_folds': 9, 'k': 3, 'p': 0.01, 'voting': 'majority', 'n_jobs': 1, 'classifier': DecisionTreeClassifier()}\")\n",
      "2021-06-09 01:46:34,600:INFO:SMOTE: Running sampling via ('SMOTE', \"{'proportion': 1.0, 'n_neighbors': 5, 'n_jobs': 1}\")\n",
      "2021-06-09 01:46:36,704:INFO:SMOTE_IPF: Removing 44 elements\n",
      "2021-06-09 01:46:38,480:INFO:SMOTE_IPF: Removing 0 elements\n",
      "2021-06-09 01:46:40,255:INFO:SMOTE_IPF: Removing 0 elements\n",
      "Training Count:  Counter({0: 16335, 1: 16309})\n",
      "Training Accuracy:  0.7629579708369072\n",
      "Validation Accuracy:  0.7588333333333334\n",
      "Training F1 Score:  0.7465277777777778\n",
      "Validation F1 Score:  0.5207022192779066\n",
      "Training AUC Score:  0.8440929828875134\n",
      "Validation AUC Score:  0.7725767874747462\n",
      "Training Recall Score:  0.6986939726531363\n",
      "Validation Recall Score:  0.5986290936785986\n",
      "Training Precision Score:  0.8013925029889585\n",
      "Validation Precision Score:  0.46072684642438455\n",
      "Training Average Precision Score:  0.8499086371556159\n",
      "Validation Average Precision Score:  0.5358609932928093\n"
     ]
    }
   ],
   "source": [
    "smipf = sv.SMOTE_IPF()\n",
    "sampling2(X_tr, y_tr, X_val, y_val, smipf, rfcb)"
   ]
  },
  {
   "source": [
    "X_tr_smi, y_tr_smi = smipf.sample(X_tr, y_tr)\n",
    "smipfm = rfcb.fit(X_tr_smi, y_tr_smi)\n",
    "y_pred_smipf_tr = smipfm.predict(X_tr_smi)\n",
    "y_pred_smipf_val = smipfm.predict(X_val)"
   ],
   "cell_type": "code",
   "metadata": {},
   "execution_count": 44,
   "outputs": [
    {
     "output_type": "stream",
     "name": "stderr",
     "text": [
      "2021-06-09 01:46:53,762:INFO:SMOTE_IPF: Running sampling via ('SMOTE_IPF', \"{'proportion': 1.0, 'n_neighbors': 5, 'n_folds': 9, 'k': 3, 'p': 0.01, 'voting': 'majority', 'n_jobs': 1, 'classifier': DecisionTreeClassifier()}\")\n",
      "2021-06-09 01:46:53,764:INFO:SMOTE: Running sampling via ('SMOTE', \"{'proportion': 1.0, 'n_neighbors': 5, 'n_jobs': 1}\")\n",
      "2021-06-09 01:46:55,903:INFO:SMOTE_IPF: Removing 44 elements\n",
      "2021-06-09 01:46:57,703:INFO:SMOTE_IPF: Removing 0 elements\n",
      "2021-06-09 01:46:59,506:INFO:SMOTE_IPF: Removing 0 elements\n"
     ]
    }
   ]
  },
  {
   "cell_type": "code",
   "execution_count": 45,
   "metadata": {},
   "outputs": [
    {
     "output_type": "stream",
     "name": "stderr",
     "text": [
      "2021-06-09 01:47:11,106:INFO:SMOBD: Running sampling via ('SMOBD', \"{'proportion': 1.0, 'eta1': 0.5, 't': 1.8, 'min_samples': 5, 'max_eps': 1.0, 'n_jobs': 1}\")\n",
      "Training Count:  Counter({0: 16344, 1: 16344})\n",
      "Training Accuracy:  0.7779613313754283\n",
      "Validation Accuracy:  0.7586666666666667\n",
      "Training F1 Score:  0.7678480040941659\n",
      "Validation F1 Score:  0.5217965653896961\n",
      "Training AUC Score:  0.8644331029195115\n",
      "Validation AUC Score:  0.7736481990422213\n",
      "Training Recall Score:  0.7343979441997063\n",
      "Validation Recall Score:  0.6016755521706016\n",
      "Training Precision Score:  0.804490616621984\n",
      "Validation Precision Score:  0.4606413994169096\n",
      "Training Average Precision Score:  0.871535709534764\n",
      "Validation Average Precision Score:  0.5362933780787963\n"
     ]
    }
   ],
   "source": [
    "smobd = sv.SMOBD()\n",
    "sampling2(X_tr, y_tr, X_val, y_val, smobd, rfcb)"
   ]
  },
  {
   "cell_type": "code",
   "execution_count": 46,
   "metadata": {},
   "outputs": [
    {
     "output_type": "stream",
     "name": "stderr",
     "text": [
      "2021-06-09 01:47:38,051:INFO:SMOBD: Running sampling via ('SMOBD', \"{'proportion': 1.0, 'eta1': 0.5, 't': 1.8, 'min_samples': 5, 'max_eps': 1.0, 'n_jobs': 1}\")\n"
     ]
    }
   ],
   "source": [
    "X_tr_smo, y_tr_smo = smobd.sample(X_tr, y_tr)\n",
    "smobdm = rfcb.fit(X_tr_smo, y_tr_smo)\n",
    "y_pred_smobd_tr = smobdm.predict(X_tr_smo)\n",
    "y_pred_smobd_val = smobdm.predict(X_val)"
   ]
  },
  {
   "cell_type": "code",
   "execution_count": 47,
   "metadata": {},
   "outputs": [
    {
     "output_type": "stream",
     "name": "stderr",
     "text": [
      "2021-06-09 01:48:04,158:INFO:G_SMOTE: Running sampling via ('G_SMOTE', \"{'proportion': 1.0, 'n_neighbors': 5, 'method': 'linear', 'n_jobs': 1}\")\n",
      "Training Count:  Counter({0: 16344, 1: 16344})\n",
      "Training Accuracy:  0.7701908957415565\n",
      "Validation Accuracy:  0.7648333333333334\n",
      "Training F1 Score:  0.753672612801679\n",
      "Validation F1 Score:  0.5185943364039577\n",
      "Training AUC Score:  0.84795639169026\n",
      "Validation AUC Score:  0.7712737391150614\n",
      "Training Recall Score:  0.7031326480665687\n",
      "Validation Recall Score:  0.5788271134805788\n",
      "Training Precision Score:  0.8120407009609949\n",
      "Validation Precision Score:  0.46971569839307786\n",
      "Training Average Precision Score:  0.8559895630644604\n",
      "Validation Average Precision Score:  0.5348586690613729\n"
     ]
    }
   ],
   "source": [
    "gsm = sv.G_SMOTE()\n",
    "sampling2(X_tr, y_tr, X_val, y_val, gsm, rfcb)"
   ]
  },
  {
   "cell_type": "code",
   "execution_count": 48,
   "metadata": {},
   "outputs": [
    {
     "output_type": "stream",
     "name": "stderr",
     "text": [
      "2021-06-09 01:48:20,724:INFO:G_SMOTE: Running sampling via ('G_SMOTE', \"{'proportion': 1.0, 'n_neighbors': 5, 'method': 'linear', 'n_jobs': 1}\")\n"
     ]
    }
   ],
   "source": [
    "X_tr_gsm, y_tr_gsm = gsm.sample(X_tr, y_tr)\n",
    "gsmm = rfcb.fit(X_tr_gsm, y_tr_gsm)\n",
    "y_pred_gsm_tr = gsmm.predict(X_tr_gsm)\n",
    "y_pred_gsm_val = gsmm.predict(X_val)"
   ]
  },
  {
   "cell_type": "code",
   "execution_count": 49,
   "metadata": {},
   "outputs": [
    {
     "output_type": "stream",
     "name": "stderr",
     "text": [
      "2021-06-09 01:48:33,812:INFO:CCR: Running sampling via ('CCR', \"{'proportion': 1.0, 'energy': 1.0, 'scaling': 0.0, 'n_jobs': 1}\")\n",
      "Training Count:  Counter({0: 16344, 1: 16326})\n",
      "Training Accuracy:  0.8862565044383226\n",
      "Validation Accuracy:  0.821\n",
      "Training F1 Score:  0.8784190550975004\n",
      "Validation F1 Score:  0.4704142011834319\n",
      "Training AUC Score:  0.9376062690558001\n",
      "Validation AUC Score:  0.7686860855917039\n",
      "Training Recall Score:  0.8222467230184981\n",
      "Validation Recall Score:  0.3632901751713633\n",
      "Training Precision Score:  0.9428290490237393\n",
      "Validation Precision Score:  0.6671328671328671\n",
      "Training Average Precision Score:  0.9544477652437313\n",
      "Validation Average Precision Score:  0.5355516594316295\n"
     ]
    }
   ],
   "source": [
    "ccr = sv.CCR()\n",
    "sampling2(X_tr, y_tr, X_val, y_val, ccr, rfcb)"
   ]
  },
  {
   "cell_type": "code",
   "execution_count": 50,
   "metadata": {},
   "outputs": [
    {
     "output_type": "stream",
     "name": "stderr",
     "text": [
      "2021-06-09 01:48:54,686:INFO:CCR: Running sampling via ('CCR', \"{'proportion': 1.0, 'energy': 1.0, 'scaling': 0.0, 'n_jobs': 1}\")\n"
     ]
    }
   ],
   "source": [
    "X_tr_ccr, y_tr_ccr = ccr.sample(X_tr, y_tr)\n",
    "ccrm = rfcb.fit(X_tr_ccr, y_tr_ccr)\n",
    "y_pred_ccr_tr = ccrm.predict(X_tr_ccr)\n",
    "y_pred_ccr_val = ccrm.predict(X_val)"
   ]
  },
  {
   "cell_type": "code",
   "execution_count": 51,
   "metadata": {},
   "outputs": [
    {
     "output_type": "stream",
     "name": "stderr",
     "text": [
      "2021-06-09 01:49:13,327:INFO:LVQ_SMOTE: Running sampling via ('LVQ_SMOTE', \"{'proportion': 1.0, 'n_neighbors': 5, 'n_clusters': 10, 'n_jobs': 1}\")\n",
      "Training Count:  Counter({0: 16344, 1: 16344})\n",
      "Training Accuracy:  0.8911221243269701\n",
      "Validation Accuracy:  0.8165\n",
      "Training F1 Score:  0.8846615030625141\n",
      "Validation F1 Score:  0.4724484906564447\n",
      "Training AUC Score:  0.9429207309607991\n",
      "Validation AUC Score:  0.7649660035836673\n",
      "Training Recall Score:  0.8351076847772883\n",
      "Validation Recall Score:  0.37547600913937546\n",
      "Training Precision Score:  0.940467167367188\n",
      "Validation Precision Score:  0.6369509043927648\n",
      "Training Average Precision Score:  0.9580422276154233\n",
      "Validation Average Precision Score:  0.5262108731024022\n"
     ]
    }
   ],
   "source": [
    "lvq = sv.LVQ_SMOTE()\n",
    "sampling2(X_tr, y_tr, X_val, y_val, lvq, rfcb)"
   ]
  },
  {
   "cell_type": "code",
   "execution_count": 52,
   "metadata": {},
   "outputs": [
    {
     "output_type": "stream",
     "name": "stderr",
     "text": [
      "2021-06-09 01:49:29,963:INFO:LVQ_SMOTE: Running sampling via ('LVQ_SMOTE', \"{'proportion': 1.0, 'n_neighbors': 5, 'n_clusters': 10, 'n_jobs': 1}\")\n"
     ]
    }
   ],
   "source": [
    "X_tr_lvq, y_tr_lvq = lvq.sample(X_tr, y_tr)\n",
    "lvqm = rfcb.fit(X_tr_lvq, y_tr_lvq)\n",
    "y_pred_lvq_tr = lvqm.predict(X_tr_lvq)\n",
    "y_pred_lvq_val = lvqm.predict(X_val)"
   ]
  },
  {
   "cell_type": "code",
   "execution_count": 53,
   "metadata": {},
   "outputs": [
    {
     "output_type": "stream",
     "name": "stderr",
     "text": [
      "2021-06-09 01:49:45,035:INFO:Assembled_SMOTE: Running sampling via ('Assembled_SMOTE', \"{'proportion': 1.0, 'n_neighbors': 5, 'pop': 2, 'thres': 0.3, 'n_jobs': 1}\")\n",
      "Training Count:  Counter({0: 16344, 1: 16344})\n",
      "Training Accuracy:  0.7604013705335291\n",
      "Validation Accuracy:  0.76\n",
      "Training F1 Score:  0.7436669503174707\n",
      "Validation F1 Score:  0.521594684385382\n",
      "Training AUC Score:  0.8425735248358289\n",
      "Validation AUC Score:  0.7723621314224776\n",
      "Training Recall Score:  0.6951174743024964\n",
      "Validation Recall Score:  0.5978674790555979\n",
      "Training Precision Score:  0.7995073891625616\n",
      "Validation Precision Score:  0.4625810253388332\n",
      "Training Average Precision Score:  0.8498748197266996\n",
      "Validation Average Precision Score:  0.5349654339307137\n"
     ]
    }
   ],
   "source": [
    "ass = sv.Assembled_SMOTE()\n",
    "sampling2(X_tr, y_tr, X_val, y_val, ass, rfcb)"
   ]
  },
  {
   "cell_type": "code",
   "execution_count": 58,
   "metadata": {},
   "outputs": [
    {
     "output_type": "stream",
     "name": "stderr",
     "text": [
      "2021-06-09 01:59:44,405:INFO:Assembled_SMOTE: Running sampling via ('Assembled_SMOTE', \"{'proportion': 1.0, 'n_neighbors': 5, 'pop': 2, 'thres': 0.3, 'n_jobs': 1}\")\n"
     ]
    }
   ],
   "source": [
    "X_tr_ass, y_tr_ass = ass.sample(X_tr, y_tr)\n",
    "assm = rfcb.fit(X_tr_ass, y_tr_ass)\n",
    "y_pred_ass_tr = assm.predict(X_tr_ass)\n",
    "y_pred_ass_val = assm.predict(X_val)"
   ]
  },
  {
   "cell_type": "code",
   "execution_count": 62,
   "metadata": {},
   "outputs": [
    {
     "output_type": "error",
     "ename": "TypeError",
     "evalue": "auc() takes 2 positional arguments but 3 were given",
     "traceback": [
      "\u001b[0;31m---------------------------------------------------------------------------\u001b[0m",
      "\u001b[0;31mTypeError\u001b[0m                                 Traceback (most recent call last)",
      "\u001b[0;32m<ipython-input-62-833d9a68f454>\u001b[0m in \u001b[0;36m<module>\u001b[0;34m\u001b[0m\n\u001b[1;32m     84\u001b[0m               aps(X_val, y_val, assm)],\n\u001b[1;32m     85\u001b[0m             'ROC AUC Score': [\"\",\n\u001b[0;32m---> 86\u001b[0;31m               \u001b[0mauc\u001b[0m\u001b[0;34m(\u001b[0m\u001b[0mX_val\u001b[0m\u001b[0;34m,\u001b[0m \u001b[0my_val\u001b[0m\u001b[0;34m,\u001b[0m \u001b[0mbc\u001b[0m\u001b[0;34m)\u001b[0m\u001b[0;34m,\u001b[0m\u001b[0;34m\u001b[0m\u001b[0;34m\u001b[0m\u001b[0m\n\u001b[0m\u001b[1;32m     87\u001b[0m               \u001b[0mauc\u001b[0m\u001b[0;34m(\u001b[0m\u001b[0mX_val\u001b[0m\u001b[0;34m,\u001b[0m \u001b[0my_val\u001b[0m\u001b[0;34m,\u001b[0m \u001b[0mbbc\u001b[0m\u001b[0;34m)\u001b[0m\u001b[0;34m,\u001b[0m\u001b[0;34m\u001b[0m\u001b[0;34m\u001b[0m\u001b[0m\n\u001b[1;32m     88\u001b[0m               \u001b[0mauc\u001b[0m\u001b[0;34m(\u001b[0m\u001b[0mX_val\u001b[0m\u001b[0;34m,\u001b[0m \u001b[0my_val\u001b[0m\u001b[0;34m,\u001b[0m \u001b[0mbbc3\u001b[0m\u001b[0;34m)\u001b[0m\u001b[0;34m,\u001b[0m\u001b[0;34m\u001b[0m\u001b[0;34m\u001b[0m\u001b[0m\n",
      "\u001b[0;31mTypeError\u001b[0m: auc() takes 2 positional arguments but 3 were given"
     ]
    }
   ],
   "source": [
    "data = {'Accuracy': [\"\",\n",
    "                     accuracy(y_val, y_pred_bc_val),\n",
    "                     accuracy(y_val, y_pred_bbc_val),\n",
    "                     accuracy(y_val, y_pred_bbc3_val),\n",
    "                     accuracy(y_val, y_pred_brf_val),\n",
    "                     accuracy(y_val, y_pred_rbc_val),\n",
    "                     accuracy(y_val, y_pred_eec_val),\n",
    "                     \"\",\n",
    "                     accuracy(y_val, y_pred_tl_val),\n",
    "                     accuracy(y_val, y_pred_enn_val),\n",
    "                     accuracy(y_val, y_pred_oss_val),\n",
    "                     accuracy(y_val, y_pred_ncr_val),\n",
    "                     \"\",\n",
    "                     accuracy(y_val, y_pred_sm_val),\n",
    "                     accuracy(y_val, y_pred_svmsm_val),\n",
    "                     accuracy(y_val, y_pred_adsnm_val),\n",
    "                     \"\",\n",
    "                     accuracy(y_val, y_pred_smtk_val),\n",
    "                     accuracy(y_val, y_pred_smenn_val),\n",
    "                     \"\",\n",
    "                     accuracy(y_val, y_pred_pfsm_val),\n",
    "                     accuracy(y_val, y_pred_pws_val),\n",
    "                     accuracy(y_val, y_pred_smipf_val),\n",
    "                     accuracy(y_val, y_pred_smobd_val),\n",
    "                     accuracy(y_val, y_pred_gsm_val),\n",
    "                     accuracy(y_val, y_pred_ccr_val),\n",
    "                     accuracy(y_val, y_pred_lvq_val),\n",
    "                     accuracy(y_val, y_pred_ass_val)],\n",
    "    'F1 Score': [\"\",\n",
    "                f1_score(y_val, y_pred_bc_val),\n",
    "                f1_score(y_val, y_pred_bbc_val),\n",
    "                f1_score(y_val, y_pred_bbc3_val),\n",
    "                f1_score(y_val, y_pred_brf_val),\n",
    "                f1_score(y_val, y_pred_rbc_val),\n",
    "                f1_score(y_val, y_pred_eec_val),\n",
    "                \"\",\n",
    "                f1_score(y_val, y_pred_tl_val),\n",
    "                f1_score(y_val, y_pred_enn_val),\n",
    "                f1_score(y_val, y_pred_oss_val),\n",
    "                f1_score(y_val, y_pred_ncr_val),\n",
    "                \"\",\n",
    "                f1_score(y_val, y_pred_sm_val),\n",
    "                f1_score(y_val, y_pred_svmsm_val),\n",
    "                f1_score(y_val, y_pred_adsnm_val),\n",
    "                \"\",\n",
    "                f1_score(y_val, y_pred_smtk_val),\n",
    "                f1_score(y_val, y_pred_smenn_val),\n",
    "                \"\",\n",
    "                f1_score(y_val, y_pred_pfsm_val),\n",
    "                f1_score(y_val, y_pred_pws_val),\n",
    "                f1_score(y_val, y_pred_smipf_val),\n",
    "                f1_score(y_val, y_pred_smobd_val),\n",
    "                f1_score(y_val, y_pred_gsm_val),\n",
    "                f1_score(y_val, y_pred_ccr_val),\n",
    "                f1_score(y_val, y_pred_lvq_val),\n",
    "                f1_score(y_val, y_pred_ass_val)],\n",
    "    'PR AUC Score': [\"\",\n",
    "              aps(X_val, y_val, bc),\n",
    "              aps(X_val, y_val, bbc),\n",
    "              aps(X_val, y_val, bbc3),\n",
    "              aps(X_val, y_val, brf),\n",
    "              aps(X_val, y_val, rbc),\n",
    "              aps(X_val, y_val, eec),\n",
    "              \"\",\n",
    "              aps(X_val, y_val, tlm),\n",
    "              aps(X_val, y_val, ennm),\n",
    "              \"\",\n",
    "              \"\",\n",
    "              \"\",\n",
    "              aps(X_val, y_val, smm),\n",
    "              aps(X_val, y_val, svmsmote),\n",
    "              aps(X_val, y_val, adsnm),\n",
    "              \"\",\n",
    "              aps(X_val, y_val, smtkm),\n",
    "              aps(X_val, y_val, smennm),\n",
    "              \"\",\n",
    "              aps(X_val, y_val, pfsmm),\n",
    "              aps(X_val, y_val, pwsm),\n",
    "              aps(X_val, y_val, smipfm),\n",
    "              aps(X_val, y_val, smobdm),\n",
    "              aps(X_val, y_val, gsmm),\n",
    "              aps(X_val, y_val, ccrm),\n",
    "              aps(X_val, y_val, lvqm),\n",
    "              aps(X_val, y_val, assm)],\n",
    "            'ROC AUC Score': [\"\",\n",
    "              auc(y_val, y_bc),\n",
    "              auc(X_val, y_val, bbc),\n",
    "              auc(X_val, y_val, bbc3),\n",
    "              auc(X_val, y_val, brf),\n",
    "              auc(X_val, y_val, rbc),\n",
    "              auc(X_val, y_val, eec),\n",
    "              \"\",\n",
    "              auc(X_val, y_val, tlm),\n",
    "              auc(X_val, y_val, ennm),\n",
    "              \"\",\n",
    "              \"\",\n",
    "              \"\",\n",
    "              auc(X_val, y_val, smm),\n",
    "              auc(X_val, y_val, svmsmote),\n",
    "              auc(X_val, y_val, adsnm),\n",
    "              \"\",\n",
    "              auc(X_val, y_val, smtkm),\n",
    "              auc(X_val, y_val, smennm),\n",
    "              \"\",\n",
    "              auc(X_val, y_val, pfsmm),\n",
    "              auc(X_val, y_val, pwsm),\n",
    "              auc(X_val, y_val, smipfm),\n",
    "              auc(X_val, y_val, smobdm),\n",
    "              auc(X_val, y_val, gsmm),\n",
    "              auc(X_val, y_val, ccrm),\n",
    "              auc(X_val, y_val, lvqm),\n",
    "              auc(X_val, y_val, assm)]}\n",
    "scores = pd.DataFrame(data=data, index = ['ENSEMBLE METHODS',\n",
    "                                          'BaggingClassifier',\n",
    "                                          'BalancedBaggingClassifier',\n",
    "                                          'BBC with GradientBoostingClassifier',\n",
    "                                          'BalancedRandomForestClassifier',\n",
    "                                          'RUBoostClassifier',\n",
    "                                          'EasyEnsembleClassifier',\n",
    "                                          'UNDERSAMPLING METHODS',\n",
    "                                          'TomekLinks',\n",
    "                                          'EditedNearestNeighbours',\n",
    "                                          'OneSidedSelection',\n",
    "                                          'NeighbourhoodCleaningRule',\n",
    "                                          'OVERSAMPLING METHODS',\n",
    "                                          'SMOTE',\n",
    "                                          'SVMSMOTE',\n",
    "                                          'ADASYN',\n",
    "                                          'COMBINED METHODS',\n",
    "                                          'SMOTETomek',\n",
    "                                          'SMOTEENN',\n",
    "                                          'SMOTE-VARIANTS',\n",
    "                                          'sv.polynom_fit_SMOTE',\n",
    "                                          'sv.ProWSyn',\n",
    "                                          'sv.SMOTE_IPF',\n",
    "                                          'sv.SMOBD',\n",
    "                                          'sv.G_SMOTE',\n",
    "                                          'sv.CCR',\n",
    "                                          'sv.LQV_SMOTE',\n",
    "                                          'sv.Assembled_SMOTE'])"
   ]
  },
  {
   "cell_type": "code",
   "execution_count": 60,
   "metadata": {},
   "outputs": [
    {
     "output_type": "execute_result",
     "data": {
      "text/plain": [
       "                                     Accuracy  F1 Score PR AUC Score\n",
       "ENSEMBLE METHODS                                                    \n",
       "BaggingClassifier                       0.807  0.443269     0.204693\n",
       "BalancedBaggingClassifier            0.763167   0.51118     0.307574\n",
       "BBC with GradientBoostingClassifier  0.753333  0.527157      0.43927\n",
       "BalancedRandomForestClassifier          0.724  0.508314     0.511147\n",
       "RUBoostClassifier                    0.756667  0.519737     0.524461\n",
       "EasyEnsembleClassifier               0.751667  0.527883     0.526296\n",
       "UNDERSAMPLING METHODS                                               \n",
       "TomekLinks                           0.819667  0.489623     0.535317\n",
       "EditedNearestNeighbours              0.786667  0.527326     0.535317\n",
       "OneSidedSelection                    0.819833  0.492726             \n",
       "NeighbourhoodCleaningRule            0.789833  0.529653             \n",
       "OVERSAMPLING METHODS                                                \n",
       "SMOTE                                0.762167  0.525125     0.535317\n",
       "SVMSMOTE                             0.772667  0.527701     0.535317\n",
       "ADASYN                               0.736333  0.507778     0.535317\n",
       "COMBINED METHODS                                                    \n",
       "SMOTETomek                           0.760833  0.521826     0.535317\n",
       "SMOTEENN                             0.728833  0.513311     0.535317\n",
       "SMOTE-VARIANTS                                                      \n",
       "sv.polynom_fit_SMOTE                 0.821333  0.469832     0.535317\n",
       "sv.ProWSyn                           0.812667  0.490942     0.535317\n",
       "sv.SMOTE_IPF                         0.765167  0.524789     0.535317\n",
       "sv.SMOBD                             0.758333  0.517952     0.535317\n",
       "sv.G_SMOTE                           0.767333   0.52517     0.535317\n",
       "sv.CCR                               0.821167  0.465903     0.535317\n",
       "sv.LQV_SMOTE                         0.817833  0.471725     0.535317\n",
       "sv.Assembled_SMOTE                   0.759667   0.52093     0.535317"
      ],
      "text/html": "<div>\n<style scoped>\n    .dataframe tbody tr th:only-of-type {\n        vertical-align: middle;\n    }\n\n    .dataframe tbody tr th {\n        vertical-align: top;\n    }\n\n    .dataframe thead th {\n        text-align: right;\n    }\n</style>\n<table border=\"1\" class=\"dataframe\">\n  <thead>\n    <tr style=\"text-align: right;\">\n      <th></th>\n      <th>Accuracy</th>\n      <th>F1 Score</th>\n      <th>PR AUC Score</th>\n    </tr>\n  </thead>\n  <tbody>\n    <tr>\n      <th>ENSEMBLE METHODS</th>\n      <td></td>\n      <td></td>\n      <td></td>\n    </tr>\n    <tr>\n      <th>BaggingClassifier</th>\n      <td>0.807</td>\n      <td>0.443269</td>\n      <td>0.204693</td>\n    </tr>\n    <tr>\n      <th>BalancedBaggingClassifier</th>\n      <td>0.763167</td>\n      <td>0.51118</td>\n      <td>0.307574</td>\n    </tr>\n    <tr>\n      <th>BBC with GradientBoostingClassifier</th>\n      <td>0.753333</td>\n      <td>0.527157</td>\n      <td>0.43927</td>\n    </tr>\n    <tr>\n      <th>BalancedRandomForestClassifier</th>\n      <td>0.724</td>\n      <td>0.508314</td>\n      <td>0.511147</td>\n    </tr>\n    <tr>\n      <th>RUBoostClassifier</th>\n      <td>0.756667</td>\n      <td>0.519737</td>\n      <td>0.524461</td>\n    </tr>\n    <tr>\n      <th>EasyEnsembleClassifier</th>\n      <td>0.751667</td>\n      <td>0.527883</td>\n      <td>0.526296</td>\n    </tr>\n    <tr>\n      <th>UNDERSAMPLING METHODS</th>\n      <td></td>\n      <td></td>\n      <td></td>\n    </tr>\n    <tr>\n      <th>TomekLinks</th>\n      <td>0.819667</td>\n      <td>0.489623</td>\n      <td>0.535317</td>\n    </tr>\n    <tr>\n      <th>EditedNearestNeighbours</th>\n      <td>0.786667</td>\n      <td>0.527326</td>\n      <td>0.535317</td>\n    </tr>\n    <tr>\n      <th>OneSidedSelection</th>\n      <td>0.819833</td>\n      <td>0.492726</td>\n      <td></td>\n    </tr>\n    <tr>\n      <th>NeighbourhoodCleaningRule</th>\n      <td>0.789833</td>\n      <td>0.529653</td>\n      <td></td>\n    </tr>\n    <tr>\n      <th>OVERSAMPLING METHODS</th>\n      <td></td>\n      <td></td>\n      <td></td>\n    </tr>\n    <tr>\n      <th>SMOTE</th>\n      <td>0.762167</td>\n      <td>0.525125</td>\n      <td>0.535317</td>\n    </tr>\n    <tr>\n      <th>SVMSMOTE</th>\n      <td>0.772667</td>\n      <td>0.527701</td>\n      <td>0.535317</td>\n    </tr>\n    <tr>\n      <th>ADASYN</th>\n      <td>0.736333</td>\n      <td>0.507778</td>\n      <td>0.535317</td>\n    </tr>\n    <tr>\n      <th>COMBINED METHODS</th>\n      <td></td>\n      <td></td>\n      <td></td>\n    </tr>\n    <tr>\n      <th>SMOTETomek</th>\n      <td>0.760833</td>\n      <td>0.521826</td>\n      <td>0.535317</td>\n    </tr>\n    <tr>\n      <th>SMOTEENN</th>\n      <td>0.728833</td>\n      <td>0.513311</td>\n      <td>0.535317</td>\n    </tr>\n    <tr>\n      <th>SMOTE-VARIANTS</th>\n      <td></td>\n      <td></td>\n      <td></td>\n    </tr>\n    <tr>\n      <th>sv.polynom_fit_SMOTE</th>\n      <td>0.821333</td>\n      <td>0.469832</td>\n      <td>0.535317</td>\n    </tr>\n    <tr>\n      <th>sv.ProWSyn</th>\n      <td>0.812667</td>\n      <td>0.490942</td>\n      <td>0.535317</td>\n    </tr>\n    <tr>\n      <th>sv.SMOTE_IPF</th>\n      <td>0.765167</td>\n      <td>0.524789</td>\n      <td>0.535317</td>\n    </tr>\n    <tr>\n      <th>sv.SMOBD</th>\n      <td>0.758333</td>\n      <td>0.517952</td>\n      <td>0.535317</td>\n    </tr>\n    <tr>\n      <th>sv.G_SMOTE</th>\n      <td>0.767333</td>\n      <td>0.52517</td>\n      <td>0.535317</td>\n    </tr>\n    <tr>\n      <th>sv.CCR</th>\n      <td>0.821167</td>\n      <td>0.465903</td>\n      <td>0.535317</td>\n    </tr>\n    <tr>\n      <th>sv.LQV_SMOTE</th>\n      <td>0.817833</td>\n      <td>0.471725</td>\n      <td>0.535317</td>\n    </tr>\n    <tr>\n      <th>sv.Assembled_SMOTE</th>\n      <td>0.759667</td>\n      <td>0.52093</td>\n      <td>0.535317</td>\n    </tr>\n  </tbody>\n</table>\n</div>"
     },
     "metadata": {},
     "execution_count": 60
    }
   ],
   "source": [
    "scores"
   ]
  },
  {
   "cell_type": "code",
   "execution_count": null,
   "metadata": {},
   "outputs": [],
   "source": []
  }
 ]
}