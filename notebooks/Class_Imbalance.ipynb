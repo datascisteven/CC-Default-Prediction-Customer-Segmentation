{
 "metadata": {
  "language_info": {
   "codemirror_mode": {
    "name": "ipython",
    "version": 3
   },
   "file_extension": ".py",
   "mimetype": "text/x-python",
   "name": "python",
   "nbconvert_exporter": "python",
   "pygments_lexer": "ipython3",
   "version": "3.9.2-final"
  },
  "orig_nbformat": 2,
  "kernelspec": {
   "name": "python392jvsc74a57bd080773cdecc613a186b9eac051636553d2ff0f99c57590601666ed713bd5d0256",
   "display_name": "Python 3.9.2 64-bit ('learn-env': conda)"
  }
 },
 "nbformat": 4,
 "nbformat_minor": 2,
 "cells": [
  {
   "source": [
    "# Importing Packages"
   ],
   "cell_type": "markdown",
   "metadata": {}
  },
  {
   "cell_type": "code",
   "execution_count": 2,
   "metadata": {},
   "outputs": [],
   "source": [
    "import numpy as np \n",
    "import pandas as pd\n",
    "from matplotlib import pyplot as plt\n",
    "%matplotlib inline\n",
    "plt.style.use(\"fivethirtyeight\")\n",
    "import seaborn as sns\n",
    "import warnings\n",
    "warnings.filterwarnings('ignore')\n",
    "from collections import Counter\n",
    "import pickle\n",
    "\n",
    "%reload_ext autoreload\n",
    "%autoreload 2\n",
    "from utils import *\n",
    "\n",
    "import smote_variants as sv\n",
    "import imbalanced_databases as imbd\n",
    "import xgboost as xgb\n",
    "\n",
    "from sklearn.linear_model import LogisticRegression\n",
    "from sklearn.tree import DecisionTreeClassifier\n",
    "from sklearn.experimental import enable_hist_gradient_boosting\n",
    "from sklearn.ensemble import AdaBoostClassifier, GradientBoostingClassifier, RandomForestClassifier, BaggingClassifier, HistGradientBoostingClassifier\n",
    "from sklearn.model_selection import train_test_split, KFold, cross_val_score, cross_val_predict, GridSearchCV,RepeatedStratifiedKFold, cross_validate\n",
    "from sklearn.metrics import accuracy_score, confusion_matrix, precision_score, recall_score, f1_score, precision_recall_curve, roc_curve, roc_auc_score, classification_report, plot_confusion_matrix, auc, mean_squared_error, confusion_matrix, balanced_accuracy_score\n",
    "from sklearn.preprocessing import StandardScaler, MinMaxScaler\n",
    "from sklearn.utils import resample\n",
    "from sklearn.dummy import DummyClassifier\n",
    "from imblearn.metrics import geometric_mean_score\n",
    "\n",
    "from imblearn.under_sampling import CondensedNearestNeighbour, NearMiss, OneSidedSelection, NeighbourhoodCleaningRule, RandomUnderSampler, TomekLinks, EditedNearestNeighbours\n",
    "from imblearn.combine import SMOTETomek, SMOTEENN\n",
    "from imblearn.over_sampling import RandomOverSampler, SMOTE, ADASYN, SVMSMOTE\n",
    "from imblearn.ensemble import BalancedBaggingClassifier, BalancedRandomForestClassifier, EasyEnsembleClassifier, RUSBoostClassifier\n",
    "\n",
    "from xgboost.sklearn import XGBClassifier"
   ]
  },
  {
   "source": [
    "# Importing Training and Validation Datasets"
   ],
   "cell_type": "markdown",
   "metadata": {}
  },
  {
   "cell_type": "code",
   "execution_count": 3,
   "metadata": {},
   "outputs": [],
   "source": [
    "pickle_in = open(\"../data/pickles/training_model.pickle\",\"rb\")\n",
    "train = pickle.load(pickle_in)\n",
    "pickle_in = open(\"../data/pickles/validate_model.pickle\",\"rb\")\n",
    "validate = pickle.load(pickle_in)"
   ]
  },
  {
   "cell_type": "code",
   "execution_count": 4,
   "metadata": {},
   "outputs": [],
   "source": [
    "X_train = train.drop([\"default\"], axis=1)\n",
    "y_tr = train[\"default\"]\n",
    "X_validate = validate.drop([\"default\"], axis=1)\n",
    "y_val = validate[\"default\"]"
   ]
  },
  {
   "cell_type": "code",
   "execution_count": 5,
   "metadata": {},
   "outputs": [
    {
     "output_type": "execute_result",
     "data": {
      "text/plain": [
       "     limit  behind1    paid2  delayed  latemths  age  behind2  billed1  \\\n",
       "0  1790.26        0   179.13        0         0   44        0  1631.93   \n",
       "1  5728.83       -1   173.87        0         0   46       -1   891.69   \n",
       "2  3580.52       -1     0.00        0         0   47       -1   238.68   \n",
       "3  6086.88        0    89.26        0         0   29        0  2831.87   \n",
       "4  5370.78       -2  1171.37        0         0   33       -2   873.40   \n",
       "\n",
       "     avg_av    avail1  \n",
       "0  0.344578  0.088440  \n",
       "1  0.957227  0.844350  \n",
       "2  0.968650  0.933339  \n",
       "3  0.650602  0.534758  \n",
       "4  0.836153  0.837379  "
      ],
      "text/html": "<div>\n<style scoped>\n    .dataframe tbody tr th:only-of-type {\n        vertical-align: middle;\n    }\n\n    .dataframe tbody tr th {\n        vertical-align: top;\n    }\n\n    .dataframe thead th {\n        text-align: right;\n    }\n</style>\n<table border=\"1\" class=\"dataframe\">\n  <thead>\n    <tr style=\"text-align: right;\">\n      <th></th>\n      <th>limit</th>\n      <th>behind1</th>\n      <th>paid2</th>\n      <th>delayed</th>\n      <th>latemths</th>\n      <th>age</th>\n      <th>behind2</th>\n      <th>billed1</th>\n      <th>avg_av</th>\n      <th>avail1</th>\n    </tr>\n  </thead>\n  <tbody>\n    <tr>\n      <th>0</th>\n      <td>1790.26</td>\n      <td>0</td>\n      <td>179.13</td>\n      <td>0</td>\n      <td>0</td>\n      <td>44</td>\n      <td>0</td>\n      <td>1631.93</td>\n      <td>0.344578</td>\n      <td>0.088440</td>\n    </tr>\n    <tr>\n      <th>1</th>\n      <td>5728.83</td>\n      <td>-1</td>\n      <td>173.87</td>\n      <td>0</td>\n      <td>0</td>\n      <td>46</td>\n      <td>-1</td>\n      <td>891.69</td>\n      <td>0.957227</td>\n      <td>0.844350</td>\n    </tr>\n    <tr>\n      <th>2</th>\n      <td>3580.52</td>\n      <td>-1</td>\n      <td>0.00</td>\n      <td>0</td>\n      <td>0</td>\n      <td>47</td>\n      <td>-1</td>\n      <td>238.68</td>\n      <td>0.968650</td>\n      <td>0.933339</td>\n    </tr>\n    <tr>\n      <th>3</th>\n      <td>6086.88</td>\n      <td>0</td>\n      <td>89.26</td>\n      <td>0</td>\n      <td>0</td>\n      <td>29</td>\n      <td>0</td>\n      <td>2831.87</td>\n      <td>0.650602</td>\n      <td>0.534758</td>\n    </tr>\n    <tr>\n      <th>4</th>\n      <td>5370.78</td>\n      <td>-2</td>\n      <td>1171.37</td>\n      <td>0</td>\n      <td>0</td>\n      <td>33</td>\n      <td>-2</td>\n      <td>873.40</td>\n      <td>0.836153</td>\n      <td>0.837379</td>\n    </tr>\n  </tbody>\n</table>\n</div>"
     },
     "metadata": {},
     "execution_count": 5
    }
   ],
   "source": [
    "X_train.head()"
   ]
  },
  {
   "cell_type": "code",
   "execution_count": 6,
   "metadata": {},
   "outputs": [
    {
     "output_type": "execute_result",
     "data": {
      "text/plain": [
       "     limit  behind1   paid2  delayed  latemths  age  behind2  billed1  \\\n",
       "0  1074.16        0   71.61        0         0   25        0   317.38   \n",
       "1  5370.78        0  151.64        0         0   26        0  4895.86   \n",
       "2  2506.36        0  111.43        0         0   32        0  2510.73   \n",
       "3  4654.68        0   64.74        0         0   49        0   740.38   \n",
       "4  1790.26        0   53.71        1         1   36        0  3373.85   \n",
       "\n",
       "     avg_av    avail1  \n",
       "0  0.602052  0.704532  \n",
       "1  0.293715  0.088427  \n",
       "2  0.005217 -0.001744  \n",
       "3  0.883482  0.840939  \n",
       "4  0.188227 -0.884559  "
      ],
      "text/html": "<div>\n<style scoped>\n    .dataframe tbody tr th:only-of-type {\n        vertical-align: middle;\n    }\n\n    .dataframe tbody tr th {\n        vertical-align: top;\n    }\n\n    .dataframe thead th {\n        text-align: right;\n    }\n</style>\n<table border=\"1\" class=\"dataframe\">\n  <thead>\n    <tr style=\"text-align: right;\">\n      <th></th>\n      <th>limit</th>\n      <th>behind1</th>\n      <th>paid2</th>\n      <th>delayed</th>\n      <th>latemths</th>\n      <th>age</th>\n      <th>behind2</th>\n      <th>billed1</th>\n      <th>avg_av</th>\n      <th>avail1</th>\n    </tr>\n  </thead>\n  <tbody>\n    <tr>\n      <th>0</th>\n      <td>1074.16</td>\n      <td>0</td>\n      <td>71.61</td>\n      <td>0</td>\n      <td>0</td>\n      <td>25</td>\n      <td>0</td>\n      <td>317.38</td>\n      <td>0.602052</td>\n      <td>0.704532</td>\n    </tr>\n    <tr>\n      <th>1</th>\n      <td>5370.78</td>\n      <td>0</td>\n      <td>151.64</td>\n      <td>0</td>\n      <td>0</td>\n      <td>26</td>\n      <td>0</td>\n      <td>4895.86</td>\n      <td>0.293715</td>\n      <td>0.088427</td>\n    </tr>\n    <tr>\n      <th>2</th>\n      <td>2506.36</td>\n      <td>0</td>\n      <td>111.43</td>\n      <td>0</td>\n      <td>0</td>\n      <td>32</td>\n      <td>0</td>\n      <td>2510.73</td>\n      <td>0.005217</td>\n      <td>-0.001744</td>\n    </tr>\n    <tr>\n      <th>3</th>\n      <td>4654.68</td>\n      <td>0</td>\n      <td>64.74</td>\n      <td>0</td>\n      <td>0</td>\n      <td>49</td>\n      <td>0</td>\n      <td>740.38</td>\n      <td>0.883482</td>\n      <td>0.840939</td>\n    </tr>\n    <tr>\n      <th>4</th>\n      <td>1790.26</td>\n      <td>0</td>\n      <td>53.71</td>\n      <td>1</td>\n      <td>1</td>\n      <td>36</td>\n      <td>0</td>\n      <td>3373.85</td>\n      <td>0.188227</td>\n      <td>-0.884559</td>\n    </tr>\n  </tbody>\n</table>\n</div>"
     },
     "metadata": {},
     "execution_count": 6
    }
   ],
   "source": [
    "X_validate.head()"
   ]
  },
  {
   "source": [
    "# Standardize Datasets"
   ],
   "cell_type": "markdown",
   "metadata": {}
  },
  {
   "cell_type": "code",
   "execution_count": 7,
   "metadata": {},
   "outputs": [],
   "source": [
    "scaler = StandardScaler()\n",
    "scaler.fit(X_train)\n",
    "X_tr_ss = scaler.transform(X_train)\n",
    "X_val_ss = scaler.transform(X_validate)"
   ]
  },
  {
   "cell_type": "code",
   "execution_count": 8,
   "metadata": {},
   "outputs": [],
   "source": [
    "scaled = MinMaxScaler()\n",
    "scaled.fit(X_train)\n",
    "X_tr = scaled.transform(X_train)\n",
    "X_val = scaled.transform(X_validate)"
   ]
  },
  {
   "source": [
    "# Importing Model"
   ],
   "cell_type": "markdown",
   "metadata": {}
  },
  {
   "cell_type": "code",
   "execution_count": 9,
   "metadata": {},
   "outputs": [],
   "source": [
    "pickle_in = open(\"../data/pickles/best_model.pickle\",\"rb\")\n",
    "rfcb = pickle.load(pickle_in)"
   ]
  },
  {
   "cell_type": "code",
   "execution_count": 10,
   "metadata": {},
   "outputs": [
    {
     "output_type": "execute_result",
     "data": {
      "text/plain": [
       "RandomForestClassifier(max_depth=8, n_estimators=400)"
      ]
     },
     "metadata": {},
     "execution_count": 10
    }
   ],
   "source": [
    "rfcb"
   ]
  },
  {
   "source": [
    "# Dummy Classifier"
   ],
   "cell_type": "markdown",
   "metadata": {}
  },
  {
   "cell_type": "code",
   "execution_count": 11,
   "metadata": {},
   "outputs": [
    {
     "output_type": "stream",
     "name": "stdout",
     "text": [
      "Training Accuracy:  0.7782857142857142\nValidation Accuracy:  0.7811666666666667\nTraining F1 Score:  0.0\nValidation F1 Score:  0.0\nTraining AUC Score:  0.5\nValidation AUC Score:  0.5\nTraining Recall Score:  0.0\nValidation Recall Score:  0.0\nTraining Precision Score:  0.0\nValidation Precision Score:  0.0\nTraining Average Precision Score:  0.22171428571428572\nValidation Average Precision Score:  0.21883333333333332\n"
     ]
    }
   ],
   "source": [
    "dc = DummyClassifier(strategy='most_frequent').fit(X_tr, y_tr)\n",
    "y_pred_dc_tr = dc.predict(X_tr)\n",
    "y_pred_dc_val = dc.predict(X_val)\n",
    "get_metric(X_tr, y_tr, X_val, y_val, y_pred_dc_tr, y_pred_dc_val, dc)"
   ]
  },
  {
   "source": [
    "# Ensemble Methods"
   ],
   "cell_type": "markdown",
   "metadata": {}
  },
  {
   "source": [
    "## Bagging Classifier\n",
    "\n",
    "Instead of using a single tree, we will check if an ensemble of decsion tree can actually alleviate the issue induced by the class imbalancing. First, we will use a bagging classifier and its counter part which internally uses a random under-sampling to balanced each boostrap sample.\n",
    "\n",
    "Balancing each bootstrap sample allows to increase significantly the balanced accuracy and the geometric mean."
   ],
   "cell_type": "markdown",
   "metadata": {}
  },
  {
   "cell_type": "code",
   "execution_count": 12,
   "metadata": {},
   "outputs": [
    {
     "output_type": "stream",
     "name": "stdout",
     "text": [
      "Training Accuracy:  0.996904761904762\nValidation Accuracy:  0.807\nTraining F1 Score:  0.9929964443486693\nValidation F1 Score:  0.44326923076923075\nTraining AUC Score:  0.9998954304300327\nValidation AUC Score:  0.740359286457933\nTraining Recall Score:  0.9896907216494846\nValidation Recall Score:  0.3511043412033511\nTraining Precision Score:  0.9963243243243243\nValidation Precision Score:  0.6010430247718384\nTraining Average Precision Score:  0.9996190235446103\nValidation Average Precision Score:  0.48114820511254575\n\nTraining Balanced Accuracy:  0.9943252922980659\nTraining Geometric Mean:  0.9943144913248209\nValidation Balanced Accuracy:  0.6429086886302653\nValidation Geometric Mean:  0.5728715429649479\n"
     ]
    }
   ],
   "source": [
    "bc = BaggingClassifier(n_estimators=50, random_state=42).fit(X_tr_ss, y_tr)\n",
    "y_pred_bc_tr = bc.predict(X_tr_ss)\n",
    "y_pred_bc_val = bc.predict(X_val_ss)\n",
    "get_metric(X_tr_ss, y_tr, X_val_ss, y_val, y_pred_bc_tr, y_pred_bc_val, bc)\n",
    "print(\"\")\n",
    "print('Training Balanced Accuracy: ', balanced_accuracy_score(y_tr, y_pred_bc_tr))\n",
    "print('Training Geometric Mean: ', geometric_mean_score(y_tr, y_pred_bc_tr))\n",
    "print('Validation Balanced Accuracy: ', balanced_accuracy_score(y_val, y_pred_bc_val))\n",
    "print('Validation Geometric Mean: ', geometric_mean_score(y_val, y_pred_bc_val))"
   ]
  },
  {
   "source": [
    "## Balanced Bagging Classifier\n",
    "\n",
    "A Bagging classifier with additional balancing.\n",
    "\n",
    "This implementation of Bagging is similar to the scikit-learn implementation. It includes an additional step to balance the training set at fit time using a given sampler.\n",
    "\n",
    "This classifier can serves as a basis to implement various methods such as Exactly Balanced Bagging [6], Roughly Balanced Bagging [7], Over-Bagging [6], or SMOTE-Bagging [8]."
   ],
   "cell_type": "markdown",
   "metadata": {}
  },
  {
   "cell_type": "code",
   "execution_count": 13,
   "metadata": {},
   "outputs": [
    {
     "output_type": "stream",
     "name": "stdout",
     "text": [
      "Training Accuracy:  0.9383333333333334\nValidation Accuracy:  0.7631666666666667\nTraining F1 Score:  0.8778186621379375\nValidation F1 Score:  0.5111799105607154\nTraining AUC Score:  0.9955504481714446\nValidation AUC Score:  0.7528188434539899\nTraining Recall Score:  0.9991408934707904\nValidation Recall Score:  0.5658796648895659\nTraining Precision Score:  0.7827696449604576\nValidation Precision Score:  0.46612296110414053\nTraining Average Precision Score:  0.9819759873453777\nValidation Average Precision Score:  0.499848233823849\n\nTraining Balanced Accuracy:  0.9600758309742596\nTraining Geometric Mean:  0.9592807316490086\nValidation Balanced Accuracy:  0.6921568155896517\nValidation Geometric Mean:  0.680540328399629\n"
     ]
    }
   ],
   "source": [
    "bbc = BalancedBaggingClassifier(n_estimators=50, random_state=42).fit(X_tr_ss, y_tr)\n",
    "y_pred_bbc_tr = bbc.predict(X_tr_ss)\n",
    "y_pred_bbc_val = bbc.predict(X_val_ss)\n",
    "get_metric(X_tr_ss, y_tr, X_val_ss, y_val, y_pred_bbc_tr, y_pred_bbc_val, bbc)\n",
    "print(\"\")\n",
    "print('Training Balanced Accuracy: ', balanced_accuracy_score(y_tr, y_pred_bbc_tr))\n",
    "print('Training Geometric Mean: ', geometric_mean_score(y_tr, y_pred_bbc_tr))\n",
    "print('Validation Balanced Accuracy: ', balanced_accuracy_score(y_val, y_pred_bbc_val))\n",
    "print('Validation Geometric Mean: ', geometric_mean_score(y_val, y_pred_bbc_val))"
   ]
  },
  {
   "source": [
    "## Balanced Bagging Classifier with Gradient Boosting Classifier"
   ],
   "cell_type": "markdown",
   "metadata": {}
  },
  {
   "cell_type": "code",
   "execution_count": 14,
   "metadata": {},
   "outputs": [
    {
     "output_type": "stream",
     "name": "stdout",
     "text": [
      "Training Accuracy:  0.793\nValidation Accuracy:  0.7533333333333333\nTraining F1 Score:  0.6030499497762761\nValidation F1 Score:  0.5271565495207667\nTraining AUC Score:  0.8560039766792316\nValidation AUC Score:  0.7749874838134551\nTraining Recall Score:  0.709192439862543\nValidation Recall Score:  0.6283320639756284\nTraining Precision Score:  0.5245432883240667\nValidation Precision Score:  0.45404512933406715\nTraining Average Precision Score:  0.680188981227117\nValidation Average Precision Score:  0.5372388529575939\n"
     ]
    }
   ],
   "source": [
    "bbc3 = BalancedBaggingClassifier(\n",
    "        base_estimator=HistGradientBoostingClassifier(random_state=42),\n",
    "        n_estimators=10,\n",
    "        random_state=42,\n",
    "        n_jobs=2).fit(X_tr_ss, y_tr)\n",
    "y_pred_bbc3_tr = bbc3.predict(X_tr_ss)\n",
    "y_pred_bbc3_val = bbc3.predict(X_val_ss)\n",
    "get_metric(X_tr_ss, y_tr, X_val_ss, y_val, y_pred_bbc3_tr, y_pred_bbc3_val, bbc3)"
   ]
  },
  {
   "source": [
    "## Balanced Random Forest Classifier\n",
    "\n",
    "Random forest is another popular ensemble method and it is usually outperforming bagging. Here, we used a vanilla random forest and its balanced counterpart in which each bootstrap sample is balanced.\n",
    "\n",
    "Similarly to the previous experiment, the balanced classifier outperform the classifier which learn from imbalanced bootstrap samples. In addition, random forest outsperforms the bagging classifier."
   ],
   "cell_type": "markdown",
   "metadata": {}
  },
  {
   "cell_type": "code",
   "execution_count": 15,
   "metadata": {},
   "outputs": [
    {
     "output_type": "stream",
     "name": "stdout",
     "text": [
      "Training Accuracy:  0.888\nValidation Accuracy:  0.724\nTraining F1 Score:  0.7983539094650206\nValidation F1 Score:  0.5083135391923991\nTraining AUC Score:  0.9928255616361626\nValidation AUC Score:  0.7643157793647772\nTraining Recall Score:  1.0\nValidation Recall Score:  0.6519421172886519\nTraining Precision Score:  0.6643835616438356\nValidation Precision Score:  0.41654501216545015\nTraining Average Precision Score:  0.973183893912578\nValidation Average Precision Score:  0.5111466083509113\n"
     ]
    }
   ],
   "source": [
    "brf = BalancedRandomForestClassifier(n_estimators=100, random_state=42).fit(X_tr, y_tr)\n",
    "y_pred_brf_tr = brf.predict(X_tr)\n",
    "y_pred_brf_val = brf.predict(X_val)\n",
    "get_metric(X_tr, y_tr, X_val, y_val, y_pred_brf_tr, y_pred_brf_val, brf)"
   ]
  },
  {
   "source": [
    "## RUSBoostClassifier\n",
    "\n",
    "Random under-sampling integrated in the learning of AdaBoost.\n",
    "\n",
    "During learning, the problem of class balancing is alleviated by random under-sampling the sample at each iteration of the boosting algorithm"
   ],
   "cell_type": "markdown",
   "metadata": {}
  },
  {
   "cell_type": "code",
   "execution_count": 16,
   "metadata": {},
   "outputs": [
    {
     "output_type": "stream",
     "name": "stdout",
     "text": [
      "Training Accuracy:  0.7674761904761904\nValidation Accuracy:  0.7566666666666667\nTraining F1 Score:  0.5456406439006235\nValidation F1 Score:  0.5197368421052632\nTraining AUC Score:  0.7936512282426961\nValidation AUC Score:  0.7667346817069983\nTraining Recall Score:  0.6297250859106529\nValidation Recall Score:  0.6016755521706016\nTraining Precision Score:  0.48136594976194386\nValidation Precision Score:  0.45744064852345107\nTraining Average Precision Score:  0.5609306330020786\nValidation Average Precision Score:  0.5244608728332589\n"
     ]
    }
   ],
   "source": [
    "rbc = RUSBoostClassifier(n_estimators=200, algorithm='SAMME.R', random_state=42).fit(X_tr, y_tr)\n",
    "y_pred_rbc_tr = rbc.predict(X_tr)\n",
    "y_pred_rbc_val = rbc.predict(X_val)\n",
    "get_metric(X_tr, y_tr, X_val, y_val, y_pred_rbc_tr, y_pred_rbc_val, rbc)"
   ]
  },
  {
   "source": [
    "## Easy Ensemble Classifier\n",
    "\n",
    "Bag of balanced boosted learners also known as EasyEnsemble.\n",
    "\n",
    "This algorithm is known as EasyEnsemble [1]. The classifier is an ensemble of AdaBoost learners trained on different balanced boostrap samples. The balancing is achieved by random under-sampling."
   ],
   "cell_type": "markdown",
   "metadata": {}
  },
  {
   "cell_type": "code",
   "execution_count": 17,
   "metadata": {},
   "outputs": [
    {
     "output_type": "stream",
     "name": "stdout",
     "text": [
      "Training Accuracy:  0.7592380952380953\nValidation Accuracy:  0.7516666666666667\nTraining F1 Score:  0.5427744619280159\nValidation F1 Score:  0.5278833967046895\nTraining AUC Score:  0.790370227396205\nValidation AUC Score:  0.7749849651391096\nTraining Recall Score:  0.6445446735395189\nValidation Recall Score:  0.6344249809596344\nTraining Precision Score:  0.46875976257419555\nValidation Precision Score:  0.45198046663049374\nTraining Average Precision Score:  0.5504213877594832\nValidation Average Precision Score:  0.5262955379856071\n"
     ]
    }
   ],
   "source": [
    "eec = EasyEnsembleClassifier(random_state=42).fit(X_tr, y_tr) \n",
    "y_pred_eec_tr = eec.predict(X_tr)\n",
    "y_pred_eec_val = eec.predict(X_val)\n",
    "get_metric(X_tr, y_tr, X_val, y_val, y_pred_eec_tr, y_pred_eec_val, eec)"
   ]
  },
  {
   "source": [
    "# Undersampling Methods"
   ],
   "cell_type": "markdown",
   "metadata": {}
  },
  {
   "source": [
    "TomekLinks"
   ],
   "cell_type": "markdown",
   "metadata": {}
  },
  {
   "cell_type": "code",
   "execution_count": 18,
   "metadata": {},
   "outputs": [
    {
     "output_type": "stream",
     "name": "stdout",
     "text": [
      "Training Count:  Counter({0: 14764, 1: 4656})\n",
      "Validation Count:  Counter({0: 4264, 1: 1313})\n",
      "Training Accuracy:  0.8414521112255406\n",
      "Validation Accuracy:  0.8221265913573605\n",
      "Training F1 Score:  0.5748999033549634\n",
      "Validation F1 Score:  0.512291052114061\n",
      "Training AUC Score:  0.8410875276748216\n",
      "Validation AUC Score:  0.7956881252420235\n",
      "Training Recall Score:  0.44716494845360827\n",
      "Validation Recall Score:  0.3968012185833968\n",
      "Training Precision Score:  0.8047931967529958\n",
      "Validation Precision Score:  0.7226074895977809\n",
      "Training Average Precision Score:  0.7079040437507254\n",
      "Validation Average Precision Score:  0.6005496054547611\n"
     ]
    }
   ],
   "source": [
    "tl = TomekLinks()\n",
    "sampling(X_tr, y_tr, X_val, y_val, tl, rfcb)"
   ]
  },
  {
   "cell_type": "code",
   "execution_count": 19,
   "metadata": {},
   "outputs": [],
   "source": [
    "X_tr_tl, y_tr_tl = tl.fit_resample(X_tr, y_tr)\n",
    "X_val_tl, y_val_tl = tl.fit_resample(X_val, y_val)\n",
    "tlm = rfcb.fit(X_tr_tl, y_tr_tl)\n",
    "y_pred_tl_tr = tlm.predict(X_tr_tl)\n",
    "y_pred_tl_val = tlm.predict(X_val_tl)"
   ]
  },
  {
   "cell_type": "code",
   "execution_count": 20,
   "metadata": {},
   "outputs": [
    {
     "output_type": "stream",
     "name": "stdout",
     "text": [
      "Training Count:  Counter({0: 9976, 1: 4656})\n",
      "Validation Count:  Counter({0: 2831, 1: 1313})\n",
      "Training Accuracy:  0.8467741935483871\n",
      "Validation Accuracy:  0.8221525096525096\n",
      "Training F1 Score:  0.7060828526481384\n",
      "Validation F1 Score:  0.6592695330559408\n",
      "Training AUC Score:  0.8899022279760085\n",
      "Validation AUC Score:  0.8499417422654147\n",
      "Training Recall Score:  0.5783934707903781\n",
      "Validation Recall Score:  0.543031226199543\n",
      "Training Precision Score:  0.9061238223418573\n",
      "Validation Precision Score:  0.8388235294117647\n",
      "Training Average Precision Score:  0.8493028729475788\n",
      "Validation Average Precision Score:  0.7953422050446671\n"
     ]
    }
   ],
   "source": [
    "enn = EditedNearestNeighbours()\n",
    "sampling(X_tr, y_tr, X_val, y_val, enn, rfcb)"
   ]
  },
  {
   "cell_type": "code",
   "execution_count": 21,
   "metadata": {},
   "outputs": [],
   "source": [
    "X_tr_enn, y_tr_enn = enn.fit_resample(X_tr, y_tr)\n",
    "X_val_enn, y_val_enn = enn.fit_resample(X_val, y_val)\n",
    "ennm = rfcb.fit(X_tr_enn, y_tr_enn)\n",
    "y_pred_enn_tr = ennm.predict(X_tr_enn)\n",
    "y_pred_enn_val = ennm.predict(X_val_enn)"
   ]
  },
  {
   "source": [
    "# Oversampling Methods"
   ],
   "cell_type": "markdown",
   "metadata": {}
  },
  {
   "cell_type": "code",
   "execution_count": 22,
   "metadata": {},
   "outputs": [
    {
     "output_type": "stream",
     "name": "stdout",
     "text": [
      "Training Count:  Counter({0: 16344, 1: 16344})\n",
      "Validation Count:  Counter({0: 4687, 1: 4687})\n",
      "Training Accuracy:  0.7600954478707783\n",
      "Validation Accuracy:  0.7209302325581395\n",
      "Training F1 Score:  0.7422260206429557\n",
      "Validation F1 Score:  0.6938202247191011\n",
      "Training AUC Score:  0.8424750938821697\n",
      "Validation AUC Score:  0.8001881284519292\n",
      "Training Recall Score:  0.6907733724914341\n",
      "Validation Recall Score:  0.6323874546618306\n",
      "Training Precision Score:  0.8019605057536582\n",
      "Validation Precision Score:  0.7684729064039408\n",
      "Training Average Precision Score:  0.8496452993954169\n",
      "Validation Average Precision Score:  0.808761409308747\n"
     ]
    }
   ],
   "source": [
    "sm = SMOTE(sampling_strategy='minority', random_state=42)\n",
    "sampling(X_tr, y_tr, X_val, y_val, sm, rfcb)"
   ]
  },
  {
   "cell_type": "code",
   "execution_count": 23,
   "metadata": {},
   "outputs": [],
   "source": [
    "X_tr_sm, y_tr_sm = sm.fit_resample(X_tr, y_tr)\n",
    "X_val_sm, y_val_sm = sm.fit_resample(X_val, y_val)\n",
    "smm = rfcb.fit(X_tr_sm, y_tr_sm)\n",
    "y_pred_sm_tr = smm.predict(X_tr_sm)\n",
    "y_pred_sm_val = smm.predict(X_val_sm)"
   ]
  },
  {
   "cell_type": "code",
   "execution_count": 24,
   "metadata": {},
   "outputs": [
    {
     "output_type": "stream",
     "name": "stdout",
     "text": [
      "Training Count:  Counter({0: 16344, 1: 16344})\n",
      "Validation Count:  Counter({0: 4687, 1: 4687})\n",
      "Training Accuracy:  0.8128059226627509\n",
      "Validation Accuracy:  0.7801365478984424\n",
      "Training F1 Score:  0.799777494191944\n",
      "Validation F1 Score:  0.7600977767431033\n",
      "Training AUC Score:  0.8958704487302966\n",
      "Validation AUC Score:  0.8581061134964274\n",
      "Training Recall Score:  0.7477361722956437\n",
      "Validation Recall Score:  0.6966076381480691\n",
      "Training Precision Score:  0.8596046986002673\n",
      "Validation Precision Score:  0.8363217213114754\n",
      "Training Average Precision Score:  0.9060622836348282\n",
      "Validation Average Precision Score:  0.8705240938339492\n"
     ]
    }
   ],
   "source": [
    "svmsm = SVMSMOTE()\n",
    "sampling(X_tr, y_tr, X_val, y_val, svmsm, rfcb)"
   ]
  },
  {
   "cell_type": "code",
   "execution_count": 25,
   "metadata": {},
   "outputs": [],
   "source": [
    "X_tr_svm, y_tr_svm = svmsm.fit_resample(X_tr, y_tr)\n",
    "X_val_svm, y_val_svm = svmsm.fit_resample(X_val, y_val)\n",
    "svmsmote = rfcb.fit(X_tr_svm, y_tr_svm)\n",
    "y_pred_svmsm_tr = svmsmote.predict(X_tr_svm)\n",
    "y_pred_svmsm_val = svmsmote.predict(X_val_svm)"
   ]
  },
  {
   "cell_type": "code",
   "execution_count": 26,
   "metadata": {},
   "outputs": [
    {
     "output_type": "stream",
     "name": "stdout",
     "text": [
      "Training Count:  Counter({0: 16344, 1: 15798})\n",
      "Validation Count:  Counter({0: 4687, 1: 4539})\n",
      "Training Accuracy:  0.733308443780723\n",
      "Validation Accuracy:  0.6947756340776068\n",
      "Training F1 Score:  0.7128692972466003\n",
      "Validation F1 Score:  0.6658756525866161\n",
      "Training AUC Score:  0.8099216594763416\n",
      "Validation AUC Score:  0.7643251881507884\n",
      "Training Recall Score:  0.6735662742119256\n",
      "Validation Recall Score:  0.6181978409341264\n",
      "Training Precision Score:  0.7570432555492317\n",
      "Validation Precision Score:  0.7215222422216508\n",
      "Training Average Precision Score:  0.8049168447325794\n",
      "Validation Average Precision Score:  0.7627422987392249\n"
     ]
    }
   ],
   "source": [
    "adsn = ADASYN()\n",
    "sampling(X_tr, y_tr, X_val, y_val, adsn, rfcb)"
   ]
  },
  {
   "cell_type": "code",
   "execution_count": 27,
   "metadata": {},
   "outputs": [],
   "source": [
    "X_tr_adsn, y_tr_adsn = adsn.fit_resample(X_tr, y_tr)\n",
    "X_val_adsn, y_val_adsn = adsn.fit_resample(X_val, y_val)\n",
    "adsnm = rfcb.fit(X_tr_adsn, y_tr_adsn)\n",
    "y_pred_adsnm_tr = adsnm.predict(X_tr_adsn)\n",
    "y_pred_adsnm_val = adsnm.predict(X_val_adsn)"
   ]
  },
  {
   "source": [
    "# Combined Methods"
   ],
   "cell_type": "markdown",
   "metadata": {}
  },
  {
   "cell_type": "code",
   "execution_count": 28,
   "metadata": {},
   "outputs": [
    {
     "output_type": "stream",
     "name": "stdout",
     "text": [
      "Training Count:  Counter({0: 15451, 1: 15451})\n",
      "Validation Count:  Counter({0: 4406, 1: 4406})\n",
      "Training Accuracy:  0.7729273186201541\n",
      "Validation Accuracy:  0.7347934634589196\n",
      "Training F1 Score:  0.7573567550745184\n",
      "Validation F1 Score:  0.7120147874306838\n",
      "Training AUC Score:  0.8564985131678327\n",
      "Validation AUC Score:  0.8156725529438357\n",
      "Training Recall Score:  0.7087567147757426\n",
      "Validation Recall Score:  0.6556967771221062\n",
      "Training Precision Score:  0.8131125631125631\n",
      "Validation Precision Score:  0.778916149905635\n",
      "Training Average Precision Score:  0.862713572916824\n",
      "Validation Average Precision Score:  0.8241649851590853\n"
     ]
    }
   ],
   "source": [
    "smtk = SMOTETomek()\n",
    "sampling(X_tr, y_tr, X_val, y_val, smtk, rfcb)"
   ]
  },
  {
   "cell_type": "code",
   "execution_count": 29,
   "metadata": {},
   "outputs": [],
   "source": [
    "X_tr_smt, y_tr_smt = smtk.fit_resample(X_tr, y_tr)\n",
    "X_val_smt, y_val_smt = smtk.fit_resample(X_val, y_val)\n",
    "smtkm = rfcb.fit(X_tr_smt, y_tr_smt)\n",
    "y_pred_smtk_tr = smtkm.predict(X_tr_smt)\n",
    "y_pred_smtk_val = smtkm.predict(X_val_smt)"
   ]
  },
  {
   "cell_type": "code",
   "execution_count": 30,
   "metadata": {},
   "outputs": [
    {
     "output_type": "stream",
     "name": "stdout",
     "text": [
      "Training Count:  Counter({1: 10908, 0: 8566})\n",
      "Validation Count:  Counter({1: 3104, 0: 2390})\n",
      "Training Accuracy:  0.8652048885693745\n",
      "Validation Accuracy:  0.823443756825628\n",
      "Training F1 Score:  0.8735853599807368\n",
      "Validation F1 Score:  0.8328162702516374\n",
      "Training AUC Score:  0.9471770499876667\n",
      "Validation AUC Score:  0.9139590432644609\n",
      "Training Recall Score:  0.8314998166483315\n",
      "Validation Recall Score:  0.7783505154639175\n",
      "Training Precision Score:  0.9201582631632342\n",
      "Validation Precision Score:  0.8954781319495922\n",
      "Training Average Precision Score:  0.9634523631084815\n",
      "Validation Average Precision Score:  0.9411334223073468\n"
     ]
    }
   ],
   "source": [
    "smenn = SMOTEENN(sampling_strategy=\"minority\", n_jobs= -1)\n",
    "sampling(X_tr, y_tr, X_val, y_val, smenn, rfcb)"
   ]
  },
  {
   "cell_type": "code",
   "execution_count": 31,
   "metadata": {},
   "outputs": [],
   "source": [
    "X_tr_sme, y_tr_sme = smenn.fit_resample(X_tr, y_tr)\n",
    "X_val_sme, y_val_sme = smenn.fit_resample(X_val, y_val)\n",
    "smennm = rfcb.fit(X_tr_sme, y_tr_sme)\n",
    "y_pred_smenn_tr = smennm.predict(X_tr_sme)\n",
    "y_pred_smenn_val = smennm.predict(X_val_sme)"
   ]
  },
  {
   "source": [
    "# SMOTE Variants"
   ],
   "cell_type": "markdown",
   "metadata": {}
  },
  {
   "cell_type": "code",
   "execution_count": 32,
   "metadata": {},
   "outputs": [
    {
     "output_type": "stream",
     "name": "stderr",
     "text": [
      "2021-04-15 08:54:08,385:INFO:polynom_fit_SMOTE: Running sampling via ('polynom_fit_SMOTE', \"{'proportion': 1.0, 'topology': 'star'}\")\n",
      "2021-04-15 08:54:08,442:INFO:polynom_fit_SMOTE: Running sampling via ('polynom_fit_SMOTE', \"{'proportion': 1.0, 'topology': 'star'}\")\n",
      "Training Count:  Counter({1: 18624, 0: 16344})\n",
      "Validation Count:  Counter({1: 5252, 0: 4687})\n",
      "Training Accuracy:  0.898535804163807\n",
      "Validation Accuracy:  0.8921420666062985\n",
      "Training F1 Score:  0.8992159981820247\n",
      "Validation F1 Score:  0.891739042617653\n",
      "Training AUC Score:  0.9569829305141351\n",
      "Validation AUC Score:  0.9448800306660788\n",
      "Training Recall Score:  0.8498711340206185\n",
      "Validation Recall Score:  0.8406321401370906\n",
      "Training Precision Score:  0.9546441495778046\n",
      "Validation Precision Score:  0.9494623655913978\n",
      "Training Average Precision Score:  0.9705040305862509\n",
      "Validation Average Precision Score:  0.9629846738573772\n"
     ]
    }
   ],
   "source": [
    "pfsm = sv.polynom_fit_SMOTE()\n",
    "sampling2(X_tr, y_tr, X_val, y_val, pfsm, rfcb)"
   ]
  },
  {
   "cell_type": "code",
   "execution_count": 33,
   "metadata": {},
   "outputs": [
    {
     "output_type": "stream",
     "name": "stderr",
     "text": [
      "2021-04-15 08:54:20,196:INFO:polynom_fit_SMOTE: Running sampling via ('polynom_fit_SMOTE', \"{'proportion': 1.0, 'topology': 'star'}\")\n",
      "2021-04-15 08:54:20,245:INFO:polynom_fit_SMOTE: Running sampling via ('polynom_fit_SMOTE', \"{'proportion': 1.0, 'topology': 'star'}\")\n"
     ]
    }
   ],
   "source": [
    "X_tr_pfs, y_tr_pfs = pfsm.sample(X_tr, y_tr)\n",
    "X_val_pfs, y_val_pfs = pfsm.sample(X_val, y_val)\n",
    "pfsmm = rfcb.fit(X_tr_pfs, y_tr_pfs)\n",
    "y_pred_pfsm_tr = pfsmm.predict(X_tr_pfs)\n",
    "y_pred_pfsm_val = pfsmm.predict(X_val_pfs)"
   ]
  },
  {
   "cell_type": "code",
   "execution_count": 34,
   "metadata": {},
   "outputs": [
    {
     "output_type": "stream",
     "name": "stderr",
     "text": [
      "2021-04-15 08:54:30,337:INFO:ProWSyn: Running sampling via ('ProWSyn', \"{'proportion': 1.0, 'n_neighbors': 5, 'L': 5, 'theta': 1.0, 'n_jobs': 1}\")\n",
      "2021-04-15 08:54:31,685:INFO:ProWSyn: Running sampling via ('ProWSyn', \"{'proportion': 1.0, 'n_neighbors': 5, 'L': 5, 'theta': 1.0, 'n_jobs': 1}\")\n",
      "Training Count:  Counter({0: 16344, 1: 16344})\n",
      "Validation Count:  Counter({0: 4687, 1: 4687})\n",
      "Training Accuracy:  0.8672295643661282\n",
      "Validation Accuracy:  0.8580115212289311\n",
      "Training F1 Score:  0.8582533150434385\n",
      "Validation F1 Score:  0.8477290927811464\n",
      "Training AUC Score:  0.9343193083739972\n",
      "Validation AUC Score:  0.9170845516032912\n",
      "Training Recall Score:  0.8039035731767009\n",
      "Validation Recall Score:  0.7904843183272883\n",
      "Training Precision Score:  0.9204847975339778\n",
      "Validation Precision Score:  0.9139121854958067\n",
      "Training Average Precision Score:  0.9477157980445392\n",
      "Validation Average Precision Score:  0.9366948692015955\n"
     ]
    }
   ],
   "source": [
    "pws = sv.ProWSyn()\n",
    "sampling2(X_tr, y_tr, X_val, y_val, pws, rfcb)"
   ]
  },
  {
   "cell_type": "code",
   "execution_count": 35,
   "metadata": {},
   "outputs": [
    {
     "output_type": "stream",
     "name": "stderr",
     "text": [
      "2021-04-15 08:54:46,125:INFO:ProWSyn: Running sampling via ('ProWSyn', \"{'proportion': 1.0, 'n_neighbors': 5, 'L': 5, 'theta': 1.0, 'n_jobs': 1}\")\n",
      "2021-04-15 08:54:47,466:INFO:ProWSyn: Running sampling via ('ProWSyn', \"{'proportion': 1.0, 'n_neighbors': 5, 'L': 5, 'theta': 1.0, 'n_jobs': 1}\")\n"
     ]
    }
   ],
   "source": [
    "X_tr_pws, y_tr_pws = pws.sample(X_tr, y_tr)\n",
    "X_val_pws, y_val_pws = pws.sample(X_val, y_val)\n",
    "pwsm = rfcb.fit(X_tr_pws, y_tr_pws)\n",
    "y_pred_pws_tr = pwsm.predict(X_tr_pws)\n",
    "y_pred_pws_val = pwsm.predict(X_val_pws)"
   ]
  },
  {
   "cell_type": "code",
   "execution_count": 36,
   "metadata": {},
   "outputs": [
    {
     "output_type": "stream",
     "name": "stderr",
     "text": [
      "2021-04-15 08:54:59,803:INFO:SMOTE_IPF: Running sampling via ('SMOTE_IPF', \"{'proportion': 1.0, 'n_neighbors': 5, 'n_folds': 9, 'k': 3, 'p': 0.01, 'voting': 'majority', 'n_jobs': 1, 'classifier': DecisionTreeClassifier()}\")\n",
      "2021-04-15 08:54:59,804:INFO:SMOTE: Running sampling via ('SMOTE', \"{'proportion': 1.0, 'n_neighbors': 5, 'n_jobs': 1}\")\n",
      "2021-04-15 08:55:01,961:INFO:SMOTE_IPF: Removing 44 elements\n",
      "2021-04-15 08:55:03,824:INFO:SMOTE_IPF: Removing 0 elements\n",
      "2021-04-15 08:55:05,653:INFO:SMOTE_IPF: Removing 0 elements\n",
      "2021-04-15 08:55:05,660:INFO:SMOTE_IPF: Running sampling via ('SMOTE_IPF', \"{'proportion': 1.0, 'n_neighbors': 5, 'n_folds': 9, 'k': 3, 'p': 0.01, 'voting': 'majority', 'n_jobs': 1, 'classifier': DecisionTreeClassifier()}\")\n",
      "2021-04-15 08:55:05,660:INFO:SMOTE: Running sampling via ('SMOTE', \"{'proportion': 1.0, 'n_neighbors': 5, 'n_jobs': 1}\")\n",
      "Training Count:  Counter({0: 16337, 1: 16307})\n",
      "2021-04-15 08:55:06,167:INFO:SMOTE_IPF: Removing 1 elements\n",
      "2021-04-15 08:55:06,578:INFO:SMOTE_IPF: Removing 0 elements\n",
      "2021-04-15 08:55:06,992:INFO:SMOTE_IPF: Removing 0 elements\n",
      "Validation Count:  Counter({0: 4687, 1: 4686})\n",
      "Training Accuracy:  0.7587918147285871\n",
      "Validation Accuracy:  0.7228208684519364\n",
      "Training F1 Score:  0.7395130342728596\n",
      "Validation F1 Score:  0.696282440963292\n",
      "Training AUC Score:  0.8440388225015876\n",
      "Validation AUC Score:  0.8027492885626111\n",
      "Training Recall Score:  0.6854111731158399\n",
      "Validation Recall Score:  0.6355100298762271\n",
      "Training Precision Score:  0.8028877235830759\n",
      "Validation Precision Score:  0.7699069286452948\n",
      "Training Average Precision Score:  0.8507138341712858\n",
      "Validation Average Precision Score:  0.8100973727791491\n"
     ]
    }
   ],
   "source": [
    "smipf = sv.SMOTE_IPF()\n",
    "sampling2(X_tr, y_tr, X_val, y_val, smipf, rfcb)"
   ]
  },
  {
   "source": [
    "X_tr_smi, y_tr_smi = smipf.sample(X_tr, y_tr)\n",
    "X_val_smi, y_val_smi = smipf.sample(X_val, y_val)\n",
    "smipfm = rfcb.fit(X_tr_smi, y_tr_smi)\n",
    "y_pred_smipf_tr = smipfm.predict(X_tr_smi)\n",
    "y_pred_smipf_val = smipfm.predict(X_val_smi)"
   ],
   "cell_type": "code",
   "metadata": {},
   "execution_count": 37,
   "outputs": [
    {
     "output_type": "stream",
     "name": "stderr",
     "text": [
      "2021-04-15 08:55:20,587:INFO:SMOTE_IPF: Running sampling via ('SMOTE_IPF', \"{'proportion': 1.0, 'n_neighbors': 5, 'n_folds': 9, 'k': 3, 'p': 0.01, 'voting': 'majority', 'n_jobs': 1, 'classifier': DecisionTreeClassifier()}\")\n",
      "2021-04-15 08:55:20,588:INFO:SMOTE: Running sampling via ('SMOTE', \"{'proportion': 1.0, 'n_neighbors': 5, 'n_jobs': 1}\")\n",
      "2021-04-15 08:55:22,745:INFO:SMOTE_IPF: Removing 44 elements\n",
      "2021-04-15 08:55:24,571:INFO:SMOTE_IPF: Removing 0 elements\n",
      "2021-04-15 08:55:26,407:INFO:SMOTE_IPF: Removing 0 elements\n",
      "2021-04-15 08:55:26,409:INFO:SMOTE_IPF: Running sampling via ('SMOTE_IPF', \"{'proportion': 1.0, 'n_neighbors': 5, 'n_folds': 9, 'k': 3, 'p': 0.01, 'voting': 'majority', 'n_jobs': 1, 'classifier': DecisionTreeClassifier()}\")\n",
      "2021-04-15 08:55:26,410:INFO:SMOTE: Running sampling via ('SMOTE', \"{'proportion': 1.0, 'n_neighbors': 5, 'n_jobs': 1}\")\n",
      "2021-04-15 08:55:26,920:INFO:SMOTE_IPF: Removing 1 elements\n",
      "2021-04-15 08:55:27,335:INFO:SMOTE_IPF: Removing 0 elements\n",
      "2021-04-15 08:55:27,750:INFO:SMOTE_IPF: Removing 0 elements\n"
     ]
    }
   ]
  },
  {
   "cell_type": "code",
   "execution_count": 38,
   "metadata": {},
   "outputs": [
    {
     "output_type": "stream",
     "name": "stderr",
     "text": [
      "2021-04-15 08:55:39,167:INFO:SMOBD: Running sampling via ('SMOBD', \"{'proportion': 1.0, 'eta1': 0.5, 't': 1.8, 'min_samples': 5, 'max_eps': 1.0, 'n_jobs': 1}\")\n",
      "2021-04-15 08:55:51,270:INFO:SMOBD: Running sampling via ('SMOBD', \"{'proportion': 1.0, 'eta1': 0.5, 't': 1.8, 'min_samples': 5, 'max_eps': 1.0, 'n_jobs': 1}\")\n",
      "Training Count:  Counter({0: 16344, 1: 16344})\n",
      "Validation Count:  Counter({0: 4687, 1: 4687})\n",
      "Training Accuracy:  0.7809287812041116\n",
      "Validation Accuracy:  0.7561339876253467\n",
      "Training F1 Score:  0.7720515677224257\n",
      "Validation F1 Score:  0.7453775896636221\n",
      "Training AUC Score:  0.8661376877493652\n",
      "Validation AUC Score:  0.8348050063253458\n",
      "Training Recall Score:  0.7419848262359275\n",
      "Validation Recall Score:  0.7138894815446981\n",
      "Training Precision Score:  0.8046579523588349\n",
      "Validation Precision Score:  0.7797716150081566\n",
      "Training Average Precision Score:  0.8726066884380497\n",
      "Validation Average Precision Score:  0.8436539856446121\n"
     ]
    }
   ],
   "source": [
    "smobd = sv.SMOBD()\n",
    "sampling2(X_tr, y_tr, X_val, y_val, smobd, rfcb)"
   ]
  },
  {
   "cell_type": "code",
   "execution_count": 39,
   "metadata": {},
   "outputs": [
    {
     "output_type": "stream",
     "name": "stderr",
     "text": [
      "2021-04-15 08:56:06,572:INFO:SMOBD: Running sampling via ('SMOBD', \"{'proportion': 1.0, 'eta1': 0.5, 't': 1.8, 'min_samples': 5, 'max_eps': 1.0, 'n_jobs': 1}\")\n",
      "2021-04-15 08:56:19,185:INFO:SMOBD: Running sampling via ('SMOBD', \"{'proportion': 1.0, 'eta1': 0.5, 't': 1.8, 'min_samples': 5, 'max_eps': 1.0, 'n_jobs': 1}\")\n"
     ]
    }
   ],
   "source": [
    "X_tr_smo, y_tr_smo = smobd.sample(X_tr, y_tr)\n",
    "X_val_smo, y_val_smo = smobd.sample(X_val, y_val)\n",
    "smobdm = rfcb.fit(X_tr_smo, y_tr_smo)\n",
    "y_pred_smobd_tr = smobdm.predict(X_tr_smo)\n",
    "y_pred_smobd_val = smobdm.predict(X_val_smo)"
   ]
  },
  {
   "cell_type": "code",
   "execution_count": 40,
   "metadata": {},
   "outputs": [
    {
     "output_type": "stream",
     "name": "stderr",
     "text": [
      "2021-04-15 08:56:31,848:INFO:G_SMOTE: Running sampling via ('G_SMOTE', \"{'proportion': 1.0, 'n_neighbors': 5, 'method': 'linear', 'n_jobs': 1}\")\n",
      "2021-04-15 08:56:32,912:INFO:G_SMOTE: Running sampling via ('G_SMOTE', \"{'proportion': 1.0, 'n_neighbors': 5, 'method': 'linear', 'n_jobs': 1}\")\n",
      "Training Count:  Counter({0: 16344, 1: 16344})\n",
      "Validation Count:  Counter({0: 4687, 1: 4687})\n",
      "Training Accuracy:  0.7668257464512971\n",
      "Validation Accuracy:  0.7330915297631747\n",
      "Training F1 Score:  0.749375246613179\n",
      "Validation F1 Score:  0.7091374099046733\n",
      "Training AUC Score:  0.8486447495015992\n",
      "Validation AUC Score:  0.8062866439769649\n",
      "Training Recall Score:  0.6971977484092021\n",
      "Validation Recall Score:  0.6507360785150416\n",
      "Training Precision Score:  0.8099943133352289\n",
      "Validation Precision Score:  0.7790549169859514\n",
      "Training Average Precision Score:  0.8564941379794629\n",
      "Validation Average Precision Score:  0.816062280058713\n"
     ]
    }
   ],
   "source": [
    "gsm = sv.G_SMOTE()\n",
    "sampling2(X_tr, y_tr, X_val, y_val, gsm, rfcb)"
   ]
  },
  {
   "cell_type": "code",
   "execution_count": 41,
   "metadata": {},
   "outputs": [
    {
     "output_type": "stream",
     "name": "stderr",
     "text": [
      "2021-04-15 08:56:46,781:INFO:G_SMOTE: Running sampling via ('G_SMOTE', \"{'proportion': 1.0, 'n_neighbors': 5, 'method': 'linear', 'n_jobs': 1}\")\n",
      "2021-04-15 08:56:47,821:INFO:G_SMOTE: Running sampling via ('G_SMOTE', \"{'proportion': 1.0, 'n_neighbors': 5, 'method': 'linear', 'n_jobs': 1}\")\n"
     ]
    }
   ],
   "source": [
    "X_tr_gsm, y_tr_gsm = gsm.sample(X_tr, y_tr)\n",
    "X_val_gsm, y_val_gsm = gsm.sample(X_val, y_val)\n",
    "gsmm = rfcb.fit(X_tr_gsm, y_tr_gsm)\n",
    "y_pred_gsm_tr = gsmm.predict(X_tr_gsm)\n",
    "y_pred_gsm_val = gsmm.predict(X_val_gsm)"
   ]
  },
  {
   "cell_type": "code",
   "execution_count": 42,
   "metadata": {},
   "outputs": [
    {
     "output_type": "stream",
     "name": "stderr",
     "text": [
      "2021-04-15 08:56:59,864:INFO:CCR: Running sampling via ('CCR', \"{'proportion': 1.0, 'energy': 1.0, 'scaling': 0.0, 'n_jobs': 1}\")\n",
      "2021-04-15 08:57:07,547:INFO:CCR: Running sampling via ('CCR', \"{'proportion': 1.0, 'energy': 1.0, 'scaling': 0.0, 'n_jobs': 1}\")\n",
      "Training Count:  Counter({0: 16344, 1: 16326})\n",
      "Validation Count:  Counter({0: 4687, 1: 4677})\n",
      "Training Accuracy:  0.8862871135598408\n",
      "Validation Accuracy:  0.8851986330627937\n",
      "Training F1 Score:  0.8786304681629586\n",
      "Validation F1 Score:  0.8773251169690746\n",
      "Training AUC Score:  0.9377693940801974\n",
      "Validation AUC Score:  0.9349816585381966\n",
      "Training Recall Score:  0.8236555188043612\n",
      "Validation Recall Score:  0.8218943767372248\n",
      "Training Precision Score:  0.9414688790870266\n",
      "Validation Precision Score:  0.9407733724914341\n",
      "Training Average Precision Score:  0.9545534935727262\n",
      "Validation Average Precision Score:  0.9526667419617793\n"
     ]
    }
   ],
   "source": [
    "ccr = sv.CCR()\n",
    "sampling2(X_tr, y_tr, X_val, y_val, ccr, rfcb)"
   ]
  },
  {
   "cell_type": "code",
   "execution_count": 43,
   "metadata": {},
   "outputs": [
    {
     "output_type": "stream",
     "name": "stderr",
     "text": [
      "2021-04-15 08:57:20,971:INFO:CCR: Running sampling via ('CCR', \"{'proportion': 1.0, 'energy': 1.0, 'scaling': 0.0, 'n_jobs': 1}\")\n",
      "2021-04-15 08:57:28,582:INFO:CCR: Running sampling via ('CCR', \"{'proportion': 1.0, 'energy': 1.0, 'scaling': 0.0, 'n_jobs': 1}\")\n"
     ]
    }
   ],
   "source": [
    "X_tr_ccr, y_tr_ccr = ccr.sample(X_tr, y_tr)\n",
    "X_val_ccr, y_val_ccr = ccr.sample(X_val, y_val)\n",
    "ccrm = rfcb.fit(X_tr_ccr, y_tr_ccr)\n",
    "y_pred_ccr_tr = ccrm.predict(X_tr_ccr)\n",
    "y_pred_ccr_val = ccrm.predict(X_val_ccr)"
   ]
  },
  {
   "cell_type": "code",
   "execution_count": 44,
   "metadata": {},
   "outputs": [
    {
     "output_type": "stream",
     "name": "stderr",
     "text": [
      "2021-04-15 08:57:40,422:INFO:LVQ_SMOTE: Running sampling via ('LVQ_SMOTE', \"{'proportion': 1.0, 'n_neighbors': 5, 'n_clusters': 10, 'n_jobs': 1}\")\n",
      "2021-04-15 08:57:46,118:INFO:LVQ_SMOTE: Running sampling via ('LVQ_SMOTE', \"{'proportion': 1.0, 'n_neighbors': 5, 'n_clusters': 10, 'n_jobs': 1}\")\n",
      "Training Count:  Counter({0: 16344, 1: 16344})\n",
      "Validation Count:  Counter({0: 4687, 1: 4687})\n",
      "Training Accuracy:  0.8902655408712677\n",
      "Validation Accuracy:  0.8746532963516108\n",
      "Training F1 Score:  0.8837766905355927\n",
      "Validation F1 Score:  0.8656375071469411\n",
      "Training AUC Score:  0.9436660299941373\n",
      "Validation AUC Score:  0.9286163641254229\n",
      "Training Recall Score:  0.8344346549192364\n",
      "Validation Recall Score:  0.8075528056326008\n",
      "Training Precision Score:  0.9393208898684482\n",
      "Validation Precision Score:  0.9327254805322819\n",
      "Training Average Precision Score:  0.9583840936452743\n",
      "Validation Average Precision Score:  0.9442636962460135\n"
     ]
    }
   ],
   "source": [
    "lvq = sv.LVQ_SMOTE()\n",
    "sampling2(X_tr, y_tr, X_val, y_val, lvq, rfcb)"
   ]
  },
  {
   "cell_type": "code",
   "execution_count": 45,
   "metadata": {},
   "outputs": [
    {
     "output_type": "stream",
     "name": "stderr",
     "text": [
      "2021-04-15 08:57:58,818:INFO:LVQ_SMOTE: Running sampling via ('LVQ_SMOTE', \"{'proportion': 1.0, 'n_neighbors': 5, 'n_clusters': 10, 'n_jobs': 1}\")\n",
      "2021-04-15 08:58:05,339:INFO:LVQ_SMOTE: Running sampling via ('LVQ_SMOTE', \"{'proportion': 1.0, 'n_neighbors': 5, 'n_clusters': 10, 'n_jobs': 1}\")\n"
     ]
    }
   ],
   "source": [
    "X_tr_lvq, y_tr_lvq = lvq.sample(X_tr, y_tr)\n",
    "X_val_lvq, y_val_lvq = lvq.sample(X_val, y_val)\n",
    "lvqm = rfcb.fit(X_tr_lvq, y_tr_lvq)\n",
    "y_pred_lvq_tr = lvqm.predict(X_tr_lvq)\n",
    "y_pred_lvq_val = lvqm.predict(X_val_lvq)"
   ]
  },
  {
   "cell_type": "code",
   "execution_count": 46,
   "metadata": {},
   "outputs": [
    {
     "output_type": "stream",
     "name": "stderr",
     "text": [
      "2021-04-15 08:58:17,348:INFO:Assembled_SMOTE: Running sampling via ('Assembled_SMOTE', \"{'proportion': 1.0, 'n_neighbors': 5, 'pop': 2, 'thres': 0.3, 'n_jobs': 1}\")\n",
      "2021-04-15 09:02:49,081:INFO:Assembled_SMOTE: Running sampling via ('Assembled_SMOTE', \"{'proportion': 1.0, 'n_neighbors': 5, 'pop': 2, 'thres': 0.3, 'n_jobs': 1}\")\n",
      "Training Count:  Counter({0: 16344, 1: 16344})\n",
      "Validation Count:  Counter({0: 4687, 1: 4687})\n",
      "Training Accuracy:  0.7585046500244738\n",
      "Validation Accuracy:  0.7246639641561766\n",
      "Training F1 Score:  0.7410104986876641\n",
      "Validation F1 Score:  0.7005453068801486\n",
      "Training AUC Score:  0.8444174051786493\n",
      "Validation AUC Score:  0.8026541279259817\n",
      "Training Recall Score:  0.6909569260890847\n",
      "Validation Recall Score:  0.644122039684233\n",
      "Training Precision Score:  0.798882286361064\n",
      "Validation Precision Score:  0.7678026449643948\n",
      "Training Average Precision Score:  0.8506318145162908\n",
      "Validation Average Precision Score:  0.8120547726343764\n"
     ]
    }
   ],
   "source": [
    "ass = sv.Assembled_SMOTE()\n",
    "sampling2(X_tr, y_tr, X_val, y_val, ass, rfcb)"
   ]
  },
  {
   "cell_type": "code",
   "execution_count": 47,
   "metadata": {},
   "outputs": [
    {
     "output_type": "stream",
     "name": "stderr",
     "text": [
      "2021-04-15 09:03:08,637:INFO:Assembled_SMOTE: Running sampling via ('Assembled_SMOTE', \"{'proportion': 1.0, 'n_neighbors': 5, 'pop': 2, 'thres': 0.3, 'n_jobs': 1}\")\n",
      "2021-04-15 09:07:32,687:INFO:Assembled_SMOTE: Running sampling via ('Assembled_SMOTE', \"{'proportion': 1.0, 'n_neighbors': 5, 'pop': 2, 'thres': 0.3, 'n_jobs': 1}\")\n"
     ]
    }
   ],
   "source": [
    "X_tr_ass, y_tr_ass = ass.sample(X_tr, y_tr)\n",
    "X_val_ass, y_val_ass = ass.sample(X_val, y_val)\n",
    "assm = rfcb.fit(X_tr_ass, y_tr_ass)\n",
    "y_pred_ass_tr = assm.predict(X_tr_ass)\n",
    "y_pred_ass_val = assm.predict(X_val_ass)"
   ]
  },
  {
   "cell_type": "code",
   "execution_count": 48,
   "metadata": {},
   "outputs": [
    {
     "output_type": "error",
     "ename": "ValueError",
     "evalue": "Found input variables with inconsistent numbers of samples: [9374, 6000]",
     "traceback": [
      "\u001b[0;31m---------------------------------------------------------------------------\u001b[0m",
      "\u001b[0;31mValueError\u001b[0m                                Traceback (most recent call last)",
      "\u001b[0;32m<ipython-input-48-ca7b8af57b74>\u001b[0m in \u001b[0;36m<module>\u001b[0;34m\u001b[0m\n\u001b[1;32m     76\u001b[0m               \u001b[0maps\u001b[0m\u001b[0;34m(\u001b[0m\u001b[0mX_val_ccr\u001b[0m\u001b[0;34m,\u001b[0m \u001b[0my_val_ccr\u001b[0m\u001b[0;34m,\u001b[0m \u001b[0mccrm\u001b[0m\u001b[0;34m)\u001b[0m\u001b[0;34m,\u001b[0m\u001b[0;34m\u001b[0m\u001b[0;34m\u001b[0m\u001b[0m\n\u001b[1;32m     77\u001b[0m               \u001b[0maps\u001b[0m\u001b[0;34m(\u001b[0m\u001b[0mX_val_lvq\u001b[0m\u001b[0;34m,\u001b[0m \u001b[0my_val_lvq\u001b[0m\u001b[0;34m,\u001b[0m \u001b[0mlvqm\u001b[0m\u001b[0;34m)\u001b[0m\u001b[0;34m,\u001b[0m\u001b[0;34m\u001b[0m\u001b[0;34m\u001b[0m\u001b[0m\n\u001b[0;32m---> 78\u001b[0;31m               aps(X_val, y_val_ass, assm)]}\n\u001b[0m\u001b[1;32m     79\u001b[0m scores = pd.DataFrame(data=data, index = ['ENSEMBLE METHODS',\n\u001b[1;32m     80\u001b[0m                                           \u001b[0;34m'BaggingClassifier'\u001b[0m\u001b[0;34m,\u001b[0m\u001b[0;34m\u001b[0m\u001b[0;34m\u001b[0m\u001b[0m\n",
      "\u001b[0;32m/Volumes/My Passport for Mac/Dropbox/Data Science/VSCode/Repositories/Taiwan-CC-Default-Prediction/notebooks/utils.py\u001b[0m in \u001b[0;36maps\u001b[0;34m(X, y, model)\u001b[0m\n\u001b[1;32m     41\u001b[0m \u001b[0;32mdef\u001b[0m \u001b[0maps\u001b[0m\u001b[0;34m(\u001b[0m\u001b[0mX\u001b[0m\u001b[0;34m,\u001b[0m \u001b[0my\u001b[0m\u001b[0;34m,\u001b[0m \u001b[0mmodel\u001b[0m\u001b[0;34m)\u001b[0m\u001b[0;34m:\u001b[0m\u001b[0;34m\u001b[0m\u001b[0;34m\u001b[0m\u001b[0m\n\u001b[1;32m     42\u001b[0m     \u001b[0mprobs\u001b[0m \u001b[0;34m=\u001b[0m \u001b[0mmodel\u001b[0m\u001b[0;34m.\u001b[0m\u001b[0mpredict_proba\u001b[0m\u001b[0;34m(\u001b[0m\u001b[0mX\u001b[0m\u001b[0;34m)\u001b[0m\u001b[0;34m[\u001b[0m\u001b[0;34m:\u001b[0m\u001b[0;34m,\u001b[0m\u001b[0;36m1\u001b[0m\u001b[0;34m]\u001b[0m\u001b[0;34m\u001b[0m\u001b[0;34m\u001b[0m\u001b[0m\n\u001b[0;32m---> 43\u001b[0;31m     \u001b[0;32mreturn\u001b[0m \u001b[0maverage_precision_score\u001b[0m\u001b[0;34m(\u001b[0m\u001b[0my\u001b[0m\u001b[0;34m,\u001b[0m \u001b[0mprobs\u001b[0m\u001b[0;34m)\u001b[0m\u001b[0;34m\u001b[0m\u001b[0;34m\u001b[0m\u001b[0m\n\u001b[0m\u001b[1;32m     44\u001b[0m \u001b[0;34m\u001b[0m\u001b[0m\n\u001b[1;32m     45\u001b[0m \u001b[0;32mdef\u001b[0m \u001b[0maps2\u001b[0m\u001b[0;34m(\u001b[0m\u001b[0mX\u001b[0m\u001b[0;34m,\u001b[0m \u001b[0my\u001b[0m\u001b[0;34m,\u001b[0m \u001b[0mmodel\u001b[0m\u001b[0;34m)\u001b[0m\u001b[0;34m:\u001b[0m\u001b[0;34m\u001b[0m\u001b[0;34m\u001b[0m\u001b[0m\n",
      "\u001b[0;32m~/opt/anaconda3/envs/learn-env/lib/python3.9/site-packages/sklearn/utils/validation.py\u001b[0m in \u001b[0;36minner_f\u001b[0;34m(*args, **kwargs)\u001b[0m\n\u001b[1;32m     70\u001b[0m                           FutureWarning)\n\u001b[1;32m     71\u001b[0m         \u001b[0mkwargs\u001b[0m\u001b[0;34m.\u001b[0m\u001b[0mupdate\u001b[0m\u001b[0;34m(\u001b[0m\u001b[0;34m{\u001b[0m\u001b[0mk\u001b[0m\u001b[0;34m:\u001b[0m \u001b[0marg\u001b[0m \u001b[0;32mfor\u001b[0m \u001b[0mk\u001b[0m\u001b[0;34m,\u001b[0m \u001b[0marg\u001b[0m \u001b[0;32min\u001b[0m \u001b[0mzip\u001b[0m\u001b[0;34m(\u001b[0m\u001b[0msig\u001b[0m\u001b[0;34m.\u001b[0m\u001b[0mparameters\u001b[0m\u001b[0;34m,\u001b[0m \u001b[0margs\u001b[0m\u001b[0;34m)\u001b[0m\u001b[0;34m}\u001b[0m\u001b[0;34m)\u001b[0m\u001b[0;34m\u001b[0m\u001b[0;34m\u001b[0m\u001b[0m\n\u001b[0;32m---> 72\u001b[0;31m         \u001b[0;32mreturn\u001b[0m \u001b[0mf\u001b[0m\u001b[0;34m(\u001b[0m\u001b[0;34m**\u001b[0m\u001b[0mkwargs\u001b[0m\u001b[0;34m)\u001b[0m\u001b[0;34m\u001b[0m\u001b[0;34m\u001b[0m\u001b[0m\n\u001b[0m\u001b[1;32m     73\u001b[0m     \u001b[0;32mreturn\u001b[0m \u001b[0minner_f\u001b[0m\u001b[0;34m\u001b[0m\u001b[0;34m\u001b[0m\u001b[0m\n\u001b[1;32m     74\u001b[0m \u001b[0;34m\u001b[0m\u001b[0m\n",
      "\u001b[0;32m~/opt/anaconda3/envs/learn-env/lib/python3.9/site-packages/sklearn/metrics/_ranking.py\u001b[0m in \u001b[0;36maverage_precision_score\u001b[0;34m(y_true, y_score, average, pos_label, sample_weight)\u001b[0m\n\u001b[1;32m    214\u001b[0m     average_precision = partial(_binary_uninterpolated_average_precision,\n\u001b[1;32m    215\u001b[0m                                 pos_label=pos_label)\n\u001b[0;32m--> 216\u001b[0;31m     return _average_binary_score(average_precision, y_true, y_score,\n\u001b[0m\u001b[1;32m    217\u001b[0m                                  average, sample_weight=sample_weight)\n\u001b[1;32m    218\u001b[0m \u001b[0;34m\u001b[0m\u001b[0m\n",
      "\u001b[0;32m~/opt/anaconda3/envs/learn-env/lib/python3.9/site-packages/sklearn/metrics/_base.py\u001b[0m in \u001b[0;36m_average_binary_score\u001b[0;34m(binary_metric, y_true, y_score, average, sample_weight)\u001b[0m\n\u001b[1;32m     75\u001b[0m \u001b[0;34m\u001b[0m\u001b[0m\n\u001b[1;32m     76\u001b[0m     \u001b[0;32mif\u001b[0m \u001b[0my_type\u001b[0m \u001b[0;34m==\u001b[0m \u001b[0;34m\"binary\"\u001b[0m\u001b[0;34m:\u001b[0m\u001b[0;34m\u001b[0m\u001b[0;34m\u001b[0m\u001b[0m\n\u001b[0;32m---> 77\u001b[0;31m         \u001b[0;32mreturn\u001b[0m \u001b[0mbinary_metric\u001b[0m\u001b[0;34m(\u001b[0m\u001b[0my_true\u001b[0m\u001b[0;34m,\u001b[0m \u001b[0my_score\u001b[0m\u001b[0;34m,\u001b[0m \u001b[0msample_weight\u001b[0m\u001b[0;34m=\u001b[0m\u001b[0msample_weight\u001b[0m\u001b[0;34m)\u001b[0m\u001b[0;34m\u001b[0m\u001b[0;34m\u001b[0m\u001b[0m\n\u001b[0m\u001b[1;32m     78\u001b[0m \u001b[0;34m\u001b[0m\u001b[0m\n\u001b[1;32m     79\u001b[0m     \u001b[0mcheck_consistent_length\u001b[0m\u001b[0;34m(\u001b[0m\u001b[0my_true\u001b[0m\u001b[0;34m,\u001b[0m \u001b[0my_score\u001b[0m\u001b[0;34m,\u001b[0m \u001b[0msample_weight\u001b[0m\u001b[0;34m)\u001b[0m\u001b[0;34m\u001b[0m\u001b[0;34m\u001b[0m\u001b[0m\n",
      "\u001b[0;32m~/opt/anaconda3/envs/learn-env/lib/python3.9/site-packages/sklearn/metrics/_ranking.py\u001b[0m in \u001b[0;36m_binary_uninterpolated_average_precision\u001b[0;34m(y_true, y_score, pos_label, sample_weight)\u001b[0m\n\u001b[1;32m    195\u001b[0m     def _binary_uninterpolated_average_precision(\n\u001b[1;32m    196\u001b[0m             y_true, y_score, pos_label=1, sample_weight=None):\n\u001b[0;32m--> 197\u001b[0;31m         precision, recall, _ = precision_recall_curve(\n\u001b[0m\u001b[1;32m    198\u001b[0m             y_true, y_score, pos_label=pos_label, sample_weight=sample_weight)\n\u001b[1;32m    199\u001b[0m         \u001b[0;31m# Return the step function integral\u001b[0m\u001b[0;34m\u001b[0m\u001b[0;34m\u001b[0m\u001b[0;34m\u001b[0m\u001b[0m\n",
      "\u001b[0;32m~/opt/anaconda3/envs/learn-env/lib/python3.9/site-packages/sklearn/utils/validation.py\u001b[0m in \u001b[0;36minner_f\u001b[0;34m(*args, **kwargs)\u001b[0m\n\u001b[1;32m     70\u001b[0m                           FutureWarning)\n\u001b[1;32m     71\u001b[0m         \u001b[0mkwargs\u001b[0m\u001b[0;34m.\u001b[0m\u001b[0mupdate\u001b[0m\u001b[0;34m(\u001b[0m\u001b[0;34m{\u001b[0m\u001b[0mk\u001b[0m\u001b[0;34m:\u001b[0m \u001b[0marg\u001b[0m \u001b[0;32mfor\u001b[0m \u001b[0mk\u001b[0m\u001b[0;34m,\u001b[0m \u001b[0marg\u001b[0m \u001b[0;32min\u001b[0m \u001b[0mzip\u001b[0m\u001b[0;34m(\u001b[0m\u001b[0msig\u001b[0m\u001b[0;34m.\u001b[0m\u001b[0mparameters\u001b[0m\u001b[0;34m,\u001b[0m \u001b[0margs\u001b[0m\u001b[0;34m)\u001b[0m\u001b[0;34m}\u001b[0m\u001b[0;34m)\u001b[0m\u001b[0;34m\u001b[0m\u001b[0;34m\u001b[0m\u001b[0m\n\u001b[0;32m---> 72\u001b[0;31m         \u001b[0;32mreturn\u001b[0m \u001b[0mf\u001b[0m\u001b[0;34m(\u001b[0m\u001b[0;34m**\u001b[0m\u001b[0mkwargs\u001b[0m\u001b[0;34m)\u001b[0m\u001b[0;34m\u001b[0m\u001b[0;34m\u001b[0m\u001b[0m\n\u001b[0m\u001b[1;32m     73\u001b[0m     \u001b[0;32mreturn\u001b[0m \u001b[0minner_f\u001b[0m\u001b[0;34m\u001b[0m\u001b[0;34m\u001b[0m\u001b[0m\n\u001b[1;32m     74\u001b[0m \u001b[0;34m\u001b[0m\u001b[0m\n",
      "\u001b[0;32m~/opt/anaconda3/envs/learn-env/lib/python3.9/site-packages/sklearn/metrics/_ranking.py\u001b[0m in \u001b[0;36mprecision_recall_curve\u001b[0;34m(y_true, probas_pred, pos_label, sample_weight)\u001b[0m\n\u001b[1;32m    673\u001b[0m \u001b[0;34m\u001b[0m\u001b[0m\n\u001b[1;32m    674\u001b[0m     \"\"\"\n\u001b[0;32m--> 675\u001b[0;31m     fps, tps, thresholds = _binary_clf_curve(y_true, probas_pred,\n\u001b[0m\u001b[1;32m    676\u001b[0m                                              \u001b[0mpos_label\u001b[0m\u001b[0;34m=\u001b[0m\u001b[0mpos_label\u001b[0m\u001b[0;34m,\u001b[0m\u001b[0;34m\u001b[0m\u001b[0;34m\u001b[0m\u001b[0m\n\u001b[1;32m    677\u001b[0m                                              sample_weight=sample_weight)\n",
      "\u001b[0;32m~/opt/anaconda3/envs/learn-env/lib/python3.9/site-packages/sklearn/metrics/_ranking.py\u001b[0m in \u001b[0;36m_binary_clf_curve\u001b[0;34m(y_true, y_score, pos_label, sample_weight)\u001b[0m\n\u001b[1;32m    539\u001b[0m         \u001b[0;32mraise\u001b[0m \u001b[0mValueError\u001b[0m\u001b[0;34m(\u001b[0m\u001b[0;34m\"{0} format is not supported\"\u001b[0m\u001b[0;34m.\u001b[0m\u001b[0mformat\u001b[0m\u001b[0;34m(\u001b[0m\u001b[0my_type\u001b[0m\u001b[0;34m)\u001b[0m\u001b[0;34m)\u001b[0m\u001b[0;34m\u001b[0m\u001b[0;34m\u001b[0m\u001b[0m\n\u001b[1;32m    540\u001b[0m \u001b[0;34m\u001b[0m\u001b[0m\n\u001b[0;32m--> 541\u001b[0;31m     \u001b[0mcheck_consistent_length\u001b[0m\u001b[0;34m(\u001b[0m\u001b[0my_true\u001b[0m\u001b[0;34m,\u001b[0m \u001b[0my_score\u001b[0m\u001b[0;34m,\u001b[0m \u001b[0msample_weight\u001b[0m\u001b[0;34m)\u001b[0m\u001b[0;34m\u001b[0m\u001b[0;34m\u001b[0m\u001b[0m\n\u001b[0m\u001b[1;32m    542\u001b[0m     \u001b[0my_true\u001b[0m \u001b[0;34m=\u001b[0m \u001b[0mcolumn_or_1d\u001b[0m\u001b[0;34m(\u001b[0m\u001b[0my_true\u001b[0m\u001b[0;34m)\u001b[0m\u001b[0;34m\u001b[0m\u001b[0;34m\u001b[0m\u001b[0m\n\u001b[1;32m    543\u001b[0m     \u001b[0my_score\u001b[0m \u001b[0;34m=\u001b[0m \u001b[0mcolumn_or_1d\u001b[0m\u001b[0;34m(\u001b[0m\u001b[0my_score\u001b[0m\u001b[0;34m)\u001b[0m\u001b[0;34m\u001b[0m\u001b[0;34m\u001b[0m\u001b[0m\n",
      "\u001b[0;32m~/opt/anaconda3/envs/learn-env/lib/python3.9/site-packages/sklearn/utils/validation.py\u001b[0m in \u001b[0;36mcheck_consistent_length\u001b[0;34m(*arrays)\u001b[0m\n\u001b[1;32m    253\u001b[0m     \u001b[0muniques\u001b[0m \u001b[0;34m=\u001b[0m \u001b[0mnp\u001b[0m\u001b[0;34m.\u001b[0m\u001b[0munique\u001b[0m\u001b[0;34m(\u001b[0m\u001b[0mlengths\u001b[0m\u001b[0;34m)\u001b[0m\u001b[0;34m\u001b[0m\u001b[0;34m\u001b[0m\u001b[0m\n\u001b[1;32m    254\u001b[0m     \u001b[0;32mif\u001b[0m \u001b[0mlen\u001b[0m\u001b[0;34m(\u001b[0m\u001b[0muniques\u001b[0m\u001b[0;34m)\u001b[0m \u001b[0;34m>\u001b[0m \u001b[0;36m1\u001b[0m\u001b[0;34m:\u001b[0m\u001b[0;34m\u001b[0m\u001b[0;34m\u001b[0m\u001b[0m\n\u001b[0;32m--> 255\u001b[0;31m         raise ValueError(\"Found input variables with inconsistent numbers of\"\n\u001b[0m\u001b[1;32m    256\u001b[0m                          \" samples: %r\" % [int(l) for l in lengths])\n\u001b[1;32m    257\u001b[0m \u001b[0;34m\u001b[0m\u001b[0m\n",
      "\u001b[0;31mValueError\u001b[0m: Found input variables with inconsistent numbers of samples: [9374, 6000]"
     ]
    }
   ],
   "source": [
    "data = {'Accuracy': [\"\",\n",
    "                     accuracy(y_val, y_pred_bc_val),\n",
    "                     accuracy(y_val, y_pred_bbc_val),\n",
    "                     accuracy(y_val, y_pred_bbc3_val),\n",
    "                     accuracy(y_val, y_pred_brf_val),\n",
    "                     accuracy(y_val, y_pred_rbc_val),\n",
    "                     accuracy(y_val, y_pred_eec_val),\n",
    "                     \"\",\n",
    "                     accuracy(y_val_tl, y_pred_tl_val),\n",
    "                     accuracy(y_val_enn, y_pred_enn_val),\n",
    "                     \"\",\n",
    "                     accuracy(y_val_sm, y_pred_sm_val),\n",
    "                     accuracy(y_val_svm, y_pred_svmsm_val),\n",
    "                     accuracy(y_val_adsn, y_pred_adsnm_val),\n",
    "                     \"\",\n",
    "                     accuracy(y_val_smt, y_pred_smtk_val),\n",
    "                     accuracy(y_val_sme, y_pred_smenn_val),\n",
    "                     \"\",\n",
    "                     accuracy(y_val_pfs, y_pred_pfsm_val),\n",
    "                     accuracy(y_val_pws, y_pred_pws_val),\n",
    "                     accuracy(y_val_smi, y_pred_smipf_val),\n",
    "                     accuracy(y_val_smo, y_pred_smobd_val),\n",
    "                     accuracy(y_val_gsm, y_pred_gsm_val),\n",
    "                     accuracy(y_val_ccr, y_pred_ccr_val),\n",
    "                     accuracy(y_val_lvq, y_pred_lvq_val),\n",
    "                     accuracy(y_val_ass, y_pred_ass_val)],\n",
    "    'F1 Score': [\"\",\n",
    "                f1_score(y_val, y_pred_bc_val),\n",
    "                f1_score(y_val, y_pred_bbc_val),\n",
    "                f1_score(y_val, y_pred_bbc3_val),\n",
    "                f1_score(y_val, y_pred_brf_val),\n",
    "                f1_score(y_val, y_pred_rbc_val),\n",
    "                f1_score(y_val, y_pred_eec_val),\n",
    "                \"\",\n",
    "                f1_score(y_val_tl, y_pred_tl_val),\n",
    "                f1_score(y_val_enn, y_pred_enn_val),\n",
    "                \"\",\n",
    "                f1_score(y_val_sm, y_pred_sm_val),\n",
    "                f1_score(y_val_svm, y_pred_svmsm_val),\n",
    "                f1_score(y_val_adsn, y_pred_adsnm_val),\n",
    "                \"\",\n",
    "                f1_score(y_val_smt, y_pred_smtk_val),\n",
    "                f1_score(y_val_sme, y_pred_smenn_val),\n",
    "                \"\",\n",
    "                f1_score(y_val_pfs, y_pred_pfsm_val),\n",
    "                f1_score(y_val_pws, y_pred_pws_val),\n",
    "                f1_score(y_val_smi, y_pred_smipf_val),\n",
    "                f1_score(y_val_smo, y_pred_smobd_val),\n",
    "                f1_score(y_val_gsm, y_pred_gsm_val),\n",
    "                f1_score(y_val_ccr, y_pred_ccr_val),\n",
    "                f1_score(y_val_lvq, y_pred_lvq_val),\n",
    "                f1_score(y_val_ass, y_pred_ass_val)],\n",
    "    'PR AUC Score': [\"\",\n",
    "              aps(X_val, y_val, bc),\n",
    "              aps(X_val, y_val, bbc),\n",
    "              aps(X_val, y_val, bbc3),\n",
    "              aps(X_val, y_val, brf),\n",
    "              aps(X_val, y_val, rbc),\n",
    "              aps(X_val, y_val, eec),\n",
    "              \"\",\n",
    "              aps(X_val_tl, y_val_tl, tlm),\n",
    "              aps(X_val_enn, y_val_enn, ennm),\n",
    "              \"\",\n",
    "              aps(X_val_sm, y_val_sm, smm),\n",
    "              aps(X_val_svm, y_val_svm, svmsmote),\n",
    "              aps(X_val_adsn, y_val_adsn, adsnm),\n",
    "              \"\",\n",
    "              aps(X_val_smt, y_val_smt, smtkm),\n",
    "              aps(X_val_sme, y_val_sme, smennm),\n",
    "              \"\",\n",
    "              aps(X_val_pfs, y_val_pfs, pfsmm),\n",
    "              aps(X_val_pws, y_val_pws, pwsm),\n",
    "              aps(X_val_smi, y_val_smi, smipfm),\n",
    "              aps(X_val_smo, y_val_smo, smobdm),\n",
    "              aps(X_val_gsm, y_val_gsm, gsmm),\n",
    "              aps(X_val_ccr, y_val_ccr, ccrm),\n",
    "              aps(X_val_lvq, y_val_lvq, lvqm),\n",
    "              aps(X_val, y_val_ass, assm)]}\n",
    "scores = pd.DataFrame(data=data, index = ['ENSEMBLE METHODS',\n",
    "                                          'BaggingClassifier',\n",
    "                                          'BalancedBaggingClassifier',\n",
    "                                          'BBC with GradientBoostingClassifier',\n",
    "                                          'BalancedRandomForestClassifier',\n",
    "                                          'RUBoostClassifier',\n",
    "                                          'EasyEnsembleClassifier',\n",
    "                                          'UNDERSAMPLING METHODS',\n",
    "                                          'TomekLinks',\n",
    "                                          'EditedNearestNeighbours',\n",
    "                                          'OVERSAMPLING METHODS',\n",
    "                                          'SMOTE',\n",
    "                                          'SVMSMOTE',\n",
    "                                          'ADASYN',\n",
    "                                          'COMBINED METHODS',\n",
    "                                          'SMOTETomek',\n",
    "                                          'SMOTEENN',\n",
    "                                          'SMOTE-VARIANTS',\n",
    "                                          'sv.polynom_fit_SMOTE',\n",
    "                                          'sv.ProWSyn',\n",
    "                                          'sv.SMOTE_IPF',\n",
    "                                          'sv.SMOBD',\n",
    "                                          'sv.G_SMOTE',\n",
    "                                          'sv.CCR',\n",
    "                                          'sv.LQV_SMOTE',\n",
    "                                          'sv.Assembled_SMOTE'])"
   ]
  },
  {
   "cell_type": "code",
   "execution_count": null,
   "metadata": {},
   "outputs": [],
   "source": [
    "scores"
   ]
  },
  {
   "cell_type": "code",
   "execution_count": null,
   "metadata": {},
   "outputs": [],
   "source": []
  }
 ]
}