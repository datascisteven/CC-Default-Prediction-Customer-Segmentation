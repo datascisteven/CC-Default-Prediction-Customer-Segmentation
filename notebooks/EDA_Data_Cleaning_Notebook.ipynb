{
 "metadata": {
  "language_info": {
   "codemirror_mode": {
    "name": "ipython",
    "version": 3
   },
   "file_extension": ".py",
   "mimetype": "text/x-python",
   "name": "python",
   "nbconvert_exporter": "python",
   "pygments_lexer": "ipython3",
   "version": "3.9.1-final"
  },
  "orig_nbformat": 2,
  "kernelspec": {
   "name": "python3",
   "display_name": "Python 3",
   "language": "python"
  }
 },
 "nbformat": 4,
 "nbformat_minor": 2,
 "cells": [
  {
   "source": [
    "<h1><center><font size=\"6\">Data Cleaning, EDA, and Feature Engineering Notebook</font></center></h1>\n",
    "\n",
    "# <a id='0'>Contents</a>\n",
    "\n",
    "- <a href='#2'>Importing Packages</a>  \n",
    "- <a href='#3'>Uploading Data</a>\n",
    "- <a href='#4'>Creating Train, Validation, and Testing Sets</a>  \n",
    "- <a href='#5'>Data Cleaning</a>  \n",
    "- <a href='#5'>Exploratory Data Analysis</a>\n",
    "- <a href='#6'>Feature Engineering</a>  \n"
   ],
   "cell_type": "markdown",
   "metadata": {}
  },
  {
   "source": [
    "# <a id:'1'>Importing Packages</a>"
   ],
   "cell_type": "markdown",
   "metadata": {}
  },
  {
   "cell_type": "code",
   "execution_count": 38,
   "metadata": {},
   "outputs": [],
   "source": [
    "# Importing Packages\n",
    "import numpy as np \n",
    "import pandas as pd\n",
    "import re\n",
    "import json\n",
    "import requests\n",
    "pd.set_option(\"display.max_rows\", 999)\n",
    "pd.set_option(\"display.max_columns\", 999)\n",
    "\n",
    "import matplotlib.pyplot as plt\n",
    "from matplotlib import style\n",
    "import seaborn as sns\n",
    "import warnings\n",
    "warnings.filterwarnings('ignore')\n",
    "%matplotlib inline\n",
    "plt.style.use(\"fivethirtyeight\")\n",
    "\n",
    "from sklearn.model_selection import train_test_split\n",
    "\n",
    "import pickle"
   ]
  },
  {
   "source": [
    "# <a id='2'>Uploading Data</a>"
   ],
   "cell_type": "markdown",
   "metadata": {}
  },
  {
   "cell_type": "code",
   "execution_count": 39,
   "metadata": {},
   "outputs": [
    {
     "output_type": "execute_result",
     "data": {
      "text/plain": [
       "0 ID LIMIT_BAL SEX EDUCATION MARRIAGE AGE PAY_0 PAY_2 PAY_3 PAY_4 PAY_5 PAY_6  \\\n",
       "1  1     20000   2         2        1  24     2     2    -1    -1    -2    -2   \n",
       "2  2    120000   2         2        2  26    -1     2     0     0     0     2   \n",
       "3  3     90000   2         2        2  34     0     0     0     0     0     0   \n",
       "4  4     50000   2         2        1  37     0     0     0     0     0     0   \n",
       "5  5     50000   1         2        1  57    -1     0    -1     0     0     0   \n",
       "\n",
       "0 BILL_AMT1 BILL_AMT2 BILL_AMT3 BILL_AMT4 BILL_AMT5 BILL_AMT6 PAY_AMT1  \\\n",
       "1      3913      3102       689         0         0         0        0   \n",
       "2      2682      1725      2682      3272      3455      3261        0   \n",
       "3     29239     14027     13559     14331     14948     15549     1518   \n",
       "4     46990     48233     49291     28314     28959     29547     2000   \n",
       "5      8617      5670     35835     20940     19146     19131     2000   \n",
       "\n",
       "0 PAY_AMT2 PAY_AMT3 PAY_AMT4 PAY_AMT5 PAY_AMT6 default  \n",
       "1      689        0        0        0        0       1  \n",
       "2     1000     1000     1000        0     2000       1  \n",
       "3     1500     1000     1000     1000     5000       0  \n",
       "4     2019     1200     1100     1069     1000       0  \n",
       "5    36681    10000     9000      689      679       0  "
      ],
      "text/html": "<div>\n<style scoped>\n    .dataframe tbody tr th:only-of-type {\n        vertical-align: middle;\n    }\n\n    .dataframe tbody tr th {\n        vertical-align: top;\n    }\n\n    .dataframe thead th {\n        text-align: right;\n    }\n</style>\n<table border=\"1\" class=\"dataframe\">\n  <thead>\n    <tr style=\"text-align: right;\">\n      <th></th>\n      <th>ID</th>\n      <th>LIMIT_BAL</th>\n      <th>SEX</th>\n      <th>EDUCATION</th>\n      <th>MARRIAGE</th>\n      <th>AGE</th>\n      <th>PAY_0</th>\n      <th>PAY_2</th>\n      <th>PAY_3</th>\n      <th>PAY_4</th>\n      <th>PAY_5</th>\n      <th>PAY_6</th>\n      <th>BILL_AMT1</th>\n      <th>BILL_AMT2</th>\n      <th>BILL_AMT3</th>\n      <th>BILL_AMT4</th>\n      <th>BILL_AMT5</th>\n      <th>BILL_AMT6</th>\n      <th>PAY_AMT1</th>\n      <th>PAY_AMT2</th>\n      <th>PAY_AMT3</th>\n      <th>PAY_AMT4</th>\n      <th>PAY_AMT5</th>\n      <th>PAY_AMT6</th>\n      <th>default</th>\n    </tr>\n  </thead>\n  <tbody>\n    <tr>\n      <th>1</th>\n      <td>1</td>\n      <td>20000</td>\n      <td>2</td>\n      <td>2</td>\n      <td>1</td>\n      <td>24</td>\n      <td>2</td>\n      <td>2</td>\n      <td>-1</td>\n      <td>-1</td>\n      <td>-2</td>\n      <td>-2</td>\n      <td>3913</td>\n      <td>3102</td>\n      <td>689</td>\n      <td>0</td>\n      <td>0</td>\n      <td>0</td>\n      <td>0</td>\n      <td>689</td>\n      <td>0</td>\n      <td>0</td>\n      <td>0</td>\n      <td>0</td>\n      <td>1</td>\n    </tr>\n    <tr>\n      <th>2</th>\n      <td>2</td>\n      <td>120000</td>\n      <td>2</td>\n      <td>2</td>\n      <td>2</td>\n      <td>26</td>\n      <td>-1</td>\n      <td>2</td>\n      <td>0</td>\n      <td>0</td>\n      <td>0</td>\n      <td>2</td>\n      <td>2682</td>\n      <td>1725</td>\n      <td>2682</td>\n      <td>3272</td>\n      <td>3455</td>\n      <td>3261</td>\n      <td>0</td>\n      <td>1000</td>\n      <td>1000</td>\n      <td>1000</td>\n      <td>0</td>\n      <td>2000</td>\n      <td>1</td>\n    </tr>\n    <tr>\n      <th>3</th>\n      <td>3</td>\n      <td>90000</td>\n      <td>2</td>\n      <td>2</td>\n      <td>2</td>\n      <td>34</td>\n      <td>0</td>\n      <td>0</td>\n      <td>0</td>\n      <td>0</td>\n      <td>0</td>\n      <td>0</td>\n      <td>29239</td>\n      <td>14027</td>\n      <td>13559</td>\n      <td>14331</td>\n      <td>14948</td>\n      <td>15549</td>\n      <td>1518</td>\n      <td>1500</td>\n      <td>1000</td>\n      <td>1000</td>\n      <td>1000</td>\n      <td>5000</td>\n      <td>0</td>\n    </tr>\n    <tr>\n      <th>4</th>\n      <td>4</td>\n      <td>50000</td>\n      <td>2</td>\n      <td>2</td>\n      <td>1</td>\n      <td>37</td>\n      <td>0</td>\n      <td>0</td>\n      <td>0</td>\n      <td>0</td>\n      <td>0</td>\n      <td>0</td>\n      <td>46990</td>\n      <td>48233</td>\n      <td>49291</td>\n      <td>28314</td>\n      <td>28959</td>\n      <td>29547</td>\n      <td>2000</td>\n      <td>2019</td>\n      <td>1200</td>\n      <td>1100</td>\n      <td>1069</td>\n      <td>1000</td>\n      <td>0</td>\n    </tr>\n    <tr>\n      <th>5</th>\n      <td>5</td>\n      <td>50000</td>\n      <td>1</td>\n      <td>2</td>\n      <td>1</td>\n      <td>57</td>\n      <td>-1</td>\n      <td>0</td>\n      <td>-1</td>\n      <td>0</td>\n      <td>0</td>\n      <td>0</td>\n      <td>8617</td>\n      <td>5670</td>\n      <td>35835</td>\n      <td>20940</td>\n      <td>19146</td>\n      <td>19131</td>\n      <td>2000</td>\n      <td>36681</td>\n      <td>10000</td>\n      <td>9000</td>\n      <td>689</td>\n      <td>679</td>\n      <td>0</td>\n    </tr>\n  </tbody>\n</table>\n</div>"
     },
     "metadata": {},
     "execution_count": 39
    }
   ],
   "source": [
    "df = pd.read_excel(\"../data/default of credit card clients.xls\")\n",
    "new_header = df.iloc[0]\n",
    "df = df[1:] \n",
    "df.columns = new_header\n",
    "df = df.rename(columns={\"default payment next month\": \"default\"}) \n",
    "df.head()"
   ]
  },
  {
   "cell_type": "code",
   "execution_count": 40,
   "metadata": {},
   "outputs": [
    {
     "output_type": "execute_result",
     "data": {
      "text/plain": [
       "0\n",
       "ID           object\n",
       "LIMIT_BAL    object\n",
       "SEX          object\n",
       "EDUCATION    object\n",
       "MARRIAGE     object\n",
       "AGE          object\n",
       "PAY_0        object\n",
       "PAY_2        object\n",
       "PAY_3        object\n",
       "PAY_4        object\n",
       "PAY_5        object\n",
       "PAY_6        object\n",
       "BILL_AMT1    object\n",
       "BILL_AMT2    object\n",
       "BILL_AMT3    object\n",
       "BILL_AMT4    object\n",
       "BILL_AMT5    object\n",
       "BILL_AMT6    object\n",
       "PAY_AMT1     object\n",
       "PAY_AMT2     object\n",
       "PAY_AMT3     object\n",
       "PAY_AMT4     object\n",
       "PAY_AMT5     object\n",
       "PAY_AMT6     object\n",
       "default      object\n",
       "dtype: object"
      ]
     },
     "metadata": {},
     "execution_count": 40
    }
   ],
   "source": [
    "df.dtypes"
   ]
  },
  {
   "source": [
    "# <a id='4'>Creating Train, Validation, and Testing Sets</a>"
   ],
   "cell_type": "markdown",
   "metadata": {}
  },
  {
   "cell_type": "code",
   "execution_count": 41,
   "metadata": {},
   "outputs": [],
   "source": [
    "X = df.drop([\"default\"], axis=1)\n",
    "y = df[\"default\"]\n",
    "# split the full data 80:20 into training:validation sets\n",
    "X_train, X_val, y_train, y_val = train_test_split(X, y, train_size=0.8, random_state=42)\n",
    "# split training data 87.5:12.5 into training:testing sets\n",
    "X_tr, X_tt, y_tr, y_tt = train_test_split(X_train, y_train, train_size=0.875, random_state=42)\n",
    "train = pd.concat([X_tr, y_tr], axis=1)\n",
    "val = pd.concat([X_val, y_val], axis=1)"
   ]
  },
  {
   "cell_type": "code",
   "execution_count": 42,
   "metadata": {},
   "outputs": [],
   "source": [
    "# X_tt.to_csv(\"../data/testing.csv\")\n",
    "# y_tt.to_csv(\"../data/testing_labels.csv\")\n",
    "# train.to_csv(\"../data/training.csv\", index=False)\n",
    "# val.to_csv(\"../data/validate.csv\", index=False)"
   ]
  },
  {
   "source": [
    "# <a id='5'>Data Cleaning</a>"
   ],
   "cell_type": "markdown",
   "metadata": {}
  },
  {
   "cell_type": "code",
   "execution_count": 43,
   "metadata": {},
   "outputs": [
    {
     "output_type": "execute_result",
     "data": {
      "text/plain": [
       "LIMIT_BAL    int64\n",
       "SEX          int64\n",
       "EDUCATION    int64\n",
       "MARRIAGE     int64\n",
       "AGE          int64\n",
       "PAY_0        int64\n",
       "PAY_2        int64\n",
       "PAY_3        int64\n",
       "PAY_4        int64\n",
       "PAY_5        int64\n",
       "PAY_6        int64\n",
       "BILL_AMT1    int64\n",
       "BILL_AMT2    int64\n",
       "BILL_AMT3    int64\n",
       "BILL_AMT4    int64\n",
       "BILL_AMT5    int64\n",
       "BILL_AMT6    int64\n",
       "PAY_AMT1     int64\n",
       "PAY_AMT2     int64\n",
       "PAY_AMT3     int64\n",
       "PAY_AMT4     int64\n",
       "PAY_AMT5     int64\n",
       "PAY_AMT6     int64\n",
       "default      int64\n",
       "dtype: object"
      ]
     },
     "metadata": {},
     "execution_count": 43
    }
   ],
   "source": [
    "tr = pd.read_csv(\"../data/training.csv\")\n",
    "val = pd.read_csv(\"../data/validate.csv\")\n",
    "tr = tr.drop([\"ID\"], axis=1)\n",
    "val = val.drop([\"ID\"], axis=1)\n",
    "tr.dtypes"
   ]
  },
  {
   "cell_type": "code",
   "execution_count": 44,
   "metadata": {},
   "outputs": [
    {
     "output_type": "execute_result",
     "data": {
      "text/plain": [
       "   LIMIT_BAL  SEX  EDUCATION  MARRIAGE  AGE  PAY_0  PAY_2  PAY_3  PAY_4  \\\n",
       "0      50000    2          2         1   44      0      0      0      0   \n",
       "1     160000    2          3         1   46     -1     -1     -1      0   \n",
       "2     100000    2          2         1   47     -1     -1     -1     -1   \n",
       "3     170000    2          2         1   29      0      0      0      0   \n",
       "4     150000    2          1         2   33     -2     -2     -2     -2   \n",
       "\n",
       "   PAY_5  PAY_6  BILL_AMT1  BILL_AMT2  BILL_AMT3  BILL_AMT4  BILL_AMT5  \\\n",
       "0      0      0      45578      41906      35703      22360      23659   \n",
       "1     -1     -1      24904       2338       4856       4127       3995   \n",
       "2     -1     -2       6666       6666          0       6270       -396   \n",
       "3      0      0      79091      62575      63317      63903      43505   \n",
       "4     -2     -2      24393      26847      32702      33459      27800   \n",
       "\n",
       "   BILL_AMT6  PAY_AMT1  PAY_AMT2  PAY_AMT3  PAY_AMT4  PAY_AMT5  PAY_AMT6  \\\n",
       "0      27421      3016      5003      3000      3000      5000       924   \n",
       "1        842      2343      4856      1000      3995       842     26313   \n",
       "2       -396      6666         0      6270         0         0         0   \n",
       "3      43995      2235      2493      2585      1683      1901      2111   \n",
       "4       2261     27007     32715     33475     27808      2261    169465   \n",
       "\n",
       "   default  \n",
       "0        0  \n",
       "1        0  \n",
       "2        1  \n",
       "3        0  \n",
       "4        0  "
      ],
      "text/html": "<div>\n<style scoped>\n    .dataframe tbody tr th:only-of-type {\n        vertical-align: middle;\n    }\n\n    .dataframe tbody tr th {\n        vertical-align: top;\n    }\n\n    .dataframe thead th {\n        text-align: right;\n    }\n</style>\n<table border=\"1\" class=\"dataframe\">\n  <thead>\n    <tr style=\"text-align: right;\">\n      <th></th>\n      <th>LIMIT_BAL</th>\n      <th>SEX</th>\n      <th>EDUCATION</th>\n      <th>MARRIAGE</th>\n      <th>AGE</th>\n      <th>PAY_0</th>\n      <th>PAY_2</th>\n      <th>PAY_3</th>\n      <th>PAY_4</th>\n      <th>PAY_5</th>\n      <th>PAY_6</th>\n      <th>BILL_AMT1</th>\n      <th>BILL_AMT2</th>\n      <th>BILL_AMT3</th>\n      <th>BILL_AMT4</th>\n      <th>BILL_AMT5</th>\n      <th>BILL_AMT6</th>\n      <th>PAY_AMT1</th>\n      <th>PAY_AMT2</th>\n      <th>PAY_AMT3</th>\n      <th>PAY_AMT4</th>\n      <th>PAY_AMT5</th>\n      <th>PAY_AMT6</th>\n      <th>default</th>\n    </tr>\n  </thead>\n  <tbody>\n    <tr>\n      <th>0</th>\n      <td>50000</td>\n      <td>2</td>\n      <td>2</td>\n      <td>1</td>\n      <td>44</td>\n      <td>0</td>\n      <td>0</td>\n      <td>0</td>\n      <td>0</td>\n      <td>0</td>\n      <td>0</td>\n      <td>45578</td>\n      <td>41906</td>\n      <td>35703</td>\n      <td>22360</td>\n      <td>23659</td>\n      <td>27421</td>\n      <td>3016</td>\n      <td>5003</td>\n      <td>3000</td>\n      <td>3000</td>\n      <td>5000</td>\n      <td>924</td>\n      <td>0</td>\n    </tr>\n    <tr>\n      <th>1</th>\n      <td>160000</td>\n      <td>2</td>\n      <td>3</td>\n      <td>1</td>\n      <td>46</td>\n      <td>-1</td>\n      <td>-1</td>\n      <td>-1</td>\n      <td>0</td>\n      <td>-1</td>\n      <td>-1</td>\n      <td>24904</td>\n      <td>2338</td>\n      <td>4856</td>\n      <td>4127</td>\n      <td>3995</td>\n      <td>842</td>\n      <td>2343</td>\n      <td>4856</td>\n      <td>1000</td>\n      <td>3995</td>\n      <td>842</td>\n      <td>26313</td>\n      <td>0</td>\n    </tr>\n    <tr>\n      <th>2</th>\n      <td>100000</td>\n      <td>2</td>\n      <td>2</td>\n      <td>1</td>\n      <td>47</td>\n      <td>-1</td>\n      <td>-1</td>\n      <td>-1</td>\n      <td>-1</td>\n      <td>-1</td>\n      <td>-2</td>\n      <td>6666</td>\n      <td>6666</td>\n      <td>0</td>\n      <td>6270</td>\n      <td>-396</td>\n      <td>-396</td>\n      <td>6666</td>\n      <td>0</td>\n      <td>6270</td>\n      <td>0</td>\n      <td>0</td>\n      <td>0</td>\n      <td>1</td>\n    </tr>\n    <tr>\n      <th>3</th>\n      <td>170000</td>\n      <td>2</td>\n      <td>2</td>\n      <td>1</td>\n      <td>29</td>\n      <td>0</td>\n      <td>0</td>\n      <td>0</td>\n      <td>0</td>\n      <td>0</td>\n      <td>0</td>\n      <td>79091</td>\n      <td>62575</td>\n      <td>63317</td>\n      <td>63903</td>\n      <td>43505</td>\n      <td>43995</td>\n      <td>2235</td>\n      <td>2493</td>\n      <td>2585</td>\n      <td>1683</td>\n      <td>1901</td>\n      <td>2111</td>\n      <td>0</td>\n    </tr>\n    <tr>\n      <th>4</th>\n      <td>150000</td>\n      <td>2</td>\n      <td>1</td>\n      <td>2</td>\n      <td>33</td>\n      <td>-2</td>\n      <td>-2</td>\n      <td>-2</td>\n      <td>-2</td>\n      <td>-2</td>\n      <td>-2</td>\n      <td>24393</td>\n      <td>26847</td>\n      <td>32702</td>\n      <td>33459</td>\n      <td>27800</td>\n      <td>2261</td>\n      <td>27007</td>\n      <td>32715</td>\n      <td>33475</td>\n      <td>27808</td>\n      <td>2261</td>\n      <td>169465</td>\n      <td>0</td>\n    </tr>\n  </tbody>\n</table>\n</div>"
     },
     "metadata": {},
     "execution_count": 44
    }
   ],
   "source": [
    "tr.head()"
   ]
  },
  {
   "cell_type": "code",
   "execution_count": 45,
   "metadata": {},
   "outputs": [
    {
     "output_type": "execute_result",
     "data": {
      "text/plain": [
       "            LIMIT_BAL           SEX     EDUCATION      MARRIAGE           AGE  \\\n",
       "count    21000.000000  21000.000000  21000.000000  21000.000000  21000.000000   \n",
       "mean    167214.937143      1.605190      1.854333      1.549476     35.538286   \n",
       "std     129561.159854      0.488821      0.794086      0.523126      9.257936   \n",
       "min      10000.000000      1.000000      0.000000      0.000000     21.000000   \n",
       "25%      50000.000000      1.000000      1.000000      1.000000     28.000000   \n",
       "50%     140000.000000      2.000000      2.000000      2.000000     34.000000   \n",
       "75%     240000.000000      2.000000      2.000000      2.000000     42.000000   \n",
       "max    1000000.000000      2.000000      6.000000      3.000000     79.000000   \n",
       "\n",
       "              PAY_0         PAY_2         PAY_3         PAY_4         PAY_5  \\\n",
       "count  21000.000000  21000.000000  21000.000000  21000.000000  21000.000000   \n",
       "mean      -0.015524     -0.130952     -0.165667     -0.216952     -0.261238   \n",
       "std        1.127750      1.200066      1.194393      1.170611      1.136246   \n",
       "min       -2.000000     -2.000000     -2.000000     -2.000000     -2.000000   \n",
       "25%       -1.000000     -1.000000     -1.000000     -1.000000     -1.000000   \n",
       "50%        0.000000      0.000000      0.000000      0.000000      0.000000   \n",
       "75%        0.000000      0.000000      0.000000      0.000000      0.000000   \n",
       "max        8.000000      8.000000      8.000000      8.000000      8.000000   \n",
       "\n",
       "              PAY_6      BILL_AMT1      BILL_AMT2     BILL_AMT3  \\\n",
       "count  21000.000000   21000.000000   21000.000000  2.100000e+04   \n",
       "mean      -0.284810   51115.879143   49164.750619  4.696772e+04   \n",
       "std        1.156573   73469.974615   71175.850265  6.960624e+04   \n",
       "min       -2.000000 -165580.000000  -69777.000000 -1.572640e+05   \n",
       "25%       -1.000000    3566.500000    3033.500000  2.743750e+03   \n",
       "50%        0.000000   22460.500000   21417.000000  2.007300e+04   \n",
       "75%        0.000000   66759.750000   63291.250000  5.969425e+04   \n",
       "max        8.000000  964511.000000  983931.000000  1.664089e+06   \n",
       "\n",
       "           BILL_AMT4      BILL_AMT5      BILL_AMT6       PAY_AMT1  \\\n",
       "count   21000.000000   21000.000000   21000.000000   21000.000000   \n",
       "mean    43174.979429   40376.466143   38976.187810    5732.100667   \n",
       "std     64284.893891   61004.334726   59676.470266   17510.937498   \n",
       "min   -170000.000000  -81334.000000 -209051.000000       0.000000   \n",
       "25%      2350.750000    1782.000000    1301.750000    1000.000000   \n",
       "50%     19038.500000   18100.000000   17128.500000    2100.000000   \n",
       "75%     54345.500000   50289.250000   49413.000000    5007.000000   \n",
       "max    891586.000000  927171.000000  961664.000000  873552.000000   \n",
       "\n",
       "           PAY_AMT2       PAY_AMT3       PAY_AMT4       PAY_AMT5  \\\n",
       "count  2.100000e+04   21000.000000   21000.000000   21000.000000   \n",
       "mean   6.006080e+03    5279.434524    4927.353714    4822.283381   \n",
       "std    2.508609e+04   18647.406220   16803.515819   15620.014696   \n",
       "min    0.000000e+00       0.000000       0.000000       0.000000   \n",
       "25%    8.360000e+02     390.000000     291.000000     243.000000   \n",
       "50%    2.007000e+03    1800.000000    1500.000000    1500.000000   \n",
       "75%    5.000000e+03    4500.000000    4001.000000    4034.000000   \n",
       "max    1.684259e+06  896040.000000  621000.000000  417990.000000   \n",
       "\n",
       "            PAY_AMT6       default  \n",
       "count   21000.000000  21000.000000  \n",
       "mean     5156.729952      0.221714  \n",
       "std     17658.819827      0.415410  \n",
       "min         0.000000      0.000000  \n",
       "25%       116.750000      0.000000  \n",
       "50%      1500.000000      0.000000  \n",
       "75%      4000.000000      0.000000  \n",
       "max    527143.000000      1.000000  "
      ],
      "text/html": "<div>\n<style scoped>\n    .dataframe tbody tr th:only-of-type {\n        vertical-align: middle;\n    }\n\n    .dataframe tbody tr th {\n        vertical-align: top;\n    }\n\n    .dataframe thead th {\n        text-align: right;\n    }\n</style>\n<table border=\"1\" class=\"dataframe\">\n  <thead>\n    <tr style=\"text-align: right;\">\n      <th></th>\n      <th>LIMIT_BAL</th>\n      <th>SEX</th>\n      <th>EDUCATION</th>\n      <th>MARRIAGE</th>\n      <th>AGE</th>\n      <th>PAY_0</th>\n      <th>PAY_2</th>\n      <th>PAY_3</th>\n      <th>PAY_4</th>\n      <th>PAY_5</th>\n      <th>PAY_6</th>\n      <th>BILL_AMT1</th>\n      <th>BILL_AMT2</th>\n      <th>BILL_AMT3</th>\n      <th>BILL_AMT4</th>\n      <th>BILL_AMT5</th>\n      <th>BILL_AMT6</th>\n      <th>PAY_AMT1</th>\n      <th>PAY_AMT2</th>\n      <th>PAY_AMT3</th>\n      <th>PAY_AMT4</th>\n      <th>PAY_AMT5</th>\n      <th>PAY_AMT6</th>\n      <th>default</th>\n    </tr>\n  </thead>\n  <tbody>\n    <tr>\n      <th>count</th>\n      <td>21000.000000</td>\n      <td>21000.000000</td>\n      <td>21000.000000</td>\n      <td>21000.000000</td>\n      <td>21000.000000</td>\n      <td>21000.000000</td>\n      <td>21000.000000</td>\n      <td>21000.000000</td>\n      <td>21000.000000</td>\n      <td>21000.000000</td>\n      <td>21000.000000</td>\n      <td>21000.000000</td>\n      <td>21000.000000</td>\n      <td>2.100000e+04</td>\n      <td>21000.000000</td>\n      <td>21000.000000</td>\n      <td>21000.000000</td>\n      <td>21000.000000</td>\n      <td>2.100000e+04</td>\n      <td>21000.000000</td>\n      <td>21000.000000</td>\n      <td>21000.000000</td>\n      <td>21000.000000</td>\n      <td>21000.000000</td>\n    </tr>\n    <tr>\n      <th>mean</th>\n      <td>167214.937143</td>\n      <td>1.605190</td>\n      <td>1.854333</td>\n      <td>1.549476</td>\n      <td>35.538286</td>\n      <td>-0.015524</td>\n      <td>-0.130952</td>\n      <td>-0.165667</td>\n      <td>-0.216952</td>\n      <td>-0.261238</td>\n      <td>-0.284810</td>\n      <td>51115.879143</td>\n      <td>49164.750619</td>\n      <td>4.696772e+04</td>\n      <td>43174.979429</td>\n      <td>40376.466143</td>\n      <td>38976.187810</td>\n      <td>5732.100667</td>\n      <td>6.006080e+03</td>\n      <td>5279.434524</td>\n      <td>4927.353714</td>\n      <td>4822.283381</td>\n      <td>5156.729952</td>\n      <td>0.221714</td>\n    </tr>\n    <tr>\n      <th>std</th>\n      <td>129561.159854</td>\n      <td>0.488821</td>\n      <td>0.794086</td>\n      <td>0.523126</td>\n      <td>9.257936</td>\n      <td>1.127750</td>\n      <td>1.200066</td>\n      <td>1.194393</td>\n      <td>1.170611</td>\n      <td>1.136246</td>\n      <td>1.156573</td>\n      <td>73469.974615</td>\n      <td>71175.850265</td>\n      <td>6.960624e+04</td>\n      <td>64284.893891</td>\n      <td>61004.334726</td>\n      <td>59676.470266</td>\n      <td>17510.937498</td>\n      <td>2.508609e+04</td>\n      <td>18647.406220</td>\n      <td>16803.515819</td>\n      <td>15620.014696</td>\n      <td>17658.819827</td>\n      <td>0.415410</td>\n    </tr>\n    <tr>\n      <th>min</th>\n      <td>10000.000000</td>\n      <td>1.000000</td>\n      <td>0.000000</td>\n      <td>0.000000</td>\n      <td>21.000000</td>\n      <td>-2.000000</td>\n      <td>-2.000000</td>\n      <td>-2.000000</td>\n      <td>-2.000000</td>\n      <td>-2.000000</td>\n      <td>-2.000000</td>\n      <td>-165580.000000</td>\n      <td>-69777.000000</td>\n      <td>-1.572640e+05</td>\n      <td>-170000.000000</td>\n      <td>-81334.000000</td>\n      <td>-209051.000000</td>\n      <td>0.000000</td>\n      <td>0.000000e+00</td>\n      <td>0.000000</td>\n      <td>0.000000</td>\n      <td>0.000000</td>\n      <td>0.000000</td>\n      <td>0.000000</td>\n    </tr>\n    <tr>\n      <th>25%</th>\n      <td>50000.000000</td>\n      <td>1.000000</td>\n      <td>1.000000</td>\n      <td>1.000000</td>\n      <td>28.000000</td>\n      <td>-1.000000</td>\n      <td>-1.000000</td>\n      <td>-1.000000</td>\n      <td>-1.000000</td>\n      <td>-1.000000</td>\n      <td>-1.000000</td>\n      <td>3566.500000</td>\n      <td>3033.500000</td>\n      <td>2.743750e+03</td>\n      <td>2350.750000</td>\n      <td>1782.000000</td>\n      <td>1301.750000</td>\n      <td>1000.000000</td>\n      <td>8.360000e+02</td>\n      <td>390.000000</td>\n      <td>291.000000</td>\n      <td>243.000000</td>\n      <td>116.750000</td>\n      <td>0.000000</td>\n    </tr>\n    <tr>\n      <th>50%</th>\n      <td>140000.000000</td>\n      <td>2.000000</td>\n      <td>2.000000</td>\n      <td>2.000000</td>\n      <td>34.000000</td>\n      <td>0.000000</td>\n      <td>0.000000</td>\n      <td>0.000000</td>\n      <td>0.000000</td>\n      <td>0.000000</td>\n      <td>0.000000</td>\n      <td>22460.500000</td>\n      <td>21417.000000</td>\n      <td>2.007300e+04</td>\n      <td>19038.500000</td>\n      <td>18100.000000</td>\n      <td>17128.500000</td>\n      <td>2100.000000</td>\n      <td>2.007000e+03</td>\n      <td>1800.000000</td>\n      <td>1500.000000</td>\n      <td>1500.000000</td>\n      <td>1500.000000</td>\n      <td>0.000000</td>\n    </tr>\n    <tr>\n      <th>75%</th>\n      <td>240000.000000</td>\n      <td>2.000000</td>\n      <td>2.000000</td>\n      <td>2.000000</td>\n      <td>42.000000</td>\n      <td>0.000000</td>\n      <td>0.000000</td>\n      <td>0.000000</td>\n      <td>0.000000</td>\n      <td>0.000000</td>\n      <td>0.000000</td>\n      <td>66759.750000</td>\n      <td>63291.250000</td>\n      <td>5.969425e+04</td>\n      <td>54345.500000</td>\n      <td>50289.250000</td>\n      <td>49413.000000</td>\n      <td>5007.000000</td>\n      <td>5.000000e+03</td>\n      <td>4500.000000</td>\n      <td>4001.000000</td>\n      <td>4034.000000</td>\n      <td>4000.000000</td>\n      <td>0.000000</td>\n    </tr>\n    <tr>\n      <th>max</th>\n      <td>1000000.000000</td>\n      <td>2.000000</td>\n      <td>6.000000</td>\n      <td>3.000000</td>\n      <td>79.000000</td>\n      <td>8.000000</td>\n      <td>8.000000</td>\n      <td>8.000000</td>\n      <td>8.000000</td>\n      <td>8.000000</td>\n      <td>8.000000</td>\n      <td>964511.000000</td>\n      <td>983931.000000</td>\n      <td>1.664089e+06</td>\n      <td>891586.000000</td>\n      <td>927171.000000</td>\n      <td>961664.000000</td>\n      <td>873552.000000</td>\n      <td>1.684259e+06</td>\n      <td>896040.000000</td>\n      <td>621000.000000</td>\n      <td>417990.000000</td>\n      <td>527143.000000</td>\n      <td>1.000000</td>\n    </tr>\n  </tbody>\n</table>\n</div>"
     },
     "metadata": {},
     "execution_count": 45
    }
   ],
   "source": [
    "# look for anomalies in minimum and maximum values and peculiarities in interquartile values\n",
    "tr.describe()"
   ]
  },
  {
   "cell_type": "code",
   "execution_count": 46,
   "metadata": {},
   "outputs": [],
   "source": [
    "# Use requests and json modules to webscrape current exchange rate for TWD to USD\n",
    "url = 'https://openexchangerates.org/api/latest.json?app_id=c51b1508fb4145259b1c2fade72a2c04'\n",
    "response = requests.get(url)\n",
    "data = response.json()\n",
    "rate = data['rates']['TWD']"
   ]
  },
  {
   "cell_type": "code",
   "execution_count": 49,
   "metadata": {},
   "outputs": [
    {
     "output_type": "stream",
     "name": "stdout",
     "text": [
      "LIMIT_BAL    0\nSEX          0\nEDUCATION    0\nMARRIAGE     0\nAGE          0\nPAY_0        0\nPAY_2        0\nPAY_3        0\nPAY_4        0\nPAY_5        0\nPAY_6        0\nBILL_AMT1    0\nBILL_AMT2    0\nBILL_AMT3    0\nBILL_AMT4    0\nBILL_AMT5    0\nBILL_AMT6    0\nPAY_AMT1     0\nPAY_AMT2     0\nPAY_AMT3     0\nPAY_AMT4     0\nPAY_AMT5     0\nPAY_AMT6     0\ndefault      0\ndtype: int64\nLIMIT_BAL    0\nSEX          0\nEDUCATION    0\nMARRIAGE     0\nAGE          0\nPAY_0        0\nPAY_2        0\nPAY_3        0\nPAY_4        0\nPAY_5        0\nPAY_6        0\nBILL_AMT1    0\nBILL_AMT2    0\nBILL_AMT3    0\nBILL_AMT4    0\nBILL_AMT5    0\nBILL_AMT6    0\nPAY_AMT1     0\nPAY_AMT2     0\nPAY_AMT3     0\nPAY_AMT4     0\nPAY_AMT5     0\nPAY_AMT6     0\ndefault      0\ndtype: int64\n"
     ]
    }
   ],
   "source": [
    "# check for null values\n",
    "data = [tr, val]\n",
    "for d in data:\n",
    "    print(d.isna().sum())"
   ]
  },
  {
   "cell_type": "code",
   "execution_count": 50,
   "metadata": {},
   "outputs": [],
   "source": [
    "# change column names for easier reference\n",
    "for d in data:    \n",
    "    d.rename(columns={\"PAY_0\": \"behind1\", \n",
    "                        \"PAY_2\": \"behind2\", \n",
    "                        \"PAY_3\": \"behind3\", \n",
    "                        \"PAY_4\": \"behind4\",\n",
    "                        \"PAY_5\": \"behind5\", \n",
    "                        \"PAY_6\": \"behind6\", \n",
    "                        \"BILL_AMT1\": \"billed1\", \n",
    "                        \"BILL_AMT2\": \"billed2\", \n",
    "                        \"BILL_AMT3\": \"billed3\", \n",
    "                        \"BILL_AMT4\": \"billed4\", \n",
    "                        \"BILL_AMT5\": \"billed5\", \n",
    "                        \"BILL_AMT6\": \"billed6\", \n",
    "                        \"PAY_AMT1\": \"paid1\", \n",
    "                        \"PAY_AMT2\": \"paid2\", \n",
    "                        \"PAY_AMT3\": \"paid3\", \n",
    "                        \"PAY_AMT4\": \"paid4\", \n",
    "                        \"PAY_AMT5\": \"paid5\", \n",
    "                        \"PAY_AMT6\": \"paid6\",\n",
    "                        \"SEX\": \"gender\",\n",
    "                        \"EDUCATION\": \"education\",\n",
    "                        \"MARRIAGE\": \"marriage\",\n",
    "                        \"AGE\": \"age\",\n",
    "                        \"LIMIT_BAL\": \"limit\"}, inplace=True)"
   ]
  },
  {
   "cell_type": "code",
   "execution_count": 51,
   "metadata": {},
   "outputs": [],
   "source": [
    "# Change all Taiwanese to US Dollars for better understanding for American audience\n",
    "for d in data:\n",
    "    d[['limit']] = d[['limit']]/rate\n",
    "    d[['billed1', 'billed2', 'billed3', 'billed4', 'billed5', 'billed6']] = d[['billed1', 'billed2', 'billed3', 'billed4', 'billed5', 'billed6']].divide(rate, axis=1)\n",
    "    d[['paid1', 'paid2', 'paid3', 'paid4', 'paid5', 'paid6']] = d[['paid1', 'paid2', 'paid3', 'paid4', 'paid5', 'paid6']].divide(rate, axis=1)"
   ]
  },
  {
   "cell_type": "code",
   "execution_count": 52,
   "metadata": {},
   "outputs": [],
   "source": [
    "# Round all decimals to two decimal places to represent cents\n",
    "for d in data:\n",
    "    d['limit'] = d['limit'].apply(lambda x: round(x, 2))\n",
    "    d[['billed1', 'billed2', 'billed3', 'billed4', 'billed5', 'billed6']] = d[['billed1', 'billed2', 'billed3', 'billed4', 'billed5', 'billed6']].apply(lambda x: round(x, 2))\n",
    "    d[['paid1', 'paid2', 'paid3', 'paid4', 'paid5', 'paid6']] = d[['paid1', 'paid2', 'paid3', 'paid4', 'paid5', 'paid6']].apply(lambda x: round(x, 2))"
   ]
  },
  {
   "cell_type": "code",
   "execution_count": 53,
   "metadata": {},
   "outputs": [],
   "source": [
    "# put all zero values into category of 3 (other) for marriage\n",
    "# lump all the other and unknown education categories together:  0, 5, 6 values to category 4 (other)\n",
    "for d in data:  \n",
    "    d.replace({'marriage': {0:3}}, inplace=True)\n",
    "    d.replace({'education': {5:4, 0:4, 6:4}}, inplace=True)"
   ]
  },
  {
   "cell_type": "code",
   "execution_count": 54,
   "metadata": {},
   "outputs": [],
   "source": [
    "# -2 is the same as -1. but turn them all into 0's, since it makes more sense within context or meaning, i.e. client is zero months behind payment\n",
    "datasets = ['behind1', 'behind2', 'behind3', 'behind4', 'behind5', 'behind6']\n",
    "for data in datasets:\n",
    "    tr.replace({data: {-2: 0, -1: 0}}, inplace=True)\n",
    "    val.replace({data: {-2: 0, -1: 0}}, inplace=True)"
   ]
  },
  {
   "source": [
    "## Pickle out baseline models"
   ],
   "cell_type": "markdown",
   "metadata": {}
  },
  {
   "cell_type": "code",
   "execution_count": 18,
   "metadata": {},
   "outputs": [
    {
     "output_type": "execute_result",
     "data": {
      "text/plain": [
       "    limit  gender  education  marriage  age  behind1  behind2  behind3  \\\n",
       "0  1792.5       2          2         1   44        0        0        0   \n",
       "1  5736.0       2          3         1   46        0        0        0   \n",
       "2  3585.0       2          2         1   47        0        0        0   \n",
       "3  6094.5       2          2         1   29        0        0        0   \n",
       "4  5377.5       2          1         2   33        0        0        0   \n",
       "\n",
       "   behind4  behind5  behind6  billed1  billed2  billed3  billed4  billed5  \\\n",
       "0        0        0        0  1633.97  1502.33  1279.95   801.61   848.18   \n",
       "1        0        0        0   892.81    83.82   174.09   147.95   143.22   \n",
       "2        0        0        0   238.98   238.98     0.00   224.78   -14.20   \n",
       "3        0        0        0  2835.41  2243.31  2269.91  2290.92  1559.65   \n",
       "4        0        0        0   874.49   962.47  1172.37  1199.51   996.63   \n",
       "\n",
       "   billed6   paid1    paid2    paid3   paid4   paid5    paid6  default  \n",
       "0   983.04  108.12   179.36   107.55  107.55  179.25    33.13        0  \n",
       "1    30.19   84.00   174.09    35.85  143.22   30.19   943.32        0  \n",
       "2   -14.20  238.98     0.00   224.78    0.00    0.00     0.00        1  \n",
       "3  1577.22   80.12    89.37    92.67   60.34   68.15    75.68        0  \n",
       "4    81.06  968.20  1172.83  1200.08  996.92   81.06  6075.32        0  "
      ],
      "text/html": "<div>\n<style scoped>\n    .dataframe tbody tr th:only-of-type {\n        vertical-align: middle;\n    }\n\n    .dataframe tbody tr th {\n        vertical-align: top;\n    }\n\n    .dataframe thead th {\n        text-align: right;\n    }\n</style>\n<table border=\"1\" class=\"dataframe\">\n  <thead>\n    <tr style=\"text-align: right;\">\n      <th></th>\n      <th>limit</th>\n      <th>gender</th>\n      <th>education</th>\n      <th>marriage</th>\n      <th>age</th>\n      <th>behind1</th>\n      <th>behind2</th>\n      <th>behind3</th>\n      <th>behind4</th>\n      <th>behind5</th>\n      <th>behind6</th>\n      <th>billed1</th>\n      <th>billed2</th>\n      <th>billed3</th>\n      <th>billed4</th>\n      <th>billed5</th>\n      <th>billed6</th>\n      <th>paid1</th>\n      <th>paid2</th>\n      <th>paid3</th>\n      <th>paid4</th>\n      <th>paid5</th>\n      <th>paid6</th>\n      <th>default</th>\n    </tr>\n  </thead>\n  <tbody>\n    <tr>\n      <th>0</th>\n      <td>1792.5</td>\n      <td>2</td>\n      <td>2</td>\n      <td>1</td>\n      <td>44</td>\n      <td>0</td>\n      <td>0</td>\n      <td>0</td>\n      <td>0</td>\n      <td>0</td>\n      <td>0</td>\n      <td>1633.97</td>\n      <td>1502.33</td>\n      <td>1279.95</td>\n      <td>801.61</td>\n      <td>848.18</td>\n      <td>983.04</td>\n      <td>108.12</td>\n      <td>179.36</td>\n      <td>107.55</td>\n      <td>107.55</td>\n      <td>179.25</td>\n      <td>33.13</td>\n      <td>0</td>\n    </tr>\n    <tr>\n      <th>1</th>\n      <td>5736.0</td>\n      <td>2</td>\n      <td>3</td>\n      <td>1</td>\n      <td>46</td>\n      <td>0</td>\n      <td>0</td>\n      <td>0</td>\n      <td>0</td>\n      <td>0</td>\n      <td>0</td>\n      <td>892.81</td>\n      <td>83.82</td>\n      <td>174.09</td>\n      <td>147.95</td>\n      <td>143.22</td>\n      <td>30.19</td>\n      <td>84.00</td>\n      <td>174.09</td>\n      <td>35.85</td>\n      <td>143.22</td>\n      <td>30.19</td>\n      <td>943.32</td>\n      <td>0</td>\n    </tr>\n    <tr>\n      <th>2</th>\n      <td>3585.0</td>\n      <td>2</td>\n      <td>2</td>\n      <td>1</td>\n      <td>47</td>\n      <td>0</td>\n      <td>0</td>\n      <td>0</td>\n      <td>0</td>\n      <td>0</td>\n      <td>0</td>\n      <td>238.98</td>\n      <td>238.98</td>\n      <td>0.00</td>\n      <td>224.78</td>\n      <td>-14.20</td>\n      <td>-14.20</td>\n      <td>238.98</td>\n      <td>0.00</td>\n      <td>224.78</td>\n      <td>0.00</td>\n      <td>0.00</td>\n      <td>0.00</td>\n      <td>1</td>\n    </tr>\n    <tr>\n      <th>3</th>\n      <td>6094.5</td>\n      <td>2</td>\n      <td>2</td>\n      <td>1</td>\n      <td>29</td>\n      <td>0</td>\n      <td>0</td>\n      <td>0</td>\n      <td>0</td>\n      <td>0</td>\n      <td>0</td>\n      <td>2835.41</td>\n      <td>2243.31</td>\n      <td>2269.91</td>\n      <td>2290.92</td>\n      <td>1559.65</td>\n      <td>1577.22</td>\n      <td>80.12</td>\n      <td>89.37</td>\n      <td>92.67</td>\n      <td>60.34</td>\n      <td>68.15</td>\n      <td>75.68</td>\n      <td>0</td>\n    </tr>\n    <tr>\n      <th>4</th>\n      <td>5377.5</td>\n      <td>2</td>\n      <td>1</td>\n      <td>2</td>\n      <td>33</td>\n      <td>0</td>\n      <td>0</td>\n      <td>0</td>\n      <td>0</td>\n      <td>0</td>\n      <td>0</td>\n      <td>874.49</td>\n      <td>962.47</td>\n      <td>1172.37</td>\n      <td>1199.51</td>\n      <td>996.63</td>\n      <td>81.06</td>\n      <td>968.20</td>\n      <td>1172.83</td>\n      <td>1200.08</td>\n      <td>996.92</td>\n      <td>81.06</td>\n      <td>6075.32</td>\n      <td>0</td>\n    </tr>\n  </tbody>\n</table>\n</div>"
     },
     "metadata": {},
     "execution_count": 18
    }
   ],
   "source": [
    "tr.head()"
   ]
  },
  {
   "cell_type": "code",
   "execution_count": 19,
   "metadata": {},
   "outputs": [],
   "source": [
    "pickle_out = open(\"../data/training_cleaned.pickle\",\"wb\")\n",
    "pickle.dump(tr, pickle_out)\n",
    "pickle_out.close()"
   ]
  },
  {
   "cell_type": "code",
   "execution_count": 20,
   "metadata": {},
   "outputs": [],
   "source": [
    "pickle_out = open(\"../data/validate_cleaned.pickle\",\"wb\")\n",
    "pickle.dump(val, pickle_out)\n",
    "pickle_out.close()"
   ]
  },
  {
   "source": [
    "# <a id='6'>Exploratory Data Analysis</a>"
   ],
   "cell_type": "markdown",
   "metadata": {}
  },
  {
   "cell_type": "code",
   "execution_count": 55,
   "metadata": {},
   "outputs": [],
   "source": [
    "# organize features into categorical and continuous\n",
    "categorical = tr[['gender', 'marriage', 'education', 'behind1', 'behind2', 'behind3', 'behind4', 'behind5', 'behind6']]\n",
    "continuous = tr[['limit', 'age', 'billed1', 'billed2', 'billed3', 'billed4', 'billed5', 'billed6', 'paid1', 'paid2', 'paid3', 'paid4', 'paid5', 'paid6']]\n",
    "cat_col = categorical.columns\n",
    "cont_col = continuous.columns"
   ]
  },
  {
   "cell_type": "code",
   "execution_count": 61,
   "metadata": {},
   "outputs": [],
   "source": [
    "# display distributions of all the continuous variables\n",
    "\n",
    "# con_1 = pd.melt(tr, value_vars = cont_col)\n",
    "# sns.set_theme(style=\"darkgrid\", font='serif', context='talk')\n",
    "# g = sns.FacetGrid(con_1, col='variable', col_wrap=3, sharex=False, sharey=False, height=4)\n",
    "# g = g.map(sns.distplot, 'value', color='r')\n",
    "# g.set_xticklabels(rotation=45)\n",
    "# g.fig.subplots_adjust(top=0.9)\n",
    "# g.fig.suptitle(\"Distributions of Continuous Features\")\n",
    "# g.fig.tight_layout()\n",
    "# plt.savefig(\"../images/distplot.png\")"
   ]
  },
  {
   "source": [
    "<img src=\"../images/distplot.png\">"
   ],
   "cell_type": "markdown",
   "metadata": {}
  },
  {
   "cell_type": "code",
   "execution_count": 64,
   "metadata": {},
   "outputs": [],
   "source": [
    "# Use bar graphs of the distribution of data for categorical variables\n",
    "\n",
    "# cat_1 = pd.melt(tr, value_vars=cat_col)\n",
    "# sns.set_theme(style=\"darkgrid\", font='serif', context='talk')\n",
    "# g = sns.FacetGrid(cat_1, col='variable', col_wrap=3, sharex=False, sharey=False, height=4)\n",
    "# g = g.map(sns.countplot, 'value', color='dodgerblue')\n",
    "# g.set_xticklabels()\n",
    "# g.fig.subplots_adjust(top=0.9)\n",
    "# g.fig.suptitle(\"Distributions of Categorical Features\")\n",
    "# g.fig.tight_layout()\n",
    "# plt.savefig(\"../images/countplot.png\")"
   ]
  },
  {
   "source": [
    "<img src=\"../images/countplot.png\">"
   ],
   "cell_type": "markdown",
   "metadata": {}
  },
  {
   "cell_type": "code",
   "execution_count": 77,
   "metadata": {},
   "outputs": [],
   "source": [
    "yes = tr.default.sum()\n",
    "no = len(tr)-yes\n",
    "perc_y = round(yes/len(tr)*100, 1)\n",
    "perc_n = round(no/len(tr)*100, 1)\n",
    "\n",
    "# plt.figure(figsize=(8,6))\n",
    "# sns.set_theme(style=\"darkgrid\", font='serif', context='talk')\n",
    "# sns.countplot('default', data=tr)\n",
    "# plt.title('Credit Card Baseline Default', size=16)\n",
    "# plt.box(False);\n",
    "# plt.savefig(\"../images/baseline.png\")"
   ]
  },
  {
   "source": [
    "<img src=\"../images/baseline.png\">"
   ],
   "cell_type": "markdown",
   "metadata": {}
  },
  {
   "cell_type": "code",
   "execution_count": 80,
   "metadata": {},
   "outputs": [
    {
     "output_type": "stream",
     "name": "stdout",
     "text": [
      "Number of Total Non-Defaulters:  4656\nNumber of Defaulters:  16344\nPercentage of Non-Defaulters:  22.2\nPercentage of Defaulters:  77.8\n"
     ]
    },
    {
     "output_type": "execute_result",
     "data": {
      "text/plain": [
       "                                  Training Dataset\n",
       "Number of Total Non-Defaulters:             4656.0\n",
       "Number of Defaulters:                      16344.0\n",
       "Percentage of Non-Defaulters:                 22.2\n",
       "Percentage of Defaulters:                     77.8"
      ],
      "text/html": "<div>\n<style scoped>\n    .dataframe tbody tr th:only-of-type {\n        vertical-align: middle;\n    }\n\n    .dataframe tbody tr th {\n        vertical-align: top;\n    }\n\n    .dataframe thead th {\n        text-align: right;\n    }\n</style>\n<table border=\"1\" class=\"dataframe\">\n  <thead>\n    <tr style=\"text-align: right;\">\n      <th></th>\n      <th>Training Dataset</th>\n    </tr>\n  </thead>\n  <tbody>\n    <tr>\n      <th>Number of Total Non-Defaulters:</th>\n      <td>4656.0</td>\n    </tr>\n    <tr>\n      <th>Number of Defaulters:</th>\n      <td>16344.0</td>\n    </tr>\n    <tr>\n      <th>Percentage of Non-Defaulters:</th>\n      <td>22.2</td>\n    </tr>\n    <tr>\n      <th>Percentage of Defaulters:</th>\n      <td>77.8</td>\n    </tr>\n  </tbody>\n</table>\n</div>"
     },
     "metadata": {},
     "execution_count": 80
    }
   ],
   "source": [
    "print(\"Number of Total Non-Defaulters: \", yes)\n",
    "print(\"Number of Defaulters: \", no)\n",
    "print(\"Percentage of Non-Defaulters: \", perc_y)\n",
    "print(\"Percentage of Defaulters: \", perc_n)\n",
    "\n",
    "pd.DataFrame\n",
    "default = pd.DataFrame(data = {\"Training Dataset\": [yes, no, perc_y, perc_n]}, \n",
    "                       index = [\"Number of Total Non-Defaulters: \", \"Number of Defaulters: \", \"Percentage of Non-Defaulters: \", \"Percentage of Defaulters: \"])\n",
    "default"
   ]
  },
  {
   "cell_type": "code",
   "execution_count": 26,
   "metadata": {},
   "outputs": [],
   "source": [
    "# subset = tr[['gender', 'education', 'marriage', 'behind1', 'behind2', 'behind3', 'behind4', 'behind5', 'behind6', 'default']]\n",
    "# f, axes = plt.subplots(3, 3, figsize=(15, 12), facecolor='white')\n",
    "# sns.set_theme(style=\"darkgrid\", font='serif', context='paper')\n",
    "# f.suptitle('Frequency of Categorical Variables', size=16)\n",
    "# ax1 = sns.countplot(x=\"gender\", hue=\"default\", data=subset, ax=axes[0,0])\n",
    "# ax2 = sns.countplot(x=\"education\", hue=\"default\", data=subset, ax=axes[0,1])\n",
    "# ax3 = sns.countplot(x=\"marriage\", hue=\"default\", data=subset, ax=axes[0,2])\n",
    "# ax4 = sns.countplot(x=\"behind1\", hue=\"default\", data=subset, ax=axes[1,0])\n",
    "# ax5 = sns.countplot(x=\"behind2\", hue=\"default\", data=subset, ax=axes[1,1])\n",
    "# ax6 = sns.countplot(x=\"behind3\", hue=\"default\", data=subset, ax=axes[1,2])\n",
    "# ax7 = sns.countplot(x=\"behind4\", hue=\"default\", data=subset, ax=axes[2,0])\n",
    "# ax8 = sns.countplot(x=\"behind5\", hue=\"default\", data=subset, ax=axes[2,1])\n",
    "# ax9 = sns.countplot(x=\"behind6\", hue=\"default\", data=subset, ax=axes[2,2])\n",
    "# plt.savefig(\"../images/default_freq_by_cat.png\")"
   ]
  },
  {
   "source": [
    "<img src=\"../images/default_freq_by_cat.png\">"
   ],
   "cell_type": "markdown",
   "metadata": {}
  },
  {
   "cell_type": "code",
   "execution_count": 27,
   "metadata": {},
   "outputs": [],
   "source": [
    "# plt.figure(figsize = (14,6))\n",
    "# plt.title('Distribution of Credit Limit', size=16)\n",
    "# sns.set_theme(style=\"darkgrid\", font='serif', context='poster')\n",
    "# g = sns.distplot(tr['limit'], kde=True, bins=200, color=\"blue\")\n",
    "# plt.show()\n",
    "# plt.savefig(\"../images/credit_limit.png\")"
   ]
  },
  {
   "source": [
    "<img src=\"../images/credit_limit.png\">"
   ],
   "cell_type": "markdown",
   "metadata": {}
  },
  {
   "cell_type": "code",
   "execution_count": 28,
   "metadata": {},
   "outputs": [],
   "source": [
    "# class_0 = tr.loc[tr['default'] == 0][\"limit\"]\n",
    "# class_1 = tr.loc[tr['default'] == 1][\"limit\"]\n",
    "# plt.figure(figsize = (14,6))\n",
    "# plt.title('Credit Limit by Default', size=16)\n",
    "# sns.set_theme(style=\"darkgrid\", font='serif', context='poster')\n",
    "# sns.distplot(class_1, kde=True, bins=200, color=\"dodgerblue\", label=\"No\")\n",
    "# sns.distplot(class_0, kde=True, bins=200, color=\"red\", label=\"Yes\")\n",
    "# plt.legend(title = 'default', loc='upper right', facecolor='white')\n",
    "# plt.show()\n",
    "# plt.savefig(\"../images/credit_limit_by_default.png\")"
   ]
  },
  {
   "source": [
    "<img src=\"../images/credit_limit_by_default.png\">"
   ],
   "cell_type": "markdown",
   "metadata": {}
  },
  {
   "cell_type": "code",
   "execution_count": 83,
   "metadata": {},
   "outputs": [],
   "source": [
    "# sns.boxplot(x=\"gender\", hue=\"default\", y=\"limit\", data=tr, palette=\"tab10\")\n",
    "# plt.legend(bbox_to_anchor=(1.01, 1), borderaxespad=0)\n",
    "# plt.tight_layout()\n",
    "# plt.title(\"Gender vs. Credit Limit for Defaulters and Non-defaulters\", size=14)\n",
    "# plt.savefig(\"../images/boxplot4.png\")"
   ]
  },
  {
   "source": [
    "<img src=\"../images/boxplot4.png\">"
   ],
   "cell_type": "markdown",
   "metadata": {}
  },
  {
   "cell_type": "code",
   "execution_count": 85,
   "metadata": {},
   "outputs": [],
   "source": [
    "# sns.boxplot(x='education', hue='default', y='limit', data=tr, palette='tab10')\n",
    "# plt.legend(bbox_to_anchor=(1.01, 1), borderaxespad=0)\n",
    "# plt.tight_layout()\n",
    "# plt.title(\"Education vs. Credit Limit for Defaulters and Non-defaulters\", size=14)\n",
    "# plt.savefig(\"../images/boxplot5.png\")"
   ]
  },
  {
   "source": [
    "<img src=\"../images/boxplot5.png\">"
   ],
   "cell_type": "markdown",
   "metadata": {}
  },
  {
   "cell_type": "code",
   "execution_count": 87,
   "metadata": {},
   "outputs": [],
   "source": [
    "# sns.boxplot(x='marriage', hue='default', y='limit', data=tr, palette='tab10')\n",
    "# plt.legend(bbox_to_anchor=(1.01, 1), borderaxespad=0)\n",
    "# plt.tight_layout()\n",
    "# plt.title(\"Marriage Status vs. Credit Limit for Defaulters and Non-defaulters\", size=14)\n",
    "# plt.savefig(\"../images/boxplot6.png\")"
   ]
  },
  {
   "source": [
    "<img src=\"../images/boxplot6.png\">"
   ],
   "cell_type": "markdown",
   "metadata": {}
  },
  {
   "cell_type": "code",
   "execution_count": 89,
   "metadata": {},
   "outputs": [
    {
     "output_type": "execute_result",
     "data": {
      "text/plain": [
       "default      0     1\n",
       "gender              \n",
       "1         6272  2019\n",
       "2        10072  2637"
      ],
      "text/html": "<div>\n<style scoped>\n    .dataframe tbody tr th:only-of-type {\n        vertical-align: middle;\n    }\n\n    .dataframe tbody tr th {\n        vertical-align: top;\n    }\n\n    .dataframe thead th {\n        text-align: right;\n    }\n</style>\n<table border=\"1\" class=\"dataframe\">\n  <thead>\n    <tr style=\"text-align: right;\">\n      <th>default</th>\n      <th>0</th>\n      <th>1</th>\n    </tr>\n    <tr>\n      <th>gender</th>\n      <th></th>\n      <th></th>\n    </tr>\n  </thead>\n  <tbody>\n    <tr>\n      <th>1</th>\n      <td>6272</td>\n      <td>2019</td>\n    </tr>\n    <tr>\n      <th>2</th>\n      <td>10072</td>\n      <td>2637</td>\n    </tr>\n  </tbody>\n</table>\n</div>"
     },
     "metadata": {},
     "execution_count": 89
    }
   ],
   "source": [
    "sex = tr.groupby(['gender', 'default']).size().unstack(1)\n",
    "sex"
   ]
  },
  {
   "cell_type": "code",
   "execution_count": 99,
   "metadata": {},
   "outputs": [],
   "source": [
    "# sns.set_theme(style=\"darkgrid\", font='serif', context='poster')\n",
    "# sex.plot(kind=\"bar\", stacked=True)\n",
    "# plt.legend(bbox_to_anchor=(1.01, 1), borderaxespad=0)\n",
    "# plt.title(\"Distribution Count for Gender and Default Status\",size=14)\n",
    "# plt.savefig(\"../images/stacked_bar.png\")"
   ]
  },
  {
   "source": [
    "<img src=\"../images/stacked_bar.png\">"
   ],
   "cell_type": "markdown",
   "metadata": {}
  },
  {
   "cell_type": "code",
   "execution_count": 98,
   "metadata": {},
   "outputs": [],
   "source": [
    "# sns.set_theme(style=\"darkgrid\", font='serif', context='talk')\n",
    "# sns.boxplot(x='default', y='age', data=tr, palette='tab10')\n",
    "# plt.title(\"Distribution of Default Status by Age\", size=14)\n",
    "# plt.savefig(\"../images/boxplot1.png\")"
   ]
  },
  {
   "source": [
    "<img src=\"../images/boxplot1.png\">"
   ],
   "cell_type": "markdown",
   "metadata": {}
  },
  {
   "cell_type": "code",
   "execution_count": 93,
   "metadata": {},
   "outputs": [
    {
     "output_type": "execute_result",
     "data": {
      "text/plain": [
       "default       0     1\n",
       "education            \n",
       "1          6013  1424\n",
       "2          7408  2341\n",
       "3          2626   866\n",
       "4           297    25"
      ],
      "text/html": "<div>\n<style scoped>\n    .dataframe tbody tr th:only-of-type {\n        vertical-align: middle;\n    }\n\n    .dataframe tbody tr th {\n        vertical-align: top;\n    }\n\n    .dataframe thead th {\n        text-align: right;\n    }\n</style>\n<table border=\"1\" class=\"dataframe\">\n  <thead>\n    <tr style=\"text-align: right;\">\n      <th>default</th>\n      <th>0</th>\n      <th>1</th>\n    </tr>\n    <tr>\n      <th>education</th>\n      <th></th>\n      <th></th>\n    </tr>\n  </thead>\n  <tbody>\n    <tr>\n      <th>1</th>\n      <td>6013</td>\n      <td>1424</td>\n    </tr>\n    <tr>\n      <th>2</th>\n      <td>7408</td>\n      <td>2341</td>\n    </tr>\n    <tr>\n      <th>3</th>\n      <td>2626</td>\n      <td>866</td>\n    </tr>\n    <tr>\n      <th>4</th>\n      <td>297</td>\n      <td>25</td>\n    </tr>\n  </tbody>\n</table>\n</div>"
     },
     "metadata": {},
     "execution_count": 93
    }
   ],
   "source": [
    "education = tr.groupby(['education', 'default']).size().unstack(1)\n",
    "education"
   ]
  },
  {
   "cell_type": "code",
   "execution_count": 97,
   "metadata": {},
   "outputs": [],
   "source": [
    "# education.plot(kind=\"bar\", stacked=True)\n",
    "# plt.title(\"Distribution Count of Educational Level and Default Status\", size=14)\n",
    "# plt.savefig(\"../data/stacked_bar2.png\")"
   ]
  },
  {
   "source": [
    "<img src=\"../data/stacked_bar2.png\">"
   ],
   "cell_type": "markdown",
   "metadata": {}
  },
  {
   "cell_type": "code",
   "execution_count": 96,
   "metadata": {},
   "outputs": [],
   "source": [
    "# sns.boxplot(x='default', y='age', hue='education', data=tr, palette='tab10')\n",
    "# plt.legend(bbox_to_anchor=(1.01, 1), borderaxespad=0)\n",
    "# plt.tight_layout()\n",
    "# plt.title(\"Default Status vs. Age for Different Educational Status\", size=14)\n",
    "# plt.savefig(\"../images/boxplot3.png\")"
   ]
  },
  {
   "source": [
    "<img src=\"../images/boxplot3.png\">"
   ],
   "cell_type": "markdown",
   "metadata": {}
  },
  {
   "cell_type": "code",
   "execution_count": 101,
   "metadata": {},
   "outputs": [
    {
     "output_type": "execute_result",
     "data": {
      "text/plain": [
       "default      0     1\n",
       "marriage            \n",
       "1         7354  2258\n",
       "2         8778  2336\n",
       "3          212    62"
      ],
      "text/html": "<div>\n<style scoped>\n    .dataframe tbody tr th:only-of-type {\n        vertical-align: middle;\n    }\n\n    .dataframe tbody tr th {\n        vertical-align: top;\n    }\n\n    .dataframe thead th {\n        text-align: right;\n    }\n</style>\n<table border=\"1\" class=\"dataframe\">\n  <thead>\n    <tr style=\"text-align: right;\">\n      <th>default</th>\n      <th>0</th>\n      <th>1</th>\n    </tr>\n    <tr>\n      <th>marriage</th>\n      <th></th>\n      <th></th>\n    </tr>\n  </thead>\n  <tbody>\n    <tr>\n      <th>1</th>\n      <td>7354</td>\n      <td>2258</td>\n    </tr>\n    <tr>\n      <th>2</th>\n      <td>8778</td>\n      <td>2336</td>\n    </tr>\n    <tr>\n      <th>3</th>\n      <td>212</td>\n      <td>62</td>\n    </tr>\n  </tbody>\n</table>\n</div>"
     },
     "metadata": {},
     "execution_count": 101
    }
   ],
   "source": [
    "marriage = tr.groupby(['marriage', 'default']).size().unstack(1)\n",
    "marriage"
   ]
  },
  {
   "cell_type": "code",
   "execution_count": 102,
   "metadata": {},
   "outputs": [],
   "source": [
    "# sns.boxplot(x='default', y='age', hue='marriage', data=tr, palette='tab10')\n",
    "# plt.legend(bbox_to_anchor=(1.01, 1), borderaxespad=0)\n",
    "# plt.tight_layout()\n",
    "# plt.savefig(\"../images/boxplot2.png\")"
   ]
  },
  {
   "source": [
    "<img src=\"../images/boxplot2.png\">"
   ],
   "cell_type": "markdown",
   "metadata": {}
  },
  {
   "cell_type": "code",
   "execution_count": 103,
   "metadata": {},
   "outputs": [
    {
     "output_type": "display_data",
     "data": {
      "text/plain": "<Figure size 432x288 with 1 Axes>",
      "image/svg+xml": "<?xml version=\"1.0\" encoding=\"utf-8\" standalone=\"no\"?>\n<!DOCTYPE svg PUBLIC \"-//W3C//DTD SVG 1.1//EN\"\n  \"http://www.w3.org/Graphics/SVG/1.1/DTD/svg11.dtd\">\n<!-- Created with matplotlib (https://matplotlib.org/) -->\n<svg height=\"308.736562pt\" version=\"1.1\" viewBox=\"0 0 455.230625 308.736562\" width=\"455.230625pt\" xmlns=\"http://www.w3.org/2000/svg\" xmlns:xlink=\"http://www.w3.org/1999/xlink\">\n <metadata>\n  <rdf:RDF xmlns:cc=\"http://creativecommons.org/ns#\" xmlns:dc=\"http://purl.org/dc/elements/1.1/\" xmlns:rdf=\"http://www.w3.org/1999/02/22-rdf-syntax-ns#\">\n   <cc:Work>\n    <dc:type rdf:resource=\"http://purl.org/dc/dcmitype/StillImage\"/>\n    <dc:date>2021-02-18T16:01:04.965567</dc:date>\n    <dc:format>image/svg+xml</dc:format>\n    <dc:creator>\n     <cc:Agent>\n      <dc:title>Matplotlib v3.3.3, https://matplotlib.org/</dc:title>\n     </cc:Agent>\n    </dc:creator>\n   </cc:Work>\n  </rdf:RDF>\n </metadata>\n <defs>\n  <style type=\"text/css\">*{stroke-linecap:butt;stroke-linejoin:round;}</style>\n </defs>\n <g id=\"figure_1\">\n  <g id=\"patch_1\">\n   <path d=\"M 0 308.736562 \nL 455.230625 308.736562 \nL 455.230625 0 \nL 0 0 \nz\n\" style=\"fill:#ffffff;\"/>\n  </g>\n  <g id=\"axes_1\">\n   <g id=\"patch_2\">\n    <path d=\"M 72.190625 257.117813 \nL 448.030625 257.117813 \nL 448.030625 23.837813 \nL 72.190625 23.837813 \nz\n\" style=\"fill:#eaeaf2;\"/>\n   </g>\n   <g id=\"matplotlib.axis_1\">\n    <g id=\"xtick_1\">\n     <g id=\"line2d_1\">\n      <path clip-path=\"url(#pc7fbe9b8f9)\" d=\"M 134.830625 257.117813 \nL 134.830625 23.837813 \n\" style=\"fill:none;stroke:#ffffff;stroke-linecap:round;stroke-width:1.5;\"/>\n     </g>\n     <g id=\"text_1\">\n      <!-- 1 -->\n      <g style=\"fill:#262626;\" transform=\"translate(139.383594 280.115937)rotate(-90)scale(0.165 -0.165)\">\n       <defs>\n        <path d=\"M 14.203125 0 \nL 14.203125 5.171875 \nL 26.90625 5.171875 \nL 26.90625 65.828125 \nL 12.203125 56.296875 \nL 12.203125 62.703125 \nL 29.984375 74.21875 \nL 36.71875 74.21875 \nL 36.71875 5.171875 \nL 49.421875 5.171875 \nL 49.421875 0 \nz\n\" id=\"DejaVuSerif-49\"/>\n       </defs>\n       <use xlink:href=\"#DejaVuSerif-49\"/>\n      </g>\n     </g>\n    </g>\n    <g id=\"xtick_2\">\n     <g id=\"line2d_2\">\n      <path clip-path=\"url(#pc7fbe9b8f9)\" d=\"M 260.110625 257.117813 \nL 260.110625 23.837813 \n\" style=\"fill:none;stroke:#ffffff;stroke-linecap:round;stroke-width:1.5;\"/>\n     </g>\n     <g id=\"text_2\">\n      <!-- 2 -->\n      <g style=\"fill:#262626;\" transform=\"translate(264.663594 280.115937)rotate(-90)scale(0.165 -0.165)\">\n       <defs>\n        <path d=\"M 12.796875 55.515625 \nL 7.328125 55.515625 \nL 7.328125 68.5 \nQ 12.546875 71.296875 17.84375 72.75 \nQ 23.140625 74.21875 28.21875 74.21875 \nQ 39.59375 74.21875 46.1875 68.703125 \nQ 52.78125 63.1875 52.78125 53.71875 \nQ 52.78125 43.015625 37.84375 28.125 \nQ 36.671875 27 36.078125 26.421875 \nL 17.671875 8.015625 \nL 48.09375 8.015625 \nL 48.09375 17 \nL 53.8125 17 \nL 53.8125 0 \nL 6.78125 0 \nL 6.78125 5.328125 \nL 28.90625 27.390625 \nQ 36.234375 34.71875 39.359375 40.84375 \nQ 42.484375 46.96875 42.484375 53.71875 \nQ 42.484375 61.078125 38.640625 65.234375 \nQ 34.8125 69.390625 28.078125 69.390625 \nQ 21.09375 69.390625 17.28125 65.921875 \nQ 13.484375 62.453125 12.796875 55.515625 \nz\n\" id=\"DejaVuSerif-50\"/>\n       </defs>\n       <use xlink:href=\"#DejaVuSerif-50\"/>\n      </g>\n     </g>\n    </g>\n    <g id=\"xtick_3\">\n     <g id=\"line2d_3\">\n      <path clip-path=\"url(#pc7fbe9b8f9)\" d=\"M 385.390625 257.117813 \nL 385.390625 23.837813 \n\" style=\"fill:none;stroke:#ffffff;stroke-linecap:round;stroke-width:1.5;\"/>\n     </g>\n     <g id=\"text_3\">\n      <!-- 3 -->\n      <g style=\"fill:#262626;\" transform=\"translate(389.943594 280.115937)rotate(-90)scale(0.165 -0.165)\">\n       <defs>\n        <path d=\"M 9.71875 69.828125 \nQ 15.4375 71.96875 20.671875 73.09375 \nQ 25.921875 74.21875 30.515625 74.21875 \nQ 41.21875 74.21875 47.21875 69.59375 \nQ 53.21875 64.984375 53.21875 56.78125 \nQ 53.21875 50.203125 49.0625 45.78125 \nQ 44.921875 41.359375 37.3125 39.796875 \nQ 46.296875 38.53125 51.25 33.28125 \nQ 56.203125 28.03125 56.203125 19.671875 \nQ 56.203125 9.46875 49.34375 4.015625 \nQ 42.484375 -1.421875 29.59375 -1.421875 \nQ 23.875 -1.421875 18.421875 -0.1875 \nQ 12.984375 1.03125 7.625 3.515625 \nL 7.625 17.671875 \nL 13.09375 17.671875 \nQ 13.578125 10.640625 17.828125 7.03125 \nQ 22.078125 3.421875 29.78125 3.421875 \nQ 37.25 3.421875 41.578125 7.734375 \nQ 45.90625 12.0625 45.90625 19.578125 \nQ 45.90625 28.171875 41.453125 32.59375 \nQ 37.015625 37.015625 28.421875 37.015625 \nL 23.78125 37.015625 \nL 23.78125 42 \nL 26.21875 42 \nQ 34.765625 42 39.03125 45.53125 \nQ 43.3125 49.078125 43.3125 56.203125 \nQ 43.3125 62.59375 39.796875 65.984375 \nQ 36.28125 69.390625 29.6875 69.390625 \nQ 23.09375 69.390625 19.453125 66.265625 \nQ 15.828125 63.140625 15.1875 56.984375 \nL 9.71875 56.984375 \nz\n\" id=\"DejaVuSerif-51\"/>\n       </defs>\n       <use xlink:href=\"#DejaVuSerif-51\"/>\n      </g>\n     </g>\n    </g>\n    <g id=\"text_4\">\n     <!-- marriage -->\n     <g style=\"fill:#262626;\" transform=\"translate(218.273281 297.537188)scale(0.18 -0.18)\">\n      <defs>\n       <path d=\"M 51.8125 41.796875 \nQ 54.390625 47.515625 58.421875 50.421875 \nQ 62.453125 53.328125 67.828125 53.328125 \nQ 75.984375 53.328125 79.984375 48.265625 \nQ 83.984375 43.21875 83.984375 33.015625 \nL 83.984375 5.171875 \nL 92.09375 5.171875 \nL 92.09375 0 \nL 67.1875 0 \nL 67.1875 5.171875 \nL 75 5.171875 \nL 75 31.984375 \nQ 75 39.9375 72.65625 43.3125 \nQ 70.3125 46.6875 64.890625 46.6875 \nQ 58.890625 46.6875 55.734375 42.140625 \nQ 52.59375 37.59375 52.59375 28.90625 \nL 52.59375 5.171875 \nL 60.40625 5.171875 \nL 60.40625 0 \nL 35.796875 0 \nL 35.796875 5.171875 \nL 43.609375 5.171875 \nL 43.609375 32.328125 \nQ 43.609375 40.09375 41.265625 43.390625 \nQ 38.921875 46.6875 33.5 46.6875 \nQ 27.484375 46.6875 24.328125 42.140625 \nQ 21.1875 37.59375 21.1875 28.90625 \nL 21.1875 5.171875 \nL 29 5.171875 \nL 29 0 \nL 4.109375 0 \nL 4.109375 5.171875 \nL 12.203125 5.171875 \nL 12.203125 46.78125 \nL 3.609375 46.78125 \nL 3.609375 51.90625 \nL 21.1875 51.90625 \nL 21.1875 42.671875 \nQ 23.6875 47.859375 27.53125 50.59375 \nQ 31.390625 53.328125 36.28125 53.328125 \nQ 42.328125 53.328125 46.375 50.3125 \nQ 50.4375 47.3125 51.8125 41.796875 \nz\n\" id=\"DejaVuSerif-109\"/>\n       <path d=\"M 39.796875 16.3125 \nL 39.796875 27.296875 \nL 28.21875 27.296875 \nQ 21.53125 27.296875 18.25 24.40625 \nQ 14.984375 21.53125 14.984375 15.578125 \nQ 14.984375 10.15625 18.296875 6.984375 \nQ 21.625 3.8125 27.296875 3.8125 \nQ 32.90625 3.8125 36.34375 7.28125 \nQ 39.796875 10.75 39.796875 16.3125 \nz\nM 48.78125 32.421875 \nL 48.78125 5.171875 \nL 56.78125 5.171875 \nL 56.78125 0 \nL 39.796875 0 \nL 39.796875 5.609375 \nQ 36.8125 2 32.90625 0.28125 \nQ 29 -1.421875 23.78125 -1.421875 \nQ 15.140625 -1.421875 10.0625 3.171875 \nQ 4.984375 7.765625 4.984375 15.578125 \nQ 4.984375 23.640625 10.796875 28.078125 \nQ 16.609375 32.515625 27.203125 32.515625 \nL 39.796875 32.515625 \nL 39.796875 36.078125 \nQ 39.796875 42 36.203125 45.234375 \nQ 32.625 48.484375 26.125 48.484375 \nQ 20.75 48.484375 17.578125 46.046875 \nQ 14.40625 43.609375 13.625 38.8125 \nL 8.984375 38.8125 \nL 8.984375 49.3125 \nQ 13.671875 51.3125 18.09375 52.3125 \nQ 22.515625 53.328125 26.703125 53.328125 \nQ 37.5 53.328125 43.140625 47.96875 \nQ 48.78125 42.625 48.78125 32.421875 \nz\n\" id=\"DejaVuSerif-97\"/>\n       <path d=\"M 47.796875 52 \nL 47.796875 39.015625 \nL 42.625 39.015625 \nQ 42.390625 42.875 40.484375 44.78125 \nQ 38.578125 46.6875 34.90625 46.6875 \nQ 28.265625 46.6875 24.71875 42.09375 \nQ 21.1875 37.5 21.1875 28.90625 \nL 21.1875 5.171875 \nL 31.59375 5.171875 \nL 31.59375 0 \nL 4.109375 0 \nL 4.109375 5.171875 \nL 12.203125 5.171875 \nL 12.203125 46.78125 \nL 3.609375 46.78125 \nL 3.609375 51.90625 \nL 21.1875 51.90625 \nL 21.1875 42.671875 \nQ 23.828125 48.09375 27.96875 50.703125 \nQ 32.125 53.328125 38.09375 53.328125 \nQ 40.28125 53.328125 42.703125 52.984375 \nQ 45.125 52.640625 47.796875 52 \nz\n\" id=\"DejaVuSerif-114\"/>\n       <path d=\"M 9.71875 68.015625 \nQ 9.71875 70.265625 11.34375 71.921875 \nQ 12.984375 73.578125 15.28125 73.578125 \nQ 17.53125 73.578125 19.15625 71.921875 \nQ 20.796875 70.265625 20.796875 68.015625 \nQ 20.796875 65.71875 19.1875 64.109375 \nQ 17.578125 62.5 15.28125 62.5 \nQ 12.984375 62.5 11.34375 64.109375 \nQ 9.71875 65.71875 9.71875 68.015625 \nz\nM 21.1875 5.171875 \nL 29.6875 5.171875 \nL 29.6875 0 \nL 3.609375 0 \nL 3.609375 5.171875 \nL 12.203125 5.171875 \nL 12.203125 46.6875 \nL 3.609375 46.6875 \nL 3.609375 51.90625 \nL 21.1875 51.90625 \nz\n\" id=\"DejaVuSerif-105\"/>\n       <path d=\"M 52.484375 46.6875 \nL 52.484375 1.125 \nQ 52.484375 -10.0625 46.328125 -16.140625 \nQ 40.1875 -22.21875 28.8125 -22.21875 \nQ 23.6875 -22.21875 19 -21.28125 \nQ 14.3125 -20.359375 10.015625 -18.5 \nL 10.015625 -7.625 \nL 14.703125 -7.625 \nQ 15.578125 -12.703125 18.84375 -15.046875 \nQ 22.125 -17.390625 28.21875 -17.390625 \nQ 36.140625 -17.390625 39.8125 -12.921875 \nQ 43.5 -8.453125 43.5 1.125 \nL 43.5 8.109375 \nQ 40.875 3.21875 36.796875 0.890625 \nQ 32.71875 -1.421875 26.703125 -1.421875 \nQ 17.140625 -1.421875 11.0625 6.171875 \nQ 4.984375 13.765625 4.984375 25.984375 \nQ 4.984375 38.1875 11.03125 45.75 \nQ 17.09375 53.328125 26.703125 53.328125 \nQ 32.71875 53.328125 36.796875 51 \nQ 40.875 48.6875 43.5 43.796875 \nL 43.5 51.90625 \nL 61.078125 51.90625 \nL 61.078125 46.6875 \nz\nM 43.5 28.515625 \nQ 43.5 37.84375 39.90625 42.765625 \nQ 36.328125 47.703125 29.5 47.703125 \nQ 22.5625 47.703125 19.015625 42.234375 \nQ 15.484375 36.765625 15.484375 25.984375 \nQ 15.484375 15.234375 19.015625 9.71875 \nQ 22.5625 4.203125 29.5 4.203125 \nQ 36.328125 4.203125 39.90625 9.109375 \nQ 43.5 14.015625 43.5 23.390625 \nz\n\" id=\"DejaVuSerif-103\"/>\n       <path d=\"M 54.203125 25 \nL 15.484375 25 \nL 15.484375 24.609375 \nQ 15.484375 14.109375 19.4375 8.765625 \nQ 23.390625 3.421875 31.109375 3.421875 \nQ 37.015625 3.421875 40.796875 6.515625 \nQ 44.578125 9.625 46.09375 15.71875 \nL 53.328125 15.71875 \nQ 51.171875 7.171875 45.375 2.875 \nQ 39.59375 -1.421875 30.171875 -1.421875 \nQ 18.796875 -1.421875 11.890625 6.078125 \nQ 4.984375 13.578125 4.984375 25.984375 \nQ 4.984375 38.28125 11.765625 45.796875 \nQ 18.5625 53.328125 29.59375 53.328125 \nQ 41.359375 53.328125 47.65625 46.0625 \nQ 53.953125 38.8125 54.203125 25 \nz\nM 43.609375 30.171875 \nQ 43.3125 39.265625 39.765625 43.875 \nQ 36.234375 48.484375 29.59375 48.484375 \nQ 23.390625 48.484375 19.828125 43.84375 \nQ 16.265625 39.203125 15.484375 30.171875 \nz\n\" id=\"DejaVuSerif-101\"/>\n      </defs>\n      <use xlink:href=\"#DejaVuSerif-109\"/>\n      <use x=\"94.824219\" xlink:href=\"#DejaVuSerif-97\"/>\n      <use x=\"154.443359\" xlink:href=\"#DejaVuSerif-114\"/>\n      <use x=\"202.246094\" xlink:href=\"#DejaVuSerif-114\"/>\n      <use x=\"250.048828\" xlink:href=\"#DejaVuSerif-105\"/>\n      <use x=\"282.03125\" xlink:href=\"#DejaVuSerif-97\"/>\n      <use x=\"341.650391\" xlink:href=\"#DejaVuSerif-103\"/>\n      <use x=\"405.664062\" xlink:href=\"#DejaVuSerif-101\"/>\n     </g>\n    </g>\n   </g>\n   <g id=\"matplotlib.axis_2\">\n    <g id=\"ytick_1\">\n     <g id=\"line2d_4\">\n      <path clip-path=\"url(#pc7fbe9b8f9)\" d=\"M 72.190625 257.117813 \nL 448.030625 257.117813 \n\" style=\"fill:none;stroke:#ffffff;stroke-linecap:round;stroke-width:1.5;\"/>\n     </g>\n     <g id=\"text_5\">\n      <!-- 0 -->\n      <g style=\"fill:#262626;\" transform=\"translate(49.1925 263.386523)scale(0.165 -0.165)\">\n       <defs>\n        <path d=\"M 31.78125 3.421875 \nQ 39.265625 3.421875 42.96875 11.625 \nQ 46.6875 19.828125 46.6875 36.375 \nQ 46.6875 52.984375 42.96875 61.1875 \nQ 39.265625 69.390625 31.78125 69.390625 \nQ 24.3125 69.390625 20.59375 61.1875 \nQ 16.890625 52.984375 16.890625 36.375 \nQ 16.890625 19.828125 20.59375 11.625 \nQ 24.3125 3.421875 31.78125 3.421875 \nz\nM 31.78125 -1.421875 \nQ 19.921875 -1.421875 13.25 8.53125 \nQ 6.59375 18.5 6.59375 36.375 \nQ 6.59375 54.296875 13.25 64.25 \nQ 19.921875 74.21875 31.78125 74.21875 \nQ 43.703125 74.21875 50.34375 64.25 \nQ 56.984375 54.296875 56.984375 36.375 \nQ 56.984375 18.5 50.34375 8.53125 \nQ 43.703125 -1.421875 31.78125 -1.421875 \nz\n\" id=\"DejaVuSerif-48\"/>\n       </defs>\n       <use xlink:href=\"#DejaVuSerif-48\"/>\n      </g>\n     </g>\n    </g>\n    <g id=\"ytick_2\">\n     <g id=\"line2d_5\">\n      <path clip-path=\"url(#pc7fbe9b8f9)\" d=\"M 72.190625 217.13735 \nL 448.030625 217.13735 \n\" style=\"fill:none;stroke:#ffffff;stroke-linecap:round;stroke-width:1.5;\"/>\n     </g>\n     <g id=\"text_6\">\n      <!-- 2000 -->\n      <g style=\"fill:#262626;\" transform=\"translate(17.698125 223.406061)scale(0.165 -0.165)\">\n       <use xlink:href=\"#DejaVuSerif-50\"/>\n       <use x=\"63.623047\" xlink:href=\"#DejaVuSerif-48\"/>\n       <use x=\"127.246094\" xlink:href=\"#DejaVuSerif-48\"/>\n       <use x=\"190.869141\" xlink:href=\"#DejaVuSerif-48\"/>\n      </g>\n     </g>\n    </g>\n    <g id=\"ytick_3\">\n     <g id=\"line2d_6\">\n      <path clip-path=\"url(#pc7fbe9b8f9)\" d=\"M 72.190625 177.156888 \nL 448.030625 177.156888 \n\" style=\"fill:none;stroke:#ffffff;stroke-linecap:round;stroke-width:1.5;\"/>\n     </g>\n     <g id=\"text_7\">\n      <!-- 4000 -->\n      <g style=\"fill:#262626;\" transform=\"translate(17.698125 183.425599)scale(0.165 -0.165)\">\n       <defs>\n        <path d=\"M 34.90625 24.703125 \nL 34.90625 63.484375 \nL 10.015625 24.703125 \nz\nM 56.390625 0 \nL 23.1875 0 \nL 23.1875 5.171875 \nL 34.90625 5.171875 \nL 34.90625 19.484375 \nL 3.078125 19.484375 \nL 3.078125 24.8125 \nL 35.015625 74.21875 \nL 44.671875 74.21875 \nL 44.671875 24.703125 \nL 58.59375 24.703125 \nL 58.59375 19.484375 \nL 44.671875 19.484375 \nL 44.671875 5.171875 \nL 56.390625 5.171875 \nz\n\" id=\"DejaVuSerif-52\"/>\n       </defs>\n       <use xlink:href=\"#DejaVuSerif-52\"/>\n       <use x=\"63.623047\" xlink:href=\"#DejaVuSerif-48\"/>\n       <use x=\"127.246094\" xlink:href=\"#DejaVuSerif-48\"/>\n       <use x=\"190.869141\" xlink:href=\"#DejaVuSerif-48\"/>\n      </g>\n     </g>\n    </g>\n    <g id=\"ytick_4\">\n     <g id=\"line2d_7\">\n      <path clip-path=\"url(#pc7fbe9b8f9)\" d=\"M 72.190625 137.176426 \nL 448.030625 137.176426 \n\" style=\"fill:none;stroke:#ffffff;stroke-linecap:round;stroke-width:1.5;\"/>\n     </g>\n     <g id=\"text_8\">\n      <!-- 6000 -->\n      <g style=\"fill:#262626;\" transform=\"translate(17.698125 143.445137)scale(0.165 -0.165)\">\n       <defs>\n        <path d=\"M 32.71875 3.421875 \nQ 39.59375 3.421875 43.296875 8.46875 \nQ 47.015625 13.53125 47.015625 23 \nQ 47.015625 32.46875 43.296875 37.515625 \nQ 39.59375 42.578125 32.71875 42.578125 \nQ 25.734375 42.578125 22.0625 37.6875 \nQ 18.40625 32.8125 18.40625 23.578125 \nQ 18.40625 13.875 22.109375 8.640625 \nQ 25.828125 3.421875 32.71875 3.421875 \nz\nM 16.796875 40.140625 \nQ 20.125 43.796875 24.3125 45.59375 \nQ 28.515625 47.40625 33.796875 47.40625 \nQ 44.671875 47.40625 51 40.859375 \nQ 57.328125 34.328125 57.328125 23 \nQ 57.328125 11.921875 50.515625 5.25 \nQ 43.703125 -1.421875 32.328125 -1.421875 \nQ 19.96875 -1.421875 13.328125 7.78125 \nQ 6.6875 17 6.6875 34.078125 \nQ 6.6875 53.21875 14.546875 63.71875 \nQ 22.40625 74.21875 36.71875 74.21875 \nQ 40.578125 74.21875 44.828125 73.484375 \nQ 49.078125 72.75 53.515625 71.296875 \nL 53.515625 59.28125 \nL 48 59.28125 \nQ 47.40625 64.203125 44.234375 66.796875 \nQ 41.0625 69.390625 35.6875 69.390625 \nQ 26.21875 69.390625 21.578125 62.203125 \nQ 16.9375 55.03125 16.796875 40.140625 \nz\n\" id=\"DejaVuSerif-54\"/>\n       </defs>\n       <use xlink:href=\"#DejaVuSerif-54\"/>\n       <use x=\"63.623047\" xlink:href=\"#DejaVuSerif-48\"/>\n       <use x=\"127.246094\" xlink:href=\"#DejaVuSerif-48\"/>\n       <use x=\"190.869141\" xlink:href=\"#DejaVuSerif-48\"/>\n      </g>\n     </g>\n    </g>\n    <g id=\"ytick_5\">\n     <g id=\"line2d_8\">\n      <path clip-path=\"url(#pc7fbe9b8f9)\" d=\"M 72.190625 97.195964 \nL 448.030625 97.195964 \n\" style=\"fill:none;stroke:#ffffff;stroke-linecap:round;stroke-width:1.5;\"/>\n     </g>\n     <g id=\"text_9\">\n      <!-- 8000 -->\n      <g style=\"fill:#262626;\" transform=\"translate(17.698125 103.464675)scale(0.165 -0.165)\">\n       <defs>\n        <path d=\"M 46.578125 19.921875 \nQ 46.578125 27.734375 42.6875 32.046875 \nQ 38.8125 36.375 31.78125 36.375 \nQ 24.75 36.375 20.875 32.046875 \nQ 17 27.734375 17 19.921875 \nQ 17 12.0625 20.875 7.734375 \nQ 24.75 3.421875 31.78125 3.421875 \nQ 38.8125 3.421875 42.6875 7.734375 \nQ 46.578125 12.0625 46.578125 19.921875 \nz\nM 44.578125 55.328125 \nQ 44.578125 61.96875 41.203125 65.671875 \nQ 37.84375 69.390625 31.78125 69.390625 \nQ 25.78125 69.390625 22.390625 65.671875 \nQ 19 61.96875 19 55.328125 \nQ 19 48.640625 22.390625 44.921875 \nQ 25.78125 41.21875 31.78125 41.21875 \nQ 37.84375 41.21875 41.203125 44.921875 \nQ 44.578125 48.640625 44.578125 55.328125 \nz\nM 39.3125 38.8125 \nQ 47.609375 37.703125 52.25 32.6875 \nQ 56.890625 27.6875 56.890625 19.921875 \nQ 56.890625 9.671875 50.390625 4.125 \nQ 43.890625 -1.421875 31.78125 -1.421875 \nQ 19.734375 -1.421875 13.203125 4.125 \nQ 6.6875 9.671875 6.6875 19.921875 \nQ 6.6875 27.6875 11.328125 32.6875 \nQ 15.96875 37.703125 24.3125 38.8125 \nQ 16.9375 40.140625 13 44.40625 \nQ 9.078125 48.6875 9.078125 55.328125 \nQ 9.078125 64.109375 15.125 69.15625 \nQ 21.1875 74.21875 31.78125 74.21875 \nQ 42.390625 74.21875 48.4375 69.15625 \nQ 54.5 64.109375 54.5 55.328125 \nQ 54.5 48.6875 50.5625 44.40625 \nQ 46.625 40.140625 39.3125 38.8125 \nz\n\" id=\"DejaVuSerif-56\"/>\n       </defs>\n       <use xlink:href=\"#DejaVuSerif-56\"/>\n       <use x=\"63.623047\" xlink:href=\"#DejaVuSerif-48\"/>\n       <use x=\"127.246094\" xlink:href=\"#DejaVuSerif-48\"/>\n       <use x=\"190.869141\" xlink:href=\"#DejaVuSerif-48\"/>\n      </g>\n     </g>\n    </g>\n    <g id=\"ytick_6\">\n     <g id=\"line2d_9\">\n      <path clip-path=\"url(#pc7fbe9b8f9)\" d=\"M 72.190625 57.215501 \nL 448.030625 57.215501 \n\" style=\"fill:none;stroke:#ffffff;stroke-linecap:round;stroke-width:1.5;\"/>\n     </g>\n     <g id=\"text_10\">\n      <!-- 10000 -->\n      <g style=\"fill:#262626;\" transform=\"translate(7.2 63.484212)scale(0.165 -0.165)\">\n       <use xlink:href=\"#DejaVuSerif-49\"/>\n       <use x=\"63.623047\" xlink:href=\"#DejaVuSerif-48\"/>\n       <use x=\"127.246094\" xlink:href=\"#DejaVuSerif-48\"/>\n       <use x=\"190.869141\" xlink:href=\"#DejaVuSerif-48\"/>\n       <use x=\"254.492188\" xlink:href=\"#DejaVuSerif-48\"/>\n      </g>\n     </g>\n    </g>\n   </g>\n   <g id=\"patch_3\">\n    <path clip-path=\"url(#pc7fbe9b8f9)\" d=\"M 103.510625 257.117813 \nL 166.150625 257.117813 \nL 166.150625 110.109653 \nL 103.510625 110.109653 \nz\n\" style=\"fill:#4c72b0;stroke:#ffffff;stroke-linejoin:miter;stroke-width:1.5;\"/>\n   </g>\n   <g id=\"patch_4\">\n    <path clip-path=\"url(#pc7fbe9b8f9)\" d=\"M 228.790625 257.117813 \nL 291.430625 257.117813 \nL 291.430625 81.643564 \nL 228.790625 81.643564 \nz\n\" style=\"fill:#4c72b0;stroke:#ffffff;stroke-linejoin:miter;stroke-width:1.5;\"/>\n   </g>\n   <g id=\"patch_5\">\n    <path clip-path=\"url(#pc7fbe9b8f9)\" d=\"M 354.070625 257.117813 \nL 416.710625 257.117813 \nL 416.710625 252.879884 \nL 354.070625 252.879884 \nz\n\" style=\"fill:#4c72b0;stroke:#ffffff;stroke-linejoin:miter;stroke-width:1.5;\"/>\n   </g>\n   <g id=\"patch_6\">\n    <path clip-path=\"url(#pc7fbe9b8f9)\" d=\"M 103.510625 110.109653 \nL 166.150625 110.109653 \nL 166.150625 64.971711 \nL 103.510625 64.971711 \nz\n\" style=\"fill:#dd8452;stroke:#ffffff;stroke-linejoin:miter;stroke-width:1.5;\"/>\n   </g>\n   <g id=\"patch_7\">\n    <path clip-path=\"url(#pc7fbe9b8f9)\" d=\"M 228.790625 81.643564 \nL 291.430625 81.643564 \nL 291.430625 34.946384 \nL 228.790625 34.946384 \nz\n\" style=\"fill:#dd8452;stroke:#ffffff;stroke-linejoin:miter;stroke-width:1.5;\"/>\n   </g>\n   <g id=\"patch_8\">\n    <path clip-path=\"url(#pc7fbe9b8f9)\" d=\"M 354.070625 252.879884 \nL 416.710625 252.879884 \nL 416.710625 251.640489 \nL 354.070625 251.640489 \nz\n\" style=\"fill:#dd8452;stroke:#ffffff;stroke-linejoin:miter;stroke-width:1.5;\"/>\n   </g>\n   <g id=\"patch_9\">\n    <path d=\"M 72.190625 257.117813 \nL 72.190625 23.837813 \n\" style=\"fill:none;stroke:#ffffff;stroke-linecap:square;stroke-linejoin:miter;stroke-width:1.875;\"/>\n   </g>\n   <g id=\"patch_10\">\n    <path d=\"M 448.030625 257.117813 \nL 448.030625 23.837813 \n\" style=\"fill:none;stroke:#ffffff;stroke-linecap:square;stroke-linejoin:miter;stroke-width:1.875;\"/>\n   </g>\n   <g id=\"patch_11\">\n    <path d=\"M 72.190625 257.117813 \nL 448.030625 257.117813 \n\" style=\"fill:none;stroke:#ffffff;stroke-linecap:square;stroke-linejoin:miter;stroke-width:1.875;\"/>\n   </g>\n   <g id=\"patch_12\">\n    <path d=\"M 72.190625 23.837813 \nL 448.030625 23.837813 \n\" style=\"fill:none;stroke:#ffffff;stroke-linecap:square;stroke-linejoin:miter;stroke-width:1.875;\"/>\n   </g>\n   <g id=\"text_11\">\n    <!-- Distribution of Default Status for Marital Status -->\n    <g style=\"fill:#262626;\" transform=\"translate(89.578594 17.837812)scale(0.14 -0.14)\">\n     <defs>\n      <path d=\"M 24.703125 5.171875 \nL 33.796875 5.171875 \nQ 48 5.171875 55.59375 13.28125 \nQ 63.1875 21.390625 63.1875 36.53125 \nQ 63.1875 51.65625 55.609375 59.65625 \nQ 48.046875 67.671875 33.796875 67.671875 \nL 24.703125 67.671875 \nz\nM 5.515625 0 \nL 5.515625 5.171875 \nL 14.796875 5.171875 \nL 14.796875 67.671875 \nL 5.515625 67.671875 \nL 5.515625 72.90625 \nL 34.515625 72.90625 \nQ 53.375 72.90625 63.890625 63.28125 \nQ 74.421875 53.65625 74.421875 36.53125 \nQ 74.421875 19.34375 63.875 9.671875 \nQ 53.328125 0 34.515625 0 \nz\n\" id=\"DejaVuSerif-68\"/>\n      <path d=\"M 5.609375 2.875 \nL 5.609375 14.984375 \nL 10.796875 14.984375 \nQ 10.984375 9.1875 14.421875 6.296875 \nQ 17.875 3.421875 24.609375 3.421875 \nQ 30.671875 3.421875 33.84375 5.6875 \nQ 37.015625 7.953125 37.015625 12.3125 \nQ 37.015625 15.71875 34.6875 17.8125 \nQ 32.375 19.921875 24.90625 22.3125 \nL 18.40625 24.515625 \nQ 11.71875 26.65625 8.71875 29.875 \nQ 5.71875 33.109375 5.71875 38.09375 \nQ 5.71875 45.21875 10.9375 49.265625 \nQ 16.15625 53.328125 25.390625 53.328125 \nQ 29.5 53.328125 34.03125 52.25 \nQ 38.578125 51.171875 43.40625 49.125 \nL 43.40625 37.796875 \nL 38.234375 37.796875 \nQ 38.03125 42.828125 34.703125 45.65625 \nQ 31.390625 48.484375 25.6875 48.484375 \nQ 20.015625 48.484375 17.109375 46.484375 \nQ 14.203125 44.484375 14.203125 40.484375 \nQ 14.203125 37.203125 16.40625 35.21875 \nQ 18.609375 33.25 25.203125 31.203125 \nL 32.328125 29 \nQ 39.703125 26.703125 42.9375 23.265625 \nQ 46.1875 19.828125 46.1875 14.40625 \nQ 46.1875 7.03125 40.546875 2.796875 \nQ 34.90625 -1.421875 25 -1.421875 \nQ 19.96875 -1.421875 15.1875 -0.34375 \nQ 10.40625 0.734375 5.609375 2.875 \nz\n\" id=\"DejaVuSerif-115\"/>\n      <path d=\"M 10.796875 46.6875 \nL 2.875 46.6875 \nL 2.875 51.90625 \nL 10.796875 51.90625 \nL 10.796875 68.015625 \nL 19.828125 68.015625 \nL 19.828125 51.90625 \nL 36.71875 51.90625 \nL 36.71875 46.6875 \nL 19.828125 46.6875 \nL 19.828125 13.71875 \nQ 19.828125 7.125 21.09375 5.265625 \nQ 22.359375 3.421875 25.78125 3.421875 \nQ 29.296875 3.421875 30.90625 5.484375 \nQ 32.515625 7.5625 32.625 12.203125 \nL 39.40625 12.203125 \nQ 39.015625 5.125 35.546875 1.84375 \nQ 32.078125 -1.421875 25 -1.421875 \nQ 17.234375 -1.421875 14.015625 2.015625 \nQ 10.796875 5.46875 10.796875 13.71875 \nz\n\" id=\"DejaVuSerif-116\"/>\n      <path d=\"M 11.53125 5.171875 \nL 11.53125 70.796875 \nL 2.875 70.796875 \nL 2.875 75.984375 \nL 20.515625 75.984375 \nL 20.515625 43.796875 \nQ 23.140625 48.6875 27.21875 51 \nQ 31.296875 53.328125 37.3125 53.328125 \nQ 46.875 53.328125 52.921875 45.75 \nQ 58.984375 38.1875 58.984375 25.984375 \nQ 58.984375 13.765625 52.921875 6.171875 \nQ 46.875 -1.421875 37.3125 -1.421875 \nQ 31.296875 -1.421875 27.21875 0.890625 \nQ 23.140625 3.21875 20.515625 8.109375 \nL 20.515625 0 \nL 2.875 0 \nL 2.875 5.171875 \nz\nM 20.515625 23.390625 \nQ 20.515625 14.015625 24.09375 9.109375 \nQ 27.6875 4.203125 34.515625 4.203125 \nQ 41.40625 4.203125 44.9375 9.71875 \nQ 48.484375 15.234375 48.484375 25.984375 \nQ 48.484375 36.765625 44.9375 42.234375 \nQ 41.40625 47.703125 34.515625 47.703125 \nQ 27.6875 47.703125 24.09375 42.765625 \nQ 20.515625 37.84375 20.515625 28.515625 \nz\n\" id=\"DejaVuSerif-98\"/>\n      <path d=\"M 35.40625 51.90625 \nL 52.203125 51.90625 \nL 52.203125 5.171875 \nL 60.6875 5.171875 \nL 60.6875 0 \nL 43.21875 0 \nL 43.21875 9.1875 \nQ 40.71875 4 36.765625 1.28125 \nQ 32.8125 -1.421875 27.59375 -1.421875 \nQ 18.953125 -1.421875 14.875 3.484375 \nQ 10.796875 8.40625 10.796875 18.890625 \nL 10.796875 46.6875 \nL 2.6875 46.6875 \nL 2.6875 51.90625 \nL 19.828125 51.90625 \nL 19.828125 21.6875 \nQ 19.828125 12.203125 22.140625 8.6875 \nQ 24.46875 5.171875 30.421875 5.171875 \nQ 36.671875 5.171875 39.9375 9.765625 \nQ 43.21875 14.359375 43.21875 23.09375 \nL 43.21875 46.6875 \nL 35.40625 46.6875 \nz\n\" id=\"DejaVuSerif-117\"/>\n      <path d=\"M 30.078125 3.421875 \nQ 37.3125 3.421875 40.984375 9.125 \nQ 44.671875 14.84375 44.671875 25.984375 \nQ 44.671875 37.109375 40.984375 42.796875 \nQ 37.3125 48.484375 30.078125 48.484375 \nQ 22.859375 48.484375 19.171875 42.796875 \nQ 15.484375 37.109375 15.484375 25.984375 \nQ 15.484375 14.84375 19.1875 9.125 \nQ 22.90625 3.421875 30.078125 3.421875 \nz\nM 30.078125 -1.421875 \nQ 18.75 -1.421875 11.859375 6.078125 \nQ 4.984375 13.578125 4.984375 25.984375 \nQ 4.984375 38.375 11.84375 45.84375 \nQ 18.703125 53.328125 30.078125 53.328125 \nQ 41.453125 53.328125 48.3125 45.84375 \nQ 55.171875 38.375 55.171875 25.984375 \nQ 55.171875 13.578125 48.3125 6.078125 \nQ 41.453125 -1.421875 30.078125 -1.421875 \nz\n\" id=\"DejaVuSerif-111\"/>\n      <path d=\"M 4.109375 0 \nL 4.109375 5.171875 \nL 12.203125 5.171875 \nL 12.203125 46.6875 \nL 3.609375 46.6875 \nL 3.609375 51.90625 \nL 21.1875 51.90625 \nL 21.1875 42.671875 \nQ 23.6875 47.953125 27.65625 50.640625 \nQ 31.640625 53.328125 36.921875 53.328125 \nQ 45.515625 53.328125 49.5625 48.390625 \nQ 53.609375 43.453125 53.609375 33.015625 \nL 53.609375 5.171875 \nL 61.625 5.171875 \nL 61.625 0 \nL 36.8125 0 \nL 36.8125 5.171875 \nL 44.578125 5.171875 \nL 44.578125 30.171875 \nQ 44.578125 39.703125 42.234375 43.234375 \nQ 39.890625 46.78125 33.984375 46.78125 \nQ 27.734375 46.78125 24.453125 42.203125 \nQ 21.1875 37.640625 21.1875 28.90625 \nL 21.1875 5.171875 \nL 29 5.171875 \nL 29 0 \nz\n\" id=\"DejaVuSerif-110\"/>\n      <path id=\"DejaVuSerif-32\"/>\n      <path d=\"M 43.015625 63.71875 \nL 38.28125 63.71875 \nQ 38.234375 67.390625 36.203125 69.28125 \nQ 34.1875 71.1875 30.328125 71.1875 \nQ 25.296875 71.1875 23.234375 68.421875 \nQ 21.1875 65.671875 21.1875 58.59375 \nL 21.1875 51.90625 \nL 35.6875 51.90625 \nL 35.6875 46.6875 \nL 21.1875 46.6875 \nL 21.1875 5.171875 \nL 32.71875 5.171875 \nL 32.71875 0 \nL 3.609375 0 \nL 3.609375 5.171875 \nL 12.203125 5.171875 \nL 12.203125 46.6875 \nL 3.609375 46.6875 \nL 3.609375 51.90625 \nL 12.203125 51.90625 \nL 12.203125 58.40625 \nQ 12.203125 67.09375 16.71875 71.53125 \nQ 21.234375 75.984375 29.984375 75.984375 \nQ 33.25 75.984375 36.515625 75.390625 \nQ 39.796875 74.8125 43.015625 73.578125 \nz\n\" id=\"DejaVuSerif-102\"/>\n      <path d=\"M 20.515625 5.171875 \nL 29 5.171875 \nL 29 0 \nL 2.875 0 \nL 2.875 5.171875 \nL 11.53125 5.171875 \nL 11.53125 70.796875 \nL 2.875 70.796875 \nL 2.875 75.984375 \nL 20.515625 75.984375 \nz\n\" id=\"DejaVuSerif-108\"/>\n      <path d=\"M 9.28125 3.515625 \nL 9.28125 20.125 \nL 14.890625 20.0625 \nQ 15.140625 11.765625 19.703125 7.78125 \nQ 24.265625 3.8125 33.59375 3.8125 \nQ 42.28125 3.8125 46.84375 7.25 \nQ 51.421875 10.6875 51.421875 17.28125 \nQ 51.421875 22.5625 48.65625 25.390625 \nQ 45.90625 28.21875 37.015625 30.90625 \nL 27.390625 33.796875 \nQ 16.9375 36.96875 12.671875 41.703125 \nQ 8.40625 46.4375 8.40625 54.6875 \nQ 8.40625 63.96875 14.984375 69.09375 \nQ 21.578125 74.21875 33.5 74.21875 \nQ 38.578125 74.21875 44.625 73.109375 \nQ 50.6875 72.015625 57.515625 69.921875 \nL 57.515625 54.390625 \nL 52 54.390625 \nQ 51.171875 62.109375 46.84375 65.546875 \nQ 42.53125 69 33.6875 69 \nQ 25.984375 69 21.953125 65.84375 \nQ 17.921875 62.703125 17.921875 56.6875 \nQ 17.921875 51.46875 20.9375 48.484375 \nQ 23.96875 45.515625 33.796875 42.578125 \nL 42.828125 39.890625 \nQ 52.734375 36.921875 56.953125 32.296875 \nQ 61.1875 27.6875 61.1875 19.921875 \nQ 61.1875 9.328125 54.390625 3.953125 \nQ 47.609375 -1.421875 34.1875 -1.421875 \nQ 28.171875 -1.421875 21.9375 -0.1875 \nQ 15.71875 1.03125 9.28125 3.515625 \nz\n\" id=\"DejaVuSerif-83\"/>\n      <path d=\"M 5.515625 0 \nL 5.515625 5.171875 \nL 14.796875 5.171875 \nL 14.796875 67.671875 \nL 4.984375 67.671875 \nL 4.984375 72.90625 \nL 26.21875 72.90625 \nL 51.8125 21 \nL 77.390625 72.90625 \nL 97.3125 72.90625 \nL 97.3125 67.671875 \nL 87.59375 67.671875 \nL 87.59375 5.171875 \nL 96.921875 5.171875 \nL 96.921875 0 \nL 68.40625 0 \nL 68.40625 5.171875 \nL 77.6875 5.171875 \nL 77.6875 61.53125 \nL 52.6875 10.6875 \nL 45.796875 10.6875 \nL 20.796875 61.53125 \nL 20.796875 5.171875 \nL 30.078125 5.171875 \nL 30.078125 0 \nz\n\" id=\"DejaVuSerif-77\"/>\n     </defs>\n     <use xlink:href=\"#DejaVuSerif-68\"/>\n     <use x=\"80.175781\" xlink:href=\"#DejaVuSerif-105\"/>\n     <use x=\"112.158203\" xlink:href=\"#DejaVuSerif-115\"/>\n     <use x=\"163.476562\" xlink:href=\"#DejaVuSerif-116\"/>\n     <use x=\"203.662109\" xlink:href=\"#DejaVuSerif-114\"/>\n     <use x=\"251.464844\" xlink:href=\"#DejaVuSerif-105\"/>\n     <use x=\"283.447266\" xlink:href=\"#DejaVuSerif-98\"/>\n     <use x=\"347.460938\" xlink:href=\"#DejaVuSerif-117\"/>\n     <use x=\"411.865234\" xlink:href=\"#DejaVuSerif-116\"/>\n     <use x=\"452.050781\" xlink:href=\"#DejaVuSerif-105\"/>\n     <use x=\"484.033203\" xlink:href=\"#DejaVuSerif-111\"/>\n     <use x=\"544.238281\" xlink:href=\"#DejaVuSerif-110\"/>\n     <use x=\"608.642578\" xlink:href=\"#DejaVuSerif-32\"/>\n     <use x=\"640.429688\" xlink:href=\"#DejaVuSerif-111\"/>\n     <use x=\"700.634766\" xlink:href=\"#DejaVuSerif-102\"/>\n     <use x=\"737.646484\" xlink:href=\"#DejaVuSerif-32\"/>\n     <use x=\"769.433594\" xlink:href=\"#DejaVuSerif-68\"/>\n     <use x=\"849.609375\" xlink:href=\"#DejaVuSerif-101\"/>\n     <use x=\"908.789062\" xlink:href=\"#DejaVuSerif-102\"/>\n     <use x=\"945.800781\" xlink:href=\"#DejaVuSerif-97\"/>\n     <use x=\"1005.419922\" xlink:href=\"#DejaVuSerif-117\"/>\n     <use x=\"1069.824219\" xlink:href=\"#DejaVuSerif-108\"/>\n     <use x=\"1101.806641\" xlink:href=\"#DejaVuSerif-116\"/>\n     <use x=\"1141.992188\" xlink:href=\"#DejaVuSerif-32\"/>\n     <use x=\"1173.779297\" xlink:href=\"#DejaVuSerif-83\"/>\n     <use x=\"1242.285156\" xlink:href=\"#DejaVuSerif-116\"/>\n     <use x=\"1282.470703\" xlink:href=\"#DejaVuSerif-97\"/>\n     <use x=\"1342.089844\" xlink:href=\"#DejaVuSerif-116\"/>\n     <use x=\"1382.275391\" xlink:href=\"#DejaVuSerif-117\"/>\n     <use x=\"1446.679688\" xlink:href=\"#DejaVuSerif-115\"/>\n     <use x=\"1497.998047\" xlink:href=\"#DejaVuSerif-32\"/>\n     <use x=\"1529.785156\" xlink:href=\"#DejaVuSerif-102\"/>\n     <use x=\"1566.796875\" xlink:href=\"#DejaVuSerif-111\"/>\n     <use x=\"1627.001953\" xlink:href=\"#DejaVuSerif-114\"/>\n     <use x=\"1674.804688\" xlink:href=\"#DejaVuSerif-32\"/>\n     <use x=\"1706.591797\" xlink:href=\"#DejaVuSerif-77\"/>\n     <use x=\"1808.984375\" xlink:href=\"#DejaVuSerif-97\"/>\n     <use x=\"1868.603516\" xlink:href=\"#DejaVuSerif-114\"/>\n     <use x=\"1916.40625\" xlink:href=\"#DejaVuSerif-105\"/>\n     <use x=\"1948.388672\" xlink:href=\"#DejaVuSerif-116\"/>\n     <use x=\"1988.574219\" xlink:href=\"#DejaVuSerif-97\"/>\n     <use x=\"2048.193359\" xlink:href=\"#DejaVuSerif-108\"/>\n     <use x=\"2080.175781\" xlink:href=\"#DejaVuSerif-32\"/>\n     <use x=\"2111.962891\" xlink:href=\"#DejaVuSerif-83\"/>\n     <use x=\"2180.46875\" xlink:href=\"#DejaVuSerif-116\"/>\n     <use x=\"2220.654297\" xlink:href=\"#DejaVuSerif-97\"/>\n     <use x=\"2280.273438\" xlink:href=\"#DejaVuSerif-116\"/>\n     <use x=\"2320.458984\" xlink:href=\"#DejaVuSerif-117\"/>\n     <use x=\"2384.863281\" xlink:href=\"#DejaVuSerif-115\"/>\n    </g>\n   </g>\n   <g id=\"legend_1\">\n    <g id=\"patch_13\">\n     <path d=\"M 365.724688 111.14625 \nL 436.480625 111.14625 \nQ 439.780625 111.14625 439.780625 107.84625 \nL 439.780625 35.387812 \nQ 439.780625 32.087812 436.480625 32.087812 \nL 365.724688 32.087812 \nQ 362.424688 32.087812 362.424688 35.387812 \nL 362.424688 107.84625 \nQ 362.424688 111.14625 365.724688 111.14625 \nz\n\" style=\"fill:#eaeaf2;opacity:0.8;stroke:#cccccc;stroke-linejoin:miter;stroke-width:1.5;\"/>\n    </g>\n    <g id=\"text_12\">\n     <!-- default -->\n     <g style=\"fill:#262626;\" transform=\"translate(369.024688 52.365)scale(0.18 -0.18)\">\n      <defs>\n       <path d=\"M 52.484375 5.171875 \nL 61.078125 5.171875 \nL 61.078125 0 \nL 43.5 0 \nL 43.5 8.109375 \nQ 40.875 3.21875 36.796875 0.890625 \nQ 32.71875 -1.421875 26.703125 -1.421875 \nQ 17.140625 -1.421875 11.0625 6.171875 \nQ 4.984375 13.765625 4.984375 25.984375 \nQ 4.984375 38.1875 11.03125 45.75 \nQ 17.09375 53.328125 26.703125 53.328125 \nQ 32.71875 53.328125 36.796875 51 \nQ 40.875 48.6875 43.5 43.796875 \nL 43.5 70.796875 \nL 35.015625 70.796875 \nL 35.015625 75.984375 \nL 52.484375 75.984375 \nz\nM 43.5 23.390625 \nL 43.5 28.515625 \nQ 43.5 37.84375 39.90625 42.765625 \nQ 36.328125 47.703125 29.5 47.703125 \nQ 22.5625 47.703125 19.015625 42.234375 \nQ 15.484375 36.765625 15.484375 25.984375 \nQ 15.484375 15.234375 19.015625 9.71875 \nQ 22.5625 4.203125 29.5 4.203125 \nQ 36.328125 4.203125 39.90625 9.109375 \nQ 43.5 14.015625 43.5 23.390625 \nz\n\" id=\"DejaVuSerif-100\"/>\n      </defs>\n      <use xlink:href=\"#DejaVuSerif-100\"/>\n      <use x=\"64.013672\" xlink:href=\"#DejaVuSerif-101\"/>\n      <use x=\"123.193359\" xlink:href=\"#DejaVuSerif-102\"/>\n      <use x=\"160.205078\" xlink:href=\"#DejaVuSerif-97\"/>\n      <use x=\"219.824219\" xlink:href=\"#DejaVuSerif-117\"/>\n      <use x=\"284.228516\" xlink:href=\"#DejaVuSerif-108\"/>\n      <use x=\"316.210938\" xlink:href=\"#DejaVuSerif-116\"/>\n     </g>\n    </g>\n    <g id=\"patch_14\">\n     <path d=\"M 372.753594 76.895859 \nL 405.753594 76.895859 \nL 405.753594 65.345859 \nL 372.753594 65.345859 \nz\n\" style=\"fill:#4c72b0;stroke:#ffffff;stroke-linejoin:miter;stroke-width:1.5;\"/>\n    </g>\n    <g id=\"text_13\">\n     <!-- 0 -->\n     <g style=\"fill:#262626;\" transform=\"translate(418.953594 76.895859)scale(0.165 -0.165)\">\n      <use xlink:href=\"#DejaVuSerif-48\"/>\n     </g>\n    </g>\n    <g id=\"patch_15\">\n     <path d=\"M 372.753594 101.114766 \nL 405.753594 101.114766 \nL 405.753594 89.564766 \nL 372.753594 89.564766 \nz\n\" style=\"fill:#dd8452;stroke:#ffffff;stroke-linejoin:miter;stroke-width:1.5;\"/>\n    </g>\n    <g id=\"text_14\">\n     <!-- 1 -->\n     <g style=\"fill:#262626;\" transform=\"translate(418.953594 101.114766)scale(0.165 -0.165)\">\n      <use xlink:href=\"#DejaVuSerif-49\"/>\n     </g>\n    </g>\n   </g>\n  </g>\n </g>\n <defs>\n  <clipPath id=\"pc7fbe9b8f9\">\n   <rect height=\"233.28\" width=\"375.84\" x=\"72.190625\" y=\"23.837812\"/>\n  </clipPath>\n </defs>\n</svg>\n",
      "image/png": "[encoded data removed]"
     },
     "metadata": {}
    }
   ],
   "source": [
    "# marriage.plot(kind=\"bar\", stacked=True)\n",
    "# plt.title(\"Distribution of Default Status for Marital Status\", size=14)\n",
    "# plt.savefig(\"../images/stacked_bar3.png\")"
   ]
  },
  {
   "source": [
    "<img src=\"../images/stacked_bar2.png\">"
   ],
   "cell_type": "markdown",
   "metadata": {}
  },
  {
   "cell_type": "code",
   "execution_count": 41,
   "metadata": {},
   "outputs": [],
   "source": [
    "# g = sns.FacetGrid(tr, col='gender', hue='default')\n",
    "# g.map(plt.hist, 'age', alpha=0.6, bins=50)\n",
    "# g.add_legend()\n",
    "# g.savefig(\"../images/gender_age.png\")"
   ]
  },
  {
   "source": [
    "<img src=\"../images/gender_age.png\">"
   ],
   "cell_type": "markdown",
   "metadata": {}
  },
  {
   "cell_type": "code",
   "execution_count": 42,
   "metadata": {},
   "outputs": [],
   "source": [
    "# sns.set_theme(style=\"darkgrid\", font='serif', context='notebook')\n",
    "# g = sns.FacetGrid(tr, col='gender', row=\"marriage\", hue='default', sharey=False)\n",
    "# g.map(plt.hist, 'age', alpha=0.3, bins=50)\n",
    "# g.add_legend()\n",
    "# g.savefig(\"../images/marriage_gender.png\")"
   ]
  },
  {
   "source": [
    "<img src=\"../images/marriage_gender.png\">"
   ],
   "cell_type": "markdown",
   "metadata": {}
  },
  {
   "cell_type": "code",
   "execution_count": 43,
   "metadata": {},
   "outputs": [],
   "source": [
    "# sns.set_theme(style=\"darkgrid\", font='serif', context='talk')\n",
    "# g = sns.pairplot(tr[['gender', 'education', 'marriage', 'limit', 'age', 'default']], \n",
    "#              hue=\"default\", \n",
    "#              diag_kind=\"kde\",\n",
    "#              size=4);\n",
    "# g.savefig(\"../images/pairplot1.png\")"
   ]
  },
  {
   "source": [
    "<img src=\"../images/pairplot1.png\">"
   ],
   "cell_type": "markdown",
   "metadata": {}
  },
  {
   "cell_type": "code",
   "execution_count": 44,
   "metadata": {},
   "outputs": [],
   "source": [
    "# \n",
    "# sns.set_theme(style=\"darkgrid\", font='serif', context='talk')\n",
    "# g = sns.pairplot(tr[['behind1', 'behind2', 'behind3', 'behind4', 'behind5', 'behind6', 'default']], \n",
    "#              hue=\"default\", \n",
    "#              diag_kind=\"kde\",\n",
    "#              size=4)\n",
    "# g.savefig(\"../images/pairplot2.png\")"
   ]
  },
  {
   "source": [
    "<img src=\"../images/pairplot2.png\">"
   ],
   "cell_type": "markdown",
   "metadata": {}
  },
  {
   "cell_type": "code",
   "execution_count": 45,
   "metadata": {},
   "outputs": [],
   "source": [
    "# plt.style.use(\"fivethirtyeight\")\n",
    "# sns.set_theme(style=\"darkgrid\", font='serif', context='poster')\n",
    "# g = sns.pairplot(tr[['billed1', 'billed2', 'billed3', 'billed4', 'billed5', 'billed6', 'default']], \n",
    "#              hue=\"default\", \n",
    "#              diag_kind=\"kde\",\n",
    "#              size=4)\n",
    "# g.savefig(\"../images/pairplot3.png\")"
   ]
  },
  {
   "source": [
    "<img src=\"../images/pairplot3.png\">"
   ],
   "cell_type": "markdown",
   "metadata": {}
  },
  {
   "cell_type": "code",
   "execution_count": 46,
   "metadata": {},
   "outputs": [],
   "source": [
    "# sns.set_theme(style=\"darkgrid\", font='serif', context='talk')\n",
    "# g = sns.pairplot(tr[['paid1', 'paid2', 'paid3', 'paid4', 'paid5', 'paid6', 'default']], \n",
    "#              hue=\"default\", \n",
    "#              diag_kind=\"kde\",\n",
    "#              size=4)\n",
    "# g.savefig(\"../images/pairplot4.png\")"
   ]
  },
  {
   "source": [
    "<img src=\"../images/pairplot4.png\">"
   ],
   "cell_type": "markdown",
   "metadata": {}
  },
  {
   "cell_type": "code",
   "execution_count": 47,
   "metadata": {},
   "outputs": [],
   "source": [
    "# plt.style.use(\"fivethirtyeight\")\n",
    "# sns.set_theme(style=\"darkgrid\", font='serif', context='paper')\n",
    "# plt.figure(figsize = (20,16))\n",
    "# plt.title('Pearson Correlation of Features', y = 1.05, size = 20)\n",
    "# # mask = np.zeros(tr.corr().shape, dtype=bool)\n",
    "# # mask[np.triu_indices(len(mask))] = True\n",
    "# g = sns.heatmap(tr.corr(), cmap='RdBu', annot=True, square=True, linecolor='white', linewidths=0.2, fmt=\".1f\")\n",
    "# plt.savefig(\"../images/correlation_matrix.png\")"
   ]
  },
  {
   "source": [
    "# <a id='7'>Feature Engineering</a>"
   ],
   "cell_type": "markdown",
   "metadata": {}
  },
  {
   "cell_type": "code",
   "execution_count": 21,
   "metadata": {},
   "outputs": [
    {
     "output_type": "execute_result",
     "data": {
      "text/plain": [
       "    limit  gender  education  marriage  age  behind1  behind2  behind3  \\\n",
       "0  1792.5       2          2         1   44        0        0        0   \n",
       "1  5736.0       2          3         1   46        0        0        0   \n",
       "2  3585.0       2          2         1   47        0        0        0   \n",
       "3  6094.5       2          2         1   29        0        0        0   \n",
       "4  5377.5       2          1         2   33        0        0        0   \n",
       "\n",
       "   behind4  behind5  behind6  billed1  billed2  billed3  billed4  billed5  \\\n",
       "0        0        0        0  1633.97  1502.33  1279.95   801.61   848.18   \n",
       "1        0        0        0   892.81    83.82   174.09   147.95   143.22   \n",
       "2        0        0        0   238.98   238.98     0.00   224.78   -14.20   \n",
       "3        0        0        0  2835.41  2243.31  2269.91  2290.92  1559.65   \n",
       "4        0        0        0   874.49   962.47  1172.37  1199.51   996.63   \n",
       "\n",
       "   billed6   paid1    paid2    paid3   paid4   paid5    paid6  default  \n",
       "0   983.04  108.12   179.36   107.55  107.55  179.25    33.13        0  \n",
       "1    30.19   84.00   174.09    35.85  143.22   30.19   943.32        0  \n",
       "2   -14.20  238.98     0.00   224.78    0.00    0.00     0.00        1  \n",
       "3  1577.22   80.12    89.37    92.67   60.34   68.15    75.68        0  \n",
       "4    81.06  968.20  1172.83  1200.08  996.92   81.06  6075.32        0  "
      ],
      "text/html": "<div>\n<style scoped>\n    .dataframe tbody tr th:only-of-type {\n        vertical-align: middle;\n    }\n\n    .dataframe tbody tr th {\n        vertical-align: top;\n    }\n\n    .dataframe thead th {\n        text-align: right;\n    }\n</style>\n<table border=\"1\" class=\"dataframe\">\n  <thead>\n    <tr style=\"text-align: right;\">\n      <th></th>\n      <th>limit</th>\n      <th>gender</th>\n      <th>education</th>\n      <th>marriage</th>\n      <th>age</th>\n      <th>behind1</th>\n      <th>behind2</th>\n      <th>behind3</th>\n      <th>behind4</th>\n      <th>behind5</th>\n      <th>behind6</th>\n      <th>billed1</th>\n      <th>billed2</th>\n      <th>billed3</th>\n      <th>billed4</th>\n      <th>billed5</th>\n      <th>billed6</th>\n      <th>paid1</th>\n      <th>paid2</th>\n      <th>paid3</th>\n      <th>paid4</th>\n      <th>paid5</th>\n      <th>paid6</th>\n      <th>default</th>\n    </tr>\n  </thead>\n  <tbody>\n    <tr>\n      <th>0</th>\n      <td>1792.5</td>\n      <td>2</td>\n      <td>2</td>\n      <td>1</td>\n      <td>44</td>\n      <td>0</td>\n      <td>0</td>\n      <td>0</td>\n      <td>0</td>\n      <td>0</td>\n      <td>0</td>\n      <td>1633.97</td>\n      <td>1502.33</td>\n      <td>1279.95</td>\n      <td>801.61</td>\n      <td>848.18</td>\n      <td>983.04</td>\n      <td>108.12</td>\n      <td>179.36</td>\n      <td>107.55</td>\n      <td>107.55</td>\n      <td>179.25</td>\n      <td>33.13</td>\n      <td>0</td>\n    </tr>\n    <tr>\n      <th>1</th>\n      <td>5736.0</td>\n      <td>2</td>\n      <td>3</td>\n      <td>1</td>\n      <td>46</td>\n      <td>0</td>\n      <td>0</td>\n      <td>0</td>\n      <td>0</td>\n      <td>0</td>\n      <td>0</td>\n      <td>892.81</td>\n      <td>83.82</td>\n      <td>174.09</td>\n      <td>147.95</td>\n      <td>143.22</td>\n      <td>30.19</td>\n      <td>84.00</td>\n      <td>174.09</td>\n      <td>35.85</td>\n      <td>143.22</td>\n      <td>30.19</td>\n      <td>943.32</td>\n      <td>0</td>\n    </tr>\n    <tr>\n      <th>2</th>\n      <td>3585.0</td>\n      <td>2</td>\n      <td>2</td>\n      <td>1</td>\n      <td>47</td>\n      <td>0</td>\n      <td>0</td>\n      <td>0</td>\n      <td>0</td>\n      <td>0</td>\n      <td>0</td>\n      <td>238.98</td>\n      <td>238.98</td>\n      <td>0.00</td>\n      <td>224.78</td>\n      <td>-14.20</td>\n      <td>-14.20</td>\n      <td>238.98</td>\n      <td>0.00</td>\n      <td>224.78</td>\n      <td>0.00</td>\n      <td>0.00</td>\n      <td>0.00</td>\n      <td>1</td>\n    </tr>\n    <tr>\n      <th>3</th>\n      <td>6094.5</td>\n      <td>2</td>\n      <td>2</td>\n      <td>1</td>\n      <td>29</td>\n      <td>0</td>\n      <td>0</td>\n      <td>0</td>\n      <td>0</td>\n      <td>0</td>\n      <td>0</td>\n      <td>2835.41</td>\n      <td>2243.31</td>\n      <td>2269.91</td>\n      <td>2290.92</td>\n      <td>1559.65</td>\n      <td>1577.22</td>\n      <td>80.12</td>\n      <td>89.37</td>\n      <td>92.67</td>\n      <td>60.34</td>\n      <td>68.15</td>\n      <td>75.68</td>\n      <td>0</td>\n    </tr>\n    <tr>\n      <th>4</th>\n      <td>5377.5</td>\n      <td>2</td>\n      <td>1</td>\n      <td>2</td>\n      <td>33</td>\n      <td>0</td>\n      <td>0</td>\n      <td>0</td>\n      <td>0</td>\n      <td>0</td>\n      <td>0</td>\n      <td>874.49</td>\n      <td>962.47</td>\n      <td>1172.37</td>\n      <td>1199.51</td>\n      <td>996.63</td>\n      <td>81.06</td>\n      <td>968.20</td>\n      <td>1172.83</td>\n      <td>1200.08</td>\n      <td>996.92</td>\n      <td>81.06</td>\n      <td>6075.32</td>\n      <td>0</td>\n    </tr>\n  </tbody>\n</table>\n</div>"
     },
     "metadata": {},
     "execution_count": 21
    }
   ],
   "source": [
    "tr.head()"
   ]
  },
  {
   "cell_type": "code",
   "execution_count": 22,
   "metadata": {},
   "outputs": [],
   "source": [
    "data = [tr, val]\n",
    "for d in data:\n",
    "    d['age_bin'] = 0\n",
    "    d.loc[((d['age'] > 20) & (d['age'] < 30)) , 'age_bin'] = 1\n",
    "    d.loc[((d['age'] >= 30) & (d['age'] < 60)) , 'age_bin'] = 2\n",
    "    d.loc[((d['age'] >= 60) & (d['age'] < 81)) , 'age_bin'] = 3\n",
    "    d['gen-mar'] = d['gender'] + d['marriage']\n",
    "    d['gen-age'] = d['gender'] + d['age_bin']"
   ]
  },
  {
   "cell_type": "code",
   "execution_count": 23,
   "metadata": {},
   "outputs": [],
   "source": [
    "# fraction of estimated available balance based on what is billed per month and credit limit\n",
    "for d in data:\n",
    "    d['avail6'] = (d.limit - d.billed6) / d.limit\n",
    "    d['avail5'] = (d.limit - d.billed5) / d.limit\n",
    "    d['avail4'] = (d.limit - d.billed4) / d.limit\n",
    "    d['avail3'] = (d.limit - d.billed3) / d.limit\n",
    "    d['avail2'] = (d.limit - d.billed2) / d.limit\n",
    "    d['avail1'] = (d.limit - d.billed1) / d.limit\n",
    "    d['avg_av'] = (d.avail1 + d.avail2 + d.avail3 + d.avail4 + d.avail5 + d.avail6) / 6"
   ]
  },
  {
   "cell_type": "code",
   "execution_count": 24,
   "metadata": {},
   "outputs": [],
   "source": [
    "# the ratio of amount paid and amount billed\n",
    "for d in data:\n",
    "    d['pperb1'] = d.paid1 / d.billed2\n",
    "    d['pperb2'] = d.paid2 / d.billed3\n",
    "    d['pperb3'] = d.paid3 / d.billed4\n",
    "    d['pperb4'] = d.paid4 / d.billed5\n",
    "    d['pperb5'] = d.paid5 / d.billed6"
   ]
  },
  {
   "cell_type": "code",
   "execution_count": 25,
   "metadata": {},
   "outputs": [],
   "source": [
    "datasets = ['pperb1', 'pperb2', 'pperb3', 'pperb4', 'pperb5']\n",
    "for data in datasets:\n",
    "    tr.replace({data: {np.inf: 0, np.nan: 0}}, inplace=True)\n",
    "    val.replace({data: {np.inf: 0, np.nan: 0}}, inplace=True)"
   ]
  },
  {
   "cell_type": "code",
   "execution_count": 26,
   "metadata": {},
   "outputs": [
    {
     "output_type": "execute_result",
     "data": {
      "text/plain": [
       "    limit  gender  education  marriage  age  behind1  behind2  behind3  \\\n",
       "0  1792.5       2          2         1   44        0        0        0   \n",
       "1  5736.0       2          3         1   46        0        0        0   \n",
       "2  3585.0       2          2         1   47        0        0        0   \n",
       "3  6094.5       2          2         1   29        0        0        0   \n",
       "4  5377.5       2          1         2   33        0        0        0   \n",
       "\n",
       "   behind4  behind5  behind6  billed1  billed2  billed3  billed4  billed5  \\\n",
       "0        0        0        0  1633.97  1502.33  1279.95   801.61   848.18   \n",
       "1        0        0        0   892.81    83.82   174.09   147.95   143.22   \n",
       "2        0        0        0   238.98   238.98     0.00   224.78   -14.20   \n",
       "3        0        0        0  2835.41  2243.31  2269.91  2290.92  1559.65   \n",
       "4        0        0        0   874.49   962.47  1172.37  1199.51   996.63   \n",
       "\n",
       "   billed6   paid1    paid2    paid3   paid4   paid5    paid6  default  \\\n",
       "0   983.04  108.12   179.36   107.55  107.55  179.25    33.13        0   \n",
       "1    30.19   84.00   174.09    35.85  143.22   30.19   943.32        0   \n",
       "2   -14.20  238.98     0.00   224.78    0.00    0.00     0.00        1   \n",
       "3  1577.22   80.12    89.37    92.67   60.34   68.15    75.68        0   \n",
       "4    81.06  968.20  1172.83  1200.08  996.92   81.06  6075.32        0   \n",
       "\n",
       "   age_bin  gen-mar  gen-age    avail6    avail5    avail4    avail3  \\\n",
       "0        2        3        4  0.451582  0.526817  0.552798  0.285941   \n",
       "1        2        3        4  0.994737  0.975031  0.974207  0.969650   \n",
       "2        2        3        4  1.003961  1.003961  0.937300  1.000000   \n",
       "3        1        3        3  0.741206  0.744089  0.624100  0.627548   \n",
       "4        2        4        4  0.984926  0.814667  0.776939  0.781986   \n",
       "\n",
       "     avail2    avail1    avg_av    pperb1    pperb2    pperb3    pperb4  \\\n",
       "0  0.161880  0.088441  0.344576  0.071968  0.140130  0.134167  0.126801   \n",
       "1  0.985387  0.844350  0.957227  1.002147  1.000000  0.242312  1.000000   \n",
       "2  0.933339  0.933339  0.968650  1.000000  0.000000  1.000000 -0.000000   \n",
       "3  0.631912  0.534759  0.650602  0.035715  0.039372  0.040451  0.038688   \n",
       "4  0.821019  0.837380  0.836153  1.005953  1.000392  1.000475  1.000291   \n",
       "\n",
       "     pperb5  \n",
       "0  0.182343  \n",
       "1  1.000000  \n",
       "2 -0.000000  \n",
       "3  0.043209  \n",
       "4  1.000000  "
      ],
      "text/html": "<div>\n<style scoped>\n    .dataframe tbody tr th:only-of-type {\n        vertical-align: middle;\n    }\n\n    .dataframe tbody tr th {\n        vertical-align: top;\n    }\n\n    .dataframe thead th {\n        text-align: right;\n    }\n</style>\n<table border=\"1\" class=\"dataframe\">\n  <thead>\n    <tr style=\"text-align: right;\">\n      <th></th>\n      <th>limit</th>\n      <th>gender</th>\n      <th>education</th>\n      <th>marriage</th>\n      <th>age</th>\n      <th>behind1</th>\n      <th>behind2</th>\n      <th>behind3</th>\n      <th>behind4</th>\n      <th>behind5</th>\n      <th>behind6</th>\n      <th>billed1</th>\n      <th>billed2</th>\n      <th>billed3</th>\n      <th>billed4</th>\n      <th>billed5</th>\n      <th>billed6</th>\n      <th>paid1</th>\n      <th>paid2</th>\n      <th>paid3</th>\n      <th>paid4</th>\n      <th>paid5</th>\n      <th>paid6</th>\n      <th>default</th>\n      <th>age_bin</th>\n      <th>gen-mar</th>\n      <th>gen-age</th>\n      <th>avail6</th>\n      <th>avail5</th>\n      <th>avail4</th>\n      <th>avail3</th>\n      <th>avail2</th>\n      <th>avail1</th>\n      <th>avg_av</th>\n      <th>pperb1</th>\n      <th>pperb2</th>\n      <th>pperb3</th>\n      <th>pperb4</th>\n      <th>pperb5</th>\n    </tr>\n  </thead>\n  <tbody>\n    <tr>\n      <th>0</th>\n      <td>1792.5</td>\n      <td>2</td>\n      <td>2</td>\n      <td>1</td>\n      <td>44</td>\n      <td>0</td>\n      <td>0</td>\n      <td>0</td>\n      <td>0</td>\n      <td>0</td>\n      <td>0</td>\n      <td>1633.97</td>\n      <td>1502.33</td>\n      <td>1279.95</td>\n      <td>801.61</td>\n      <td>848.18</td>\n      <td>983.04</td>\n      <td>108.12</td>\n      <td>179.36</td>\n      <td>107.55</td>\n      <td>107.55</td>\n      <td>179.25</td>\n      <td>33.13</td>\n      <td>0</td>\n      <td>2</td>\n      <td>3</td>\n      <td>4</td>\n      <td>0.451582</td>\n      <td>0.526817</td>\n      <td>0.552798</td>\n      <td>0.285941</td>\n      <td>0.161880</td>\n      <td>0.088441</td>\n      <td>0.344576</td>\n      <td>0.071968</td>\n      <td>0.140130</td>\n      <td>0.134167</td>\n      <td>0.126801</td>\n      <td>0.182343</td>\n    </tr>\n    <tr>\n      <th>1</th>\n      <td>5736.0</td>\n      <td>2</td>\n      <td>3</td>\n      <td>1</td>\n      <td>46</td>\n      <td>0</td>\n      <td>0</td>\n      <td>0</td>\n      <td>0</td>\n      <td>0</td>\n      <td>0</td>\n      <td>892.81</td>\n      <td>83.82</td>\n      <td>174.09</td>\n      <td>147.95</td>\n      <td>143.22</td>\n      <td>30.19</td>\n      <td>84.00</td>\n      <td>174.09</td>\n      <td>35.85</td>\n      <td>143.22</td>\n      <td>30.19</td>\n      <td>943.32</td>\n      <td>0</td>\n      <td>2</td>\n      <td>3</td>\n      <td>4</td>\n      <td>0.994737</td>\n      <td>0.975031</td>\n      <td>0.974207</td>\n      <td>0.969650</td>\n      <td>0.985387</td>\n      <td>0.844350</td>\n      <td>0.957227</td>\n      <td>1.002147</td>\n      <td>1.000000</td>\n      <td>0.242312</td>\n      <td>1.000000</td>\n      <td>1.000000</td>\n    </tr>\n    <tr>\n      <th>2</th>\n      <td>3585.0</td>\n      <td>2</td>\n      <td>2</td>\n      <td>1</td>\n      <td>47</td>\n      <td>0</td>\n      <td>0</td>\n      <td>0</td>\n      <td>0</td>\n      <td>0</td>\n      <td>0</td>\n      <td>238.98</td>\n      <td>238.98</td>\n      <td>0.00</td>\n      <td>224.78</td>\n      <td>-14.20</td>\n      <td>-14.20</td>\n      <td>238.98</td>\n      <td>0.00</td>\n      <td>224.78</td>\n      <td>0.00</td>\n      <td>0.00</td>\n      <td>0.00</td>\n      <td>1</td>\n      <td>2</td>\n      <td>3</td>\n      <td>4</td>\n      <td>1.003961</td>\n      <td>1.003961</td>\n      <td>0.937300</td>\n      <td>1.000000</td>\n      <td>0.933339</td>\n      <td>0.933339</td>\n      <td>0.968650</td>\n      <td>1.000000</td>\n      <td>0.000000</td>\n      <td>1.000000</td>\n      <td>-0.000000</td>\n      <td>-0.000000</td>\n    </tr>\n    <tr>\n      <th>3</th>\n      <td>6094.5</td>\n      <td>2</td>\n      <td>2</td>\n      <td>1</td>\n      <td>29</td>\n      <td>0</td>\n      <td>0</td>\n      <td>0</td>\n      <td>0</td>\n      <td>0</td>\n      <td>0</td>\n      <td>2835.41</td>\n      <td>2243.31</td>\n      <td>2269.91</td>\n      <td>2290.92</td>\n      <td>1559.65</td>\n      <td>1577.22</td>\n      <td>80.12</td>\n      <td>89.37</td>\n      <td>92.67</td>\n      <td>60.34</td>\n      <td>68.15</td>\n      <td>75.68</td>\n      <td>0</td>\n      <td>1</td>\n      <td>3</td>\n      <td>3</td>\n      <td>0.741206</td>\n      <td>0.744089</td>\n      <td>0.624100</td>\n      <td>0.627548</td>\n      <td>0.631912</td>\n      <td>0.534759</td>\n      <td>0.650602</td>\n      <td>0.035715</td>\n      <td>0.039372</td>\n      <td>0.040451</td>\n      <td>0.038688</td>\n      <td>0.043209</td>\n    </tr>\n    <tr>\n      <th>4</th>\n      <td>5377.5</td>\n      <td>2</td>\n      <td>1</td>\n      <td>2</td>\n      <td>33</td>\n      <td>0</td>\n      <td>0</td>\n      <td>0</td>\n      <td>0</td>\n      <td>0</td>\n      <td>0</td>\n      <td>874.49</td>\n      <td>962.47</td>\n      <td>1172.37</td>\n      <td>1199.51</td>\n      <td>996.63</td>\n      <td>81.06</td>\n      <td>968.20</td>\n      <td>1172.83</td>\n      <td>1200.08</td>\n      <td>996.92</td>\n      <td>81.06</td>\n      <td>6075.32</td>\n      <td>0</td>\n      <td>2</td>\n      <td>4</td>\n      <td>4</td>\n      <td>0.984926</td>\n      <td>0.814667</td>\n      <td>0.776939</td>\n      <td>0.781986</td>\n      <td>0.821019</td>\n      <td>0.837380</td>\n      <td>0.836153</td>\n      <td>1.005953</td>\n      <td>1.000392</td>\n      <td>1.000475</td>\n      <td>1.000291</td>\n      <td>1.000000</td>\n    </tr>\n  </tbody>\n</table>\n</div>"
     },
     "metadata": {},
     "execution_count": 26
    }
   ],
   "source": [
    "tr.head()"
   ]
  },
  {
   "cell_type": "code",
   "execution_count": 53,
   "metadata": {},
   "outputs": [],
   "source": [
    "# plt.style.use(\"fivethirtyeight\")\n",
    "# sns.set_theme(style=\"darkgrid\", font='serif', context='paper')\n",
    "# plt.figure(figsize = (20,16))\n",
    "# plt.title('Pearson Correlation of Features', y = 1.05, size = 20)\n",
    "# # mask = np.zeros(tr.corr().shape, dtype=bool)\n",
    "# # mask[np.triu_indices(len(mask))] = True\n",
    "# g = sns.heatmap(tr.corr(), cmap='RdBu', square=True, linecolor='white', linewidths=0.2)\n",
    "# plt.savefig(\"../images/correlation_matrix_2.png\")\n"
   ]
  },
  {
   "source": [
    "<img src=\"../images/correlation_matrix_2.png\">"
   ],
   "cell_type": "markdown",
   "metadata": {}
  },
  {
   "cell_type": "code",
   "execution_count": 27,
   "metadata": {},
   "outputs": [],
   "source": [
    "pickle_out = open(\"../data/training_features.pickle\",\"wb\")\n",
    "pickle.dump(tr, pickle_out)\n",
    "pickle_out.close()"
   ]
  },
  {
   "cell_type": "code",
   "execution_count": 28,
   "metadata": {},
   "outputs": [],
   "source": [
    "pickle_out = open(\"../data/validate_features.pickle\",\"wb\")\n",
    "pickle.dump(val, pickle_out)\n",
    "pickle_out.close()"
   ]
  },
  {
   "source": [
    "# After Feature Selection"
   ],
   "cell_type": "markdown",
   "metadata": {}
  },
  {
   "cell_type": "code",
   "execution_count": 32,
   "metadata": {},
   "outputs": [],
   "source": [
    "tr = tr.drop([\"gender\",\"education\", \"marriage\", \"behind4\", \"behind5\", \"behind6\", \"gen-age\", \"gen-mar\", \"age_bin\", \"pperb1\", \"pperb2\", \"pperb3\", \"pperb4\", \"pperb5\"], axis=1)"
   ]
  },
  {
   "cell_type": "code",
   "execution_count": 33,
   "metadata": {},
   "outputs": [
    {
     "output_type": "execute_result",
     "data": {
      "text/plain": [
       "    limit  age  behind1  behind2  behind3  billed1  billed2  billed3  billed4  \\\n",
       "0  1792.5   44        0        0        0  1633.97  1502.33  1279.95   801.61   \n",
       "1  5736.0   46        0        0        0   892.81    83.82   174.09   147.95   \n",
       "2  3585.0   47        0        0        0   238.98   238.98     0.00   224.78   \n",
       "3  6094.5   29        0        0        0  2835.41  2243.31  2269.91  2290.92   \n",
       "4  5377.5   33        0        0        0   874.49   962.47  1172.37  1199.51   \n",
       "\n",
       "   billed5  billed6   paid1    paid2    paid3   paid4   paid5    paid6  \\\n",
       "0   848.18   983.04  108.12   179.36   107.55  107.55  179.25    33.13   \n",
       "1   143.22    30.19   84.00   174.09    35.85  143.22   30.19   943.32   \n",
       "2   -14.20   -14.20  238.98     0.00   224.78    0.00    0.00     0.00   \n",
       "3  1559.65  1577.22   80.12    89.37    92.67   60.34   68.15    75.68   \n",
       "4   996.63    81.06  968.20  1172.83  1200.08  996.92   81.06  6075.32   \n",
       "\n",
       "   default    avail6    avail5    avail4    avail3    avail2    avail1  \\\n",
       "0        0  0.451582  0.526817  0.552798  0.285941  0.161880  0.088441   \n",
       "1        0  0.994737  0.975031  0.974207  0.969650  0.985387  0.844350   \n",
       "2        1  1.003961  1.003961  0.937300  1.000000  0.933339  0.933339   \n",
       "3        0  0.741206  0.744089  0.624100  0.627548  0.631912  0.534759   \n",
       "4        0  0.984926  0.814667  0.776939  0.781986  0.821019  0.837380   \n",
       "\n",
       "     avg_av  \n",
       "0  0.344576  \n",
       "1  0.957227  \n",
       "2  0.968650  \n",
       "3  0.650602  \n",
       "4  0.836153  "
      ],
      "text/html": "<div>\n<style scoped>\n    .dataframe tbody tr th:only-of-type {\n        vertical-align: middle;\n    }\n\n    .dataframe tbody tr th {\n        vertical-align: top;\n    }\n\n    .dataframe thead th {\n        text-align: right;\n    }\n</style>\n<table border=\"1\" class=\"dataframe\">\n  <thead>\n    <tr style=\"text-align: right;\">\n      <th></th>\n      <th>limit</th>\n      <th>age</th>\n      <th>behind1</th>\n      <th>behind2</th>\n      <th>behind3</th>\n      <th>billed1</th>\n      <th>billed2</th>\n      <th>billed3</th>\n      <th>billed4</th>\n      <th>billed5</th>\n      <th>billed6</th>\n      <th>paid1</th>\n      <th>paid2</th>\n      <th>paid3</th>\n      <th>paid4</th>\n      <th>paid5</th>\n      <th>paid6</th>\n      <th>default</th>\n      <th>avail6</th>\n      <th>avail5</th>\n      <th>avail4</th>\n      <th>avail3</th>\n      <th>avail2</th>\n      <th>avail1</th>\n      <th>avg_av</th>\n    </tr>\n  </thead>\n  <tbody>\n    <tr>\n      <th>0</th>\n      <td>1792.5</td>\n      <td>44</td>\n      <td>0</td>\n      <td>0</td>\n      <td>0</td>\n      <td>1633.97</td>\n      <td>1502.33</td>\n      <td>1279.95</td>\n      <td>801.61</td>\n      <td>848.18</td>\n      <td>983.04</td>\n      <td>108.12</td>\n      <td>179.36</td>\n      <td>107.55</td>\n      <td>107.55</td>\n      <td>179.25</td>\n      <td>33.13</td>\n      <td>0</td>\n      <td>0.451582</td>\n      <td>0.526817</td>\n      <td>0.552798</td>\n      <td>0.285941</td>\n      <td>0.161880</td>\n      <td>0.088441</td>\n      <td>0.344576</td>\n    </tr>\n    <tr>\n      <th>1</th>\n      <td>5736.0</td>\n      <td>46</td>\n      <td>0</td>\n      <td>0</td>\n      <td>0</td>\n      <td>892.81</td>\n      <td>83.82</td>\n      <td>174.09</td>\n      <td>147.95</td>\n      <td>143.22</td>\n      <td>30.19</td>\n      <td>84.00</td>\n      <td>174.09</td>\n      <td>35.85</td>\n      <td>143.22</td>\n      <td>30.19</td>\n      <td>943.32</td>\n      <td>0</td>\n      <td>0.994737</td>\n      <td>0.975031</td>\n      <td>0.974207</td>\n      <td>0.969650</td>\n      <td>0.985387</td>\n      <td>0.844350</td>\n      <td>0.957227</td>\n    </tr>\n    <tr>\n      <th>2</th>\n      <td>3585.0</td>\n      <td>47</td>\n      <td>0</td>\n      <td>0</td>\n      <td>0</td>\n      <td>238.98</td>\n      <td>238.98</td>\n      <td>0.00</td>\n      <td>224.78</td>\n      <td>-14.20</td>\n      <td>-14.20</td>\n      <td>238.98</td>\n      <td>0.00</td>\n      <td>224.78</td>\n      <td>0.00</td>\n      <td>0.00</td>\n      <td>0.00</td>\n      <td>1</td>\n      <td>1.003961</td>\n      <td>1.003961</td>\n      <td>0.937300</td>\n      <td>1.000000</td>\n      <td>0.933339</td>\n      <td>0.933339</td>\n      <td>0.968650</td>\n    </tr>\n    <tr>\n      <th>3</th>\n      <td>6094.5</td>\n      <td>29</td>\n      <td>0</td>\n      <td>0</td>\n      <td>0</td>\n      <td>2835.41</td>\n      <td>2243.31</td>\n      <td>2269.91</td>\n      <td>2290.92</td>\n      <td>1559.65</td>\n      <td>1577.22</td>\n      <td>80.12</td>\n      <td>89.37</td>\n      <td>92.67</td>\n      <td>60.34</td>\n      <td>68.15</td>\n      <td>75.68</td>\n      <td>0</td>\n      <td>0.741206</td>\n      <td>0.744089</td>\n      <td>0.624100</td>\n      <td>0.627548</td>\n      <td>0.631912</td>\n      <td>0.534759</td>\n      <td>0.650602</td>\n    </tr>\n    <tr>\n      <th>4</th>\n      <td>5377.5</td>\n      <td>33</td>\n      <td>0</td>\n      <td>0</td>\n      <td>0</td>\n      <td>874.49</td>\n      <td>962.47</td>\n      <td>1172.37</td>\n      <td>1199.51</td>\n      <td>996.63</td>\n      <td>81.06</td>\n      <td>968.20</td>\n      <td>1172.83</td>\n      <td>1200.08</td>\n      <td>996.92</td>\n      <td>81.06</td>\n      <td>6075.32</td>\n      <td>0</td>\n      <td>0.984926</td>\n      <td>0.814667</td>\n      <td>0.776939</td>\n      <td>0.781986</td>\n      <td>0.821019</td>\n      <td>0.837380</td>\n      <td>0.836153</td>\n    </tr>\n  </tbody>\n</table>\n</div>"
     },
     "metadata": {},
     "execution_count": 33
    }
   ],
   "source": [
    "tr.head()"
   ]
  },
  {
   "cell_type": "code",
   "execution_count": 34,
   "metadata": {},
   "outputs": [],
   "source": [
    "val = val.drop([\"gender\",\"education\", \"marriage\", \"behind4\", \"behind5\", \"behind6\", \"gen-age\", \"gen-mar\", \"age_bin\", \"pperb1\", \"pperb2\", \"pperb3\", \"pperb4\", \"pperb5\"], axis=1)"
   ]
  },
  {
   "cell_type": "code",
   "execution_count": 35,
   "metadata": {},
   "outputs": [
    {
     "output_type": "execute_result",
     "data": {
      "text/plain": [
       "    limit  age  behind1  behind2  behind3  billed1  billed2  billed3  billed4  \\\n",
       "0  1075.5   25        0        0        0   317.77   360.72   415.18   450.99   \n",
       "1  5377.5   26        0        0        0  4901.99  4504.59  4183.12  3641.68   \n",
       "2  2509.5   32        0        0        0  2513.87  2476.52  2456.80  2500.65   \n",
       "3  4660.5   49        0        0        0   741.31   679.57   579.77   605.79   \n",
       "4  1792.5   36        0        0        0  3378.07  1707.71  1518.64   701.73   \n",
       "\n",
       "   billed5  billed6   paid1   paid2   paid3  paid4   paid5   paid6  default  \\\n",
       "0   491.72   531.58   53.78   71.70   53.78  53.78   53.78   71.70        0   \n",
       "1  2787.02  2769.91  160.82  151.82  113.32  94.89   95.68   95.68        0   \n",
       "2  2513.48  2517.10   87.15  111.57  107.55  87.40   89.63   91.56        0   \n",
       "3   402.81   248.94   57.72   64.82  251.45   0.97  251.34  158.03        0   \n",
       "4   727.58   696.89   71.70   53.78   35.85  64.53    0.00   35.85        1   \n",
       "\n",
       "     avail6    avail5    avail4    avail3    avail2    avail1    avg_av  \n",
       "0  0.505737  0.542799  0.580669  0.613966  0.664603  0.704537  0.602052  \n",
       "1  0.484907  0.481726  0.322793  0.222107  0.162326  0.088426  0.293714  \n",
       "2 -0.003028 -0.001586  0.003527  0.021000  0.013142 -0.001741  0.005219  \n",
       "3  0.946585  0.913569  0.870016  0.875599  0.854185  0.840938  0.883482  \n",
       "4  0.611219  0.594098  0.608519  0.152781  0.047303 -0.884558  0.188227  "
      ],
      "text/html": "<div>\n<style scoped>\n    .dataframe tbody tr th:only-of-type {\n        vertical-align: middle;\n    }\n\n    .dataframe tbody tr th {\n        vertical-align: top;\n    }\n\n    .dataframe thead th {\n        text-align: right;\n    }\n</style>\n<table border=\"1\" class=\"dataframe\">\n  <thead>\n    <tr style=\"text-align: right;\">\n      <th></th>\n      <th>limit</th>\n      <th>age</th>\n      <th>behind1</th>\n      <th>behind2</th>\n      <th>behind3</th>\n      <th>billed1</th>\n      <th>billed2</th>\n      <th>billed3</th>\n      <th>billed4</th>\n      <th>billed5</th>\n      <th>billed6</th>\n      <th>paid1</th>\n      <th>paid2</th>\n      <th>paid3</th>\n      <th>paid4</th>\n      <th>paid5</th>\n      <th>paid6</th>\n      <th>default</th>\n      <th>avail6</th>\n      <th>avail5</th>\n      <th>avail4</th>\n      <th>avail3</th>\n      <th>avail2</th>\n      <th>avail1</th>\n      <th>avg_av</th>\n    </tr>\n  </thead>\n  <tbody>\n    <tr>\n      <th>0</th>\n      <td>1075.5</td>\n      <td>25</td>\n      <td>0</td>\n      <td>0</td>\n      <td>0</td>\n      <td>317.77</td>\n      <td>360.72</td>\n      <td>415.18</td>\n      <td>450.99</td>\n      <td>491.72</td>\n      <td>531.58</td>\n      <td>53.78</td>\n      <td>71.70</td>\n      <td>53.78</td>\n      <td>53.78</td>\n      <td>53.78</td>\n      <td>71.70</td>\n      <td>0</td>\n      <td>0.505737</td>\n      <td>0.542799</td>\n      <td>0.580669</td>\n      <td>0.613966</td>\n      <td>0.664603</td>\n      <td>0.704537</td>\n      <td>0.602052</td>\n    </tr>\n    <tr>\n      <th>1</th>\n      <td>5377.5</td>\n      <td>26</td>\n      <td>0</td>\n      <td>0</td>\n      <td>0</td>\n      <td>4901.99</td>\n      <td>4504.59</td>\n      <td>4183.12</td>\n      <td>3641.68</td>\n      <td>2787.02</td>\n      <td>2769.91</td>\n      <td>160.82</td>\n      <td>151.82</td>\n      <td>113.32</td>\n      <td>94.89</td>\n      <td>95.68</td>\n      <td>95.68</td>\n      <td>0</td>\n      <td>0.484907</td>\n      <td>0.481726</td>\n      <td>0.322793</td>\n      <td>0.222107</td>\n      <td>0.162326</td>\n      <td>0.088426</td>\n      <td>0.293714</td>\n    </tr>\n    <tr>\n      <th>2</th>\n      <td>2509.5</td>\n      <td>32</td>\n      <td>0</td>\n      <td>0</td>\n      <td>0</td>\n      <td>2513.87</td>\n      <td>2476.52</td>\n      <td>2456.80</td>\n      <td>2500.65</td>\n      <td>2513.48</td>\n      <td>2517.10</td>\n      <td>87.15</td>\n      <td>111.57</td>\n      <td>107.55</td>\n      <td>87.40</td>\n      <td>89.63</td>\n      <td>91.56</td>\n      <td>0</td>\n      <td>-0.003028</td>\n      <td>-0.001586</td>\n      <td>0.003527</td>\n      <td>0.021000</td>\n      <td>0.013142</td>\n      <td>-0.001741</td>\n      <td>0.005219</td>\n    </tr>\n    <tr>\n      <th>3</th>\n      <td>4660.5</td>\n      <td>49</td>\n      <td>0</td>\n      <td>0</td>\n      <td>0</td>\n      <td>741.31</td>\n      <td>679.57</td>\n      <td>579.77</td>\n      <td>605.79</td>\n      <td>402.81</td>\n      <td>248.94</td>\n      <td>57.72</td>\n      <td>64.82</td>\n      <td>251.45</td>\n      <td>0.97</td>\n      <td>251.34</td>\n      <td>158.03</td>\n      <td>0</td>\n      <td>0.946585</td>\n      <td>0.913569</td>\n      <td>0.870016</td>\n      <td>0.875599</td>\n      <td>0.854185</td>\n      <td>0.840938</td>\n      <td>0.883482</td>\n    </tr>\n    <tr>\n      <th>4</th>\n      <td>1792.5</td>\n      <td>36</td>\n      <td>0</td>\n      <td>0</td>\n      <td>0</td>\n      <td>3378.07</td>\n      <td>1707.71</td>\n      <td>1518.64</td>\n      <td>701.73</td>\n      <td>727.58</td>\n      <td>696.89</td>\n      <td>71.70</td>\n      <td>53.78</td>\n      <td>35.85</td>\n      <td>64.53</td>\n      <td>0.00</td>\n      <td>35.85</td>\n      <td>1</td>\n      <td>0.611219</td>\n      <td>0.594098</td>\n      <td>0.608519</td>\n      <td>0.152781</td>\n      <td>0.047303</td>\n      <td>-0.884558</td>\n      <td>0.188227</td>\n    </tr>\n  </tbody>\n</table>\n</div>"
     },
     "metadata": {},
     "execution_count": 35
    }
   ],
   "source": [
    "val.head()"
   ]
  },
  {
   "cell_type": "code",
   "execution_count": 36,
   "metadata": {},
   "outputs": [],
   "source": [
    "pickle_out = open(\"../data/training_model.pickle\",\"wb\")\n",
    "pickle.dump(tr, pickle_out)\n",
    "pickle_out.close()"
   ]
  },
  {
   "cell_type": "code",
   "execution_count": 37,
   "metadata": {},
   "outputs": [],
   "source": [
    "pickle_out = open(\"../data/validate_model.pickle\",\"wb\")\n",
    "pickle.dump(val, pickle_out)\n",
    "pickle_out.close()"
   ]
  },
  {
   "cell_type": "code",
   "execution_count": null,
   "metadata": {},
   "outputs": [],
   "source": []
  }
 ]
}