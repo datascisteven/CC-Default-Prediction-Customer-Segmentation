{
 "cells": [
  {
   "cell_type": "markdown",
   "metadata": {},
   "source": [
    "<h1><center><font size=\"6\">Hyperparameter Tuning and Class Imbalance Notebook</font></center></h1>\n",
    "\n",
    "# Contents\n",
    "\n",
    "- <a href='#1'>Importing Packages</a>\n",
    "- <a href='#2'>Preparing Data for Modeling</a>  \n",
    "- <a href='#3'>Hyperparameter Tuning</a>\n",
    "    - <a href='#31'>Logistic Regression with GridSearchCV</a>\n",
    "    - <a href='#32'>Random Forest Classifier with GridSearchCV</a>\n",
    "    - <a href='#33'>AdaBoost Classifier with GridSearchCV</a>\n",
    "    - <a href='#34'>Gradient Boosting Classifier with GridSearchCV</a>\n",
    "    - <a href='#35'>XGBoost Classifier with GridSearchCV</a>\n",
    "    - <a href='#36'>Evaluation Metrics</a>\n",
    "- <a href='#4'>Class Imbalance</a>\n",
    "    - <a href='#41'>Ensemble Methods</a>\n",
    "    - <a href='#42'>Undersampling/Downsampling Methods for Majority Class</a>\n",
    "    - <a href='#43'>Oversampling/Upsampling Methods for Minority Class</a>\n"
   ]
  },
  {
   "cell_type": "markdown",
   "metadata": {
    "code_folding": [],
    "heading_collapsed": true
   },
   "source": [
    "# <a id='1'>Importing Packages</a>"
   ]
  },
  {
   "cell_type": "code",
   "execution_count": 35,
   "metadata": {
    "hidden": true,
    "run_control": {
     "marked": true
    }
   },
   "outputs": [],
   "source": [
    "import numpy as np \n",
    "import pandas as pd\n",
    "import re\n",
    "from matplotlib import pyplot as plt\n",
    "from matplotlib import style\n",
    "import seaborn as sns\n",
    "import warnings\n",
    "warnings.filterwarnings('ignore')\n",
    "%matplotlib inline\n",
    "import itertools\n",
    "from collections import Counter\n",
    "\n",
    "\n",
    "from sklearn import linear_model\n",
    "from sklearn.linear_model import LogisticRegression, SGDClassifier\n",
    "from sklearn.tree import DecisionTreeClassifier\n",
    "from sklearn.discriminant_analysis import LinearDiscriminantAnalysis\n",
    "from sklearn.neighbors import KNeighborsClassifier\n",
    "from sklearn.svm import SVC\n",
    "from sklearn.naive_bayes import GaussianNB\n",
    "from sklearn.experimental import enable_hist_gradient_boosting\n",
    "from sklearn.ensemble import AdaBoostClassifier, GradientBoostingClassifier, RandomForestClassifier, BaggingClassifier, HistGradientBoostingClassifier\n",
    "from sklearn.model_selection import train_test_split, KFold, cross_val_score, cross_val_predict, GridSearchCV\n",
    "from sklearn.metrics import accuracy_score, confusion_matrix, precision_score, recall_score, f1_score, precision_recall_curve, roc_curve, roc_auc_score, classification_report, plot_confusion_matrix, auc, mean_squared_error, confusion_matrix, balanced_accuracy_score\n",
    "from sklearn.preprocessing import StandardScaler, OneHotEncoder\n",
    "from sklearn.pipeline import make_pipeline\n",
    "from sklearn.impute import SimpleImputer\n",
    "from sklearn.compose import ColumnTransformer, make_column_selector as selector\n",
    "from imblearn.under_sampling import CondensedNearestNeighbour\n",
    "from imblearn.ensemble import BalancedBaggingClassifier, BalancedRandomForestClassifier, EasyEnsembleClassifier, RUSBoostClassifier\n",
    "from imblearn.metrics import geometric_mean_score\n",
    "from imblearn.under_sampling import TomekLinks\n",
    "\n",
    "import xgboost as xgb\n",
    "from xgboost.sklearn import XGBClassifier\n",
    "\n",
    "\n",
    "%reload_ext autoreload\n",
    "%autoreload 2\n",
    "\n",
    "from utils import *\n",
    "\n",
    "plt.style.use(\"fivethirtyeight\")\n",
    "sns.set_theme(style=\"darkgrid\", font='serif', context='poster')\n",
    "\n",
    "import pickle\n",
    "\n",
    "from imblearn.under_sampling import NeighbourhoodCleaningRule\n",
    "from matplotlib import pyplot\n",
    "from numpy import where\n",
    "from imblearn.under_sampling import NearMiss \n",
    "from imblearn.under_sampling import OneSidedSelection\n",
    "from numpy import mean\n",
    "from sklearn.model_selection import cross_val_score\n",
    "from sklearn.model_selection import RepeatedStratifiedKFold\n",
    "from sklearn.tree import DecisionTreeClassifier\n",
    "from imblearn.pipeline import Pipeline\n",
    "from imblearn.over_sampling import RandomOverSampler\n",
    "from imblearn.under_sampling import RandomUnderSampler\n",
    "from imblearn.over_sampling import SMOTE\n",
    "from sklearn.dummy import DummyClassifier\n",
    "from sklearn.utils import resample\n",
    "from sklearn.model_selection import cross_validate"
   ]
  },
  {
   "cell_type": "markdown",
   "metadata": {
    "heading_collapsed": true
   },
   "source": [
    "# <a id='2'>Preparing Data for Modeling</a>"
   ]
  },
  {
   "cell_type": "code",
   "execution_count": 7,
   "metadata": {
    "hidden": true
   },
   "outputs": [],
   "source": [
    "pickle_in = open(\"../data/training_model.pickle\",\"rb\")\n",
    "train = pickle.load(pickle_in)\n",
    "pickle_in = open(\"../data/validate_model.pickle\",\"rb\")\n",
    "validate = pickle.load(pickle_in)"
   ]
  },
  {
   "cell_type": "code",
   "execution_count": 8,
   "metadata": {},
   "outputs": [
    {
     "output_type": "execute_result",
     "data": {
      "text/plain": [
       "     limit  behind1    paid2  delayed  latemths  age  behind2  billed1  \\\n",
       "0  1790.26        0   179.13        0         0   44        0  1631.93   \n",
       "1  5728.83       -1   173.87        0         0   46       -1   891.69   \n",
       "2  3580.52       -1     0.00        0         0   47       -1   238.68   \n",
       "3  6086.88        0    89.26        0         0   29        0  2831.87   \n",
       "4  5370.78       -2  1171.37        0         0   33       -2   873.40   \n",
       "\n",
       "     avg_av    avail1  default  \n",
       "0  0.344578  0.088440        0  \n",
       "1  0.957227  0.844350        0  \n",
       "2  0.968650  0.933339        1  \n",
       "3  0.650602  0.534758        0  \n",
       "4  0.836153  0.837379        0  "
      ],
      "text/html": "<div>\n<style scoped>\n    .dataframe tbody tr th:only-of-type {\n        vertical-align: middle;\n    }\n\n    .dataframe tbody tr th {\n        vertical-align: top;\n    }\n\n    .dataframe thead th {\n        text-align: right;\n    }\n</style>\n<table border=\"1\" class=\"dataframe\">\n  <thead>\n    <tr style=\"text-align: right;\">\n      <th></th>\n      <th>limit</th>\n      <th>behind1</th>\n      <th>paid2</th>\n      <th>delayed</th>\n      <th>latemths</th>\n      <th>age</th>\n      <th>behind2</th>\n      <th>billed1</th>\n      <th>avg_av</th>\n      <th>avail1</th>\n      <th>default</th>\n    </tr>\n  </thead>\n  <tbody>\n    <tr>\n      <th>0</th>\n      <td>1790.26</td>\n      <td>0</td>\n      <td>179.13</td>\n      <td>0</td>\n      <td>0</td>\n      <td>44</td>\n      <td>0</td>\n      <td>1631.93</td>\n      <td>0.344578</td>\n      <td>0.088440</td>\n      <td>0</td>\n    </tr>\n    <tr>\n      <th>1</th>\n      <td>5728.83</td>\n      <td>-1</td>\n      <td>173.87</td>\n      <td>0</td>\n      <td>0</td>\n      <td>46</td>\n      <td>-1</td>\n      <td>891.69</td>\n      <td>0.957227</td>\n      <td>0.844350</td>\n      <td>0</td>\n    </tr>\n    <tr>\n      <th>2</th>\n      <td>3580.52</td>\n      <td>-1</td>\n      <td>0.00</td>\n      <td>0</td>\n      <td>0</td>\n      <td>47</td>\n      <td>-1</td>\n      <td>238.68</td>\n      <td>0.968650</td>\n      <td>0.933339</td>\n      <td>1</td>\n    </tr>\n    <tr>\n      <th>3</th>\n      <td>6086.88</td>\n      <td>0</td>\n      <td>89.26</td>\n      <td>0</td>\n      <td>0</td>\n      <td>29</td>\n      <td>0</td>\n      <td>2831.87</td>\n      <td>0.650602</td>\n      <td>0.534758</td>\n      <td>0</td>\n    </tr>\n    <tr>\n      <th>4</th>\n      <td>5370.78</td>\n      <td>-2</td>\n      <td>1171.37</td>\n      <td>0</td>\n      <td>0</td>\n      <td>33</td>\n      <td>-2</td>\n      <td>873.40</td>\n      <td>0.836153</td>\n      <td>0.837379</td>\n      <td>0</td>\n    </tr>\n  </tbody>\n</table>\n</div>"
     },
     "metadata": {},
     "execution_count": 8
    }
   ],
   "source": [
    "train.head()"
   ]
  },
  {
   "cell_type": "code",
   "execution_count": 11,
   "metadata": {
    "hidden": true
   },
   "outputs": [],
   "source": [
    "X_train = train.drop([\"default\"], axis=1)\n",
    "y_tr = train[\"default\"]\n",
    "X_validate = validate.drop([\"default\"], axis=1)\n",
    "y_val = validate[\"default\"]"
   ]
  },
  {
   "cell_type": "code",
   "execution_count": 12,
   "metadata": {
    "hidden": true
   },
   "outputs": [],
   "source": [
    "scaler = StandardScaler()\n",
    "scaler.fit(X_train)\n",
    "X_tr = scaler.transform(X_train)\n",
    "X_val = scaler.transform(X_validate)"
   ]
  },
  {
   "cell_type": "markdown",
   "metadata": {},
   "source": [
    "# <a id='3'>Hyperparameter Tuning</a>"
   ]
  },
  {
   "cell_type": "markdown",
   "metadata": {
    "heading_collapsed": true
   },
   "source": [
    "## <a id='31'>Logistic Regression with GridSearchCV</a>"
   ]
  },
  {
   "cell_type": "code",
   "execution_count": 36,
   "metadata": {
    "code_folding": [
     0
    ],
    "hidden": true
   },
   "outputs": [],
   "source": [
    "# logreg = LogisticRegression()\n",
    "# params = {'C': [0.001, 0.01, 0.1, 1, 10], \n",
    "#           'penalty': ['none', 'l1', 'l2', 'elasticnet'],\n",
    "#           'solver': ['liblinear', 'newton-cg', 'lbfgs', 'sag', 'saga']}\n",
    "# gslog = GridSearchCV(estimator = logreg,\n",
    "#                      param_grid = params,\n",
    "#                      scoring = 'average_precision',\n",
    "#                      cv = 10,\n",
    "#                      n_jobs = -1).fit(X_tr, y_tr)\n",
    "# y_pred_gslog_tr = gslog.predict(X_tr)\n",
    "# y_pred_gslog_val = gslog.predict(X_val)\n",
    "# print(\"Best: %f using %s\" % (gslog.best_score_, gslog.best_params_))\n",
    "# print(\"\")\n",
    "# get_metrics(X_tr, y_tr, X_val, y_val, y_pred_gslog_tr, y_pred_gslog_val, gslog)\n",
    "\n",
    "# Best: 0.522622 using {'C': 1, 'penalty': 'l2', 'solver': 'newton-cg'}"
   ]
  },
  {
   "cell_type": "code",
   "execution_count": 37,
   "metadata": {
    "hidden": true,
    "run_control": {
     "marked": true
    }
   },
   "outputs": [
    {
     "output_type": "stream",
     "name": "stdout",
     "text": [
      "Training Accuracy:  0.8087142857142857\nValidation Accuracy:  0.8071666666666667\nTraining F1 Score:  0.40320903283316006\nValidation F1 Score:  0.380952380952381\nTraining AUC Score:  0.7476971040793051\nValidation AUC Score:  0.7467126831177808\nTraining Recall Score:  0.2914518900343643\nValidation Recall Score:  0.27113480578827115\nTraining Precision Score:  0.6539759036144578\nValidation Precision Score:  0.6402877697841727\nTraining Average Precision Score:  0.5205202430336466\nValidation Average Precision Score:  0.4986582661881126\n"
     ]
    }
   ],
   "source": [
    "logb = LogisticRegression(C=1, penalty='l2', solver='newton-cg').fit(X_tr, y_tr)\n",
    "y_pred_logb_tr = logb.predict(X_tr)\n",
    "y_pred_logb_val = logb.predict(X_val)\n",
    "get_metric(X_tr, y_tr, X_val, y_val, y_pred_logb_tr, y_pred_logb_val, logb)"
   ]
  },
  {
   "cell_type": "markdown",
   "metadata": {
    "heading_collapsed": true
   },
   "source": [
    "## <a id='33'>Random Forest Classifier with GridSearchCV</a>"
   ]
  },
  {
   "cell_type": "code",
   "execution_count": 27,
   "metadata": {
    "code_folding": [
     0
    ],
    "hidden": true,
    "run_control": {
     "marked": true
    }
   },
   "outputs": [],
   "source": [
    "# rfc = RandomForestClassifier()\n",
    "# params = {'n_estimators': [100, 200, 400, 600, 1000],\n",
    "#           'criterion': ['entropy', 'gini'],\n",
    "#           'max_depth': [5, 8, 15, 25, 30],\n",
    "#           'min_samples_split': [2, 5, 10, 15, 100],\n",
    "#           'min_samples_leaf': [1, 2, 5, 10]}\n",
    "# gsrfc = GridSearchCV(estimator = rfc,\n",
    "#                      param_grid = params,\n",
    "#                      scoring = 'average_precision',\n",
    "#                      cv = 5,\n",
    "#                      n_jobs = -1).fit(X_tr, y_tr)\n",
    "# y_pred_gsrfc_tr = gsrfc.predict(X_tr)\n",
    "# y_pred_gsrfc_val = gsrfc.predict(X_val)\n",
    "# print(\"Best: %f using %s\" % (gsrfc.best_score_, gsrfc.best_params_))\n",
    "# print(\"\")\n",
    "# get_metrics(X_tr, y_tr, X_val, y_val, y_pred_gsrfc_tr, y_pred_gsrfc_val, gsrfc)\n",
    "\n",
    "# Best: 0.565196 using {'criterion': 'gini', 'max_depth': 8, 'min_samples_leaf': 1, 'min_samples_split': 2, 'n_estimators': 400}"
   ]
  },
  {
   "cell_type": "code",
   "execution_count": 53,
   "metadata": {
    "hidden": true
   },
   "outputs": [
    {
     "output_type": "stream",
     "name": "stdout",
     "text": [
      "Training Accuracy:  0.8333333333333334\nValidation Accuracy:  0.82\nTraining F1 Score:  0.5149667405764967\nValidation F1 Score:  0.46375372393247266\nTraining AUC Score:  0.8263813590913907\nValidation AUC Score:  0.7805258862036932\nTraining Recall Score:  0.39905498281786944\nValidation Recall Score:  0.3556740289413557\nTraining Precision Score:  0.72578125\nValidation Precision Score:  0.666191155492154\nTraining Average Precision Score:  0.6523890600337748\nValidation Average Precision Score:  0.5445212676503224\n"
     ]
    }
   ],
   "source": [
    "rfcb = RandomForestClassifier(criterion='gini', max_depth=8, min_samples_leaf=1, min_samples_split=2, n_estimators=400).fit(X_tr, y_tr)\n",
    "y_pred_rfcb_tr = rfcb.predict(X_tr)\n",
    "y_pred_rfcb_val = rfcb.predict(X_val)\n",
    "get_metric(X_tr, y_tr, X_val, y_val, y_pred_rfcb_tr, y_pred_rfcb_val, rfcb)"
   ]
  },
  {
   "cell_type": "markdown",
   "metadata": {
    "heading_collapsed": true
   },
   "source": [
    "## <a id='34'>AdaBoost Classifier with GridSearchCV</a>"
   ]
  },
  {
   "cell_type": "code",
   "execution_count": 28,
   "metadata": {
    "code_folding": [
     0
    ],
    "hidden": true,
    "run_control": {
     "marked": true
    }
   },
   "outputs": [],
   "source": [
    "# abc = AdaBoostClassifier()\n",
    "# params = {'n_estimators': [10, 50, 100, 200],\n",
    "#           'learning_rate': [0.001, 0.01, 0.1, 0.2, 0.5]}\n",
    "# gsabc = GridSearchCV(estimator = abc,\n",
    "#                      param_grid = params,\n",
    "#                      n_jobs = -1,\n",
    "#                      cv = 5,\n",
    "#                      scoring = 'average_precision').fit(X_tr, y_tr)\n",
    "# y_pred_gsabc_tr = gsabc.predict(X_tr)\n",
    "# y_pred_gsabc_val = gsabc.predict(X_val)\n",
    "# print(\"Best: %f using %s\" % (gsabc.best_score_, gsabc.best_params_))\n",
    "# print(\"\")\n",
    "# get_metrics(X_tr, y_tr, X_val, y_val, y_pred_gsabc_tr, y_pred_gsabc_val, gsabc)\n",
    "\n",
    "# Best: 0.545818 using {'learning_rate': 0.1, 'n_estimators': 200}"
   ]
  },
  {
   "cell_type": "code",
   "execution_count": 43,
   "metadata": {
    "hidden": true
   },
   "outputs": [
    {
     "output_type": "stream",
     "name": "stdout",
     "text": [
      "Training Accuracy:  0.8192380952380952\nValidation Accuracy:  0.8208333333333333\nTraining F1 Score:  0.44969556393157434\nValidation F1 Score:  0.4438696326952923\nTraining AUC Score:  0.7866775976198166\nValidation AUC Score:  0.7772694027703144\nTraining Recall Score:  0.3331185567010309\nValidation Recall Score:  0.32673267326732675\nTraining Precision Score:  0.691793041926851\nValidation Precision Score:  0.6919354838709677\nTraining Average Precision Score:  0.5528304845005094\nValidation Average Precision Score:  0.5244329096074963\n"
     ]
    }
   ],
   "source": [
    "abcb = AdaBoostClassifier(learning_rate=0.1, n_estimators=200).fit(X_tr, y_tr)\n",
    "y_pred_abcb_tr = abcb.predict(X_tr)\n",
    "y_pred_abcb_val = abcb.predict(X_val)\n",
    "get_metric(X_tr, y_tr, X_val, y_val, y_pred_abcb_tr, y_pred_abcb_val, abcb)"
   ]
  },
  {
   "cell_type": "markdown",
   "metadata": {
    "heading_collapsed": true
   },
   "source": [
    "## <a id='35'>Gradient Boosting with GridSearchCV</a>"
   ]
  },
  {
   "cell_type": "code",
   "execution_count": 29,
   "metadata": {
    "code_folding": [
     0
    ],
    "hidden": true,
    "run_control": {
     "marked": true
    }
   },
   "outputs": [],
   "source": [
    "# gbc = GradientBoostingClassifier()\n",
    "# params = {'n_estimators': [10, 100, 1000],\n",
    "#           'learning_rate': [0.001, 0.01, 0.1],\n",
    "#           'max_depth': [3, 7, 9]}\n",
    "# gsgbc = GridSearchCV(estimator = gbc,\n",
    "#                      param_grid = params, \n",
    "#                      n_jobs = -1, \n",
    "#                      cv = 5, \n",
    "#                      scoring = 'average_precision').fit(X_tr, y_tr)\n",
    "# y_pred_gsgbc_tr = gsgbc.predict(X_tr)\n",
    "# y_pred_gsgbc_val = gsgbc.predict(X_val)\n",
    "# print(\"Best: %f using %s\" % (gsgbc.best_score_, gsgbc.best_params_))\n",
    "# print(\"\")\n",
    "# get_metric(X_tr, y_tr, X_val, y_val, y_pred_gsgbc_tr, y_pred_gsgbc_tr, gsgbc)\n",
    "\n",
    "# Best: 0.558390 using {'learning_rate': 0.01, 'max_depth': 3, 'n_estimators': 1000}"
   ]
  },
  {
   "cell_type": "code",
   "execution_count": 44,
   "metadata": {
    "hidden": true,
    "run_control": {
     "marked": true
    }
   },
   "outputs": [
    {
     "output_type": "stream",
     "name": "stdout",
     "text": [
      "Training Accuracy:  0.8276190476190476\nValidation Accuracy:  0.8196666666666667\nTraining F1 Score:  0.49694274596998333\nValidation F1 Score:  0.4622266401590458\nTraining AUC Score:  0.805111244939135\nValidation AUC Score:  0.7812120218438938\nTraining Recall Score:  0.38402061855670105\nValidation Recall Score:  0.3541507996953541\nTraining Precision Score:  0.7039370078740157\nValidation Precision Score:  0.6652360515021459\nTraining Average Precision Score:  0.6003473510491001\nValidation Average Precision Score:  0.5434988921201059\n"
     ]
    }
   ],
   "source": [
    "gbcb = GradientBoostingClassifier(learning_rate=0.01, max_depth=3, n_estimators=1000).fit(X_tr, y_tr)\n",
    "y_pred_gbcb_tr = gbcb.predict(X_tr)\n",
    "y_pred_gbcb_val = gbcb.predict(X_val)\n",
    "get_metric(X_tr, y_tr, X_val, y_val, y_pred_gbcb_tr, y_pred_gbcb_val, gbcb)"
   ]
  },
  {
   "cell_type": "markdown",
   "metadata": {
    "heading_collapsed": true
   },
   "source": [
    "## <a id='36'>XGBoost Classifier with GridSearchCV</a>"
   ]
  },
  {
   "cell_type": "code",
   "execution_count": 32,
   "metadata": {
    "code_folding": [
     0
    ],
    "hidden": true,
    "run_control": {
     "marked": true
    }
   },
   "outputs": [],
   "source": [
    "# xgb = XGBClassifier()\n",
    "# params = {'n_estimators': [50, 100, 150, 200], \n",
    "#           'max_depth': [3, 5, 7, 10], \n",
    "#           'min_child_weight': [2, 3, 4, 5]}\n",
    "# gsxgb = GridSearchCV(estimator = xgb,\n",
    "#                      param_grid = params,\n",
    "#                      scoring = 'average_precision',\n",
    "#                      cv = 5,\n",
    "#                      n_jobs = -1).fit(X_tr, y_tr)\n",
    "# y_pred_gsxgb_tr = gsxgb.predict(X_tr)\n",
    "# y_pred_gsxgb_val = gsxgb.predict(X_val)\n",
    "# print(\"Best: %f using %s\" % (gsxgb.best_score_, gsxgb.best_params_))\n",
    "# print(\"\")\n",
    "# get_metrics(X_tr, y_tr, X_val, y_val, y_pred_gsxgb_tr, y_pred_gsxgb_val, gsxgb)\n",
    "\n",
    "# Best: 0.555500 using {'max_depth': 3, 'min_child_weight': 5, 'n_estimators': 50}\n"
   ]
  },
  {
   "cell_type": "code",
   "execution_count": 46,
   "metadata": {
    "hidden": true,
    "run_control": {
     "marked": true
    }
   },
   "outputs": [
    {
     "output_type": "stream",
     "name": "stdout",
     "text": [
      "[11:59:18] WARNING: /Users/runner/miniforge3/conda-bld/xgboost_1607604592557/work/src/learner.cc:1061: Starting in XGBoost 1.3.0, the default evaluation metric used with the objective 'binary:logistic' was changed from 'error' to 'logloss'. Explicitly set eval_metric if you'd like to restore the old behavior.\n",
      "Training Accuracy:  0.8276190476190476\n",
      "Validation Accuracy:  0.8185\n",
      "Training F1 Score:  0.49833702882483377\n",
      "Validation F1 Score:  0.4579392732702837\n",
      "Training AUC Score:  0.810540741434586\n",
      "Validation AUC Score:  0.7767761488364293\n",
      "Training Recall Score:  0.3861683848797251\n",
      "Validation Recall Score:  0.3503427265803503\n",
      "Training Precision Score:  0.70234375\n",
      "Validation Precision Score:  0.6609195402298851\n",
      "Training Average Precision Score:  0.6011613543281619\n",
      "Validation Average Precision Score:  0.5393954705676095\n"
     ]
    }
   ],
   "source": [
    "xgbb = XGBClassifier(max_depth=3, min_child_weight=1, n_estimators=50).fit(X_tr, y_tr)\n",
    "y_pred_xgbb_tr = xgbb.predict(X_tr)\n",
    "y_pred_xgbb_val = xgbb.predict(X_val)\n",
    "get_metric(X_tr, y_tr, X_val, y_val, y_pred_xgbb_tr, y_pred_xgbb_val, xgbb)"
   ]
  },
  {
   "source": [
    "**Best Hyperparameters for each Model:**\n",
    "\n",
    "- "
   ],
   "cell_type": "markdown",
   "metadata": {}
  },
  {
   "cell_type": "markdown",
   "metadata": {
    "heading_collapsed": true
   },
   "source": [
    "## <a id='37'>Evaluation Metrics</a>"
   ]
  },
  {
   "cell_type": "code",
   "execution_count": 47,
   "metadata": {
    "code_folding": [
     0
    ],
    "hidden": true
   },
   "outputs": [],
   "source": [
    "data = {'Accuracy': [accuracy(y_val, y_pred_logb_val), \n",
    "                     accuracy(y_val, y_pred_rfcb_val), \n",
    "                     accuracy(y_val, y_pred_abcb_val), \n",
    "                     accuracy(y_val, y_pred_gbcb_val),\n",
    "                     accuracy(y_val, y_pred_xgbb_val)],\n",
    "        'F1 Score': [f1(y_val, y_pred_logb_val), \n",
    "                     f1(y_val, y_pred_rfcb_val), \n",
    "                     f1(y_val, y_pred_abcb_val), \n",
    "                     f1(y_val, y_pred_gbcb_val),\n",
    "                     f1(y_val, y_pred_xgbb_val)],\n",
    "        'Recall': [recall(y_val, y_pred_logb_val), \n",
    "                   recall(y_val, y_pred_rfcb_val), \n",
    "                   recall(y_val, y_pred_abcb_val),\n",
    "                   recall(y_val, y_pred_gbcb_val),\n",
    "                   recall(y_val, y_pred_xgbb_val)],\n",
    "        'Precision': [precision(y_val, y_pred_logb_val), \n",
    "                      precision(y_val, y_pred_rfcb_val), \n",
    "                      precision(y_val, y_pred_abcb_val),\n",
    "                      precision(y_val, y_pred_gbcb_val),\n",
    "                      precision(y_val, y_pred_xgbb_val)],\n",
    "        'PR AUC': [aps(X_val, y_val, logb),\n",
    "                   aps(X_val, y_val, rfcb),\n",
    "                   aps(X_val, y_val, abcb),\n",
    "                   aps(X_val, y_val, gbcb),\n",
    "                   aps(X_val, y_val, xgbb)]}\n",
    "scores3 = pd.DataFrame(data=data, index = ['Logistic Regression with GridSearchCV', \n",
    "                                          'Random Forest with GridSearchCV', \n",
    "                                          'AdaBoost with GridSearchCV', \n",
    "                                          'Gradient Boosting with GridSearchCV',\n",
    "                                          'XGBoost with GridSearchCV'])"
   ]
  },
  {
   "cell_type": "code",
   "execution_count": 51,
   "metadata": {
    "hidden": true
   },
   "outputs": [
    {
     "output_type": "execute_result",
     "data": {
      "text/plain": [
       "                                       Accuracy  F1 Score    Recall  \\\n",
       "Logistic Regression with GridSearchCV  0.807167  0.380952  0.271135   \n",
       "Random Forest with GridSearchCV        0.820667  0.464143  0.354912   \n",
       "AdaBoost with GridSearchCV             0.820833  0.443870  0.326733   \n",
       "Gradient Boosting with GridSearchCV    0.819667  0.462227  0.354151   \n",
       "XGBoost with GridSearchCV              0.818500  0.457939  0.350343   \n",
       "\n",
       "                                       Precision    PR AUC  \n",
       "Logistic Regression with GridSearchCV   0.640288  0.498658  \n",
       "Random Forest with GridSearchCV         0.670504  0.545164  \n",
       "AdaBoost with GridSearchCV              0.691935  0.524433  \n",
       "Gradient Boosting with GridSearchCV     0.665236  0.543499  \n",
       "XGBoost with GridSearchCV               0.660920  0.539395  "
      ],
      "text/html": "<div>\n<style scoped>\n    .dataframe tbody tr th:only-of-type {\n        vertical-align: middle;\n    }\n\n    .dataframe tbody tr th {\n        vertical-align: top;\n    }\n\n    .dataframe thead th {\n        text-align: right;\n    }\n</style>\n<table border=\"1\" class=\"dataframe\">\n  <thead>\n    <tr style=\"text-align: right;\">\n      <th></th>\n      <th>Accuracy</th>\n      <th>F1 Score</th>\n      <th>Recall</th>\n      <th>Precision</th>\n      <th>PR AUC</th>\n    </tr>\n  </thead>\n  <tbody>\n    <tr>\n      <th>Logistic Regression with GridSearchCV</th>\n      <td>0.807167</td>\n      <td>0.380952</td>\n      <td>0.271135</td>\n      <td>0.640288</td>\n      <td>0.498658</td>\n    </tr>\n    <tr>\n      <th>Random Forest with GridSearchCV</th>\n      <td>0.820667</td>\n      <td>0.464143</td>\n      <td>0.354912</td>\n      <td>0.670504</td>\n      <td>0.545164</td>\n    </tr>\n    <tr>\n      <th>AdaBoost with GridSearchCV</th>\n      <td>0.820833</td>\n      <td>0.443870</td>\n      <td>0.326733</td>\n      <td>0.691935</td>\n      <td>0.524433</td>\n    </tr>\n    <tr>\n      <th>Gradient Boosting with GridSearchCV</th>\n      <td>0.819667</td>\n      <td>0.462227</td>\n      <td>0.354151</td>\n      <td>0.665236</td>\n      <td>0.543499</td>\n    </tr>\n    <tr>\n      <th>XGBoost with GridSearchCV</th>\n      <td>0.818500</td>\n      <td>0.457939</td>\n      <td>0.350343</td>\n      <td>0.660920</td>\n      <td>0.539395</td>\n    </tr>\n  </tbody>\n</table>\n</div>"
     },
     "metadata": {},
     "execution_count": 51
    }
   ],
   "source": [
    "scores3"
   ]
  },
  {
   "cell_type": "code",
   "execution_count": 49,
   "metadata": {},
   "outputs": [],
   "source": [
    "scores3.to_csv(\"../data/charts/scores3.csv\")"
   ]
  },
  {
   "source": [
    "## Pickle out best model"
   ],
   "cell_type": "markdown",
   "metadata": {}
  },
  {
   "cell_type": "code",
   "execution_count": 54,
   "metadata": {},
   "outputs": [
    {
     "output_type": "execute_result",
     "data": {
      "text/plain": [
       "RandomForestClassifier(max_depth=8, n_estimators=400)"
      ]
     },
     "metadata": {},
     "execution_count": 54
    }
   ],
   "source": [
    "rfcb"
   ]
  },
  {
   "cell_type": "code",
   "execution_count": 55,
   "metadata": {},
   "outputs": [],
   "source": [
    "pickle_out = open(\"../data/best_model.pickle\",\"wb\")\n",
    "pickle.dump(rfcb, pickle_out)\n",
    "pickle_out.close()"
   ]
  },
  {
   "cell_type": "markdown",
   "metadata": {},
   "source": [
    "# <a id='4'>Class Imbalance</a>"
   ]
  },
  {
   "cell_type": "markdown",
   "metadata": {
    "heading_collapsed": true
   },
   "source": [
    "## <a id='41'>Ensemble Methods</a>"
   ]
  },
  {
   "cell_type": "code",
   "execution_count": 21,
   "metadata": {
    "hidden": true
   },
   "outputs": [
    {
     "output_type": "stream",
     "name": "stdout",
     "text": [
      "Training Accuracy:  0.9987142857142857\nValidation Accuracy:  0.8113333333333334\nTraining F1 Score:  0.9970933362041124\nValidation F1 Score:  0.4412635735439289\nTraining AUC Score:  0.9999941062579792\nValidation AUC Score:  0.7434372690030324\nTraining Recall Score:  0.9946305841924399\nValidation Recall Score:  0.34044173648134046\nTraining Precision Score:  0.9995683142672135\nValidation Precision Score:  0.6269284712482468\nTraining Average Precision Score:  0.9999787231951094\nValidation Average Precision Score:  0.4960314980682107\n\nTraining Classification Report: \n              precision    recall  f1-score   support\n\n           0       1.00      1.00      1.00     16344\n           1       1.00      0.99      1.00      4656\n\n    accuracy                           1.00     21000\n   macro avg       1.00      1.00      1.00     21000\nweighted avg       1.00      1.00      1.00     21000\n\n\nValidation Classification Report: \n              precision    recall  f1-score   support\n\n           0       0.84      0.94      0.89      4687\n           1       0.63      0.34      0.44      1313\n\n    accuracy                           0.81      6000\n   macro avg       0.73      0.64      0.66      6000\nweighted avg       0.79      0.81      0.79      6000\n\n\nBagging Classifier Performance:\nBalanced training accuracy: 1.00 - Geometric mean 1.00\nBalanced validation accuracy: 0.64 - Geometric mean 0.57\n"
     ]
    },
    {
     "output_type": "display_data",
     "data": {
      "text/plain": "<Figure size 432x288 with 2 Axes>",
      "image/svg+xml": "<?xml version=\"1.0\" encoding=\"utf-8\" standalone=\"no\"?>\n<!DOCTYPE svg PUBLIC \"-//W3C//DTD SVG 1.1//EN\"\n  \"http://www.w3.org/Graphics/SVG/1.1/DTD/svg11.dtd\">\n<!-- Created with matplotlib (https://matplotlib.org/) -->\n<svg height=\"284.471875pt\" version=\"1.1\" viewBox=\"0 0 453.809875 284.471875\" width=\"453.809875pt\" xmlns=\"http://www.w3.org/2000/svg\" xmlns:xlink=\"http://www.w3.org/1999/xlink\">\n <metadata>\n  <rdf:RDF xmlns:cc=\"http://creativecommons.org/ns#\" xmlns:dc=\"http://purl.org/dc/elements/1.1/\" xmlns:rdf=\"http://www.w3.org/1999/02/22-rdf-syntax-ns#\">\n   <cc:Work>\n    <dc:type rdf:resource=\"http://purl.org/dc/dcmitype/StillImage\"/>\n    <dc:date>2021-02-19T08:29:48.236257</dc:date>\n    <dc:format>image/svg+xml</dc:format>\n    <dc:creator>\n     <cc:Agent>\n      <dc:title>Matplotlib v3.3.3, https://matplotlib.org/</dc:title>\n     </cc:Agent>\n    </dc:creator>\n   </cc:Work>\n  </rdf:RDF>\n </metadata>\n <defs>\n  <style type=\"text/css\">*{stroke-linecap:butt;stroke-linejoin:round;}</style>\n </defs>\n <g id=\"figure_1\">\n  <g id=\"patch_1\">\n   <path d=\"M 0 284.471875 \nL 453.809875 284.471875 \nL 453.809875 0 \nL 0 0 \nz\n\" style=\"fill:#ffffff;\"/>\n  </g>\n  <g id=\"axes_1\">\n   <g id=\"patch_2\">\n    <path d=\"M 43.991875 240.48 \nL 344.663875 240.48 \nL 344.663875 7.2 \nL 43.991875 7.2 \nz\n\" style=\"fill:#eaeaf2;\"/>\n   </g>\n   <g id=\"matplotlib.axis_1\">\n    <g id=\"xtick_1\">\n     <g id=\"text_1\">\n      <!-- 0 -->\n      <g style=\"fill:#262626;\" transform=\"translate(112.161125 272.696563)scale(0.22 -0.22)\">\n       <defs>\n        <path d=\"M 31.78125 3.421875 \nQ 39.265625 3.421875 42.96875 11.625 \nQ 46.6875 19.828125 46.6875 36.375 \nQ 46.6875 52.984375 42.96875 61.1875 \nQ 39.265625 69.390625 31.78125 69.390625 \nQ 24.3125 69.390625 20.59375 61.1875 \nQ 16.890625 52.984375 16.890625 36.375 \nQ 16.890625 19.828125 20.59375 11.625 \nQ 24.3125 3.421875 31.78125 3.421875 \nz\nM 31.78125 -1.421875 \nQ 19.921875 -1.421875 13.25 8.53125 \nQ 6.59375 18.5 6.59375 36.375 \nQ 6.59375 54.296875 13.25 64.25 \nQ 19.921875 74.21875 31.78125 74.21875 \nQ 43.703125 74.21875 50.34375 64.25 \nQ 56.984375 54.296875 56.984375 36.375 \nQ 56.984375 18.5 50.34375 8.53125 \nQ 43.703125 -1.421875 31.78125 -1.421875 \nz\n\" id=\"DejaVuSerif-48\"/>\n       </defs>\n       <use xlink:href=\"#DejaVuSerif-48\"/>\n      </g>\n     </g>\n    </g>\n    <g id=\"xtick_2\">\n     <g id=\"text_2\">\n      <!-- 1 -->\n      <g style=\"fill:#262626;\" transform=\"translate(262.497125 272.696563)scale(0.22 -0.22)\">\n       <defs>\n        <path d=\"M 14.203125 0 \nL 14.203125 5.171875 \nL 26.90625 5.171875 \nL 26.90625 65.828125 \nL 12.203125 56.296875 \nL 12.203125 62.703125 \nL 29.984375 74.21875 \nL 36.71875 74.21875 \nL 36.71875 5.171875 \nL 49.421875 5.171875 \nL 49.421875 0 \nz\n\" id=\"DejaVuSerif-49\"/>\n       </defs>\n       <use xlink:href=\"#DejaVuSerif-49\"/>\n      </g>\n     </g>\n    </g>\n   </g>\n   <g id=\"matplotlib.axis_2\">\n    <g id=\"ytick_1\">\n     <g id=\"text_3\">\n      <!-- 0 -->\n      <g style=\"fill:#262626;\" transform=\"translate(23.916563 71.159219)rotate(-90)scale(0.22 -0.22)\">\n       <use xlink:href=\"#DejaVuSerif-48\"/>\n      </g>\n     </g>\n    </g>\n    <g id=\"ytick_2\">\n     <g id=\"text_4\">\n      <!-- 1 -->\n      <g style=\"fill:#262626;\" transform=\"translate(23.916563 187.799219)rotate(-90)scale(0.22 -0.22)\">\n       <use xlink:href=\"#DejaVuSerif-49\"/>\n      </g>\n     </g>\n    </g>\n   </g>\n   <g id=\"QuadMesh_1\">\n    <path clip-path=\"url(#p52a709f33b)\" d=\"M 43.991875 7.2 \nL 194.327875 7.2 \nL 194.327875 123.84 \nL 43.991875 123.84 \nL 43.991875 7.2 \n\" style=\"fill:#08306b;\"/>\n    <path clip-path=\"url(#p52a709f33b)\" d=\"M 194.327875 7.2 \nL 344.663875 7.2 \nL 344.663875 123.84 \nL 194.327875 123.84 \nL 194.327875 7.2 \n\" style=\"fill:#f7fbff;\"/>\n    <path clip-path=\"url(#p52a709f33b)\" d=\"M 43.991875 123.84 \nL 194.327875 123.84 \nL 194.327875 240.48 \nL 43.991875 240.48 \nL 43.991875 123.84 \n\" style=\"fill:#dbe9f6;\"/>\n    <path clip-path=\"url(#p52a709f33b)\" d=\"M 194.327875 123.84 \nL 344.663875 123.84 \nL 344.663875 240.48 \nL 194.327875 240.48 \nL 194.327875 123.84 \n\" style=\"fill:#eef5fc;\"/>\n   </g>\n   <g id=\"text_5\">\n    <!-- TN -->\n    <g style=\"fill:#ffffff;\" transform=\"translate(106.823625 52.0185)scale(0.16 -0.16)\">\n     <defs>\n      <path d=\"M 19.09375 0 \nL 19.09375 5.171875 \nL 28.421875 5.171875 \nL 28.421875 67.09375 \nL 6.984375 67.09375 \nL 6.984375 55.71875 \nL 0.984375 55.71875 \nL 0.984375 72.90625 \nL 65.71875 72.90625 \nL 65.71875 55.71875 \nL 59.71875 55.71875 \nL 59.71875 67.09375 \nL 38.28125 67.09375 \nL 38.28125 5.171875 \nL 47.609375 5.171875 \nL 47.609375 0 \nz\n\" id=\"DejaVuSerif-84\"/>\n      <path d=\"M 4.890625 0 \nL 4.890625 5.171875 \nL 14.703125 5.171875 \nL 14.703125 67.671875 \nL 4.890625 67.671875 \nL 4.890625 72.90625 \nL 23.578125 72.90625 \nL 67.28125 15.375 \nL 67.28125 67.671875 \nL 57.515625 67.671875 \nL 57.515625 72.90625 \nL 83.109375 72.90625 \nL 83.109375 67.671875 \nL 73.296875 67.671875 \nL 73.296875 -1.421875 \nL 67.390625 -1.421875 \nL 20.703125 60.015625 \nL 20.703125 5.171875 \nL 30.515625 5.171875 \nL 30.515625 0 \nz\n\" id=\"DejaVuSerif-78\"/>\n     </defs>\n     <use xlink:href=\"#DejaVuSerif-84\"/>\n     <use x=\"66.699219\" xlink:href=\"#DejaVuSerif-78\"/>\n    </g>\n    <!-- 4421 -->\n    <g style=\"fill:#ffffff;\" transform=\"translate(98.799875 69.935)scale(0.16 -0.16)\">\n     <defs>\n      <path d=\"M 34.90625 24.703125 \nL 34.90625 63.484375 \nL 10.015625 24.703125 \nz\nM 56.390625 0 \nL 23.1875 0 \nL 23.1875 5.171875 \nL 34.90625 5.171875 \nL 34.90625 19.484375 \nL 3.078125 19.484375 \nL 3.078125 24.8125 \nL 35.015625 74.21875 \nL 44.671875 74.21875 \nL 44.671875 24.703125 \nL 58.59375 24.703125 \nL 58.59375 19.484375 \nL 44.671875 19.484375 \nL 44.671875 5.171875 \nL 56.390625 5.171875 \nz\n\" id=\"DejaVuSerif-52\"/>\n      <path d=\"M 12.796875 55.515625 \nL 7.328125 55.515625 \nL 7.328125 68.5 \nQ 12.546875 71.296875 17.84375 72.75 \nQ 23.140625 74.21875 28.21875 74.21875 \nQ 39.59375 74.21875 46.1875 68.703125 \nQ 52.78125 63.1875 52.78125 53.71875 \nQ 52.78125 43.015625 37.84375 28.125 \nQ 36.671875 27 36.078125 26.421875 \nL 17.671875 8.015625 \nL 48.09375 8.015625 \nL 48.09375 17 \nL 53.8125 17 \nL 53.8125 0 \nL 6.78125 0 \nL 6.78125 5.328125 \nL 28.90625 27.390625 \nQ 36.234375 34.71875 39.359375 40.84375 \nQ 42.484375 46.96875 42.484375 53.71875 \nQ 42.484375 61.078125 38.640625 65.234375 \nQ 34.8125 69.390625 28.078125 69.390625 \nQ 21.09375 69.390625 17.28125 65.921875 \nQ 13.484375 62.453125 12.796875 55.515625 \nz\n\" id=\"DejaVuSerif-50\"/>\n     </defs>\n     <use xlink:href=\"#DejaVuSerif-52\"/>\n     <use x=\"63.623047\" xlink:href=\"#DejaVuSerif-52\"/>\n     <use x=\"127.246094\" xlink:href=\"#DejaVuSerif-50\"/>\n     <use x=\"190.869141\" xlink:href=\"#DejaVuSerif-49\"/>\n    </g>\n    <!-- 73.68% -->\n    <g style=\"fill:#ffffff;\" transform=\"translate(88.656125 87.8515)scale(0.16 -0.16)\">\n     <defs>\n      <path d=\"M 56.390625 67.921875 \nL 27.875 0 \nL 20.609375 0 \nL 47.796875 64.890625 \nL 14.109375 64.890625 \nL 14.109375 55.90625 \nL 8.40625 55.90625 \nL 8.40625 72.90625 \nL 56.390625 72.90625 \nz\n\" id=\"DejaVuSerif-55\"/>\n      <path d=\"M 9.71875 69.828125 \nQ 15.4375 71.96875 20.671875 73.09375 \nQ 25.921875 74.21875 30.515625 74.21875 \nQ 41.21875 74.21875 47.21875 69.59375 \nQ 53.21875 64.984375 53.21875 56.78125 \nQ 53.21875 50.203125 49.0625 45.78125 \nQ 44.921875 41.359375 37.3125 39.796875 \nQ 46.296875 38.53125 51.25 33.28125 \nQ 56.203125 28.03125 56.203125 19.671875 \nQ 56.203125 9.46875 49.34375 4.015625 \nQ 42.484375 -1.421875 29.59375 -1.421875 \nQ 23.875 -1.421875 18.421875 -0.1875 \nQ 12.984375 1.03125 7.625 3.515625 \nL 7.625 17.671875 \nL 13.09375 17.671875 \nQ 13.578125 10.640625 17.828125 7.03125 \nQ 22.078125 3.421875 29.78125 3.421875 \nQ 37.25 3.421875 41.578125 7.734375 \nQ 45.90625 12.0625 45.90625 19.578125 \nQ 45.90625 28.171875 41.453125 32.59375 \nQ 37.015625 37.015625 28.421875 37.015625 \nL 23.78125 37.015625 \nL 23.78125 42 \nL 26.21875 42 \nQ 34.765625 42 39.03125 45.53125 \nQ 43.3125 49.078125 43.3125 56.203125 \nQ 43.3125 62.59375 39.796875 65.984375 \nQ 36.28125 69.390625 29.6875 69.390625 \nQ 23.09375 69.390625 19.453125 66.265625 \nQ 15.828125 63.140625 15.1875 56.984375 \nL 9.71875 56.984375 \nz\n\" id=\"DejaVuSerif-51\"/>\n      <path d=\"M 9.421875 5.078125 \nQ 9.421875 7.8125 11.28125 9.71875 \nQ 13.140625 11.625 15.921875 11.625 \nQ 18.609375 11.625 20.5 9.71875 \nQ 22.40625 7.8125 22.40625 5.078125 \nQ 22.40625 2.390625 20.5 0.484375 \nQ 18.609375 -1.421875 15.921875 -1.421875 \nQ 13.140625 -1.421875 11.28125 0.453125 \nQ 9.421875 2.34375 9.421875 5.078125 \nz\n\" id=\"DejaVuSerif-46\"/>\n      <path d=\"M 32.71875 3.421875 \nQ 39.59375 3.421875 43.296875 8.46875 \nQ 47.015625 13.53125 47.015625 23 \nQ 47.015625 32.46875 43.296875 37.515625 \nQ 39.59375 42.578125 32.71875 42.578125 \nQ 25.734375 42.578125 22.0625 37.6875 \nQ 18.40625 32.8125 18.40625 23.578125 \nQ 18.40625 13.875 22.109375 8.640625 \nQ 25.828125 3.421875 32.71875 3.421875 \nz\nM 16.796875 40.140625 \nQ 20.125 43.796875 24.3125 45.59375 \nQ 28.515625 47.40625 33.796875 47.40625 \nQ 44.671875 47.40625 51 40.859375 \nQ 57.328125 34.328125 57.328125 23 \nQ 57.328125 11.921875 50.515625 5.25 \nQ 43.703125 -1.421875 32.328125 -1.421875 \nQ 19.96875 -1.421875 13.328125 7.78125 \nQ 6.6875 17 6.6875 34.078125 \nQ 6.6875 53.21875 14.546875 63.71875 \nQ 22.40625 74.21875 36.71875 74.21875 \nQ 40.578125 74.21875 44.828125 73.484375 \nQ 49.078125 72.75 53.515625 71.296875 \nL 53.515625 59.28125 \nL 48 59.28125 \nQ 47.40625 64.203125 44.234375 66.796875 \nQ 41.0625 69.390625 35.6875 69.390625 \nQ 26.21875 69.390625 21.578125 62.203125 \nQ 16.9375 55.03125 16.796875 40.140625 \nz\n\" id=\"DejaVuSerif-54\"/>\n      <path d=\"M 46.578125 19.921875 \nQ 46.578125 27.734375 42.6875 32.046875 \nQ 38.8125 36.375 31.78125 36.375 \nQ 24.75 36.375 20.875 32.046875 \nQ 17 27.734375 17 19.921875 \nQ 17 12.0625 20.875 7.734375 \nQ 24.75 3.421875 31.78125 3.421875 \nQ 38.8125 3.421875 42.6875 7.734375 \nQ 46.578125 12.0625 46.578125 19.921875 \nz\nM 44.578125 55.328125 \nQ 44.578125 61.96875 41.203125 65.671875 \nQ 37.84375 69.390625 31.78125 69.390625 \nQ 25.78125 69.390625 22.390625 65.671875 \nQ 19 61.96875 19 55.328125 \nQ 19 48.640625 22.390625 44.921875 \nQ 25.78125 41.21875 31.78125 41.21875 \nQ 37.84375 41.21875 41.203125 44.921875 \nQ 44.578125 48.640625 44.578125 55.328125 \nz\nM 39.3125 38.8125 \nQ 47.609375 37.703125 52.25 32.6875 \nQ 56.890625 27.6875 56.890625 19.921875 \nQ 56.890625 9.671875 50.390625 4.125 \nQ 43.890625 -1.421875 31.78125 -1.421875 \nQ 19.734375 -1.421875 13.203125 4.125 \nQ 6.6875 9.671875 6.6875 19.921875 \nQ 6.6875 27.6875 11.328125 32.6875 \nQ 15.96875 37.703125 24.3125 38.8125 \nQ 16.9375 40.140625 13 44.40625 \nQ 9.078125 48.6875 9.078125 55.328125 \nQ 9.078125 64.109375 15.125 69.15625 \nQ 21.1875 74.21875 31.78125 74.21875 \nQ 42.390625 74.21875 48.4375 69.15625 \nQ 54.5 64.109375 54.5 55.328125 \nQ 54.5 48.6875 50.5625 44.40625 \nQ 46.625 40.140625 39.3125 38.8125 \nz\n\" id=\"DejaVuSerif-56\"/>\n      <path d=\"M 22.40625 69.671875 \nQ 18.109375 69.671875 15.6875 65.625 \nQ 13.28125 61.578125 13.28125 54.296875 \nQ 13.28125 47.125 15.75 43.015625 \nQ 18.21875 38.921875 22.40625 38.921875 \nQ 26.5625 38.921875 28.96875 43 \nQ 31.390625 47.078125 31.390625 54.296875 \nQ 31.390625 61.53125 28.96875 65.59375 \nQ 26.5625 69.671875 22.40625 69.671875 \nz\nM 72.703125 33.890625 \nQ 68.453125 33.890625 66.03125 29.78125 \nQ 63.625 25.6875 63.625 18.40625 \nQ 63.625 11.234375 66.0625 7.15625 \nQ 68.5 3.078125 72.703125 3.078125 \nQ 76.90625 3.078125 79.296875 7.15625 \nQ 81.6875 11.234375 81.6875 18.40625 \nQ 81.6875 25.640625 79.265625 29.765625 \nQ 76.859375 33.890625 72.703125 33.890625 \nz\nM 72.703125 38.28125 \nQ 80.421875 38.28125 84.953125 32.90625 \nQ 89.5 27.546875 89.5 18.40625 \nQ 89.5 9.28125 84.9375 3.921875 \nQ 80.375 -1.421875 72.703125 -1.421875 \nQ 64.890625 -1.421875 60.34375 3.921875 \nQ 55.8125 9.28125 55.8125 18.40625 \nQ 55.8125 27.59375 60.375 32.9375 \nQ 64.9375 38.28125 72.703125 38.28125 \nz\nM 66.609375 74.21875 \nL 74.03125 74.21875 \nL 28.421875 -1.421875 \nL 21 -1.421875 \nz\nM 22.3125 74.21875 \nQ 30.03125 74.21875 34.609375 68.875 \nQ 39.203125 63.53125 39.203125 54.390625 \nQ 39.203125 45.171875 34.640625 39.84375 \nQ 30.078125 34.515625 22.3125 34.515625 \nQ 14.546875 34.515625 10.03125 39.859375 \nQ 5.515625 45.21875 5.515625 54.390625 \nQ 5.515625 63.484375 10.046875 68.84375 \nQ 14.59375 74.21875 22.3125 74.21875 \nz\n\" id=\"DejaVuSerif-37\"/>\n     </defs>\n     <use xlink:href=\"#DejaVuSerif-55\"/>\n     <use x=\"63.623047\" xlink:href=\"#DejaVuSerif-51\"/>\n     <use x=\"127.246094\" xlink:href=\"#DejaVuSerif-46\"/>\n     <use x=\"159.033203\" xlink:href=\"#DejaVuSerif-54\"/>\n     <use x=\"222.65625\" xlink:href=\"#DejaVuSerif-56\"/>\n     <use x=\"286.279297\" xlink:href=\"#DejaVuSerif-37\"/>\n    </g>\n   </g>\n   <g id=\"text_6\">\n    <!-- FP -->\n    <g style=\"fill:#262626;\" transform=\"translate(258.562125 52.0185)scale(0.16 -0.16)\">\n     <defs>\n      <path d=\"M 5.515625 0 \nL 5.515625 5.171875 \nL 14.796875 5.171875 \nL 14.796875 67.671875 \nL 5.515625 67.671875 \nL 5.515625 72.90625 \nL 65.1875 72.90625 \nL 65.1875 56.6875 \nL 59.1875 56.6875 \nL 59.1875 66.890625 \nL 24.703125 66.890625 \nL 24.703125 42.484375 \nL 49.609375 42.484375 \nL 49.609375 51.609375 \nL 55.609375 51.609375 \nL 55.609375 27.390625 \nL 49.609375 27.390625 \nL 49.609375 36.53125 \nL 24.703125 36.53125 \nL 24.703125 5.171875 \nL 36.375 5.171875 \nL 36.375 0 \nz\n\" id=\"DejaVuSerif-70\"/>\n      <path d=\"M 24.703125 37.109375 \nL 37.59375 37.109375 \nQ 44.875 37.109375 48.671875 41.03125 \nQ 52.484375 44.96875 52.484375 52.390625 \nQ 52.484375 59.859375 48.671875 63.765625 \nQ 44.875 67.671875 37.59375 67.671875 \nL 24.703125 67.671875 \nz\nM 5.515625 0 \nL 5.515625 5.171875 \nL 14.796875 5.171875 \nL 14.796875 67.671875 \nL 5.515625 67.671875 \nL 5.515625 72.90625 \nL 39.984375 72.90625 \nQ 50.921875 72.90625 57.3125 67.359375 \nQ 63.71875 61.8125 63.71875 52.390625 \nQ 63.71875 43.015625 57.3125 37.453125 \nQ 50.921875 31.890625 39.984375 31.890625 \nL 24.703125 31.890625 \nL 24.703125 5.171875 \nL 35.984375 5.171875 \nL 35.984375 0 \nz\n\" id=\"DejaVuSerif-80\"/>\n     </defs>\n     <use xlink:href=\"#DejaVuSerif-70\"/>\n     <use x=\"69.384766\" xlink:href=\"#DejaVuSerif-80\"/>\n    </g>\n    <!-- 266 -->\n    <g style=\"fill:#262626;\" transform=\"translate(254.225875 69.935)scale(0.16 -0.16)\">\n     <use xlink:href=\"#DejaVuSerif-50\"/>\n     <use x=\"63.623047\" xlink:href=\"#DejaVuSerif-54\"/>\n     <use x=\"127.246094\" xlink:href=\"#DejaVuSerif-54\"/>\n    </g>\n    <!-- 4.43% -->\n    <g style=\"fill:#262626;\" transform=\"translate(244.082125 87.8515)scale(0.16 -0.16)\">\n     <use xlink:href=\"#DejaVuSerif-52\"/>\n     <use x=\"63.623047\" xlink:href=\"#DejaVuSerif-46\"/>\n     <use x=\"95.410156\" xlink:href=\"#DejaVuSerif-52\"/>\n     <use x=\"159.033203\" xlink:href=\"#DejaVuSerif-51\"/>\n     <use x=\"222.65625\" xlink:href=\"#DejaVuSerif-37\"/>\n    </g>\n   </g>\n   <g id=\"text_7\">\n    <!-- FN -->\n    <g style=\"fill:#262626;\" transform=\"translate(106.608625 168.6585)scale(0.16 -0.16)\">\n     <use xlink:href=\"#DejaVuSerif-70\"/>\n     <use x=\"69.384766\" xlink:href=\"#DejaVuSerif-78\"/>\n    </g>\n    <!-- 866 -->\n    <g style=\"fill:#262626;\" transform=\"translate(103.889875 186.575)scale(0.16 -0.16)\">\n     <use xlink:href=\"#DejaVuSerif-56\"/>\n     <use x=\"63.623047\" xlink:href=\"#DejaVuSerif-54\"/>\n     <use x=\"127.246094\" xlink:href=\"#DejaVuSerif-54\"/>\n    </g>\n    <!-- 14.43% -->\n    <g style=\"fill:#262626;\" transform=\"translate(88.656125 204.4915)scale(0.16 -0.16)\">\n     <use xlink:href=\"#DejaVuSerif-49\"/>\n     <use x=\"63.623047\" xlink:href=\"#DejaVuSerif-52\"/>\n     <use x=\"127.246094\" xlink:href=\"#DejaVuSerif-46\"/>\n     <use x=\"159.033203\" xlink:href=\"#DejaVuSerif-52\"/>\n     <use x=\"222.65625\" xlink:href=\"#DejaVuSerif-51\"/>\n     <use x=\"286.279297\" xlink:href=\"#DejaVuSerif-37\"/>\n    </g>\n   </g>\n   <g id=\"text_8\">\n    <!-- TP -->\n    <g style=\"fill:#262626;\" transform=\"translate(258.777125 168.6585)scale(0.16 -0.16)\">\n     <use xlink:href=\"#DejaVuSerif-84\"/>\n     <use x=\"66.699219\" xlink:href=\"#DejaVuSerif-80\"/>\n    </g>\n    <!-- 447 -->\n    <g style=\"fill:#262626;\" transform=\"translate(254.225875 186.575)scale(0.16 -0.16)\">\n     <use xlink:href=\"#DejaVuSerif-52\"/>\n     <use x=\"63.623047\" xlink:href=\"#DejaVuSerif-52\"/>\n     <use x=\"127.246094\" xlink:href=\"#DejaVuSerif-55\"/>\n    </g>\n    <!-- 7.45% -->\n    <g style=\"fill:#262626;\" transform=\"translate(244.082125 204.4915)scale(0.16 -0.16)\">\n     <defs>\n      <path d=\"M 50.296875 72.90625 \nL 50.296875 64.890625 \nL 16.890625 64.890625 \nL 16.890625 44 \nQ 19.4375 45.75 22.828125 46.625 \nQ 26.21875 47.515625 30.421875 47.515625 \nQ 42.234375 47.515625 49.0625 40.96875 \nQ 55.90625 34.421875 55.90625 23.09375 \nQ 55.90625 11.53125 49 5.046875 \nQ 42.09375 -1.421875 29.59375 -1.421875 \nQ 24.5625 -1.421875 19.28125 -0.1875 \nQ 14.015625 1.03125 8.5 3.515625 \nL 8.5 17.671875 \nL 14.015625 17.671875 \nQ 14.453125 10.75 18.421875 7.078125 \nQ 22.40625 3.421875 29.59375 3.421875 \nQ 37.3125 3.421875 41.453125 8.5 \nQ 45.609375 13.578125 45.609375 23.09375 \nQ 45.609375 32.5625 41.484375 37.609375 \nQ 37.359375 42.671875 29.59375 42.671875 \nQ 25.203125 42.671875 21.84375 41.109375 \nQ 18.5 39.546875 15.921875 36.28125 \nL 11.71875 36.28125 \nL 11.71875 72.90625 \nz\n\" id=\"DejaVuSerif-53\"/>\n     </defs>\n     <use xlink:href=\"#DejaVuSerif-55\"/>\n     <use x=\"63.623047\" xlink:href=\"#DejaVuSerif-46\"/>\n     <use x=\"95.410156\" xlink:href=\"#DejaVuSerif-52\"/>\n     <use x=\"159.033203\" xlink:href=\"#DejaVuSerif-53\"/>\n     <use x=\"222.65625\" xlink:href=\"#DejaVuSerif-37\"/>\n    </g>\n   </g>\n  </g>\n  <g id=\"axes_2\">\n   <g id=\"patch_3\">\n    <path clip-path=\"url(#pe675fca924)\" d=\"M 363.455875 240.48 \nL 363.455875 239.56875 \nL 363.455875 8.11125 \nL 363.455875 7.2 \nL 375.119875 7.2 \nL 375.119875 8.11125 \nL 375.119875 239.56875 \nL 375.119875 240.48 \nz\n\" style=\"fill:#eaeaf2;stroke:#eaeaf2;stroke-linejoin:miter;stroke-width:0.01;\"/>\n   </g>\n   <g id=\"matplotlib.axis_3\"/>\n   <g id=\"matplotlib.axis_4\">\n    <g id=\"ytick_3\">\n     <g id=\"line2d_1\">\n      <defs>\n       <path d=\"M 0 0 \nL 12 0 \n\" id=\"m7d0e2ade92\" style=\"stroke:#262626;stroke-width:2.5;\"/>\n      </defs>\n      <g>\n       <use style=\"fill:#262626;stroke:#262626;stroke-width:2.5;\" x=\"375.119875\" xlink:href=\"#m7d0e2ade92\" y=\"199.270007\"/>\n      </g>\n     </g>\n     <g id=\"text_9\">\n      <!-- 1000 -->\n      <g style=\"fill:#262626;\" transform=\"translate(390.619875 207.628288)scale(0.22 -0.22)\">\n       <use xlink:href=\"#DejaVuSerif-49\"/>\n       <use x=\"63.623047\" xlink:href=\"#DejaVuSerif-48\"/>\n       <use x=\"127.246094\" xlink:href=\"#DejaVuSerif-48\"/>\n       <use x=\"190.869141\" xlink:href=\"#DejaVuSerif-48\"/>\n      </g>\n     </g>\n    </g>\n    <g id=\"ytick_4\">\n     <g id=\"line2d_2\">\n      <g>\n       <use style=\"fill:#262626;stroke:#262626;stroke-width:2.5;\" x=\"375.119875\" xlink:href=\"#m7d0e2ade92\" y=\"143.125603\"/>\n      </g>\n     </g>\n     <g id=\"text_10\">\n      <!-- 2000 -->\n      <g style=\"fill:#262626;\" transform=\"translate(390.619875 151.483884)scale(0.22 -0.22)\">\n       <use xlink:href=\"#DejaVuSerif-50\"/>\n       <use x=\"63.623047\" xlink:href=\"#DejaVuSerif-48\"/>\n       <use x=\"127.246094\" xlink:href=\"#DejaVuSerif-48\"/>\n       <use x=\"190.869141\" xlink:href=\"#DejaVuSerif-48\"/>\n      </g>\n     </g>\n    </g>\n    <g id=\"ytick_5\">\n     <g id=\"line2d_3\">\n      <g>\n       <use style=\"fill:#262626;stroke:#262626;stroke-width:2.5;\" x=\"375.119875\" xlink:href=\"#m7d0e2ade92\" y=\"86.981199\"/>\n      </g>\n     </g>\n     <g id=\"text_11\">\n      <!-- 3000 -->\n      <g style=\"fill:#262626;\" transform=\"translate(390.619875 95.33948)scale(0.22 -0.22)\">\n       <use xlink:href=\"#DejaVuSerif-51\"/>\n       <use x=\"63.623047\" xlink:href=\"#DejaVuSerif-48\"/>\n       <use x=\"127.246094\" xlink:href=\"#DejaVuSerif-48\"/>\n       <use x=\"190.869141\" xlink:href=\"#DejaVuSerif-48\"/>\n      </g>\n     </g>\n    </g>\n    <g id=\"ytick_6\">\n     <g id=\"line2d_4\">\n      <g>\n       <use style=\"fill:#262626;stroke:#262626;stroke-width:2.5;\" x=\"375.119875\" xlink:href=\"#m7d0e2ade92\" y=\"30.836794\"/>\n      </g>\n     </g>\n     <g id=\"text_12\">\n      <!-- 4000 -->\n      <g style=\"fill:#262626;\" transform=\"translate(390.619875 39.195075)scale(0.22 -0.22)\">\n       <use xlink:href=\"#DejaVuSerif-52\"/>\n       <use x=\"63.623047\" xlink:href=\"#DejaVuSerif-48\"/>\n       <use x=\"127.246094\" xlink:href=\"#DejaVuSerif-48\"/>\n       <use x=\"190.869141\" xlink:href=\"#DejaVuSerif-48\"/>\n      </g>\n     </g>\n    </g>\n   </g>\n   <image height=\"233\" id=\"imagea214fcb4f2\" transform=\"scale(1 -1)translate(0 -233)\" width=\"12\" x=\"363\" xlink:href=\"data:image/png;base64,\niVBORw0KGgoAAAANSUhEUgAAAAwAAADpCAYAAAAQ/NbWAAABG0lEQVR4nO2YQQ4DIQwDU4n/P7eHSsA+oQySI5OlZyzHcWLYfr6/OQP82gx0Pho8Hw2ej8YUvFUDZzAsiZ3fMu58DQPWlDCt4dfWCqmBna4QZFfDCuCOxhoDBfhpGH4lVWirfuP0DPrR0BvnqAGvKBet1oBLyniR0S7JGQw1DLgQjkGW4TQEJGwcZehQdcJO4zDOaCsE8OGTl9T9hm+jrRCQccdRgLykTtNbP3yO167fLOk1bISAfqft2pqggRHsZCt+whXYB8vvOHkY87i3E12DQb5xfKcNu3QZBAxjsBeTp4bzfTB0mv8rnZB8akAJ0Qlxf334DzDUcENgBWAoOjBgdMqARwNrwAyGJfkxVHCaXlnvnKUKTp/P8ADX2/RTeCmmgQAAAABJRU5ErkJggg==\" y=\"-7\"/>\n   <g id=\"patch_4\">\n    <path d=\"M 363.455875 240.48 \nL 363.455875 239.56875 \nL 363.455875 8.11125 \nL 363.455875 7.2 \nL 375.119875 7.2 \nL 375.119875 8.11125 \nL 375.119875 239.56875 \nL 375.119875 240.48 \nz\n\" style=\"fill:none;\"/>\n   </g>\n  </g>\n </g>\n <defs>\n  <clipPath id=\"p52a709f33b\">\n   <rect height=\"233.28\" width=\"300.672\" x=\"43.991875\" y=\"7.2\"/>\n  </clipPath>\n  <clipPath id=\"pe675fca924\">\n   <rect height=\"233.28\" width=\"11.664\" x=\"363.455875\" y=\"7.2\"/>\n  </clipPath>\n </defs>\n</svg>\n",
      "image/png": "[encoded data removed]"
     },
     "metadata": {}
    }
   ],
   "source": [
    "bc = BaggingClassifier(n_estimators=50, random_state=42).fit(X_tr, y_tr)\n",
    "y_pred_bc_tr = bc.predict(X_tr)\n",
    "y_pred_bc_val = bc.predict(X_val)\n",
    "get_metrics(X_tr, y_tr, X_val, y_val, y_pred_bc_tr, y_pred_bc_val, bc)\n",
    "print(\"\")\n",
    "print('Bagging Classifier Performance:')\n",
    "print('Balanced training accuracy: {:.2f} - Geometric mean {:.2f}'.format(balanced_accuracy_score(y_tr, y_pred_bc_tr), geometric_mean_score(y_tr, y_pred_bc_tr)))\n",
    "print('Balanced validation accuracy: {:.2f} - Geometric mean {:.2f}'.format(balanced_accuracy_score(y_val, y_pred_bc_val), geometric_mean_score(y_val, y_pred_bc_val)))"
   ]
  },
  {
   "cell_type": "code",
   "execution_count": 22,
   "metadata": {
    "hidden": true
   },
   "outputs": [
    {
     "output_type": "stream",
     "name": "stdout",
     "text": [
      "Training Accuracy:  0.946\nValidation Accuracy:  0.7815\nTraining F1 Score:  0.8913793103448276\nValidation F1 Score:  0.5227520931925738\nTraining AUC Score:  0.9969609513900453\nValidation AUC Score:  0.7641678275588795\nTraining Recall Score:  0.9993556701030928\nValidation Recall Score:  0.5468392993145469\nTraining Precision Score:  0.8044605809128631\nValidation Precision Score:  0.500697350069735\nTraining Average Precision Score:  0.9874460704342363\nValidation Average Precision Score:  0.5144220523174241\n\nTraining Classification Report: \n              precision    recall  f1-score   support\n\n           0       1.00      0.93      0.96     16344\n           1       0.80      1.00      0.89      4656\n\n    accuracy                           0.95     21000\n   macro avg       0.90      0.97      0.93     21000\nweighted avg       0.96      0.95      0.95     21000\n\n\nValidation Classification Report: \n              precision    recall  f1-score   support\n\n           0       0.87      0.85      0.86      4687\n           1       0.50      0.55      0.52      1313\n\n    accuracy                           0.78      6000\n   macro avg       0.69      0.70      0.69      6000\nweighted avg       0.79      0.78      0.78      6000\n\n\nBalanced Bagging Classifier Performance:\nBalanced training accuracy: 0.97 - Geometric mean 0.00\nBalanced validation accuracy: 0.70 - Geometric mean 0.68\n"
     ]
    },
    {
     "output_type": "display_data",
     "data": {
      "text/plain": "<Figure size 432x288 with 2 Axes>",
      "image/svg+xml": "<?xml version=\"1.0\" encoding=\"utf-8\" standalone=\"no\"?>\n<!DOCTYPE svg PUBLIC \"-//W3C//DTD SVG 1.1//EN\"\n  \"http://www.w3.org/Graphics/SVG/1.1/DTD/svg11.dtd\">\n<!-- Created with matplotlib (https://matplotlib.org/) -->\n<svg height=\"284.471875pt\" version=\"1.1\" viewBox=\"0 0 453.809875 284.471875\" width=\"453.809875pt\" xmlns=\"http://www.w3.org/2000/svg\" xmlns:xlink=\"http://www.w3.org/1999/xlink\">\n <metadata>\n  <rdf:RDF xmlns:cc=\"http://creativecommons.org/ns#\" xmlns:dc=\"http://purl.org/dc/elements/1.1/\" xmlns:rdf=\"http://www.w3.org/1999/02/22-rdf-syntax-ns#\">\n   <cc:Work>\n    <dc:type rdf:resource=\"http://purl.org/dc/dcmitype/StillImage\"/>\n    <dc:date>2021-02-19T08:30:02.799846</dc:date>\n    <dc:format>image/svg+xml</dc:format>\n    <dc:creator>\n     <cc:Agent>\n      <dc:title>Matplotlib v3.3.3, https://matplotlib.org/</dc:title>\n     </cc:Agent>\n    </dc:creator>\n   </cc:Work>\n  </rdf:RDF>\n </metadata>\n <defs>\n  <style type=\"text/css\">*{stroke-linecap:butt;stroke-linejoin:round;}</style>\n </defs>\n <g id=\"figure_1\">\n  <g id=\"patch_1\">\n   <path d=\"M 0 284.471875 \nL 453.809875 284.471875 \nL 453.809875 0 \nL 0 0 \nz\n\" style=\"fill:#ffffff;\"/>\n  </g>\n  <g id=\"axes_1\">\n   <g id=\"patch_2\">\n    <path d=\"M 43.991875 240.48 \nL 344.663875 240.48 \nL 344.663875 7.2 \nL 43.991875 7.2 \nz\n\" style=\"fill:#eaeaf2;\"/>\n   </g>\n   <g id=\"matplotlib.axis_1\">\n    <g id=\"xtick_1\">\n     <g id=\"text_1\">\n      <!-- 0 -->\n      <g style=\"fill:#262626;\" transform=\"translate(112.161125 272.696563)scale(0.22 -0.22)\">\n       <defs>\n        <path d=\"M 31.78125 3.421875 \nQ 39.265625 3.421875 42.96875 11.625 \nQ 46.6875 19.828125 46.6875 36.375 \nQ 46.6875 52.984375 42.96875 61.1875 \nQ 39.265625 69.390625 31.78125 69.390625 \nQ 24.3125 69.390625 20.59375 61.1875 \nQ 16.890625 52.984375 16.890625 36.375 \nQ 16.890625 19.828125 20.59375 11.625 \nQ 24.3125 3.421875 31.78125 3.421875 \nz\nM 31.78125 -1.421875 \nQ 19.921875 -1.421875 13.25 8.53125 \nQ 6.59375 18.5 6.59375 36.375 \nQ 6.59375 54.296875 13.25 64.25 \nQ 19.921875 74.21875 31.78125 74.21875 \nQ 43.703125 74.21875 50.34375 64.25 \nQ 56.984375 54.296875 56.984375 36.375 \nQ 56.984375 18.5 50.34375 8.53125 \nQ 43.703125 -1.421875 31.78125 -1.421875 \nz\n\" id=\"DejaVuSerif-48\"/>\n       </defs>\n       <use xlink:href=\"#DejaVuSerif-48\"/>\n      </g>\n     </g>\n    </g>\n    <g id=\"xtick_2\">\n     <g id=\"text_2\">\n      <!-- 1 -->\n      <g style=\"fill:#262626;\" transform=\"translate(262.497125 272.696563)scale(0.22 -0.22)\">\n       <defs>\n        <path d=\"M 14.203125 0 \nL 14.203125 5.171875 \nL 26.90625 5.171875 \nL 26.90625 65.828125 \nL 12.203125 56.296875 \nL 12.203125 62.703125 \nL 29.984375 74.21875 \nL 36.71875 74.21875 \nL 36.71875 5.171875 \nL 49.421875 5.171875 \nL 49.421875 0 \nz\n\" id=\"DejaVuSerif-49\"/>\n       </defs>\n       <use xlink:href=\"#DejaVuSerif-49\"/>\n      </g>\n     </g>\n    </g>\n   </g>\n   <g id=\"matplotlib.axis_2\">\n    <g id=\"ytick_1\">\n     <g id=\"text_3\">\n      <!-- 0 -->\n      <g style=\"fill:#262626;\" transform=\"translate(23.916563 71.159219)rotate(-90)scale(0.22 -0.22)\">\n       <use xlink:href=\"#DejaVuSerif-48\"/>\n      </g>\n     </g>\n    </g>\n    <g id=\"ytick_2\">\n     <g id=\"text_4\">\n      <!-- 1 -->\n      <g style=\"fill:#262626;\" transform=\"translate(23.916563 187.799219)rotate(-90)scale(0.22 -0.22)\">\n       <use xlink:href=\"#DejaVuSerif-49\"/>\n      </g>\n     </g>\n    </g>\n   </g>\n   <g id=\"QuadMesh_1\">\n    <path clip-path=\"url(#pdd3efe902c)\" d=\"M 43.991875 7.2 \nL 194.327875 7.2 \nL 194.327875 123.84 \nL 43.991875 123.84 \nL 43.991875 7.2 \n\" style=\"fill:#08306b;\"/>\n    <path clip-path=\"url(#pdd3efe902c)\" d=\"M 194.327875 7.2 \nL 344.663875 7.2 \nL 344.663875 123.84 \nL 194.327875 123.84 \nL 194.327875 7.2 \n\" style=\"fill:#f0f6fd;\"/>\n    <path clip-path=\"url(#pdd3efe902c)\" d=\"M 43.991875 123.84 \nL 194.327875 123.84 \nL 194.327875 240.48 \nL 43.991875 240.48 \nL 43.991875 123.84 \n\" style=\"fill:#f7fbff;\"/>\n    <path clip-path=\"url(#pdd3efe902c)\" d=\"M 194.327875 123.84 \nL 344.663875 123.84 \nL 344.663875 240.48 \nL 194.327875 240.48 \nL 194.327875 123.84 \n\" style=\"fill:#f0f6fd;\"/>\n   </g>\n   <g id=\"text_5\">\n    <!-- TN -->\n    <g style=\"fill:#ffffff;\" transform=\"translate(106.823625 52.0185)scale(0.16 -0.16)\">\n     <defs>\n      <path d=\"M 19.09375 0 \nL 19.09375 5.171875 \nL 28.421875 5.171875 \nL 28.421875 67.09375 \nL 6.984375 67.09375 \nL 6.984375 55.71875 \nL 0.984375 55.71875 \nL 0.984375 72.90625 \nL 65.71875 72.90625 \nL 65.71875 55.71875 \nL 59.71875 55.71875 \nL 59.71875 67.09375 \nL 38.28125 67.09375 \nL 38.28125 5.171875 \nL 47.609375 5.171875 \nL 47.609375 0 \nz\n\" id=\"DejaVuSerif-84\"/>\n      <path d=\"M 4.890625 0 \nL 4.890625 5.171875 \nL 14.703125 5.171875 \nL 14.703125 67.671875 \nL 4.890625 67.671875 \nL 4.890625 72.90625 \nL 23.578125 72.90625 \nL 67.28125 15.375 \nL 67.28125 67.671875 \nL 57.515625 67.671875 \nL 57.515625 72.90625 \nL 83.109375 72.90625 \nL 83.109375 67.671875 \nL 73.296875 67.671875 \nL 73.296875 -1.421875 \nL 67.390625 -1.421875 \nL 20.703125 60.015625 \nL 20.703125 5.171875 \nL 30.515625 5.171875 \nL 30.515625 0 \nz\n\" id=\"DejaVuSerif-78\"/>\n     </defs>\n     <use xlink:href=\"#DejaVuSerif-84\"/>\n     <use x=\"66.699219\" xlink:href=\"#DejaVuSerif-78\"/>\n    </g>\n    <!-- 3971 -->\n    <g style=\"fill:#ffffff;\" transform=\"translate(98.799875 69.935)scale(0.16 -0.16)\">\n     <defs>\n      <path d=\"M 9.71875 69.828125 \nQ 15.4375 71.96875 20.671875 73.09375 \nQ 25.921875 74.21875 30.515625 74.21875 \nQ 41.21875 74.21875 47.21875 69.59375 \nQ 53.21875 64.984375 53.21875 56.78125 \nQ 53.21875 50.203125 49.0625 45.78125 \nQ 44.921875 41.359375 37.3125 39.796875 \nQ 46.296875 38.53125 51.25 33.28125 \nQ 56.203125 28.03125 56.203125 19.671875 \nQ 56.203125 9.46875 49.34375 4.015625 \nQ 42.484375 -1.421875 29.59375 -1.421875 \nQ 23.875 -1.421875 18.421875 -0.1875 \nQ 12.984375 1.03125 7.625 3.515625 \nL 7.625 17.671875 \nL 13.09375 17.671875 \nQ 13.578125 10.640625 17.828125 7.03125 \nQ 22.078125 3.421875 29.78125 3.421875 \nQ 37.25 3.421875 41.578125 7.734375 \nQ 45.90625 12.0625 45.90625 19.578125 \nQ 45.90625 28.171875 41.453125 32.59375 \nQ 37.015625 37.015625 28.421875 37.015625 \nL 23.78125 37.015625 \nL 23.78125 42 \nL 26.21875 42 \nQ 34.765625 42 39.03125 45.53125 \nQ 43.3125 49.078125 43.3125 56.203125 \nQ 43.3125 62.59375 39.796875 65.984375 \nQ 36.28125 69.390625 29.6875 69.390625 \nQ 23.09375 69.390625 19.453125 66.265625 \nQ 15.828125 63.140625 15.1875 56.984375 \nL 9.71875 56.984375 \nz\n\" id=\"DejaVuSerif-51\"/>\n      <path d=\"M 46.78125 32.671875 \nQ 43.5 29 39.25 27.1875 \nQ 35.015625 25.390625 29.6875 25.390625 \nQ 18.84375 25.390625 12.5625 31.9375 \nQ 6.296875 38.484375 6.296875 49.8125 \nQ 6.296875 60.890625 13.109375 67.546875 \nQ 19.921875 74.21875 31.296875 74.21875 \nQ 43.65625 74.21875 50.265625 65.015625 \nQ 56.890625 55.8125 56.890625 38.71875 \nQ 56.890625 19.578125 49.015625 9.078125 \nQ 41.15625 -1.421875 26.90625 -1.421875 \nQ 23.046875 -1.421875 18.796875 -0.6875 \nQ 14.546875 0.046875 10.109375 1.515625 \nL 10.109375 13.625 \nL 15.578125 13.625 \nQ 16.21875 8.6875 19.390625 6.046875 \nQ 22.5625 3.421875 27.875 3.421875 \nQ 37.359375 3.421875 41.984375 10.5625 \nQ 46.625 17.71875 46.78125 32.671875 \nz\nM 30.90625 69.390625 \nQ 23.96875 69.390625 20.28125 64.328125 \nQ 16.609375 59.28125 16.609375 49.8125 \nQ 16.609375 40.328125 20.28125 35.25 \nQ 23.96875 30.171875 30.90625 30.171875 \nQ 37.84375 30.171875 41.53125 35.078125 \nQ 45.21875 39.984375 45.21875 49.21875 \nQ 45.21875 58.9375 41.5 64.15625 \nQ 37.796875 69.390625 30.90625 69.390625 \nz\n\" id=\"DejaVuSerif-57\"/>\n      <path d=\"M 56.390625 67.921875 \nL 27.875 0 \nL 20.609375 0 \nL 47.796875 64.890625 \nL 14.109375 64.890625 \nL 14.109375 55.90625 \nL 8.40625 55.90625 \nL 8.40625 72.90625 \nL 56.390625 72.90625 \nz\n\" id=\"DejaVuSerif-55\"/>\n     </defs>\n     <use xlink:href=\"#DejaVuSerif-51\"/>\n     <use x=\"63.623047\" xlink:href=\"#DejaVuSerif-57\"/>\n     <use x=\"127.246094\" xlink:href=\"#DejaVuSerif-55\"/>\n     <use x=\"190.869141\" xlink:href=\"#DejaVuSerif-49\"/>\n    </g>\n    <!-- 66.18% -->\n    <g style=\"fill:#ffffff;\" transform=\"translate(88.656125 87.8515)scale(0.16 -0.16)\">\n     <defs>\n      <path d=\"M 32.71875 3.421875 \nQ 39.59375 3.421875 43.296875 8.46875 \nQ 47.015625 13.53125 47.015625 23 \nQ 47.015625 32.46875 43.296875 37.515625 \nQ 39.59375 42.578125 32.71875 42.578125 \nQ 25.734375 42.578125 22.0625 37.6875 \nQ 18.40625 32.8125 18.40625 23.578125 \nQ 18.40625 13.875 22.109375 8.640625 \nQ 25.828125 3.421875 32.71875 3.421875 \nz\nM 16.796875 40.140625 \nQ 20.125 43.796875 24.3125 45.59375 \nQ 28.515625 47.40625 33.796875 47.40625 \nQ 44.671875 47.40625 51 40.859375 \nQ 57.328125 34.328125 57.328125 23 \nQ 57.328125 11.921875 50.515625 5.25 \nQ 43.703125 -1.421875 32.328125 -1.421875 \nQ 19.96875 -1.421875 13.328125 7.78125 \nQ 6.6875 17 6.6875 34.078125 \nQ 6.6875 53.21875 14.546875 63.71875 \nQ 22.40625 74.21875 36.71875 74.21875 \nQ 40.578125 74.21875 44.828125 73.484375 \nQ 49.078125 72.75 53.515625 71.296875 \nL 53.515625 59.28125 \nL 48 59.28125 \nQ 47.40625 64.203125 44.234375 66.796875 \nQ 41.0625 69.390625 35.6875 69.390625 \nQ 26.21875 69.390625 21.578125 62.203125 \nQ 16.9375 55.03125 16.796875 40.140625 \nz\n\" id=\"DejaVuSerif-54\"/>\n      <path d=\"M 9.421875 5.078125 \nQ 9.421875 7.8125 11.28125 9.71875 \nQ 13.140625 11.625 15.921875 11.625 \nQ 18.609375 11.625 20.5 9.71875 \nQ 22.40625 7.8125 22.40625 5.078125 \nQ 22.40625 2.390625 20.5 0.484375 \nQ 18.609375 -1.421875 15.921875 -1.421875 \nQ 13.140625 -1.421875 11.28125 0.453125 \nQ 9.421875 2.34375 9.421875 5.078125 \nz\n\" id=\"DejaVuSerif-46\"/>\n      <path d=\"M 46.578125 19.921875 \nQ 46.578125 27.734375 42.6875 32.046875 \nQ 38.8125 36.375 31.78125 36.375 \nQ 24.75 36.375 20.875 32.046875 \nQ 17 27.734375 17 19.921875 \nQ 17 12.0625 20.875 7.734375 \nQ 24.75 3.421875 31.78125 3.421875 \nQ 38.8125 3.421875 42.6875 7.734375 \nQ 46.578125 12.0625 46.578125 19.921875 \nz\nM 44.578125 55.328125 \nQ 44.578125 61.96875 41.203125 65.671875 \nQ 37.84375 69.390625 31.78125 69.390625 \nQ 25.78125 69.390625 22.390625 65.671875 \nQ 19 61.96875 19 55.328125 \nQ 19 48.640625 22.390625 44.921875 \nQ 25.78125 41.21875 31.78125 41.21875 \nQ 37.84375 41.21875 41.203125 44.921875 \nQ 44.578125 48.640625 44.578125 55.328125 \nz\nM 39.3125 38.8125 \nQ 47.609375 37.703125 52.25 32.6875 \nQ 56.890625 27.6875 56.890625 19.921875 \nQ 56.890625 9.671875 50.390625 4.125 \nQ 43.890625 -1.421875 31.78125 -1.421875 \nQ 19.734375 -1.421875 13.203125 4.125 \nQ 6.6875 9.671875 6.6875 19.921875 \nQ 6.6875 27.6875 11.328125 32.6875 \nQ 15.96875 37.703125 24.3125 38.8125 \nQ 16.9375 40.140625 13 44.40625 \nQ 9.078125 48.6875 9.078125 55.328125 \nQ 9.078125 64.109375 15.125 69.15625 \nQ 21.1875 74.21875 31.78125 74.21875 \nQ 42.390625 74.21875 48.4375 69.15625 \nQ 54.5 64.109375 54.5 55.328125 \nQ 54.5 48.6875 50.5625 44.40625 \nQ 46.625 40.140625 39.3125 38.8125 \nz\n\" id=\"DejaVuSerif-56\"/>\n      <path d=\"M 22.40625 69.671875 \nQ 18.109375 69.671875 15.6875 65.625 \nQ 13.28125 61.578125 13.28125 54.296875 \nQ 13.28125 47.125 15.75 43.015625 \nQ 18.21875 38.921875 22.40625 38.921875 \nQ 26.5625 38.921875 28.96875 43 \nQ 31.390625 47.078125 31.390625 54.296875 \nQ 31.390625 61.53125 28.96875 65.59375 \nQ 26.5625 69.671875 22.40625 69.671875 \nz\nM 72.703125 33.890625 \nQ 68.453125 33.890625 66.03125 29.78125 \nQ 63.625 25.6875 63.625 18.40625 \nQ 63.625 11.234375 66.0625 7.15625 \nQ 68.5 3.078125 72.703125 3.078125 \nQ 76.90625 3.078125 79.296875 7.15625 \nQ 81.6875 11.234375 81.6875 18.40625 \nQ 81.6875 25.640625 79.265625 29.765625 \nQ 76.859375 33.890625 72.703125 33.890625 \nz\nM 72.703125 38.28125 \nQ 80.421875 38.28125 84.953125 32.90625 \nQ 89.5 27.546875 89.5 18.40625 \nQ 89.5 9.28125 84.9375 3.921875 \nQ 80.375 -1.421875 72.703125 -1.421875 \nQ 64.890625 -1.421875 60.34375 3.921875 \nQ 55.8125 9.28125 55.8125 18.40625 \nQ 55.8125 27.59375 60.375 32.9375 \nQ 64.9375 38.28125 72.703125 38.28125 \nz\nM 66.609375 74.21875 \nL 74.03125 74.21875 \nL 28.421875 -1.421875 \nL 21 -1.421875 \nz\nM 22.3125 74.21875 \nQ 30.03125 74.21875 34.609375 68.875 \nQ 39.203125 63.53125 39.203125 54.390625 \nQ 39.203125 45.171875 34.640625 39.84375 \nQ 30.078125 34.515625 22.3125 34.515625 \nQ 14.546875 34.515625 10.03125 39.859375 \nQ 5.515625 45.21875 5.515625 54.390625 \nQ 5.515625 63.484375 10.046875 68.84375 \nQ 14.59375 74.21875 22.3125 74.21875 \nz\n\" id=\"DejaVuSerif-37\"/>\n     </defs>\n     <use xlink:href=\"#DejaVuSerif-54\"/>\n     <use x=\"63.623047\" xlink:href=\"#DejaVuSerif-54\"/>\n     <use x=\"127.246094\" xlink:href=\"#DejaVuSerif-46\"/>\n     <use x=\"159.033203\" xlink:href=\"#DejaVuSerif-49\"/>\n     <use x=\"222.65625\" xlink:href=\"#DejaVuSerif-56\"/>\n     <use x=\"286.279297\" xlink:href=\"#DejaVuSerif-37\"/>\n    </g>\n   </g>\n   <g id=\"text_6\">\n    <!-- FP -->\n    <g style=\"fill:#262626;\" transform=\"translate(258.562125 52.0185)scale(0.16 -0.16)\">\n     <defs>\n      <path d=\"M 5.515625 0 \nL 5.515625 5.171875 \nL 14.796875 5.171875 \nL 14.796875 67.671875 \nL 5.515625 67.671875 \nL 5.515625 72.90625 \nL 65.1875 72.90625 \nL 65.1875 56.6875 \nL 59.1875 56.6875 \nL 59.1875 66.890625 \nL 24.703125 66.890625 \nL 24.703125 42.484375 \nL 49.609375 42.484375 \nL 49.609375 51.609375 \nL 55.609375 51.609375 \nL 55.609375 27.390625 \nL 49.609375 27.390625 \nL 49.609375 36.53125 \nL 24.703125 36.53125 \nL 24.703125 5.171875 \nL 36.375 5.171875 \nL 36.375 0 \nz\n\" id=\"DejaVuSerif-70\"/>\n      <path d=\"M 24.703125 37.109375 \nL 37.59375 37.109375 \nQ 44.875 37.109375 48.671875 41.03125 \nQ 52.484375 44.96875 52.484375 52.390625 \nQ 52.484375 59.859375 48.671875 63.765625 \nQ 44.875 67.671875 37.59375 67.671875 \nL 24.703125 67.671875 \nz\nM 5.515625 0 \nL 5.515625 5.171875 \nL 14.796875 5.171875 \nL 14.796875 67.671875 \nL 5.515625 67.671875 \nL 5.515625 72.90625 \nL 39.984375 72.90625 \nQ 50.921875 72.90625 57.3125 67.359375 \nQ 63.71875 61.8125 63.71875 52.390625 \nQ 63.71875 43.015625 57.3125 37.453125 \nQ 50.921875 31.890625 39.984375 31.890625 \nL 24.703125 31.890625 \nL 24.703125 5.171875 \nL 35.984375 5.171875 \nL 35.984375 0 \nz\n\" id=\"DejaVuSerif-80\"/>\n     </defs>\n     <use xlink:href=\"#DejaVuSerif-70\"/>\n     <use x=\"69.384766\" xlink:href=\"#DejaVuSerif-80\"/>\n    </g>\n    <!-- 716 -->\n    <g style=\"fill:#262626;\" transform=\"translate(254.225875 69.935)scale(0.16 -0.16)\">\n     <use xlink:href=\"#DejaVuSerif-55\"/>\n     <use x=\"63.623047\" xlink:href=\"#DejaVuSerif-49\"/>\n     <use x=\"127.246094\" xlink:href=\"#DejaVuSerif-54\"/>\n    </g>\n    <!-- 11.93% -->\n    <g style=\"fill:#262626;\" transform=\"translate(238.992125 87.8515)scale(0.16 -0.16)\">\n     <use xlink:href=\"#DejaVuSerif-49\"/>\n     <use x=\"63.623047\" xlink:href=\"#DejaVuSerif-49\"/>\n     <use x=\"127.246094\" xlink:href=\"#DejaVuSerif-46\"/>\n     <use x=\"159.033203\" xlink:href=\"#DejaVuSerif-57\"/>\n     <use x=\"222.65625\" xlink:href=\"#DejaVuSerif-51\"/>\n     <use x=\"286.279297\" xlink:href=\"#DejaVuSerif-37\"/>\n    </g>\n   </g>\n   <g id=\"text_7\">\n    <!-- FN -->\n    <g style=\"fill:#262626;\" transform=\"translate(106.608625 168.6585)scale(0.16 -0.16)\">\n     <use xlink:href=\"#DejaVuSerif-70\"/>\n     <use x=\"69.384766\" xlink:href=\"#DejaVuSerif-78\"/>\n    </g>\n    <!-- 595 -->\n    <g style=\"fill:#262626;\" transform=\"translate(103.889875 186.575)scale(0.16 -0.16)\">\n     <defs>\n      <path d=\"M 50.296875 72.90625 \nL 50.296875 64.890625 \nL 16.890625 64.890625 \nL 16.890625 44 \nQ 19.4375 45.75 22.828125 46.625 \nQ 26.21875 47.515625 30.421875 47.515625 \nQ 42.234375 47.515625 49.0625 40.96875 \nQ 55.90625 34.421875 55.90625 23.09375 \nQ 55.90625 11.53125 49 5.046875 \nQ 42.09375 -1.421875 29.59375 -1.421875 \nQ 24.5625 -1.421875 19.28125 -0.1875 \nQ 14.015625 1.03125 8.5 3.515625 \nL 8.5 17.671875 \nL 14.015625 17.671875 \nQ 14.453125 10.75 18.421875 7.078125 \nQ 22.40625 3.421875 29.59375 3.421875 \nQ 37.3125 3.421875 41.453125 8.5 \nQ 45.609375 13.578125 45.609375 23.09375 \nQ 45.609375 32.5625 41.484375 37.609375 \nQ 37.359375 42.671875 29.59375 42.671875 \nQ 25.203125 42.671875 21.84375 41.109375 \nQ 18.5 39.546875 15.921875 36.28125 \nL 11.71875 36.28125 \nL 11.71875 72.90625 \nz\n\" id=\"DejaVuSerif-53\"/>\n     </defs>\n     <use xlink:href=\"#DejaVuSerif-53\"/>\n     <use x=\"63.623047\" xlink:href=\"#DejaVuSerif-57\"/>\n     <use x=\"127.246094\" xlink:href=\"#DejaVuSerif-53\"/>\n    </g>\n    <!-- 9.92% -->\n    <g style=\"fill:#262626;\" transform=\"translate(93.746125 204.4915)scale(0.16 -0.16)\">\n     <defs>\n      <path d=\"M 12.796875 55.515625 \nL 7.328125 55.515625 \nL 7.328125 68.5 \nQ 12.546875 71.296875 17.84375 72.75 \nQ 23.140625 74.21875 28.21875 74.21875 \nQ 39.59375 74.21875 46.1875 68.703125 \nQ 52.78125 63.1875 52.78125 53.71875 \nQ 52.78125 43.015625 37.84375 28.125 \nQ 36.671875 27 36.078125 26.421875 \nL 17.671875 8.015625 \nL 48.09375 8.015625 \nL 48.09375 17 \nL 53.8125 17 \nL 53.8125 0 \nL 6.78125 0 \nL 6.78125 5.328125 \nL 28.90625 27.390625 \nQ 36.234375 34.71875 39.359375 40.84375 \nQ 42.484375 46.96875 42.484375 53.71875 \nQ 42.484375 61.078125 38.640625 65.234375 \nQ 34.8125 69.390625 28.078125 69.390625 \nQ 21.09375 69.390625 17.28125 65.921875 \nQ 13.484375 62.453125 12.796875 55.515625 \nz\n\" id=\"DejaVuSerif-50\"/>\n     </defs>\n     <use xlink:href=\"#DejaVuSerif-57\"/>\n     <use x=\"63.623047\" xlink:href=\"#DejaVuSerif-46\"/>\n     <use x=\"95.410156\" xlink:href=\"#DejaVuSerif-57\"/>\n     <use x=\"159.033203\" xlink:href=\"#DejaVuSerif-50\"/>\n     <use x=\"222.65625\" xlink:href=\"#DejaVuSerif-37\"/>\n    </g>\n   </g>\n   <g id=\"text_8\">\n    <!-- TP -->\n    <g style=\"fill:#262626;\" transform=\"translate(258.777125 168.6585)scale(0.16 -0.16)\">\n     <use xlink:href=\"#DejaVuSerif-84\"/>\n     <use x=\"66.699219\" xlink:href=\"#DejaVuSerif-80\"/>\n    </g>\n    <!-- 718 -->\n    <g style=\"fill:#262626;\" transform=\"translate(254.225875 186.575)scale(0.16 -0.16)\">\n     <use xlink:href=\"#DejaVuSerif-55\"/>\n     <use x=\"63.623047\" xlink:href=\"#DejaVuSerif-49\"/>\n     <use x=\"127.246094\" xlink:href=\"#DejaVuSerif-56\"/>\n    </g>\n    <!-- 11.97% -->\n    <g style=\"fill:#262626;\" transform=\"translate(238.992125 204.4915)scale(0.16 -0.16)\">\n     <use xlink:href=\"#DejaVuSerif-49\"/>\n     <use x=\"63.623047\" xlink:href=\"#DejaVuSerif-49\"/>\n     <use x=\"127.246094\" xlink:href=\"#DejaVuSerif-46\"/>\n     <use x=\"159.033203\" xlink:href=\"#DejaVuSerif-57\"/>\n     <use x=\"222.65625\" xlink:href=\"#DejaVuSerif-55\"/>\n     <use x=\"286.279297\" xlink:href=\"#DejaVuSerif-37\"/>\n    </g>\n   </g>\n  </g>\n  <g id=\"axes_2\">\n   <g id=\"patch_3\">\n    <path clip-path=\"url(#paf14cf2705)\" d=\"M 363.455875 240.48 \nL 363.455875 239.56875 \nL 363.455875 8.11125 \nL 363.455875 7.2 \nL 375.119875 7.2 \nL 375.119875 8.11125 \nL 375.119875 239.56875 \nL 375.119875 240.48 \nz\n\" style=\"fill:#eaeaf2;stroke:#eaeaf2;stroke-linejoin:miter;stroke-width:0.01;\"/>\n   </g>\n   <g id=\"matplotlib.axis_3\"/>\n   <g id=\"matplotlib.axis_4\">\n    <g id=\"ytick_3\">\n     <g id=\"line2d_1\">\n      <defs>\n       <path d=\"M 0 0 \nL 12 0 \n\" id=\"me732888855\" style=\"stroke:#262626;stroke-width:2.5;\"/>\n      </defs>\n      <g>\n       <use style=\"fill:#262626;stroke:#262626;stroke-width:2.5;\" x=\"375.119875\" xlink:href=\"#me732888855\" y=\"212.494692\"/>\n      </g>\n     </g>\n     <g id=\"text_9\">\n      <!-- 1000 -->\n      <g style=\"fill:#262626;\" transform=\"translate(390.619875 220.852973)scale(0.22 -0.22)\">\n       <use xlink:href=\"#DejaVuSerif-49\"/>\n       <use x=\"63.623047\" xlink:href=\"#DejaVuSerif-48\"/>\n       <use x=\"127.246094\" xlink:href=\"#DejaVuSerif-48\"/>\n       <use x=\"190.869141\" xlink:href=\"#DejaVuSerif-48\"/>\n      </g>\n     </g>\n    </g>\n    <g id=\"ytick_4\">\n     <g id=\"line2d_2\">\n      <g>\n       <use style=\"fill:#262626;stroke:#262626;stroke-width:2.5;\" x=\"375.119875\" xlink:href=\"#me732888855\" y=\"143.395166\"/>\n      </g>\n     </g>\n     <g id=\"text_10\">\n      <!-- 2000 -->\n      <g style=\"fill:#262626;\" transform=\"translate(390.619875 151.753447)scale(0.22 -0.22)\">\n       <use xlink:href=\"#DejaVuSerif-50\"/>\n       <use x=\"63.623047\" xlink:href=\"#DejaVuSerif-48\"/>\n       <use x=\"127.246094\" xlink:href=\"#DejaVuSerif-48\"/>\n       <use x=\"190.869141\" xlink:href=\"#DejaVuSerif-48\"/>\n      </g>\n     </g>\n    </g>\n    <g id=\"ytick_5\">\n     <g id=\"line2d_3\">\n      <g>\n       <use style=\"fill:#262626;stroke:#262626;stroke-width:2.5;\" x=\"375.119875\" xlink:href=\"#me732888855\" y=\"74.29564\"/>\n      </g>\n     </g>\n     <g id=\"text_11\">\n      <!-- 3000 -->\n      <g style=\"fill:#262626;\" transform=\"translate(390.619875 82.653921)scale(0.22 -0.22)\">\n       <use xlink:href=\"#DejaVuSerif-51\"/>\n       <use x=\"63.623047\" xlink:href=\"#DejaVuSerif-48\"/>\n       <use x=\"127.246094\" xlink:href=\"#DejaVuSerif-48\"/>\n       <use x=\"190.869141\" xlink:href=\"#DejaVuSerif-48\"/>\n      </g>\n     </g>\n    </g>\n   </g>\n   <image height=\"233\" id=\"imagebd4ad109a5\" transform=\"scale(1 -1)translate(0 -233)\" width=\"12\" x=\"363\" xlink:href=\"data:image/png;base64,\niVBORw0KGgoAAAANSUhEUgAAAAwAAADpCAYAAAAQ/NbWAAABG0lEQVR4nO2YQQ4DIQwDU4n/P7eHSsA+oQySI5OlZyzHcWLYfr6/OQP82gx0Pho8Hw2ej8YUvFUDZzAsiZ3fMu58DQPWlDCt4dfWCqmBna4QZFfDCuCOxhoDBfhpGH4lVWirfuP0DPrR0BvnqAGvKBet1oBLyniR0S7JGQw1DLgQjkGW4TQEJGwcZehQdcJO4zDOaCsE8OGTl9T9hm+jrRCQccdRgLykTtNbP3yO167fLOk1bISAfqft2pqggRHsZCt+whXYB8vvOHkY87i3E12DQb5xfKcNu3QZBAxjsBeTp4bzfTB0mv8rnZB8akAJ0Qlxf334DzDUcENgBWAoOjBgdMqARwNrwAyGJfkxVHCaXlnvnKUKTp/P8ADX2/RTeCmmgQAAAABJRU5ErkJggg==\" y=\"-7\"/>\n   <g id=\"patch_4\">\n    <path d=\"M 363.455875 240.48 \nL 363.455875 239.56875 \nL 363.455875 8.11125 \nL 363.455875 7.2 \nL 375.119875 7.2 \nL 375.119875 8.11125 \nL 375.119875 239.56875 \nL 375.119875 240.48 \nz\n\" style=\"fill:none;\"/>\n   </g>\n  </g>\n </g>\n <defs>\n  <clipPath id=\"pdd3efe902c\">\n   <rect height=\"233.28\" width=\"300.672\" x=\"43.991875\" y=\"7.2\"/>\n  </clipPath>\n  <clipPath id=\"paf14cf2705\">\n   <rect height=\"233.28\" width=\"11.664\" x=\"363.455875\" y=\"7.2\"/>\n  </clipPath>\n </defs>\n</svg>\n",
      "image/png": "[encoded data removed]"
     },
     "metadata": {}
    }
   ],
   "source": [
    "bbc = BalancedBaggingClassifier(n_estimators=50, random_state=42).fit(X_tr, y_tr)\n",
    "y_pred_bbc_tr = bbc.predict(X_tr)\n",
    "y_pred_bbc_val = bbc.predict(X_val)\n",
    "get_metric(X_tr, y_tr, X_val, y_val, y_pred_bbc_tr, y_pred_bbc_val, bbc)\n",
    "print(\"\")\n",
    "print('Balanced Bagging Classifier Performance:')\n",
    "print('Balanced training accuracy: {:.2f} - Geometric mean {:.2f}'.format(balanced_accuracy_score(y_tr, y_pred_bbc_tr), geometric_mean_score(y_val, y_pred_bbc_tr)))\n",
    "print('Balanced validation accuracy: {:.2f} - Geometric mean {:.2f}'.format(balanced_accuracy_score(y_val, y_pred_bbc_val), geometric_mean_score(y_val, y_pred_bbc_val)))"
   ]
  },
  {
   "cell_type": "markdown",
   "metadata": {},
   "source": [
    "## <a id='42'>Undersampling/Downsampling Methods for Majority Class</a>"
   ]
  },
  {
   "cell_type": "code",
   "execution_count": 15,
   "metadata": {},
   "outputs": [
    {
     "name": "stdout",
     "output_type": "stream",
     "text": [
      "Baseline:  Counter({0: 16344, 1: 4656})\n"
     ]
    }
   ],
   "source": [
    "# separate minority and majority classes\n",
    "majority = train[train.default==0]\n",
    "minority = train[train.default==1]\n",
    "\n",
    "#baseline counts\n",
    "counter = Counter(y_tr)\n",
    "print(\"Baseline: \", counter)"
   ]
  },
  {
   "cell_type": "code",
   "execution_count": 18,
   "metadata": {},
   "outputs": [
    {
     "data": {
      "text/plain": [
       "1    4656\n",
       "0    4656\n",
       "Name: default, dtype: int64"
      ]
     },
     "execution_count": 18,
     "metadata": {},
     "output_type": "execute_result"
    }
   ],
   "source": [
    "downsampled = resample(majority, replace = False, n_samples = len(minority), random_state=42)\n",
    "dns = pd.concat([downsampled, minority])\n",
    "print(dns.default.value_counts())"
   ]
  },
  {
   "cell_type": "code",
   "execution_count": 22,
   "metadata": {},
   "outputs": [
    {
     "name": "stdout",
     "output_type": "stream",
     "text": [
      "Near Miss:  Counter({0: 4656, 1: 4656})\n"
     ]
    }
   ],
   "source": [
    "ns = NearMiss(version=1, n_neighbors=3)\n",
    "X_tr_nm, y_tr_nm = ns.fit_resample(X_tr, y_tr)\n",
    "counter_nm = Counter(y_tr_nm)\n",
    "print(\"Near Miss: \", counter_nm)"
   ]
  },
  {
   "cell_type": "code",
   "execution_count": 23,
   "metadata": {},
   "outputs": [
    {
     "name": "stdout",
     "output_type": "stream",
     "text": [
      "Neighborhood Cleaning Rule:  Counter({0: 10212, 1: 4656})\n"
     ]
    }
   ],
   "source": [
    "ncr = NeighbourhoodCleaningRule(n_neighbors=3, threshold_cleaning=0.5)\n",
    "X_tr_ncr, y_tr_ncr = ncr.fit_resample(X_tr, y_tr)\n",
    "counter_ncr = Counter(y_tr_ncr)\n",
    "print(\"Neighborhood Cleaning Rule: \", counter_ncr)\n"
   ]
  },
  {
   "cell_type": "code",
   "execution_count": 24,
   "metadata": {},
   "outputs": [
    {
     "name": "stdout",
     "output_type": "stream",
     "text": [
      "One Sided Selection:  Counter({0: 13737, 1: 4656})\n"
     ]
    }
   ],
   "source": [
    "oss = OneSidedSelection(n_neighbors=1, n_seeds_S=200)\n",
    "X_tr_oss, y_tr_oss = oss.fit_resample(X_tr, y_tr)\n",
    "counter_oss = Counter(y_tr_oss)\n",
    "print(\"One Sided Selection: \", counter_oss)"
   ]
  },
  {
   "cell_type": "code",
   "execution_count": 25,
   "metadata": {},
   "outputs": [
    {
     "name": "stdout",
     "output_type": "stream",
     "text": [
      "Tomek Links:  Counter({0: 15130, 1: 4656})\n"
     ]
    }
   ],
   "source": [
    "tl = TomekLinks()\n",
    "X_tr_tk, y_tr_tk = tl.fit_resample(X_tr, y_tr)\n",
    "counter_tomek = Counter(y_tr_tomek)\n",
    "print(\"Tomek Links: \", counter_tomek)"
   ]
  },
  {
   "cell_type": "code",
   "execution_count": null,
   "metadata": {},
   "outputs": [],
   "source": [
    "y_pred_tk_tr"
   ]
  },
  {
   "cell_type": "code",
   "execution_count": null,
   "metadata": {},
   "outputs": [],
   "source": [
    "abc3 = AdaBoostClassifier().fit(X_tr_tk, y_tr_tk)\n",
    "y_pred_tk_tr = abc3.predict(X_tr_tk)"
   ]
  },
  {
   "cell_type": "code",
   "execution_count": null,
   "metadata": {},
   "outputs": [],
   "source": [
    "ac = accuracy_score(y_tr_tk, y_pred_tr)\n",
    "f1_score(y_tr_tk, y_pred_tk_tr)\n",
    "    f1_val = f1_score(y_val, y_pred_tk_tr)\n",
    "    au_tr = auc(X_tr, y_tr_tk, model)\n",
    "    au_val = auc(X_val, y_val, model)\n",
    "    rc_tr = recall_score(y_tr_tk, y_pred_tr)\n",
    "    rc_val = recall_score(y_val, y_pred_val)\n",
    "    pr_tr = precision_score(y_tr_tk, y_pred_tr)\n",
    "    pr_val = precision_score(y_val, y_pred_val)\n",
    "    aps_tr = aps(X_tr, y_tr_tk, model)\n",
    "    aps_val = aps(X_val, y_val, model)"
   ]
  },
  {
   "cell_type": "markdown",
   "metadata": {
    "heading_collapsed": true
   },
   "source": [
    "## <a id='43'>Oversampling/Upsampling Methods for Minority Class</a>"
   ]
  },
  {
   "cell_type": "code",
   "execution_count": 1,
   "metadata": {
    "hidden": true
   },
   "outputs": [
    {
     "ename": "NameError",
     "evalue": "name 'resample' is not defined",
     "output_type": "error",
     "traceback": [
      "\u001b[0;31m---------------------------------------------------------------------------\u001b[0m",
      "\u001b[0;31mNameError\u001b[0m                                 Traceback (most recent call last)",
      "\u001b[0;32m<ipython-input-1-02c36910fd15>\u001b[0m in \u001b[0;36m<module>\u001b[0;34m\u001b[0m\n\u001b[1;32m      1\u001b[0m \u001b[0;31m# Random Upsampling\u001b[0m\u001b[0;34m\u001b[0m\u001b[0;34m\u001b[0m\u001b[0;34m\u001b[0m\u001b[0m\n\u001b[0;32m----> 2\u001b[0;31m \u001b[0mupsampled\u001b[0m \u001b[0;34m=\u001b[0m \u001b[0mresample\u001b[0m\u001b[0;34m(\u001b[0m\u001b[0mminority\u001b[0m\u001b[0;34m,\u001b[0m \u001b[0mreplace\u001b[0m\u001b[0;34m=\u001b[0m\u001b[0;32mTrue\u001b[0m\u001b[0;34m,\u001b[0m \u001b[0mn_samples\u001b[0m\u001b[0;34m=\u001b[0m\u001b[0mlen\u001b[0m\u001b[0;34m(\u001b[0m\u001b[0mmajority\u001b[0m\u001b[0;34m)\u001b[0m\u001b[0;34m,\u001b[0m \u001b[0mrandom_state\u001b[0m\u001b[0;34m=\u001b[0m\u001b[0;36m42\u001b[0m\u001b[0;34m)\u001b[0m\u001b[0;34m\u001b[0m\u001b[0;34m\u001b[0m\u001b[0m\n\u001b[0m\u001b[1;32m      3\u001b[0m \u001b[0mups\u001b[0m \u001b[0;34m=\u001b[0m \u001b[0mpd\u001b[0m\u001b[0;34m.\u001b[0m\u001b[0mconcat\u001b[0m\u001b[0;34m(\u001b[0m\u001b[0;34m[\u001b[0m\u001b[0mmajority\u001b[0m\u001b[0;34m,\u001b[0m \u001b[0mupsampled\u001b[0m\u001b[0;34m]\u001b[0m\u001b[0;34m)\u001b[0m\u001b[0;34m\u001b[0m\u001b[0;34m\u001b[0m\u001b[0m\n\u001b[1;32m      4\u001b[0m \u001b[0my\u001b[0m \u001b[0;34m=\u001b[0m \u001b[0mups\u001b[0m\u001b[0;34m[\u001b[0m\u001b[0;34m'default'\u001b[0m\u001b[0;34m]\u001b[0m\u001b[0;34m\u001b[0m\u001b[0;34m\u001b[0m\u001b[0m\n\u001b[1;32m      5\u001b[0m \u001b[0mcounter_upsample\u001b[0m \u001b[0;34m=\u001b[0m \u001b[0mCounter\u001b[0m\u001b[0;34m(\u001b[0m\u001b[0my\u001b[0m\u001b[0;34m)\u001b[0m\u001b[0;34m\u001b[0m\u001b[0;34m\u001b[0m\u001b[0m\n",
      "\u001b[0;31mNameError\u001b[0m: name 'resample' is not defined"
     ]
    }
   ],
   "source": [
    "# Random Upsampling\n",
    "upsampled = resample(minority, replace=True, n_samples=len(majority), random_state=42) \n",
    "ups = pd.concat([majority, upsampled])\n",
    "y = ups['default']\n",
    "counter_upsample = Counter(y)"
   ]
  },
  {
   "cell_type": "code",
   "execution_count": 87,
   "metadata": {
    "hidden": true
   },
   "outputs": [
    {
     "name": "stdout",
     "output_type": "stream",
     "text": [
      "Training Accuracy:  0.7782857142857142\n",
      "Validation Accuracy:  0.7811666666666667\n",
      "Training F1 Score:  0.0\n",
      "Validation F1 Score:  0.0\n",
      "Training AUC Score:  0.5\n",
      "Validation AUC Score:  0.5\n",
      "Training Recall Score:  0.0\n",
      "Validation Recall Score:  0.0\n",
      "Training Precision Score:  0.0\n",
      "Validation Precision Score:  0.0\n",
      "Training Average Precision Score:  0.22171428571428572\n",
      "Validation Average Precision Score:  0.21883333333333332\n",
      "\n",
      "Training Classification Report: \n",
      "              precision    recall  f1-score   support\n",
      "\n",
      "           0       0.78      1.00      0.88     16344\n",
      "           1       0.00      0.00      0.00      4656\n",
      "\n",
      "    accuracy                           0.78     21000\n",
      "   macro avg       0.39      0.50      0.44     21000\n",
      "weighted avg       0.61      0.78      0.68     21000\n",
      "\n",
      "\n",
      "Validation Classification Report: \n",
      "              precision    recall  f1-score   support\n",
      "\n",
      "           0       0.78      1.00      0.88      4687\n",
      "           1       0.00      0.00      0.00      1313\n",
      "\n",
      "    accuracy                           0.78      6000\n",
      "   macro avg       0.39      0.50      0.44      6000\n",
      "weighted avg       0.61      0.78      0.69      6000\n",
      "\n"
     ]
    },
    {
     "data": {
      "image/png": "[encoded data removed]",
      "image/svg+xml": [
       "<?xml version=\"1.0\" encoding=\"utf-8\" standalone=\"no\"?>\n",
       "<!DOCTYPE svg PUBLIC \"-//W3C//DTD SVG 1.1//EN\"\n",
       "  \"http://www.w3.org/Graphics/SVG/1.1/DTD/svg11.dtd\">\n",
       "<!-- Created with matplotlib (https://matplotlib.org/) -->\n",
       "<svg height=\"284.471875pt\" version=\"1.1\" viewBox=\"0 0 453.809875 284.471875\" width=\"453.809875pt\" xmlns=\"http://www.w3.org/2000/svg\" xmlns:xlink=\"http://www.w3.org/1999/xlink\">\n",
       " <metadata>\n",
       "  <rdf:RDF xmlns:cc=\"http://creativecommons.org/ns#\" xmlns:dc=\"http://purl.org/dc/elements/1.1/\" xmlns:rdf=\"http://www.w3.org/1999/02/22-rdf-syntax-ns#\">\n",
       "   <cc:Work>\n",
       "    <dc:type rdf:resource=\"http://purl.org/dc/dcmitype/StillImage\"/>\n",
       "    <dc:date>2021-02-18T18:16:58.176594</dc:date>\n",
       "    <dc:format>image/svg+xml</dc:format>\n",
       "    <dc:creator>\n",
       "     <cc:Agent>\n",
       "      <dc:title>Matplotlib v3.3.3, https://matplotlib.org/</dc:title>\n",
       "     </cc:Agent>\n",
       "    </dc:creator>\n",
       "   </cc:Work>\n",
       "  </rdf:RDF>\n",
       " </metadata>\n",
       " <defs>\n",
       "  <style type=\"text/css\">*{stroke-linecap:butt;stroke-linejoin:round;}</style>\n",
       " </defs>\n",
       " <g id=\"figure_1\">\n",
       "  <g id=\"patch_1\">\n",
       "   <path d=\"M 0 284.471875 \n",
       "L 453.809875 284.471875 \n",
       "L 453.809875 0 \n",
       "L 0 0 \n",
       "z\n",
       "\" style=\"fill:#ffffff;\"/>\n",
       "  </g>\n",
       "  <g id=\"axes_1\">\n",
       "   <g id=\"patch_2\">\n",
       "    <path d=\"M 43.991875 240.48 \n",
       "L 344.663875 240.48 \n",
       "L 344.663875 7.2 \n",
       "L 43.991875 7.2 \n",
       "z\n",
       "\" style=\"fill:#eaeaf2;\"/>\n",
       "   </g>\n",
       "   <g id=\"matplotlib.axis_1\">\n",
       "    <g id=\"xtick_1\">\n",
       "     <g id=\"text_1\">\n",
       "      <!-- 0 -->\n",
       "      <g style=\"fill:#262626;\" transform=\"translate(112.161125 272.696563)scale(0.22 -0.22)\">\n",
       "       <defs>\n",
       "        <path d=\"M 31.78125 3.421875 \n",
       "Q 39.265625 3.421875 42.96875 11.625 \n",
       "Q 46.6875 19.828125 46.6875 36.375 \n",
       "Q 46.6875 52.984375 42.96875 61.1875 \n",
       "Q 39.265625 69.390625 31.78125 69.390625 \n",
       "Q 24.3125 69.390625 20.59375 61.1875 \n",
       "Q 16.890625 52.984375 16.890625 36.375 \n",
       "Q 16.890625 19.828125 20.59375 11.625 \n",
       "Q 24.3125 3.421875 31.78125 3.421875 \n",
       "z\n",
       "M 31.78125 -1.421875 \n",
       "Q 19.921875 -1.421875 13.25 8.53125 \n",
       "Q 6.59375 18.5 6.59375 36.375 \n",
       "Q 6.59375 54.296875 13.25 64.25 \n",
       "Q 19.921875 74.21875 31.78125 74.21875 \n",
       "Q 43.703125 74.21875 50.34375 64.25 \n",
       "Q 56.984375 54.296875 56.984375 36.375 \n",
       "Q 56.984375 18.5 50.34375 8.53125 \n",
       "Q 43.703125 -1.421875 31.78125 -1.421875 \n",
       "z\n",
       "\" id=\"DejaVuSerif-48\"/>\n",
       "       </defs>\n",
       "       <use xlink:href=\"#DejaVuSerif-48\"/>\n",
       "      </g>\n",
       "     </g>\n",
       "    </g>\n",
       "    <g id=\"xtick_2\">\n",
       "     <g id=\"text_2\">\n",
       "      <!-- 1 -->\n",
       "      <g style=\"fill:#262626;\" transform=\"translate(262.497125 272.696563)scale(0.22 -0.22)\">\n",
       "       <defs>\n",
       "        <path d=\"M 14.203125 0 \n",
       "L 14.203125 5.171875 \n",
       "L 26.90625 5.171875 \n",
       "L 26.90625 65.828125 \n",
       "L 12.203125 56.296875 \n",
       "L 12.203125 62.703125 \n",
       "L 29.984375 74.21875 \n",
       "L 36.71875 74.21875 \n",
       "L 36.71875 5.171875 \n",
       "L 49.421875 5.171875 \n",
       "L 49.421875 0 \n",
       "z\n",
       "\" id=\"DejaVuSerif-49\"/>\n",
       "       </defs>\n",
       "       <use xlink:href=\"#DejaVuSerif-49\"/>\n",
       "      </g>\n",
       "     </g>\n",
       "    </g>\n",
       "   </g>\n",
       "   <g id=\"matplotlib.axis_2\">\n",
       "    <g id=\"ytick_1\">\n",
       "     <g id=\"text_3\">\n",
       "      <!-- 0 -->\n",
       "      <g style=\"fill:#262626;\" transform=\"translate(23.916563 71.159219)rotate(-90)scale(0.22 -0.22)\">\n",
       "       <use xlink:href=\"#DejaVuSerif-48\"/>\n",
       "      </g>\n",
       "     </g>\n",
       "    </g>\n",
       "    <g id=\"ytick_2\">\n",
       "     <g id=\"text_4\">\n",
       "      <!-- 1 -->\n",
       "      <g style=\"fill:#262626;\" transform=\"translate(23.916563 187.799219)rotate(-90)scale(0.22 -0.22)\">\n",
       "       <use xlink:href=\"#DejaVuSerif-49\"/>\n",
       "      </g>\n",
       "     </g>\n",
       "    </g>\n",
       "   </g>\n",
       "   <g id=\"QuadMesh_1\">\n",
       "    <path clip-path=\"url(#p0c42978ab3)\" d=\"M 43.991875 7.2 \n",
       "L 194.327875 7.2 \n",
       "L 194.327875 123.84 \n",
       "L 43.991875 123.84 \n",
       "L 43.991875 7.2 \n",
       "\" style=\"fill:#08306b;\"/>\n",
       "    <path clip-path=\"url(#p0c42978ab3)\" d=\"M 194.327875 7.2 \n",
       "L 344.663875 7.2 \n",
       "L 344.663875 123.84 \n",
       "L 194.327875 123.84 \n",
       "L 194.327875 7.2 \n",
       "\" style=\"fill:#f7fbff;\"/>\n",
       "    <path clip-path=\"url(#p0c42978ab3)\" d=\"M 43.991875 123.84 \n",
       "L 194.327875 123.84 \n",
       "L 194.327875 240.48 \n",
       "L 43.991875 240.48 \n",
       "L 43.991875 123.84 \n",
       "\" style=\"fill:#bdd7ec;\"/>\n",
       "    <path clip-path=\"url(#p0c42978ab3)\" d=\"M 194.327875 123.84 \n",
       "L 344.663875 123.84 \n",
       "L 344.663875 240.48 \n",
       "L 194.327875 240.48 \n",
       "L 194.327875 123.84 \n",
       "\" style=\"fill:#f7fbff;\"/>\n",
       "   </g>\n",
       "   <g id=\"text_5\">\n",
       "    <!-- TN -->\n",
       "    <g style=\"fill:#ffffff;\" transform=\"translate(106.823625 52.0185)scale(0.16 -0.16)\">\n",
       "     <defs>\n",
       "      <path d=\"M 19.09375 0 \n",
       "L 19.09375 5.171875 \n",
       "L 28.421875 5.171875 \n",
       "L 28.421875 67.09375 \n",
       "L 6.984375 67.09375 \n",
       "L 6.984375 55.71875 \n",
       "L 0.984375 55.71875 \n",
       "L 0.984375 72.90625 \n",
       "L 65.71875 72.90625 \n",
       "L 65.71875 55.71875 \n",
       "L 59.71875 55.71875 \n",
       "L 59.71875 67.09375 \n",
       "L 38.28125 67.09375 \n",
       "L 38.28125 5.171875 \n",
       "L 47.609375 5.171875 \n",
       "L 47.609375 0 \n",
       "z\n",
       "\" id=\"DejaVuSerif-84\"/>\n",
       "      <path d=\"M 4.890625 0 \n",
       "L 4.890625 5.171875 \n",
       "L 14.703125 5.171875 \n",
       "L 14.703125 67.671875 \n",
       "L 4.890625 67.671875 \n",
       "L 4.890625 72.90625 \n",
       "L 23.578125 72.90625 \n",
       "L 67.28125 15.375 \n",
       "L 67.28125 67.671875 \n",
       "L 57.515625 67.671875 \n",
       "L 57.515625 72.90625 \n",
       "L 83.109375 72.90625 \n",
       "L 83.109375 67.671875 \n",
       "L 73.296875 67.671875 \n",
       "L 73.296875 -1.421875 \n",
       "L 67.390625 -1.421875 \n",
       "L 20.703125 60.015625 \n",
       "L 20.703125 5.171875 \n",
       "L 30.515625 5.171875 \n",
       "L 30.515625 0 \n",
       "z\n",
       "\" id=\"DejaVuSerif-78\"/>\n",
       "     </defs>\n",
       "     <use xlink:href=\"#DejaVuSerif-84\"/>\n",
       "     <use x=\"66.699219\" xlink:href=\"#DejaVuSerif-78\"/>\n",
       "    </g>\n",
       "    <!-- 4687 -->\n",
       "    <g style=\"fill:#ffffff;\" transform=\"translate(98.799875 69.935)scale(0.16 -0.16)\">\n",
       "     <defs>\n",
       "      <path d=\"M 34.90625 24.703125 \n",
       "L 34.90625 63.484375 \n",
       "L 10.015625 24.703125 \n",
       "z\n",
       "M 56.390625 0 \n",
       "L 23.1875 0 \n",
       "L 23.1875 5.171875 \n",
       "L 34.90625 5.171875 \n",
       "L 34.90625 19.484375 \n",
       "L 3.078125 19.484375 \n",
       "L 3.078125 24.8125 \n",
       "L 35.015625 74.21875 \n",
       "L 44.671875 74.21875 \n",
       "L 44.671875 24.703125 \n",
       "L 58.59375 24.703125 \n",
       "L 58.59375 19.484375 \n",
       "L 44.671875 19.484375 \n",
       "L 44.671875 5.171875 \n",
       "L 56.390625 5.171875 \n",
       "z\n",
       "\" id=\"DejaVuSerif-52\"/>\n",
       "      <path d=\"M 32.71875 3.421875 \n",
       "Q 39.59375 3.421875 43.296875 8.46875 \n",
       "Q 47.015625 13.53125 47.015625 23 \n",
       "Q 47.015625 32.46875 43.296875 37.515625 \n",
       "Q 39.59375 42.578125 32.71875 42.578125 \n",
       "Q 25.734375 42.578125 22.0625 37.6875 \n",
       "Q 18.40625 32.8125 18.40625 23.578125 \n",
       "Q 18.40625 13.875 22.109375 8.640625 \n",
       "Q 25.828125 3.421875 32.71875 3.421875 \n",
       "z\n",
       "M 16.796875 40.140625 \n",
       "Q 20.125 43.796875 24.3125 45.59375 \n",
       "Q 28.515625 47.40625 33.796875 47.40625 \n",
       "Q 44.671875 47.40625 51 40.859375 \n",
       "Q 57.328125 34.328125 57.328125 23 \n",
       "Q 57.328125 11.921875 50.515625 5.25 \n",
       "Q 43.703125 -1.421875 32.328125 -1.421875 \n",
       "Q 19.96875 -1.421875 13.328125 7.78125 \n",
       "Q 6.6875 17 6.6875 34.078125 \n",
       "Q 6.6875 53.21875 14.546875 63.71875 \n",
       "Q 22.40625 74.21875 36.71875 74.21875 \n",
       "Q 40.578125 74.21875 44.828125 73.484375 \n",
       "Q 49.078125 72.75 53.515625 71.296875 \n",
       "L 53.515625 59.28125 \n",
       "L 48 59.28125 \n",
       "Q 47.40625 64.203125 44.234375 66.796875 \n",
       "Q 41.0625 69.390625 35.6875 69.390625 \n",
       "Q 26.21875 69.390625 21.578125 62.203125 \n",
       "Q 16.9375 55.03125 16.796875 40.140625 \n",
       "z\n",
       "\" id=\"DejaVuSerif-54\"/>\n",
       "      <path d=\"M 46.578125 19.921875 \n",
       "Q 46.578125 27.734375 42.6875 32.046875 \n",
       "Q 38.8125 36.375 31.78125 36.375 \n",
       "Q 24.75 36.375 20.875 32.046875 \n",
       "Q 17 27.734375 17 19.921875 \n",
       "Q 17 12.0625 20.875 7.734375 \n",
       "Q 24.75 3.421875 31.78125 3.421875 \n",
       "Q 38.8125 3.421875 42.6875 7.734375 \n",
       "Q 46.578125 12.0625 46.578125 19.921875 \n",
       "z\n",
       "M 44.578125 55.328125 \n",
       "Q 44.578125 61.96875 41.203125 65.671875 \n",
       "Q 37.84375 69.390625 31.78125 69.390625 \n",
       "Q 25.78125 69.390625 22.390625 65.671875 \n",
       "Q 19 61.96875 19 55.328125 \n",
       "Q 19 48.640625 22.390625 44.921875 \n",
       "Q 25.78125 41.21875 31.78125 41.21875 \n",
       "Q 37.84375 41.21875 41.203125 44.921875 \n",
       "Q 44.578125 48.640625 44.578125 55.328125 \n",
       "z\n",
       "M 39.3125 38.8125 \n",
       "Q 47.609375 37.703125 52.25 32.6875 \n",
       "Q 56.890625 27.6875 56.890625 19.921875 \n",
       "Q 56.890625 9.671875 50.390625 4.125 \n",
       "Q 43.890625 -1.421875 31.78125 -1.421875 \n",
       "Q 19.734375 -1.421875 13.203125 4.125 \n",
       "Q 6.6875 9.671875 6.6875 19.921875 \n",
       "Q 6.6875 27.6875 11.328125 32.6875 \n",
       "Q 15.96875 37.703125 24.3125 38.8125 \n",
       "Q 16.9375 40.140625 13 44.40625 \n",
       "Q 9.078125 48.6875 9.078125 55.328125 \n",
       "Q 9.078125 64.109375 15.125 69.15625 \n",
       "Q 21.1875 74.21875 31.78125 74.21875 \n",
       "Q 42.390625 74.21875 48.4375 69.15625 \n",
       "Q 54.5 64.109375 54.5 55.328125 \n",
       "Q 54.5 48.6875 50.5625 44.40625 \n",
       "Q 46.625 40.140625 39.3125 38.8125 \n",
       "z\n",
       "\" id=\"DejaVuSerif-56\"/>\n",
       "      <path d=\"M 56.390625 67.921875 \n",
       "L 27.875 0 \n",
       "L 20.609375 0 \n",
       "L 47.796875 64.890625 \n",
       "L 14.109375 64.890625 \n",
       "L 14.109375 55.90625 \n",
       "L 8.40625 55.90625 \n",
       "L 8.40625 72.90625 \n",
       "L 56.390625 72.90625 \n",
       "z\n",
       "\" id=\"DejaVuSerif-55\"/>\n",
       "     </defs>\n",
       "     <use xlink:href=\"#DejaVuSerif-52\"/>\n",
       "     <use x=\"63.623047\" xlink:href=\"#DejaVuSerif-54\"/>\n",
       "     <use x=\"127.246094\" xlink:href=\"#DejaVuSerif-56\"/>\n",
       "     <use x=\"190.869141\" xlink:href=\"#DejaVuSerif-55\"/>\n",
       "    </g>\n",
       "    <!-- 78.12% -->\n",
       "    <g style=\"fill:#ffffff;\" transform=\"translate(88.656125 87.8515)scale(0.16 -0.16)\">\n",
       "     <defs>\n",
       "      <path d=\"M 9.421875 5.078125 \n",
       "Q 9.421875 7.8125 11.28125 9.71875 \n",
       "Q 13.140625 11.625 15.921875 11.625 \n",
       "Q 18.609375 11.625 20.5 9.71875 \n",
       "Q 22.40625 7.8125 22.40625 5.078125 \n",
       "Q 22.40625 2.390625 20.5 0.484375 \n",
       "Q 18.609375 -1.421875 15.921875 -1.421875 \n",
       "Q 13.140625 -1.421875 11.28125 0.453125 \n",
       "Q 9.421875 2.34375 9.421875 5.078125 \n",
       "z\n",
       "\" id=\"DejaVuSerif-46\"/>\n",
       "      <path d=\"M 12.796875 55.515625 \n",
       "L 7.328125 55.515625 \n",
       "L 7.328125 68.5 \n",
       "Q 12.546875 71.296875 17.84375 72.75 \n",
       "Q 23.140625 74.21875 28.21875 74.21875 \n",
       "Q 39.59375 74.21875 46.1875 68.703125 \n",
       "Q 52.78125 63.1875 52.78125 53.71875 \n",
       "Q 52.78125 43.015625 37.84375 28.125 \n",
       "Q 36.671875 27 36.078125 26.421875 \n",
       "L 17.671875 8.015625 \n",
       "L 48.09375 8.015625 \n",
       "L 48.09375 17 \n",
       "L 53.8125 17 \n",
       "L 53.8125 0 \n",
       "L 6.78125 0 \n",
       "L 6.78125 5.328125 \n",
       "L 28.90625 27.390625 \n",
       "Q 36.234375 34.71875 39.359375 40.84375 \n",
       "Q 42.484375 46.96875 42.484375 53.71875 \n",
       "Q 42.484375 61.078125 38.640625 65.234375 \n",
       "Q 34.8125 69.390625 28.078125 69.390625 \n",
       "Q 21.09375 69.390625 17.28125 65.921875 \n",
       "Q 13.484375 62.453125 12.796875 55.515625 \n",
       "z\n",
       "\" id=\"DejaVuSerif-50\"/>\n",
       "      <path d=\"M 22.40625 69.671875 \n",
       "Q 18.109375 69.671875 15.6875 65.625 \n",
       "Q 13.28125 61.578125 13.28125 54.296875 \n",
       "Q 13.28125 47.125 15.75 43.015625 \n",
       "Q 18.21875 38.921875 22.40625 38.921875 \n",
       "Q 26.5625 38.921875 28.96875 43 \n",
       "Q 31.390625 47.078125 31.390625 54.296875 \n",
       "Q 31.390625 61.53125 28.96875 65.59375 \n",
       "Q 26.5625 69.671875 22.40625 69.671875 \n",
       "z\n",
       "M 72.703125 33.890625 \n",
       "Q 68.453125 33.890625 66.03125 29.78125 \n",
       "Q 63.625 25.6875 63.625 18.40625 \n",
       "Q 63.625 11.234375 66.0625 7.15625 \n",
       "Q 68.5 3.078125 72.703125 3.078125 \n",
       "Q 76.90625 3.078125 79.296875 7.15625 \n",
       "Q 81.6875 11.234375 81.6875 18.40625 \n",
       "Q 81.6875 25.640625 79.265625 29.765625 \n",
       "Q 76.859375 33.890625 72.703125 33.890625 \n",
       "z\n",
       "M 72.703125 38.28125 \n",
       "Q 80.421875 38.28125 84.953125 32.90625 \n",
       "Q 89.5 27.546875 89.5 18.40625 \n",
       "Q 89.5 9.28125 84.9375 3.921875 \n",
       "Q 80.375 -1.421875 72.703125 -1.421875 \n",
       "Q 64.890625 -1.421875 60.34375 3.921875 \n",
       "Q 55.8125 9.28125 55.8125 18.40625 \n",
       "Q 55.8125 27.59375 60.375 32.9375 \n",
       "Q 64.9375 38.28125 72.703125 38.28125 \n",
       "z\n",
       "M 66.609375 74.21875 \n",
       "L 74.03125 74.21875 \n",
       "L 28.421875 -1.421875 \n",
       "L 21 -1.421875 \n",
       "z\n",
       "M 22.3125 74.21875 \n",
       "Q 30.03125 74.21875 34.609375 68.875 \n",
       "Q 39.203125 63.53125 39.203125 54.390625 \n",
       "Q 39.203125 45.171875 34.640625 39.84375 \n",
       "Q 30.078125 34.515625 22.3125 34.515625 \n",
       "Q 14.546875 34.515625 10.03125 39.859375 \n",
       "Q 5.515625 45.21875 5.515625 54.390625 \n",
       "Q 5.515625 63.484375 10.046875 68.84375 \n",
       "Q 14.59375 74.21875 22.3125 74.21875 \n",
       "z\n",
       "\" id=\"DejaVuSerif-37\"/>\n",
       "     </defs>\n",
       "     <use xlink:href=\"#DejaVuSerif-55\"/>\n",
       "     <use x=\"63.623047\" xlink:href=\"#DejaVuSerif-56\"/>\n",
       "     <use x=\"127.246094\" xlink:href=\"#DejaVuSerif-46\"/>\n",
       "     <use x=\"159.033203\" xlink:href=\"#DejaVuSerif-49\"/>\n",
       "     <use x=\"222.65625\" xlink:href=\"#DejaVuSerif-50\"/>\n",
       "     <use x=\"286.279297\" xlink:href=\"#DejaVuSerif-37\"/>\n",
       "    </g>\n",
       "   </g>\n",
       "   <g id=\"text_6\">\n",
       "    <!-- FP -->\n",
       "    <g style=\"fill:#262626;\" transform=\"translate(258.562125 52.0185)scale(0.16 -0.16)\">\n",
       "     <defs>\n",
       "      <path d=\"M 5.515625 0 \n",
       "L 5.515625 5.171875 \n",
       "L 14.796875 5.171875 \n",
       "L 14.796875 67.671875 \n",
       "L 5.515625 67.671875 \n",
       "L 5.515625 72.90625 \n",
       "L 65.1875 72.90625 \n",
       "L 65.1875 56.6875 \n",
       "L 59.1875 56.6875 \n",
       "L 59.1875 66.890625 \n",
       "L 24.703125 66.890625 \n",
       "L 24.703125 42.484375 \n",
       "L 49.609375 42.484375 \n",
       "L 49.609375 51.609375 \n",
       "L 55.609375 51.609375 \n",
       "L 55.609375 27.390625 \n",
       "L 49.609375 27.390625 \n",
       "L 49.609375 36.53125 \n",
       "L 24.703125 36.53125 \n",
       "L 24.703125 5.171875 \n",
       "L 36.375 5.171875 \n",
       "L 36.375 0 \n",
       "z\n",
       "\" id=\"DejaVuSerif-70\"/>\n",
       "      <path d=\"M 24.703125 37.109375 \n",
       "L 37.59375 37.109375 \n",
       "Q 44.875 37.109375 48.671875 41.03125 \n",
       "Q 52.484375 44.96875 52.484375 52.390625 \n",
       "Q 52.484375 59.859375 48.671875 63.765625 \n",
       "Q 44.875 67.671875 37.59375 67.671875 \n",
       "L 24.703125 67.671875 \n",
       "z\n",
       "M 5.515625 0 \n",
       "L 5.515625 5.171875 \n",
       "L 14.796875 5.171875 \n",
       "L 14.796875 67.671875 \n",
       "L 5.515625 67.671875 \n",
       "L 5.515625 72.90625 \n",
       "L 39.984375 72.90625 \n",
       "Q 50.921875 72.90625 57.3125 67.359375 \n",
       "Q 63.71875 61.8125 63.71875 52.390625 \n",
       "Q 63.71875 43.015625 57.3125 37.453125 \n",
       "Q 50.921875 31.890625 39.984375 31.890625 \n",
       "L 24.703125 31.890625 \n",
       "L 24.703125 5.171875 \n",
       "L 35.984375 5.171875 \n",
       "L 35.984375 0 \n",
       "z\n",
       "\" id=\"DejaVuSerif-80\"/>\n",
       "     </defs>\n",
       "     <use xlink:href=\"#DejaVuSerif-70\"/>\n",
       "     <use x=\"69.384766\" xlink:href=\"#DejaVuSerif-80\"/>\n",
       "    </g>\n",
       "    <!-- 0 -->\n",
       "    <g style=\"fill:#262626;\" transform=\"translate(264.405875 69.935)scale(0.16 -0.16)\">\n",
       "     <use xlink:href=\"#DejaVuSerif-48\"/>\n",
       "    </g>\n",
       "    <!-- 0.00% -->\n",
       "    <g style=\"fill:#262626;\" transform=\"translate(244.082125 87.8515)scale(0.16 -0.16)\">\n",
       "     <use xlink:href=\"#DejaVuSerif-48\"/>\n",
       "     <use x=\"63.623047\" xlink:href=\"#DejaVuSerif-46\"/>\n",
       "     <use x=\"95.410156\" xlink:href=\"#DejaVuSerif-48\"/>\n",
       "     <use x=\"159.033203\" xlink:href=\"#DejaVuSerif-48\"/>\n",
       "     <use x=\"222.65625\" xlink:href=\"#DejaVuSerif-37\"/>\n",
       "    </g>\n",
       "   </g>\n",
       "   <g id=\"text_7\">\n",
       "    <!-- FN -->\n",
       "    <g style=\"fill:#262626;\" transform=\"translate(106.608625 168.6585)scale(0.16 -0.16)\">\n",
       "     <use xlink:href=\"#DejaVuSerif-70\"/>\n",
       "     <use x=\"69.384766\" xlink:href=\"#DejaVuSerif-78\"/>\n",
       "    </g>\n",
       "    <!-- 1313 -->\n",
       "    <g style=\"fill:#262626;\" transform=\"translate(98.799875 186.575)scale(0.16 -0.16)\">\n",
       "     <defs>\n",
       "      <path d=\"M 9.71875 69.828125 \n",
       "Q 15.4375 71.96875 20.671875 73.09375 \n",
       "Q 25.921875 74.21875 30.515625 74.21875 \n",
       "Q 41.21875 74.21875 47.21875 69.59375 \n",
       "Q 53.21875 64.984375 53.21875 56.78125 \n",
       "Q 53.21875 50.203125 49.0625 45.78125 \n",
       "Q 44.921875 41.359375 37.3125 39.796875 \n",
       "Q 46.296875 38.53125 51.25 33.28125 \n",
       "Q 56.203125 28.03125 56.203125 19.671875 \n",
       "Q 56.203125 9.46875 49.34375 4.015625 \n",
       "Q 42.484375 -1.421875 29.59375 -1.421875 \n",
       "Q 23.875 -1.421875 18.421875 -0.1875 \n",
       "Q 12.984375 1.03125 7.625 3.515625 \n",
       "L 7.625 17.671875 \n",
       "L 13.09375 17.671875 \n",
       "Q 13.578125 10.640625 17.828125 7.03125 \n",
       "Q 22.078125 3.421875 29.78125 3.421875 \n",
       "Q 37.25 3.421875 41.578125 7.734375 \n",
       "Q 45.90625 12.0625 45.90625 19.578125 \n",
       "Q 45.90625 28.171875 41.453125 32.59375 \n",
       "Q 37.015625 37.015625 28.421875 37.015625 \n",
       "L 23.78125 37.015625 \n",
       "L 23.78125 42 \n",
       "L 26.21875 42 \n",
       "Q 34.765625 42 39.03125 45.53125 \n",
       "Q 43.3125 49.078125 43.3125 56.203125 \n",
       "Q 43.3125 62.59375 39.796875 65.984375 \n",
       "Q 36.28125 69.390625 29.6875 69.390625 \n",
       "Q 23.09375 69.390625 19.453125 66.265625 \n",
       "Q 15.828125 63.140625 15.1875 56.984375 \n",
       "L 9.71875 56.984375 \n",
       "z\n",
       "\" id=\"DejaVuSerif-51\"/>\n",
       "     </defs>\n",
       "     <use xlink:href=\"#DejaVuSerif-49\"/>\n",
       "     <use x=\"63.623047\" xlink:href=\"#DejaVuSerif-51\"/>\n",
       "     <use x=\"127.246094\" xlink:href=\"#DejaVuSerif-49\"/>\n",
       "     <use x=\"190.869141\" xlink:href=\"#DejaVuSerif-51\"/>\n",
       "    </g>\n",
       "    <!-- 21.88% -->\n",
       "    <g style=\"fill:#262626;\" transform=\"translate(88.656125 204.4915)scale(0.16 -0.16)\">\n",
       "     <use xlink:href=\"#DejaVuSerif-50\"/>\n",
       "     <use x=\"63.623047\" xlink:href=\"#DejaVuSerif-49\"/>\n",
       "     <use x=\"127.246094\" xlink:href=\"#DejaVuSerif-46\"/>\n",
       "     <use x=\"159.033203\" xlink:href=\"#DejaVuSerif-56\"/>\n",
       "     <use x=\"222.65625\" xlink:href=\"#DejaVuSerif-56\"/>\n",
       "     <use x=\"286.279297\" xlink:href=\"#DejaVuSerif-37\"/>\n",
       "    </g>\n",
       "   </g>\n",
       "   <g id=\"text_8\">\n",
       "    <!-- TP -->\n",
       "    <g style=\"fill:#262626;\" transform=\"translate(258.777125 168.6585)scale(0.16 -0.16)\">\n",
       "     <use xlink:href=\"#DejaVuSerif-84\"/>\n",
       "     <use x=\"66.699219\" xlink:href=\"#DejaVuSerif-80\"/>\n",
       "    </g>\n",
       "    <!-- 0 -->\n",
       "    <g style=\"fill:#262626;\" transform=\"translate(264.405875 186.575)scale(0.16 -0.16)\">\n",
       "     <use xlink:href=\"#DejaVuSerif-48\"/>\n",
       "    </g>\n",
       "    <!-- 0.00% -->\n",
       "    <g style=\"fill:#262626;\" transform=\"translate(244.082125 204.4915)scale(0.16 -0.16)\">\n",
       "     <use xlink:href=\"#DejaVuSerif-48\"/>\n",
       "     <use x=\"63.623047\" xlink:href=\"#DejaVuSerif-46\"/>\n",
       "     <use x=\"95.410156\" xlink:href=\"#DejaVuSerif-48\"/>\n",
       "     <use x=\"159.033203\" xlink:href=\"#DejaVuSerif-48\"/>\n",
       "     <use x=\"222.65625\" xlink:href=\"#DejaVuSerif-37\"/>\n",
       "    </g>\n",
       "   </g>\n",
       "  </g>\n",
       "  <g id=\"axes_2\">\n",
       "   <g id=\"patch_3\">\n",
       "    <path clip-path=\"url(#p7fb93d8124)\" d=\"M 363.455875 240.48 \n",
       "L 363.455875 239.56875 \n",
       "L 363.455875 8.11125 \n",
       "L 363.455875 7.2 \n",
       "L 375.119875 7.2 \n",
       "L 375.119875 8.11125 \n",
       "L 375.119875 239.56875 \n",
       "L 375.119875 240.48 \n",
       "z\n",
       "\" style=\"fill:#eaeaf2;stroke:#eaeaf2;stroke-linejoin:miter;stroke-width:0.01;\"/>\n",
       "   </g>\n",
       "   <g id=\"matplotlib.axis_3\"/>\n",
       "   <g id=\"matplotlib.axis_4\">\n",
       "    <g id=\"ytick_3\">\n",
       "     <g id=\"line2d_1\">\n",
       "      <defs>\n",
       "       <path d=\"M 0 0 \n",
       "L 12 0 \n",
       "\" id=\"m0b54643ccf\" style=\"stroke:#262626;stroke-width:2.5;\"/>\n",
       "      </defs>\n",
       "      <g>\n",
       "       <use style=\"fill:#262626;stroke:#262626;stroke-width:2.5;\" x=\"375.119875\" xlink:href=\"#m0b54643ccf\" y=\"240.48\"/>\n",
       "      </g>\n",
       "     </g>\n",
       "     <g id=\"text_9\">\n",
       "      <!-- 0 -->\n",
       "      <g style=\"fill:#262626;\" transform=\"translate(390.619875 248.838281)scale(0.22 -0.22)\">\n",
       "       <use xlink:href=\"#DejaVuSerif-48\"/>\n",
       "      </g>\n",
       "     </g>\n",
       "    </g>\n",
       "    <g id=\"ytick_4\">\n",
       "     <g id=\"line2d_2\">\n",
       "      <g>\n",
       "       <use style=\"fill:#262626;stroke:#262626;stroke-width:2.5;\" x=\"375.119875\" xlink:href=\"#m0b54643ccf\" y=\"190.708291\"/>\n",
       "      </g>\n",
       "     </g>\n",
       "     <g id=\"text_10\">\n",
       "      <!-- 1000 -->\n",
       "      <g style=\"fill:#262626;\" transform=\"translate(390.619875 199.066572)scale(0.22 -0.22)\">\n",
       "       <use xlink:href=\"#DejaVuSerif-49\"/>\n",
       "       <use x=\"63.623047\" xlink:href=\"#DejaVuSerif-48\"/>\n",
       "       <use x=\"127.246094\" xlink:href=\"#DejaVuSerif-48\"/>\n",
       "       <use x=\"190.869141\" xlink:href=\"#DejaVuSerif-48\"/>\n",
       "      </g>\n",
       "     </g>\n",
       "    </g>\n",
       "    <g id=\"ytick_5\">\n",
       "     <g id=\"line2d_3\">\n",
       "      <g>\n",
       "       <use style=\"fill:#262626;stroke:#262626;stroke-width:2.5;\" x=\"375.119875\" xlink:href=\"#m0b54643ccf\" y=\"140.936582\"/>\n",
       "      </g>\n",
       "     </g>\n",
       "     <g id=\"text_11\">\n",
       "      <!-- 2000 -->\n",
       "      <g style=\"fill:#262626;\" transform=\"translate(390.619875 149.294863)scale(0.22 -0.22)\">\n",
       "       <use xlink:href=\"#DejaVuSerif-50\"/>\n",
       "       <use x=\"63.623047\" xlink:href=\"#DejaVuSerif-48\"/>\n",
       "       <use x=\"127.246094\" xlink:href=\"#DejaVuSerif-48\"/>\n",
       "       <use x=\"190.869141\" xlink:href=\"#DejaVuSerif-48\"/>\n",
       "      </g>\n",
       "     </g>\n",
       "    </g>\n",
       "    <g id=\"ytick_6\">\n",
       "     <g id=\"line2d_4\">\n",
       "      <g>\n",
       "       <use style=\"fill:#262626;stroke:#262626;stroke-width:2.5;\" x=\"375.119875\" xlink:href=\"#m0b54643ccf\" y=\"91.164873\"/>\n",
       "      </g>\n",
       "     </g>\n",
       "     <g id=\"text_12\">\n",
       "      <!-- 3000 -->\n",
       "      <g style=\"fill:#262626;\" transform=\"translate(390.619875 99.523154)scale(0.22 -0.22)\">\n",
       "       <use xlink:href=\"#DejaVuSerif-51\"/>\n",
       "       <use x=\"63.623047\" xlink:href=\"#DejaVuSerif-48\"/>\n",
       "       <use x=\"127.246094\" xlink:href=\"#DejaVuSerif-48\"/>\n",
       "       <use x=\"190.869141\" xlink:href=\"#DejaVuSerif-48\"/>\n",
       "      </g>\n",
       "     </g>\n",
       "    </g>\n",
       "    <g id=\"ytick_7\">\n",
       "     <g id=\"line2d_5\">\n",
       "      <g>\n",
       "       <use style=\"fill:#262626;stroke:#262626;stroke-width:2.5;\" x=\"375.119875\" xlink:href=\"#m0b54643ccf\" y=\"41.393164\"/>\n",
       "      </g>\n",
       "     </g>\n",
       "     <g id=\"text_13\">\n",
       "      <!-- 4000 -->\n",
       "      <g style=\"fill:#262626;\" transform=\"translate(390.619875 49.751445)scale(0.22 -0.22)\">\n",
       "       <use xlink:href=\"#DejaVuSerif-52\"/>\n",
       "       <use x=\"63.623047\" xlink:href=\"#DejaVuSerif-48\"/>\n",
       "       <use x=\"127.246094\" xlink:href=\"#DejaVuSerif-48\"/>\n",
       "       <use x=\"190.869141\" xlink:href=\"#DejaVuSerif-48\"/>\n",
       "      </g>\n",
       "     </g>\n",
       "    </g>\n",
       "   </g>\n",
       "   <image height=\"233\" id=\"image933a57e12c\" transform=\"scale(1 -1)translate(0 -233)\" width=\"12\" x=\"363\" xlink:href=\"data:image/png;base64,\n",
       "iVBORw0KGgoAAAANSUhEUgAAAAwAAADpCAYAAAAQ/NbWAAABG0lEQVR4nO2YQQ4DIQwDU4n/P7eHSsA+oQySI5OlZyzHcWLYfr6/OQP82gx0Pho8Hw2ej8YUvFUDZzAsiZ3fMu58DQPWlDCt4dfWCqmBna4QZFfDCuCOxhoDBfhpGH4lVWirfuP0DPrR0BvnqAGvKBet1oBLyniR0S7JGQw1DLgQjkGW4TQEJGwcZehQdcJO4zDOaCsE8OGTl9T9hm+jrRCQccdRgLykTtNbP3yO167fLOk1bISAfqft2pqggRHsZCt+whXYB8vvOHkY87i3E12DQb5xfKcNu3QZBAxjsBeTp4bzfTB0mv8rnZB8akAJ0Qlxf334DzDUcENgBWAoOjBgdMqARwNrwAyGJfkxVHCaXlnvnKUKTp/P8ADX2/RTeCmmgQAAAABJRU5ErkJggg==\" y=\"-7\"/>\n",
       "   <g id=\"patch_4\">\n",
       "    <path d=\"M 363.455875 240.48 \n",
       "L 363.455875 239.56875 \n",
       "L 363.455875 8.11125 \n",
       "L 363.455875 7.2 \n",
       "L 375.119875 7.2 \n",
       "L 375.119875 8.11125 \n",
       "L 375.119875 239.56875 \n",
       "L 375.119875 240.48 \n",
       "z\n",
       "\" style=\"fill:none;\"/>\n",
       "   </g>\n",
       "  </g>\n",
       " </g>\n",
       " <defs>\n",
       "  <clipPath id=\"p0c42978ab3\">\n",
       "   <rect height=\"233.28\" width=\"300.672\" x=\"43.991875\" y=\"7.2\"/>\n",
       "  </clipPath>\n",
       "  <clipPath id=\"p7fb93d8124\">\n",
       "   <rect height=\"233.28\" width=\"11.664\" x=\"363.455875\" y=\"7.2\"/>\n",
       "  </clipPath>\n",
       " </defs>\n",
       "</svg>\n"
      ],
      "text/plain": [
       "<Figure size 432x288 with 2 Axes>"
      ]
     },
     "metadata": {},
     "output_type": "display_data"
    }
   ],
   "source": [
    "dc = DummyClassifier(strategy='most_frequent').fit(X_tr, y_tr)\n",
    "y_pred_dc_tr = dc.predict(X_tr)\n",
    "y_pred_dc_val = dc.predict(X_val)\n",
    "get_metrics(X_tr, y_tr, X_val, y_val, y_pred_dc_tr, y_pred_dc_val, dc)"
   ]
  },
  {
   "cell_type": "code",
   "execution_count": 14,
   "metadata": {
    "hidden": true
   },
   "outputs": [
    {
     "ename": "NameError",
     "evalue": "name 'counter' is not defined",
     "output_type": "error",
     "traceback": [
      "\u001b[0;31m---------------------------------------------------------------------------\u001b[0m",
      "\u001b[0;31mNameError\u001b[0m                                 Traceback (most recent call last)",
      "\u001b[0;32m<ipython-input-14-ce1d12018a4e>\u001b[0m in \u001b[0;36m<module>\u001b[0;34m\u001b[0m\n\u001b[1;32m      1\u001b[0m \u001b[0msm\u001b[0m \u001b[0;34m=\u001b[0m \u001b[0mSMOTE\u001b[0m\u001b[0;34m(\u001b[0m\u001b[0msampling_strategy\u001b[0m\u001b[0;34m=\u001b[0m\u001b[0;34m'minority'\u001b[0m\u001b[0;34m,\u001b[0m \u001b[0mrandom_state\u001b[0m\u001b[0;34m=\u001b[0m\u001b[0;36m42\u001b[0m\u001b[0;34m)\u001b[0m\u001b[0;34m\u001b[0m\u001b[0;34m\u001b[0m\u001b[0m\n\u001b[1;32m      2\u001b[0m \u001b[0mX_tr_smote\u001b[0m\u001b[0;34m,\u001b[0m \u001b[0my_tr_smote\u001b[0m \u001b[0;34m=\u001b[0m \u001b[0msm\u001b[0m\u001b[0;34m.\u001b[0m\u001b[0mfit_sample\u001b[0m\u001b[0;34m(\u001b[0m\u001b[0mX_tr\u001b[0m\u001b[0;34m,\u001b[0m \u001b[0my_tr\u001b[0m\u001b[0;34m)\u001b[0m\u001b[0;34m\u001b[0m\u001b[0;34m\u001b[0m\u001b[0m\n\u001b[0;32m----> 3\u001b[0;31m \u001b[0mcounter\u001b[0m\u001b[0;34m(\u001b[0m\u001b[0my_tr_smote\u001b[0m\u001b[0;34m)\u001b[0m\u001b[0;34m\u001b[0m\u001b[0;34m\u001b[0m\u001b[0m\n\u001b[0m",
      "\u001b[0;31mNameError\u001b[0m: name 'counter' is not defined"
     ]
    }
   ],
   "source": [
    "sm = SMOTE(sampling_strategy='minority', random_state=42)\n",
    "X_tr_smote, y_tr_smote = sm.fit_sample(X_tr, y_tr)\n",
    "counter(y_tr_smote)"
   ]
  },
  {
   "cell_type": "markdown",
   "metadata": {},
   "source": [
    "## Upsampling and Downsampling"
   ]
  },
  {
   "cell_type": "code",
   "execution_count": null,
   "metadata": {},
   "outputs": [],
   "source": [
    "# define model\n",
    "dtc = DecisionTreeClassifier()\n",
    "# define pipeline\n",
    "over = SMOTE(sampling_strategy=0.1)\n",
    "under = RandomUnderSampler(sampling_strategy=0.5)\n",
    "steps = [('o', over), ('u', under), ('m', dtc)]"
   ]
  }
 ],
 "metadata": {
  "kernelspec": {
   "display_name": "Python 3",
   "language": "python",
   "name": "python3"
  },
  "language_info": {
   "codemirror_mode": {
    "name": "ipython",
    "version": 3
   },
   "file_extension": ".py",
   "mimetype": "text/x-python",
   "name": "python",
   "nbconvert_exporter": "python",
   "pygments_lexer": "ipython3",
   "version": "3.9.1-final"
  },
  "toc": {
   "base_numbering": 1,
   "nav_menu": {},
   "number_sections": true,
   "sideBar": true,
   "skip_h1_title": false,
   "title_cell": "Table of Contents",
   "title_sidebar": "Contents",
   "toc_cell": false,
   "toc_position": {},
   "toc_section_display": true,
   "toc_window_display": false
  }
 },
 "nbformat": 4,
 "nbformat_minor": 2
}