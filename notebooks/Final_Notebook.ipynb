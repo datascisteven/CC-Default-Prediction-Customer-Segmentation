{
 "cells": [
  {
   "cell_type": "markdown",
   "metadata": {},
   "source": [
    "<h1><center><font size=\"6\">Hyperparameter Tuning and Class Imbalance Notebook</font></center></h1>\n",
    "\n",
    "# Contents\n",
    "\n",
    "- <a href='#1'>Importing Packages</a>\n",
    "- <a href='#2'>Preparing Data for Modeling</a>  \n",
    "- <a href='#3'>Hyperparameter Tuning</a>\n",
    "    - <a href='#31'>Logistic Regression with GridSearchCV</a>\n",
    "    - <a href='#32'>Random Forest Classifier with GridSearchCV</a>\n",
    "    - <a href='#33'>AdaBoost Classifier with GridSearchCV</a>\n",
    "    - <a href='#34'>Gradient Boosting Classifier with GridSearchCV</a>\n",
    "    - <a href='#35'>XGBoost Classifier with GridSearchCV</a>\n",
    "    - <a href='#36'>Evaluation Metrics</a>\n",
    "- <a href='#4'>Class Imbalance</a>\n",
    "    - <a href='#41'>Ensemble Methods</a>\n",
    "    - <a href='#42'>Undersampling/Downsampling Methods for Majority Class</a>\n",
    "    - <a href='#43'>Oversampling/Upsampling Methods for Minority Class</a>\n"
   ]
  },
  {
   "cell_type": "markdown",
   "metadata": {
    "code_folding": [],
    "heading_collapsed": true
   },
   "source": [
    "# <a id='1'>Importing Packages</a>"
   ]
  },
  {
   "cell_type": "code",
   "execution_count": 56,
   "metadata": {
    "hidden": true,
    "run_control": {
     "marked": true
    }
   },
   "outputs": [],
   "source": [
    "import numpy as np \n",
    "import pandas as pd\n",
    "import re\n",
    "from matplotlib import pyplot as plt\n",
    "from matplotlib import style\n",
    "import seaborn as sns\n",
    "import warnings\n",
    "warnings.filterwarnings('ignore')\n",
    "%matplotlib inline\n",
    "import itertools\n",
    "from collections import Counter\n",
    "\n",
    "\n",
    "from sklearn import linear_model\n",
    "from sklearn.linear_model import LogisticRegression, SGDClassifier\n",
    "from sklearn.tree import DecisionTreeClassifier\n",
    "from sklearn.discriminant_analysis import LinearDiscriminantAnalysis\n",
    "from sklearn.neighbors import KNeighborsClassifier\n",
    "from sklearn.svm import SVC\n",
    "from sklearn.naive_bayes import GaussianNB\n",
    "from sklearn.experimental import enable_hist_gradient_boosting\n",
    "from sklearn.ensemble import AdaBoostClassifier, GradientBoostingClassifier, RandomForestClassifier, BaggingClassifier, HistGradientBoostingClassifier\n",
    "from sklearn.model_selection import train_test_split, KFold, cross_val_score, cross_val_predict, GridSearchCV\n",
    "from sklearn.metrics import accuracy_score, confusion_matrix, precision_score, recall_score, f1_score, precision_recall_curve, roc_curve, roc_auc_score, classification_report, plot_confusion_matrix, auc, mean_squared_error, confusion_matrix, balanced_accuracy_score\n",
    "from sklearn.preprocessing import StandardScaler, OneHotEncoder\n",
    "from sklearn.pipeline import make_pipeline\n",
    "from sklearn.impute import SimpleImputer\n",
    "from sklearn.compose import ColumnTransformer, make_column_selector as selector\n",
    "from imblearn.under_sampling import CondensedNearestNeighbour\n",
    "from imblearn.ensemble import BalancedBaggingClassifier, BalancedRandomForestClassifier, EasyEnsembleClassifier, RUSBoostClassifier\n",
    "from imblearn.metrics import geometric_mean_score\n",
    "from imblearn.under_sampling import TomekLinks\n",
    "\n",
    "import xgboost as xgb\n",
    "from xgboost.sklearn import XGBClassifier\n",
    "\n",
    "\n",
    "%reload_ext autoreload\n",
    "%autoreload 2\n",
    "\n",
    "from utils import *\n",
    "\n",
    "plt.style.use(\"fivethirtyeight\")\n",
    "sns.set_theme(style=\"darkgrid\", font='serif', context='poster')\n",
    "\n",
    "import pickle\n",
    "\n",
    "from imblearn.under_sampling import NeighbourhoodCleaningRule\n",
    "from matplotlib import pyplot\n",
    "from numpy import where\n",
    "from imblearn.under_sampling import NearMiss \n",
    "from imblearn.under_sampling import OneSidedSelection\n",
    "from numpy import mean\n",
    "from sklearn.model_selection import cross_val_score\n",
    "from sklearn.model_selection import RepeatedStratifiedKFold\n",
    "from sklearn.tree import DecisionTreeClassifier\n",
    "from imblearn.pipeline import Pipeline\n",
    "from imblearn.over_sampling import RandomOverSampler\n",
    "from imblearn.under_sampling import RandomUnderSampler\n",
    "from imblearn.over_sampling import SMOTE\n",
    "from sklearn.dummy import DummyClassifier\n",
    "from sklearn.utils import resample\n",
    "from sklearn.model_selection import cross_validate"
   ]
  },
  {
   "cell_type": "markdown",
   "metadata": {
    "heading_collapsed": true
   },
   "source": [
    "# <a id='2'>Preparing Data for Modeling</a>"
   ]
  },
  {
   "cell_type": "code",
   "execution_count": 59,
   "metadata": {
    "hidden": true
   },
   "outputs": [],
   "source": [
    "pickle_in = open(\"../data/pickles/training_model.pickle\",\"rb\")\n",
    "train = pickle.load(pickle_in)\n",
    "pickle_in = open(\"../data/pickles/validate_model.pickle\",\"rb\")\n",
    "validate = pickle.load(pickle_in)"
   ]
  },
  {
   "cell_type": "code",
   "execution_count": 60,
   "metadata": {},
   "outputs": [
    {
     "output_type": "execute_result",
     "data": {
      "text/plain": [
       "     limit  behind1    paid2  delayed  latemths  age  behind2  billed1  \\\n",
       "0  1790.26        0   179.13        0         0   44        0  1631.93   \n",
       "1  5728.83       -1   173.87        0         0   46       -1   891.69   \n",
       "2  3580.52       -1     0.00        0         0   47       -1   238.68   \n",
       "3  6086.88        0    89.26        0         0   29        0  2831.87   \n",
       "4  5370.78       -2  1171.37        0         0   33       -2   873.40   \n",
       "\n",
       "     avg_av    avail1  default  \n",
       "0  0.344578  0.088440        0  \n",
       "1  0.957227  0.844350        0  \n",
       "2  0.968650  0.933339        1  \n",
       "3  0.650602  0.534758        0  \n",
       "4  0.836153  0.837379        0  "
      ],
      "text/html": "<div>\n<style scoped>\n    .dataframe tbody tr th:only-of-type {\n        vertical-align: middle;\n    }\n\n    .dataframe tbody tr th {\n        vertical-align: top;\n    }\n\n    .dataframe thead th {\n        text-align: right;\n    }\n</style>\n<table border=\"1\" class=\"dataframe\">\n  <thead>\n    <tr style=\"text-align: right;\">\n      <th></th>\n      <th>limit</th>\n      <th>behind1</th>\n      <th>paid2</th>\n      <th>delayed</th>\n      <th>latemths</th>\n      <th>age</th>\n      <th>behind2</th>\n      <th>billed1</th>\n      <th>avg_av</th>\n      <th>avail1</th>\n      <th>default</th>\n    </tr>\n  </thead>\n  <tbody>\n    <tr>\n      <th>0</th>\n      <td>1790.26</td>\n      <td>0</td>\n      <td>179.13</td>\n      <td>0</td>\n      <td>0</td>\n      <td>44</td>\n      <td>0</td>\n      <td>1631.93</td>\n      <td>0.344578</td>\n      <td>0.088440</td>\n      <td>0</td>\n    </tr>\n    <tr>\n      <th>1</th>\n      <td>5728.83</td>\n      <td>-1</td>\n      <td>173.87</td>\n      <td>0</td>\n      <td>0</td>\n      <td>46</td>\n      <td>-1</td>\n      <td>891.69</td>\n      <td>0.957227</td>\n      <td>0.844350</td>\n      <td>0</td>\n    </tr>\n    <tr>\n      <th>2</th>\n      <td>3580.52</td>\n      <td>-1</td>\n      <td>0.00</td>\n      <td>0</td>\n      <td>0</td>\n      <td>47</td>\n      <td>-1</td>\n      <td>238.68</td>\n      <td>0.968650</td>\n      <td>0.933339</td>\n      <td>1</td>\n    </tr>\n    <tr>\n      <th>3</th>\n      <td>6086.88</td>\n      <td>0</td>\n      <td>89.26</td>\n      <td>0</td>\n      <td>0</td>\n      <td>29</td>\n      <td>0</td>\n      <td>2831.87</td>\n      <td>0.650602</td>\n      <td>0.534758</td>\n      <td>0</td>\n    </tr>\n    <tr>\n      <th>4</th>\n      <td>5370.78</td>\n      <td>-2</td>\n      <td>1171.37</td>\n      <td>0</td>\n      <td>0</td>\n      <td>33</td>\n      <td>-2</td>\n      <td>873.40</td>\n      <td>0.836153</td>\n      <td>0.837379</td>\n      <td>0</td>\n    </tr>\n  </tbody>\n</table>\n</div>"
     },
     "metadata": {},
     "execution_count": 60
    }
   ],
   "source": [
    "train.head()"
   ]
  },
  {
   "cell_type": "code",
   "execution_count": 61,
   "metadata": {
    "hidden": true
   },
   "outputs": [],
   "source": [
    "X_train = train.drop([\"default\"], axis=1)\n",
    "y_tr = train[\"default\"]\n",
    "X_validate = validate.drop([\"default\"], axis=1)\n",
    "y_val = validate[\"default\"]"
   ]
  },
  {
   "cell_type": "code",
   "execution_count": 62,
   "metadata": {
    "hidden": true
   },
   "outputs": [],
   "source": [
    "scaler = StandardScaler()\n",
    "scaler.fit(X_train)\n",
    "X_tr = scaler.transform(X_train)\n",
    "X_val = scaler.transform(X_validate)"
   ]
  },
  {
   "cell_type": "markdown",
   "metadata": {},
   "source": [
    "# <a id='3'>Hyperparameter Tuning</a>"
   ]
  },
  {
   "cell_type": "markdown",
   "metadata": {
    "heading_collapsed": true
   },
   "source": [
    "## <a id='31'>Logistic Regression with GridSearchCV</a>"
   ]
  },
  {
   "cell_type": "code",
   "execution_count": 36,
   "metadata": {
    "code_folding": [
     0
    ],
    "hidden": true
   },
   "outputs": [],
   "source": [
    "# logreg = LogisticRegression()\n",
    "# params = {'C': [0.001, 0.01, 0.1, 1, 10], \n",
    "#           'penalty': ['none', 'l1', 'l2', 'elasticnet'],\n",
    "#           'solver': ['liblinear', 'newton-cg', 'lbfgs', 'sag', 'saga']}\n",
    "# gslog = GridSearchCV(estimator = logreg,\n",
    "#                      param_grid = params,\n",
    "#                      scoring = 'average_precision',\n",
    "#                      cv = 10,\n",
    "#                      n_jobs = -1).fit(X_tr, y_tr)\n",
    "# y_pred_gslog_tr = gslog.predict(X_tr)\n",
    "# y_pred_gslog_val = gslog.predict(X_val)\n",
    "# print(\"Best: %f using %s\" % (gslog.best_score_, gslog.best_params_))\n",
    "# print(\"\")\n",
    "# get_metrics(X_tr, y_tr, X_val, y_val, y_pred_gslog_tr, y_pred_gslog_val, gslog)\n",
    "\n",
    "# Best: 0.522622 using {'C': 1, 'penalty': 'l2', 'solver': 'newton-cg'}"
   ]
  },
  {
   "cell_type": "code",
   "execution_count": 37,
   "metadata": {
    "hidden": true,
    "run_control": {
     "marked": true
    }
   },
   "outputs": [
    {
     "output_type": "stream",
     "name": "stdout",
     "text": [
      "Training Accuracy:  0.8087142857142857\nValidation Accuracy:  0.8071666666666667\nTraining F1 Score:  0.40320903283316006\nValidation F1 Score:  0.380952380952381\nTraining AUC Score:  0.7476971040793051\nValidation AUC Score:  0.7467126831177808\nTraining Recall Score:  0.2914518900343643\nValidation Recall Score:  0.27113480578827115\nTraining Precision Score:  0.6539759036144578\nValidation Precision Score:  0.6402877697841727\nTraining Average Precision Score:  0.5205202430336466\nValidation Average Precision Score:  0.4986582661881126\n"
     ]
    }
   ],
   "source": [
    "logb = LogisticRegression(C=1, penalty='l2', solver='newton-cg').fit(X_tr, y_tr)\n",
    "y_pred_logb_tr = logb.predict(X_tr)\n",
    "y_pred_logb_val = logb.predict(X_val)\n",
    "get_metric(X_tr, y_tr, X_val, y_val, y_pred_logb_tr, y_pred_logb_val, logb)"
   ]
  },
  {
   "cell_type": "markdown",
   "metadata": {
    "heading_collapsed": true
   },
   "source": [
    "## <a id='33'>Random Forest Classifier with GridSearchCV</a>"
   ]
  },
  {
   "cell_type": "code",
   "execution_count": 27,
   "metadata": {
    "code_folding": [
     0
    ],
    "hidden": true,
    "run_control": {
     "marked": true
    }
   },
   "outputs": [],
   "source": [
    "# rfc = RandomForestClassifier()\n",
    "# params = {'n_estimators': [100, 200, 400, 600, 1000],\n",
    "#           'criterion': ['entropy', 'gini'],\n",
    "#           'max_depth': [5, 8, 15, 25, 30],\n",
    "#           'min_samples_split': [2, 5, 10, 15, 100],\n",
    "#           'min_samples_leaf': [1, 2, 5, 10]}\n",
    "# gsrfc = GridSearchCV(estimator = rfc,\n",
    "#                      param_grid = params,\n",
    "#                      scoring = 'average_precision',\n",
    "#                      cv = 5,\n",
    "#                      n_jobs = -1).fit(X_tr, y_tr)\n",
    "# y_pred_gsrfc_tr = gsrfc.predict(X_tr)\n",
    "# y_pred_gsrfc_val = gsrfc.predict(X_val)\n",
    "# print(\"Best: %f using %s\" % (gsrfc.best_score_, gsrfc.best_params_))\n",
    "# print(\"\")\n",
    "# get_metrics(X_tr, y_tr, X_val, y_val, y_pred_gsrfc_tr, y_pred_gsrfc_val, gsrfc)\n",
    "\n",
    "# Best: 0.565196 using {'criterion': 'gini', 'max_depth': 8, 'min_samples_leaf': 1, 'min_samples_split': 2, 'n_estimators': 400}"
   ]
  },
  {
   "cell_type": "code",
   "execution_count": 53,
   "metadata": {
    "hidden": true
   },
   "outputs": [
    {
     "output_type": "stream",
     "name": "stdout",
     "text": [
      "Training Accuracy:  0.8333333333333334\nValidation Accuracy:  0.82\nTraining F1 Score:  0.5149667405764967\nValidation F1 Score:  0.46375372393247266\nTraining AUC Score:  0.8263813590913907\nValidation AUC Score:  0.7805258862036932\nTraining Recall Score:  0.39905498281786944\nValidation Recall Score:  0.3556740289413557\nTraining Precision Score:  0.72578125\nValidation Precision Score:  0.666191155492154\nTraining Average Precision Score:  0.6523890600337748\nValidation Average Precision Score:  0.5445212676503224\n"
     ]
    }
   ],
   "source": [
    "rfcb = RandomForestClassifier(criterion='gini', max_depth=8, min_samples_leaf=1, min_samples_split=2, n_estimators=400).fit(X_tr, y_tr)\n",
    "y_pred_rfcb_tr = rfcb.predict(X_tr)\n",
    "y_pred_rfcb_val = rfcb.predict(X_val)\n",
    "get_metric(X_tr, y_tr, X_val, y_val, y_pred_rfcb_tr, y_pred_rfcb_val, rfcb)"
   ]
  },
  {
   "cell_type": "markdown",
   "metadata": {
    "heading_collapsed": true
   },
   "source": [
    "## <a id='34'>AdaBoost Classifier with GridSearchCV</a>"
   ]
  },
  {
   "cell_type": "code",
   "execution_count": 28,
   "metadata": {
    "code_folding": [
     0
    ],
    "hidden": true,
    "run_control": {
     "marked": true
    }
   },
   "outputs": [],
   "source": [
    "# abc = AdaBoostClassifier()\n",
    "# params = {'n_estimators': [10, 50, 100, 200],\n",
    "#           'learning_rate': [0.001, 0.01, 0.1, 0.2, 0.5]}\n",
    "# gsabc = GridSearchCV(estimator = abc,\n",
    "#                      param_grid = params,\n",
    "#                      n_jobs = -1,\n",
    "#                      cv = 5,\n",
    "#                      scoring = 'average_precision').fit(X_tr, y_tr)\n",
    "# y_pred_gsabc_tr = gsabc.predict(X_tr)\n",
    "# y_pred_gsabc_val = gsabc.predict(X_val)\n",
    "# print(\"Best: %f using %s\" % (gsabc.best_score_, gsabc.best_params_))\n",
    "# print(\"\")\n",
    "# get_metrics(X_tr, y_tr, X_val, y_val, y_pred_gsabc_tr, y_pred_gsabc_val, gsabc)\n",
    "\n",
    "# Best: 0.545818 using {'learning_rate': 0.1, 'n_estimators': 200}"
   ]
  },
  {
   "cell_type": "code",
   "execution_count": 43,
   "metadata": {
    "hidden": true
   },
   "outputs": [
    {
     "output_type": "stream",
     "name": "stdout",
     "text": [
      "Training Accuracy:  0.8192380952380952\nValidation Accuracy:  0.8208333333333333\nTraining F1 Score:  0.44969556393157434\nValidation F1 Score:  0.4438696326952923\nTraining AUC Score:  0.7866775976198166\nValidation AUC Score:  0.7772694027703144\nTraining Recall Score:  0.3331185567010309\nValidation Recall Score:  0.32673267326732675\nTraining Precision Score:  0.691793041926851\nValidation Precision Score:  0.6919354838709677\nTraining Average Precision Score:  0.5528304845005094\nValidation Average Precision Score:  0.5244329096074963\n"
     ]
    }
   ],
   "source": [
    "abcb = AdaBoostClassifier(learning_rate=0.1, n_estimators=200).fit(X_tr, y_tr)\n",
    "y_pred_abcb_tr = abcb.predict(X_tr)\n",
    "y_pred_abcb_val = abcb.predict(X_val)\n",
    "get_metric(X_tr, y_tr, X_val, y_val, y_pred_abcb_tr, y_pred_abcb_val, abcb)"
   ]
  },
  {
   "cell_type": "markdown",
   "metadata": {
    "heading_collapsed": true
   },
   "source": [
    "## <a id='35'>Gradient Boosting with GridSearchCV</a>"
   ]
  },
  {
   "cell_type": "code",
   "execution_count": 29,
   "metadata": {
    "code_folding": [
     0
    ],
    "hidden": true,
    "run_control": {
     "marked": true
    }
   },
   "outputs": [],
   "source": [
    "# gbc = GradientBoostingClassifier()\n",
    "# params = {'n_estimators': [10, 100, 1000],\n",
    "#           'learning_rate': [0.001, 0.01, 0.1],\n",
    "#           'max_depth': [3, 7, 9]}\n",
    "# gsgbc = GridSearchCV(estimator = gbc,\n",
    "#                      param_grid = params, \n",
    "#                      n_jobs = -1, \n",
    "#                      cv = 5, \n",
    "#                      scoring = 'average_precision').fit(X_tr, y_tr)\n",
    "# y_pred_gsgbc_tr = gsgbc.predict(X_tr)\n",
    "# y_pred_gsgbc_val = gsgbc.predict(X_val)\n",
    "# print(\"Best: %f using %s\" % (gsgbc.best_score_, gsgbc.best_params_))\n",
    "# print(\"\")\n",
    "# get_metric(X_tr, y_tr, X_val, y_val, y_pred_gsgbc_tr, y_pred_gsgbc_tr, gsgbc)\n",
    "\n",
    "# Best: 0.558390 using {'learning_rate': 0.01, 'max_depth': 3, 'n_estimators': 1000}"
   ]
  },
  {
   "cell_type": "code",
   "execution_count": 44,
   "metadata": {
    "hidden": true,
    "run_control": {
     "marked": true
    }
   },
   "outputs": [
    {
     "output_type": "stream",
     "name": "stdout",
     "text": [
      "Training Accuracy:  0.8276190476190476\nValidation Accuracy:  0.8196666666666667\nTraining F1 Score:  0.49694274596998333\nValidation F1 Score:  0.4622266401590458\nTraining AUC Score:  0.805111244939135\nValidation AUC Score:  0.7812120218438938\nTraining Recall Score:  0.38402061855670105\nValidation Recall Score:  0.3541507996953541\nTraining Precision Score:  0.7039370078740157\nValidation Precision Score:  0.6652360515021459\nTraining Average Precision Score:  0.6003473510491001\nValidation Average Precision Score:  0.5434988921201059\n"
     ]
    }
   ],
   "source": [
    "gbcb = GradientBoostingClassifier(learning_rate=0.01, max_depth=3, n_estimators=1000).fit(X_tr, y_tr)\n",
    "y_pred_gbcb_tr = gbcb.predict(X_tr)\n",
    "y_pred_gbcb_val = gbcb.predict(X_val)\n",
    "get_metric(X_tr, y_tr, X_val, y_val, y_pred_gbcb_tr, y_pred_gbcb_val, gbcb)"
   ]
  },
  {
   "cell_type": "markdown",
   "metadata": {
    "heading_collapsed": true
   },
   "source": [
    "## <a id='36'>XGBoost Classifier with GridSearchCV</a>"
   ]
  },
  {
   "cell_type": "code",
   "execution_count": 32,
   "metadata": {
    "code_folding": [
     0
    ],
    "hidden": true,
    "run_control": {
     "marked": true
    }
   },
   "outputs": [],
   "source": [
    "# xgb = XGBClassifier()\n",
    "# params = {'n_estimators': [50, 100, 150, 200], \n",
    "#           'max_depth': [3, 5, 7, 10], \n",
    "#           'min_child_weight': [2, 3, 4, 5]}\n",
    "# gsxgb = GridSearchCV(estimator = xgb,\n",
    "#                      param_grid = params,\n",
    "#                      scoring = 'average_precision',\n",
    "#                      cv = 5,\n",
    "#                      n_jobs = -1).fit(X_tr, y_tr)\n",
    "# y_pred_gsxgb_tr = gsxgb.predict(X_tr)\n",
    "# y_pred_gsxgb_val = gsxgb.predict(X_val)\n",
    "# print(\"Best: %f using %s\" % (gsxgb.best_score_, gsxgb.best_params_))\n",
    "# print(\"\")\n",
    "# get_metrics(X_tr, y_tr, X_val, y_val, y_pred_gsxgb_tr, y_pred_gsxgb_val, gsxgb)\n",
    "\n",
    "# Best: 0.555500 using {'max_depth': 3, 'min_child_weight': 5, 'n_estimators': 50}\n"
   ]
  },
  {
   "cell_type": "code",
   "execution_count": 46,
   "metadata": {
    "hidden": true,
    "run_control": {
     "marked": true
    }
   },
   "outputs": [
    {
     "output_type": "stream",
     "name": "stdout",
     "text": [
      "[11:59:18] WARNING: /Users/runner/miniforge3/conda-bld/xgboost_1607604592557/work/src/learner.cc:1061: Starting in XGBoost 1.3.0, the default evaluation metric used with the objective 'binary:logistic' was changed from 'error' to 'logloss'. Explicitly set eval_metric if you'd like to restore the old behavior.\n",
      "Training Accuracy:  0.8276190476190476\n",
      "Validation Accuracy:  0.8185\n",
      "Training F1 Score:  0.49833702882483377\n",
      "Validation F1 Score:  0.4579392732702837\n",
      "Training AUC Score:  0.810540741434586\n",
      "Validation AUC Score:  0.7767761488364293\n",
      "Training Recall Score:  0.3861683848797251\n",
      "Validation Recall Score:  0.3503427265803503\n",
      "Training Precision Score:  0.70234375\n",
      "Validation Precision Score:  0.6609195402298851\n",
      "Training Average Precision Score:  0.6011613543281619\n",
      "Validation Average Precision Score:  0.5393954705676095\n"
     ]
    }
   ],
   "source": [
    "xgbb = XGBClassifier(max_depth=3, min_child_weight=1, n_estimators=50).fit(X_tr, y_tr)\n",
    "y_pred_xgbb_tr = xgbb.predict(X_tr)\n",
    "y_pred_xgbb_val = xgbb.predict(X_val)\n",
    "get_metric(X_tr, y_tr, X_val, y_val, y_pred_xgbb_tr, y_pred_xgbb_val, xgbb)"
   ]
  },
  {
   "source": [
    "**Best Hyperparameters for each Model:**\n",
    "\n",
    "- "
   ],
   "cell_type": "markdown",
   "metadata": {}
  },
  {
   "cell_type": "markdown",
   "metadata": {
    "heading_collapsed": true
   },
   "source": [
    "## <a id='37'>Evaluation Metrics</a>"
   ]
  },
  {
   "cell_type": "code",
   "execution_count": 47,
   "metadata": {
    "code_folding": [
     0
    ],
    "hidden": true
   },
   "outputs": [],
   "source": [
    "data = {'Accuracy': [accuracy(y_val, y_pred_logb_val), \n",
    "                     accuracy(y_val, y_pred_rfcb_val), \n",
    "                     accuracy(y_val, y_pred_abcb_val), \n",
    "                     accuracy(y_val, y_pred_gbcb_val),\n",
    "                     accuracy(y_val, y_pred_xgbb_val)],\n",
    "        'F1 Score': [f1(y_val, y_pred_logb_val), \n",
    "                     f1(y_val, y_pred_rfcb_val), \n",
    "                     f1(y_val, y_pred_abcb_val), \n",
    "                     f1(y_val, y_pred_gbcb_val),\n",
    "                     f1(y_val, y_pred_xgbb_val)],\n",
    "        'Recall': [recall(y_val, y_pred_logb_val), \n",
    "                   recall(y_val, y_pred_rfcb_val), \n",
    "                   recall(y_val, y_pred_abcb_val),\n",
    "                   recall(y_val, y_pred_gbcb_val),\n",
    "                   recall(y_val, y_pred_xgbb_val)],\n",
    "        'Precision': [precision(y_val, y_pred_logb_val), \n",
    "                      precision(y_val, y_pred_rfcb_val), \n",
    "                      precision(y_val, y_pred_abcb_val),\n",
    "                      precision(y_val, y_pred_gbcb_val),\n",
    "                      precision(y_val, y_pred_xgbb_val)],\n",
    "        'PR AUC': [aps(X_val, y_val, logb),\n",
    "                   aps(X_val, y_val, rfcb),\n",
    "                   aps(X_val, y_val, abcb),\n",
    "                   aps(X_val, y_val, gbcb),\n",
    "                   aps(X_val, y_val, xgbb)]}\n",
    "scores3 = pd.DataFrame(data=data, index = ['Logistic Regression with GridSearchCV', \n",
    "                                          'Random Forest with GridSearchCV', \n",
    "                                          'AdaBoost with GridSearchCV', \n",
    "                                          'Gradient Boosting with GridSearchCV',\n",
    "                                          'XGBoost with GridSearchCV'])"
   ]
  },
  {
   "cell_type": "code",
   "execution_count": 51,
   "metadata": {
    "hidden": true
   },
   "outputs": [
    {
     "output_type": "execute_result",
     "data": {
      "text/plain": [
       "                                       Accuracy  F1 Score    Recall  \\\n",
       "Logistic Regression with GridSearchCV  0.807167  0.380952  0.271135   \n",
       "Random Forest with GridSearchCV        0.820667  0.464143  0.354912   \n",
       "AdaBoost with GridSearchCV             0.820833  0.443870  0.326733   \n",
       "Gradient Boosting with GridSearchCV    0.819667  0.462227  0.354151   \n",
       "XGBoost with GridSearchCV              0.818500  0.457939  0.350343   \n",
       "\n",
       "                                       Precision    PR AUC  \n",
       "Logistic Regression with GridSearchCV   0.640288  0.498658  \n",
       "Random Forest with GridSearchCV         0.670504  0.545164  \n",
       "AdaBoost with GridSearchCV              0.691935  0.524433  \n",
       "Gradient Boosting with GridSearchCV     0.665236  0.543499  \n",
       "XGBoost with GridSearchCV               0.660920  0.539395  "
      ],
      "text/html": "<div>\n<style scoped>\n    .dataframe tbody tr th:only-of-type {\n        vertical-align: middle;\n    }\n\n    .dataframe tbody tr th {\n        vertical-align: top;\n    }\n\n    .dataframe thead th {\n        text-align: right;\n    }\n</style>\n<table border=\"1\" class=\"dataframe\">\n  <thead>\n    <tr style=\"text-align: right;\">\n      <th></th>\n      <th>Accuracy</th>\n      <th>F1 Score</th>\n      <th>Recall</th>\n      <th>Precision</th>\n      <th>PR AUC</th>\n    </tr>\n  </thead>\n  <tbody>\n    <tr>\n      <th>Logistic Regression with GridSearchCV</th>\n      <td>0.807167</td>\n      <td>0.380952</td>\n      <td>0.271135</td>\n      <td>0.640288</td>\n      <td>0.498658</td>\n    </tr>\n    <tr>\n      <th>Random Forest with GridSearchCV</th>\n      <td>0.820667</td>\n      <td>0.464143</td>\n      <td>0.354912</td>\n      <td>0.670504</td>\n      <td>0.545164</td>\n    </tr>\n    <tr>\n      <th>AdaBoost with GridSearchCV</th>\n      <td>0.820833</td>\n      <td>0.443870</td>\n      <td>0.326733</td>\n      <td>0.691935</td>\n      <td>0.524433</td>\n    </tr>\n    <tr>\n      <th>Gradient Boosting with GridSearchCV</th>\n      <td>0.819667</td>\n      <td>0.462227</td>\n      <td>0.354151</td>\n      <td>0.665236</td>\n      <td>0.543499</td>\n    </tr>\n    <tr>\n      <th>XGBoost with GridSearchCV</th>\n      <td>0.818500</td>\n      <td>0.457939</td>\n      <td>0.350343</td>\n      <td>0.660920</td>\n      <td>0.539395</td>\n    </tr>\n  </tbody>\n</table>\n</div>"
     },
     "metadata": {},
     "execution_count": 51
    }
   ],
   "source": [
    "scores3"
   ]
  },
  {
   "cell_type": "code",
   "execution_count": 49,
   "metadata": {},
   "outputs": [],
   "source": [
    "scores3.to_csv(\"../data/charts/scores3.csv\")"
   ]
  },
  {
   "source": [
    "## Pickle out best model"
   ],
   "cell_type": "markdown",
   "metadata": {}
  },
  {
   "cell_type": "code",
   "execution_count": 54,
   "metadata": {},
   "outputs": [
    {
     "output_type": "execute_result",
     "data": {
      "text/plain": [
       "RandomForestClassifier(max_depth=8, n_estimators=400)"
      ]
     },
     "metadata": {},
     "execution_count": 54
    }
   ],
   "source": [
    "rfcb"
   ]
  },
  {
   "cell_type": "code",
   "execution_count": 55,
   "metadata": {},
   "outputs": [],
   "source": [
    "pickle_out = open(\"../data/best_model.pickle\",\"wb\")\n",
    "pickle.dump(rfcb, pickle_out)\n",
    "pickle_out.close()"
   ]
  },
  {
   "cell_type": "markdown",
   "metadata": {},
   "source": [
    "# <a id='4'>Class Imbalance</a>"
   ]
  },
  {
   "cell_type": "code",
   "execution_count": 64,
   "metadata": {},
   "outputs": [
    {
     "output_type": "execute_result",
     "data": {
      "text/plain": [
       "     limit  behind1    paid2  delayed  latemths  age  behind2  billed1  \\\n",
       "0  1790.26        0   179.13        0         0   44        0  1631.93   \n",
       "1  5728.83       -1   173.87        0         0   46       -1   891.69   \n",
       "2  3580.52       -1     0.00        0         0   47       -1   238.68   \n",
       "3  6086.88        0    89.26        0         0   29        0  2831.87   \n",
       "4  5370.78       -2  1171.37        0         0   33       -2   873.40   \n",
       "\n",
       "     avg_av    avail1  \n",
       "0  0.344578  0.088440  \n",
       "1  0.957227  0.844350  \n",
       "2  0.968650  0.933339  \n",
       "3  0.650602  0.534758  \n",
       "4  0.836153  0.837379  "
      ],
      "text/html": "<div>\n<style scoped>\n    .dataframe tbody tr th:only-of-type {\n        vertical-align: middle;\n    }\n\n    .dataframe tbody tr th {\n        vertical-align: top;\n    }\n\n    .dataframe thead th {\n        text-align: right;\n    }\n</style>\n<table border=\"1\" class=\"dataframe\">\n  <thead>\n    <tr style=\"text-align: right;\">\n      <th></th>\n      <th>limit</th>\n      <th>behind1</th>\n      <th>paid2</th>\n      <th>delayed</th>\n      <th>latemths</th>\n      <th>age</th>\n      <th>behind2</th>\n      <th>billed1</th>\n      <th>avg_av</th>\n      <th>avail1</th>\n    </tr>\n  </thead>\n  <tbody>\n    <tr>\n      <th>0</th>\n      <td>1790.26</td>\n      <td>0</td>\n      <td>179.13</td>\n      <td>0</td>\n      <td>0</td>\n      <td>44</td>\n      <td>0</td>\n      <td>1631.93</td>\n      <td>0.344578</td>\n      <td>0.088440</td>\n    </tr>\n    <tr>\n      <th>1</th>\n      <td>5728.83</td>\n      <td>-1</td>\n      <td>173.87</td>\n      <td>0</td>\n      <td>0</td>\n      <td>46</td>\n      <td>-1</td>\n      <td>891.69</td>\n      <td>0.957227</td>\n      <td>0.844350</td>\n    </tr>\n    <tr>\n      <th>2</th>\n      <td>3580.52</td>\n      <td>-1</td>\n      <td>0.00</td>\n      <td>0</td>\n      <td>0</td>\n      <td>47</td>\n      <td>-1</td>\n      <td>238.68</td>\n      <td>0.968650</td>\n      <td>0.933339</td>\n    </tr>\n    <tr>\n      <th>3</th>\n      <td>6086.88</td>\n      <td>0</td>\n      <td>89.26</td>\n      <td>0</td>\n      <td>0</td>\n      <td>29</td>\n      <td>0</td>\n      <td>2831.87</td>\n      <td>0.650602</td>\n      <td>0.534758</td>\n    </tr>\n    <tr>\n      <th>4</th>\n      <td>5370.78</td>\n      <td>-2</td>\n      <td>1171.37</td>\n      <td>0</td>\n      <td>0</td>\n      <td>33</td>\n      <td>-2</td>\n      <td>873.40</td>\n      <td>0.836153</td>\n      <td>0.837379</td>\n    </tr>\n  </tbody>\n</table>\n</div>"
     },
     "metadata": {},
     "execution_count": 64
    }
   ],
   "source": [
    "X_train.head()"
   ]
  },
  {
   "cell_type": "code",
   "execution_count": 65,
   "metadata": {},
   "outputs": [
    {
     "output_type": "execute_result",
     "data": {
      "text/plain": [
       "     limit  behind1   paid2  delayed  latemths  age  behind2  billed1  \\\n",
       "0  1074.16        0   71.61        0         0   25        0   317.38   \n",
       "1  5370.78        0  151.64        0         0   26        0  4895.86   \n",
       "2  2506.36        0  111.43        0         0   32        0  2510.73   \n",
       "3  4654.68        0   64.74        0         0   49        0   740.38   \n",
       "4  1790.26        0   53.71        1         1   36        0  3373.85   \n",
       "\n",
       "     avg_av    avail1  \n",
       "0  0.602052  0.704532  \n",
       "1  0.293715  0.088427  \n",
       "2  0.005217 -0.001744  \n",
       "3  0.883482  0.840939  \n",
       "4  0.188227 -0.884559  "
      ],
      "text/html": "<div>\n<style scoped>\n    .dataframe tbody tr th:only-of-type {\n        vertical-align: middle;\n    }\n\n    .dataframe tbody tr th {\n        vertical-align: top;\n    }\n\n    .dataframe thead th {\n        text-align: right;\n    }\n</style>\n<table border=\"1\" class=\"dataframe\">\n  <thead>\n    <tr style=\"text-align: right;\">\n      <th></th>\n      <th>limit</th>\n      <th>behind1</th>\n      <th>paid2</th>\n      <th>delayed</th>\n      <th>latemths</th>\n      <th>age</th>\n      <th>behind2</th>\n      <th>billed1</th>\n      <th>avg_av</th>\n      <th>avail1</th>\n    </tr>\n  </thead>\n  <tbody>\n    <tr>\n      <th>0</th>\n      <td>1074.16</td>\n      <td>0</td>\n      <td>71.61</td>\n      <td>0</td>\n      <td>0</td>\n      <td>25</td>\n      <td>0</td>\n      <td>317.38</td>\n      <td>0.602052</td>\n      <td>0.704532</td>\n    </tr>\n    <tr>\n      <th>1</th>\n      <td>5370.78</td>\n      <td>0</td>\n      <td>151.64</td>\n      <td>0</td>\n      <td>0</td>\n      <td>26</td>\n      <td>0</td>\n      <td>4895.86</td>\n      <td>0.293715</td>\n      <td>0.088427</td>\n    </tr>\n    <tr>\n      <th>2</th>\n      <td>2506.36</td>\n      <td>0</td>\n      <td>111.43</td>\n      <td>0</td>\n      <td>0</td>\n      <td>32</td>\n      <td>0</td>\n      <td>2510.73</td>\n      <td>0.005217</td>\n      <td>-0.001744</td>\n    </tr>\n    <tr>\n      <th>3</th>\n      <td>4654.68</td>\n      <td>0</td>\n      <td>64.74</td>\n      <td>0</td>\n      <td>0</td>\n      <td>49</td>\n      <td>0</td>\n      <td>740.38</td>\n      <td>0.883482</td>\n      <td>0.840939</td>\n    </tr>\n    <tr>\n      <th>4</th>\n      <td>1790.26</td>\n      <td>0</td>\n      <td>53.71</td>\n      <td>1</td>\n      <td>1</td>\n      <td>36</td>\n      <td>0</td>\n      <td>3373.85</td>\n      <td>0.188227</td>\n      <td>-0.884559</td>\n    </tr>\n  </tbody>\n</table>\n</div>"
     },
     "metadata": {},
     "execution_count": 65
    }
   ],
   "source": [
    "X_validate.head()"
   ]
  },
  {
   "source": [
    "## Dummy Classifier as Baseline"
   ],
   "cell_type": "markdown",
   "metadata": {}
  },
  {
   "cell_type": "code",
   "execution_count": 87,
   "metadata": {
    "hidden": true
   },
   "outputs": [
    {
     "output_type": "stream",
     "name": "stdout",
     "text": [
      "Training Accuracy:  0.7782857142857142\nValidation Accuracy:  0.7811666666666667\nTraining F1 Score:  0.0\nValidation F1 Score:  0.0\nTraining AUC Score:  0.5\nValidation AUC Score:  0.5\nTraining Recall Score:  0.0\nValidation Recall Score:  0.0\nTraining Precision Score:  0.0\nValidation Precision Score:  0.0\nTraining Average Precision Score:  0.22171428571428572\nValidation Average Precision Score:  0.21883333333333332\n"
     ]
    }
   ],
   "source": [
    "dc = DummyClassifier(strategy='most_frequent').fit(X_tr, y_tr)\n",
    "y_pred_dc_tr = dc.predict(X_tr)\n",
    "y_pred_dc_val = dc.predict(X_val)\n",
    "get_metric(X_tr, y_tr, X_val, y_val, y_pred_dc_tr, y_pred_dc_val, dc)"
   ]
  },
  {
   "cell_type": "markdown",
   "metadata": {
    "heading_collapsed": true
   },
   "source": [
    "## <a id='41'>Ensemble Methods</a>"
   ]
  },
  {
   "cell_type": "code",
   "execution_count": 66,
   "metadata": {
    "hidden": true
   },
   "outputs": [
    {
     "output_type": "stream",
     "name": "stdout",
     "text": [
      "Training Accuracy:  0.996904761904762\nValidation Accuracy:  0.807\nTraining F1 Score:  0.9929964443486693\nValidation F1 Score:  0.44326923076923075\nTraining AUC Score:  0.9998954304300327\nValidation AUC Score:  0.740359286457933\nTraining Recall Score:  0.9896907216494846\nValidation Recall Score:  0.3511043412033511\nTraining Precision Score:  0.9963243243243243\nValidation Precision Score:  0.6010430247718384\nTraining Average Precision Score:  0.9996190235446103\nValidation Average Precision Score:  0.48114820511254575\n\nBagging Classifier Performance:\nBalanced training accuracy: 0.99 - Geometric mean 0.99\nBalanced validation accuracy: 0.64 - Geometric mean 0.57\n"
     ]
    }
   ],
   "source": [
    "bc = BaggingClassifier(n_estimators=50, random_state=42).fit(X_tr, y_tr)\n",
    "y_pred_bc_tr = bc.predict(X_tr)\n",
    "y_pred_bc_val = bc.predict(X_val)\n",
    "get_metric(X_tr, y_tr, X_val, y_val, y_pred_bc_tr, y_pred_bc_val, bc)\n",
    "print(\"\")\n",
    "print('Bagging Classifier Performance:')\n",
    "print('Balanced training accuracy: {:.2f} - Geometric mean {:.2f}'.format(balanced_accuracy_score(y_tr, y_pred_bc_tr), geometric_mean_score(y_tr, y_pred_bc_tr)))\n",
    "print('Balanced validation accuracy: {:.2f} - Geometric mean {:.2f}'.format(balanced_accuracy_score(y_val, y_pred_bc_val), geometric_mean_score(y_val, y_pred_bc_val)))"
   ]
  },
  {
   "cell_type": "code",
   "execution_count": 68,
   "metadata": {
    "hidden": true
   },
   "outputs": [
    {
     "output_type": "stream",
     "name": "stdout",
     "text": [
      "Training Accuracy:  0.9383333333333334\nValidation Accuracy:  0.7631666666666667\nTraining F1 Score:  0.8778186621379375\nValidation F1 Score:  0.5111799105607154\nTraining AUC Score:  0.9955504481714446\nValidation AUC Score:  0.7528188434539899\nTraining Recall Score:  0.9991408934707904\nValidation Recall Score:  0.5658796648895659\nTraining Precision Score:  0.7827696449604576\nValidation Precision Score:  0.46612296110414053\nTraining Average Precision Score:  0.9819759873453777\nValidation Average Precision Score:  0.499848233823849\n\nBalanced Bagging Classifier Performance:\nBalanced training accuracy: 0.96 - Geometric mean 0.00\nBalanced validation accuracy: 0.69 - Geometric mean 0.68\n"
     ]
    }
   ],
   "source": [
    "bbc = BalancedBaggingClassifier(n_estimators=50, random_state=42).fit(X_tr, y_tr)\n",
    "y_pred_bbc_tr = bbc.predict(X_tr)\n",
    "y_pred_bbc_val = bbc.predict(X_val)\n",
    "get_metric(X_tr, y_tr, X_val, y_val, y_pred_bbc_tr, y_pred_bbc_val, bbc)\n",
    "print(\"\")\n",
    "print('Balanced Bagging Classifier Performance:')\n",
    "print('Balanced training accuracy: {:.2f} - Geometric mean {:.2f}'.format(balanced_accuracy_score(y_tr, y_pred_bbc_tr), geometric_mean_score(y_val, y_pred_bbc_tr)))\n",
    "print('Balanced validation accuracy: {:.2f} - Geometric mean {:.2f}'.format(balanced_accuracy_score(y_val, y_pred_bbc_val), geometric_mean_score(y_val, y_pred_bbc_val)))"
   ]
  },
  {
   "cell_type": "markdown",
   "metadata": {},
   "source": [
    "## <a id='42'>Undersampling/Downsampling Methods for Majority Class</a>"
   ]
  },
  {
   "cell_type": "code",
   "execution_count": 69,
   "metadata": {},
   "outputs": [
    {
     "output_type": "stream",
     "name": "stdout",
     "text": [
      "Baseline:  Counter({0: 16344, 1: 4656})\n"
     ]
    }
   ],
   "source": [
    "# separate minority and majority classes\n",
    "majority = train[train.default==0]\n",
    "minority = train[train.default==1]\n",
    "\n",
    "#baseline counts\n",
    "counter = Counter(y_tr)\n",
    "print(\"Baseline: \", counter)"
   ]
  },
  {
   "cell_type": "code",
   "execution_count": 70,
   "metadata": {},
   "outputs": [
    {
     "output_type": "stream",
     "name": "stdout",
     "text": [
      "1    4656\n0    4656\nName: default, dtype: int64\n"
     ]
    }
   ],
   "source": [
    "downsampled = resample(majority, replace = False, n_samples = len(minority), random_state=42)\n",
    "dns = pd.concat([downsampled, minority])\n",
    "print(dns.default.value_counts())"
   ]
  },
  {
   "cell_type": "code",
   "execution_count": 71,
   "metadata": {},
   "outputs": [
    {
     "output_type": "stream",
     "name": "stdout",
     "text": [
      "Near Miss:  Counter({0: 4656, 1: 4656})\n"
     ]
    }
   ],
   "source": [
    "ns = NearMiss(version=1, n_neighbors=3)\n",
    "X_tr_nm, y_tr_nm = ns.fit_resample(X_tr, y_tr)\n",
    "counter_nm = Counter(y_tr_nm)\n",
    "print(\"Near Miss: \", counter_nm)"
   ]
  },
  {
   "cell_type": "code",
   "execution_count": 72,
   "metadata": {},
   "outputs": [
    {
     "output_type": "stream",
     "name": "stdout",
     "text": [
      "Neighborhood Cleaning Rule:  Counter({0: 10215, 1: 4656})\n"
     ]
    }
   ],
   "source": [
    "ncr = NeighbourhoodCleaningRule(n_neighbors=3, threshold_cleaning=0.5)\n",
    "X_tr_ncr, y_tr_ncr = ncr.fit_resample(X_tr, y_tr)\n",
    "counter_ncr = Counter(y_tr_ncr)\n",
    "print(\"Neighborhood Cleaning Rule: \", counter_ncr)\n"
   ]
  },
  {
   "cell_type": "code",
   "execution_count": 73,
   "metadata": {},
   "outputs": [
    {
     "output_type": "stream",
     "name": "stdout",
     "text": [
      "One Sided Selection:  Counter({0: 13578, 1: 4656})\n"
     ]
    }
   ],
   "source": [
    "oss = OneSidedSelection(n_neighbors=1, n_seeds_S=200)\n",
    "X_tr_oss, y_tr_oss = oss.fit_resample(X_tr, y_tr)\n",
    "counter_oss = Counter(y_tr_oss)\n",
    "print(\"One Sided Selection: \", counter_oss)"
   ]
  },
  {
   "source": [
    "### TomekLinks"
   ],
   "cell_type": "markdown",
   "metadata": {}
  },
  {
   "cell_type": "code",
   "execution_count": 77,
   "metadata": {},
   "outputs": [
    {
     "output_type": "stream",
     "name": "stdout",
     "text": [
      "Tomek Links:  Counter({0: 14844, 1: 4656})\n"
     ]
    }
   ],
   "source": [
    "tl = TomekLinks()\n",
    "X_tr_tk, y_tr_tk = tl.fit_resample(X_tr, y_tr)\n",
    "counter_tk_tr = Counter(y_tr_tk)\n",
    "print(\"Tomek Links: \", counter_tk_tr)"
   ]
  },
  {
   "cell_type": "code",
   "execution_count": 80,
   "metadata": {},
   "outputs": [
    {
     "output_type": "stream",
     "name": "stdout",
     "text": [
      "Tomek Links:  Counter({0: 4271, 1: 1313})\n"
     ]
    }
   ],
   "source": [
    "X_val_tk, y_val_tk = tl.fit_resample(X_val, y_val)\n",
    "counter_tk_val = Counter(y_val_tk)\n",
    "print(\"Tomek Links: \", counter_tk_val)"
   ]
  },
  {
   "cell_type": "code",
   "execution_count": 83,
   "metadata": {},
   "outputs": [],
   "source": [
    "rfctomek = rfcb.fit(X_tr_tk, y_tr_tk)\n",
    "y_pred_rfctk_tr = rfctomek.predict(X_tr_tk)\n",
    "y_pred_rfctk_val = rfctomek.predict(X_val_tk)"
   ]
  },
  {
   "cell_type": "code",
   "execution_count": 84,
   "metadata": {},
   "outputs": [
    {
     "output_type": "stream",
     "name": "stdout",
     "text": [
      "Training Accuracy:  0.8400512820512821\nValidation Accuracy:  0.8234240687679083\nTraining F1 Score:  0.5716247768163715\nValidation F1 Score:  0.5152409046214357\nTraining AUC Score:  0.840326646551397\nValidation AUC Score:  0.7966817961265896\nTraining Recall Score:  0.44695017182130586\nValidation Recall Score:  0.3990860624523991\nTraining Precision Score:  0.7927619047619048\nValidation Precision Score:  0.7267683772538142\nTraining Average Precision Score:  0.7041020024896908\nValidation Average Precision Score:  0.6044979671881536\n"
     ]
    }
   ],
   "source": [
    "get_metric(X_tr_tk, y_tr_tk, X_val_tk, y_val_tk, y_pred_rfctk_tr, y_pred_rfctk_val, rfctomek)"
   ]
  },
  {
   "source": [
    "### Edited Nearest Neighbor"
   ],
   "cell_type": "markdown",
   "metadata": {}
  },
  {
   "cell_type": "code",
   "execution_count": 95,
   "metadata": {},
   "outputs": [
    {
     "output_type": "stream",
     "name": "stdout",
     "text": [
      "ENN:  Counter({0: 9921, 1: 4656})\n"
     ]
    }
   ],
   "source": [
    "from imblearn.under_sampling import EditedNearestNeighbours\n",
    "\n",
    "enn = EditedNearestNeighbours()\n",
    "X_tr_enn, y_tr_enn = enn.fit_resample(X_tr, y_tr)\n",
    "counter_enn_tr = Counter(y_tr_enn)\n",
    "print(\"ENN: \", counter_enn_tr)"
   ]
  },
  {
   "cell_type": "code",
   "execution_count": 97,
   "metadata": {},
   "outputs": [
    {
     "output_type": "stream",
     "name": "stdout",
     "text": [
      "ENN:  Counter({0: 2811, 1: 1313})\n"
     ]
    }
   ],
   "source": [
    "X_val_enn, y_val_enn = enn.fit_resample(X_val, y_val)\n",
    "counter_enn_val = Counter(y_val_enn)\n",
    "print(\"ENN: \", counter_enn_val)"
   ]
  },
  {
   "cell_type": "code",
   "execution_count": 98,
   "metadata": {},
   "outputs": [
    {
     "output_type": "stream",
     "name": "stdout",
     "text": [
      "Training Accuracy:  0.8494203196816903\nValidation Accuracy:  0.8217749757516973\nTraining F1 Score:  0.713857384956329\nValidation F1 Score:  0.6651480637813211\nTraining AUC Score:  0.8926924442788753\nValidation AUC Score:  0.8490285281709354\nTraining Recall Score:  0.5880584192439863\nValidation Recall Score:  0.555978674790556\nTraining Precision Score:  0.9081260364842454\nValidation Precision Score:  0.8276643990929705\nTraining Average Precision Score:  0.8542295194453019\nValidation Average Precision Score:  0.7911057997458948\n"
     ]
    }
   ],
   "source": [
    "rfcenn = rfcb.fit(X_tr_enn, y_tr_enn)\n",
    "y_pred_rfcenn_tr = rfcenn.predict(X_tr_enn)\n",
    "y_pred_rfcenn_val = rfcenn.predict(X_val_enn)\n",
    "get_metric(X_tr_enn, y_tr_enn, X_val_enn, y_val_enn, y_pred_rfcenn_tr, y_pred_rfcenn_val, rfcenn)"
   ]
  },
  {
   "source": [
    "## Upsampling/Oversampling Methods for Minority Class"
   ],
   "cell_type": "markdown",
   "metadata": {}
  },
  {
   "cell_type": "code",
   "execution_count": 86,
   "metadata": {
    "hidden": true
   },
   "outputs": [
    {
     "output_type": "stream",
     "name": "stdout",
     "text": [
      "Counter({0: 16344, 1: 16344})\n"
     ]
    }
   ],
   "source": [
    "# Random Upsampling\n",
    "upsampled = resample(minority, replace=True, n_samples=len(majority), random_state=42) \n",
    "ups = pd.concat([majority, upsampled])\n",
    "y = ups['default']\n",
    "counter_upsample = Counter(y)\n",
    "print(counter_upsample)"
   ]
  },
  {
   "source": [
    "### SMOTE"
   ],
   "cell_type": "markdown",
   "metadata": {}
  },
  {
   "cell_type": "code",
   "execution_count": 100,
   "metadata": {},
   "outputs": [
    {
     "output_type": "stream",
     "name": "stdout",
     "text": [
      "SMOTE:  Counter({0: 16344, 1: 16344})\n"
     ]
    }
   ],
   "source": [
    "sm = SMOTE(sampling_strategy='minority', random_state=42)\n",
    "X_tr_sm, y_tr_sm = sm.fit_resample(X_tr, y_tr)\n",
    "counter_sm_tr = Counter(y_tr_sm)\n",
    "print(\"SMOTE: \", counter_sm_tr)"
   ]
  },
  {
   "cell_type": "code",
   "execution_count": 102,
   "metadata": {},
   "outputs": [
    {
     "output_type": "stream",
     "name": "stdout",
     "text": [
      "SMOTE:  Counter({0: 4687, 1: 4687})\n"
     ]
    }
   ],
   "source": [
    "X_val_sm, y_val_sm = sm.fit_resample(X_val, y_val)\n",
    "counter_sm_val = Counter(y_val_sm)\n",
    "print(\"SMOTE: \", counter_sm_val)"
   ]
  },
  {
   "cell_type": "code",
   "execution_count": 107,
   "metadata": {},
   "outputs": [
    {
     "output_type": "stream",
     "name": "stdout",
     "text": [
      "Training Accuracy:  0.7607684777288302\nValidation Accuracy:  0.722210369106038\nTraining F1 Score:  0.7450775850828009\nValidation F1 Score:  0.6985413290113452\nTraining AUC Score:  0.8460107149450065\nValidation AUC Score:  0.8034223373130215\nTraining Recall Score:  0.6992168379833578\nValidation Recall Score:  0.6436953275016002\nTraining Precision Score:  0.7973765001395479\nValidation Precision Score:  0.7636041508478866\nTraining Average Precision Score:  0.8516893822745881\nValidation Average Precision Score:  0.8110946639988013\n"
     ]
    }
   ],
   "source": [
    "rfcsm = rfcb.fit(X_tr_sm, y_tr_sm)\n",
    "y_pred_rfcsm_tr = rfcsm.predict(X_tr_sm)\n",
    "y_pred_rfcsm_val = rfcsm.predict(X_val_sm)\n",
    "get_metric(X_tr_sm, y_tr_sm, X_val_sm, y_val_sm, y_pred_rfcsm_tr, y_pred_rfcsm_val, rfcsm)"
   ]
  },
  {
   "source": [
    "### ADASYN"
   ],
   "cell_type": "markdown",
   "metadata": {}
  },
  {
   "cell_type": "code",
   "execution_count": 105,
   "metadata": {},
   "outputs": [
    {
     "output_type": "stream",
     "name": "stdout",
     "text": [
      "SMOTE:  Counter({1: 16573, 0: 16344})\n"
     ]
    }
   ],
   "source": [
    "from imblearn.over_sampling import ADASYN\n",
    "\n",
    "adsn = ADASYN()\n",
    "X_tr_ad, y_tr_ad = adsn.fit_resample(X_tr, y_tr)\n",
    "counter_ad_tr = Counter(y_tr_ad)\n",
    "print(\"SMOTE: \", counter_ad_tr)"
   ]
  },
  {
   "cell_type": "code",
   "execution_count": 106,
   "metadata": {},
   "outputs": [
    {
     "output_type": "stream",
     "name": "stdout",
     "text": [
      "SMOTE:  Counter({0: 4687, 1: 4536})\n"
     ]
    }
   ],
   "source": [
    "X_val_ad, y_val_ad = adsn.fit_resample(X_val, y_val)\n",
    "counter_ad_val = Counter(y_val_ad)\n",
    "print(\"SMOTE: \", counter_ad_val)"
   ]
  },
  {
   "cell_type": "code",
   "execution_count": 108,
   "metadata": {},
   "outputs": [
    {
     "output_type": "stream",
     "name": "stdout",
     "text": [
      "Training Accuracy:  0.7387368229182489\nValidation Accuracy:  0.692833134554917\nTraining F1 Score:  0.7327864777529207\nValidation F1 Score:  0.672296124927704\nTraining AUC Score:  0.8175359821019387\nValidation AUC Score:  0.7672107011814359\nTraining Recall Score:  0.711518735292343\nValidation Recall Score:  0.640652557319224\nTraining Precision Score:  0.7553648068669528\nValidation Precision Score:  0.7072280360184959\nTraining Average Precision Score:  0.8187784066680115\nValidation Average Precision Score:  0.7655912049884797\n"
     ]
    }
   ],
   "source": [
    "rfcad = rfcb.fit(X_tr_ad, y_tr_ad)\n",
    "y_pred_rfcad_tr = rfcad.predict(X_tr_ad)\n",
    "y_pred_rfcad_val = rfcad.predict(X_val_ad)\n",
    "get_metric(X_tr_ad, y_tr_ad, X_val_ad, y_val_ad, y_pred_rfcad_tr, y_pred_rfcad_val, rfcad)"
   ]
  },
  {
   "cell_type": "markdown",
   "metadata": {},
   "source": [
    "## Hybridized Methods"
   ]
  },
  {
   "source": [
    "### SMOTETomek"
   ],
   "cell_type": "markdown",
   "metadata": {}
  },
  {
   "cell_type": "code",
   "execution_count": 110,
   "metadata": {},
   "outputs": [
    {
     "output_type": "stream",
     "name": "stdout",
     "text": [
      "SMOTETomek:  Counter({0: 15643, 1: 15643})\n"
     ]
    }
   ],
   "source": [
    "from imblearn.combine import SMOTETomek\n",
    "\n",
    "smtk = SMOTETomek()\n",
    "X_tr_smtk, y_tr_smtk = smtk.fit_resample(X_tr, y_tr)\n",
    "counter_smtk_tr = Counter(y_tr_smtk)\n",
    "print(\"SMOTETomek: \", counter_smtk_tr)"
   ]
  },
  {
   "cell_type": "code",
   "execution_count": 111,
   "metadata": {},
   "outputs": [
    {
     "output_type": "stream",
     "name": "stdout",
     "text": [
      "SMOTETomek:  Counter({0: 4471, 1: 4471})\n"
     ]
    }
   ],
   "source": [
    "X_val_smtk, y_val_smtk = smtk.fit_resample(X_val, y_val)\n",
    "counter_smtk_val = Counter(y_val_smtk)\n",
    "print(\"SMOTETomek: \", counter_smtk_val)"
   ]
  },
  {
   "cell_type": "code",
   "execution_count": 113,
   "metadata": {},
   "outputs": [
    {
     "output_type": "stream",
     "name": "stdout",
     "text": [
      "Training Accuracy:  0.7692897781755418\nValidation Accuracy:  0.7345112950123015\nTraining F1 Score:  0.7526218383713756\nValidation F1 Score:  0.7106994881793808\nTraining AUC Score:  0.8555163090488357\nValidation AUC Score:  0.8132931372490657\nTraining Recall Score:  0.701911398069424\nValidation Recall Score:  0.652203086557817\nTraining Precision Score:  0.8112301440709272\nValidation Precision Score:  0.7807228915662651\nTraining Average Precision Score:  0.8613191296119896\nValidation Average Precision Score:  0.8208080715161102\n"
     ]
    }
   ],
   "source": [
    "rfcsmtk = rfcb.fit(X_tr_smtk, y_tr_smtk)\n",
    "y_pred_rfcsmtk_tr = rfcsmtk.predict(X_tr_smtk)\n",
    "y_pred_rfcsmtk_val = rfcsmtk.predict(X_val_smtk)\n",
    "get_metric(X_tr_smtk, y_tr_smtk, X_val_smtk, y_val_smtk, y_pred_rfcsmtk_tr, y_pred_rfcsmtk_val, rfcsmtk)"
   ]
  },
  {
   "source": [
    "### SMOTEENN"
   ],
   "cell_type": "markdown",
   "metadata": {}
  },
  {
   "source": [
    "from imblearn.combine import SMOTEENN\n",
    "\n",
    "smenn = SMOTEENN(sampling_strategy=\"minority\", n_jobs= -1)\n",
    "X_tr_smenn, y_tr_smenn = smenn.fit_resample(X_tr, y_tr)\n",
    "counter_smenn_tr = Counter(y_tr_smenn)\n",
    "print(\"SMOTEENN: \", counter_smenn_tr)"
   ],
   "cell_type": "markdown",
   "metadata": {}
  },
  {
   "cell_type": "code",
   "execution_count": 115,
   "metadata": {},
   "outputs": [
    {
     "output_type": "stream",
     "name": "stdout",
     "text": [
      "SMOTEENN:  Counter({1: 3289, 0: 2380})\n"
     ]
    }
   ],
   "source": [
    "X_val_smenn, y_val_smenn = smenn.fit_resample(X_val, y_val)\n",
    "counter_smenn_val = Counter(y_val_smenn)\n",
    "print(\"SMOTEENN: \", counter_smenn_val)"
   ]
  },
  {
   "cell_type": "code",
   "execution_count": 116,
   "metadata": {},
   "outputs": [
    {
     "output_type": "stream",
     "name": "stdout",
     "text": [
      "Training Accuracy:  0.8727996021879662\nValidation Accuracy:  0.8110777914976186\nTraining F1 Score:  0.8854763610315187\nValidation F1 Score:  0.8291048348492103\nTraining AUC Score:  0.9481934939411721\nValidation AUC Score:  0.9080211348753549\nTraining Recall Score:  0.8590913039701156\nValidation Recall Score:  0.7899057464274856\nTraining Precision Score:  0.9135334872979215\nValidation Precision Score:  0.8723975822699799\nTraining Average Precision Score:  0.9647268753117685\nValidation Average Precision Score:  0.9393252106055436\n"
     ]
    }
   ],
   "source": [
    "rfcsmenn = rfcb.fit(X_tr_smenn, y_tr_smenn)\n",
    "y_pred_rfcsmenn_tr = rfcsmenn.predict(X_tr_smenn)\n",
    "y_pred_rfcsmenn_val = rfcsmenn.predict(X_val_smenn)\n",
    "get_metric(X_tr_smenn, y_tr_smenn, X_val_smenn, y_val_smenn, y_pred_rfcsmenn_tr, y_pred_rfcsmenn_val, rfcsmenn)"
   ]
  },
  {
   "source": [],
   "cell_type": "markdown",
   "metadata": {}
  }
 ],
 "metadata": {
  "kernelspec": {
   "display_name": "Python 3",
   "language": "python",
   "name": "python3"
  },
  "language_info": {
   "codemirror_mode": {
    "name": "ipython",
    "version": 3
   },
   "file_extension": ".py",
   "mimetype": "text/x-python",
   "name": "python",
   "nbconvert_exporter": "python",
   "pygments_lexer": "ipython3",
   "version": "3.9.1-final"
  },
  "toc": {
   "base_numbering": 1,
   "nav_menu": {},
   "number_sections": true,
   "sideBar": true,
   "skip_h1_title": false,
   "title_cell": "Table of Contents",
   "title_sidebar": "Contents",
   "toc_cell": false,
   "toc_position": {},
   "toc_section_display": true,
   "toc_window_display": false
  }
 },
 "nbformat": 4,
 "nbformat_minor": 2
}