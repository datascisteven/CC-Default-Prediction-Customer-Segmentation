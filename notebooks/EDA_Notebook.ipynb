{
 "cells": [
  {
   "cell_type": "markdown",
   "metadata": {},
   "source": [
    "<h1><center><font size=\"6\">Data Cleaning, EDA, and Feature Engineering Notebook</font></center></h1>\n",
    "\n",
    "# <a id='0'>Contents</a>\n",
    "\n",
    "- <a href='#1'>Importing Packages</a>  \n",
    "- <a href='#2'>Uploading Data</a>\n",
    "- <a href='#3'>Creating Train, Validation, and Testing Sets</a>  \n",
    "- <a href='#4'>Data Cleaning</a>  \n",
    "- <a href='#5'>Exploratory Data Analysis</a>\n",
    "- <a href='#6'>Feature Engineering</a>  \n"
   ]
  },
  {
   "cell_type": "markdown",
   "metadata": {},
   "source": [
    "# <a id='1'>Importing Packges</a>"
   ]
  },
  {
   "cell_type": "code",
   "execution_count": 2,
   "metadata": {},
   "outputs": [],
   "source": [
    "# Importing Packages\n",
    "import numpy as np \n",
    "import pandas as pd\n",
    "import re\n",
    "import json\n",
    "import requests\n",
    "import warnings\n",
    "warnings.filterwarnings('ignore')\n",
    "pd.set_option(\"display.max_rows\", 999)\n",
    "pd.set_option(\"display.max_columns\", 999)\n",
    "\n",
    "import matplotlib.pyplot as plt\n",
    "from matplotlib import style\n",
    "import seaborn as sns\n",
    "%matplotlib inline\n",
    "plt.style.use(\"fivethirtyeight\")\n",
    "\n",
    "from sklearn.model_selection import train_test_split\n",
    "import pickle"
   ]
  },
  {
   "cell_type": "markdown",
   "metadata": {},
   "source": [
    "# <a id='2'>Uploading Data</a>"
   ]
  },
  {
   "cell_type": "code",
   "execution_count": 3,
   "metadata": {},
   "outputs": [
    {
     "output_type": "execute_result",
     "data": {
      "text/plain": [
       "0 ID LIMIT_BAL SEX EDUCATION MARRIAGE AGE PAY_0 PAY_2 PAY_3 PAY_4 PAY_5 PAY_6  \\\n",
       "1  1     20000   2         2        1  24     2     2    -1    -1    -2    -2   \n",
       "2  2    120000   2         2        2  26    -1     2     0     0     0     2   \n",
       "3  3     90000   2         2        2  34     0     0     0     0     0     0   \n",
       "4  4     50000   2         2        1  37     0     0     0     0     0     0   \n",
       "5  5     50000   1         2        1  57    -1     0    -1     0     0     0   \n",
       "\n",
       "0 BILL_AMT1 BILL_AMT2 BILL_AMT3 BILL_AMT4 BILL_AMT5 BILL_AMT6 PAY_AMT1  \\\n",
       "1      3913      3102       689         0         0         0        0   \n",
       "2      2682      1725      2682      3272      3455      3261        0   \n",
       "3     29239     14027     13559     14331     14948     15549     1518   \n",
       "4     46990     48233     49291     28314     28959     29547     2000   \n",
       "5      8617      5670     35835     20940     19146     19131     2000   \n",
       "\n",
       "0 PAY_AMT2 PAY_AMT3 PAY_AMT4 PAY_AMT5 PAY_AMT6 default  \n",
       "1      689        0        0        0        0       1  \n",
       "2     1000     1000     1000        0     2000       1  \n",
       "3     1500     1000     1000     1000     5000       0  \n",
       "4     2019     1200     1100     1069     1000       0  \n",
       "5    36681    10000     9000      689      679       0  "
      ],
      "text/html": "<div>\n<style scoped>\n    .dataframe tbody tr th:only-of-type {\n        vertical-align: middle;\n    }\n\n    .dataframe tbody tr th {\n        vertical-align: top;\n    }\n\n    .dataframe thead th {\n        text-align: right;\n    }\n</style>\n<table border=\"1\" class=\"dataframe\">\n  <thead>\n    <tr style=\"text-align: right;\">\n      <th></th>\n      <th>ID</th>\n      <th>LIMIT_BAL</th>\n      <th>SEX</th>\n      <th>EDUCATION</th>\n      <th>MARRIAGE</th>\n      <th>AGE</th>\n      <th>PAY_0</th>\n      <th>PAY_2</th>\n      <th>PAY_3</th>\n      <th>PAY_4</th>\n      <th>PAY_5</th>\n      <th>PAY_6</th>\n      <th>BILL_AMT1</th>\n      <th>BILL_AMT2</th>\n      <th>BILL_AMT3</th>\n      <th>BILL_AMT4</th>\n      <th>BILL_AMT5</th>\n      <th>BILL_AMT6</th>\n      <th>PAY_AMT1</th>\n      <th>PAY_AMT2</th>\n      <th>PAY_AMT3</th>\n      <th>PAY_AMT4</th>\n      <th>PAY_AMT5</th>\n      <th>PAY_AMT6</th>\n      <th>default</th>\n    </tr>\n  </thead>\n  <tbody>\n    <tr>\n      <th>1</th>\n      <td>1</td>\n      <td>20000</td>\n      <td>2</td>\n      <td>2</td>\n      <td>1</td>\n      <td>24</td>\n      <td>2</td>\n      <td>2</td>\n      <td>-1</td>\n      <td>-1</td>\n      <td>-2</td>\n      <td>-2</td>\n      <td>3913</td>\n      <td>3102</td>\n      <td>689</td>\n      <td>0</td>\n      <td>0</td>\n      <td>0</td>\n      <td>0</td>\n      <td>689</td>\n      <td>0</td>\n      <td>0</td>\n      <td>0</td>\n      <td>0</td>\n      <td>1</td>\n    </tr>\n    <tr>\n      <th>2</th>\n      <td>2</td>\n      <td>120000</td>\n      <td>2</td>\n      <td>2</td>\n      <td>2</td>\n      <td>26</td>\n      <td>-1</td>\n      <td>2</td>\n      <td>0</td>\n      <td>0</td>\n      <td>0</td>\n      <td>2</td>\n      <td>2682</td>\n      <td>1725</td>\n      <td>2682</td>\n      <td>3272</td>\n      <td>3455</td>\n      <td>3261</td>\n      <td>0</td>\n      <td>1000</td>\n      <td>1000</td>\n      <td>1000</td>\n      <td>0</td>\n      <td>2000</td>\n      <td>1</td>\n    </tr>\n    <tr>\n      <th>3</th>\n      <td>3</td>\n      <td>90000</td>\n      <td>2</td>\n      <td>2</td>\n      <td>2</td>\n      <td>34</td>\n      <td>0</td>\n      <td>0</td>\n      <td>0</td>\n      <td>0</td>\n      <td>0</td>\n      <td>0</td>\n      <td>29239</td>\n      <td>14027</td>\n      <td>13559</td>\n      <td>14331</td>\n      <td>14948</td>\n      <td>15549</td>\n      <td>1518</td>\n      <td>1500</td>\n      <td>1000</td>\n      <td>1000</td>\n      <td>1000</td>\n      <td>5000</td>\n      <td>0</td>\n    </tr>\n    <tr>\n      <th>4</th>\n      <td>4</td>\n      <td>50000</td>\n      <td>2</td>\n      <td>2</td>\n      <td>1</td>\n      <td>37</td>\n      <td>0</td>\n      <td>0</td>\n      <td>0</td>\n      <td>0</td>\n      <td>0</td>\n      <td>0</td>\n      <td>46990</td>\n      <td>48233</td>\n      <td>49291</td>\n      <td>28314</td>\n      <td>28959</td>\n      <td>29547</td>\n      <td>2000</td>\n      <td>2019</td>\n      <td>1200</td>\n      <td>1100</td>\n      <td>1069</td>\n      <td>1000</td>\n      <td>0</td>\n    </tr>\n    <tr>\n      <th>5</th>\n      <td>5</td>\n      <td>50000</td>\n      <td>1</td>\n      <td>2</td>\n      <td>1</td>\n      <td>57</td>\n      <td>-1</td>\n      <td>0</td>\n      <td>-1</td>\n      <td>0</td>\n      <td>0</td>\n      <td>0</td>\n      <td>8617</td>\n      <td>5670</td>\n      <td>35835</td>\n      <td>20940</td>\n      <td>19146</td>\n      <td>19131</td>\n      <td>2000</td>\n      <td>36681</td>\n      <td>10000</td>\n      <td>9000</td>\n      <td>689</td>\n      <td>679</td>\n      <td>0</td>\n    </tr>\n  </tbody>\n</table>\n</div>"
     },
     "metadata": {},
     "execution_count": 3
    }
   ],
   "source": [
    "df = pd.read_excel(\"../data/default of credit card clients.xls\")\n",
    "new_header = df.iloc[0]\n",
    "df = df[1:] \n",
    "df.columns = new_header\n",
    "df = df.rename(columns={\"default payment next month\": \"default\"}) \n",
    "df.head()"
   ]
  },
  {
   "cell_type": "code",
   "execution_count": 4,
   "metadata": {},
   "outputs": [
    {
     "output_type": "execute_result",
     "data": {
      "text/plain": [
       "0\n",
       "ID           object\n",
       "LIMIT_BAL    object\n",
       "SEX          object\n",
       "EDUCATION    object\n",
       "MARRIAGE     object\n",
       "AGE          object\n",
       "PAY_0        object\n",
       "PAY_2        object\n",
       "PAY_3        object\n",
       "PAY_4        object\n",
       "PAY_5        object\n",
       "PAY_6        object\n",
       "BILL_AMT1    object\n",
       "BILL_AMT2    object\n",
       "BILL_AMT3    object\n",
       "BILL_AMT4    object\n",
       "BILL_AMT5    object\n",
       "BILL_AMT6    object\n",
       "PAY_AMT1     object\n",
       "PAY_AMT2     object\n",
       "PAY_AMT3     object\n",
       "PAY_AMT4     object\n",
       "PAY_AMT5     object\n",
       "PAY_AMT6     object\n",
       "default      object\n",
       "dtype: object"
      ]
     },
     "metadata": {},
     "execution_count": 4
    }
   ],
   "source": [
    "df.dtypes"
   ]
  },
  {
   "cell_type": "markdown",
   "metadata": {},
   "source": [
    "# <a id='4'>Creating Train, Validation, and Testing Sets</a>"
   ]
  },
  {
   "cell_type": "code",
   "execution_count": 5,
   "metadata": {},
   "outputs": [],
   "source": [
    "X = df.drop([\"default\"], axis=1)\n",
    "y = df[\"default\"]\n",
    "# split the full data 80:20 into training:validation sets\n",
    "X_train, X_val, y_train, y_val = train_test_split(X, y, train_size=0.8, random_state=42)\n",
    "# split training data 87.5:12.5 into training:testing sets\n",
    "X_tr, X_tt, y_tr, y_tt = train_test_split(X_train, y_train, train_size=0.875, random_state=42)\n",
    "train = pd.concat([X_tr, y_tr], axis=1)\n",
    "val = pd.concat([X_val, y_val], axis=1)"
   ]
  },
  {
   "cell_type": "code",
   "execution_count": 6,
   "metadata": {},
   "outputs": [],
   "source": [
    "# X_tt.to_csv(\"../data/testing.csv\")\n",
    "# y_tt.to_csv(\"../data/testing_labels.csv\")\n",
    "# train.to_csv(\"../data/training.csv\", index=False)\n",
    "# val.to_csv(\"../data/validate.csv\", index=False)"
   ]
  },
  {
   "cell_type": "markdown",
   "metadata": {},
   "source": [
    "# <a id='5'>Data Cleaning</a>"
   ]
  },
  {
   "cell_type": "code",
   "execution_count": 7,
   "metadata": {},
   "outputs": [
    {
     "output_type": "execute_result",
     "data": {
      "text/plain": [
       "LIMIT_BAL    int64\n",
       "SEX          int64\n",
       "EDUCATION    int64\n",
       "MARRIAGE     int64\n",
       "AGE          int64\n",
       "PAY_0        int64\n",
       "PAY_2        int64\n",
       "PAY_3        int64\n",
       "PAY_4        int64\n",
       "PAY_5        int64\n",
       "PAY_6        int64\n",
       "BILL_AMT1    int64\n",
       "BILL_AMT2    int64\n",
       "BILL_AMT3    int64\n",
       "BILL_AMT4    int64\n",
       "BILL_AMT5    int64\n",
       "BILL_AMT6    int64\n",
       "PAY_AMT1     int64\n",
       "PAY_AMT2     int64\n",
       "PAY_AMT3     int64\n",
       "PAY_AMT4     int64\n",
       "PAY_AMT5     int64\n",
       "PAY_AMT6     int64\n",
       "default      int64\n",
       "dtype: object"
      ]
     },
     "metadata": {},
     "execution_count": 7
    }
   ],
   "source": [
    "tr = pd.read_csv(\"../data/training.csv\")\n",
    "val = pd.read_csv(\"../data/validate.csv\")\n",
    "tr = tr.drop([\"ID\"], axis=1)\n",
    "val = val.drop([\"ID\"], axis=1)\n",
    "tr.dtypes"
   ]
  },
  {
   "cell_type": "code",
   "execution_count": 8,
   "metadata": {},
   "outputs": [
    {
     "output_type": "execute_result",
     "data": {
      "text/plain": [
       "   LIMIT_BAL  SEX  EDUCATION  MARRIAGE  AGE  PAY_0  PAY_2  PAY_3  PAY_4  \\\n",
       "0      50000    2          2         1   44      0      0      0      0   \n",
       "1     160000    2          3         1   46     -1     -1     -1      0   \n",
       "2     100000    2          2         1   47     -1     -1     -1     -1   \n",
       "3     170000    2          2         1   29      0      0      0      0   \n",
       "4     150000    2          1         2   33     -2     -2     -2     -2   \n",
       "\n",
       "   PAY_5  PAY_6  BILL_AMT1  BILL_AMT2  BILL_AMT3  BILL_AMT4  BILL_AMT5  \\\n",
       "0      0      0      45578      41906      35703      22360      23659   \n",
       "1     -1     -1      24904       2338       4856       4127       3995   \n",
       "2     -1     -2       6666       6666          0       6270       -396   \n",
       "3      0      0      79091      62575      63317      63903      43505   \n",
       "4     -2     -2      24393      26847      32702      33459      27800   \n",
       "\n",
       "   BILL_AMT6  PAY_AMT1  PAY_AMT2  PAY_AMT3  PAY_AMT4  PAY_AMT5  PAY_AMT6  \\\n",
       "0      27421      3016      5003      3000      3000      5000       924   \n",
       "1        842      2343      4856      1000      3995       842     26313   \n",
       "2       -396      6666         0      6270         0         0         0   \n",
       "3      43995      2235      2493      2585      1683      1901      2111   \n",
       "4       2261     27007     32715     33475     27808      2261    169465   \n",
       "\n",
       "   default  \n",
       "0        0  \n",
       "1        0  \n",
       "2        1  \n",
       "3        0  \n",
       "4        0  "
      ],
      "text/html": "<div>\n<style scoped>\n    .dataframe tbody tr th:only-of-type {\n        vertical-align: middle;\n    }\n\n    .dataframe tbody tr th {\n        vertical-align: top;\n    }\n\n    .dataframe thead th {\n        text-align: right;\n    }\n</style>\n<table border=\"1\" class=\"dataframe\">\n  <thead>\n    <tr style=\"text-align: right;\">\n      <th></th>\n      <th>LIMIT_BAL</th>\n      <th>SEX</th>\n      <th>EDUCATION</th>\n      <th>MARRIAGE</th>\n      <th>AGE</th>\n      <th>PAY_0</th>\n      <th>PAY_2</th>\n      <th>PAY_3</th>\n      <th>PAY_4</th>\n      <th>PAY_5</th>\n      <th>PAY_6</th>\n      <th>BILL_AMT1</th>\n      <th>BILL_AMT2</th>\n      <th>BILL_AMT3</th>\n      <th>BILL_AMT4</th>\n      <th>BILL_AMT5</th>\n      <th>BILL_AMT6</th>\n      <th>PAY_AMT1</th>\n      <th>PAY_AMT2</th>\n      <th>PAY_AMT3</th>\n      <th>PAY_AMT4</th>\n      <th>PAY_AMT5</th>\n      <th>PAY_AMT6</th>\n      <th>default</th>\n    </tr>\n  </thead>\n  <tbody>\n    <tr>\n      <th>0</th>\n      <td>50000</td>\n      <td>2</td>\n      <td>2</td>\n      <td>1</td>\n      <td>44</td>\n      <td>0</td>\n      <td>0</td>\n      <td>0</td>\n      <td>0</td>\n      <td>0</td>\n      <td>0</td>\n      <td>45578</td>\n      <td>41906</td>\n      <td>35703</td>\n      <td>22360</td>\n      <td>23659</td>\n      <td>27421</td>\n      <td>3016</td>\n      <td>5003</td>\n      <td>3000</td>\n      <td>3000</td>\n      <td>5000</td>\n      <td>924</td>\n      <td>0</td>\n    </tr>\n    <tr>\n      <th>1</th>\n      <td>160000</td>\n      <td>2</td>\n      <td>3</td>\n      <td>1</td>\n      <td>46</td>\n      <td>-1</td>\n      <td>-1</td>\n      <td>-1</td>\n      <td>0</td>\n      <td>-1</td>\n      <td>-1</td>\n      <td>24904</td>\n      <td>2338</td>\n      <td>4856</td>\n      <td>4127</td>\n      <td>3995</td>\n      <td>842</td>\n      <td>2343</td>\n      <td>4856</td>\n      <td>1000</td>\n      <td>3995</td>\n      <td>842</td>\n      <td>26313</td>\n      <td>0</td>\n    </tr>\n    <tr>\n      <th>2</th>\n      <td>100000</td>\n      <td>2</td>\n      <td>2</td>\n      <td>1</td>\n      <td>47</td>\n      <td>-1</td>\n      <td>-1</td>\n      <td>-1</td>\n      <td>-1</td>\n      <td>-1</td>\n      <td>-2</td>\n      <td>6666</td>\n      <td>6666</td>\n      <td>0</td>\n      <td>6270</td>\n      <td>-396</td>\n      <td>-396</td>\n      <td>6666</td>\n      <td>0</td>\n      <td>6270</td>\n      <td>0</td>\n      <td>0</td>\n      <td>0</td>\n      <td>1</td>\n    </tr>\n    <tr>\n      <th>3</th>\n      <td>170000</td>\n      <td>2</td>\n      <td>2</td>\n      <td>1</td>\n      <td>29</td>\n      <td>0</td>\n      <td>0</td>\n      <td>0</td>\n      <td>0</td>\n      <td>0</td>\n      <td>0</td>\n      <td>79091</td>\n      <td>62575</td>\n      <td>63317</td>\n      <td>63903</td>\n      <td>43505</td>\n      <td>43995</td>\n      <td>2235</td>\n      <td>2493</td>\n      <td>2585</td>\n      <td>1683</td>\n      <td>1901</td>\n      <td>2111</td>\n      <td>0</td>\n    </tr>\n    <tr>\n      <th>4</th>\n      <td>150000</td>\n      <td>2</td>\n      <td>1</td>\n      <td>2</td>\n      <td>33</td>\n      <td>-2</td>\n      <td>-2</td>\n      <td>-2</td>\n      <td>-2</td>\n      <td>-2</td>\n      <td>-2</td>\n      <td>24393</td>\n      <td>26847</td>\n      <td>32702</td>\n      <td>33459</td>\n      <td>27800</td>\n      <td>2261</td>\n      <td>27007</td>\n      <td>32715</td>\n      <td>33475</td>\n      <td>27808</td>\n      <td>2261</td>\n      <td>169465</td>\n      <td>0</td>\n    </tr>\n  </tbody>\n</table>\n</div>"
     },
     "metadata": {},
     "execution_count": 8
    }
   ],
   "source": [
    "tr.head()"
   ]
  },
  {
   "cell_type": "code",
   "execution_count": 9,
   "metadata": {},
   "outputs": [
    {
     "output_type": "execute_result",
     "data": {
      "text/plain": [
       "            LIMIT_BAL           SEX     EDUCATION      MARRIAGE           AGE  \\\n",
       "count    21000.000000  21000.000000  21000.000000  21000.000000  21000.000000   \n",
       "mean    167214.937143      1.605190      1.854333      1.549476     35.538286   \n",
       "std     129561.159854      0.488821      0.794086      0.523126      9.257936   \n",
       "min      10000.000000      1.000000      0.000000      0.000000     21.000000   \n",
       "25%      50000.000000      1.000000      1.000000      1.000000     28.000000   \n",
       "50%     140000.000000      2.000000      2.000000      2.000000     34.000000   \n",
       "75%     240000.000000      2.000000      2.000000      2.000000     42.000000   \n",
       "max    1000000.000000      2.000000      6.000000      3.000000     79.000000   \n",
       "\n",
       "              PAY_0         PAY_2         PAY_3         PAY_4         PAY_5  \\\n",
       "count  21000.000000  21000.000000  21000.000000  21000.000000  21000.000000   \n",
       "mean      -0.015524     -0.130952     -0.165667     -0.216952     -0.261238   \n",
       "std        1.127750      1.200066      1.194393      1.170611      1.136246   \n",
       "min       -2.000000     -2.000000     -2.000000     -2.000000     -2.000000   \n",
       "25%       -1.000000     -1.000000     -1.000000     -1.000000     -1.000000   \n",
       "50%        0.000000      0.000000      0.000000      0.000000      0.000000   \n",
       "75%        0.000000      0.000000      0.000000      0.000000      0.000000   \n",
       "max        8.000000      8.000000      8.000000      8.000000      8.000000   \n",
       "\n",
       "              PAY_6      BILL_AMT1      BILL_AMT2     BILL_AMT3  \\\n",
       "count  21000.000000   21000.000000   21000.000000  2.100000e+04   \n",
       "mean      -0.284810   51115.879143   49164.750619  4.696772e+04   \n",
       "std        1.156573   73469.974615   71175.850265  6.960624e+04   \n",
       "min       -2.000000 -165580.000000  -69777.000000 -1.572640e+05   \n",
       "25%       -1.000000    3566.500000    3033.500000  2.743750e+03   \n",
       "50%        0.000000   22460.500000   21417.000000  2.007300e+04   \n",
       "75%        0.000000   66759.750000   63291.250000  5.969425e+04   \n",
       "max        8.000000  964511.000000  983931.000000  1.664089e+06   \n",
       "\n",
       "           BILL_AMT4      BILL_AMT5      BILL_AMT6       PAY_AMT1  \\\n",
       "count   21000.000000   21000.000000   21000.000000   21000.000000   \n",
       "mean    43174.979429   40376.466143   38976.187810    5732.100667   \n",
       "std     64284.893891   61004.334726   59676.470266   17510.937498   \n",
       "min   -170000.000000  -81334.000000 -209051.000000       0.000000   \n",
       "25%      2350.750000    1782.000000    1301.750000    1000.000000   \n",
       "50%     19038.500000   18100.000000   17128.500000    2100.000000   \n",
       "75%     54345.500000   50289.250000   49413.000000    5007.000000   \n",
       "max    891586.000000  927171.000000  961664.000000  873552.000000   \n",
       "\n",
       "           PAY_AMT2       PAY_AMT3       PAY_AMT4       PAY_AMT5  \\\n",
       "count  2.100000e+04   21000.000000   21000.000000   21000.000000   \n",
       "mean   6.006080e+03    5279.434524    4927.353714    4822.283381   \n",
       "std    2.508609e+04   18647.406220   16803.515819   15620.014696   \n",
       "min    0.000000e+00       0.000000       0.000000       0.000000   \n",
       "25%    8.360000e+02     390.000000     291.000000     243.000000   \n",
       "50%    2.007000e+03    1800.000000    1500.000000    1500.000000   \n",
       "75%    5.000000e+03    4500.000000    4001.000000    4034.000000   \n",
       "max    1.684259e+06  896040.000000  621000.000000  417990.000000   \n",
       "\n",
       "            PAY_AMT6       default  \n",
       "count   21000.000000  21000.000000  \n",
       "mean     5156.729952      0.221714  \n",
       "std     17658.819827      0.415410  \n",
       "min         0.000000      0.000000  \n",
       "25%       116.750000      0.000000  \n",
       "50%      1500.000000      0.000000  \n",
       "75%      4000.000000      0.000000  \n",
       "max    527143.000000      1.000000  "
      ],
      "text/html": "<div>\n<style scoped>\n    .dataframe tbody tr th:only-of-type {\n        vertical-align: middle;\n    }\n\n    .dataframe tbody tr th {\n        vertical-align: top;\n    }\n\n    .dataframe thead th {\n        text-align: right;\n    }\n</style>\n<table border=\"1\" class=\"dataframe\">\n  <thead>\n    <tr style=\"text-align: right;\">\n      <th></th>\n      <th>LIMIT_BAL</th>\n      <th>SEX</th>\n      <th>EDUCATION</th>\n      <th>MARRIAGE</th>\n      <th>AGE</th>\n      <th>PAY_0</th>\n      <th>PAY_2</th>\n      <th>PAY_3</th>\n      <th>PAY_4</th>\n      <th>PAY_5</th>\n      <th>PAY_6</th>\n      <th>BILL_AMT1</th>\n      <th>BILL_AMT2</th>\n      <th>BILL_AMT3</th>\n      <th>BILL_AMT4</th>\n      <th>BILL_AMT5</th>\n      <th>BILL_AMT6</th>\n      <th>PAY_AMT1</th>\n      <th>PAY_AMT2</th>\n      <th>PAY_AMT3</th>\n      <th>PAY_AMT4</th>\n      <th>PAY_AMT5</th>\n      <th>PAY_AMT6</th>\n      <th>default</th>\n    </tr>\n  </thead>\n  <tbody>\n    <tr>\n      <th>count</th>\n      <td>21000.000000</td>\n      <td>21000.000000</td>\n      <td>21000.000000</td>\n      <td>21000.000000</td>\n      <td>21000.000000</td>\n      <td>21000.000000</td>\n      <td>21000.000000</td>\n      <td>21000.000000</td>\n      <td>21000.000000</td>\n      <td>21000.000000</td>\n      <td>21000.000000</td>\n      <td>21000.000000</td>\n      <td>21000.000000</td>\n      <td>2.100000e+04</td>\n      <td>21000.000000</td>\n      <td>21000.000000</td>\n      <td>21000.000000</td>\n      <td>21000.000000</td>\n      <td>2.100000e+04</td>\n      <td>21000.000000</td>\n      <td>21000.000000</td>\n      <td>21000.000000</td>\n      <td>21000.000000</td>\n      <td>21000.000000</td>\n    </tr>\n    <tr>\n      <th>mean</th>\n      <td>167214.937143</td>\n      <td>1.605190</td>\n      <td>1.854333</td>\n      <td>1.549476</td>\n      <td>35.538286</td>\n      <td>-0.015524</td>\n      <td>-0.130952</td>\n      <td>-0.165667</td>\n      <td>-0.216952</td>\n      <td>-0.261238</td>\n      <td>-0.284810</td>\n      <td>51115.879143</td>\n      <td>49164.750619</td>\n      <td>4.696772e+04</td>\n      <td>43174.979429</td>\n      <td>40376.466143</td>\n      <td>38976.187810</td>\n      <td>5732.100667</td>\n      <td>6.006080e+03</td>\n      <td>5279.434524</td>\n      <td>4927.353714</td>\n      <td>4822.283381</td>\n      <td>5156.729952</td>\n      <td>0.221714</td>\n    </tr>\n    <tr>\n      <th>std</th>\n      <td>129561.159854</td>\n      <td>0.488821</td>\n      <td>0.794086</td>\n      <td>0.523126</td>\n      <td>9.257936</td>\n      <td>1.127750</td>\n      <td>1.200066</td>\n      <td>1.194393</td>\n      <td>1.170611</td>\n      <td>1.136246</td>\n      <td>1.156573</td>\n      <td>73469.974615</td>\n      <td>71175.850265</td>\n      <td>6.960624e+04</td>\n      <td>64284.893891</td>\n      <td>61004.334726</td>\n      <td>59676.470266</td>\n      <td>17510.937498</td>\n      <td>2.508609e+04</td>\n      <td>18647.406220</td>\n      <td>16803.515819</td>\n      <td>15620.014696</td>\n      <td>17658.819827</td>\n      <td>0.415410</td>\n    </tr>\n    <tr>\n      <th>min</th>\n      <td>10000.000000</td>\n      <td>1.000000</td>\n      <td>0.000000</td>\n      <td>0.000000</td>\n      <td>21.000000</td>\n      <td>-2.000000</td>\n      <td>-2.000000</td>\n      <td>-2.000000</td>\n      <td>-2.000000</td>\n      <td>-2.000000</td>\n      <td>-2.000000</td>\n      <td>-165580.000000</td>\n      <td>-69777.000000</td>\n      <td>-1.572640e+05</td>\n      <td>-170000.000000</td>\n      <td>-81334.000000</td>\n      <td>-209051.000000</td>\n      <td>0.000000</td>\n      <td>0.000000e+00</td>\n      <td>0.000000</td>\n      <td>0.000000</td>\n      <td>0.000000</td>\n      <td>0.000000</td>\n      <td>0.000000</td>\n    </tr>\n    <tr>\n      <th>25%</th>\n      <td>50000.000000</td>\n      <td>1.000000</td>\n      <td>1.000000</td>\n      <td>1.000000</td>\n      <td>28.000000</td>\n      <td>-1.000000</td>\n      <td>-1.000000</td>\n      <td>-1.000000</td>\n      <td>-1.000000</td>\n      <td>-1.000000</td>\n      <td>-1.000000</td>\n      <td>3566.500000</td>\n      <td>3033.500000</td>\n      <td>2.743750e+03</td>\n      <td>2350.750000</td>\n      <td>1782.000000</td>\n      <td>1301.750000</td>\n      <td>1000.000000</td>\n      <td>8.360000e+02</td>\n      <td>390.000000</td>\n      <td>291.000000</td>\n      <td>243.000000</td>\n      <td>116.750000</td>\n      <td>0.000000</td>\n    </tr>\n    <tr>\n      <th>50%</th>\n      <td>140000.000000</td>\n      <td>2.000000</td>\n      <td>2.000000</td>\n      <td>2.000000</td>\n      <td>34.000000</td>\n      <td>0.000000</td>\n      <td>0.000000</td>\n      <td>0.000000</td>\n      <td>0.000000</td>\n      <td>0.000000</td>\n      <td>0.000000</td>\n      <td>22460.500000</td>\n      <td>21417.000000</td>\n      <td>2.007300e+04</td>\n      <td>19038.500000</td>\n      <td>18100.000000</td>\n      <td>17128.500000</td>\n      <td>2100.000000</td>\n      <td>2.007000e+03</td>\n      <td>1800.000000</td>\n      <td>1500.000000</td>\n      <td>1500.000000</td>\n      <td>1500.000000</td>\n      <td>0.000000</td>\n    </tr>\n    <tr>\n      <th>75%</th>\n      <td>240000.000000</td>\n      <td>2.000000</td>\n      <td>2.000000</td>\n      <td>2.000000</td>\n      <td>42.000000</td>\n      <td>0.000000</td>\n      <td>0.000000</td>\n      <td>0.000000</td>\n      <td>0.000000</td>\n      <td>0.000000</td>\n      <td>0.000000</td>\n      <td>66759.750000</td>\n      <td>63291.250000</td>\n      <td>5.969425e+04</td>\n      <td>54345.500000</td>\n      <td>50289.250000</td>\n      <td>49413.000000</td>\n      <td>5007.000000</td>\n      <td>5.000000e+03</td>\n      <td>4500.000000</td>\n      <td>4001.000000</td>\n      <td>4034.000000</td>\n      <td>4000.000000</td>\n      <td>0.000000</td>\n    </tr>\n    <tr>\n      <th>max</th>\n      <td>1000000.000000</td>\n      <td>2.000000</td>\n      <td>6.000000</td>\n      <td>3.000000</td>\n      <td>79.000000</td>\n      <td>8.000000</td>\n      <td>8.000000</td>\n      <td>8.000000</td>\n      <td>8.000000</td>\n      <td>8.000000</td>\n      <td>8.000000</td>\n      <td>964511.000000</td>\n      <td>983931.000000</td>\n      <td>1.664089e+06</td>\n      <td>891586.000000</td>\n      <td>927171.000000</td>\n      <td>961664.000000</td>\n      <td>873552.000000</td>\n      <td>1.684259e+06</td>\n      <td>896040.000000</td>\n      <td>621000.000000</td>\n      <td>417990.000000</td>\n      <td>527143.000000</td>\n      <td>1.000000</td>\n    </tr>\n  </tbody>\n</table>\n</div>"
     },
     "metadata": {},
     "execution_count": 9
    }
   ],
   "source": [
    "# look for anomalies in minimum and maximum values and peculiarities in interquartile values\n",
    "tr.describe()"
   ]
  },
  {
   "cell_type": "code",
   "execution_count": 10,
   "metadata": {},
   "outputs": [],
   "source": [
    "# Use requests and json modules to webscrape current exchange rate for TWD to USD\n",
    "url = 'https://openexchangerates.org/api/latest.json?app_id=c51b1508fb4145259b1c2fade72a2c04'\n",
    "response = requests.get(url)\n",
    "data = response.json()\n",
    "rate = data['rates']['TWD']"
   ]
  },
  {
   "cell_type": "code",
   "execution_count": 11,
   "metadata": {},
   "outputs": [
    {
     "output_type": "stream",
     "name": "stdout",
     "text": [
      "LIMIT_BAL    0\nSEX          0\nEDUCATION    0\nMARRIAGE     0\nAGE          0\nPAY_0        0\nPAY_2        0\nPAY_3        0\nPAY_4        0\nPAY_5        0\nPAY_6        0\nBILL_AMT1    0\nBILL_AMT2    0\nBILL_AMT3    0\nBILL_AMT4    0\nBILL_AMT5    0\nBILL_AMT6    0\nPAY_AMT1     0\nPAY_AMT2     0\nPAY_AMT3     0\nPAY_AMT4     0\nPAY_AMT5     0\nPAY_AMT6     0\ndefault      0\ndtype: int64\nLIMIT_BAL    0\nSEX          0\nEDUCATION    0\nMARRIAGE     0\nAGE          0\nPAY_0        0\nPAY_2        0\nPAY_3        0\nPAY_4        0\nPAY_5        0\nPAY_6        0\nBILL_AMT1    0\nBILL_AMT2    0\nBILL_AMT3    0\nBILL_AMT4    0\nBILL_AMT5    0\nBILL_AMT6    0\nPAY_AMT1     0\nPAY_AMT2     0\nPAY_AMT3     0\nPAY_AMT4     0\nPAY_AMT5     0\nPAY_AMT6     0\ndefault      0\ndtype: int64\n"
     ]
    }
   ],
   "source": [
    "# check for null values\n",
    "data = [tr, val]\n",
    "for d in data:\n",
    "    print(d.isna().sum())"
   ]
  },
  {
   "cell_type": "code",
   "execution_count": 12,
   "metadata": {},
   "outputs": [],
   "source": [
    "# change column names for easier reference\n",
    "for d in data:    \n",
    "    d.rename(columns={\"PAY_0\": \"behind1\", \n",
    "                        \"PAY_2\": \"behind2\", \n",
    "                        \"PAY_3\": \"behind3\", \n",
    "                        \"PAY_4\": \"behind4\",\n",
    "                        \"PAY_5\": \"behind5\", \n",
    "                        \"PAY_6\": \"behind6\", \n",
    "                        \"BILL_AMT1\": \"billed1\", \n",
    "                        \"BILL_AMT2\": \"billed2\", \n",
    "                        \"BILL_AMT3\": \"billed3\", \n",
    "                        \"BILL_AMT4\": \"billed4\", \n",
    "                        \"BILL_AMT5\": \"billed5\", \n",
    "                        \"BILL_AMT6\": \"billed6\", \n",
    "                        \"PAY_AMT1\": \"paid1\", \n",
    "                        \"PAY_AMT2\": \"paid2\", \n",
    "                        \"PAY_AMT3\": \"paid3\", \n",
    "                        \"PAY_AMT4\": \"paid4\", \n",
    "                        \"PAY_AMT5\": \"paid5\", \n",
    "                        \"PAY_AMT6\": \"paid6\",\n",
    "                        \"SEX\": \"gender\",\n",
    "                        \"EDUCATION\": \"education\",\n",
    "                        \"MARRIAGE\": \"marriage\",\n",
    "                        \"AGE\": \"age\",\n",
    "                        \"LIMIT_BAL\": \"limit\"}, inplace=True)"
   ]
  },
  {
   "cell_type": "code",
   "execution_count": 13,
   "metadata": {},
   "outputs": [],
   "source": [
    "# Change all Taiwanese to US Dollars for better understanding for American audience\n",
    "for d in data:\n",
    "    d[['limit']] = d[['limit']]/rate\n",
    "    d[['billed1', 'billed2', 'billed3', 'billed4', 'billed5', 'billed6']] = d[['billed1', 'billed2', 'billed3', 'billed4', 'billed5', 'billed6']].divide(rate, axis=1)\n",
    "    d[['paid1', 'paid2', 'paid3', 'paid4', 'paid5', 'paid6']] = d[['paid1', 'paid2', 'paid3', 'paid4', 'paid5', 'paid6']].divide(rate, axis=1)"
   ]
  },
  {
   "cell_type": "code",
   "execution_count": 14,
   "metadata": {},
   "outputs": [],
   "source": [
    "# Round all decimals to two decimal places to represent cents\n",
    "for d in data:\n",
    "    d['limit'] = d['limit'].apply(lambda x: round(x, 2))\n",
    "    d[['billed1', 'billed2', 'billed3', 'billed4', 'billed5', 'billed6']] = d[['billed1', 'billed2', 'billed3', 'billed4', 'billed5', 'billed6']].apply(lambda x: round(x, 2))\n",
    "    d[['paid1', 'paid2', 'paid3', 'paid4', 'paid5', 'paid6']] = d[['paid1', 'paid2', 'paid3', 'paid4', 'paid5', 'paid6']].apply(lambda x: round(x, 2))"
   ]
  },
  {
   "cell_type": "code",
   "execution_count": 15,
   "metadata": {},
   "outputs": [],
   "source": [
    "# put all zero values into category of 3 (other) for marriage\n",
    "# lump all the other and unknown education categories together:  0, 5, 6 values to category 4 (other)\n",
    "for d in data:  \n",
    "    d.replace({'marriage': {0:3}}, inplace=True)\n",
    "    d.replace({'education': {5:4, 0:4, 6:4}}, inplace=True)"
   ]
  },
  {
   "cell_type": "markdown",
   "metadata": {},
   "source": [
    "## Pickle out baseline models"
   ]
  },
  {
   "cell_type": "code",
   "execution_count": 16,
   "metadata": {},
   "outputs": [
    {
     "output_type": "execute_result",
     "data": {
      "text/plain": [
       "     limit  gender  education  marriage  age  behind1  behind2  behind3  \\\n",
       "0  1791.89       2          2         1   44        0        0        0   \n",
       "1  5734.05       2          3         1   46       -1       -1       -1   \n",
       "2  3583.78       2          2         1   47       -1       -1       -1   \n",
       "3  6092.43       2          2         1   29        0        0        0   \n",
       "4  5375.67       2          1         2   33       -2       -2       -2   \n",
       "\n",
       "   behind4  behind5  behind6  billed1  billed2  billed3  billed4  billed5  \\\n",
       "0        0        0        0  1633.42  1501.82  1279.52   801.33   847.89   \n",
       "1        0       -1       -1   892.50    83.79   174.03   147.90   143.17   \n",
       "2       -1       -1       -2   238.89   238.89     0.00   224.70   -14.19   \n",
       "3        0        0        0  2834.45  2242.55  2269.14  2290.14  1559.12   \n",
       "4       -2       -2       -2   874.19   962.14  1171.97  1199.10   996.29   \n",
       "\n",
       "   billed6   paid1    paid2    paid3   paid4   paid5    paid6  default  \n",
       "0   982.71  108.09   179.30   107.51  107.51  179.19    33.11        0  \n",
       "1    30.18   83.97   174.03    35.84  143.17   30.18   943.00        0  \n",
       "2   -14.19  238.89     0.00   224.70    0.00    0.00     0.00        1  \n",
       "3  1576.68   80.10    89.34    92.64   60.32   68.13    75.65        0  \n",
       "4    81.03  967.87  1172.43  1199.67  996.58   81.03  6073.25        0  "
      ],
      "text/html": "<div>\n<style scoped>\n    .dataframe tbody tr th:only-of-type {\n        vertical-align: middle;\n    }\n\n    .dataframe tbody tr th {\n        vertical-align: top;\n    }\n\n    .dataframe thead th {\n        text-align: right;\n    }\n</style>\n<table border=\"1\" class=\"dataframe\">\n  <thead>\n    <tr style=\"text-align: right;\">\n      <th></th>\n      <th>limit</th>\n      <th>gender</th>\n      <th>education</th>\n      <th>marriage</th>\n      <th>age</th>\n      <th>behind1</th>\n      <th>behind2</th>\n      <th>behind3</th>\n      <th>behind4</th>\n      <th>behind5</th>\n      <th>behind6</th>\n      <th>billed1</th>\n      <th>billed2</th>\n      <th>billed3</th>\n      <th>billed4</th>\n      <th>billed5</th>\n      <th>billed6</th>\n      <th>paid1</th>\n      <th>paid2</th>\n      <th>paid3</th>\n      <th>paid4</th>\n      <th>paid5</th>\n      <th>paid6</th>\n      <th>default</th>\n    </tr>\n  </thead>\n  <tbody>\n    <tr>\n      <th>0</th>\n      <td>1791.89</td>\n      <td>2</td>\n      <td>2</td>\n      <td>1</td>\n      <td>44</td>\n      <td>0</td>\n      <td>0</td>\n      <td>0</td>\n      <td>0</td>\n      <td>0</td>\n      <td>0</td>\n      <td>1633.42</td>\n      <td>1501.82</td>\n      <td>1279.52</td>\n      <td>801.33</td>\n      <td>847.89</td>\n      <td>982.71</td>\n      <td>108.09</td>\n      <td>179.30</td>\n      <td>107.51</td>\n      <td>107.51</td>\n      <td>179.19</td>\n      <td>33.11</td>\n      <td>0</td>\n    </tr>\n    <tr>\n      <th>1</th>\n      <td>5734.05</td>\n      <td>2</td>\n      <td>3</td>\n      <td>1</td>\n      <td>46</td>\n      <td>-1</td>\n      <td>-1</td>\n      <td>-1</td>\n      <td>0</td>\n      <td>-1</td>\n      <td>-1</td>\n      <td>892.50</td>\n      <td>83.79</td>\n      <td>174.03</td>\n      <td>147.90</td>\n      <td>143.17</td>\n      <td>30.18</td>\n      <td>83.97</td>\n      <td>174.03</td>\n      <td>35.84</td>\n      <td>143.17</td>\n      <td>30.18</td>\n      <td>943.00</td>\n      <td>0</td>\n    </tr>\n    <tr>\n      <th>2</th>\n      <td>3583.78</td>\n      <td>2</td>\n      <td>2</td>\n      <td>1</td>\n      <td>47</td>\n      <td>-1</td>\n      <td>-1</td>\n      <td>-1</td>\n      <td>-1</td>\n      <td>-1</td>\n      <td>-2</td>\n      <td>238.89</td>\n      <td>238.89</td>\n      <td>0.00</td>\n      <td>224.70</td>\n      <td>-14.19</td>\n      <td>-14.19</td>\n      <td>238.89</td>\n      <td>0.00</td>\n      <td>224.70</td>\n      <td>0.00</td>\n      <td>0.00</td>\n      <td>0.00</td>\n      <td>1</td>\n    </tr>\n    <tr>\n      <th>3</th>\n      <td>6092.43</td>\n      <td>2</td>\n      <td>2</td>\n      <td>1</td>\n      <td>29</td>\n      <td>0</td>\n      <td>0</td>\n      <td>0</td>\n      <td>0</td>\n      <td>0</td>\n      <td>0</td>\n      <td>2834.45</td>\n      <td>2242.55</td>\n      <td>2269.14</td>\n      <td>2290.14</td>\n      <td>1559.12</td>\n      <td>1576.68</td>\n      <td>80.10</td>\n      <td>89.34</td>\n      <td>92.64</td>\n      <td>60.32</td>\n      <td>68.13</td>\n      <td>75.65</td>\n      <td>0</td>\n    </tr>\n    <tr>\n      <th>4</th>\n      <td>5375.67</td>\n      <td>2</td>\n      <td>1</td>\n      <td>2</td>\n      <td>33</td>\n      <td>-2</td>\n      <td>-2</td>\n      <td>-2</td>\n      <td>-2</td>\n      <td>-2</td>\n      <td>-2</td>\n      <td>874.19</td>\n      <td>962.14</td>\n      <td>1171.97</td>\n      <td>1199.10</td>\n      <td>996.29</td>\n      <td>81.03</td>\n      <td>967.87</td>\n      <td>1172.43</td>\n      <td>1199.67</td>\n      <td>996.58</td>\n      <td>81.03</td>\n      <td>6073.25</td>\n      <td>0</td>\n    </tr>\n  </tbody>\n</table>\n</div>"
     },
     "metadata": {},
     "execution_count": 16
    }
   ],
   "source": [
    "tr.head()"
   ]
  },
  {
   "cell_type": "code",
   "execution_count": 17,
   "metadata": {},
   "outputs": [],
   "source": [
    "pickle_out = open(\"../data/training_cleaned.pickle\",\"wb\")\n",
    "pickle.dump(tr, pickle_out)\n",
    "pickle_out.close()"
   ]
  },
  {
   "cell_type": "code",
   "execution_count": 18,
   "metadata": {},
   "outputs": [],
   "source": [
    "pickle_out = open(\"../data/validate_cleaned.pickle\",\"wb\")\n",
    "pickle.dump(val, pickle_out)\n",
    "pickle_out.close()"
   ]
  },
  {
   "cell_type": "markdown",
   "metadata": {},
   "source": [
    "# <a id='6'>Exploratory Data Analysis</a>"
   ]
  },
  {
   "cell_type": "code",
   "execution_count": 19,
   "metadata": {},
   "outputs": [],
   "source": [
    "# organize features into categorical and continuous\n",
    "categorical = tr[['gender', 'marriage', 'education', 'behind1', 'behind2', 'behind3', 'behind4', 'behind5', 'behind6']]\n",
    "continuous = tr[['limit', 'age', 'billed1', 'billed2', 'billed3', 'billed4', 'billed5', 'billed6', 'paid1', 'paid2', 'paid3', 'paid4', 'paid5', 'paid6']]\n",
    "cat_col = categorical.columns\n",
    "cont_col = continuous.columns"
   ]
  },
  {
   "cell_type": "code",
   "execution_count": 20,
   "metadata": {},
   "outputs": [],
   "source": [
    "# display distributions of all the continuous variables\n",
    "\n",
    "# con_1 = pd.melt(tr, value_vars = cont_col)\n",
    "# sns.set_theme(style=\"darkgrid\", font='serif', context='talk')\n",
    "# g = sns.FacetGrid(con_1, col='variable', col_wrap=3, sharex=False, sharey=False, height=4)\n",
    "# g = g.map(sns.distplot, 'value', color='r')\n",
    "# g.set_xticklabels(rotation=45)\n",
    "# g.fig.subplots_adjust(top=0.9)\n",
    "# g.fig.suptitle(\"Distributions of Continuous Features\")\n",
    "# g.fig.tight_layout()\n",
    "# plt.savefig(\"../images/distplot.png\")"
   ]
  },
  {
   "cell_type": "markdown",
   "metadata": {},
   "source": [
    "<img src=\"../images/distplot.png\">"
   ]
  },
  {
   "cell_type": "code",
   "execution_count": 21,
   "metadata": {},
   "outputs": [],
   "source": [
    "# Use bar graphs of the distribution of data for categorical variables\n",
    "\n",
    "# cat_1 = pd.melt(tr, value_vars=cat_col)\n",
    "# sns.set_theme(style=\"darkgrid\", font='serif', context='talk')\n",
    "# g = sns.FacetGrid(cat_1, col='variable', col_wrap=3, sharex=False, sharey=False, height=4)\n",
    "# g = g.map(sns.countplot, 'value', color='dodgerblue')\n",
    "# g.set_xticklabels()\n",
    "# g.fig.subplots_adjust(top=0.9)\n",
    "# g.fig.suptitle(\"Distributions of Categorical Features\")\n",
    "# g.fig.tight_layout()\n",
    "# plt.savefig(\"../images/countplot.png\")"
   ]
  },
  {
   "cell_type": "markdown",
   "metadata": {},
   "source": [
    "<img src=\"../images/countplot.png\">"
   ]
  },
  {
   "cell_type": "code",
   "execution_count": 22,
   "metadata": {},
   "outputs": [],
   "source": [
    "yes = tr.default.sum()\n",
    "no = len(tr)-yes\n",
    "perc_y = round(yes/len(tr)*100, 1)\n",
    "perc_n = round(no/len(tr)*100, 1)\n",
    "\n",
    "# plt.figure(figsize=(8,6))\n",
    "# sns.set_theme(style=\"darkgrid\", font='serif', context='talk')\n",
    "# sns.countplot('default', data=tr)\n",
    "# plt.title('Credit Card Baseline Default', size=16)\n",
    "# plt.box(False);\n",
    "# plt.savefig(\"../images/baseline.png\")"
   ]
  },
  {
   "cell_type": "markdown",
   "metadata": {},
   "source": [
    "<img src=\"../images/baseline.png\">"
   ]
  },
  {
   "cell_type": "code",
   "execution_count": 23,
   "metadata": {},
   "outputs": [
    {
     "output_type": "stream",
     "name": "stdout",
     "text": [
      "Number of Total Non-Defaulters:  4656\nNumber of Defaulters:  16344\nPercentage of Non-Defaulters:  22.2\nPercentage of Defaulters:  77.8\n"
     ]
    },
    {
     "output_type": "execute_result",
     "data": {
      "text/plain": [
       "                                  Training Dataset\n",
       "Number of Total Non-Defaulters:             4656.0\n",
       "Number of Defaulters:                      16344.0\n",
       "Percentage of Non-Defaulters:                 22.2\n",
       "Percentage of Defaulters:                     77.8"
      ],
      "text/html": "<div>\n<style scoped>\n    .dataframe tbody tr th:only-of-type {\n        vertical-align: middle;\n    }\n\n    .dataframe tbody tr th {\n        vertical-align: top;\n    }\n\n    .dataframe thead th {\n        text-align: right;\n    }\n</style>\n<table border=\"1\" class=\"dataframe\">\n  <thead>\n    <tr style=\"text-align: right;\">\n      <th></th>\n      <th>Training Dataset</th>\n    </tr>\n  </thead>\n  <tbody>\n    <tr>\n      <th>Number of Total Non-Defaulters:</th>\n      <td>4656.0</td>\n    </tr>\n    <tr>\n      <th>Number of Defaulters:</th>\n      <td>16344.0</td>\n    </tr>\n    <tr>\n      <th>Percentage of Non-Defaulters:</th>\n      <td>22.2</td>\n    </tr>\n    <tr>\n      <th>Percentage of Defaulters:</th>\n      <td>77.8</td>\n    </tr>\n  </tbody>\n</table>\n</div>"
     },
     "metadata": {},
     "execution_count": 23
    }
   ],
   "source": [
    "print(\"Number of Total Non-Defaulters: \", yes)\n",
    "print(\"Number of Defaulters: \", no)\n",
    "print(\"Percentage of Non-Defaulters: \", perc_y)\n",
    "print(\"Percentage of Defaulters: \", perc_n)\n",
    "\n",
    "pd.DataFrame\n",
    "default = pd.DataFrame(data = {\"Training Dataset\": [yes, no, perc_y, perc_n]}, \n",
    "                       index = [\"Number of Total Non-Defaulters: \", \"Number of Defaulters: \", \"Percentage of Non-Defaulters: \", \"Percentage of Defaulters: \"])\n",
    "default"
   ]
  },
  {
   "cell_type": "code",
   "execution_count": 26,
   "metadata": {},
   "outputs": [],
   "source": [
    "# subset = tr[['gender', 'education', 'marriage', 'behind1', 'behind2', 'behind3', 'behind4', 'behind5', 'behind6', 'default']]\n",
    "# f, axes = plt.subplots(3, 3, figsize=(15, 12), facecolor='white')\n",
    "# sns.set_theme(style=\"darkgrid\", font='serif', context='paper')\n",
    "# f.suptitle('Frequency of Categorical Variables', size=16)\n",
    "# ax1 = sns.countplot(x=\"gender\", hue=\"default\", data=subset, ax=axes[0,0])\n",
    "# ax2 = sns.countplot(x=\"education\", hue=\"default\", data=subset, ax=axes[0,1])\n",
    "# ax3 = sns.countplot(x=\"marriage\", hue=\"default\", data=subset, ax=axes[0,2])\n",
    "# ax4 = sns.countplot(x=\"behind1\", hue=\"default\", data=subset, ax=axes[1,0])\n",
    "# ax5 = sns.countplot(x=\"behind2\", hue=\"default\", data=subset, ax=axes[1,1])\n",
    "# ax6 = sns.countplot(x=\"behind3\", hue=\"default\", data=subset, ax=axes[1,2])\n",
    "# ax7 = sns.countplot(x=\"behind4\", hue=\"default\", data=subset, ax=axes[2,0])\n",
    "# ax8 = sns.countplot(x=\"behind5\", hue=\"default\", data=subset, ax=axes[2,1])\n",
    "# ax9 = sns.countplot(x=\"behind6\", hue=\"default\", data=subset, ax=axes[2,2])\n",
    "# plt.savefig(\"../images/default_freq_by_cat.png\")"
   ]
  },
  {
   "cell_type": "markdown",
   "metadata": {},
   "source": [
    "<img src=\"../images/default_freq_by_cat.png\">"
   ]
  },
  {
   "cell_type": "code",
   "execution_count": 27,
   "metadata": {},
   "outputs": [],
   "source": [
    "# plt.figure(figsize = (14,6))\n",
    "# plt.title('Distribution of Credit Limit', size=16)\n",
    "# sns.set_theme(style=\"darkgrid\", font='serif', context='poster')\n",
    "# g = sns.distplot(tr['limit'], kde=True, bins=200, color=\"blue\")\n",
    "# plt.show()\n",
    "# plt.savefig(\"../images/credit_limit.png\")"
   ]
  },
  {
   "cell_type": "markdown",
   "metadata": {},
   "source": [
    "<img src=\"../images/credit_limit.png\">"
   ]
  },
  {
   "cell_type": "code",
   "execution_count": 25,
   "metadata": {},
   "outputs": [
    {
     "output_type": "display_data",
     "data": {
      "text/plain": "<Figure size 1008x432 with 1 Axes>",
      "image/svg+xml": "<?xml version=\"1.0\" encoding=\"utf-8\" standalone=\"no\"?>\n<!DOCTYPE svg PUBLIC \"-//W3C//DTD SVG 1.1//EN\"\n  \"http://www.w3.org/Graphics/SVG/1.1/DTD/svg11.dtd\">\n<!-- Created with matplotlib (https://matplotlib.org/) -->\n<svg height=\"432.367031pt\" version=\"1.1\" viewBox=\"0 0 983.015156 432.367031\" width=\"983.015156pt\" xmlns=\"http://www.w3.org/2000/svg\" xmlns:xlink=\"http://www.w3.org/1999/xlink\">\n <metadata>\n  <rdf:RDF xmlns:cc=\"http://creativecommons.org/ns#\" xmlns:dc=\"http://purl.org/dc/elements/1.1/\" xmlns:rdf=\"http://www.w3.org/1999/02/22-rdf-syntax-ns#\">\n   <cc:Work>\n    <dc:type rdf:resource=\"http://purl.org/dc/dcmitype/StillImage\"/>\n    <dc:date>2021-02-19T08:12:09.729487</dc:date>\n    <dc:format>image/svg+xml</dc:format>\n    <dc:creator>\n     <cc:Agent>\n      <dc:title>Matplotlib v3.3.3, https://matplotlib.org/</dc:title>\n     </cc:Agent>\n    </dc:creator>\n   </cc:Work>\n  </rdf:RDF>\n </metadata>\n <defs>\n  <style type=\"text/css\">*{stroke-linecap:butt;stroke-linejoin:round;}</style>\n </defs>\n <g id=\"figure_1\">\n  <g id=\"patch_1\">\n   <path d=\"M -0 432.367031 \nL 983.015156 432.367031 \nL 983.015156 0 \nL -0 0 \nz\n\" style=\"fill:#ffffff;\"/>\n  </g>\n  <g id=\"axes_1\">\n   <g id=\"patch_2\">\n    <path d=\"M 98.855156 375.2775 \nL 975.815156 375.2775 \nL 975.815156 25.3575 \nL 98.855156 25.3575 \nz\n\" style=\"fill:#eaeaf2;\"/>\n   </g>\n   <g id=\"matplotlib.axis_1\">\n    <g id=\"xtick_1\">\n     <g id=\"line2d_1\">\n      <path clip-path=\"url(#p5a55f58d78)\" d=\"M 177.425782 375.2775 \nL 177.425782 25.3575 \n\" style=\"fill:none;stroke:#ffffff;stroke-linecap:round;stroke-width:1.5;\"/>\n     </g>\n     <g id=\"text_1\">\n      <!-- 0 -->\n      <g style=\"fill:#262626;\" transform=\"translate(172.17672 400.314922)scale(0.165 -0.165)\">\n       <defs>\n        <path d=\"M 31.78125 3.421875 \nQ 39.265625 3.421875 42.96875 11.625 \nQ 46.6875 19.828125 46.6875 36.375 \nQ 46.6875 52.984375 42.96875 61.1875 \nQ 39.265625 69.390625 31.78125 69.390625 \nQ 24.3125 69.390625 20.59375 61.1875 \nQ 16.890625 52.984375 16.890625 36.375 \nQ 16.890625 19.828125 20.59375 11.625 \nQ 24.3125 3.421875 31.78125 3.421875 \nz\nM 31.78125 -1.421875 \nQ 19.921875 -1.421875 13.25 8.53125 \nQ 6.59375 18.5 6.59375 36.375 \nQ 6.59375 54.296875 13.25 64.25 \nQ 19.921875 74.21875 31.78125 74.21875 \nQ 43.703125 74.21875 50.34375 64.25 \nQ 56.984375 54.296875 56.984375 36.375 \nQ 56.984375 18.5 50.34375 8.53125 \nQ 43.703125 -1.421875 31.78125 -1.421875 \nz\n\" id=\"DejaVuSerif-48\"/>\n       </defs>\n       <use xlink:href=\"#DejaVuSerif-48\"/>\n      </g>\n     </g>\n    </g>\n    <g id=\"xtick_2\">\n     <g id=\"line2d_2\">\n      <path clip-path=\"url(#p5a55f58d78)\" d=\"M 277.581482 375.2775 \nL 277.581482 25.3575 \n\" style=\"fill:none;stroke:#ffffff;stroke-linecap:round;stroke-width:1.5;\"/>\n     </g>\n     <g id=\"text_2\">\n      <!-- 5000 -->\n      <g style=\"fill:#262626;\" transform=\"translate(256.585232 400.314922)scale(0.165 -0.165)\">\n       <defs>\n        <path d=\"M 50.296875 72.90625 \nL 50.296875 64.890625 \nL 16.890625 64.890625 \nL 16.890625 44 \nQ 19.4375 45.75 22.828125 46.625 \nQ 26.21875 47.515625 30.421875 47.515625 \nQ 42.234375 47.515625 49.0625 40.96875 \nQ 55.90625 34.421875 55.90625 23.09375 \nQ 55.90625 11.53125 49 5.046875 \nQ 42.09375 -1.421875 29.59375 -1.421875 \nQ 24.5625 -1.421875 19.28125 -0.1875 \nQ 14.015625 1.03125 8.5 3.515625 \nL 8.5 17.671875 \nL 14.015625 17.671875 \nQ 14.453125 10.75 18.421875 7.078125 \nQ 22.40625 3.421875 29.59375 3.421875 \nQ 37.3125 3.421875 41.453125 8.5 \nQ 45.609375 13.578125 45.609375 23.09375 \nQ 45.609375 32.5625 41.484375 37.609375 \nQ 37.359375 42.671875 29.59375 42.671875 \nQ 25.203125 42.671875 21.84375 41.109375 \nQ 18.5 39.546875 15.921875 36.28125 \nL 11.71875 36.28125 \nL 11.71875 72.90625 \nz\n\" id=\"DejaVuSerif-53\"/>\n       </defs>\n       <use xlink:href=\"#DejaVuSerif-53\"/>\n       <use x=\"63.623047\" xlink:href=\"#DejaVuSerif-48\"/>\n       <use x=\"127.246094\" xlink:href=\"#DejaVuSerif-48\"/>\n       <use x=\"190.869141\" xlink:href=\"#DejaVuSerif-48\"/>\n      </g>\n     </g>\n    </g>\n    <g id=\"xtick_3\">\n     <g id=\"line2d_3\">\n      <path clip-path=\"url(#p5a55f58d78)\" d=\"M 377.737182 375.2775 \nL 377.737182 25.3575 \n\" style=\"fill:none;stroke:#ffffff;stroke-linecap:round;stroke-width:1.5;\"/>\n     </g>\n     <g id=\"text_3\">\n      <!-- 10000 -->\n      <g style=\"fill:#262626;\" transform=\"translate(351.491869 400.314922)scale(0.165 -0.165)\">\n       <defs>\n        <path d=\"M 14.203125 0 \nL 14.203125 5.171875 \nL 26.90625 5.171875 \nL 26.90625 65.828125 \nL 12.203125 56.296875 \nL 12.203125 62.703125 \nL 29.984375 74.21875 \nL 36.71875 74.21875 \nL 36.71875 5.171875 \nL 49.421875 5.171875 \nL 49.421875 0 \nz\n\" id=\"DejaVuSerif-49\"/>\n       </defs>\n       <use xlink:href=\"#DejaVuSerif-49\"/>\n       <use x=\"63.623047\" xlink:href=\"#DejaVuSerif-48\"/>\n       <use x=\"127.246094\" xlink:href=\"#DejaVuSerif-48\"/>\n       <use x=\"190.869141\" xlink:href=\"#DejaVuSerif-48\"/>\n       <use x=\"254.492188\" xlink:href=\"#DejaVuSerif-48\"/>\n      </g>\n     </g>\n    </g>\n    <g id=\"xtick_4\">\n     <g id=\"line2d_4\">\n      <path clip-path=\"url(#p5a55f58d78)\" d=\"M 477.892881 375.2775 \nL 477.892881 25.3575 \n\" style=\"fill:none;stroke:#ffffff;stroke-linecap:round;stroke-width:1.5;\"/>\n     </g>\n     <g id=\"text_4\">\n      <!-- 15000 -->\n      <g style=\"fill:#262626;\" transform=\"translate(451.647569 400.314922)scale(0.165 -0.165)\">\n       <use xlink:href=\"#DejaVuSerif-49\"/>\n       <use x=\"63.623047\" xlink:href=\"#DejaVuSerif-53\"/>\n       <use x=\"127.246094\" xlink:href=\"#DejaVuSerif-48\"/>\n       <use x=\"190.869141\" xlink:href=\"#DejaVuSerif-48\"/>\n       <use x=\"254.492188\" xlink:href=\"#DejaVuSerif-48\"/>\n      </g>\n     </g>\n    </g>\n    <g id=\"xtick_5\">\n     <g id=\"line2d_5\">\n      <path clip-path=\"url(#p5a55f58d78)\" d=\"M 578.048581 375.2775 \nL 578.048581 25.3575 \n\" style=\"fill:none;stroke:#ffffff;stroke-linecap:round;stroke-width:1.5;\"/>\n     </g>\n     <g id=\"text_5\">\n      <!-- 20000 -->\n      <g style=\"fill:#262626;\" transform=\"translate(551.803268 400.314922)scale(0.165 -0.165)\">\n       <defs>\n        <path d=\"M 12.796875 55.515625 \nL 7.328125 55.515625 \nL 7.328125 68.5 \nQ 12.546875 71.296875 17.84375 72.75 \nQ 23.140625 74.21875 28.21875 74.21875 \nQ 39.59375 74.21875 46.1875 68.703125 \nQ 52.78125 63.1875 52.78125 53.71875 \nQ 52.78125 43.015625 37.84375 28.125 \nQ 36.671875 27 36.078125 26.421875 \nL 17.671875 8.015625 \nL 48.09375 8.015625 \nL 48.09375 17 \nL 53.8125 17 \nL 53.8125 0 \nL 6.78125 0 \nL 6.78125 5.328125 \nL 28.90625 27.390625 \nQ 36.234375 34.71875 39.359375 40.84375 \nQ 42.484375 46.96875 42.484375 53.71875 \nQ 42.484375 61.078125 38.640625 65.234375 \nQ 34.8125 69.390625 28.078125 69.390625 \nQ 21.09375 69.390625 17.28125 65.921875 \nQ 13.484375 62.453125 12.796875 55.515625 \nz\n\" id=\"DejaVuSerif-50\"/>\n       </defs>\n       <use xlink:href=\"#DejaVuSerif-50\"/>\n       <use x=\"63.623047\" xlink:href=\"#DejaVuSerif-48\"/>\n       <use x=\"127.246094\" xlink:href=\"#DejaVuSerif-48\"/>\n       <use x=\"190.869141\" xlink:href=\"#DejaVuSerif-48\"/>\n       <use x=\"254.492188\" xlink:href=\"#DejaVuSerif-48\"/>\n      </g>\n     </g>\n    </g>\n    <g id=\"xtick_6\">\n     <g id=\"line2d_6\">\n      <path clip-path=\"url(#p5a55f58d78)\" d=\"M 678.204281 375.2775 \nL 678.204281 25.3575 \n\" style=\"fill:none;stroke:#ffffff;stroke-linecap:round;stroke-width:1.5;\"/>\n     </g>\n     <g id=\"text_6\">\n      <!-- 25000 -->\n      <g style=\"fill:#262626;\" transform=\"translate(651.958968 400.314922)scale(0.165 -0.165)\">\n       <use xlink:href=\"#DejaVuSerif-50\"/>\n       <use x=\"63.623047\" xlink:href=\"#DejaVuSerif-53\"/>\n       <use x=\"127.246094\" xlink:href=\"#DejaVuSerif-48\"/>\n       <use x=\"190.869141\" xlink:href=\"#DejaVuSerif-48\"/>\n       <use x=\"254.492188\" xlink:href=\"#DejaVuSerif-48\"/>\n      </g>\n     </g>\n    </g>\n    <g id=\"xtick_7\">\n     <g id=\"line2d_7\">\n      <path clip-path=\"url(#p5a55f58d78)\" d=\"M 778.35998 375.2775 \nL 778.35998 25.3575 \n\" style=\"fill:none;stroke:#ffffff;stroke-linecap:round;stroke-width:1.5;\"/>\n     </g>\n     <g id=\"text_7\">\n      <!-- 30000 -->\n      <g style=\"fill:#262626;\" transform=\"translate(752.114668 400.314922)scale(0.165 -0.165)\">\n       <defs>\n        <path d=\"M 9.71875 69.828125 \nQ 15.4375 71.96875 20.671875 73.09375 \nQ 25.921875 74.21875 30.515625 74.21875 \nQ 41.21875 74.21875 47.21875 69.59375 \nQ 53.21875 64.984375 53.21875 56.78125 \nQ 53.21875 50.203125 49.0625 45.78125 \nQ 44.921875 41.359375 37.3125 39.796875 \nQ 46.296875 38.53125 51.25 33.28125 \nQ 56.203125 28.03125 56.203125 19.671875 \nQ 56.203125 9.46875 49.34375 4.015625 \nQ 42.484375 -1.421875 29.59375 -1.421875 \nQ 23.875 -1.421875 18.421875 -0.1875 \nQ 12.984375 1.03125 7.625 3.515625 \nL 7.625 17.671875 \nL 13.09375 17.671875 \nQ 13.578125 10.640625 17.828125 7.03125 \nQ 22.078125 3.421875 29.78125 3.421875 \nQ 37.25 3.421875 41.578125 7.734375 \nQ 45.90625 12.0625 45.90625 19.578125 \nQ 45.90625 28.171875 41.453125 32.59375 \nQ 37.015625 37.015625 28.421875 37.015625 \nL 23.78125 37.015625 \nL 23.78125 42 \nL 26.21875 42 \nQ 34.765625 42 39.03125 45.53125 \nQ 43.3125 49.078125 43.3125 56.203125 \nQ 43.3125 62.59375 39.796875 65.984375 \nQ 36.28125 69.390625 29.6875 69.390625 \nQ 23.09375 69.390625 19.453125 66.265625 \nQ 15.828125 63.140625 15.1875 56.984375 \nL 9.71875 56.984375 \nz\n\" id=\"DejaVuSerif-51\"/>\n       </defs>\n       <use xlink:href=\"#DejaVuSerif-51\"/>\n       <use x=\"63.623047\" xlink:href=\"#DejaVuSerif-48\"/>\n       <use x=\"127.246094\" xlink:href=\"#DejaVuSerif-48\"/>\n       <use x=\"190.869141\" xlink:href=\"#DejaVuSerif-48\"/>\n       <use x=\"254.492188\" xlink:href=\"#DejaVuSerif-48\"/>\n      </g>\n     </g>\n    </g>\n    <g id=\"xtick_8\">\n     <g id=\"line2d_8\">\n      <path clip-path=\"url(#p5a55f58d78)\" d=\"M 878.51568 375.2775 \nL 878.51568 25.3575 \n\" style=\"fill:none;stroke:#ffffff;stroke-linecap:round;stroke-width:1.5;\"/>\n     </g>\n     <g id=\"text_8\">\n      <!-- 35000 -->\n      <g style=\"fill:#262626;\" transform=\"translate(852.270368 400.314922)scale(0.165 -0.165)\">\n       <use xlink:href=\"#DejaVuSerif-51\"/>\n       <use x=\"63.623047\" xlink:href=\"#DejaVuSerif-53\"/>\n       <use x=\"127.246094\" xlink:href=\"#DejaVuSerif-48\"/>\n       <use x=\"190.869141\" xlink:href=\"#DejaVuSerif-48\"/>\n       <use x=\"254.492188\" xlink:href=\"#DejaVuSerif-48\"/>\n      </g>\n     </g>\n    </g>\n    <g id=\"text_9\">\n     <!-- limit -->\n     <g style=\"fill:#262626;\" transform=\"translate(516.547969 421.423594)scale(0.18 -0.18)\">\n      <defs>\n       <path d=\"M 20.515625 5.171875 \nL 29 5.171875 \nL 29 0 \nL 2.875 0 \nL 2.875 5.171875 \nL 11.53125 5.171875 \nL 11.53125 70.796875 \nL 2.875 70.796875 \nL 2.875 75.984375 \nL 20.515625 75.984375 \nz\n\" id=\"DejaVuSerif-108\"/>\n       <path d=\"M 9.71875 68.015625 \nQ 9.71875 70.265625 11.34375 71.921875 \nQ 12.984375 73.578125 15.28125 73.578125 \nQ 17.53125 73.578125 19.15625 71.921875 \nQ 20.796875 70.265625 20.796875 68.015625 \nQ 20.796875 65.71875 19.1875 64.109375 \nQ 17.578125 62.5 15.28125 62.5 \nQ 12.984375 62.5 11.34375 64.109375 \nQ 9.71875 65.71875 9.71875 68.015625 \nz\nM 21.1875 5.171875 \nL 29.6875 5.171875 \nL 29.6875 0 \nL 3.609375 0 \nL 3.609375 5.171875 \nL 12.203125 5.171875 \nL 12.203125 46.6875 \nL 3.609375 46.6875 \nL 3.609375 51.90625 \nL 21.1875 51.90625 \nz\n\" id=\"DejaVuSerif-105\"/>\n       <path d=\"M 51.8125 41.796875 \nQ 54.390625 47.515625 58.421875 50.421875 \nQ 62.453125 53.328125 67.828125 53.328125 \nQ 75.984375 53.328125 79.984375 48.265625 \nQ 83.984375 43.21875 83.984375 33.015625 \nL 83.984375 5.171875 \nL 92.09375 5.171875 \nL 92.09375 0 \nL 67.1875 0 \nL 67.1875 5.171875 \nL 75 5.171875 \nL 75 31.984375 \nQ 75 39.9375 72.65625 43.3125 \nQ 70.3125 46.6875 64.890625 46.6875 \nQ 58.890625 46.6875 55.734375 42.140625 \nQ 52.59375 37.59375 52.59375 28.90625 \nL 52.59375 5.171875 \nL 60.40625 5.171875 \nL 60.40625 0 \nL 35.796875 0 \nL 35.796875 5.171875 \nL 43.609375 5.171875 \nL 43.609375 32.328125 \nQ 43.609375 40.09375 41.265625 43.390625 \nQ 38.921875 46.6875 33.5 46.6875 \nQ 27.484375 46.6875 24.328125 42.140625 \nQ 21.1875 37.59375 21.1875 28.90625 \nL 21.1875 5.171875 \nL 29 5.171875 \nL 29 0 \nL 4.109375 0 \nL 4.109375 5.171875 \nL 12.203125 5.171875 \nL 12.203125 46.78125 \nL 3.609375 46.78125 \nL 3.609375 51.90625 \nL 21.1875 51.90625 \nL 21.1875 42.671875 \nQ 23.6875 47.859375 27.53125 50.59375 \nQ 31.390625 53.328125 36.28125 53.328125 \nQ 42.328125 53.328125 46.375 50.3125 \nQ 50.4375 47.3125 51.8125 41.796875 \nz\n\" id=\"DejaVuSerif-109\"/>\n       <path d=\"M 10.796875 46.6875 \nL 2.875 46.6875 \nL 2.875 51.90625 \nL 10.796875 51.90625 \nL 10.796875 68.015625 \nL 19.828125 68.015625 \nL 19.828125 51.90625 \nL 36.71875 51.90625 \nL 36.71875 46.6875 \nL 19.828125 46.6875 \nL 19.828125 13.71875 \nQ 19.828125 7.125 21.09375 5.265625 \nQ 22.359375 3.421875 25.78125 3.421875 \nQ 29.296875 3.421875 30.90625 5.484375 \nQ 32.515625 7.5625 32.625 12.203125 \nL 39.40625 12.203125 \nQ 39.015625 5.125 35.546875 1.84375 \nQ 32.078125 -1.421875 25 -1.421875 \nQ 17.234375 -1.421875 14.015625 2.015625 \nQ 10.796875 5.46875 10.796875 13.71875 \nz\n\" id=\"DejaVuSerif-116\"/>\n      </defs>\n      <use xlink:href=\"#DejaVuSerif-108\"/>\n      <use x=\"31.982422\" xlink:href=\"#DejaVuSerif-105\"/>\n      <use x=\"63.964844\" xlink:href=\"#DejaVuSerif-109\"/>\n      <use x=\"158.789062\" xlink:href=\"#DejaVuSerif-105\"/>\n      <use x=\"190.771484\" xlink:href=\"#DejaVuSerif-116\"/>\n     </g>\n    </g>\n   </g>\n   <g id=\"matplotlib.axis_2\">\n    <g id=\"ytick_1\">\n     <g id=\"line2d_9\">\n      <path clip-path=\"url(#p5a55f58d78)\" d=\"M 98.855156 375.2775 \nL 975.815156 375.2775 \n\" style=\"fill:none;stroke:#ffffff;stroke-linecap:round;stroke-width:1.5;\"/>\n     </g>\n     <g id=\"text_10\">\n      <!-- 0.0000 -->\n      <g style=\"fill:#262626;\" transform=\"translate(28.620625 381.546211)scale(0.165 -0.165)\">\n       <defs>\n        <path d=\"M 9.421875 5.078125 \nQ 9.421875 7.8125 11.28125 9.71875 \nQ 13.140625 11.625 15.921875 11.625 \nQ 18.609375 11.625 20.5 9.71875 \nQ 22.40625 7.8125 22.40625 5.078125 \nQ 22.40625 2.390625 20.5 0.484375 \nQ 18.609375 -1.421875 15.921875 -1.421875 \nQ 13.140625 -1.421875 11.28125 0.453125 \nQ 9.421875 2.34375 9.421875 5.078125 \nz\n\" id=\"DejaVuSerif-46\"/>\n       </defs>\n       <use xlink:href=\"#DejaVuSerif-48\"/>\n       <use x=\"63.623047\" xlink:href=\"#DejaVuSerif-46\"/>\n       <use x=\"95.410156\" xlink:href=\"#DejaVuSerif-48\"/>\n       <use x=\"159.033203\" xlink:href=\"#DejaVuSerif-48\"/>\n       <use x=\"222.65625\" xlink:href=\"#DejaVuSerif-48\"/>\n       <use x=\"286.279297\" xlink:href=\"#DejaVuSerif-48\"/>\n      </g>\n     </g>\n    </g>\n    <g id=\"ytick_2\">\n     <g id=\"line2d_10\">\n      <path clip-path=\"url(#p5a55f58d78)\" d=\"M 98.855156 308.730767 \nL 975.815156 308.730767 \n\" style=\"fill:none;stroke:#ffffff;stroke-linecap:round;stroke-width:1.5;\"/>\n     </g>\n     <g id=\"text_11\">\n      <!-- 0.0002 -->\n      <g style=\"fill:#262626;\" transform=\"translate(28.620625 314.999478)scale(0.165 -0.165)\">\n       <use xlink:href=\"#DejaVuSerif-48\"/>\n       <use x=\"63.623047\" xlink:href=\"#DejaVuSerif-46\"/>\n       <use x=\"95.410156\" xlink:href=\"#DejaVuSerif-48\"/>\n       <use x=\"159.033203\" xlink:href=\"#DejaVuSerif-48\"/>\n       <use x=\"222.65625\" xlink:href=\"#DejaVuSerif-48\"/>\n       <use x=\"286.279297\" xlink:href=\"#DejaVuSerif-50\"/>\n      </g>\n     </g>\n    </g>\n    <g id=\"ytick_3\">\n     <g id=\"line2d_11\">\n      <path clip-path=\"url(#p5a55f58d78)\" d=\"M 98.855156 242.184034 \nL 975.815156 242.184034 \n\" style=\"fill:none;stroke:#ffffff;stroke-linecap:round;stroke-width:1.5;\"/>\n     </g>\n     <g id=\"text_12\">\n      <!-- 0.0004 -->\n      <g style=\"fill:#262626;\" transform=\"translate(28.620625 248.452745)scale(0.165 -0.165)\">\n       <defs>\n        <path d=\"M 34.90625 24.703125 \nL 34.90625 63.484375 \nL 10.015625 24.703125 \nz\nM 56.390625 0 \nL 23.1875 0 \nL 23.1875 5.171875 \nL 34.90625 5.171875 \nL 34.90625 19.484375 \nL 3.078125 19.484375 \nL 3.078125 24.8125 \nL 35.015625 74.21875 \nL 44.671875 74.21875 \nL 44.671875 24.703125 \nL 58.59375 24.703125 \nL 58.59375 19.484375 \nL 44.671875 19.484375 \nL 44.671875 5.171875 \nL 56.390625 5.171875 \nz\n\" id=\"DejaVuSerif-52\"/>\n       </defs>\n       <use xlink:href=\"#DejaVuSerif-48\"/>\n       <use x=\"63.623047\" xlink:href=\"#DejaVuSerif-46\"/>\n       <use x=\"95.410156\" xlink:href=\"#DejaVuSerif-48\"/>\n       <use x=\"159.033203\" xlink:href=\"#DejaVuSerif-48\"/>\n       <use x=\"222.65625\" xlink:href=\"#DejaVuSerif-48\"/>\n       <use x=\"286.279297\" xlink:href=\"#DejaVuSerif-52\"/>\n      </g>\n     </g>\n    </g>\n    <g id=\"ytick_4\">\n     <g id=\"line2d_12\">\n      <path clip-path=\"url(#p5a55f58d78)\" d=\"M 98.855156 175.637301 \nL 975.815156 175.637301 \n\" style=\"fill:none;stroke:#ffffff;stroke-linecap:round;stroke-width:1.5;\"/>\n     </g>\n     <g id=\"text_13\">\n      <!-- 0.0006 -->\n      <g style=\"fill:#262626;\" transform=\"translate(28.620625 181.906012)scale(0.165 -0.165)\">\n       <defs>\n        <path d=\"M 32.71875 3.421875 \nQ 39.59375 3.421875 43.296875 8.46875 \nQ 47.015625 13.53125 47.015625 23 \nQ 47.015625 32.46875 43.296875 37.515625 \nQ 39.59375 42.578125 32.71875 42.578125 \nQ 25.734375 42.578125 22.0625 37.6875 \nQ 18.40625 32.8125 18.40625 23.578125 \nQ 18.40625 13.875 22.109375 8.640625 \nQ 25.828125 3.421875 32.71875 3.421875 \nz\nM 16.796875 40.140625 \nQ 20.125 43.796875 24.3125 45.59375 \nQ 28.515625 47.40625 33.796875 47.40625 \nQ 44.671875 47.40625 51 40.859375 \nQ 57.328125 34.328125 57.328125 23 \nQ 57.328125 11.921875 50.515625 5.25 \nQ 43.703125 -1.421875 32.328125 -1.421875 \nQ 19.96875 -1.421875 13.328125 7.78125 \nQ 6.6875 17 6.6875 34.078125 \nQ 6.6875 53.21875 14.546875 63.71875 \nQ 22.40625 74.21875 36.71875 74.21875 \nQ 40.578125 74.21875 44.828125 73.484375 \nQ 49.078125 72.75 53.515625 71.296875 \nL 53.515625 59.28125 \nL 48 59.28125 \nQ 47.40625 64.203125 44.234375 66.796875 \nQ 41.0625 69.390625 35.6875 69.390625 \nQ 26.21875 69.390625 21.578125 62.203125 \nQ 16.9375 55.03125 16.796875 40.140625 \nz\n\" id=\"DejaVuSerif-54\"/>\n       </defs>\n       <use xlink:href=\"#DejaVuSerif-48\"/>\n       <use x=\"63.623047\" xlink:href=\"#DejaVuSerif-46\"/>\n       <use x=\"95.410156\" xlink:href=\"#DejaVuSerif-48\"/>\n       <use x=\"159.033203\" xlink:href=\"#DejaVuSerif-48\"/>\n       <use x=\"222.65625\" xlink:href=\"#DejaVuSerif-48\"/>\n       <use x=\"286.279297\" xlink:href=\"#DejaVuSerif-54\"/>\n      </g>\n     </g>\n    </g>\n    <g id=\"ytick_5\">\n     <g id=\"line2d_13\">\n      <path clip-path=\"url(#p5a55f58d78)\" d=\"M 98.855156 109.090569 \nL 975.815156 109.090569 \n\" style=\"fill:none;stroke:#ffffff;stroke-linecap:round;stroke-width:1.5;\"/>\n     </g>\n     <g id=\"text_14\">\n      <!-- 0.0008 -->\n      <g style=\"fill:#262626;\" transform=\"translate(28.620625 115.35928)scale(0.165 -0.165)\">\n       <defs>\n        <path d=\"M 46.578125 19.921875 \nQ 46.578125 27.734375 42.6875 32.046875 \nQ 38.8125 36.375 31.78125 36.375 \nQ 24.75 36.375 20.875 32.046875 \nQ 17 27.734375 17 19.921875 \nQ 17 12.0625 20.875 7.734375 \nQ 24.75 3.421875 31.78125 3.421875 \nQ 38.8125 3.421875 42.6875 7.734375 \nQ 46.578125 12.0625 46.578125 19.921875 \nz\nM 44.578125 55.328125 \nQ 44.578125 61.96875 41.203125 65.671875 \nQ 37.84375 69.390625 31.78125 69.390625 \nQ 25.78125 69.390625 22.390625 65.671875 \nQ 19 61.96875 19 55.328125 \nQ 19 48.640625 22.390625 44.921875 \nQ 25.78125 41.21875 31.78125 41.21875 \nQ 37.84375 41.21875 41.203125 44.921875 \nQ 44.578125 48.640625 44.578125 55.328125 \nz\nM 39.3125 38.8125 \nQ 47.609375 37.703125 52.25 32.6875 \nQ 56.890625 27.6875 56.890625 19.921875 \nQ 56.890625 9.671875 50.390625 4.125 \nQ 43.890625 -1.421875 31.78125 -1.421875 \nQ 19.734375 -1.421875 13.203125 4.125 \nQ 6.6875 9.671875 6.6875 19.921875 \nQ 6.6875 27.6875 11.328125 32.6875 \nQ 15.96875 37.703125 24.3125 38.8125 \nQ 16.9375 40.140625 13 44.40625 \nQ 9.078125 48.6875 9.078125 55.328125 \nQ 9.078125 64.109375 15.125 69.15625 \nQ 21.1875 74.21875 31.78125 74.21875 \nQ 42.390625 74.21875 48.4375 69.15625 \nQ 54.5 64.109375 54.5 55.328125 \nQ 54.5 48.6875 50.5625 44.40625 \nQ 46.625 40.140625 39.3125 38.8125 \nz\n\" id=\"DejaVuSerif-56\"/>\n       </defs>\n       <use xlink:href=\"#DejaVuSerif-48\"/>\n       <use x=\"63.623047\" xlink:href=\"#DejaVuSerif-46\"/>\n       <use x=\"95.410156\" xlink:href=\"#DejaVuSerif-48\"/>\n       <use x=\"159.033203\" xlink:href=\"#DejaVuSerif-48\"/>\n       <use x=\"222.65625\" xlink:href=\"#DejaVuSerif-48\"/>\n       <use x=\"286.279297\" xlink:href=\"#DejaVuSerif-56\"/>\n      </g>\n     </g>\n    </g>\n    <g id=\"ytick_6\">\n     <g id=\"line2d_14\">\n      <path clip-path=\"url(#p5a55f58d78)\" d=\"M 98.855156 42.543836 \nL 975.815156 42.543836 \n\" style=\"fill:none;stroke:#ffffff;stroke-linecap:round;stroke-width:1.5;\"/>\n     </g>\n     <g id=\"text_15\">\n      <!-- 0.0010 -->\n      <g style=\"fill:#262626;\" transform=\"translate(28.620625 48.812547)scale(0.165 -0.165)\">\n       <use xlink:href=\"#DejaVuSerif-48\"/>\n       <use x=\"63.623047\" xlink:href=\"#DejaVuSerif-46\"/>\n       <use x=\"95.410156\" xlink:href=\"#DejaVuSerif-48\"/>\n       <use x=\"159.033203\" xlink:href=\"#DejaVuSerif-48\"/>\n       <use x=\"222.65625\" xlink:href=\"#DejaVuSerif-49\"/>\n       <use x=\"286.279297\" xlink:href=\"#DejaVuSerif-48\"/>\n      </g>\n     </g>\n    </g>\n    <g id=\"text_16\">\n     <!-- Density -->\n     <g style=\"fill:#262626;\" transform=\"translate(20.62125 234.855)rotate(-90)scale(0.18 -0.18)\">\n      <defs>\n       <path d=\"M 24.703125 5.171875 \nL 33.796875 5.171875 \nQ 48 5.171875 55.59375 13.28125 \nQ 63.1875 21.390625 63.1875 36.53125 \nQ 63.1875 51.65625 55.609375 59.65625 \nQ 48.046875 67.671875 33.796875 67.671875 \nL 24.703125 67.671875 \nz\nM 5.515625 0 \nL 5.515625 5.171875 \nL 14.796875 5.171875 \nL 14.796875 67.671875 \nL 5.515625 67.671875 \nL 5.515625 72.90625 \nL 34.515625 72.90625 \nQ 53.375 72.90625 63.890625 63.28125 \nQ 74.421875 53.65625 74.421875 36.53125 \nQ 74.421875 19.34375 63.875 9.671875 \nQ 53.328125 0 34.515625 0 \nz\n\" id=\"DejaVuSerif-68\"/>\n       <path d=\"M 54.203125 25 \nL 15.484375 25 \nL 15.484375 24.609375 \nQ 15.484375 14.109375 19.4375 8.765625 \nQ 23.390625 3.421875 31.109375 3.421875 \nQ 37.015625 3.421875 40.796875 6.515625 \nQ 44.578125 9.625 46.09375 15.71875 \nL 53.328125 15.71875 \nQ 51.171875 7.171875 45.375 2.875 \nQ 39.59375 -1.421875 30.171875 -1.421875 \nQ 18.796875 -1.421875 11.890625 6.078125 \nQ 4.984375 13.578125 4.984375 25.984375 \nQ 4.984375 38.28125 11.765625 45.796875 \nQ 18.5625 53.328125 29.59375 53.328125 \nQ 41.359375 53.328125 47.65625 46.0625 \nQ 53.953125 38.8125 54.203125 25 \nz\nM 43.609375 30.171875 \nQ 43.3125 39.265625 39.765625 43.875 \nQ 36.234375 48.484375 29.59375 48.484375 \nQ 23.390625 48.484375 19.828125 43.84375 \nQ 16.265625 39.203125 15.484375 30.171875 \nz\n\" id=\"DejaVuSerif-101\"/>\n       <path d=\"M 4.109375 0 \nL 4.109375 5.171875 \nL 12.203125 5.171875 \nL 12.203125 46.6875 \nL 3.609375 46.6875 \nL 3.609375 51.90625 \nL 21.1875 51.90625 \nL 21.1875 42.671875 \nQ 23.6875 47.953125 27.65625 50.640625 \nQ 31.640625 53.328125 36.921875 53.328125 \nQ 45.515625 53.328125 49.5625 48.390625 \nQ 53.609375 43.453125 53.609375 33.015625 \nL 53.609375 5.171875 \nL 61.625 5.171875 \nL 61.625 0 \nL 36.8125 0 \nL 36.8125 5.171875 \nL 44.578125 5.171875 \nL 44.578125 30.171875 \nQ 44.578125 39.703125 42.234375 43.234375 \nQ 39.890625 46.78125 33.984375 46.78125 \nQ 27.734375 46.78125 24.453125 42.203125 \nQ 21.1875 37.640625 21.1875 28.90625 \nL 21.1875 5.171875 \nL 29 5.171875 \nL 29 0 \nz\n\" id=\"DejaVuSerif-110\"/>\n       <path d=\"M 5.609375 2.875 \nL 5.609375 14.984375 \nL 10.796875 14.984375 \nQ 10.984375 9.1875 14.421875 6.296875 \nQ 17.875 3.421875 24.609375 3.421875 \nQ 30.671875 3.421875 33.84375 5.6875 \nQ 37.015625 7.953125 37.015625 12.3125 \nQ 37.015625 15.71875 34.6875 17.8125 \nQ 32.375 19.921875 24.90625 22.3125 \nL 18.40625 24.515625 \nQ 11.71875 26.65625 8.71875 29.875 \nQ 5.71875 33.109375 5.71875 38.09375 \nQ 5.71875 45.21875 10.9375 49.265625 \nQ 16.15625 53.328125 25.390625 53.328125 \nQ 29.5 53.328125 34.03125 52.25 \nQ 38.578125 51.171875 43.40625 49.125 \nL 43.40625 37.796875 \nL 38.234375 37.796875 \nQ 38.03125 42.828125 34.703125 45.65625 \nQ 31.390625 48.484375 25.6875 48.484375 \nQ 20.015625 48.484375 17.109375 46.484375 \nQ 14.203125 44.484375 14.203125 40.484375 \nQ 14.203125 37.203125 16.40625 35.21875 \nQ 18.609375 33.25 25.203125 31.203125 \nL 32.328125 29 \nQ 39.703125 26.703125 42.9375 23.265625 \nQ 46.1875 19.828125 46.1875 14.40625 \nQ 46.1875 7.03125 40.546875 2.796875 \nQ 34.90625 -1.421875 25 -1.421875 \nQ 19.96875 -1.421875 15.1875 -0.34375 \nQ 10.40625 0.734375 5.609375 2.875 \nz\n\" id=\"DejaVuSerif-115\"/>\n       <path d=\"M 21.578125 -9.515625 \nL 25 -0.875 \nL 5.609375 46.6875 \nL -0.296875 46.6875 \nL -0.296875 51.90625 \nL 23.578125 51.90625 \nL 23.578125 46.6875 \nL 15.28125 46.6875 \nL 29.890625 10.984375 \nL 44.484375 46.6875 \nL 36.71875 46.6875 \nL 36.71875 51.90625 \nL 56.203125 51.90625 \nL 56.203125 46.6875 \nL 50.390625 46.6875 \nL 26.609375 -11.71875 \nQ 24.171875 -17.78125 21.1875 -20 \nQ 18.21875 -22.21875 12.796875 -22.21875 \nQ 10.5 -22.21875 8.078125 -21.828125 \nQ 5.671875 -21.4375 3.21875 -20.703125 \nL 3.21875 -10.796875 \nL 7.8125 -10.796875 \nQ 8.109375 -14.109375 9.5 -15.546875 \nQ 10.890625 -17 13.8125 -17 \nQ 16.5 -17 18.140625 -15.5 \nQ 19.78125 -14.015625 21.578125 -9.515625 \nz\n\" id=\"DejaVuSerif-121\"/>\n      </defs>\n      <use xlink:href=\"#DejaVuSerif-68\"/>\n      <use x=\"80.175781\" xlink:href=\"#DejaVuSerif-101\"/>\n      <use x=\"139.355469\" xlink:href=\"#DejaVuSerif-110\"/>\n      <use x=\"203.759766\" xlink:href=\"#DejaVuSerif-115\"/>\n      <use x=\"255.078125\" xlink:href=\"#DejaVuSerif-105\"/>\n      <use x=\"287.060547\" xlink:href=\"#DejaVuSerif-116\"/>\n      <use x=\"327.246094\" xlink:href=\"#DejaVuSerif-121\"/>\n     </g>\n    </g>\n   </g>\n   <g id=\"patch_3\">\n    <path clip-path=\"url(#p5a55f58d78)\" d=\"M 184.604542 375.2775 \nL 187.224774 375.2775 \nL 187.224774 298.245931 \nL 184.604542 298.245931 \nz\n\" style=\"fill:#0000ff;opacity:0.4;stroke:#ffffff;stroke-linejoin:miter;stroke-width:2;\"/>\n   </g>\n   <g id=\"patch_4\">\n    <path clip-path=\"url(#p5a55f58d78)\" d=\"M 187.224774 375.2775 \nL 189.845007 375.2775 \nL 189.845007 375.2775 \nL 187.224774 375.2775 \nz\n\" style=\"fill:#0000ff;opacity:0.4;stroke:#ffffff;stroke-linejoin:miter;stroke-width:2;\"/>\n   </g>\n   <g id=\"patch_5\">\n    <path clip-path=\"url(#p5a55f58d78)\" d=\"M 189.845007 375.2775 \nL 192.465239 375.2775 \nL 192.465239 110.310755 \nL 189.845007 110.310755 \nz\n\" style=\"fill:#0000ff;opacity:0.4;stroke:#ffffff;stroke-linejoin:miter;stroke-width:2;\"/>\n   </g>\n   <g id=\"patch_6\">\n    <path clip-path=\"url(#p5a55f58d78)\" d=\"M 192.465239 375.2775 \nL 195.085471 375.2775 \nL 195.085471 375.2775 \nL 192.465239 375.2775 \nz\n\" style=\"fill:#0000ff;opacity:0.4;stroke:#ffffff;stroke-linejoin:miter;stroke-width:2;\"/>\n   </g>\n   <g id=\"patch_7\">\n    <path clip-path=\"url(#p5a55f58d78)\" d=\"M 195.085471 375.2775 \nL 197.705704 375.2775 \nL 197.705704 375.2775 \nL 195.085471 375.2775 \nz\n\" style=\"fill:#0000ff;opacity:0.4;stroke:#ffffff;stroke-linejoin:miter;stroke-width:2;\"/>\n   </g>\n   <g id=\"patch_8\">\n    <path clip-path=\"url(#p5a55f58d78)\" d=\"M 197.705704 375.2775 \nL 200.325936 375.2775 \nL 200.325936 145.821762 \nL 197.705704 145.821762 \nz\n\" style=\"fill:#0000ff;opacity:0.4;stroke:#ffffff;stroke-linejoin:miter;stroke-width:2;\"/>\n   </g>\n   <g id=\"patch_9\">\n    <path clip-path=\"url(#p5a55f58d78)\" d=\"M 200.325936 375.2775 \nL 202.946169 375.2775 \nL 202.946169 375.2775 \nL 200.325936 375.2775 \nz\n\" style=\"fill:#0000ff;opacity:0.4;stroke:#ffffff;stroke-linejoin:miter;stroke-width:2;\"/>\n   </g>\n   <g id=\"patch_10\">\n    <path clip-path=\"url(#p5a55f58d78)\" d=\"M 202.946169 375.2775 \nL 205.566401 375.2775 \nL 205.566401 375.2775 \nL 202.946169 375.2775 \nz\n\" style=\"fill:#0000ff;opacity:0.4;stroke:#ffffff;stroke-linejoin:miter;stroke-width:2;\"/>\n   </g>\n   <g id=\"patch_11\">\n    <path clip-path=\"url(#p5a55f58d78)\" d=\"M 205.566401 375.2775 \nL 208.186633 375.2775 \nL 208.186633 338.673847 \nL 205.566401 338.673847 \nz\n\" style=\"fill:#0000ff;opacity:0.4;stroke:#ffffff;stroke-linejoin:miter;stroke-width:2;\"/>\n   </g>\n   <g id=\"patch_12\">\n    <path clip-path=\"url(#p5a55f58d78)\" d=\"M 208.186633 375.2775 \nL 210.806866 375.2775 \nL 210.806866 375.2775 \nL 208.186633 375.2775 \nz\n\" style=\"fill:#0000ff;opacity:0.4;stroke:#ffffff;stroke-linejoin:miter;stroke-width:2;\"/>\n   </g>\n   <g id=\"patch_13\">\n    <path clip-path=\"url(#p5a55f58d78)\" d=\"M 210.806866 375.2775 \nL 213.427098 375.2775 \nL 213.427098 42.020357 \nL 210.806866 42.020357 \nz\n\" style=\"fill:#0000ff;opacity:0.4;stroke:#ffffff;stroke-linejoin:miter;stroke-width:2;\"/>\n   </g>\n   <g id=\"patch_14\">\n    <path clip-path=\"url(#p5a55f58d78)\" d=\"M 213.427098 375.2775 \nL 216.04733 375.2775 \nL 216.04733 375.2775 \nL 213.427098 375.2775 \nz\n\" style=\"fill:#0000ff;opacity:0.4;stroke:#ffffff;stroke-linejoin:miter;stroke-width:2;\"/>\n   </g>\n   <g id=\"patch_15\">\n    <path clip-path=\"url(#p5a55f58d78)\" d=\"M 216.04733 375.2775 \nL 218.667563 375.2775 \nL 218.667563 375.2775 \nL 216.04733 375.2775 \nz\n\" style=\"fill:#0000ff;opacity:0.4;stroke:#ffffff;stroke-linejoin:miter;stroke-width:2;\"/>\n   </g>\n   <g id=\"patch_16\">\n    <path clip-path=\"url(#p5a55f58d78)\" d=\"M 218.667563 375.2775 \nL 221.287795 375.2775 \nL 221.287795 292.236376 \nL 218.667563 292.236376 \nz\n\" style=\"fill:#0000ff;opacity:0.4;stroke:#ffffff;stroke-linejoin:miter;stroke-width:2;\"/>\n   </g>\n   <g id=\"patch_17\">\n    <path clip-path=\"url(#p5a55f58d78)\" d=\"M 221.287795 375.2775 \nL 223.908027 375.2775 \nL 223.908027 375.2775 \nL 221.287795 375.2775 \nz\n\" style=\"fill:#0000ff;opacity:0.4;stroke:#ffffff;stroke-linejoin:miter;stroke-width:2;\"/>\n   </g>\n   <g id=\"patch_18\">\n    <path clip-path=\"url(#p5a55f58d78)\" d=\"M 223.908027 375.2775 \nL 226.52826 375.2775 \nL 226.52826 375.2775 \nL 223.908027 375.2775 \nz\n\" style=\"fill:#0000ff;opacity:0.4;stroke:#ffffff;stroke-linejoin:miter;stroke-width:2;\"/>\n   </g>\n   <g id=\"patch_19\">\n    <path clip-path=\"url(#p5a55f58d78)\" d=\"M 226.52826 375.2775 \nL 229.148492 375.2775 \nL 229.148492 289.50476 \nL 226.52826 289.50476 \nz\n\" style=\"fill:#0000ff;opacity:0.4;stroke:#ffffff;stroke-linejoin:miter;stroke-width:2;\"/>\n   </g>\n   <g id=\"patch_20\">\n    <path clip-path=\"url(#p5a55f58d78)\" d=\"M 229.148492 375.2775 \nL 231.768724 375.2775 \nL 231.768724 375.2775 \nL 229.148492 375.2775 \nz\n\" style=\"fill:#0000ff;opacity:0.4;stroke:#ffffff;stroke-linejoin:miter;stroke-width:2;\"/>\n   </g>\n   <g id=\"patch_21\">\n    <path clip-path=\"url(#p5a55f58d78)\" d=\"M 231.768724 375.2775 \nL 234.388957 375.2775 \nL 234.388957 375.2775 \nL 231.768724 375.2775 \nz\n\" style=\"fill:#0000ff;opacity:0.4;stroke:#ffffff;stroke-linejoin:miter;stroke-width:2;\"/>\n   </g>\n   <g id=\"patch_22\">\n    <path clip-path=\"url(#p5a55f58d78)\" d=\"M 234.388957 375.2775 \nL 237.009189 375.2775 \nL 237.009189 236.511411 \nL 234.388957 236.511411 \nz\n\" style=\"fill:#0000ff;opacity:0.4;stroke:#ffffff;stroke-linejoin:miter;stroke-width:2;\"/>\n   </g>\n   <g id=\"patch_23\">\n    <path clip-path=\"url(#p5a55f58d78)\" d=\"M 237.009189 375.2775 \nL 239.629421 375.2775 \nL 239.629421 375.2775 \nL 237.009189 375.2775 \nz\n\" style=\"fill:#0000ff;opacity:0.4;stroke:#ffffff;stroke-linejoin:miter;stroke-width:2;\"/>\n   </g>\n   <g id=\"patch_24\">\n    <path clip-path=\"url(#p5a55f58d78)\" d=\"M 239.629421 375.2775 \nL 242.249654 375.2775 \nL 242.249654 312.996657 \nL 239.629421 312.996657 \nz\n\" style=\"fill:#0000ff;opacity:0.4;stroke:#ffffff;stroke-linejoin:miter;stroke-width:2;\"/>\n   </g>\n   <g id=\"patch_25\">\n    <path clip-path=\"url(#p5a55f58d78)\" d=\"M 242.249654 375.2775 \nL 244.869886 375.2775 \nL 244.869886 375.2775 \nL 242.249654 375.2775 \nz\n\" style=\"fill:#0000ff;opacity:0.4;stroke:#ffffff;stroke-linejoin:miter;stroke-width:2;\"/>\n   </g>\n   <g id=\"patch_26\">\n    <path clip-path=\"url(#p5a55f58d78)\" d=\"M 244.869886 375.2775 \nL 247.490118 375.2775 \nL 247.490118 375.2775 \nL 244.869886 375.2775 \nz\n\" style=\"fill:#0000ff;opacity:0.4;stroke:#ffffff;stroke-linejoin:miter;stroke-width:2;\"/>\n   </g>\n   <g id=\"patch_27\">\n    <path clip-path=\"url(#p5a55f58d78)\" d=\"M 247.490118 375.2775 \nL 250.110351 375.2775 \nL 250.110351 272.022418 \nL 247.490118 272.022418 \nz\n\" style=\"fill:#0000ff;opacity:0.4;stroke:#ffffff;stroke-linejoin:miter;stroke-width:2;\"/>\n   </g>\n   <g id=\"patch_28\">\n    <path clip-path=\"url(#p5a55f58d78)\" d=\"M 250.110351 375.2775 \nL 252.730583 375.2775 \nL 252.730583 375.2775 \nL 250.110351 375.2775 \nz\n\" style=\"fill:#0000ff;opacity:0.4;stroke:#ffffff;stroke-linejoin:miter;stroke-width:2;\"/>\n   </g>\n   <g id=\"patch_29\">\n    <path clip-path=\"url(#p5a55f58d78)\" d=\"M 252.730583 375.2775 \nL 255.350816 375.2775 \nL 255.350816 375.2775 \nL 252.730583 375.2775 \nz\n\" style=\"fill:#0000ff;opacity:0.4;stroke:#ffffff;stroke-linejoin:miter;stroke-width:2;\"/>\n   </g>\n   <g id=\"patch_30\">\n    <path clip-path=\"url(#p5a55f58d78)\" d=\"M 255.350816 375.2775 \nL 257.971048 375.2775 \nL 257.971048 326.654737 \nL 255.350816 326.654737 \nz\n\" style=\"fill:#0000ff;opacity:0.4;stroke:#ffffff;stroke-linejoin:miter;stroke-width:2;\"/>\n   </g>\n   <g id=\"patch_31\">\n    <path clip-path=\"url(#p5a55f58d78)\" d=\"M 257.971048 375.2775 \nL 260.59128 375.2775 \nL 260.59128 375.2775 \nL 257.971048 375.2775 \nz\n\" style=\"fill:#0000ff;opacity:0.4;stroke:#ffffff;stroke-linejoin:miter;stroke-width:2;\"/>\n   </g>\n   <g id=\"patch_32\">\n    <path clip-path=\"url(#p5a55f58d78)\" d=\"M 260.59128 375.2775 \nL 263.211513 375.2775 \nL 263.211513 375.2775 \nL 260.59128 375.2775 \nz\n\" style=\"fill:#0000ff;opacity:0.4;stroke:#ffffff;stroke-linejoin:miter;stroke-width:2;\"/>\n   </g>\n   <g id=\"patch_33\">\n    <path clip-path=\"url(#p5a55f58d78)\" d=\"M 263.211513 375.2775 \nL 265.831745 375.2775 \nL 265.831745 306.440779 \nL 263.211513 306.440779 \nz\n\" style=\"fill:#0000ff;opacity:0.4;stroke:#ffffff;stroke-linejoin:miter;stroke-width:2;\"/>\n   </g>\n   <g id=\"patch_34\">\n    <path clip-path=\"url(#p5a55f58d78)\" d=\"M 265.831745 375.2775 \nL 268.451977 375.2775 \nL 268.451977 375.2775 \nL 265.831745 375.2775 \nz\n\" style=\"fill:#0000ff;opacity:0.4;stroke:#ffffff;stroke-linejoin:miter;stroke-width:2;\"/>\n   </g>\n   <g id=\"patch_35\">\n    <path clip-path=\"url(#p5a55f58d78)\" d=\"M 268.451977 375.2775 \nL 271.07221 375.2775 \nL 271.07221 315.18195 \nL 268.451977 315.18195 \nz\n\" style=\"fill:#0000ff;opacity:0.4;stroke:#ffffff;stroke-linejoin:miter;stroke-width:2;\"/>\n   </g>\n   <g id=\"patch_36\">\n    <path clip-path=\"url(#p5a55f58d78)\" d=\"M 271.07221 375.2775 \nL 273.692442 375.2775 \nL 273.692442 375.2775 \nL 271.07221 375.2775 \nz\n\" style=\"fill:#0000ff;opacity:0.4;stroke:#ffffff;stroke-linejoin:miter;stroke-width:2;\"/>\n   </g>\n   <g id=\"patch_37\">\n    <path clip-path=\"url(#p5a55f58d78)\" d=\"M 273.692442 375.2775 \nL 276.312674 375.2775 \nL 276.312674 375.2775 \nL 273.692442 375.2775 \nz\n\" style=\"fill:#0000ff;opacity:0.4;stroke:#ffffff;stroke-linejoin:miter;stroke-width:2;\"/>\n   </g>\n   <g id=\"patch_38\">\n    <path clip-path=\"url(#p5a55f58d78)\" d=\"M 276.312674 375.2775 \nL 278.932907 375.2775 \nL 278.932907 312.450334 \nL 276.312674 312.450334 \nz\n\" style=\"fill:#0000ff;opacity:0.4;stroke:#ffffff;stroke-linejoin:miter;stroke-width:2;\"/>\n   </g>\n   <g id=\"patch_39\">\n    <path clip-path=\"url(#p5a55f58d78)\" d=\"M 278.932907 375.2775 \nL 281.553139 375.2775 \nL 281.553139 375.2775 \nL 278.932907 375.2775 \nz\n\" style=\"fill:#0000ff;opacity:0.4;stroke:#ffffff;stroke-linejoin:miter;stroke-width:2;\"/>\n   </g>\n   <g id=\"patch_40\">\n    <path clip-path=\"url(#p5a55f58d78)\" d=\"M 281.553139 375.2775 \nL 284.173371 375.2775 \nL 284.173371 375.2775 \nL 281.553139 375.2775 \nz\n\" style=\"fill:#0000ff;opacity:0.4;stroke:#ffffff;stroke-linejoin:miter;stroke-width:2;\"/>\n   </g>\n   <g id=\"patch_41\">\n    <path clip-path=\"url(#p5a55f58d78)\" d=\"M 284.173371 375.2775 \nL 286.793604 375.2775 \nL 286.793604 305.348132 \nL 284.173371 305.348132 \nz\n\" style=\"fill:#0000ff;opacity:0.4;stroke:#ffffff;stroke-linejoin:miter;stroke-width:2;\"/>\n   </g>\n   <g id=\"patch_42\">\n    <path clip-path=\"url(#p5a55f58d78)\" d=\"M 286.793604 375.2775 \nL 289.413836 375.2775 \nL 289.413836 375.2775 \nL 286.793604 375.2775 \nz\n\" style=\"fill:#0000ff;opacity:0.4;stroke:#ffffff;stroke-linejoin:miter;stroke-width:2;\"/>\n   </g>\n   <g id=\"patch_43\">\n    <path clip-path=\"url(#p5a55f58d78)\" d=\"M 289.413836 375.2775 \nL 292.034068 375.2775 \nL 292.034068 375.2775 \nL 289.413836 375.2775 \nz\n\" style=\"fill:#0000ff;opacity:0.4;stroke:#ffffff;stroke-linejoin:miter;stroke-width:2;\"/>\n   </g>\n   <g id=\"patch_44\">\n    <path clip-path=\"url(#p5a55f58d78)\" d=\"M 292.034068 375.2775 \nL 294.654301 375.2775 \nL 294.654301 321.191505 \nL 292.034068 321.191505 \nz\n\" style=\"fill:#0000ff;opacity:0.4;stroke:#ffffff;stroke-linejoin:miter;stroke-width:2;\"/>\n   </g>\n   <g id=\"patch_45\">\n    <path clip-path=\"url(#p5a55f58d78)\" d=\"M 294.654301 375.2775 \nL 297.274533 375.2775 \nL 297.274533 375.2775 \nL 294.654301 375.2775 \nz\n\" style=\"fill:#0000ff;opacity:0.4;stroke:#ffffff;stroke-linejoin:miter;stroke-width:2;\"/>\n   </g>\n   <g id=\"patch_46\">\n    <path clip-path=\"url(#p5a55f58d78)\" d=\"M 297.274533 375.2775 \nL 299.894766 375.2775 \nL 299.894766 346.322371 \nL 297.274533 346.322371 \nz\n\" style=\"fill:#0000ff;opacity:0.4;stroke:#ffffff;stroke-linejoin:miter;stroke-width:2;\"/>\n   </g>\n   <g id=\"patch_47\">\n    <path clip-path=\"url(#p5a55f58d78)\" d=\"M 299.894766 375.2775 \nL 302.514998 375.2775 \nL 302.514998 375.2775 \nL 299.894766 375.2775 \nz\n\" style=\"fill:#0000ff;opacity:0.4;stroke:#ffffff;stroke-linejoin:miter;stroke-width:2;\"/>\n   </g>\n   <g id=\"patch_48\">\n    <path clip-path=\"url(#p5a55f58d78)\" d=\"M 302.514998 375.2775 \nL 305.13523 375.2775 \nL 305.13523 375.2775 \nL 302.514998 375.2775 \nz\n\" style=\"fill:#0000ff;opacity:0.4;stroke:#ffffff;stroke-linejoin:miter;stroke-width:2;\"/>\n   </g>\n   <g id=\"patch_49\">\n    <path clip-path=\"url(#p5a55f58d78)\" d=\"M 305.13523 375.2775 \nL 307.755463 375.2775 \nL 307.755463 312.996657 \nL 305.13523 312.996657 \nz\n\" style=\"fill:#0000ff;opacity:0.4;stroke:#ffffff;stroke-linejoin:miter;stroke-width:2;\"/>\n   </g>\n   <g id=\"patch_50\">\n    <path clip-path=\"url(#p5a55f58d78)\" d=\"M 307.755463 375.2775 \nL 310.375695 375.2775 \nL 310.375695 375.2775 \nL 307.755463 375.2775 \nz\n\" style=\"fill:#0000ff;opacity:0.4;stroke:#ffffff;stroke-linejoin:miter;stroke-width:2;\"/>\n   </g>\n   <g id=\"patch_51\">\n    <path clip-path=\"url(#p5a55f58d78)\" d=\"M 310.375695 375.2775 \nL 312.995927 375.2775 \nL 312.995927 375.2775 \nL 310.375695 375.2775 \nz\n\" style=\"fill:#0000ff;opacity:0.4;stroke:#ffffff;stroke-linejoin:miter;stroke-width:2;\"/>\n   </g>\n   <g id=\"patch_52\">\n    <path clip-path=\"url(#p5a55f58d78)\" d=\"M 312.995927 375.2775 \nL 315.61616 375.2775 \nL 315.61616 352.878249 \nL 312.995927 352.878249 \nz\n\" style=\"fill:#0000ff;opacity:0.4;stroke:#ffffff;stroke-linejoin:miter;stroke-width:2;\"/>\n   </g>\n   <g id=\"patch_53\">\n    <path clip-path=\"url(#p5a55f58d78)\" d=\"M 315.61616 375.2775 \nL 318.236392 375.2775 \nL 318.236392 375.2775 \nL 315.61616 375.2775 \nz\n\" style=\"fill:#0000ff;opacity:0.4;stroke:#ffffff;stroke-linejoin:miter;stroke-width:2;\"/>\n   </g>\n   <g id=\"patch_54\">\n    <path clip-path=\"url(#p5a55f58d78)\" d=\"M 318.236392 375.2775 \nL 320.856624 375.2775 \nL 320.856624 375.2775 \nL 318.236392 375.2775 \nz\n\" style=\"fill:#0000ff;opacity:0.4;stroke:#ffffff;stroke-linejoin:miter;stroke-width:2;\"/>\n   </g>\n   <g id=\"patch_55\">\n    <path clip-path=\"url(#p5a55f58d78)\" d=\"M 320.856624 375.2775 \nL 323.476857 375.2775 \nL 323.476857 273.661388 \nL 320.856624 273.661388 \nz\n\" style=\"fill:#0000ff;opacity:0.4;stroke:#ffffff;stroke-linejoin:miter;stroke-width:2;\"/>\n   </g>\n   <g id=\"patch_56\">\n    <path clip-path=\"url(#p5a55f58d78)\" d=\"M 323.476857 375.2775 \nL 326.097089 375.2775 \nL 326.097089 375.2775 \nL 323.476857 375.2775 \nz\n\" style=\"fill:#0000ff;opacity:0.4;stroke:#ffffff;stroke-linejoin:miter;stroke-width:2;\"/>\n   </g>\n   <g id=\"patch_57\">\n    <path clip-path=\"url(#p5a55f58d78)\" d=\"M 326.097089 375.2775 \nL 328.717321 375.2775 \nL 328.717321 329.932676 \nL 326.097089 329.932676 \nz\n\" style=\"fill:#0000ff;opacity:0.4;stroke:#ffffff;stroke-linejoin:miter;stroke-width:2;\"/>\n   </g>\n   <g id=\"patch_58\">\n    <path clip-path=\"url(#p5a55f58d78)\" d=\"M 328.717321 375.2775 \nL 331.337554 375.2775 \nL 331.337554 375.2775 \nL 328.717321 375.2775 \nz\n\" style=\"fill:#0000ff;opacity:0.4;stroke:#ffffff;stroke-linejoin:miter;stroke-width:2;\"/>\n   </g>\n   <g id=\"patch_59\">\n    <path clip-path=\"url(#p5a55f58d78)\" d=\"M 331.337554 375.2775 \nL 333.957786 375.2775 \nL 333.957786 375.2775 \nL 331.337554 375.2775 \nz\n\" style=\"fill:#0000ff;opacity:0.4;stroke:#ffffff;stroke-linejoin:miter;stroke-width:2;\"/>\n   </g>\n   <g id=\"patch_60\">\n    <path clip-path=\"url(#p5a55f58d78)\" d=\"M 333.957786 375.2775 \nL 336.578018 375.2775 \nL 336.578018 340.859139 \nL 333.957786 340.859139 \nz\n\" style=\"fill:#0000ff;opacity:0.4;stroke:#ffffff;stroke-linejoin:miter;stroke-width:2;\"/>\n   </g>\n   <g id=\"patch_61\">\n    <path clip-path=\"url(#p5a55f58d78)\" d=\"M 336.578018 375.2775 \nL 339.198251 375.2775 \nL 339.198251 375.2775 \nL 336.578018 375.2775 \nz\n\" style=\"fill:#0000ff;opacity:0.4;stroke:#ffffff;stroke-linejoin:miter;stroke-width:2;\"/>\n   </g>\n   <g id=\"patch_62\">\n    <path clip-path=\"url(#p5a55f58d78)\" d=\"M 339.198251 375.2775 \nL 341.818483 375.2775 \nL 341.818483 375.2775 \nL 339.198251 375.2775 \nz\n\" style=\"fill:#0000ff;opacity:0.4;stroke:#ffffff;stroke-linejoin:miter;stroke-width:2;\"/>\n   </g>\n   <g id=\"patch_63\">\n    <path clip-path=\"url(#p5a55f58d78)\" d=\"M 341.818483 375.2775 \nL 344.438716 375.2775 \nL 344.438716 327.747383 \nL 341.818483 327.747383 \nz\n\" style=\"fill:#0000ff;opacity:0.4;stroke:#ffffff;stroke-linejoin:miter;stroke-width:2;\"/>\n   </g>\n   <g id=\"patch_64\">\n    <path clip-path=\"url(#p5a55f58d78)\" d=\"M 344.438716 375.2775 \nL 347.058948 375.2775 \nL 347.058948 375.2775 \nL 344.438716 375.2775 \nz\n\" style=\"fill:#0000ff;opacity:0.4;stroke:#ffffff;stroke-linejoin:miter;stroke-width:2;\"/>\n   </g>\n   <g id=\"patch_65\">\n    <path clip-path=\"url(#p5a55f58d78)\" d=\"M 347.058948 375.2775 \nL 349.67918 375.2775 \nL 349.67918 375.2775 \nL 347.058948 375.2775 \nz\n\" style=\"fill:#0000ff;opacity:0.4;stroke:#ffffff;stroke-linejoin:miter;stroke-width:2;\"/>\n   </g>\n   <g id=\"patch_66\">\n    <path clip-path=\"url(#p5a55f58d78)\" d=\"M 349.67918 375.2775 \nL 352.299413 375.2775 \nL 352.299413 331.025322 \nL 349.67918 331.025322 \nz\n\" style=\"fill:#0000ff;opacity:0.4;stroke:#ffffff;stroke-linejoin:miter;stroke-width:2;\"/>\n   </g>\n   <g id=\"patch_67\">\n    <path clip-path=\"url(#p5a55f58d78)\" d=\"M 352.299413 375.2775 \nL 354.919645 375.2775 \nL 354.919645 375.2775 \nL 352.299413 375.2775 \nz\n\" style=\"fill:#0000ff;opacity:0.4;stroke:#ffffff;stroke-linejoin:miter;stroke-width:2;\"/>\n   </g>\n   <g id=\"patch_68\">\n    <path clip-path=\"url(#p5a55f58d78)\" d=\"M 354.919645 375.2775 \nL 357.539877 375.2775 \nL 357.539877 354.517219 \nL 354.919645 354.517219 \nz\n\" style=\"fill:#0000ff;opacity:0.4;stroke:#ffffff;stroke-linejoin:miter;stroke-width:2;\"/>\n   </g>\n   <g id=\"patch_69\">\n    <path clip-path=\"url(#p5a55f58d78)\" d=\"M 357.539877 375.2775 \nL 360.16011 375.2775 \nL 360.16011 375.2775 \nL 357.539877 375.2775 \nz\n\" style=\"fill:#0000ff;opacity:0.4;stroke:#ffffff;stroke-linejoin:miter;stroke-width:2;\"/>\n   </g>\n   <g id=\"patch_70\">\n    <path clip-path=\"url(#p5a55f58d78)\" d=\"M 360.16011 375.2775 \nL 362.780342 375.2775 \nL 362.780342 375.2775 \nL 360.16011 375.2775 \nz\n\" style=\"fill:#0000ff;opacity:0.4;stroke:#ffffff;stroke-linejoin:miter;stroke-width:2;\"/>\n   </g>\n   <g id=\"patch_71\">\n    <path clip-path=\"url(#p5a55f58d78)\" d=\"M 362.780342 375.2775 \nL 365.400574 375.2775 \nL 365.400574 340.312816 \nL 362.780342 340.312816 \nz\n\" style=\"fill:#0000ff;opacity:0.4;stroke:#ffffff;stroke-linejoin:miter;stroke-width:2;\"/>\n   </g>\n   <g id=\"patch_72\">\n    <path clip-path=\"url(#p5a55f58d78)\" d=\"M 365.400574 375.2775 \nL 368.020807 375.2775 \nL 368.020807 375.2775 \nL 365.400574 375.2775 \nz\n\" style=\"fill:#0000ff;opacity:0.4;stroke:#ffffff;stroke-linejoin:miter;stroke-width:2;\"/>\n   </g>\n   <g id=\"patch_73\">\n    <path clip-path=\"url(#p5a55f58d78)\" d=\"M 368.020807 375.2775 \nL 370.641039 375.2775 \nL 370.641039 375.2775 \nL 368.020807 375.2775 \nz\n\" style=\"fill:#0000ff;opacity:0.4;stroke:#ffffff;stroke-linejoin:miter;stroke-width:2;\"/>\n   </g>\n   <g id=\"patch_74\">\n    <path clip-path=\"url(#p5a55f58d78)\" d=\"M 370.641039 375.2775 \nL 373.261271 375.2775 \nL 373.261271 362.712067 \nL 370.641039 362.712067 \nz\n\" style=\"fill:#0000ff;opacity:0.4;stroke:#ffffff;stroke-linejoin:miter;stroke-width:2;\"/>\n   </g>\n   <g id=\"patch_75\">\n    <path clip-path=\"url(#p5a55f58d78)\" d=\"M 373.261271 375.2775 \nL 375.881504 375.2775 \nL 375.881504 375.2775 \nL 373.261271 375.2775 \nz\n\" style=\"fill:#0000ff;opacity:0.4;stroke:#ffffff;stroke-linejoin:miter;stroke-width:2;\"/>\n   </g>\n   <g id=\"patch_76\">\n    <path clip-path=\"url(#p5a55f58d78)\" d=\"M 375.881504 375.2775 \nL 378.501736 375.2775 \nL 378.501736 346.868694 \nL 375.881504 346.868694 \nz\n\" style=\"fill:#0000ff;opacity:0.4;stroke:#ffffff;stroke-linejoin:miter;stroke-width:2;\"/>\n   </g>\n   <g id=\"patch_77\">\n    <path clip-path=\"url(#p5a55f58d78)\" d=\"M 378.501736 375.2775 \nL 381.121968 375.2775 \nL 381.121968 375.2775 \nL 378.501736 375.2775 \nz\n\" style=\"fill:#0000ff;opacity:0.4;stroke:#ffffff;stroke-linejoin:miter;stroke-width:2;\"/>\n   </g>\n   <g id=\"patch_78\">\n    <path clip-path=\"url(#p5a55f58d78)\" d=\"M 381.121968 375.2775 \nL 383.742201 375.2775 \nL 383.742201 375.2775 \nL 381.121968 375.2775 \nz\n\" style=\"fill:#0000ff;opacity:0.4;stroke:#ffffff;stroke-linejoin:miter;stroke-width:2;\"/>\n   </g>\n   <g id=\"patch_79\">\n    <path clip-path=\"url(#p5a55f58d78)\" d=\"M 383.742201 375.2775 \nL 386.362433 375.2775 \nL 386.362433 354.517219 \nL 383.742201 354.517219 \nz\n\" style=\"fill:#0000ff;opacity:0.4;stroke:#ffffff;stroke-linejoin:miter;stroke-width:2;\"/>\n   </g>\n   <g id=\"patch_80\">\n    <path clip-path=\"url(#p5a55f58d78)\" d=\"M 386.362433 375.2775 \nL 388.982665 375.2775 \nL 388.982665 375.2775 \nL 386.362433 375.2775 \nz\n\" style=\"fill:#0000ff;opacity:0.4;stroke:#ffffff;stroke-linejoin:miter;stroke-width:2;\"/>\n   </g>\n   <g id=\"patch_81\">\n    <path clip-path=\"url(#p5a55f58d78)\" d=\"M 388.982665 375.2775 \nL 391.602898 375.2775 \nL 391.602898 375.2775 \nL 388.982665 375.2775 \nz\n\" style=\"fill:#0000ff;opacity:0.4;stroke:#ffffff;stroke-linejoin:miter;stroke-width:2;\"/>\n   </g>\n   <g id=\"patch_82\">\n    <path clip-path=\"url(#p5a55f58d78)\" d=\"M 391.602898 375.2775 \nL 394.22313 375.2775 \nL 394.22313 342.498109 \nL 391.602898 342.498109 \nz\n\" style=\"fill:#0000ff;opacity:0.4;stroke:#ffffff;stroke-linejoin:miter;stroke-width:2;\"/>\n   </g>\n   <g id=\"patch_83\">\n    <path clip-path=\"url(#p5a55f58d78)\" d=\"M 394.22313 375.2775 \nL 396.843363 375.2775 \nL 396.843363 375.2775 \nL 394.22313 375.2775 \nz\n\" style=\"fill:#0000ff;opacity:0.4;stroke:#ffffff;stroke-linejoin:miter;stroke-width:2;\"/>\n   </g>\n   <g id=\"patch_84\">\n    <path clip-path=\"url(#p5a55f58d78)\" d=\"M 396.843363 375.2775 \nL 399.463595 375.2775 \nL 399.463595 375.2775 \nL 396.843363 375.2775 \nz\n\" style=\"fill:#0000ff;opacity:0.4;stroke:#ffffff;stroke-linejoin:miter;stroke-width:2;\"/>\n   </g>\n   <g id=\"patch_85\">\n    <path clip-path=\"url(#p5a55f58d78)\" d=\"M 399.463595 375.2775 \nL 402.083827 375.2775 \nL 402.083827 364.897359 \nL 399.463595 364.897359 \nz\n\" style=\"fill:#0000ff;opacity:0.4;stroke:#ffffff;stroke-linejoin:miter;stroke-width:2;\"/>\n   </g>\n   <g id=\"patch_86\">\n    <path clip-path=\"url(#p5a55f58d78)\" d=\"M 402.083827 375.2775 \nL 404.70406 375.2775 \nL 404.70406 375.2775 \nL 402.083827 375.2775 \nz\n\" style=\"fill:#0000ff;opacity:0.4;stroke:#ffffff;stroke-linejoin:miter;stroke-width:2;\"/>\n   </g>\n   <g id=\"patch_87\">\n    <path clip-path=\"url(#p5a55f58d78)\" d=\"M 404.70406 375.2775 \nL 407.324292 375.2775 \nL 407.324292 359.980451 \nL 404.70406 359.980451 \nz\n\" style=\"fill:#0000ff;opacity:0.4;stroke:#ffffff;stroke-linejoin:miter;stroke-width:2;\"/>\n   </g>\n   <g id=\"patch_88\">\n    <path clip-path=\"url(#p5a55f58d78)\" d=\"M 407.324292 375.2775 \nL 409.944524 375.2775 \nL 409.944524 375.2775 \nL 407.324292 375.2775 \nz\n\" style=\"fill:#0000ff;opacity:0.4;stroke:#ffffff;stroke-linejoin:miter;stroke-width:2;\"/>\n   </g>\n   <g id=\"patch_89\">\n    <path clip-path=\"url(#p5a55f58d78)\" d=\"M 409.944524 375.2775 \nL 412.564757 375.2775 \nL 412.564757 375.2775 \nL 409.944524 375.2775 \nz\n\" style=\"fill:#0000ff;opacity:0.4;stroke:#ffffff;stroke-linejoin:miter;stroke-width:2;\"/>\n   </g>\n   <g id=\"patch_90\">\n    <path clip-path=\"url(#p5a55f58d78)\" d=\"M 412.564757 375.2775 \nL 415.184989 375.2775 \nL 415.184989 366.536329 \nL 412.564757 366.536329 \nz\n\" style=\"fill:#0000ff;opacity:0.4;stroke:#ffffff;stroke-linejoin:miter;stroke-width:2;\"/>\n   </g>\n   <g id=\"patch_91\">\n    <path clip-path=\"url(#p5a55f58d78)\" d=\"M 415.184989 375.2775 \nL 417.805221 375.2775 \nL 417.805221 375.2775 \nL 415.184989 375.2775 \nz\n\" style=\"fill:#0000ff;opacity:0.4;stroke:#ffffff;stroke-linejoin:miter;stroke-width:2;\"/>\n   </g>\n   <g id=\"patch_92\">\n    <path clip-path=\"url(#p5a55f58d78)\" d=\"M 417.805221 375.2775 \nL 420.425454 375.2775 \nL 420.425454 375.2775 \nL 417.805221 375.2775 \nz\n\" style=\"fill:#0000ff;opacity:0.4;stroke:#ffffff;stroke-linejoin:miter;stroke-width:2;\"/>\n   </g>\n   <g id=\"patch_93\">\n    <path clip-path=\"url(#p5a55f58d78)\" d=\"M 420.425454 375.2775 \nL 423.045686 375.2775 \nL 423.045686 363.25839 \nL 420.425454 363.25839 \nz\n\" style=\"fill:#0000ff;opacity:0.4;stroke:#ffffff;stroke-linejoin:miter;stroke-width:2;\"/>\n   </g>\n   <g id=\"patch_94\">\n    <path clip-path=\"url(#p5a55f58d78)\" d=\"M 423.045686 375.2775 \nL 425.665918 375.2775 \nL 425.665918 375.2775 \nL 423.045686 375.2775 \nz\n\" style=\"fill:#0000ff;opacity:0.4;stroke:#ffffff;stroke-linejoin:miter;stroke-width:2;\"/>\n   </g>\n   <g id=\"patch_95\">\n    <path clip-path=\"url(#p5a55f58d78)\" d=\"M 425.665918 375.2775 \nL 428.286151 375.2775 \nL 428.286151 375.2775 \nL 425.665918 375.2775 \nz\n\" style=\"fill:#0000ff;opacity:0.4;stroke:#ffffff;stroke-linejoin:miter;stroke-width:2;\"/>\n   </g>\n   <g id=\"patch_96\">\n    <path clip-path=\"url(#p5a55f58d78)\" d=\"M 428.286151 375.2775 \nL 430.906383 375.2775 \nL 430.906383 364.351036 \nL 428.286151 364.351036 \nz\n\" style=\"fill:#0000ff;opacity:0.4;stroke:#ffffff;stroke-linejoin:miter;stroke-width:2;\"/>\n   </g>\n   <g id=\"patch_97\">\n    <path clip-path=\"url(#p5a55f58d78)\" d=\"M 430.906383 375.2775 \nL 433.526615 375.2775 \nL 433.526615 375.2775 \nL 430.906383 375.2775 \nz\n\" style=\"fill:#0000ff;opacity:0.4;stroke:#ffffff;stroke-linejoin:miter;stroke-width:2;\"/>\n   </g>\n   <g id=\"patch_98\">\n    <path clip-path=\"url(#p5a55f58d78)\" d=\"M 433.526615 375.2775 \nL 436.146848 375.2775 \nL 436.146848 315.728273 \nL 433.526615 315.728273 \nz\n\" style=\"fill:#0000ff;opacity:0.4;stroke:#ffffff;stroke-linejoin:miter;stroke-width:2;\"/>\n   </g>\n   <g id=\"patch_99\">\n    <path clip-path=\"url(#p5a55f58d78)\" d=\"M 436.146848 375.2775 \nL 438.76708 375.2775 \nL 438.76708 375.2775 \nL 436.146848 375.2775 \nz\n\" style=\"fill:#0000ff;opacity:0.4;stroke:#ffffff;stroke-linejoin:miter;stroke-width:2;\"/>\n   </g>\n   <g id=\"patch_100\">\n    <path clip-path=\"url(#p5a55f58d78)\" d=\"M 438.76708 375.2775 \nL 441.387313 375.2775 \nL 441.387313 375.2775 \nL 438.76708 375.2775 \nz\n\" style=\"fill:#0000ff;opacity:0.4;stroke:#ffffff;stroke-linejoin:miter;stroke-width:2;\"/>\n   </g>\n   <g id=\"patch_101\">\n    <path clip-path=\"url(#p5a55f58d78)\" d=\"M 441.387313 375.2775 \nL 444.007545 375.2775 \nL 444.007545 371.999561 \nL 441.387313 371.999561 \nz\n\" style=\"fill:#0000ff;opacity:0.4;stroke:#ffffff;stroke-linejoin:miter;stroke-width:2;\"/>\n   </g>\n   <g id=\"patch_102\">\n    <path clip-path=\"url(#p5a55f58d78)\" d=\"M 444.007545 375.2775 \nL 446.627777 375.2775 \nL 446.627777 375.2775 \nL 444.007545 375.2775 \nz\n\" style=\"fill:#0000ff;opacity:0.4;stroke:#ffffff;stroke-linejoin:miter;stroke-width:2;\"/>\n   </g>\n   <g id=\"patch_103\">\n    <path clip-path=\"url(#p5a55f58d78)\" d=\"M 446.627777 375.2775 \nL 449.24801 375.2775 \nL 449.24801 375.2775 \nL 446.627777 375.2775 \nz\n\" style=\"fill:#0000ff;opacity:0.4;stroke:#ffffff;stroke-linejoin:miter;stroke-width:2;\"/>\n   </g>\n   <g id=\"patch_104\">\n    <path clip-path=\"url(#p5a55f58d78)\" d=\"M 449.24801 375.2775 \nL 451.868242 375.2775 \nL 451.868242 368.721622 \nL 449.24801 368.721622 \nz\n\" style=\"fill:#0000ff;opacity:0.4;stroke:#ffffff;stroke-linejoin:miter;stroke-width:2;\"/>\n   </g>\n   <g id=\"patch_105\">\n    <path clip-path=\"url(#p5a55f58d78)\" d=\"M 451.868242 375.2775 \nL 454.488474 375.2775 \nL 454.488474 375.2775 \nL 451.868242 375.2775 \nz\n\" style=\"fill:#0000ff;opacity:0.4;stroke:#ffffff;stroke-linejoin:miter;stroke-width:2;\"/>\n   </g>\n   <g id=\"patch_106\">\n    <path clip-path=\"url(#p5a55f58d78)\" d=\"M 454.488474 375.2775 \nL 457.108707 375.2775 \nL 457.108707 375.2775 \nL 454.488474 375.2775 \nz\n\" style=\"fill:#0000ff;opacity:0.4;stroke:#ffffff;stroke-linejoin:miter;stroke-width:2;\"/>\n   </g>\n   <g id=\"patch_107\">\n    <path clip-path=\"url(#p5a55f58d78)\" d=\"M 457.108707 375.2775 \nL 459.728939 375.2775 \nL 459.728939 369.267945 \nL 457.108707 369.267945 \nz\n\" style=\"fill:#0000ff;opacity:0.4;stroke:#ffffff;stroke-linejoin:miter;stroke-width:2;\"/>\n   </g>\n   <g id=\"patch_108\">\n    <path clip-path=\"url(#p5a55f58d78)\" d=\"M 459.728939 375.2775 \nL 462.349171 375.2775 \nL 462.349171 375.2775 \nL 459.728939 375.2775 \nz\n\" style=\"fill:#0000ff;opacity:0.4;stroke:#ffffff;stroke-linejoin:miter;stroke-width:2;\"/>\n   </g>\n   <g id=\"patch_109\">\n    <path clip-path=\"url(#p5a55f58d78)\" d=\"M 462.349171 375.2775 \nL 464.969404 375.2775 \nL 464.969404 362.712067 \nL 462.349171 362.712067 \nz\n\" style=\"fill:#0000ff;opacity:0.4;stroke:#ffffff;stroke-linejoin:miter;stroke-width:2;\"/>\n   </g>\n   <g id=\"patch_110\">\n    <path clip-path=\"url(#p5a55f58d78)\" d=\"M 464.969404 375.2775 \nL 467.589636 375.2775 \nL 467.589636 375.2775 \nL 464.969404 375.2775 \nz\n\" style=\"fill:#0000ff;opacity:0.4;stroke:#ffffff;stroke-linejoin:miter;stroke-width:2;\"/>\n   </g>\n   <g id=\"patch_111\">\n    <path clip-path=\"url(#p5a55f58d78)\" d=\"M 467.589636 375.2775 \nL 470.209868 375.2775 \nL 470.209868 375.2775 \nL 467.589636 375.2775 \nz\n\" style=\"fill:#0000ff;opacity:0.4;stroke:#ffffff;stroke-linejoin:miter;stroke-width:2;\"/>\n   </g>\n   <g id=\"patch_112\">\n    <path clip-path=\"url(#p5a55f58d78)\" d=\"M 470.209868 375.2775 \nL 472.830101 375.2775 \nL 472.830101 371.999561 \nL 470.209868 371.999561 \nz\n\" style=\"fill:#0000ff;opacity:0.4;stroke:#ffffff;stroke-linejoin:miter;stroke-width:2;\"/>\n   </g>\n   <g id=\"patch_113\">\n    <path clip-path=\"url(#p5a55f58d78)\" d=\"M 472.830101 375.2775 \nL 475.450333 375.2775 \nL 475.450333 375.2775 \nL 472.830101 375.2775 \nz\n\" style=\"fill:#0000ff;opacity:0.4;stroke:#ffffff;stroke-linejoin:miter;stroke-width:2;\"/>\n   </g>\n   <g id=\"patch_114\">\n    <path clip-path=\"url(#p5a55f58d78)\" d=\"M 475.450333 375.2775 \nL 478.070565 375.2775 \nL 478.070565 375.2775 \nL 475.450333 375.2775 \nz\n\" style=\"fill:#0000ff;opacity:0.4;stroke:#ffffff;stroke-linejoin:miter;stroke-width:2;\"/>\n   </g>\n   <g id=\"patch_115\">\n    <path clip-path=\"url(#p5a55f58d78)\" d=\"M 478.070565 375.2775 \nL 480.690798 375.2775 \nL 480.690798 369.267945 \nL 478.070565 369.267945 \nz\n\" style=\"fill:#0000ff;opacity:0.4;stroke:#ffffff;stroke-linejoin:miter;stroke-width:2;\"/>\n   </g>\n   <g id=\"patch_116\">\n    <path clip-path=\"url(#p5a55f58d78)\" d=\"M 480.690798 375.2775 \nL 483.31103 375.2775 \nL 483.31103 375.2775 \nL 480.690798 375.2775 \nz\n\" style=\"fill:#0000ff;opacity:0.4;stroke:#ffffff;stroke-linejoin:miter;stroke-width:2;\"/>\n   </g>\n   <g id=\"patch_117\">\n    <path clip-path=\"url(#p5a55f58d78)\" d=\"M 483.31103 375.2775 \nL 485.931262 375.2775 \nL 485.931262 375.2775 \nL 483.31103 375.2775 \nz\n\" style=\"fill:#0000ff;opacity:0.4;stroke:#ffffff;stroke-linejoin:miter;stroke-width:2;\"/>\n   </g>\n   <g id=\"patch_118\">\n    <path clip-path=\"url(#p5a55f58d78)\" d=\"M 485.931262 375.2775 \nL 488.551495 375.2775 \nL 488.551495 371.999561 \nL 485.931262 371.999561 \nz\n\" style=\"fill:#0000ff;opacity:0.4;stroke:#ffffff;stroke-linejoin:miter;stroke-width:2;\"/>\n   </g>\n   <g id=\"patch_119\">\n    <path clip-path=\"url(#p5a55f58d78)\" d=\"M 488.551495 375.2775 \nL 491.171727 375.2775 \nL 491.171727 375.2775 \nL 488.551495 375.2775 \nz\n\" style=\"fill:#0000ff;opacity:0.4;stroke:#ffffff;stroke-linejoin:miter;stroke-width:2;\"/>\n   </g>\n   <g id=\"patch_120\">\n    <path clip-path=\"url(#p5a55f58d78)\" d=\"M 491.171727 375.2775 \nL 493.79196 375.2775 \nL 493.79196 370.906915 \nL 491.171727 370.906915 \nz\n\" style=\"fill:#0000ff;opacity:0.4;stroke:#ffffff;stroke-linejoin:miter;stroke-width:2;\"/>\n   </g>\n   <g id=\"patch_121\">\n    <path clip-path=\"url(#p5a55f58d78)\" d=\"M 493.79196 375.2775 \nL 496.412192 375.2775 \nL 496.412192 375.2775 \nL 493.79196 375.2775 \nz\n\" style=\"fill:#0000ff;opacity:0.4;stroke:#ffffff;stroke-linejoin:miter;stroke-width:2;\"/>\n   </g>\n   <g id=\"patch_122\">\n    <path clip-path=\"url(#p5a55f58d78)\" d=\"M 496.412192 375.2775 \nL 499.032424 375.2775 \nL 499.032424 375.2775 \nL 496.412192 375.2775 \nz\n\" style=\"fill:#0000ff;opacity:0.4;stroke:#ffffff;stroke-linejoin:miter;stroke-width:2;\"/>\n   </g>\n   <g id=\"patch_123\">\n    <path clip-path=\"url(#p5a55f58d78)\" d=\"M 499.032424 375.2775 \nL 501.652657 375.2775 \nL 501.652657 365.990006 \nL 499.032424 365.990006 \nz\n\" style=\"fill:#0000ff;opacity:0.4;stroke:#ffffff;stroke-linejoin:miter;stroke-width:2;\"/>\n   </g>\n   <g id=\"patch_124\">\n    <path clip-path=\"url(#p5a55f58d78)\" d=\"M 501.652657 375.2775 \nL 504.272889 375.2775 \nL 504.272889 375.2775 \nL 501.652657 375.2775 \nz\n\" style=\"fill:#0000ff;opacity:0.4;stroke:#ffffff;stroke-linejoin:miter;stroke-width:2;\"/>\n   </g>\n   <g id=\"patch_125\">\n    <path clip-path=\"url(#p5a55f58d78)\" d=\"M 504.272889 375.2775 \nL 506.893121 375.2775 \nL 506.893121 375.2775 \nL 504.272889 375.2775 \nz\n\" style=\"fill:#0000ff;opacity:0.4;stroke:#ffffff;stroke-linejoin:miter;stroke-width:2;\"/>\n   </g>\n   <g id=\"patch_126\">\n    <path clip-path=\"url(#p5a55f58d78)\" d=\"M 506.893121 375.2775 \nL 509.513354 375.2775 \nL 509.513354 371.453238 \nL 506.893121 371.453238 \nz\n\" style=\"fill:#0000ff;opacity:0.4;stroke:#ffffff;stroke-linejoin:miter;stroke-width:2;\"/>\n   </g>\n   <g id=\"patch_127\">\n    <path clip-path=\"url(#p5a55f58d78)\" d=\"M 509.513354 375.2775 \nL 512.133586 375.2775 \nL 512.133586 375.2775 \nL 509.513354 375.2775 \nz\n\" style=\"fill:#0000ff;opacity:0.4;stroke:#ffffff;stroke-linejoin:miter;stroke-width:2;\"/>\n   </g>\n   <g id=\"patch_128\">\n    <path clip-path=\"url(#p5a55f58d78)\" d=\"M 512.133586 375.2775 \nL 514.753818 375.2775 \nL 514.753818 375.2775 \nL 512.133586 375.2775 \nz\n\" style=\"fill:#0000ff;opacity:0.4;stroke:#ffffff;stroke-linejoin:miter;stroke-width:2;\"/>\n   </g>\n   <g id=\"patch_129\">\n    <path clip-path=\"url(#p5a55f58d78)\" d=\"M 514.753818 375.2775 \nL 517.374051 375.2775 \nL 517.374051 369.814268 \nL 514.753818 369.814268 \nz\n\" style=\"fill:#0000ff;opacity:0.4;stroke:#ffffff;stroke-linejoin:miter;stroke-width:2;\"/>\n   </g>\n   <g id=\"patch_130\">\n    <path clip-path=\"url(#p5a55f58d78)\" d=\"M 517.374051 375.2775 \nL 519.994283 375.2775 \nL 519.994283 375.2775 \nL 517.374051 375.2775 \nz\n\" style=\"fill:#0000ff;opacity:0.4;stroke:#ffffff;stroke-linejoin:miter;stroke-width:2;\"/>\n   </g>\n   <g id=\"patch_131\">\n    <path clip-path=\"url(#p5a55f58d78)\" d=\"M 519.994283 375.2775 \nL 522.614515 375.2775 \nL 522.614515 371.999561 \nL 519.994283 371.999561 \nz\n\" style=\"fill:#0000ff;opacity:0.4;stroke:#ffffff;stroke-linejoin:miter;stroke-width:2;\"/>\n   </g>\n   <g id=\"patch_132\">\n    <path clip-path=\"url(#p5a55f58d78)\" d=\"M 522.614515 375.2775 \nL 525.234748 375.2775 \nL 525.234748 375.2775 \nL 522.614515 375.2775 \nz\n\" style=\"fill:#0000ff;opacity:0.4;stroke:#ffffff;stroke-linejoin:miter;stroke-width:2;\"/>\n   </g>\n   <g id=\"patch_133\">\n    <path clip-path=\"url(#p5a55f58d78)\" d=\"M 525.234748 375.2775 \nL 527.85498 375.2775 \nL 527.85498 375.2775 \nL 525.234748 375.2775 \nz\n\" style=\"fill:#0000ff;opacity:0.4;stroke:#ffffff;stroke-linejoin:miter;stroke-width:2;\"/>\n   </g>\n   <g id=\"patch_134\">\n    <path clip-path=\"url(#p5a55f58d78)\" d=\"M 527.85498 375.2775 \nL 530.475212 375.2775 \nL 530.475212 372.545884 \nL 527.85498 372.545884 \nz\n\" style=\"fill:#0000ff;opacity:0.4;stroke:#ffffff;stroke-linejoin:miter;stroke-width:2;\"/>\n   </g>\n   <g id=\"patch_135\">\n    <path clip-path=\"url(#p5a55f58d78)\" d=\"M 530.475212 375.2775 \nL 533.095445 375.2775 \nL 533.095445 375.2775 \nL 530.475212 375.2775 \nz\n\" style=\"fill:#0000ff;opacity:0.4;stroke:#ffffff;stroke-linejoin:miter;stroke-width:2;\"/>\n   </g>\n   <g id=\"patch_136\">\n    <path clip-path=\"url(#p5a55f58d78)\" d=\"M 533.095445 375.2775 \nL 535.715677 375.2775 \nL 535.715677 375.2775 \nL 533.095445 375.2775 \nz\n\" style=\"fill:#0000ff;opacity:0.4;stroke:#ffffff;stroke-linejoin:miter;stroke-width:2;\"/>\n   </g>\n   <g id=\"patch_137\">\n    <path clip-path=\"url(#p5a55f58d78)\" d=\"M 535.715677 375.2775 \nL 538.33591 375.2775 \nL 538.33591 343.590755 \nL 535.715677 343.590755 \nz\n\" style=\"fill:#0000ff;opacity:0.4;stroke:#ffffff;stroke-linejoin:miter;stroke-width:2;\"/>\n   </g>\n   <g id=\"patch_138\">\n    <path clip-path=\"url(#p5a55f58d78)\" d=\"M 538.33591 375.2775 \nL 540.956142 375.2775 \nL 540.956142 375.2775 \nL 538.33591 375.2775 \nz\n\" style=\"fill:#0000ff;opacity:0.4;stroke:#ffffff;stroke-linejoin:miter;stroke-width:2;\"/>\n   </g>\n   <g id=\"patch_139\">\n    <path clip-path=\"url(#p5a55f58d78)\" d=\"M 540.956142 375.2775 \nL 543.576374 375.2775 \nL 543.576374 374.184854 \nL 540.956142 374.184854 \nz\n\" style=\"fill:#0000ff;opacity:0.4;stroke:#ffffff;stroke-linejoin:miter;stroke-width:2;\"/>\n   </g>\n   <g id=\"patch_140\">\n    <path clip-path=\"url(#p5a55f58d78)\" d=\"M 543.576374 375.2775 \nL 546.196607 375.2775 \nL 546.196607 375.2775 \nL 543.576374 375.2775 \nz\n\" style=\"fill:#0000ff;opacity:0.4;stroke:#ffffff;stroke-linejoin:miter;stroke-width:2;\"/>\n   </g>\n   <g id=\"patch_141\">\n    <path clip-path=\"url(#p5a55f58d78)\" d=\"M 546.196607 375.2775 \nL 548.816839 375.2775 \nL 548.816839 375.2775 \nL 546.196607 375.2775 \nz\n\" style=\"fill:#0000ff;opacity:0.4;stroke:#ffffff;stroke-linejoin:miter;stroke-width:2;\"/>\n   </g>\n   <g id=\"patch_142\">\n    <path clip-path=\"url(#p5a55f58d78)\" d=\"M 548.816839 375.2775 \nL 551.437071 375.2775 \nL 551.437071 374.731177 \nL 548.816839 374.731177 \nz\n\" style=\"fill:#0000ff;opacity:0.4;stroke:#ffffff;stroke-linejoin:miter;stroke-width:2;\"/>\n   </g>\n   <g id=\"patch_143\">\n    <path clip-path=\"url(#p5a55f58d78)\" d=\"M 551.437071 375.2775 \nL 554.057304 375.2775 \nL 554.057304 375.2775 \nL 551.437071 375.2775 \nz\n\" style=\"fill:#0000ff;opacity:0.4;stroke:#ffffff;stroke-linejoin:miter;stroke-width:2;\"/>\n   </g>\n   <g id=\"patch_144\">\n    <path clip-path=\"url(#p5a55f58d78)\" d=\"M 554.057304 375.2775 \nL 556.677536 375.2775 \nL 556.677536 375.2775 \nL 554.057304 375.2775 \nz\n\" style=\"fill:#0000ff;opacity:0.4;stroke:#ffffff;stroke-linejoin:miter;stroke-width:2;\"/>\n   </g>\n   <g id=\"patch_145\">\n    <path clip-path=\"url(#p5a55f58d78)\" d=\"M 556.677536 375.2775 \nL 559.297768 375.2775 \nL 559.297768 374.731177 \nL 556.677536 374.731177 \nz\n\" style=\"fill:#0000ff;opacity:0.4;stroke:#ffffff;stroke-linejoin:miter;stroke-width:2;\"/>\n   </g>\n   <g id=\"patch_146\">\n    <path clip-path=\"url(#p5a55f58d78)\" d=\"M 559.297768 375.2775 \nL 561.918001 375.2775 \nL 561.918001 375.2775 \nL 559.297768 375.2775 \nz\n\" style=\"fill:#0000ff;opacity:0.4;stroke:#ffffff;stroke-linejoin:miter;stroke-width:2;\"/>\n   </g>\n   <g id=\"patch_147\">\n    <path clip-path=\"url(#p5a55f58d78)\" d=\"M 561.918001 375.2775 \nL 564.538233 375.2775 \nL 564.538233 375.2775 \nL 561.918001 375.2775 \nz\n\" style=\"fill:#0000ff;opacity:0.4;stroke:#ffffff;stroke-linejoin:miter;stroke-width:2;\"/>\n   </g>\n   <g id=\"patch_148\">\n    <path clip-path=\"url(#p5a55f58d78)\" d=\"M 564.538233 375.2775 \nL 567.158465 375.2775 \nL 567.158465 375.2775 \nL 564.538233 375.2775 \nz\n\" style=\"fill:#0000ff;opacity:0.4;stroke:#ffffff;stroke-linejoin:miter;stroke-width:2;\"/>\n   </g>\n   <g id=\"patch_149\">\n    <path clip-path=\"url(#p5a55f58d78)\" d=\"M 567.158465 375.2775 \nL 569.778698 375.2775 \nL 569.778698 375.2775 \nL 567.158465 375.2775 \nz\n\" style=\"fill:#0000ff;opacity:0.4;stroke:#ffffff;stroke-linejoin:miter;stroke-width:2;\"/>\n   </g>\n   <g id=\"patch_150\">\n    <path clip-path=\"url(#p5a55f58d78)\" d=\"M 569.778698 375.2775 \nL 572.39893 375.2775 \nL 572.39893 371.999561 \nL 569.778698 371.999561 \nz\n\" style=\"fill:#0000ff;opacity:0.4;stroke:#ffffff;stroke-linejoin:miter;stroke-width:2;\"/>\n   </g>\n   <g id=\"patch_151\">\n    <path clip-path=\"url(#p5a55f58d78)\" d=\"M 572.39893 375.2775 \nL 575.019162 375.2775 \nL 575.019162 375.2775 \nL 572.39893 375.2775 \nz\n\" style=\"fill:#0000ff;opacity:0.4;stroke:#ffffff;stroke-linejoin:miter;stroke-width:2;\"/>\n   </g>\n   <g id=\"patch_152\">\n    <path clip-path=\"url(#p5a55f58d78)\" d=\"M 575.019162 375.2775 \nL 577.639395 375.2775 \nL 577.639395 375.2775 \nL 575.019162 375.2775 \nz\n\" style=\"fill:#0000ff;opacity:0.4;stroke:#ffffff;stroke-linejoin:miter;stroke-width:2;\"/>\n   </g>\n   <g id=\"patch_153\">\n    <path clip-path=\"url(#p5a55f58d78)\" d=\"M 577.639395 375.2775 \nL 580.259627 375.2775 \nL 580.259627 375.2775 \nL 577.639395 375.2775 \nz\n\" style=\"fill:#0000ff;opacity:0.4;stroke:#ffffff;stroke-linejoin:miter;stroke-width:2;\"/>\n   </g>\n   <g id=\"patch_154\">\n    <path clip-path=\"url(#p5a55f58d78)\" d=\"M 580.259627 375.2775 \nL 582.87986 375.2775 \nL 582.87986 375.2775 \nL 580.259627 375.2775 \nz\n\" style=\"fill:#0000ff;opacity:0.4;stroke:#ffffff;stroke-linejoin:miter;stroke-width:2;\"/>\n   </g>\n   <g id=\"patch_155\">\n    <path clip-path=\"url(#p5a55f58d78)\" d=\"M 582.87986 375.2775 \nL 585.500092 375.2775 \nL 585.500092 375.2775 \nL 582.87986 375.2775 \nz\n\" style=\"fill:#0000ff;opacity:0.4;stroke:#ffffff;stroke-linejoin:miter;stroke-width:2;\"/>\n   </g>\n   <g id=\"patch_156\">\n    <path clip-path=\"url(#p5a55f58d78)\" d=\"M 585.500092 375.2775 \nL 588.120324 375.2775 \nL 588.120324 375.2775 \nL 585.500092 375.2775 \nz\n\" style=\"fill:#0000ff;opacity:0.4;stroke:#ffffff;stroke-linejoin:miter;stroke-width:2;\"/>\n   </g>\n   <g id=\"patch_157\">\n    <path clip-path=\"url(#p5a55f58d78)\" d=\"M 588.120324 375.2775 \nL 590.740557 375.2775 \nL 590.740557 375.2775 \nL 588.120324 375.2775 \nz\n\" style=\"fill:#0000ff;opacity:0.4;stroke:#ffffff;stroke-linejoin:miter;stroke-width:2;\"/>\n   </g>\n   <g id=\"patch_158\">\n    <path clip-path=\"url(#p5a55f58d78)\" d=\"M 590.740557 375.2775 \nL 593.360789 375.2775 \nL 593.360789 375.2775 \nL 590.740557 375.2775 \nz\n\" style=\"fill:#0000ff;opacity:0.4;stroke:#ffffff;stroke-linejoin:miter;stroke-width:2;\"/>\n   </g>\n   <g id=\"patch_159\">\n    <path clip-path=\"url(#p5a55f58d78)\" d=\"M 593.360789 375.2775 \nL 595.981021 375.2775 \nL 595.981021 375.2775 \nL 593.360789 375.2775 \nz\n\" style=\"fill:#0000ff;opacity:0.4;stroke:#ffffff;stroke-linejoin:miter;stroke-width:2;\"/>\n   </g>\n   <g id=\"patch_160\">\n    <path clip-path=\"url(#p5a55f58d78)\" d=\"M 595.981021 375.2775 \nL 598.601254 375.2775 \nL 598.601254 375.2775 \nL 595.981021 375.2775 \nz\n\" style=\"fill:#0000ff;opacity:0.4;stroke:#ffffff;stroke-linejoin:miter;stroke-width:2;\"/>\n   </g>\n   <g id=\"patch_161\">\n    <path clip-path=\"url(#p5a55f58d78)\" d=\"M 598.601254 375.2775 \nL 601.221486 375.2775 \nL 601.221486 374.731177 \nL 598.601254 374.731177 \nz\n\" style=\"fill:#0000ff;opacity:0.4;stroke:#ffffff;stroke-linejoin:miter;stroke-width:2;\"/>\n   </g>\n   <g id=\"patch_162\">\n    <path clip-path=\"url(#p5a55f58d78)\" d=\"M 601.221486 375.2775 \nL 603.841718 375.2775 \nL 603.841718 375.2775 \nL 601.221486 375.2775 \nz\n\" style=\"fill:#0000ff;opacity:0.4;stroke:#ffffff;stroke-linejoin:miter;stroke-width:2;\"/>\n   </g>\n   <g id=\"patch_163\">\n    <path clip-path=\"url(#p5a55f58d78)\" d=\"M 603.841718 375.2775 \nL 606.461951 375.2775 \nL 606.461951 375.2775 \nL 603.841718 375.2775 \nz\n\" style=\"fill:#0000ff;opacity:0.4;stroke:#ffffff;stroke-linejoin:miter;stroke-width:2;\"/>\n   </g>\n   <g id=\"patch_164\">\n    <path clip-path=\"url(#p5a55f58d78)\" d=\"M 606.461951 375.2775 \nL 609.082183 375.2775 \nL 609.082183 374.184854 \nL 606.461951 374.184854 \nz\n\" style=\"fill:#0000ff;opacity:0.4;stroke:#ffffff;stroke-linejoin:miter;stroke-width:2;\"/>\n   </g>\n   <g id=\"patch_165\">\n    <path clip-path=\"url(#p5a55f58d78)\" d=\"M 609.082183 375.2775 \nL 611.702415 375.2775 \nL 611.702415 375.2775 \nL 609.082183 375.2775 \nz\n\" style=\"fill:#0000ff;opacity:0.4;stroke:#ffffff;stroke-linejoin:miter;stroke-width:2;\"/>\n   </g>\n   <g id=\"patch_166\">\n    <path clip-path=\"url(#p5a55f58d78)\" d=\"M 611.702415 375.2775 \nL 614.322648 375.2775 \nL 614.322648 375.2775 \nL 611.702415 375.2775 \nz\n\" style=\"fill:#0000ff;opacity:0.4;stroke:#ffffff;stroke-linejoin:miter;stroke-width:2;\"/>\n   </g>\n   <g id=\"patch_167\">\n    <path clip-path=\"url(#p5a55f58d78)\" d=\"M 614.322648 375.2775 \nL 616.94288 375.2775 \nL 616.94288 375.2775 \nL 614.322648 375.2775 \nz\n\" style=\"fill:#0000ff;opacity:0.4;stroke:#ffffff;stroke-linejoin:miter;stroke-width:2;\"/>\n   </g>\n   <g id=\"patch_168\">\n    <path clip-path=\"url(#p5a55f58d78)\" d=\"M 616.94288 375.2775 \nL 619.563112 375.2775 \nL 619.563112 375.2775 \nL 616.94288 375.2775 \nz\n\" style=\"fill:#0000ff;opacity:0.4;stroke:#ffffff;stroke-linejoin:miter;stroke-width:2;\"/>\n   </g>\n   <g id=\"patch_169\">\n    <path clip-path=\"url(#p5a55f58d78)\" d=\"M 619.563112 375.2775 \nL 622.183345 375.2775 \nL 622.183345 375.2775 \nL 619.563112 375.2775 \nz\n\" style=\"fill:#0000ff;opacity:0.4;stroke:#ffffff;stroke-linejoin:miter;stroke-width:2;\"/>\n   </g>\n   <g id=\"patch_170\">\n    <path clip-path=\"url(#p5a55f58d78)\" d=\"M 622.183345 375.2775 \nL 624.803577 375.2775 \nL 624.803577 374.731177 \nL 622.183345 374.731177 \nz\n\" style=\"fill:#0000ff;opacity:0.4;stroke:#ffffff;stroke-linejoin:miter;stroke-width:2;\"/>\n   </g>\n   <g id=\"patch_171\">\n    <path clip-path=\"url(#p5a55f58d78)\" d=\"M 624.803577 375.2775 \nL 627.423809 375.2775 \nL 627.423809 375.2775 \nL 624.803577 375.2775 \nz\n\" style=\"fill:#0000ff;opacity:0.4;stroke:#ffffff;stroke-linejoin:miter;stroke-width:2;\"/>\n   </g>\n   <g id=\"patch_172\">\n    <path clip-path=\"url(#p5a55f58d78)\" d=\"M 627.423809 375.2775 \nL 630.044042 375.2775 \nL 630.044042 374.731177 \nL 627.423809 374.731177 \nz\n\" style=\"fill:#0000ff;opacity:0.4;stroke:#ffffff;stroke-linejoin:miter;stroke-width:2;\"/>\n   </g>\n   <g id=\"patch_173\">\n    <path clip-path=\"url(#p5a55f58d78)\" d=\"M 630.044042 375.2775 \nL 632.664274 375.2775 \nL 632.664274 375.2775 \nL 630.044042 375.2775 \nz\n\" style=\"fill:#0000ff;opacity:0.4;stroke:#ffffff;stroke-linejoin:miter;stroke-width:2;\"/>\n   </g>\n   <g id=\"patch_174\">\n    <path clip-path=\"url(#p5a55f58d78)\" d=\"M 632.664274 375.2775 \nL 635.284507 375.2775 \nL 635.284507 375.2775 \nL 632.664274 375.2775 \nz\n\" style=\"fill:#0000ff;opacity:0.4;stroke:#ffffff;stroke-linejoin:miter;stroke-width:2;\"/>\n   </g>\n   <g id=\"patch_175\">\n    <path clip-path=\"url(#p5a55f58d78)\" d=\"M 635.284507 375.2775 \nL 637.904739 375.2775 \nL 637.904739 375.2775 \nL 635.284507 375.2775 \nz\n\" style=\"fill:#0000ff;opacity:0.4;stroke:#ffffff;stroke-linejoin:miter;stroke-width:2;\"/>\n   </g>\n   <g id=\"patch_176\">\n    <path clip-path=\"url(#p5a55f58d78)\" d=\"M 637.904739 375.2775 \nL 640.524971 375.2775 \nL 640.524971 375.2775 \nL 637.904739 375.2775 \nz\n\" style=\"fill:#0000ff;opacity:0.4;stroke:#ffffff;stroke-linejoin:miter;stroke-width:2;\"/>\n   </g>\n   <g id=\"patch_177\">\n    <path clip-path=\"url(#p5a55f58d78)\" d=\"M 640.524971 375.2775 \nL 643.145204 375.2775 \nL 643.145204 375.2775 \nL 640.524971 375.2775 \nz\n\" style=\"fill:#0000ff;opacity:0.4;stroke:#ffffff;stroke-linejoin:miter;stroke-width:2;\"/>\n   </g>\n   <g id=\"patch_178\">\n    <path clip-path=\"url(#p5a55f58d78)\" d=\"M 643.145204 375.2775 \nL 645.765436 375.2775 \nL 645.765436 375.2775 \nL 643.145204 375.2775 \nz\n\" style=\"fill:#0000ff;opacity:0.4;stroke:#ffffff;stroke-linejoin:miter;stroke-width:2;\"/>\n   </g>\n   <g id=\"patch_179\">\n    <path clip-path=\"url(#p5a55f58d78)\" d=\"M 645.765436 375.2775 \nL 648.385668 375.2775 \nL 648.385668 375.2775 \nL 645.765436 375.2775 \nz\n\" style=\"fill:#0000ff;opacity:0.4;stroke:#ffffff;stroke-linejoin:miter;stroke-width:2;\"/>\n   </g>\n   <g id=\"patch_180\">\n    <path clip-path=\"url(#p5a55f58d78)\" d=\"M 648.385668 375.2775 \nL 651.005901 375.2775 \nL 651.005901 375.2775 \nL 648.385668 375.2775 \nz\n\" style=\"fill:#0000ff;opacity:0.4;stroke:#ffffff;stroke-linejoin:miter;stroke-width:2;\"/>\n   </g>\n   <g id=\"patch_181\">\n    <path clip-path=\"url(#p5a55f58d78)\" d=\"M 651.005901 375.2775 \nL 653.626133 375.2775 \nL 653.626133 375.2775 \nL 651.005901 375.2775 \nz\n\" style=\"fill:#0000ff;opacity:0.4;stroke:#ffffff;stroke-linejoin:miter;stroke-width:2;\"/>\n   </g>\n   <g id=\"patch_182\">\n    <path clip-path=\"url(#p5a55f58d78)\" d=\"M 653.626133 375.2775 \nL 656.246365 375.2775 \nL 656.246365 375.2775 \nL 653.626133 375.2775 \nz\n\" style=\"fill:#0000ff;opacity:0.4;stroke:#ffffff;stroke-linejoin:miter;stroke-width:2;\"/>\n   </g>\n   <g id=\"patch_183\">\n    <path clip-path=\"url(#p5a55f58d78)\" d=\"M 656.246365 375.2775 \nL 658.866598 375.2775 \nL 658.866598 375.2775 \nL 656.246365 375.2775 \nz\n\" style=\"fill:#0000ff;opacity:0.4;stroke:#ffffff;stroke-linejoin:miter;stroke-width:2;\"/>\n   </g>\n   <g id=\"patch_184\">\n    <path clip-path=\"url(#p5a55f58d78)\" d=\"M 658.866598 375.2775 \nL 661.48683 375.2775 \nL 661.48683 375.2775 \nL 658.866598 375.2775 \nz\n\" style=\"fill:#0000ff;opacity:0.4;stroke:#ffffff;stroke-linejoin:miter;stroke-width:2;\"/>\n   </g>\n   <g id=\"patch_185\">\n    <path clip-path=\"url(#p5a55f58d78)\" d=\"M 661.48683 375.2775 \nL 664.107062 375.2775 \nL 664.107062 375.2775 \nL 661.48683 375.2775 \nz\n\" style=\"fill:#0000ff;opacity:0.4;stroke:#ffffff;stroke-linejoin:miter;stroke-width:2;\"/>\n   </g>\n   <g id=\"patch_186\">\n    <path clip-path=\"url(#p5a55f58d78)\" d=\"M 664.107062 375.2775 \nL 666.727295 375.2775 \nL 666.727295 374.731177 \nL 664.107062 374.731177 \nz\n\" style=\"fill:#0000ff;opacity:0.4;stroke:#ffffff;stroke-linejoin:miter;stroke-width:2;\"/>\n   </g>\n   <g id=\"patch_187\">\n    <path clip-path=\"url(#p5a55f58d78)\" d=\"M 666.727295 375.2775 \nL 669.347527 375.2775 \nL 669.347527 375.2775 \nL 666.727295 375.2775 \nz\n\" style=\"fill:#0000ff;opacity:0.4;stroke:#ffffff;stroke-linejoin:miter;stroke-width:2;\"/>\n   </g>\n   <g id=\"patch_188\">\n    <path clip-path=\"url(#p5a55f58d78)\" d=\"M 669.347527 375.2775 \nL 671.967759 375.2775 \nL 671.967759 375.2775 \nL 669.347527 375.2775 \nz\n\" style=\"fill:#0000ff;opacity:0.4;stroke:#ffffff;stroke-linejoin:miter;stroke-width:2;\"/>\n   </g>\n   <g id=\"patch_189\">\n    <path clip-path=\"url(#p5a55f58d78)\" d=\"M 671.967759 375.2775 \nL 674.587992 375.2775 \nL 674.587992 375.2775 \nL 671.967759 375.2775 \nz\n\" style=\"fill:#0000ff;opacity:0.4;stroke:#ffffff;stroke-linejoin:miter;stroke-width:2;\"/>\n   </g>\n   <g id=\"patch_190\">\n    <path clip-path=\"url(#p5a55f58d78)\" d=\"M 674.587992 375.2775 \nL 677.208224 375.2775 \nL 677.208224 375.2775 \nL 674.587992 375.2775 \nz\n\" style=\"fill:#0000ff;opacity:0.4;stroke:#ffffff;stroke-linejoin:miter;stroke-width:2;\"/>\n   </g>\n   <g id=\"patch_191\">\n    <path clip-path=\"url(#p5a55f58d78)\" d=\"M 677.208224 375.2775 \nL 679.828457 375.2775 \nL 679.828457 375.2775 \nL 677.208224 375.2775 \nz\n\" style=\"fill:#0000ff;opacity:0.4;stroke:#ffffff;stroke-linejoin:miter;stroke-width:2;\"/>\n   </g>\n   <g id=\"patch_192\">\n    <path clip-path=\"url(#p5a55f58d78)\" d=\"M 679.828457 375.2775 \nL 682.448689 375.2775 \nL 682.448689 375.2775 \nL 679.828457 375.2775 \nz\n\" style=\"fill:#0000ff;opacity:0.4;stroke:#ffffff;stroke-linejoin:miter;stroke-width:2;\"/>\n   </g>\n   <g id=\"patch_193\">\n    <path clip-path=\"url(#p5a55f58d78)\" d=\"M 682.448689 375.2775 \nL 685.068921 375.2775 \nL 685.068921 375.2775 \nL 682.448689 375.2775 \nz\n\" style=\"fill:#0000ff;opacity:0.4;stroke:#ffffff;stroke-linejoin:miter;stroke-width:2;\"/>\n   </g>\n   <g id=\"patch_194\">\n    <path clip-path=\"url(#p5a55f58d78)\" d=\"M 685.068921 375.2775 \nL 687.689154 375.2775 \nL 687.689154 375.2775 \nL 685.068921 375.2775 \nz\n\" style=\"fill:#0000ff;opacity:0.4;stroke:#ffffff;stroke-linejoin:miter;stroke-width:2;\"/>\n   </g>\n   <g id=\"patch_195\">\n    <path clip-path=\"url(#p5a55f58d78)\" d=\"M 687.689154 375.2775 \nL 690.309386 375.2775 \nL 690.309386 375.2775 \nL 687.689154 375.2775 \nz\n\" style=\"fill:#0000ff;opacity:0.4;stroke:#ffffff;stroke-linejoin:miter;stroke-width:2;\"/>\n   </g>\n   <g id=\"patch_196\">\n    <path clip-path=\"url(#p5a55f58d78)\" d=\"M 690.309386 375.2775 \nL 692.929618 375.2775 \nL 692.929618 375.2775 \nL 690.309386 375.2775 \nz\n\" style=\"fill:#0000ff;opacity:0.4;stroke:#ffffff;stroke-linejoin:miter;stroke-width:2;\"/>\n   </g>\n   <g id=\"patch_197\">\n    <path clip-path=\"url(#p5a55f58d78)\" d=\"M 692.929618 375.2775 \nL 695.549851 375.2775 \nL 695.549851 375.2775 \nL 692.929618 375.2775 \nz\n\" style=\"fill:#0000ff;opacity:0.4;stroke:#ffffff;stroke-linejoin:miter;stroke-width:2;\"/>\n   </g>\n   <g id=\"patch_198\">\n    <path clip-path=\"url(#p5a55f58d78)\" d=\"M 695.549851 375.2775 \nL 698.170083 375.2775 \nL 698.170083 375.2775 \nL 695.549851 375.2775 \nz\n\" style=\"fill:#0000ff;opacity:0.4;stroke:#ffffff;stroke-linejoin:miter;stroke-width:2;\"/>\n   </g>\n   <g id=\"patch_199\">\n    <path clip-path=\"url(#p5a55f58d78)\" d=\"M 698.170083 375.2775 \nL 700.790315 375.2775 \nL 700.790315 375.2775 \nL 698.170083 375.2775 \nz\n\" style=\"fill:#0000ff;opacity:0.4;stroke:#ffffff;stroke-linejoin:miter;stroke-width:2;\"/>\n   </g>\n   <g id=\"patch_200\">\n    <path clip-path=\"url(#p5a55f58d78)\" d=\"M 700.790315 375.2775 \nL 703.410548 375.2775 \nL 703.410548 375.2775 \nL 700.790315 375.2775 \nz\n\" style=\"fill:#0000ff;opacity:0.4;stroke:#ffffff;stroke-linejoin:miter;stroke-width:2;\"/>\n   </g>\n   <g id=\"patch_201\">\n    <path clip-path=\"url(#p5a55f58d78)\" d=\"M 703.410548 375.2775 \nL 706.03078 375.2775 \nL 706.03078 375.2775 \nL 703.410548 375.2775 \nz\n\" style=\"fill:#0000ff;opacity:0.4;stroke:#ffffff;stroke-linejoin:miter;stroke-width:2;\"/>\n   </g>\n   <g id=\"patch_202\">\n    <path clip-path=\"url(#p5a55f58d78)\" d=\"M 706.03078 375.2775 \nL 708.651012 375.2775 \nL 708.651012 374.731177 \nL 706.03078 374.731177 \nz\n\" style=\"fill:#0000ff;opacity:0.4;stroke:#ffffff;stroke-linejoin:miter;stroke-width:2;\"/>\n   </g>\n   <g id=\"patch_203\">\n    <path clip-path=\"url(#p5a55f58d78)\" d=\"M 184.604542 375.2775 \nL 188.158008 375.2775 \nL 188.158008 352.095909 \nL 184.604542 352.095909 \nz\n\" style=\"fill:#ff0000;opacity:0.4;stroke:#ffffff;stroke-linejoin:miter;stroke-width:2;\"/>\n   </g>\n   <g id=\"patch_204\">\n    <path clip-path=\"url(#p5a55f58d78)\" d=\"M 188.158008 375.2775 \nL 191.711474 375.2775 \nL 191.711474 375.16274 \nL 188.158008 375.16274 \nz\n\" style=\"fill:#ff0000;opacity:0.4;stroke:#ffffff;stroke-linejoin:miter;stroke-width:2;\"/>\n   </g>\n   <g id=\"patch_205\">\n    <path clip-path=\"url(#p5a55f58d78)\" d=\"M 191.711474 375.2775 \nL 195.26494 375.2775 \nL 195.26494 273.944109 \nL 191.711474 273.944109 \nz\n\" style=\"fill:#ff0000;opacity:0.4;stroke:#ffffff;stroke-linejoin:miter;stroke-width:2;\"/>\n   </g>\n   <g id=\"patch_206\">\n    <path clip-path=\"url(#p5a55f58d78)\" d=\"M 195.26494 375.2775 \nL 198.818407 375.2775 \nL 198.818407 375.2775 \nL 195.26494 375.2775 \nz\n\" style=\"fill:#ff0000;opacity:0.4;stroke:#ffffff;stroke-linejoin:miter;stroke-width:2;\"/>\n   </g>\n   <g id=\"patch_207\">\n    <path clip-path=\"url(#p5a55f58d78)\" d=\"M 198.818407 375.2775 \nL 202.371873 375.2775 \nL 202.371873 292.994327 \nL 198.818407 292.994327 \nz\n\" style=\"fill:#ff0000;opacity:0.4;stroke:#ffffff;stroke-linejoin:miter;stroke-width:2;\"/>\n   </g>\n   <g id=\"patch_208\">\n    <path clip-path=\"url(#p5a55f58d78)\" d=\"M 202.371873 375.2775 \nL 205.925339 375.2775 \nL 205.925339 375.2775 \nL 202.371873 375.2775 \nz\n\" style=\"fill:#ff0000;opacity:0.4;stroke:#ffffff;stroke-linejoin:miter;stroke-width:2;\"/>\n   </g>\n   <g id=\"patch_209\">\n    <path clip-path=\"url(#p5a55f58d78)\" d=\"M 205.925339 375.2775 \nL 209.478805 375.2775 \nL 209.478805 363.916225 \nL 205.925339 363.916225 \nz\n\" style=\"fill:#ff0000;opacity:0.4;stroke:#ffffff;stroke-linejoin:miter;stroke-width:2;\"/>\n   </g>\n   <g id=\"patch_210\">\n    <path clip-path=\"url(#p5a55f58d78)\" d=\"M 209.478805 375.2775 \nL 213.032271 375.2775 \nL 213.032271 375.2775 \nL 209.478805 375.2775 \nz\n\" style=\"fill:#ff0000;opacity:0.4;stroke:#ffffff;stroke-linejoin:miter;stroke-width:2;\"/>\n   </g>\n   <g id=\"patch_211\">\n    <path clip-path=\"url(#p5a55f58d78)\" d=\"M 213.032271 375.2775 \nL 216.585737 375.2775 \nL 216.585737 173.5288 \nL 213.032271 173.5288 \nz\n\" style=\"fill:#ff0000;opacity:0.4;stroke:#ffffff;stroke-linejoin:miter;stroke-width:2;\"/>\n   </g>\n   <g id=\"patch_212\">\n    <path clip-path=\"url(#p5a55f58d78)\" d=\"M 216.585737 375.2775 \nL 220.139203 375.2775 \nL 220.139203 375.2775 \nL 216.585737 375.2775 \nz\n\" style=\"fill:#ff0000;opacity:0.4;stroke:#ffffff;stroke-linejoin:miter;stroke-width:2;\"/>\n   </g>\n   <g id=\"patch_213\">\n    <path clip-path=\"url(#p5a55f58d78)\" d=\"M 220.139203 375.2775 \nL 223.69267 375.2775 \nL 223.69267 325.127226 \nL 220.139203 325.127226 \nz\n\" style=\"fill:#ff0000;opacity:0.4;stroke:#ffffff;stroke-linejoin:miter;stroke-width:2;\"/>\n   </g>\n   <g id=\"patch_214\">\n    <path clip-path=\"url(#p5a55f58d78)\" d=\"M 223.69267 375.2775 \nL 227.246136 375.2775 \nL 227.246136 375.2775 \nL 223.69267 375.2775 \nz\n\" style=\"fill:#ff0000;opacity:0.4;stroke:#ffffff;stroke-linejoin:miter;stroke-width:2;\"/>\n   </g>\n   <g id=\"patch_215\">\n    <path clip-path=\"url(#p5a55f58d78)\" d=\"M 227.246136 375.2775 \nL 230.799602 375.2775 \nL 230.799602 334.193294 \nL 227.246136 334.193294 \nz\n\" style=\"fill:#ff0000;opacity:0.4;stroke:#ffffff;stroke-linejoin:miter;stroke-width:2;\"/>\n   </g>\n   <g id=\"patch_216\">\n    <path clip-path=\"url(#p5a55f58d78)\" d=\"M 230.799602 375.2775 \nL 234.353068 375.2775 \nL 234.353068 375.2775 \nL 230.799602 375.2775 \nz\n\" style=\"fill:#ff0000;opacity:0.4;stroke:#ffffff;stroke-linejoin:miter;stroke-width:2;\"/>\n   </g>\n   <g id=\"patch_217\">\n    <path clip-path=\"url(#p5a55f58d78)\" d=\"M 234.353068 375.2775 \nL 237.906534 375.2775 \nL 237.906534 277.960721 \nL 234.353068 277.960721 \nz\n\" style=\"fill:#ff0000;opacity:0.4;stroke:#ffffff;stroke-linejoin:miter;stroke-width:2;\"/>\n   </g>\n   <g id=\"patch_218\">\n    <path clip-path=\"url(#p5a55f58d78)\" d=\"M 237.906534 375.2775 \nL 241.46 375.2775 \nL 241.46 375.2775 \nL 237.906534 375.2775 \nz\n\" style=\"fill:#ff0000;opacity:0.4;stroke:#ffffff;stroke-linejoin:miter;stroke-width:2;\"/>\n   </g>\n   <g id=\"patch_219\">\n    <path clip-path=\"url(#p5a55f58d78)\" d=\"M 241.46 375.2775 \nL 245.013466 375.2775 \nL 245.013466 336.603261 \nL 241.46 336.603261 \nz\n\" style=\"fill:#ff0000;opacity:0.4;stroke:#ffffff;stroke-linejoin:miter;stroke-width:2;\"/>\n   </g>\n   <g id=\"patch_220\">\n    <path clip-path=\"url(#p5a55f58d78)\" d=\"M 245.013466 375.2775 \nL 248.566932 375.2775 \nL 248.566932 375.2775 \nL 245.013466 375.2775 \nz\n\" style=\"fill:#ff0000;opacity:0.4;stroke:#ffffff;stroke-linejoin:miter;stroke-width:2;\"/>\n   </g>\n   <g id=\"patch_221\">\n    <path clip-path=\"url(#p5a55f58d78)\" d=\"M 248.566932 375.2775 \nL 252.120399 375.2775 \nL 252.120399 314.454513 \nL 248.566932 314.454513 \nz\n\" style=\"fill:#ff0000;opacity:0.4;stroke:#ffffff;stroke-linejoin:miter;stroke-width:2;\"/>\n   </g>\n   <g id=\"patch_222\">\n    <path clip-path=\"url(#p5a55f58d78)\" d=\"M 252.120399 375.2775 \nL 255.673865 375.2775 \nL 255.673865 375.2775 \nL 252.120399 375.2775 \nz\n\" style=\"fill:#ff0000;opacity:0.4;stroke:#ffffff;stroke-linejoin:miter;stroke-width:2;\"/>\n   </g>\n   <g id=\"patch_223\">\n    <path clip-path=\"url(#p5a55f58d78)\" d=\"M 255.673865 375.2775 \nL 259.227331 375.2775 \nL 259.227331 338.095146 \nL 255.673865 338.095146 \nz\n\" style=\"fill:#ff0000;opacity:0.4;stroke:#ffffff;stroke-linejoin:miter;stroke-width:2;\"/>\n   </g>\n   <g id=\"patch_224\">\n    <path clip-path=\"url(#p5a55f58d78)\" d=\"M 259.227331 375.2775 \nL 262.780797 375.2775 \nL 262.780797 375.2775 \nL 259.227331 375.2775 \nz\n\" style=\"fill:#ff0000;opacity:0.4;stroke:#ffffff;stroke-linejoin:miter;stroke-width:2;\"/>\n   </g>\n   <g id=\"patch_225\">\n    <path clip-path=\"url(#p5a55f58d78)\" d=\"M 262.780797 375.2775 \nL 266.334263 375.2775 \nL 266.334263 330.406202 \nL 262.780797 330.406202 \nz\n\" style=\"fill:#ff0000;opacity:0.4;stroke:#ffffff;stroke-linejoin:miter;stroke-width:2;\"/>\n   </g>\n   <g id=\"patch_226\">\n    <path clip-path=\"url(#p5a55f58d78)\" d=\"M 266.334263 375.2775 \nL 269.887729 375.2775 \nL 269.887729 375.2775 \nL 266.334263 375.2775 \nz\n\" style=\"fill:#ff0000;opacity:0.4;stroke:#ffffff;stroke-linejoin:miter;stroke-width:2;\"/>\n   </g>\n   <g id=\"patch_227\">\n    <path clip-path=\"url(#p5a55f58d78)\" d=\"M 269.887729 375.2775 \nL 273.441195 375.2775 \nL 273.441195 329.8324 \nL 269.887729 329.8324 \nz\n\" style=\"fill:#ff0000;opacity:0.4;stroke:#ffffff;stroke-linejoin:miter;stroke-width:2;\"/>\n   </g>\n   <g id=\"patch_228\">\n    <path clip-path=\"url(#p5a55f58d78)\" d=\"M 273.441195 375.2775 \nL 276.994662 375.2775 \nL 276.994662 375.2775 \nL 273.441195 375.2775 \nz\n\" style=\"fill:#ff0000;opacity:0.4;stroke:#ffffff;stroke-linejoin:miter;stroke-width:2;\"/>\n   </g>\n   <g id=\"patch_229\">\n    <path clip-path=\"url(#p5a55f58d78)\" d=\"M 276.994662 375.2775 \nL 280.548128 375.2775 \nL 280.548128 329.258599 \nL 276.994662 329.258599 \nz\n\" style=\"fill:#ff0000;opacity:0.4;stroke:#ffffff;stroke-linejoin:miter;stroke-width:2;\"/>\n   </g>\n   <g id=\"patch_230\">\n    <path clip-path=\"url(#p5a55f58d78)\" d=\"M 280.548128 375.2775 \nL 284.101594 375.2775 \nL 284.101594 375.2775 \nL 280.548128 375.2775 \nz\n\" style=\"fill:#ff0000;opacity:0.4;stroke:#ffffff;stroke-linejoin:miter;stroke-width:2;\"/>\n   </g>\n   <g id=\"patch_231\">\n    <path clip-path=\"url(#p5a55f58d78)\" d=\"M 284.101594 375.2775 \nL 287.65506 375.2775 \nL 287.65506 301.601354 \nL 284.101594 301.601354 \nz\n\" style=\"fill:#ff0000;opacity:0.4;stroke:#ffffff;stroke-linejoin:miter;stroke-width:2;\"/>\n   </g>\n   <g id=\"patch_232\">\n    <path clip-path=\"url(#p5a55f58d78)\" d=\"M 287.65506 375.2775 \nL 291.208526 375.2775 \nL 291.208526 375.2775 \nL 287.65506 375.2775 \nz\n\" style=\"fill:#ff0000;opacity:0.4;stroke:#ffffff;stroke-linejoin:miter;stroke-width:2;\"/>\n   </g>\n   <g id=\"patch_233\">\n    <path clip-path=\"url(#p5a55f58d78)\" d=\"M 291.208526 375.2775 \nL 294.761992 375.2775 \nL 294.761992 328.799557 \nL 291.208526 328.799557 \nz\n\" style=\"fill:#ff0000;opacity:0.4;stroke:#ffffff;stroke-linejoin:miter;stroke-width:2;\"/>\n   </g>\n   <g id=\"patch_234\">\n    <path clip-path=\"url(#p5a55f58d78)\" d=\"M 294.761992 375.2775 \nL 298.315458 375.2775 \nL 298.315458 375.2775 \nL 294.761992 375.2775 \nz\n\" style=\"fill:#ff0000;opacity:0.4;stroke:#ffffff;stroke-linejoin:miter;stroke-width:2;\"/>\n   </g>\n   <g id=\"patch_235\">\n    <path clip-path=\"url(#p5a55f58d78)\" d=\"M 298.315458 375.2775 \nL 301.868925 375.2775 \nL 301.868925 338.898468 \nL 298.315458 338.898468 \nz\n\" style=\"fill:#ff0000;opacity:0.4;stroke:#ffffff;stroke-linejoin:miter;stroke-width:2;\"/>\n   </g>\n   <g id=\"patch_236\">\n    <path clip-path=\"url(#p5a55f58d78)\" d=\"M 301.868925 375.2775 \nL 305.422391 375.2775 \nL 305.422391 375.2775 \nL 301.868925 375.2775 \nz\n\" style=\"fill:#ff0000;opacity:0.4;stroke:#ffffff;stroke-linejoin:miter;stroke-width:2;\"/>\n   </g>\n   <g id=\"patch_237\">\n    <path clip-path=\"url(#p5a55f58d78)\" d=\"M 305.422391 375.2775 \nL 308.975857 375.2775 \nL 308.975857 309.060777 \nL 305.422391 309.060777 \nz\n\" style=\"fill:#ff0000;opacity:0.4;stroke:#ffffff;stroke-linejoin:miter;stroke-width:2;\"/>\n   </g>\n   <g id=\"patch_238\">\n    <path clip-path=\"url(#p5a55f58d78)\" d=\"M 308.975857 375.2775 \nL 312.529323 375.2775 \nL 312.529323 375.2775 \nL 308.975857 375.2775 \nz\n\" style=\"fill:#ff0000;opacity:0.4;stroke:#ffffff;stroke-linejoin:miter;stroke-width:2;\"/>\n   </g>\n   <g id=\"patch_239\">\n    <path clip-path=\"url(#p5a55f58d78)\" d=\"M 312.529323 375.2775 \nL 316.082789 375.2775 \nL 316.082789 361.965299 \nL 312.529323 361.965299 \nz\n\" style=\"fill:#ff0000;opacity:0.4;stroke:#ffffff;stroke-linejoin:miter;stroke-width:2;\"/>\n   </g>\n   <g id=\"patch_240\">\n    <path clip-path=\"url(#p5a55f58d78)\" d=\"M 316.082789 375.2775 \nL 319.636255 375.2775 \nL 319.636255 375.2775 \nL 316.082789 375.2775 \nz\n\" style=\"fill:#ff0000;opacity:0.4;stroke:#ffffff;stroke-linejoin:miter;stroke-width:2;\"/>\n   </g>\n   <g id=\"patch_241\">\n    <path clip-path=\"url(#p5a55f58d78)\" d=\"M 319.636255 375.2775 \nL 323.189721 375.2775 \nL 323.189721 276.009795 \nL 319.636255 276.009795 \nz\n\" style=\"fill:#ff0000;opacity:0.4;stroke:#ffffff;stroke-linejoin:miter;stroke-width:2;\"/>\n   </g>\n   <g id=\"patch_242\">\n    <path clip-path=\"url(#p5a55f58d78)\" d=\"M 323.189721 375.2775 \nL 326.743187 375.2775 \nL 326.743187 375.2775 \nL 323.189721 375.2775 \nz\n\" style=\"fill:#ff0000;opacity:0.4;stroke:#ffffff;stroke-linejoin:miter;stroke-width:2;\"/>\n   </g>\n   <g id=\"patch_243\">\n    <path clip-path=\"url(#p5a55f58d78)\" d=\"M 326.743187 375.2775 \nL 330.296654 375.2775 \nL 330.296654 325.815788 \nL 326.743187 325.815788 \nz\n\" style=\"fill:#ff0000;opacity:0.4;stroke:#ffffff;stroke-linejoin:miter;stroke-width:2;\"/>\n   </g>\n   <g id=\"patch_244\">\n    <path clip-path=\"url(#p5a55f58d78)\" d=\"M 330.296654 375.2775 \nL 333.85012 375.2775 \nL 333.85012 375.2775 \nL 330.296654 375.2775 \nz\n\" style=\"fill:#ff0000;opacity:0.4;stroke:#ffffff;stroke-linejoin:miter;stroke-width:2;\"/>\n   </g>\n   <g id=\"patch_245\">\n    <path clip-path=\"url(#p5a55f58d78)\" d=\"M 333.85012 375.2775 \nL 337.403586 375.2775 \nL 337.403586 345.325048 \nL 333.85012 345.325048 \nz\n\" style=\"fill:#ff0000;opacity:0.4;stroke:#ffffff;stroke-linejoin:miter;stroke-width:2;\"/>\n   </g>\n   <g id=\"patch_246\">\n    <path clip-path=\"url(#p5a55f58d78)\" d=\"M 337.403586 375.2775 \nL 340.957052 375.2775 \nL 340.957052 375.2775 \nL 337.403586 375.2775 \nz\n\" style=\"fill:#ff0000;opacity:0.4;stroke:#ffffff;stroke-linejoin:miter;stroke-width:2;\"/>\n   </g>\n   <g id=\"patch_247\">\n    <path clip-path=\"url(#p5a55f58d78)\" d=\"M 340.957052 375.2775 \nL 344.510518 375.2775 \nL 344.510518 322.602498 \nL 340.957052 322.602498 \nz\n\" style=\"fill:#ff0000;opacity:0.4;stroke:#ffffff;stroke-linejoin:miter;stroke-width:2;\"/>\n   </g>\n   <g id=\"patch_248\">\n    <path clip-path=\"url(#p5a55f58d78)\" d=\"M 344.510518 375.2775 \nL 348.063984 375.2775 \nL 348.063984 375.2775 \nL 344.510518 375.2775 \nz\n\" style=\"fill:#ff0000;opacity:0.4;stroke:#ffffff;stroke-linejoin:miter;stroke-width:2;\"/>\n   </g>\n   <g id=\"patch_249\">\n    <path clip-path=\"url(#p5a55f58d78)\" d=\"M 348.063984 375.2775 \nL 351.61745 375.2775 \nL 351.61745 334.881856 \nL 348.063984 334.881856 \nz\n\" style=\"fill:#ff0000;opacity:0.4;stroke:#ffffff;stroke-linejoin:miter;stroke-width:2;\"/>\n   </g>\n   <g id=\"patch_250\">\n    <path clip-path=\"url(#p5a55f58d78)\" d=\"M 351.61745 375.2775 \nL 355.170917 375.2775 \nL 355.170917 375.2775 \nL 351.61745 375.2775 \nz\n\" style=\"fill:#ff0000;opacity:0.4;stroke:#ffffff;stroke-linejoin:miter;stroke-width:2;\"/>\n   </g>\n   <g id=\"patch_251\">\n    <path clip-path=\"url(#p5a55f58d78)\" d=\"M 355.170917 375.2775 \nL 358.724383 375.2775 \nL 358.724383 352.55495 \nL 355.170917 352.55495 \nz\n\" style=\"fill:#ff0000;opacity:0.4;stroke:#ffffff;stroke-linejoin:miter;stroke-width:2;\"/>\n   </g>\n   <g id=\"patch_252\">\n    <path clip-path=\"url(#p5a55f58d78)\" d=\"M 358.724383 375.2775 \nL 362.277849 375.2775 \nL 362.277849 375.2775 \nL 358.724383 375.2775 \nz\n\" style=\"fill:#ff0000;opacity:0.4;stroke:#ffffff;stroke-linejoin:miter;stroke-width:2;\"/>\n   </g>\n   <g id=\"patch_253\">\n    <path clip-path=\"url(#p5a55f58d78)\" d=\"M 362.277849 375.2775 \nL 365.831315 375.2775 \nL 365.831315 340.046072 \nL 362.277849 340.046072 \nz\n\" style=\"fill:#ff0000;opacity:0.4;stroke:#ffffff;stroke-linejoin:miter;stroke-width:2;\"/>\n   </g>\n   <g id=\"patch_254\">\n    <path clip-path=\"url(#p5a55f58d78)\" d=\"M 365.831315 375.2775 \nL 369.384781 375.2775 \nL 369.384781 375.2775 \nL 365.831315 375.2775 \nz\n\" style=\"fill:#ff0000;opacity:0.4;stroke:#ffffff;stroke-linejoin:miter;stroke-width:2;\"/>\n   </g>\n   <g id=\"patch_255\">\n    <path clip-path=\"url(#p5a55f58d78)\" d=\"M 369.384781 375.2775 \nL 372.938247 375.2775 \nL 372.938247 357.948687 \nL 369.384781 357.948687 \nz\n\" style=\"fill:#ff0000;opacity:0.4;stroke:#ffffff;stroke-linejoin:miter;stroke-width:2;\"/>\n   </g>\n   <g id=\"patch_256\">\n    <path clip-path=\"url(#p5a55f58d78)\" d=\"M 372.938247 375.2775 \nL 376.491713 375.2775 \nL 376.491713 375.2775 \nL 372.938247 375.2775 \nz\n\" style=\"fill:#ff0000;opacity:0.4;stroke:#ffffff;stroke-linejoin:miter;stroke-width:2;\"/>\n   </g>\n   <g id=\"patch_257\">\n    <path clip-path=\"url(#p5a55f58d78)\" d=\"M 376.491713 375.2775 \nL 380.045179 375.2775 \nL 380.045179 342.341279 \nL 376.491713 342.341279 \nz\n\" style=\"fill:#ff0000;opacity:0.4;stroke:#ffffff;stroke-linejoin:miter;stroke-width:2;\"/>\n   </g>\n   <g id=\"patch_258\">\n    <path clip-path=\"url(#p5a55f58d78)\" d=\"M 380.045179 375.2775 \nL 383.598646 375.2775 \nL 383.598646 375.2775 \nL 380.045179 375.2775 \nz\n\" style=\"fill:#ff0000;opacity:0.4;stroke:#ffffff;stroke-linejoin:miter;stroke-width:2;\"/>\n   </g>\n   <g id=\"patch_259\">\n    <path clip-path=\"url(#p5a55f58d78)\" d=\"M 383.598646 375.2775 \nL 387.152112 375.2775 \nL 387.152112 351.522107 \nL 383.598646 351.522107 \nz\n\" style=\"fill:#ff0000;opacity:0.4;stroke:#ffffff;stroke-linejoin:miter;stroke-width:2;\"/>\n   </g>\n   <g id=\"patch_260\">\n    <path clip-path=\"url(#p5a55f58d78)\" d=\"M 387.152112 375.2775 \nL 390.705578 375.2775 \nL 390.705578 375.2775 \nL 387.152112 375.2775 \nz\n\" style=\"fill:#ff0000;opacity:0.4;stroke:#ffffff;stroke-linejoin:miter;stroke-width:2;\"/>\n   </g>\n   <g id=\"patch_261\">\n    <path clip-path=\"url(#p5a55f58d78)\" d=\"M 390.705578 375.2775 \nL 394.259044 375.2775 \nL 394.259044 337.521344 \nL 390.705578 337.521344 \nz\n\" style=\"fill:#ff0000;opacity:0.4;stroke:#ffffff;stroke-linejoin:miter;stroke-width:2;\"/>\n   </g>\n   <g id=\"patch_262\">\n    <path clip-path=\"url(#p5a55f58d78)\" d=\"M 394.259044 375.2775 \nL 397.81251 375.2775 \nL 397.81251 375.2775 \nL 394.259044 375.2775 \nz\n\" style=\"fill:#ff0000;opacity:0.4;stroke:#ffffff;stroke-linejoin:miter;stroke-width:2;\"/>\n   </g>\n   <g id=\"patch_263\">\n    <path clip-path=\"url(#p5a55f58d78)\" d=\"M 397.81251 375.2775 \nL 401.365976 375.2775 \nL 401.365976 355.423959 \nL 397.81251 355.423959 \nz\n\" style=\"fill:#ff0000;opacity:0.4;stroke:#ffffff;stroke-linejoin:miter;stroke-width:2;\"/>\n   </g>\n   <g id=\"patch_264\">\n    <path clip-path=\"url(#p5a55f58d78)\" d=\"M 401.365976 375.2775 \nL 404.919442 375.2775 \nL 404.919442 375.2775 \nL 401.365976 375.2775 \nz\n\" style=\"fill:#ff0000;opacity:0.4;stroke:#ffffff;stroke-linejoin:miter;stroke-width:2;\"/>\n   </g>\n   <g id=\"patch_265\">\n    <path clip-path=\"url(#p5a55f58d78)\" d=\"M 404.919442 375.2775 \nL 408.472909 375.2775 \nL 408.472909 354.391116 \nL 404.919442 354.391116 \nz\n\" style=\"fill:#ff0000;opacity:0.4;stroke:#ffffff;stroke-linejoin:miter;stroke-width:2;\"/>\n   </g>\n   <g id=\"patch_266\">\n    <path clip-path=\"url(#p5a55f58d78)\" d=\"M 408.472909 375.2775 \nL 412.026375 375.2775 \nL 412.026375 375.2775 \nL 408.472909 375.2775 \nz\n\" style=\"fill:#ff0000;opacity:0.4;stroke:#ffffff;stroke-linejoin:miter;stroke-width:2;\"/>\n   </g>\n   <g id=\"patch_267\">\n    <path clip-path=\"url(#p5a55f58d78)\" d=\"M 412.026375 375.2775 \nL 415.579841 375.2775 \nL 415.579841 362.653861 \nL 412.026375 362.653861 \nz\n\" style=\"fill:#ff0000;opacity:0.4;stroke:#ffffff;stroke-linejoin:miter;stroke-width:2;\"/>\n   </g>\n   <g id=\"patch_268\">\n    <path clip-path=\"url(#p5a55f58d78)\" d=\"M 415.579841 375.2775 \nL 419.133307 375.2775 \nL 419.133307 375.2775 \nL 415.579841 375.2775 \nz\n\" style=\"fill:#ff0000;opacity:0.4;stroke:#ffffff;stroke-linejoin:miter;stroke-width:2;\"/>\n   </g>\n   <g id=\"patch_269\">\n    <path clip-path=\"url(#p5a55f58d78)\" d=\"M 419.133307 375.2775 \nL 422.686773 375.2775 \nL 422.686773 359.670092 \nL 419.133307 359.670092 \nz\n\" style=\"fill:#ff0000;opacity:0.4;stroke:#ffffff;stroke-linejoin:miter;stroke-width:2;\"/>\n   </g>\n   <g id=\"patch_270\">\n    <path clip-path=\"url(#p5a55f58d78)\" d=\"M 422.686773 375.2775 \nL 426.240239 375.2775 \nL 426.240239 375.2775 \nL 422.686773 375.2775 \nz\n\" style=\"fill:#ff0000;opacity:0.4;stroke:#ffffff;stroke-linejoin:miter;stroke-width:2;\"/>\n   </g>\n   <g id=\"patch_271\">\n    <path clip-path=\"url(#p5a55f58d78)\" d=\"M 426.240239 375.2775 \nL 429.793705 375.2775 \nL 429.793705 358.522489 \nL 426.240239 358.522489 \nz\n\" style=\"fill:#ff0000;opacity:0.4;stroke:#ffffff;stroke-linejoin:miter;stroke-width:2;\"/>\n   </g>\n   <g id=\"patch_272\">\n    <path clip-path=\"url(#p5a55f58d78)\" d=\"M 429.793705 375.2775 \nL 433.347172 375.2775 \nL 433.347172 375.2775 \nL 429.793705 375.2775 \nz\n\" style=\"fill:#ff0000;opacity:0.4;stroke:#ffffff;stroke-linejoin:miter;stroke-width:2;\"/>\n   </g>\n   <g id=\"patch_273\">\n    <path clip-path=\"url(#p5a55f58d78)\" d=\"M 433.347172 375.2775 \nL 436.900638 375.2775 \nL 436.900638 316.979241 \nL 433.347172 316.979241 \nz\n\" style=\"fill:#ff0000;opacity:0.4;stroke:#ffffff;stroke-linejoin:miter;stroke-width:2;\"/>\n   </g>\n   <g id=\"patch_274\">\n    <path clip-path=\"url(#p5a55f58d78)\" d=\"M 436.900638 375.2775 \nL 440.454104 375.2775 \nL 440.454104 375.2775 \nL 436.900638 375.2775 \nz\n\" style=\"fill:#ff0000;opacity:0.4;stroke:#ffffff;stroke-linejoin:miter;stroke-width:2;\"/>\n   </g>\n   <g id=\"patch_275\">\n    <path clip-path=\"url(#p5a55f58d78)\" d=\"M 440.454104 375.2775 \nL 444.00757 375.2775 \nL 444.00757 369.998524 \nL 440.454104 369.998524 \nz\n\" style=\"fill:#ff0000;opacity:0.4;stroke:#ffffff;stroke-linejoin:miter;stroke-width:2;\"/>\n   </g>\n   <g id=\"patch_276\">\n    <path clip-path=\"url(#p5a55f58d78)\" d=\"M 444.00757 375.2775 \nL 447.561036 375.2775 \nL 447.561036 375.2775 \nL 444.00757 375.2775 \nz\n\" style=\"fill:#ff0000;opacity:0.4;stroke:#ffffff;stroke-linejoin:miter;stroke-width:2;\"/>\n   </g>\n   <g id=\"patch_277\">\n    <path clip-path=\"url(#p5a55f58d78)\" d=\"M 447.561036 375.2775 \nL 451.114502 375.2775 \nL 451.114502 363.457184 \nL 447.561036 363.457184 \nz\n\" style=\"fill:#ff0000;opacity:0.4;stroke:#ffffff;stroke-linejoin:miter;stroke-width:2;\"/>\n   </g>\n   <g id=\"patch_278\">\n    <path clip-path=\"url(#p5a55f58d78)\" d=\"M 451.114502 375.2775 \nL 454.667968 375.2775 \nL 454.667968 375.2775 \nL 451.114502 375.2775 \nz\n\" style=\"fill:#ff0000;opacity:0.4;stroke:#ffffff;stroke-linejoin:miter;stroke-width:2;\"/>\n   </g>\n   <g id=\"patch_279\">\n    <path clip-path=\"url(#p5a55f58d78)\" d=\"M 454.667968 375.2775 \nL 458.221434 375.2775 \nL 458.221434 363.686704 \nL 454.667968 363.686704 \nz\n\" style=\"fill:#ff0000;opacity:0.4;stroke:#ffffff;stroke-linejoin:miter;stroke-width:2;\"/>\n   </g>\n   <g id=\"patch_280\">\n    <path clip-path=\"url(#p5a55f58d78)\" d=\"M 458.221434 375.2775 \nL 461.774901 375.2775 \nL 461.774901 375.2775 \nL 458.221434 375.2775 \nz\n\" style=\"fill:#ff0000;opacity:0.4;stroke:#ffffff;stroke-linejoin:miter;stroke-width:2;\"/>\n   </g>\n   <g id=\"patch_281\">\n    <path clip-path=\"url(#p5a55f58d78)\" d=\"M 461.774901 375.2775 \nL 465.328367 375.2775 \nL 465.328367 357.260125 \nL 461.774901 357.260125 \nz\n\" style=\"fill:#ff0000;opacity:0.4;stroke:#ffffff;stroke-linejoin:miter;stroke-width:2;\"/>\n   </g>\n   <g id=\"patch_282\">\n    <path clip-path=\"url(#p5a55f58d78)\" d=\"M 465.328367 375.2775 \nL 468.881833 375.2775 \nL 468.881833 375.2775 \nL 465.328367 375.2775 \nz\n\" style=\"fill:#ff0000;opacity:0.4;stroke:#ffffff;stroke-linejoin:miter;stroke-width:2;\"/>\n   </g>\n   <g id=\"patch_283\">\n    <path clip-path=\"url(#p5a55f58d78)\" d=\"M 468.881833 375.2775 \nL 472.435299 375.2775 \nL 472.435299 369.654243 \nL 468.881833 369.654243 \nz\n\" style=\"fill:#ff0000;opacity:0.4;stroke:#ffffff;stroke-linejoin:miter;stroke-width:2;\"/>\n   </g>\n   <g id=\"patch_284\">\n    <path clip-path=\"url(#p5a55f58d78)\" d=\"M 472.435299 375.2775 \nL 475.988765 375.2775 \nL 475.988765 375.2775 \nL 472.435299 375.2775 \nz\n\" style=\"fill:#ff0000;opacity:0.4;stroke:#ffffff;stroke-linejoin:miter;stroke-width:2;\"/>\n   </g>\n   <g id=\"patch_285\">\n    <path clip-path=\"url(#p5a55f58d78)\" d=\"M 475.988765 375.2775 \nL 479.542231 375.2775 \nL 479.542231 363.686704 \nL 475.988765 363.686704 \nz\n\" style=\"fill:#ff0000;opacity:0.4;stroke:#ffffff;stroke-linejoin:miter;stroke-width:2;\"/>\n   </g>\n   <g id=\"patch_286\">\n    <path clip-path=\"url(#p5a55f58d78)\" d=\"M 479.542231 375.2775 \nL 483.095697 375.2775 \nL 483.095697 375.2775 \nL 479.542231 375.2775 \nz\n\" style=\"fill:#ff0000;opacity:0.4;stroke:#ffffff;stroke-linejoin:miter;stroke-width:2;\"/>\n   </g>\n   <g id=\"patch_287\">\n    <path clip-path=\"url(#p5a55f58d78)\" d=\"M 483.095697 375.2775 \nL 486.649164 375.2775 \nL 486.649164 369.309962 \nL 483.095697 369.309962 \nz\n\" style=\"fill:#ff0000;opacity:0.4;stroke:#ffffff;stroke-linejoin:miter;stroke-width:2;\"/>\n   </g>\n   <g id=\"patch_288\">\n    <path clip-path=\"url(#p5a55f58d78)\" d=\"M 486.649164 375.2775 \nL 490.20263 375.2775 \nL 490.20263 375.2775 \nL 486.649164 375.2775 \nz\n\" style=\"fill:#ff0000;opacity:0.4;stroke:#ffffff;stroke-linejoin:miter;stroke-width:2;\"/>\n   </g>\n   <g id=\"patch_289\">\n    <path clip-path=\"url(#p5a55f58d78)\" d=\"M 490.20263 375.2775 \nL 493.756096 375.2775 \nL 493.756096 369.539482 \nL 490.20263 369.539482 \nz\n\" style=\"fill:#ff0000;opacity:0.4;stroke:#ffffff;stroke-linejoin:miter;stroke-width:2;\"/>\n   </g>\n   <g id=\"patch_290\">\n    <path clip-path=\"url(#p5a55f58d78)\" d=\"M 493.756096 375.2775 \nL 497.309562 375.2775 \nL 497.309562 375.2775 \nL 493.756096 375.2775 \nz\n\" style=\"fill:#ff0000;opacity:0.4;stroke:#ffffff;stroke-linejoin:miter;stroke-width:2;\"/>\n   </g>\n   <g id=\"patch_291\">\n    <path clip-path=\"url(#p5a55f58d78)\" d=\"M 497.309562 375.2775 \nL 500.863028 375.2775 \nL 500.863028 364.604787 \nL 497.309562 364.604787 \nz\n\" style=\"fill:#ff0000;opacity:0.4;stroke:#ffffff;stroke-linejoin:miter;stroke-width:2;\"/>\n   </g>\n   <g id=\"patch_292\">\n    <path clip-path=\"url(#p5a55f58d78)\" d=\"M 500.863028 375.2775 \nL 504.416494 375.2775 \nL 504.416494 375.2775 \nL 500.863028 375.2775 \nz\n\" style=\"fill:#ff0000;opacity:0.4;stroke:#ffffff;stroke-linejoin:miter;stroke-width:2;\"/>\n   </g>\n   <g id=\"patch_293\">\n    <path clip-path=\"url(#p5a55f58d78)\" d=\"M 504.416494 375.2775 \nL 507.96996 375.2775 \nL 507.96996 369.654243 \nL 504.416494 369.654243 \nz\n\" style=\"fill:#ff0000;opacity:0.4;stroke:#ffffff;stroke-linejoin:miter;stroke-width:2;\"/>\n   </g>\n   <g id=\"patch_294\">\n    <path clip-path=\"url(#p5a55f58d78)\" d=\"M 507.96996 375.2775 \nL 511.523426 375.2775 \nL 511.523426 375.2775 \nL 507.96996 375.2775 \nz\n\" style=\"fill:#ff0000;opacity:0.4;stroke:#ffffff;stroke-linejoin:miter;stroke-width:2;\"/>\n   </g>\n   <g id=\"patch_295\">\n    <path clip-path=\"url(#p5a55f58d78)\" d=\"M 511.523426 375.2775 \nL 515.076893 375.2775 \nL 515.076893 370.113284 \nL 511.523426 370.113284 \nz\n\" style=\"fill:#ff0000;opacity:0.4;stroke:#ffffff;stroke-linejoin:miter;stroke-width:2;\"/>\n   </g>\n   <g id=\"patch_296\">\n    <path clip-path=\"url(#p5a55f58d78)\" d=\"M 515.076893 375.2775 \nL 518.630359 375.2775 \nL 518.630359 375.2775 \nL 515.076893 375.2775 \nz\n\" style=\"fill:#ff0000;opacity:0.4;stroke:#ffffff;stroke-linejoin:miter;stroke-width:2;\"/>\n   </g>\n   <g id=\"patch_297\">\n    <path clip-path=\"url(#p5a55f58d78)\" d=\"M 518.630359 375.2775 \nL 522.183825 375.2775 \nL 522.183825 370.228044 \nL 518.630359 370.228044 \nz\n\" style=\"fill:#ff0000;opacity:0.4;stroke:#ffffff;stroke-linejoin:miter;stroke-width:2;\"/>\n   </g>\n   <g id=\"patch_298\">\n    <path clip-path=\"url(#p5a55f58d78)\" d=\"M 522.183825 375.2775 \nL 525.737291 375.2775 \nL 525.737291 375.2775 \nL 522.183825 375.2775 \nz\n\" style=\"fill:#ff0000;opacity:0.4;stroke:#ffffff;stroke-linejoin:miter;stroke-width:2;\"/>\n   </g>\n   <g id=\"patch_299\">\n    <path clip-path=\"url(#p5a55f58d78)\" d=\"M 525.737291 375.2775 \nL 529.290757 375.2775 \nL 529.290757 370.916607 \nL 525.737291 370.916607 \nz\n\" style=\"fill:#ff0000;opacity:0.4;stroke:#ffffff;stroke-linejoin:miter;stroke-width:2;\"/>\n   </g>\n   <g id=\"patch_300\">\n    <path clip-path=\"url(#p5a55f58d78)\" d=\"M 529.290757 375.2775 \nL 532.844223 375.2775 \nL 532.844223 375.2775 \nL 529.290757 375.2775 \nz\n\" style=\"fill:#ff0000;opacity:0.4;stroke:#ffffff;stroke-linejoin:miter;stroke-width:2;\"/>\n   </g>\n   <g id=\"patch_301\">\n    <path clip-path=\"url(#p5a55f58d78)\" d=\"M 532.844223 375.2775 \nL 536.397689 375.2775 \nL 536.397689 324.553424 \nL 532.844223 324.553424 \nz\n\" style=\"fill:#ff0000;opacity:0.4;stroke:#ffffff;stroke-linejoin:miter;stroke-width:2;\"/>\n   </g>\n   <g id=\"patch_302\">\n    <path clip-path=\"url(#p5a55f58d78)\" d=\"M 536.397689 375.2775 \nL 539.951156 375.2775 \nL 539.951156 375.2775 \nL 536.397689 375.2775 \nz\n\" style=\"fill:#ff0000;opacity:0.4;stroke:#ffffff;stroke-linejoin:miter;stroke-width:2;\"/>\n   </g>\n   <g id=\"patch_303\">\n    <path clip-path=\"url(#p5a55f58d78)\" d=\"M 539.951156 375.2775 \nL 543.504622 375.2775 \nL 543.504622 375.2775 \nL 539.951156 375.2775 \nz\n\" style=\"fill:#ff0000;opacity:0.4;stroke:#ffffff;stroke-linejoin:miter;stroke-width:2;\"/>\n   </g>\n   <g id=\"patch_304\">\n    <path clip-path=\"url(#p5a55f58d78)\" d=\"M 543.504622 375.2775 \nL 547.058088 375.2775 \nL 547.058088 374.129896 \nL 543.504622 374.129896 \nz\n\" style=\"fill:#ff0000;opacity:0.4;stroke:#ffffff;stroke-linejoin:miter;stroke-width:2;\"/>\n   </g>\n   <g id=\"patch_305\">\n    <path clip-path=\"url(#p5a55f58d78)\" d=\"M 547.058088 375.2775 \nL 550.611554 375.2775 \nL 550.611554 375.2775 \nL 547.058088 375.2775 \nz\n\" style=\"fill:#ff0000;opacity:0.4;stroke:#ffffff;stroke-linejoin:miter;stroke-width:2;\"/>\n   </g>\n   <g id=\"patch_306\">\n    <path clip-path=\"url(#p5a55f58d78)\" d=\"M 550.611554 375.2775 \nL 554.16502 375.2775 \nL 554.16502 373.900376 \nL 550.611554 373.900376 \nz\n\" style=\"fill:#ff0000;opacity:0.4;stroke:#ffffff;stroke-linejoin:miter;stroke-width:2;\"/>\n   </g>\n   <g id=\"patch_307\">\n    <path clip-path=\"url(#p5a55f58d78)\" d=\"M 554.16502 375.2775 \nL 557.718486 375.2775 \nL 557.718486 375.2775 \nL 554.16502 375.2775 \nz\n\" style=\"fill:#ff0000;opacity:0.4;stroke:#ffffff;stroke-linejoin:miter;stroke-width:2;\"/>\n   </g>\n   <g id=\"patch_308\">\n    <path clip-path=\"url(#p5a55f58d78)\" d=\"M 557.718486 375.2775 \nL 561.271952 375.2775 \nL 561.271952 374.244657 \nL 557.718486 374.244657 \nz\n\" style=\"fill:#ff0000;opacity:0.4;stroke:#ffffff;stroke-linejoin:miter;stroke-width:2;\"/>\n   </g>\n   <g id=\"patch_309\">\n    <path clip-path=\"url(#p5a55f58d78)\" d=\"M 561.271952 375.2775 \nL 564.825419 375.2775 \nL 564.825419 375.2775 \nL 561.271952 375.2775 \nz\n\" style=\"fill:#ff0000;opacity:0.4;stroke:#ffffff;stroke-linejoin:miter;stroke-width:2;\"/>\n   </g>\n   <g id=\"patch_310\">\n    <path clip-path=\"url(#p5a55f58d78)\" d=\"M 564.825419 375.2775 \nL 568.378885 375.2775 \nL 568.378885 374.588938 \nL 564.825419 374.588938 \nz\n\" style=\"fill:#ff0000;opacity:0.4;stroke:#ffffff;stroke-linejoin:miter;stroke-width:2;\"/>\n   </g>\n   <g id=\"patch_311\">\n    <path clip-path=\"url(#p5a55f58d78)\" d=\"M 568.378885 375.2775 \nL 571.932351 375.2775 \nL 571.932351 375.2775 \nL 568.378885 375.2775 \nz\n\" style=\"fill:#ff0000;opacity:0.4;stroke:#ffffff;stroke-linejoin:miter;stroke-width:2;\"/>\n   </g>\n   <g id=\"patch_312\">\n    <path clip-path=\"url(#p5a55f58d78)\" d=\"M 571.932351 375.2775 \nL 575.485817 375.2775 \nL 575.485817 374.129896 \nL 571.932351 374.129896 \nz\n\" style=\"fill:#ff0000;opacity:0.4;stroke:#ffffff;stroke-linejoin:miter;stroke-width:2;\"/>\n   </g>\n   <g id=\"patch_313\">\n    <path clip-path=\"url(#p5a55f58d78)\" d=\"M 575.485817 375.2775 \nL 579.039283 375.2775 \nL 579.039283 375.2775 \nL 575.485817 375.2775 \nz\n\" style=\"fill:#ff0000;opacity:0.4;stroke:#ffffff;stroke-linejoin:miter;stroke-width:2;\"/>\n   </g>\n   <g id=\"patch_314\">\n    <path clip-path=\"url(#p5a55f58d78)\" d=\"M 579.039283 375.2775 \nL 582.592749 375.2775 \nL 582.592749 374.359417 \nL 579.039283 374.359417 \nz\n\" style=\"fill:#ff0000;opacity:0.4;stroke:#ffffff;stroke-linejoin:miter;stroke-width:2;\"/>\n   </g>\n   <g id=\"patch_315\">\n    <path clip-path=\"url(#p5a55f58d78)\" d=\"M 582.592749 375.2775 \nL 586.146215 375.2775 \nL 586.146215 375.2775 \nL 582.592749 375.2775 \nz\n\" style=\"fill:#ff0000;opacity:0.4;stroke:#ffffff;stroke-linejoin:miter;stroke-width:2;\"/>\n   </g>\n   <g id=\"patch_316\">\n    <path clip-path=\"url(#p5a55f58d78)\" d=\"M 586.146215 375.2775 \nL 589.699681 375.2775 \nL 589.699681 374.703698 \nL 586.146215 374.703698 \nz\n\" style=\"fill:#ff0000;opacity:0.4;stroke:#ffffff;stroke-linejoin:miter;stroke-width:2;\"/>\n   </g>\n   <g id=\"patch_317\">\n    <path clip-path=\"url(#p5a55f58d78)\" d=\"M 589.699681 375.2775 \nL 593.253148 375.2775 \nL 593.253148 375.2775 \nL 589.699681 375.2775 \nz\n\" style=\"fill:#ff0000;opacity:0.4;stroke:#ffffff;stroke-linejoin:miter;stroke-width:2;\"/>\n   </g>\n   <g id=\"patch_318\">\n    <path clip-path=\"url(#p5a55f58d78)\" d=\"M 593.253148 375.2775 \nL 596.806614 375.2775 \nL 596.806614 374.588938 \nL 593.253148 374.588938 \nz\n\" style=\"fill:#ff0000;opacity:0.4;stroke:#ffffff;stroke-linejoin:miter;stroke-width:2;\"/>\n   </g>\n   <g id=\"patch_319\">\n    <path clip-path=\"url(#p5a55f58d78)\" d=\"M 596.806614 375.2775 \nL 600.36008 375.2775 \nL 600.36008 375.2775 \nL 596.806614 375.2775 \nz\n\" style=\"fill:#ff0000;opacity:0.4;stroke:#ffffff;stroke-linejoin:miter;stroke-width:2;\"/>\n   </g>\n   <g id=\"patch_320\">\n    <path clip-path=\"url(#p5a55f58d78)\" d=\"M 600.36008 375.2775 \nL 603.913546 375.2775 \nL 603.913546 374.933219 \nL 600.36008 374.933219 \nz\n\" style=\"fill:#ff0000;opacity:0.4;stroke:#ffffff;stroke-linejoin:miter;stroke-width:2;\"/>\n   </g>\n   <g id=\"patch_321\">\n    <path clip-path=\"url(#p5a55f58d78)\" d=\"M 603.913546 375.2775 \nL 607.467012 375.2775 \nL 607.467012 375.2775 \nL 603.913546 375.2775 \nz\n\" style=\"fill:#ff0000;opacity:0.4;stroke:#ffffff;stroke-linejoin:miter;stroke-width:2;\"/>\n   </g>\n   <g id=\"patch_322\">\n    <path clip-path=\"url(#p5a55f58d78)\" d=\"M 607.467012 375.2775 \nL 611.020478 375.2775 \nL 611.020478 374.129896 \nL 607.467012 374.129896 \nz\n\" style=\"fill:#ff0000;opacity:0.4;stroke:#ffffff;stroke-linejoin:miter;stroke-width:2;\"/>\n   </g>\n   <g id=\"patch_323\">\n    <path clip-path=\"url(#p5a55f58d78)\" d=\"M 611.020478 375.2775 \nL 614.573944 375.2775 \nL 614.573944 375.2775 \nL 611.020478 375.2775 \nz\n\" style=\"fill:#ff0000;opacity:0.4;stroke:#ffffff;stroke-linejoin:miter;stroke-width:2;\"/>\n   </g>\n   <g id=\"patch_324\">\n    <path clip-path=\"url(#p5a55f58d78)\" d=\"M 614.573944 375.2775 \nL 618.127411 375.2775 \nL 618.127411 374.474178 \nL 614.573944 374.474178 \nz\n\" style=\"fill:#ff0000;opacity:0.4;stroke:#ffffff;stroke-linejoin:miter;stroke-width:2;\"/>\n   </g>\n   <g id=\"patch_325\">\n    <path clip-path=\"url(#p5a55f58d78)\" d=\"M 618.127411 375.2775 \nL 621.680877 375.2775 \nL 621.680877 375.2775 \nL 618.127411 375.2775 \nz\n\" style=\"fill:#ff0000;opacity:0.4;stroke:#ffffff;stroke-linejoin:miter;stroke-width:2;\"/>\n   </g>\n   <g id=\"patch_326\">\n    <path clip-path=\"url(#p5a55f58d78)\" d=\"M 621.680877 375.2775 \nL 625.234343 375.2775 \nL 625.234343 374.359417 \nL 621.680877 374.359417 \nz\n\" style=\"fill:#ff0000;opacity:0.4;stroke:#ffffff;stroke-linejoin:miter;stroke-width:2;\"/>\n   </g>\n   <g id=\"patch_327\">\n    <path clip-path=\"url(#p5a55f58d78)\" d=\"M 625.234343 375.2775 \nL 628.787809 375.2775 \nL 628.787809 375.2775 \nL 625.234343 375.2775 \nz\n\" style=\"fill:#ff0000;opacity:0.4;stroke:#ffffff;stroke-linejoin:miter;stroke-width:2;\"/>\n   </g>\n   <g id=\"patch_328\">\n    <path clip-path=\"url(#p5a55f58d78)\" d=\"M 628.787809 375.2775 \nL 632.341275 375.2775 \nL 632.341275 374.818459 \nL 628.787809 374.818459 \nz\n\" style=\"fill:#ff0000;opacity:0.4;stroke:#ffffff;stroke-linejoin:miter;stroke-width:2;\"/>\n   </g>\n   <g id=\"patch_329\">\n    <path clip-path=\"url(#p5a55f58d78)\" d=\"M 632.341275 375.2775 \nL 635.894741 375.2775 \nL 635.894741 375.2775 \nL 632.341275 375.2775 \nz\n\" style=\"fill:#ff0000;opacity:0.4;stroke:#ffffff;stroke-linejoin:miter;stroke-width:2;\"/>\n   </g>\n   <g id=\"patch_330\">\n    <path clip-path=\"url(#p5a55f58d78)\" d=\"M 635.894741 375.2775 \nL 639.448207 375.2775 \nL 639.448207 374.703698 \nL 635.894741 374.703698 \nz\n\" style=\"fill:#ff0000;opacity:0.4;stroke:#ffffff;stroke-linejoin:miter;stroke-width:2;\"/>\n   </g>\n   <g id=\"patch_331\">\n    <path clip-path=\"url(#p5a55f58d78)\" d=\"M 639.448207 375.2775 \nL 643.001673 375.2775 \nL 643.001673 375.2775 \nL 639.448207 375.2775 \nz\n\" style=\"fill:#ff0000;opacity:0.4;stroke:#ffffff;stroke-linejoin:miter;stroke-width:2;\"/>\n   </g>\n   <g id=\"patch_332\">\n    <path clip-path=\"url(#p5a55f58d78)\" d=\"M 643.001673 375.2775 \nL 646.55514 375.2775 \nL 646.55514 375.047979 \nL 643.001673 375.047979 \nz\n\" style=\"fill:#ff0000;opacity:0.4;stroke:#ffffff;stroke-linejoin:miter;stroke-width:2;\"/>\n   </g>\n   <g id=\"patch_333\">\n    <path clip-path=\"url(#p5a55f58d78)\" d=\"M 646.55514 375.2775 \nL 650.108606 375.2775 \nL 650.108606 375.2775 \nL 646.55514 375.2775 \nz\n\" style=\"fill:#ff0000;opacity:0.4;stroke:#ffffff;stroke-linejoin:miter;stroke-width:2;\"/>\n   </g>\n   <g id=\"patch_334\">\n    <path clip-path=\"url(#p5a55f58d78)\" d=\"M 650.108606 375.2775 \nL 653.662072 375.2775 \nL 653.662072 375.047979 \nL 650.108606 375.047979 \nz\n\" style=\"fill:#ff0000;opacity:0.4;stroke:#ffffff;stroke-linejoin:miter;stroke-width:2;\"/>\n   </g>\n   <g id=\"patch_335\">\n    <path clip-path=\"url(#p5a55f58d78)\" d=\"M 653.662072 375.2775 \nL 657.215538 375.2775 \nL 657.215538 375.2775 \nL 653.662072 375.2775 \nz\n\" style=\"fill:#ff0000;opacity:0.4;stroke:#ffffff;stroke-linejoin:miter;stroke-width:2;\"/>\n   </g>\n   <g id=\"patch_336\">\n    <path clip-path=\"url(#p5a55f58d78)\" d=\"M 657.215538 375.2775 \nL 660.769004 375.2775 \nL 660.769004 374.933219 \nL 657.215538 374.933219 \nz\n\" style=\"fill:#ff0000;opacity:0.4;stroke:#ffffff;stroke-linejoin:miter;stroke-width:2;\"/>\n   </g>\n   <g id=\"patch_337\">\n    <path clip-path=\"url(#p5a55f58d78)\" d=\"M 660.769004 375.2775 \nL 664.32247 375.2775 \nL 664.32247 375.2775 \nL 660.769004 375.2775 \nz\n\" style=\"fill:#ff0000;opacity:0.4;stroke:#ffffff;stroke-linejoin:miter;stroke-width:2;\"/>\n   </g>\n   <g id=\"patch_338\">\n    <path clip-path=\"url(#p5a55f58d78)\" d=\"M 664.32247 375.2775 \nL 667.875936 375.2775 \nL 667.875936 374.933219 \nL 664.32247 374.933219 \nz\n\" style=\"fill:#ff0000;opacity:0.4;stroke:#ffffff;stroke-linejoin:miter;stroke-width:2;\"/>\n   </g>\n   <g id=\"patch_339\">\n    <path clip-path=\"url(#p5a55f58d78)\" d=\"M 667.875936 375.2775 \nL 671.429403 375.2775 \nL 671.429403 375.2775 \nL 667.875936 375.2775 \nz\n\" style=\"fill:#ff0000;opacity:0.4;stroke:#ffffff;stroke-linejoin:miter;stroke-width:2;\"/>\n   </g>\n   <g id=\"patch_340\">\n    <path clip-path=\"url(#p5a55f58d78)\" d=\"M 671.429403 375.2775 \nL 674.982869 375.2775 \nL 674.982869 375.2775 \nL 671.429403 375.2775 \nz\n\" style=\"fill:#ff0000;opacity:0.4;stroke:#ffffff;stroke-linejoin:miter;stroke-width:2;\"/>\n   </g>\n   <g id=\"patch_341\">\n    <path clip-path=\"url(#p5a55f58d78)\" d=\"M 674.982869 375.2775 \nL 678.536335 375.2775 \nL 678.536335 375.2775 \nL 674.982869 375.2775 \nz\n\" style=\"fill:#ff0000;opacity:0.4;stroke:#ffffff;stroke-linejoin:miter;stroke-width:2;\"/>\n   </g>\n   <g id=\"patch_342\">\n    <path clip-path=\"url(#p5a55f58d78)\" d=\"M 678.536335 375.2775 \nL 682.089801 375.2775 \nL 682.089801 374.588938 \nL 678.536335 374.588938 \nz\n\" style=\"fill:#ff0000;opacity:0.4;stroke:#ffffff;stroke-linejoin:miter;stroke-width:2;\"/>\n   </g>\n   <g id=\"patch_343\">\n    <path clip-path=\"url(#p5a55f58d78)\" d=\"M 682.089801 375.2775 \nL 685.643267 375.2775 \nL 685.643267 375.2775 \nL 682.089801 375.2775 \nz\n\" style=\"fill:#ff0000;opacity:0.4;stroke:#ffffff;stroke-linejoin:miter;stroke-width:2;\"/>\n   </g>\n   <g id=\"patch_344\">\n    <path clip-path=\"url(#p5a55f58d78)\" d=\"M 685.643267 375.2775 \nL 689.196733 375.2775 \nL 689.196733 374.818459 \nL 685.643267 374.818459 \nz\n\" style=\"fill:#ff0000;opacity:0.4;stroke:#ffffff;stroke-linejoin:miter;stroke-width:2;\"/>\n   </g>\n   <g id=\"patch_345\">\n    <path clip-path=\"url(#p5a55f58d78)\" d=\"M 689.196733 375.2775 \nL 692.750199 375.2775 \nL 692.750199 375.2775 \nL 689.196733 375.2775 \nz\n\" style=\"fill:#ff0000;opacity:0.4;stroke:#ffffff;stroke-linejoin:miter;stroke-width:2;\"/>\n   </g>\n   <g id=\"patch_346\">\n    <path clip-path=\"url(#p5a55f58d78)\" d=\"M 692.750199 375.2775 \nL 696.303666 375.2775 \nL 696.303666 375.16274 \nL 692.750199 375.16274 \nz\n\" style=\"fill:#ff0000;opacity:0.4;stroke:#ffffff;stroke-linejoin:miter;stroke-width:2;\"/>\n   </g>\n   <g id=\"patch_347\">\n    <path clip-path=\"url(#p5a55f58d78)\" d=\"M 696.303666 375.2775 \nL 699.857132 375.2775 \nL 699.857132 375.2775 \nL 696.303666 375.2775 \nz\n\" style=\"fill:#ff0000;opacity:0.4;stroke:#ffffff;stroke-linejoin:miter;stroke-width:2;\"/>\n   </g>\n   <g id=\"patch_348\">\n    <path clip-path=\"url(#p5a55f58d78)\" d=\"M 699.857132 375.2775 \nL 703.410598 375.2775 \nL 703.410598 375.047979 \nL 699.857132 375.047979 \nz\n\" style=\"fill:#ff0000;opacity:0.4;stroke:#ffffff;stroke-linejoin:miter;stroke-width:2;\"/>\n   </g>\n   <g id=\"patch_349\">\n    <path clip-path=\"url(#p5a55f58d78)\" d=\"M 703.410598 375.2775 \nL 706.964064 375.2775 \nL 706.964064 375.2775 \nL 703.410598 375.2775 \nz\n\" style=\"fill:#ff0000;opacity:0.4;stroke:#ffffff;stroke-linejoin:miter;stroke-width:2;\"/>\n   </g>\n   <g id=\"patch_350\">\n    <path clip-path=\"url(#p5a55f58d78)\" d=\"M 706.964064 375.2775 \nL 710.51753 375.2775 \nL 710.51753 375.2775 \nL 706.964064 375.2775 \nz\n\" style=\"fill:#ff0000;opacity:0.4;stroke:#ffffff;stroke-linejoin:miter;stroke-width:2;\"/>\n   </g>\n   <g id=\"patch_351\">\n    <path clip-path=\"url(#p5a55f58d78)\" d=\"M 710.51753 375.2775 \nL 714.070996 375.2775 \nL 714.070996 375.2775 \nL 710.51753 375.2775 \nz\n\" style=\"fill:#ff0000;opacity:0.4;stroke:#ffffff;stroke-linejoin:miter;stroke-width:2;\"/>\n   </g>\n   <g id=\"patch_352\">\n    <path clip-path=\"url(#p5a55f58d78)\" d=\"M 714.070996 375.2775 \nL 717.624462 375.2775 \nL 717.624462 374.818459 \nL 714.070996 374.818459 \nz\n\" style=\"fill:#ff0000;opacity:0.4;stroke:#ffffff;stroke-linejoin:miter;stroke-width:2;\"/>\n   </g>\n   <g id=\"patch_353\">\n    <path clip-path=\"url(#p5a55f58d78)\" d=\"M 717.624462 375.2775 \nL 721.177928 375.2775 \nL 721.177928 375.2775 \nL 717.624462 375.2775 \nz\n\" style=\"fill:#ff0000;opacity:0.4;stroke:#ffffff;stroke-linejoin:miter;stroke-width:2;\"/>\n   </g>\n   <g id=\"patch_354\">\n    <path clip-path=\"url(#p5a55f58d78)\" d=\"M 721.177928 375.2775 \nL 724.731395 375.2775 \nL 724.731395 375.2775 \nL 721.177928 375.2775 \nz\n\" style=\"fill:#ff0000;opacity:0.4;stroke:#ffffff;stroke-linejoin:miter;stroke-width:2;\"/>\n   </g>\n   <g id=\"patch_355\">\n    <path clip-path=\"url(#p5a55f58d78)\" d=\"M 724.731395 375.2775 \nL 728.284861 375.2775 \nL 728.284861 375.2775 \nL 724.731395 375.2775 \nz\n\" style=\"fill:#ff0000;opacity:0.4;stroke:#ffffff;stroke-linejoin:miter;stroke-width:2;\"/>\n   </g>\n   <g id=\"patch_356\">\n    <path clip-path=\"url(#p5a55f58d78)\" d=\"M 728.284861 375.2775 \nL 731.838327 375.2775 \nL 731.838327 375.2775 \nL 728.284861 375.2775 \nz\n\" style=\"fill:#ff0000;opacity:0.4;stroke:#ffffff;stroke-linejoin:miter;stroke-width:2;\"/>\n   </g>\n   <g id=\"patch_357\">\n    <path clip-path=\"url(#p5a55f58d78)\" d=\"M 731.838327 375.2775 \nL 735.391793 375.2775 \nL 735.391793 375.2775 \nL 731.838327 375.2775 \nz\n\" style=\"fill:#ff0000;opacity:0.4;stroke:#ffffff;stroke-linejoin:miter;stroke-width:2;\"/>\n   </g>\n   <g id=\"patch_358\">\n    <path clip-path=\"url(#p5a55f58d78)\" d=\"M 735.391793 375.2775 \nL 738.945259 375.2775 \nL 738.945259 375.047979 \nL 735.391793 375.047979 \nz\n\" style=\"fill:#ff0000;opacity:0.4;stroke:#ffffff;stroke-linejoin:miter;stroke-width:2;\"/>\n   </g>\n   <g id=\"patch_359\">\n    <path clip-path=\"url(#p5a55f58d78)\" d=\"M 738.945259 375.2775 \nL 742.498725 375.2775 \nL 742.498725 375.2775 \nL 738.945259 375.2775 \nz\n\" style=\"fill:#ff0000;opacity:0.4;stroke:#ffffff;stroke-linejoin:miter;stroke-width:2;\"/>\n   </g>\n   <g id=\"patch_360\">\n    <path clip-path=\"url(#p5a55f58d78)\" d=\"M 742.498725 375.2775 \nL 746.052191 375.2775 \nL 746.052191 375.2775 \nL 742.498725 375.2775 \nz\n\" style=\"fill:#ff0000;opacity:0.4;stroke:#ffffff;stroke-linejoin:miter;stroke-width:2;\"/>\n   </g>\n   <g id=\"patch_361\">\n    <path clip-path=\"url(#p5a55f58d78)\" d=\"M 746.052191 375.2775 \nL 749.605658 375.2775 \nL 749.605658 375.2775 \nL 746.052191 375.2775 \nz\n\" style=\"fill:#ff0000;opacity:0.4;stroke:#ffffff;stroke-linejoin:miter;stroke-width:2;\"/>\n   </g>\n   <g id=\"patch_362\">\n    <path clip-path=\"url(#p5a55f58d78)\" d=\"M 749.605658 375.2775 \nL 753.159124 375.2775 \nL 753.159124 375.2775 \nL 749.605658 375.2775 \nz\n\" style=\"fill:#ff0000;opacity:0.4;stroke:#ffffff;stroke-linejoin:miter;stroke-width:2;\"/>\n   </g>\n   <g id=\"patch_363\">\n    <path clip-path=\"url(#p5a55f58d78)\" d=\"M 753.159124 375.2775 \nL 756.71259 375.2775 \nL 756.71259 375.2775 \nL 753.159124 375.2775 \nz\n\" style=\"fill:#ff0000;opacity:0.4;stroke:#ffffff;stroke-linejoin:miter;stroke-width:2;\"/>\n   </g>\n   <g id=\"patch_364\">\n    <path clip-path=\"url(#p5a55f58d78)\" d=\"M 756.71259 375.2775 \nL 760.266056 375.2775 \nL 760.266056 375.2775 \nL 756.71259 375.2775 \nz\n\" style=\"fill:#ff0000;opacity:0.4;stroke:#ffffff;stroke-linejoin:miter;stroke-width:2;\"/>\n   </g>\n   <g id=\"patch_365\">\n    <path clip-path=\"url(#p5a55f58d78)\" d=\"M 760.266056 375.2775 \nL 763.819522 375.2775 \nL 763.819522 375.2775 \nL 760.266056 375.2775 \nz\n\" style=\"fill:#ff0000;opacity:0.4;stroke:#ffffff;stroke-linejoin:miter;stroke-width:2;\"/>\n   </g>\n   <g id=\"patch_366\">\n    <path clip-path=\"url(#p5a55f58d78)\" d=\"M 763.819522 375.2775 \nL 767.372988 375.2775 \nL 767.372988 375.2775 \nL 763.819522 375.2775 \nz\n\" style=\"fill:#ff0000;opacity:0.4;stroke:#ffffff;stroke-linejoin:miter;stroke-width:2;\"/>\n   </g>\n   <g id=\"patch_367\">\n    <path clip-path=\"url(#p5a55f58d78)\" d=\"M 767.372988 375.2775 \nL 770.926454 375.2775 \nL 770.926454 375.2775 \nL 767.372988 375.2775 \nz\n\" style=\"fill:#ff0000;opacity:0.4;stroke:#ffffff;stroke-linejoin:miter;stroke-width:2;\"/>\n   </g>\n   <g id=\"patch_368\">\n    <path clip-path=\"url(#p5a55f58d78)\" d=\"M 770.926454 375.2775 \nL 774.47992 375.2775 \nL 774.47992 375.2775 \nL 770.926454 375.2775 \nz\n\" style=\"fill:#ff0000;opacity:0.4;stroke:#ffffff;stroke-linejoin:miter;stroke-width:2;\"/>\n   </g>\n   <g id=\"patch_369\">\n    <path clip-path=\"url(#p5a55f58d78)\" d=\"M 774.47992 375.2775 \nL 778.033387 375.2775 \nL 778.033387 375.2775 \nL 774.47992 375.2775 \nz\n\" style=\"fill:#ff0000;opacity:0.4;stroke:#ffffff;stroke-linejoin:miter;stroke-width:2;\"/>\n   </g>\n   <g id=\"patch_370\">\n    <path clip-path=\"url(#p5a55f58d78)\" d=\"M 778.033387 375.2775 \nL 781.586853 375.2775 \nL 781.586853 375.2775 \nL 778.033387 375.2775 \nz\n\" style=\"fill:#ff0000;opacity:0.4;stroke:#ffffff;stroke-linejoin:miter;stroke-width:2;\"/>\n   </g>\n   <g id=\"patch_371\">\n    <path clip-path=\"url(#p5a55f58d78)\" d=\"M 781.586853 375.2775 \nL 785.140319 375.2775 \nL 785.140319 375.2775 \nL 781.586853 375.2775 \nz\n\" style=\"fill:#ff0000;opacity:0.4;stroke:#ffffff;stroke-linejoin:miter;stroke-width:2;\"/>\n   </g>\n   <g id=\"patch_372\">\n    <path clip-path=\"url(#p5a55f58d78)\" d=\"M 785.140319 375.2775 \nL 788.693785 375.2775 \nL 788.693785 375.2775 \nL 785.140319 375.2775 \nz\n\" style=\"fill:#ff0000;opacity:0.4;stroke:#ffffff;stroke-linejoin:miter;stroke-width:2;\"/>\n   </g>\n   <g id=\"patch_373\">\n    <path clip-path=\"url(#p5a55f58d78)\" d=\"M 788.693785 375.2775 \nL 792.247251 375.2775 \nL 792.247251 375.2775 \nL 788.693785 375.2775 \nz\n\" style=\"fill:#ff0000;opacity:0.4;stroke:#ffffff;stroke-linejoin:miter;stroke-width:2;\"/>\n   </g>\n   <g id=\"patch_374\">\n    <path clip-path=\"url(#p5a55f58d78)\" d=\"M 792.247251 375.2775 \nL 795.800717 375.2775 \nL 795.800717 375.2775 \nL 792.247251 375.2775 \nz\n\" style=\"fill:#ff0000;opacity:0.4;stroke:#ffffff;stroke-linejoin:miter;stroke-width:2;\"/>\n   </g>\n   <g id=\"patch_375\">\n    <path clip-path=\"url(#p5a55f58d78)\" d=\"M 795.800717 375.2775 \nL 799.354183 375.2775 \nL 799.354183 375.2775 \nL 795.800717 375.2775 \nz\n\" style=\"fill:#ff0000;opacity:0.4;stroke:#ffffff;stroke-linejoin:miter;stroke-width:2;\"/>\n   </g>\n   <g id=\"patch_376\">\n    <path clip-path=\"url(#p5a55f58d78)\" d=\"M 799.354183 375.2775 \nL 802.90765 375.2775 \nL 802.90765 375.2775 \nL 799.354183 375.2775 \nz\n\" style=\"fill:#ff0000;opacity:0.4;stroke:#ffffff;stroke-linejoin:miter;stroke-width:2;\"/>\n   </g>\n   <g id=\"patch_377\">\n    <path clip-path=\"url(#p5a55f58d78)\" d=\"M 802.90765 375.2775 \nL 806.461116 375.2775 \nL 806.461116 375.2775 \nL 802.90765 375.2775 \nz\n\" style=\"fill:#ff0000;opacity:0.4;stroke:#ffffff;stroke-linejoin:miter;stroke-width:2;\"/>\n   </g>\n   <g id=\"patch_378\">\n    <path clip-path=\"url(#p5a55f58d78)\" d=\"M 806.461116 375.2775 \nL 810.014582 375.2775 \nL 810.014582 375.2775 \nL 806.461116 375.2775 \nz\n\" style=\"fill:#ff0000;opacity:0.4;stroke:#ffffff;stroke-linejoin:miter;stroke-width:2;\"/>\n   </g>\n   <g id=\"patch_379\">\n    <path clip-path=\"url(#p5a55f58d78)\" d=\"M 810.014582 375.2775 \nL 813.568048 375.2775 \nL 813.568048 375.2775 \nL 810.014582 375.2775 \nz\n\" style=\"fill:#ff0000;opacity:0.4;stroke:#ffffff;stroke-linejoin:miter;stroke-width:2;\"/>\n   </g>\n   <g id=\"patch_380\">\n    <path clip-path=\"url(#p5a55f58d78)\" d=\"M 813.568048 375.2775 \nL 817.121514 375.2775 \nL 817.121514 375.2775 \nL 813.568048 375.2775 \nz\n\" style=\"fill:#ff0000;opacity:0.4;stroke:#ffffff;stroke-linejoin:miter;stroke-width:2;\"/>\n   </g>\n   <g id=\"patch_381\">\n    <path clip-path=\"url(#p5a55f58d78)\" d=\"M 817.121514 375.2775 \nL 820.67498 375.2775 \nL 820.67498 375.2775 \nL 817.121514 375.2775 \nz\n\" style=\"fill:#ff0000;opacity:0.4;stroke:#ffffff;stroke-linejoin:miter;stroke-width:2;\"/>\n   </g>\n   <g id=\"patch_382\">\n    <path clip-path=\"url(#p5a55f58d78)\" d=\"M 820.67498 375.2775 \nL 824.228446 375.2775 \nL 824.228446 375.2775 \nL 820.67498 375.2775 \nz\n\" style=\"fill:#ff0000;opacity:0.4;stroke:#ffffff;stroke-linejoin:miter;stroke-width:2;\"/>\n   </g>\n   <g id=\"patch_383\">\n    <path clip-path=\"url(#p5a55f58d78)\" d=\"M 824.228446 375.2775 \nL 827.781913 375.2775 \nL 827.781913 375.2775 \nL 824.228446 375.2775 \nz\n\" style=\"fill:#ff0000;opacity:0.4;stroke:#ffffff;stroke-linejoin:miter;stroke-width:2;\"/>\n   </g>\n   <g id=\"patch_384\">\n    <path clip-path=\"url(#p5a55f58d78)\" d=\"M 827.781913 375.2775 \nL 831.335379 375.2775 \nL 831.335379 375.2775 \nL 827.781913 375.2775 \nz\n\" style=\"fill:#ff0000;opacity:0.4;stroke:#ffffff;stroke-linejoin:miter;stroke-width:2;\"/>\n   </g>\n   <g id=\"patch_385\">\n    <path clip-path=\"url(#p5a55f58d78)\" d=\"M 831.335379 375.2775 \nL 834.888845 375.2775 \nL 834.888845 375.2775 \nL 831.335379 375.2775 \nz\n\" style=\"fill:#ff0000;opacity:0.4;stroke:#ffffff;stroke-linejoin:miter;stroke-width:2;\"/>\n   </g>\n   <g id=\"patch_386\">\n    <path clip-path=\"url(#p5a55f58d78)\" d=\"M 834.888845 375.2775 \nL 838.442311 375.2775 \nL 838.442311 375.2775 \nL 834.888845 375.2775 \nz\n\" style=\"fill:#ff0000;opacity:0.4;stroke:#ffffff;stroke-linejoin:miter;stroke-width:2;\"/>\n   </g>\n   <g id=\"patch_387\">\n    <path clip-path=\"url(#p5a55f58d78)\" d=\"M 838.442311 375.2775 \nL 841.995777 375.2775 \nL 841.995777 375.2775 \nL 838.442311 375.2775 \nz\n\" style=\"fill:#ff0000;opacity:0.4;stroke:#ffffff;stroke-linejoin:miter;stroke-width:2;\"/>\n   </g>\n   <g id=\"patch_388\">\n    <path clip-path=\"url(#p5a55f58d78)\" d=\"M 841.995777 375.2775 \nL 845.549243 375.2775 \nL 845.549243 375.2775 \nL 841.995777 375.2775 \nz\n\" style=\"fill:#ff0000;opacity:0.4;stroke:#ffffff;stroke-linejoin:miter;stroke-width:2;\"/>\n   </g>\n   <g id=\"patch_389\">\n    <path clip-path=\"url(#p5a55f58d78)\" d=\"M 845.549243 375.2775 \nL 849.102709 375.2775 \nL 849.102709 375.2775 \nL 845.549243 375.2775 \nz\n\" style=\"fill:#ff0000;opacity:0.4;stroke:#ffffff;stroke-linejoin:miter;stroke-width:2;\"/>\n   </g>\n   <g id=\"patch_390\">\n    <path clip-path=\"url(#p5a55f58d78)\" d=\"M 849.102709 375.2775 \nL 852.656175 375.2775 \nL 852.656175 375.2775 \nL 849.102709 375.2775 \nz\n\" style=\"fill:#ff0000;opacity:0.4;stroke:#ffffff;stroke-linejoin:miter;stroke-width:2;\"/>\n   </g>\n   <g id=\"patch_391\">\n    <path clip-path=\"url(#p5a55f58d78)\" d=\"M 852.656175 375.2775 \nL 856.209642 375.2775 \nL 856.209642 375.2775 \nL 852.656175 375.2775 \nz\n\" style=\"fill:#ff0000;opacity:0.4;stroke:#ffffff;stroke-linejoin:miter;stroke-width:2;\"/>\n   </g>\n   <g id=\"patch_392\">\n    <path clip-path=\"url(#p5a55f58d78)\" d=\"M 856.209642 375.2775 \nL 859.763108 375.2775 \nL 859.763108 375.2775 \nL 856.209642 375.2775 \nz\n\" style=\"fill:#ff0000;opacity:0.4;stroke:#ffffff;stroke-linejoin:miter;stroke-width:2;\"/>\n   </g>\n   <g id=\"patch_393\">\n    <path clip-path=\"url(#p5a55f58d78)\" d=\"M 859.763108 375.2775 \nL 863.316574 375.2775 \nL 863.316574 375.2775 \nL 859.763108 375.2775 \nz\n\" style=\"fill:#ff0000;opacity:0.4;stroke:#ffffff;stroke-linejoin:miter;stroke-width:2;\"/>\n   </g>\n   <g id=\"patch_394\">\n    <path clip-path=\"url(#p5a55f58d78)\" d=\"M 863.316574 375.2775 \nL 866.87004 375.2775 \nL 866.87004 375.2775 \nL 863.316574 375.2775 \nz\n\" style=\"fill:#ff0000;opacity:0.4;stroke:#ffffff;stroke-linejoin:miter;stroke-width:2;\"/>\n   </g>\n   <g id=\"patch_395\">\n    <path clip-path=\"url(#p5a55f58d78)\" d=\"M 866.87004 375.2775 \nL 870.423506 375.2775 \nL 870.423506 375.2775 \nL 866.87004 375.2775 \nz\n\" style=\"fill:#ff0000;opacity:0.4;stroke:#ffffff;stroke-linejoin:miter;stroke-width:2;\"/>\n   </g>\n   <g id=\"patch_396\">\n    <path clip-path=\"url(#p5a55f58d78)\" d=\"M 870.423506 375.2775 \nL 873.976972 375.2775 \nL 873.976972 375.2775 \nL 870.423506 375.2775 \nz\n\" style=\"fill:#ff0000;opacity:0.4;stroke:#ffffff;stroke-linejoin:miter;stroke-width:2;\"/>\n   </g>\n   <g id=\"patch_397\">\n    <path clip-path=\"url(#p5a55f58d78)\" d=\"M 873.976972 375.2775 \nL 877.530438 375.2775 \nL 877.530438 375.2775 \nL 873.976972 375.2775 \nz\n\" style=\"fill:#ff0000;opacity:0.4;stroke:#ffffff;stroke-linejoin:miter;stroke-width:2;\"/>\n   </g>\n   <g id=\"patch_398\">\n    <path clip-path=\"url(#p5a55f58d78)\" d=\"M 877.530438 375.2775 \nL 881.083905 375.2775 \nL 881.083905 375.2775 \nL 877.530438 375.2775 \nz\n\" style=\"fill:#ff0000;opacity:0.4;stroke:#ffffff;stroke-linejoin:miter;stroke-width:2;\"/>\n   </g>\n   <g id=\"patch_399\">\n    <path clip-path=\"url(#p5a55f58d78)\" d=\"M 881.083905 375.2775 \nL 884.637371 375.2775 \nL 884.637371 375.2775 \nL 881.083905 375.2775 \nz\n\" style=\"fill:#ff0000;opacity:0.4;stroke:#ffffff;stroke-linejoin:miter;stroke-width:2;\"/>\n   </g>\n   <g id=\"patch_400\">\n    <path clip-path=\"url(#p5a55f58d78)\" d=\"M 884.637371 375.2775 \nL 888.190837 375.2775 \nL 888.190837 375.2775 \nL 884.637371 375.2775 \nz\n\" style=\"fill:#ff0000;opacity:0.4;stroke:#ffffff;stroke-linejoin:miter;stroke-width:2;\"/>\n   </g>\n   <g id=\"patch_401\">\n    <path clip-path=\"url(#p5a55f58d78)\" d=\"M 888.190837 375.2775 \nL 891.744303 375.2775 \nL 891.744303 375.2775 \nL 888.190837 375.2775 \nz\n\" style=\"fill:#ff0000;opacity:0.4;stroke:#ffffff;stroke-linejoin:miter;stroke-width:2;\"/>\n   </g>\n   <g id=\"patch_402\">\n    <path clip-path=\"url(#p5a55f58d78)\" d=\"M 891.744303 375.2775 \nL 895.297769 375.2775 \nL 895.297769 375.16274 \nL 891.744303 375.16274 \nz\n\" style=\"fill:#ff0000;opacity:0.4;stroke:#ffffff;stroke-linejoin:miter;stroke-width:2;\"/>\n   </g>\n   <g id=\"line2d_15\">\n    <path clip-path=\"url(#p5a55f58d78)\" d=\"M 138.716974 375.167918 \nL 144.906136 374.898442 \nL 148.000717 374.610556 \nL 151.095298 374.146284 \nL 154.189879 373.42742 \nL 157.28446 372.359024 \nL 160.379041 370.835343 \nL 163.473622 368.750995 \nL 166.568203 366.017184 \nL 169.662784 362.581155 \nL 172.757365 358.445381 \nL 175.851946 353.681916 \nL 178.946527 348.437301 \nL 185.135688 337.404936 \nL 188.230269 332.154036 \nL 191.32485 327.432614 \nL 194.419431 323.454866 \nL 197.514012 320.368695 \nL 200.608593 318.248044 \nL 203.703174 317.096952 \nL 206.797755 316.861657 \nL 209.892336 317.445969 \nL 212.986917 318.725968 \nL 216.081498 320.562137 \nL 219.176079 322.809048 \nL 225.365241 327.974062 \nL 231.554402 333.248526 \nL 234.648983 335.719262 \nL 237.743564 338.020119 \nL 240.838145 340.134105 \nL 243.932726 342.058148 \nL 247.027307 343.796216 \nL 250.121888 345.354216 \nL 253.216469 346.737633 \nL 256.31105 347.951841 \nL 259.405631 349.004212 \nL 262.500212 349.906679 \nL 268.689374 351.341424 \nL 274.878535 352.466163 \nL 293.446021 355.456885 \nL 299.635183 356.091516 \nL 305.824345 356.315555 \nL 321.297249 356.302228 \nL 324.39183 356.519486 \nL 327.486411 356.866151 \nL 333.675573 357.914956 \nL 339.864735 359.293138 \nL 355.33764 363.003652 \nL 361.526802 364.270638 \nL 367.715963 365.290137 \nL 373.905125 366.054051 \nL 386.283449 367.18892 \nL 407.945516 369.157548 \nL 414.134677 369.25672 \nL 420.323839 369.038954 \nL 429.607582 368.613817 \nL 432.702163 368.600807 \nL 435.796744 368.69964 \nL 441.985906 369.242924 \nL 448.175068 370.114991 \nL 457.45881 371.484919 \nL 463.647972 372.181735 \nL 469.837134 372.666722 \nL 479.120877 373.089993 \nL 488.40462 373.258394 \nL 500.782944 373.242867 \nL 513.161267 372.995064 \nL 531.728753 372.380344 \nL 537.917915 372.510931 \nL 544.107077 372.915738 \nL 562.674562 374.473611 \nL 571.958305 374.84101 \nL 584.336629 375.038471 \nL 605.998695 375.115997 \nL 754.53858 375.277085 \nL 754.53858 375.277085 \n\" style=\"fill:none;stroke:#0000ff;stroke-linecap:round;stroke-width:3;\"/>\n   </g>\n   <g id=\"line2d_16\">\n    <path clip-path=\"url(#p5a55f58d78)\" d=\"M 143.948973 375.227277 \nL 151.908816 374.983512 \nL 155.888737 374.643325 \nL 159.868659 374.008829 \nL 163.84858 372.921283 \nL 167.828502 371.209196 \nL 171.808423 368.734724 \nL 175.788345 365.451344 \nL 179.768266 361.447956 \nL 183.748187 356.951821 \nL 191.70803 347.756498 \nL 195.687952 343.648433 \nL 199.667873 340.142416 \nL 203.647795 337.375491 \nL 207.627716 335.469732 \nL 211.607637 334.527619 \nL 215.587559 334.580939 \nL 219.56748 335.535366 \nL 223.547402 337.165129 \nL 231.507245 341.291929 \nL 235.487166 343.334075 \nL 239.467087 345.215977 \nL 243.447009 346.910181 \nL 247.42693 348.397803 \nL 251.406852 349.6413 \nL 255.386773 350.58723 \nL 259.366695 351.188157 \nL 263.346616 351.428132 \nL 267.326537 351.340594 \nL 275.28638 350.573815 \nL 279.266302 350.166035 \nL 283.246223 349.906609 \nL 287.226145 349.851379 \nL 295.185987 350.191083 \nL 299.165909 350.368644 \nL 303.14583 350.402359 \nL 307.125752 350.248528 \nL 319.065516 349.468122 \nL 323.045438 349.589537 \nL 327.025359 350.073348 \nL 331.00528 350.901712 \nL 334.985202 351.988499 \nL 354.884809 358.180778 \nL 358.86473 359.196837 \nL 362.844652 360.040137 \nL 366.824573 360.682966 \nL 370.804495 361.124963 \nL 378.764338 361.569803 \nL 386.72418 361.931726 \nL 390.704102 362.268924 \nL 394.684023 362.75292 \nL 406.623788 364.573824 \nL 410.603709 364.974984 \nL 414.58363 365.125899 \nL 418.563552 365.016433 \nL 430.503316 364.143693 \nL 434.483238 364.184061 \nL 438.463159 364.554398 \nL 442.44308 365.218938 \nL 454.382845 367.763222 \nL 458.362766 368.450695 \nL 466.322609 369.482957 \nL 478.262373 370.609747 \nL 486.222216 371.154841 \nL 494.182059 371.497918 \nL 502.141902 371.647401 \nL 506.121823 371.615406 \nL 510.101745 371.462994 \nL 514.081666 371.150629 \nL 518.061588 370.666758 \nL 530.001352 368.928331 \nL 533.981273 368.726754 \nL 537.961195 368.917812 \nL 541.941116 369.503269 \nL 545.921038 370.385219 \nL 553.880881 372.393087 \nL 557.860802 373.232347 \nL 561.840723 373.865666 \nL 565.820645 374.296599 \nL 569.800566 374.564723 \nL 577.760409 374.808292 \nL 593.680095 374.916233 \nL 637.459231 375.03804 \nL 665.318681 375.124618 \nL 713.077738 375.193037 \nL 812.575774 375.2775 \nL 935.953338 375.277367 \nL 935.953338 375.277367 \n\" style=\"fill:none;stroke:#ff0000;stroke-linecap:round;stroke-width:3;\"/>\n   </g>\n   <g id=\"patch_403\">\n    <path d=\"M 98.855156 375.2775 \nL 98.855156 25.3575 \n\" style=\"fill:none;stroke:#ffffff;stroke-linecap:square;stroke-linejoin:miter;stroke-width:1.875;\"/>\n   </g>\n   <g id=\"patch_404\">\n    <path d=\"M 975.815156 375.2775 \nL 975.815156 25.3575 \n\" style=\"fill:none;stroke:#ffffff;stroke-linecap:square;stroke-linejoin:miter;stroke-width:1.875;\"/>\n   </g>\n   <g id=\"patch_405\">\n    <path d=\"M 98.855156 375.2775 \nL 975.815156 375.2775 \n\" style=\"fill:none;stroke:#ffffff;stroke-linecap:square;stroke-linejoin:miter;stroke-width:1.875;\"/>\n   </g>\n   <g id=\"patch_406\">\n    <path d=\"M 98.855156 25.3575 \nL 975.815156 25.3575 \n\" style=\"fill:none;stroke:#ffffff;stroke-linecap:square;stroke-linejoin:miter;stroke-width:1.875;\"/>\n   </g>\n   <g id=\"text_17\">\n    <!-- Credit Limit by Default -->\n    <g style=\"fill:#262626;\" transform=\"translate(443.453906 19.3575)scale(0.16 -0.16)\">\n     <defs>\n      <path d=\"M 70.515625 19.28125 \nQ 67.28125 9.078125 59.6875 3.828125 \nQ 52.09375 -1.421875 40.484375 -1.421875 \nQ 33.34375 -1.421875 27.234375 1.015625 \nQ 21.140625 3.46875 16.40625 8.203125 \nQ 10.9375 13.671875 8.265625 20.625 \nQ 5.609375 27.59375 5.609375 36.375 \nQ 5.609375 53.375 15.421875 63.796875 \nQ 25.25 74.21875 41.3125 74.21875 \nQ 47.265625 74.21875 54 72.65625 \nQ 60.75 71.09375 68.5 67.921875 \nL 68.5 51.125 \nL 62.984375 51.125 \nQ 61.1875 60.296875 55.734375 64.640625 \nQ 50.296875 69 40.484375 69 \nQ 28.8125 69 22.796875 60.71875 \nQ 16.796875 52.4375 16.796875 36.375 \nQ 16.796875 20.359375 22.796875 12.078125 \nQ 28.8125 3.8125 40.484375 3.8125 \nQ 48.640625 3.8125 53.90625 7.6875 \nQ 59.1875 11.578125 61.53125 19.28125 \nz\n\" id=\"DejaVuSerif-67\"/>\n      <path d=\"M 47.796875 52 \nL 47.796875 39.015625 \nL 42.625 39.015625 \nQ 42.390625 42.875 40.484375 44.78125 \nQ 38.578125 46.6875 34.90625 46.6875 \nQ 28.265625 46.6875 24.71875 42.09375 \nQ 21.1875 37.5 21.1875 28.90625 \nL 21.1875 5.171875 \nL 31.59375 5.171875 \nL 31.59375 0 \nL 4.109375 0 \nL 4.109375 5.171875 \nL 12.203125 5.171875 \nL 12.203125 46.78125 \nL 3.609375 46.78125 \nL 3.609375 51.90625 \nL 21.1875 51.90625 \nL 21.1875 42.671875 \nQ 23.828125 48.09375 27.96875 50.703125 \nQ 32.125 53.328125 38.09375 53.328125 \nQ 40.28125 53.328125 42.703125 52.984375 \nQ 45.125 52.640625 47.796875 52 \nz\n\" id=\"DejaVuSerif-114\"/>\n      <path d=\"M 52.484375 5.171875 \nL 61.078125 5.171875 \nL 61.078125 0 \nL 43.5 0 \nL 43.5 8.109375 \nQ 40.875 3.21875 36.796875 0.890625 \nQ 32.71875 -1.421875 26.703125 -1.421875 \nQ 17.140625 -1.421875 11.0625 6.171875 \nQ 4.984375 13.765625 4.984375 25.984375 \nQ 4.984375 38.1875 11.03125 45.75 \nQ 17.09375 53.328125 26.703125 53.328125 \nQ 32.71875 53.328125 36.796875 51 \nQ 40.875 48.6875 43.5 43.796875 \nL 43.5 70.796875 \nL 35.015625 70.796875 \nL 35.015625 75.984375 \nL 52.484375 75.984375 \nz\nM 43.5 23.390625 \nL 43.5 28.515625 \nQ 43.5 37.84375 39.90625 42.765625 \nQ 36.328125 47.703125 29.5 47.703125 \nQ 22.5625 47.703125 19.015625 42.234375 \nQ 15.484375 36.765625 15.484375 25.984375 \nQ 15.484375 15.234375 19.015625 9.71875 \nQ 22.5625 4.203125 29.5 4.203125 \nQ 36.328125 4.203125 39.90625 9.109375 \nQ 43.5 14.015625 43.5 23.390625 \nz\n\" id=\"DejaVuSerif-100\"/>\n      <path id=\"DejaVuSerif-32\"/>\n      <path d=\"M 5.515625 0 \nL 5.515625 5.171875 \nL 14.796875 5.171875 \nL 14.796875 67.671875 \nL 5.515625 67.671875 \nL 5.515625 72.90625 \nL 33.984375 72.90625 \nL 33.984375 67.671875 \nL 24.703125 67.671875 \nL 24.703125 6 \nL 58.015625 6 \nL 58.015625 18.21875 \nL 64.015625 18.21875 \nL 64.015625 0 \nz\n\" id=\"DejaVuSerif-76\"/>\n      <path d=\"M 11.53125 5.171875 \nL 11.53125 70.796875 \nL 2.875 70.796875 \nL 2.875 75.984375 \nL 20.515625 75.984375 \nL 20.515625 43.796875 \nQ 23.140625 48.6875 27.21875 51 \nQ 31.296875 53.328125 37.3125 53.328125 \nQ 46.875 53.328125 52.921875 45.75 \nQ 58.984375 38.1875 58.984375 25.984375 \nQ 58.984375 13.765625 52.921875 6.171875 \nQ 46.875 -1.421875 37.3125 -1.421875 \nQ 31.296875 -1.421875 27.21875 0.890625 \nQ 23.140625 3.21875 20.515625 8.109375 \nL 20.515625 0 \nL 2.875 0 \nL 2.875 5.171875 \nz\nM 20.515625 23.390625 \nQ 20.515625 14.015625 24.09375 9.109375 \nQ 27.6875 4.203125 34.515625 4.203125 \nQ 41.40625 4.203125 44.9375 9.71875 \nQ 48.484375 15.234375 48.484375 25.984375 \nQ 48.484375 36.765625 44.9375 42.234375 \nQ 41.40625 47.703125 34.515625 47.703125 \nQ 27.6875 47.703125 24.09375 42.765625 \nQ 20.515625 37.84375 20.515625 28.515625 \nz\n\" id=\"DejaVuSerif-98\"/>\n      <path d=\"M 43.015625 63.71875 \nL 38.28125 63.71875 \nQ 38.234375 67.390625 36.203125 69.28125 \nQ 34.1875 71.1875 30.328125 71.1875 \nQ 25.296875 71.1875 23.234375 68.421875 \nQ 21.1875 65.671875 21.1875 58.59375 \nL 21.1875 51.90625 \nL 35.6875 51.90625 \nL 35.6875 46.6875 \nL 21.1875 46.6875 \nL 21.1875 5.171875 \nL 32.71875 5.171875 \nL 32.71875 0 \nL 3.609375 0 \nL 3.609375 5.171875 \nL 12.203125 5.171875 \nL 12.203125 46.6875 \nL 3.609375 46.6875 \nL 3.609375 51.90625 \nL 12.203125 51.90625 \nL 12.203125 58.40625 \nQ 12.203125 67.09375 16.71875 71.53125 \nQ 21.234375 75.984375 29.984375 75.984375 \nQ 33.25 75.984375 36.515625 75.390625 \nQ 39.796875 74.8125 43.015625 73.578125 \nz\n\" id=\"DejaVuSerif-102\"/>\n      <path d=\"M 39.796875 16.3125 \nL 39.796875 27.296875 \nL 28.21875 27.296875 \nQ 21.53125 27.296875 18.25 24.40625 \nQ 14.984375 21.53125 14.984375 15.578125 \nQ 14.984375 10.15625 18.296875 6.984375 \nQ 21.625 3.8125 27.296875 3.8125 \nQ 32.90625 3.8125 36.34375 7.28125 \nQ 39.796875 10.75 39.796875 16.3125 \nz\nM 48.78125 32.421875 \nL 48.78125 5.171875 \nL 56.78125 5.171875 \nL 56.78125 0 \nL 39.796875 0 \nL 39.796875 5.609375 \nQ 36.8125 2 32.90625 0.28125 \nQ 29 -1.421875 23.78125 -1.421875 \nQ 15.140625 -1.421875 10.0625 3.171875 \nQ 4.984375 7.765625 4.984375 15.578125 \nQ 4.984375 23.640625 10.796875 28.078125 \nQ 16.609375 32.515625 27.203125 32.515625 \nL 39.796875 32.515625 \nL 39.796875 36.078125 \nQ 39.796875 42 36.203125 45.234375 \nQ 32.625 48.484375 26.125 48.484375 \nQ 20.75 48.484375 17.578125 46.046875 \nQ 14.40625 43.609375 13.625 38.8125 \nL 8.984375 38.8125 \nL 8.984375 49.3125 \nQ 13.671875 51.3125 18.09375 52.3125 \nQ 22.515625 53.328125 26.703125 53.328125 \nQ 37.5 53.328125 43.140625 47.96875 \nQ 48.78125 42.625 48.78125 32.421875 \nz\n\" id=\"DejaVuSerif-97\"/>\n      <path d=\"M 35.40625 51.90625 \nL 52.203125 51.90625 \nL 52.203125 5.171875 \nL 60.6875 5.171875 \nL 60.6875 0 \nL 43.21875 0 \nL 43.21875 9.1875 \nQ 40.71875 4 36.765625 1.28125 \nQ 32.8125 -1.421875 27.59375 -1.421875 \nQ 18.953125 -1.421875 14.875 3.484375 \nQ 10.796875 8.40625 10.796875 18.890625 \nL 10.796875 46.6875 \nL 2.6875 46.6875 \nL 2.6875 51.90625 \nL 19.828125 51.90625 \nL 19.828125 21.6875 \nQ 19.828125 12.203125 22.140625 8.6875 \nQ 24.46875 5.171875 30.421875 5.171875 \nQ 36.671875 5.171875 39.9375 9.765625 \nQ 43.21875 14.359375 43.21875 23.09375 \nL 43.21875 46.6875 \nL 35.40625 46.6875 \nz\n\" id=\"DejaVuSerif-117\"/>\n     </defs>\n     <use xlink:href=\"#DejaVuSerif-67\"/>\n     <use x=\"76.513672\" xlink:href=\"#DejaVuSerif-114\"/>\n     <use x=\"124.316406\" xlink:href=\"#DejaVuSerif-101\"/>\n     <use x=\"183.496094\" xlink:href=\"#DejaVuSerif-100\"/>\n     <use x=\"247.509766\" xlink:href=\"#DejaVuSerif-105\"/>\n     <use x=\"279.492188\" xlink:href=\"#DejaVuSerif-116\"/>\n     <use x=\"319.677734\" xlink:href=\"#DejaVuSerif-32\"/>\n     <use x=\"351.464844\" xlink:href=\"#DejaVuSerif-76\"/>\n     <use x=\"417.871094\" xlink:href=\"#DejaVuSerif-105\"/>\n     <use x=\"449.853516\" xlink:href=\"#DejaVuSerif-109\"/>\n     <use x=\"544.677734\" xlink:href=\"#DejaVuSerif-105\"/>\n     <use x=\"576.660156\" xlink:href=\"#DejaVuSerif-116\"/>\n     <use x=\"616.845703\" xlink:href=\"#DejaVuSerif-32\"/>\n     <use x=\"648.632812\" xlink:href=\"#DejaVuSerif-98\"/>\n     <use x=\"712.646484\" xlink:href=\"#DejaVuSerif-121\"/>\n     <use x=\"769.140625\" xlink:href=\"#DejaVuSerif-32\"/>\n     <use x=\"800.927734\" xlink:href=\"#DejaVuSerif-68\"/>\n     <use x=\"881.103516\" xlink:href=\"#DejaVuSerif-101\"/>\n     <use x=\"940.283203\" xlink:href=\"#DejaVuSerif-102\"/>\n     <use x=\"977.294922\" xlink:href=\"#DejaVuSerif-97\"/>\n     <use x=\"1036.914062\" xlink:href=\"#DejaVuSerif-117\"/>\n     <use x=\"1101.318359\" xlink:href=\"#DejaVuSerif-108\"/>\n     <use x=\"1133.300781\" xlink:href=\"#DejaVuSerif-116\"/>\n    </g>\n   </g>\n   <g id=\"legend_1\">\n    <g id=\"patch_407\">\n     <path d=\"M 853.106719 141.76875 \nL 960.415156 141.76875 \nQ 964.815156 141.76875 964.815156 137.36875 \nL 964.815156 40.7575 \nQ 964.815156 36.3575 960.415156 36.3575 \nL 853.106719 36.3575 \nQ 848.706719 36.3575 848.706719 40.7575 \nL 848.706719 137.36875 \nQ 848.706719 141.76875 853.106719 141.76875 \nz\n\" style=\"fill:#ffffff;opacity:0.8;stroke:#cccccc;stroke-linejoin:miter;stroke-width:2;\"/>\n    </g>\n    <g id=\"text_18\">\n     <!-- default -->\n     <g style=\"fill:#262626;\" transform=\"translate(863.990312 63.39375)scale(0.24 -0.24)\">\n      <use xlink:href=\"#DejaVuSerif-100\"/>\n      <use x=\"64.013672\" xlink:href=\"#DejaVuSerif-101\"/>\n      <use x=\"123.193359\" xlink:href=\"#DejaVuSerif-102\"/>\n      <use x=\"160.205078\" xlink:href=\"#DejaVuSerif-97\"/>\n      <use x=\"219.824219\" xlink:href=\"#DejaVuSerif-117\"/>\n      <use x=\"284.228516\" xlink:href=\"#DejaVuSerif-108\"/>\n      <use x=\"316.210938\" xlink:href=\"#DejaVuSerif-116\"/>\n     </g>\n    </g>\n    <g id=\"patch_408\">\n     <path d=\"M 857.506719 96.101562 \nL 901.506719 96.101562 \nL 901.506719 80.701562 \nL 857.506719 80.701562 \nz\n\" style=\"fill:#0000ff;opacity:0.4;stroke:#ffffff;stroke-linejoin:miter;stroke-width:2;\"/>\n    </g>\n    <g id=\"text_19\">\n     <!-- No -->\n     <g style=\"fill:#262626;\" transform=\"translate(919.106719 96.101562)scale(0.22 -0.22)\">\n      <defs>\n       <path d=\"M 4.890625 0 \nL 4.890625 5.171875 \nL 14.703125 5.171875 \nL 14.703125 67.671875 \nL 4.890625 67.671875 \nL 4.890625 72.90625 \nL 23.578125 72.90625 \nL 67.28125 15.375 \nL 67.28125 67.671875 \nL 57.515625 67.671875 \nL 57.515625 72.90625 \nL 83.109375 72.90625 \nL 83.109375 67.671875 \nL 73.296875 67.671875 \nL 73.296875 -1.421875 \nL 67.390625 -1.421875 \nL 20.703125 60.015625 \nL 20.703125 5.171875 \nL 30.515625 5.171875 \nL 30.515625 0 \nz\n\" id=\"DejaVuSerif-78\"/>\n       <path d=\"M 30.078125 3.421875 \nQ 37.3125 3.421875 40.984375 9.125 \nQ 44.671875 14.84375 44.671875 25.984375 \nQ 44.671875 37.109375 40.984375 42.796875 \nQ 37.3125 48.484375 30.078125 48.484375 \nQ 22.859375 48.484375 19.171875 42.796875 \nQ 15.484375 37.109375 15.484375 25.984375 \nQ 15.484375 14.84375 19.1875 9.125 \nQ 22.90625 3.421875 30.078125 3.421875 \nz\nM 30.078125 -1.421875 \nQ 18.75 -1.421875 11.859375 6.078125 \nQ 4.984375 13.578125 4.984375 25.984375 \nQ 4.984375 38.375 11.84375 45.84375 \nQ 18.703125 53.328125 30.078125 53.328125 \nQ 41.453125 53.328125 48.3125 45.84375 \nQ 55.171875 38.375 55.171875 25.984375 \nQ 55.171875 13.578125 48.3125 6.078125 \nQ 41.453125 -1.421875 30.078125 -1.421875 \nz\n\" id=\"DejaVuSerif-111\"/>\n      </defs>\n      <use xlink:href=\"#DejaVuSerif-78\"/>\n      <use x=\"87.5\" xlink:href=\"#DejaVuSerif-111\"/>\n     </g>\n    </g>\n    <g id=\"patch_409\">\n     <path d=\"M 857.506719 128.393438 \nL 901.506719 128.393438 \nL 901.506719 112.993437 \nL 857.506719 112.993437 \nz\n\" style=\"fill:#ff0000;opacity:0.4;stroke:#ffffff;stroke-linejoin:miter;stroke-width:2;\"/>\n    </g>\n    <g id=\"text_20\">\n     <!-- Yes -->\n     <g style=\"fill:#262626;\" transform=\"translate(919.106719 128.393438)scale(0.22 -0.22)\">\n      <defs>\n       <path d=\"M 18.890625 0 \nL 18.890625 5.171875 \nL 28.21875 5.171875 \nL 28.21875 31.390625 \nL 5.71875 67.671875 \nL -1.125 67.671875 \nL -1.125 72.90625 \nL 25.984375 72.90625 \nL 25.984375 67.671875 \nL 17.484375 67.671875 \nL 35.6875 38.1875 \nL 53.90625 67.671875 \nL 45.703125 67.671875 \nL 45.703125 72.90625 \nL 66.890625 72.90625 \nL 66.890625 67.671875 \nL 60.015625 67.671875 \nL 38.09375 32.328125 \nL 38.09375 5.171875 \nL 47.40625 5.171875 \nL 47.40625 0 \nz\n\" id=\"DejaVuSerif-89\"/>\n      </defs>\n      <use xlink:href=\"#DejaVuSerif-89\"/>\n      <use x=\"57.265625\" xlink:href=\"#DejaVuSerif-101\"/>\n      <use x=\"116.445312\" xlink:href=\"#DejaVuSerif-115\"/>\n     </g>\n    </g>\n   </g>\n  </g>\n </g>\n <defs>\n  <clipPath id=\"p5a55f58d78\">\n   <rect height=\"349.92\" width=\"876.96\" x=\"98.855156\" y=\"25.3575\"/>\n  </clipPath>\n </defs>\n</svg>\n",
      "image/png": "[encoded data removed]"
     },
     "metadata": {}
    },
    {
     "output_type": "display_data",
     "data": {
      "text/plain": "<Figure size 432x288 with 0 Axes>"
     },
     "metadata": {}
    }
   ],
   "source": [
    "# sns.set_theme(style=\"darkgrid\", font='serif', context='talk')\n",
    "# class_0 = tr.loc[tr['default'] == 0][\"limit\"]\n",
    "# class_1 = tr.loc[tr['default'] == 1][\"limit\"]\n",
    "# plt.figure(figsize = (14,6))\n",
    "# plt.title('Credit Limit by Default', size=16)\n",
    "# sns.set_theme(style=\"darkgrid\", font='serif', context='poster')\n",
    "# sns.distplot(class_1, kde=True, bins=200, color=\"blue\", label=\"No\")\n",
    "# sns.distplot(class_0, kde=True, bins=200, color=\"red\", label=\"Yes\")\n",
    "# plt.legend(title = 'default', loc='upper right', facecolor='white')\n",
    "# plt.show()\n",
    "# plt.savefig(\"../images/credit_limit_by_default.png\")"
   ]
  },
  {
   "cell_type": "markdown",
   "metadata": {},
   "source": [
    "<img src=\"../images/credit_limit_by_default.png\">"
   ]
  },
  {
   "cell_type": "code",
   "execution_count": 29,
   "metadata": {},
   "outputs": [],
   "source": [
    "# sns.boxplot(x=\"gender\", hue=\"default\", y=\"limit\", data=tr, palette=\"tab10\")\n",
    "# plt.legend(bbox_to_anchor=(1.01, 1), borderaxespad=0)\n",
    "# plt.tight_layout()\n",
    "# plt.title(\"Gender vs. Credit Limit for Defaulters and Non-defaulters\", size=14)\n",
    "# plt.savefig(\"../images/boxplot4.png\")"
   ]
  },
  {
   "cell_type": "markdown",
   "metadata": {},
   "source": [
    "<img src=\"../images/boxplot4.png\">"
   ]
  },
  {
   "cell_type": "code",
   "execution_count": 30,
   "metadata": {},
   "outputs": [],
   "source": [
    "# sns.boxplot(x='education', hue='default', y='limit', data=tr, palette='tab10')\n",
    "# plt.legend(bbox_to_anchor=(1.01, 1), borderaxespad=0)\n",
    "# plt.tight_layout()\n",
    "# plt.title(\"Education vs. Credit Limit for Defaulters and Non-defaulters\", size=14)\n",
    "# plt.savefig(\"../images/boxplot5.png\")"
   ]
  },
  {
   "cell_type": "markdown",
   "metadata": {},
   "source": [
    "<img src=\"../images/boxplot5.png\">"
   ]
  },
  {
   "cell_type": "code",
   "execution_count": 31,
   "metadata": {},
   "outputs": [],
   "source": [
    "# sns.boxplot(x='marriage', hue='default', y='limit', data=tr, palette='tab10')\n",
    "# plt.legend(bbox_to_anchor=(1.01, 1), borderaxespad=0)\n",
    "# plt.tight_layout()\n",
    "# plt.title(\"Marriage Status vs. Credit Limit for Defaulters and Non-defaulters\", size=14)\n",
    "# plt.savefig(\"../images/boxplot6.png\")"
   ]
  },
  {
   "cell_type": "markdown",
   "metadata": {},
   "source": [
    "<img src=\"../images/boxplot6.png\">"
   ]
  },
  {
   "cell_type": "code",
   "execution_count": 32,
   "metadata": {},
   "outputs": [
    {
     "output_type": "execute_result",
     "data": {
      "text/plain": [
       "default      0     1\n",
       "gender              \n",
       "1         6272  2019\n",
       "2        10072  2637"
      ],
      "text/html": "<div>\n<style scoped>\n    .dataframe tbody tr th:only-of-type {\n        vertical-align: middle;\n    }\n\n    .dataframe tbody tr th {\n        vertical-align: top;\n    }\n\n    .dataframe thead th {\n        text-align: right;\n    }\n</style>\n<table border=\"1\" class=\"dataframe\">\n  <thead>\n    <tr style=\"text-align: right;\">\n      <th>default</th>\n      <th>0</th>\n      <th>1</th>\n    </tr>\n    <tr>\n      <th>gender</th>\n      <th></th>\n      <th></th>\n    </tr>\n  </thead>\n  <tbody>\n    <tr>\n      <th>1</th>\n      <td>6272</td>\n      <td>2019</td>\n    </tr>\n    <tr>\n      <th>2</th>\n      <td>10072</td>\n      <td>2637</td>\n    </tr>\n  </tbody>\n</table>\n</div>"
     },
     "metadata": {},
     "execution_count": 32
    }
   ],
   "source": [
    "sex = tr.groupby(['gender', 'default']).size().unstack(1)\n",
    "sex"
   ]
  },
  {
   "cell_type": "code",
   "execution_count": 33,
   "metadata": {},
   "outputs": [],
   "source": [
    "# sns.set_theme(style=\"darkgrid\", font='serif', context='poster')\n",
    "# sex.plot(kind=\"bar\", stacked=True)\n",
    "# plt.legend(bbox_to_anchor=(1.01, 1), borderaxespad=0)\n",
    "# plt.title(\"Distribution Count for Gender and Default Status\",size=14)\n",
    "# plt.savefig(\"../images/stacked_bar.png\")"
   ]
  },
  {
   "cell_type": "markdown",
   "metadata": {},
   "source": [
    "<img src=\"../images/stacked_bar.png\">"
   ]
  },
  {
   "cell_type": "code",
   "execution_count": 34,
   "metadata": {},
   "outputs": [],
   "source": [
    "# sns.set_theme(style=\"darkgrid\", font='serif', context='talk')\n",
    "# sns.boxplot(x='default', y='age', data=tr, palette='tab10')\n",
    "# plt.title(\"Distribution of Default Status by Age\", size=14)\n",
    "# plt.savefig(\"../images/boxplot1.png\")"
   ]
  },
  {
   "cell_type": "markdown",
   "metadata": {},
   "source": [
    "<img src=\"../images/boxplot1.png\">"
   ]
  },
  {
   "cell_type": "code",
   "execution_count": 35,
   "metadata": {},
   "outputs": [
    {
     "output_type": "execute_result",
     "data": {
      "text/plain": [
       "default       0     1\n",
       "education            \n",
       "1          6013  1424\n",
       "2          7408  2341\n",
       "3          2626   866\n",
       "4           297    25"
      ],
      "text/html": "<div>\n<style scoped>\n    .dataframe tbody tr th:only-of-type {\n        vertical-align: middle;\n    }\n\n    .dataframe tbody tr th {\n        vertical-align: top;\n    }\n\n    .dataframe thead th {\n        text-align: right;\n    }\n</style>\n<table border=\"1\" class=\"dataframe\">\n  <thead>\n    <tr style=\"text-align: right;\">\n      <th>default</th>\n      <th>0</th>\n      <th>1</th>\n    </tr>\n    <tr>\n      <th>education</th>\n      <th></th>\n      <th></th>\n    </tr>\n  </thead>\n  <tbody>\n    <tr>\n      <th>1</th>\n      <td>6013</td>\n      <td>1424</td>\n    </tr>\n    <tr>\n      <th>2</th>\n      <td>7408</td>\n      <td>2341</td>\n    </tr>\n    <tr>\n      <th>3</th>\n      <td>2626</td>\n      <td>866</td>\n    </tr>\n    <tr>\n      <th>4</th>\n      <td>297</td>\n      <td>25</td>\n    </tr>\n  </tbody>\n</table>\n</div>"
     },
     "metadata": {},
     "execution_count": 35
    }
   ],
   "source": [
    "education = tr.groupby(['education', 'default']).size().unstack(1)\n",
    "education"
   ]
  },
  {
   "cell_type": "code",
   "execution_count": 36,
   "metadata": {},
   "outputs": [],
   "source": [
    "# education.plot(kind=\"bar\", stacked=True)\n",
    "# plt.title(\"Distribution Count of Educational Level and Default Status\", size=14)\n",
    "# plt.savefig(\"../data/stacked_bar2.png\")"
   ]
  },
  {
   "cell_type": "markdown",
   "metadata": {},
   "source": [
    "<img src=\"../images/stacked_bar2.png\">"
   ]
  },
  {
   "cell_type": "code",
   "execution_count": 37,
   "metadata": {},
   "outputs": [],
   "source": [
    "# sns.boxplot(x='default', y='age', hue='education', data=tr, palette='tab10')\n",
    "# plt.legend(bbox_to_anchor=(1.01, 1), borderaxespad=0)\n",
    "# plt.tight_layout()\n",
    "# plt.title(\"Default Status vs. Age for Different Educational Status\", size=14)\n",
    "# plt.savefig(\"../images/boxplot3.png\")"
   ]
  },
  {
   "cell_type": "markdown",
   "metadata": {},
   "source": [
    "<img src=\"../images/boxplot3.png\">"
   ]
  },
  {
   "cell_type": "code",
   "execution_count": 38,
   "metadata": {},
   "outputs": [
    {
     "output_type": "execute_result",
     "data": {
      "text/plain": [
       "default      0     1\n",
       "marriage            \n",
       "1         7354  2258\n",
       "2         8778  2336\n",
       "3          212    62"
      ],
      "text/html": "<div>\n<style scoped>\n    .dataframe tbody tr th:only-of-type {\n        vertical-align: middle;\n    }\n\n    .dataframe tbody tr th {\n        vertical-align: top;\n    }\n\n    .dataframe thead th {\n        text-align: right;\n    }\n</style>\n<table border=\"1\" class=\"dataframe\">\n  <thead>\n    <tr style=\"text-align: right;\">\n      <th>default</th>\n      <th>0</th>\n      <th>1</th>\n    </tr>\n    <tr>\n      <th>marriage</th>\n      <th></th>\n      <th></th>\n    </tr>\n  </thead>\n  <tbody>\n    <tr>\n      <th>1</th>\n      <td>7354</td>\n      <td>2258</td>\n    </tr>\n    <tr>\n      <th>2</th>\n      <td>8778</td>\n      <td>2336</td>\n    </tr>\n    <tr>\n      <th>3</th>\n      <td>212</td>\n      <td>62</td>\n    </tr>\n  </tbody>\n</table>\n</div>"
     },
     "metadata": {},
     "execution_count": 38
    }
   ],
   "source": [
    "marriage = tr.groupby(['marriage', 'default']).size().unstack(1)\n",
    "marriage"
   ]
  },
  {
   "cell_type": "code",
   "execution_count": 39,
   "metadata": {},
   "outputs": [],
   "source": [
    "# sns.boxplot(x='default', y='age', hue='marriage', data=tr, palette='tab10')\n",
    "# plt.legend(bbox_to_anchor=(1.01, 1), borderaxespad=0)\n",
    "# plt.tight_layout()\n",
    "# plt.savefig(\"../images/boxplot2.png\")"
   ]
  },
  {
   "cell_type": "markdown",
   "metadata": {},
   "source": [
    "<img src=\"../images/boxplot2.png\">"
   ]
  },
  {
   "cell_type": "code",
   "execution_count": 40,
   "metadata": {},
   "outputs": [],
   "source": [
    "# marriage.plot(kind=\"bar\", stacked=True)\n",
    "# plt.title(\"Distribution of Default Status for Marital Status\", size=14)\n",
    "# plt.savefig(\"../images/stacked_bar3.png\")"
   ]
  },
  {
   "source": [
    "<img src=\"images/stacked_bar3.png\">"
   ],
   "cell_type": "markdown",
   "metadata": {}
  },
  {
   "cell_type": "code",
   "execution_count": 41,
   "metadata": {},
   "outputs": [],
   "source": [
    "# sns.set_theme(style=\"darkgrid\", font='serif', context='notebook')\n",
    "# g = sns.FacetGrid(tr, col='gender', row=\"marriage\", hue='default', sharey=False)\n",
    "# g.map(plt.hist, 'age', alpha=0.3, bins=50)\n",
    "# g.add_legend()\n",
    "# g.savefig(\"../images/marriage_gender.png\")"
   ]
  },
  {
   "cell_type": "markdown",
   "metadata": {},
   "source": [
    "<img src=\"../images/marriage_gender.png\">"
   ]
  },
  {
   "cell_type": "code",
   "execution_count": 42,
   "metadata": {},
   "outputs": [],
   "source": [
    "# sns.set_theme(style=\"darkgrid\", font='serif', context='talk')\n",
    "# g = sns.pairplot(tr[['gender', 'education', 'marriage', 'limit', 'age', 'default']], \n",
    "#              hue=\"default\", \n",
    "#              diag_kind=\"kde\",\n",
    "#              size=4);\n",
    "# g.savefig(\"../images/pairplot1.png\")"
   ]
  },
  {
   "cell_type": "markdown",
   "metadata": {},
   "source": [
    "<img src=\"../images/pairplot1.png\">"
   ]
  },
  {
   "cell_type": "code",
   "execution_count": 43,
   "metadata": {},
   "outputs": [],
   "source": [
    "# sns.set_theme(style=\"darkgrid\", font='serif', context='poster')\n",
    "# g = sns.pairplot(tr[['behind1', 'behind2', 'behind3', 'behind4', 'behind5', 'behind6', 'default']], \n",
    "#              hue=\"default\", \n",
    "#              diag_kind=\"kde\",\n",
    "#              size=4)\n",
    "# g.savefig(\"../images/pairplot2.png\")"
   ]
  },
  {
   "cell_type": "markdown",
   "metadata": {},
   "source": [
    "<img src=\"../images/pairplot2.png\">\n"
   ]
  },
  {
   "cell_type": "code",
   "execution_count": 44,
   "metadata": {},
   "outputs": [],
   "source": [
    "# plt.style.use(\"fivethirtyeight\")\n",
    "# sns.set_theme(style=\"darkgrid\", font='serif', context='poster')\n",
    "# g = sns.pairplot(tr[['billed1', 'billed2', 'billed3', 'billed4', 'billed5', 'billed6', 'default']], \n",
    "#              hue=\"default\", \n",
    "#              diag_kind=\"kde\",\n",
    "#              size=4)\n",
    "# g.savefig(\"../images/pairplot3.png\")"
   ]
  },
  {
   "cell_type": "markdown",
   "metadata": {},
   "source": [
    "<img src=\"../images/pairplot3.png\">"
   ]
  },
  {
   "cell_type": "code",
   "execution_count": 45,
   "metadata": {},
   "outputs": [],
   "source": [
    "# sns.set_theme(style=\"darkgrid\", font='serif', context='talk')\n",
    "# g = sns.pairplot(tr[['paid1', 'paid2', 'paid3', 'paid4', 'paid5', 'paid6', 'default']], \n",
    "#              hue=\"default\", \n",
    "#              diag_kind=\"kde\",\n",
    "#              size=4)\n",
    "# g.savefig(\"../images/pairplot4.png\")"
   ]
  },
  {
   "cell_type": "markdown",
   "metadata": {},
   "source": [
    "<img src=\"../images/pairplot4.png\">"
   ]
  },
  {
   "cell_type": "code",
   "execution_count": 46,
   "metadata": {},
   "outputs": [],
   "source": [
    "# plt.style.use(\"fivethirtyeight\")\n",
    "# sns.set_theme(style=\"darkgrid\", font='serif', context='paper')\n",
    "# plt.figure(figsize = (20,16))\n",
    "# plt.title('Pearson Correlation of Features', y = 1.05, size = 20)\n",
    "# # mask = np.zeros(tr.corr().shape, dtype=bool)\n",
    "# # mask[np.triu_indices(len(mask))] = True\n",
    "# g = sns.heatmap(tr.corr(), cmap='RdBu', annot=True, square=True, linecolor='white', linewidths=0.2, fmt=\".1f\")\n",
    "# plt.savefig(\"../images/correlation_matrix.png\")"
   ]
  },
  {
   "cell_type": "markdown",
   "metadata": {},
   "source": [
    "# <a id='7'>Feature Engineering</a>"
   ]
  },
  {
   "cell_type": "code",
   "execution_count": 47,
   "metadata": {},
   "outputs": [
    {
     "output_type": "execute_result",
     "data": {
      "text/plain": [
       "     limit  gender  education  marriage  age  behind1  behind2  behind3  \\\n",
       "0  1790.80       2          2         1   44        0        0        0   \n",
       "1  5730.56       2          3         1   46       -1       -1       -1   \n",
       "2  3581.60       2          2         1   47       -1       -1       -1   \n",
       "3  6088.72       2          2         1   29        0        0        0   \n",
       "4  5372.40       2          1         2   33       -2       -2       -2   \n",
       "\n",
       "   behind4  behind5  behind6  billed1  billed2  billed3  billed4  billed5  \\\n",
       "0        0        0        0  1632.42  1500.90  1278.74   800.85   847.37   \n",
       "1        0       -1       -1   891.96    83.74   173.92   147.81   143.08   \n",
       "2       -1       -1       -2   238.75   238.75     0.00   224.57   -14.18   \n",
       "3        0        0        0  2832.72  2241.18  2267.76  2288.75  1558.17   \n",
       "4       -2       -2       -2   873.66   961.55  1171.25  1198.37   995.68   \n",
       "\n",
       "   billed6   paid1    paid2    paid3   paid4   paid5    paid6  default  \n",
       "0   982.11  108.02   179.19   107.45  107.45  179.08    33.09        0  \n",
       "1    30.16   83.92   173.92    35.82  143.08   30.16   942.43        0  \n",
       "2   -14.18  238.75     0.00   224.57    0.00    0.00     0.00        1  \n",
       "3  1575.72   80.05    89.29    92.58   60.28   68.09    75.61        0  \n",
       "4    80.98  967.28  1171.72  1198.94  995.97   80.98  6069.55        0  "
      ],
      "text/html": "<div>\n<style scoped>\n    .dataframe tbody tr th:only-of-type {\n        vertical-align: middle;\n    }\n\n    .dataframe tbody tr th {\n        vertical-align: top;\n    }\n\n    .dataframe thead th {\n        text-align: right;\n    }\n</style>\n<table border=\"1\" class=\"dataframe\">\n  <thead>\n    <tr style=\"text-align: right;\">\n      <th></th>\n      <th>limit</th>\n      <th>gender</th>\n      <th>education</th>\n      <th>marriage</th>\n      <th>age</th>\n      <th>behind1</th>\n      <th>behind2</th>\n      <th>behind3</th>\n      <th>behind4</th>\n      <th>behind5</th>\n      <th>behind6</th>\n      <th>billed1</th>\n      <th>billed2</th>\n      <th>billed3</th>\n      <th>billed4</th>\n      <th>billed5</th>\n      <th>billed6</th>\n      <th>paid1</th>\n      <th>paid2</th>\n      <th>paid3</th>\n      <th>paid4</th>\n      <th>paid5</th>\n      <th>paid6</th>\n      <th>default</th>\n    </tr>\n  </thead>\n  <tbody>\n    <tr>\n      <th>0</th>\n      <td>1790.80</td>\n      <td>2</td>\n      <td>2</td>\n      <td>1</td>\n      <td>44</td>\n      <td>0</td>\n      <td>0</td>\n      <td>0</td>\n      <td>0</td>\n      <td>0</td>\n      <td>0</td>\n      <td>1632.42</td>\n      <td>1500.90</td>\n      <td>1278.74</td>\n      <td>800.85</td>\n      <td>847.37</td>\n      <td>982.11</td>\n      <td>108.02</td>\n      <td>179.19</td>\n      <td>107.45</td>\n      <td>107.45</td>\n      <td>179.08</td>\n      <td>33.09</td>\n      <td>0</td>\n    </tr>\n    <tr>\n      <th>1</th>\n      <td>5730.56</td>\n      <td>2</td>\n      <td>3</td>\n      <td>1</td>\n      <td>46</td>\n      <td>-1</td>\n      <td>-1</td>\n      <td>-1</td>\n      <td>0</td>\n      <td>-1</td>\n      <td>-1</td>\n      <td>891.96</td>\n      <td>83.74</td>\n      <td>173.92</td>\n      <td>147.81</td>\n      <td>143.08</td>\n      <td>30.16</td>\n      <td>83.92</td>\n      <td>173.92</td>\n      <td>35.82</td>\n      <td>143.08</td>\n      <td>30.16</td>\n      <td>942.43</td>\n      <td>0</td>\n    </tr>\n    <tr>\n      <th>2</th>\n      <td>3581.60</td>\n      <td>2</td>\n      <td>2</td>\n      <td>1</td>\n      <td>47</td>\n      <td>-1</td>\n      <td>-1</td>\n      <td>-1</td>\n      <td>-1</td>\n      <td>-1</td>\n      <td>-2</td>\n      <td>238.75</td>\n      <td>238.75</td>\n      <td>0.00</td>\n      <td>224.57</td>\n      <td>-14.18</td>\n      <td>-14.18</td>\n      <td>238.75</td>\n      <td>0.00</td>\n      <td>224.57</td>\n      <td>0.00</td>\n      <td>0.00</td>\n      <td>0.00</td>\n      <td>1</td>\n    </tr>\n    <tr>\n      <th>3</th>\n      <td>6088.72</td>\n      <td>2</td>\n      <td>2</td>\n      <td>1</td>\n      <td>29</td>\n      <td>0</td>\n      <td>0</td>\n      <td>0</td>\n      <td>0</td>\n      <td>0</td>\n      <td>0</td>\n      <td>2832.72</td>\n      <td>2241.18</td>\n      <td>2267.76</td>\n      <td>2288.75</td>\n      <td>1558.17</td>\n      <td>1575.72</td>\n      <td>80.05</td>\n      <td>89.29</td>\n      <td>92.58</td>\n      <td>60.28</td>\n      <td>68.09</td>\n      <td>75.61</td>\n      <td>0</td>\n    </tr>\n    <tr>\n      <th>4</th>\n      <td>5372.40</td>\n      <td>2</td>\n      <td>1</td>\n      <td>2</td>\n      <td>33</td>\n      <td>-2</td>\n      <td>-2</td>\n      <td>-2</td>\n      <td>-2</td>\n      <td>-2</td>\n      <td>-2</td>\n      <td>873.66</td>\n      <td>961.55</td>\n      <td>1171.25</td>\n      <td>1198.37</td>\n      <td>995.68</td>\n      <td>80.98</td>\n      <td>967.28</td>\n      <td>1171.72</td>\n      <td>1198.94</td>\n      <td>995.97</td>\n      <td>80.98</td>\n      <td>6069.55</td>\n      <td>0</td>\n    </tr>\n  </tbody>\n</table>\n</div>"
     },
     "metadata": {},
     "execution_count": 47
    }
   ],
   "source": [
    "tr.head()"
   ]
  },
  {
   "cell_type": "code",
   "execution_count": 48,
   "metadata": {},
   "outputs": [],
   "source": [
    "\n"
   ]
  },
  {
   "cell_type": "code",
   "execution_count": 49,
   "metadata": {},
   "outputs": [
    {
     "output_type": "execute_result",
     "data": {
      "text/plain": [
       "     limit  gender  education  marriage  age  behind1  behind2  behind3  \\\n",
       "0  1790.80       2          2         1   44        0        0        0   \n",
       "1  5730.56       2          3         1   46       -1       -1       -1   \n",
       "2  3581.60       2          2         1   47       -1       -1       -1   \n",
       "3  6088.72       2          2         1   29        0        0        0   \n",
       "4  5372.40       2          1         2   33       -2       -2       -2   \n",
       "\n",
       "   behind4  behind5  behind6  billed1  billed2  billed3  billed4  billed5  \\\n",
       "0        0        0        0  1632.42  1500.90  1278.74   800.85   847.37   \n",
       "1        0       -1       -1   891.96    83.74   173.92   147.81   143.08   \n",
       "2       -1       -1       -2   238.75   238.75     0.00   224.57   -14.18   \n",
       "3        0        0        0  2832.72  2241.18  2267.76  2288.75  1558.17   \n",
       "4       -2       -2       -2   873.66   961.55  1171.25  1198.37   995.68   \n",
       "\n",
       "   billed6   paid1    paid2    paid3   paid4   paid5    paid6  default  \\\n",
       "0   982.11  108.02   179.19   107.45  107.45  179.08    33.09        0   \n",
       "1    30.16   83.92   173.92    35.82  143.08   30.16   942.43        0   \n",
       "2   -14.18  238.75     0.00   224.57    0.00    0.00     0.00        1   \n",
       "3  1575.72   80.05    89.29    92.58   60.28   68.09    75.61        0   \n",
       "4    80.98  967.28  1171.72  1198.94  995.97   80.98  6069.55        0   \n",
       "\n",
       "   age_bin  gen-mar  gen-age    avail6    avail5    avail4    avail3  \\\n",
       "0        2        3        4  0.451580  0.526820  0.552798  0.285939   \n",
       "1        2        3        4  0.994737  0.975032  0.974207  0.969650   \n",
       "2        2        3        4  1.003959  1.003959  0.937299  1.000000   \n",
       "3        1        3        3  0.741207  0.744089  0.624100  0.627547   \n",
       "4        2        4        4  0.984927  0.814668  0.776940  0.781988   \n",
       "\n",
       "     avail2    avail1    avg_av  delayed  latemths    pperb1    pperb2  \\\n",
       "0  0.161883  0.088441  0.344577        0         0  0.071970  0.140130   \n",
       "1  0.985387  0.844350  0.957227        0         0  1.002150  1.000000   \n",
       "2  0.933340  0.933340  0.968649        0         0  1.000000  0.000000   \n",
       "3  0.631913  0.534759  0.650603        0         0  0.035718  0.039374   \n",
       "4  0.821020  0.837380  0.836154        0         0  1.005959  1.000401   \n",
       "\n",
       "     pperb3    pperb4    pperb5  \n",
       "0  0.134170  0.126804  0.182342  \n",
       "1  0.242338  1.000000  1.000000  \n",
       "2  1.000000 -0.000000 -0.000000  \n",
       "3  0.040450  0.038686  0.043212  \n",
       "4  1.000476  1.000291  1.000000  "
      ],
      "text/html": "<div>\n<style scoped>\n    .dataframe tbody tr th:only-of-type {\n        vertical-align: middle;\n    }\n\n    .dataframe tbody tr th {\n        vertical-align: top;\n    }\n\n    .dataframe thead th {\n        text-align: right;\n    }\n</style>\n<table border=\"1\" class=\"dataframe\">\n  <thead>\n    <tr style=\"text-align: right;\">\n      <th></th>\n      <th>limit</th>\n      <th>gender</th>\n      <th>education</th>\n      <th>marriage</th>\n      <th>age</th>\n      <th>behind1</th>\n      <th>behind2</th>\n      <th>behind3</th>\n      <th>behind4</th>\n      <th>behind5</th>\n      <th>behind6</th>\n      <th>billed1</th>\n      <th>billed2</th>\n      <th>billed3</th>\n      <th>billed4</th>\n      <th>billed5</th>\n      <th>billed6</th>\n      <th>paid1</th>\n      <th>paid2</th>\n      <th>paid3</th>\n      <th>paid4</th>\n      <th>paid5</th>\n      <th>paid6</th>\n      <th>default</th>\n      <th>age_bin</th>\n      <th>gen-mar</th>\n      <th>gen-age</th>\n      <th>avail6</th>\n      <th>avail5</th>\n      <th>avail4</th>\n      <th>avail3</th>\n      <th>avail2</th>\n      <th>avail1</th>\n      <th>avg_av</th>\n      <th>delayed</th>\n      <th>latemths</th>\n      <th>pperb1</th>\n      <th>pperb2</th>\n      <th>pperb3</th>\n      <th>pperb4</th>\n      <th>pperb5</th>\n    </tr>\n  </thead>\n  <tbody>\n    <tr>\n      <th>0</th>\n      <td>1790.80</td>\n      <td>2</td>\n      <td>2</td>\n      <td>1</td>\n      <td>44</td>\n      <td>0</td>\n      <td>0</td>\n      <td>0</td>\n      <td>0</td>\n      <td>0</td>\n      <td>0</td>\n      <td>1632.42</td>\n      <td>1500.90</td>\n      <td>1278.74</td>\n      <td>800.85</td>\n      <td>847.37</td>\n      <td>982.11</td>\n      <td>108.02</td>\n      <td>179.19</td>\n      <td>107.45</td>\n      <td>107.45</td>\n      <td>179.08</td>\n      <td>33.09</td>\n      <td>0</td>\n      <td>2</td>\n      <td>3</td>\n      <td>4</td>\n      <td>0.451580</td>\n      <td>0.526820</td>\n      <td>0.552798</td>\n      <td>0.285939</td>\n      <td>0.161883</td>\n      <td>0.088441</td>\n      <td>0.344577</td>\n      <td>0</td>\n      <td>0</td>\n      <td>0.071970</td>\n      <td>0.140130</td>\n      <td>0.134170</td>\n      <td>0.126804</td>\n      <td>0.182342</td>\n    </tr>\n    <tr>\n      <th>1</th>\n      <td>5730.56</td>\n      <td>2</td>\n      <td>3</td>\n      <td>1</td>\n      <td>46</td>\n      <td>-1</td>\n      <td>-1</td>\n      <td>-1</td>\n      <td>0</td>\n      <td>-1</td>\n      <td>-1</td>\n      <td>891.96</td>\n      <td>83.74</td>\n      <td>173.92</td>\n      <td>147.81</td>\n      <td>143.08</td>\n      <td>30.16</td>\n      <td>83.92</td>\n      <td>173.92</td>\n      <td>35.82</td>\n      <td>143.08</td>\n      <td>30.16</td>\n      <td>942.43</td>\n      <td>0</td>\n      <td>2</td>\n      <td>3</td>\n      <td>4</td>\n      <td>0.994737</td>\n      <td>0.975032</td>\n      <td>0.974207</td>\n      <td>0.969650</td>\n      <td>0.985387</td>\n      <td>0.844350</td>\n      <td>0.957227</td>\n      <td>0</td>\n      <td>0</td>\n      <td>1.002150</td>\n      <td>1.000000</td>\n      <td>0.242338</td>\n      <td>1.000000</td>\n      <td>1.000000</td>\n    </tr>\n    <tr>\n      <th>2</th>\n      <td>3581.60</td>\n      <td>2</td>\n      <td>2</td>\n      <td>1</td>\n      <td>47</td>\n      <td>-1</td>\n      <td>-1</td>\n      <td>-1</td>\n      <td>-1</td>\n      <td>-1</td>\n      <td>-2</td>\n      <td>238.75</td>\n      <td>238.75</td>\n      <td>0.00</td>\n      <td>224.57</td>\n      <td>-14.18</td>\n      <td>-14.18</td>\n      <td>238.75</td>\n      <td>0.00</td>\n      <td>224.57</td>\n      <td>0.00</td>\n      <td>0.00</td>\n      <td>0.00</td>\n      <td>1</td>\n      <td>2</td>\n      <td>3</td>\n      <td>4</td>\n      <td>1.003959</td>\n      <td>1.003959</td>\n      <td>0.937299</td>\n      <td>1.000000</td>\n      <td>0.933340</td>\n      <td>0.933340</td>\n      <td>0.968649</td>\n      <td>0</td>\n      <td>0</td>\n      <td>1.000000</td>\n      <td>0.000000</td>\n      <td>1.000000</td>\n      <td>-0.000000</td>\n      <td>-0.000000</td>\n    </tr>\n    <tr>\n      <th>3</th>\n      <td>6088.72</td>\n      <td>2</td>\n      <td>2</td>\n      <td>1</td>\n      <td>29</td>\n      <td>0</td>\n      <td>0</td>\n      <td>0</td>\n      <td>0</td>\n      <td>0</td>\n      <td>0</td>\n      <td>2832.72</td>\n      <td>2241.18</td>\n      <td>2267.76</td>\n      <td>2288.75</td>\n      <td>1558.17</td>\n      <td>1575.72</td>\n      <td>80.05</td>\n      <td>89.29</td>\n      <td>92.58</td>\n      <td>60.28</td>\n      <td>68.09</td>\n      <td>75.61</td>\n      <td>0</td>\n      <td>1</td>\n      <td>3</td>\n      <td>3</td>\n      <td>0.741207</td>\n      <td>0.744089</td>\n      <td>0.624100</td>\n      <td>0.627547</td>\n      <td>0.631913</td>\n      <td>0.534759</td>\n      <td>0.650603</td>\n      <td>0</td>\n      <td>0</td>\n      <td>0.035718</td>\n      <td>0.039374</td>\n      <td>0.040450</td>\n      <td>0.038686</td>\n      <td>0.043212</td>\n    </tr>\n    <tr>\n      <th>4</th>\n      <td>5372.40</td>\n      <td>2</td>\n      <td>1</td>\n      <td>2</td>\n      <td>33</td>\n      <td>-2</td>\n      <td>-2</td>\n      <td>-2</td>\n      <td>-2</td>\n      <td>-2</td>\n      <td>-2</td>\n      <td>873.66</td>\n      <td>961.55</td>\n      <td>1171.25</td>\n      <td>1198.37</td>\n      <td>995.68</td>\n      <td>80.98</td>\n      <td>967.28</td>\n      <td>1171.72</td>\n      <td>1198.94</td>\n      <td>995.97</td>\n      <td>80.98</td>\n      <td>6069.55</td>\n      <td>0</td>\n      <td>2</td>\n      <td>4</td>\n      <td>4</td>\n      <td>0.984927</td>\n      <td>0.814668</td>\n      <td>0.776940</td>\n      <td>0.781988</td>\n      <td>0.821020</td>\n      <td>0.837380</td>\n      <td>0.836154</td>\n      <td>0</td>\n      <td>0</td>\n      <td>1.005959</td>\n      <td>1.000401</td>\n      <td>1.000476</td>\n      <td>1.000291</td>\n      <td>1.000000</td>\n    </tr>\n  </tbody>\n</table>\n</div>"
     },
     "metadata": {},
     "execution_count": 49
    }
   ],
   "source": [
    "tr.head()"
   ]
  },
  {
   "cell_type": "code",
   "execution_count": 50,
   "metadata": {},
   "outputs": [],
   "source": [
    "# plt.style.use(\"fivethirtyeight\")\n",
    "# sns.set_theme(style=\"darkgrid\", font='serif', context='paper')\n",
    "# plt.figure(figsize = (20,16))\n",
    "# plt.title('Pearson Correlation of Features', y = 1.05, size = 20)\n",
    "# g = sns.heatmap(tr.corr(), cmap='RdBu', square=True, linecolor='white', linewidths=0.2)\n",
    "# plt.savefig(\"../images/correlation_matrix_2.png\")\n"
   ]
  },
  {
   "cell_type": "markdown",
   "metadata": {},
   "source": [
    "<img src=\"../images/correlation_matrix_2.png\">"
   ]
  },
  {
   "cell_type": "code",
   "execution_count": 51,
   "metadata": {},
   "outputs": [
    {
     "output_type": "execute_result",
     "data": {
      "text/plain": [
       "     limit  gender  education  marriage  age  behind1  behind2  behind3  \\\n",
       "0  1790.80       2          2         1   44        0        0        0   \n",
       "1  5730.56       2          3         1   46       -1       -1       -1   \n",
       "2  3581.60       2          2         1   47       -1       -1       -1   \n",
       "3  6088.72       2          2         1   29        0        0        0   \n",
       "4  5372.40       2          1         2   33       -2       -2       -2   \n",
       "\n",
       "   behind4  behind5  behind6  billed1  billed2  billed3  billed4  billed5  \\\n",
       "0        0        0        0  1632.42  1500.90  1278.74   800.85   847.37   \n",
       "1        0       -1       -1   891.96    83.74   173.92   147.81   143.08   \n",
       "2       -1       -1       -2   238.75   238.75     0.00   224.57   -14.18   \n",
       "3        0        0        0  2832.72  2241.18  2267.76  2288.75  1558.17   \n",
       "4       -2       -2       -2   873.66   961.55  1171.25  1198.37   995.68   \n",
       "\n",
       "   billed6   paid1    paid2    paid3   paid4   paid5    paid6  default  \\\n",
       "0   982.11  108.02   179.19   107.45  107.45  179.08    33.09        0   \n",
       "1    30.16   83.92   173.92    35.82  143.08   30.16   942.43        0   \n",
       "2   -14.18  238.75     0.00   224.57    0.00    0.00     0.00        1   \n",
       "3  1575.72   80.05    89.29    92.58   60.28   68.09    75.61        0   \n",
       "4    80.98  967.28  1171.72  1198.94  995.97   80.98  6069.55        0   \n",
       "\n",
       "   age_bin  gen-mar  gen-age    avail6    avail5    avail4    avail3  \\\n",
       "0        2        3        4  0.451580  0.526820  0.552798  0.285939   \n",
       "1        2        3        4  0.994737  0.975032  0.974207  0.969650   \n",
       "2        2        3        4  1.003959  1.003959  0.937299  1.000000   \n",
       "3        1        3        3  0.741207  0.744089  0.624100  0.627547   \n",
       "4        2        4        4  0.984927  0.814668  0.776940  0.781988   \n",
       "\n",
       "     avail2    avail1    avg_av  delayed  latemths    pperb1    pperb2  \\\n",
       "0  0.161883  0.088441  0.344577        0         0  0.071970  0.140130   \n",
       "1  0.985387  0.844350  0.957227        0         0  1.002150  1.000000   \n",
       "2  0.933340  0.933340  0.968649        0         0  1.000000  0.000000   \n",
       "3  0.631913  0.534759  0.650603        0         0  0.035718  0.039374   \n",
       "4  0.821020  0.837380  0.836154        0         0  1.005959  1.000401   \n",
       "\n",
       "     pperb3    pperb4    pperb5  \n",
       "0  0.134170  0.126804  0.182342  \n",
       "1  0.242338  1.000000  1.000000  \n",
       "2  1.000000 -0.000000 -0.000000  \n",
       "3  0.040450  0.038686  0.043212  \n",
       "4  1.000476  1.000291  1.000000  "
      ],
      "text/html": "<div>\n<style scoped>\n    .dataframe tbody tr th:only-of-type {\n        vertical-align: middle;\n    }\n\n    .dataframe tbody tr th {\n        vertical-align: top;\n    }\n\n    .dataframe thead th {\n        text-align: right;\n    }\n</style>\n<table border=\"1\" class=\"dataframe\">\n  <thead>\n    <tr style=\"text-align: right;\">\n      <th></th>\n      <th>limit</th>\n      <th>gender</th>\n      <th>education</th>\n      <th>marriage</th>\n      <th>age</th>\n      <th>behind1</th>\n      <th>behind2</th>\n      <th>behind3</th>\n      <th>behind4</th>\n      <th>behind5</th>\n      <th>behind6</th>\n      <th>billed1</th>\n      <th>billed2</th>\n      <th>billed3</th>\n      <th>billed4</th>\n      <th>billed5</th>\n      <th>billed6</th>\n      <th>paid1</th>\n      <th>paid2</th>\n      <th>paid3</th>\n      <th>paid4</th>\n      <th>paid5</th>\n      <th>paid6</th>\n      <th>default</th>\n      <th>age_bin</th>\n      <th>gen-mar</th>\n      <th>gen-age</th>\n      <th>avail6</th>\n      <th>avail5</th>\n      <th>avail4</th>\n      <th>avail3</th>\n      <th>avail2</th>\n      <th>avail1</th>\n      <th>avg_av</th>\n      <th>delayed</th>\n      <th>latemths</th>\n      <th>pperb1</th>\n      <th>pperb2</th>\n      <th>pperb3</th>\n      <th>pperb4</th>\n      <th>pperb5</th>\n    </tr>\n  </thead>\n  <tbody>\n    <tr>\n      <th>0</th>\n      <td>1790.80</td>\n      <td>2</td>\n      <td>2</td>\n      <td>1</td>\n      <td>44</td>\n      <td>0</td>\n      <td>0</td>\n      <td>0</td>\n      <td>0</td>\n      <td>0</td>\n      <td>0</td>\n      <td>1632.42</td>\n      <td>1500.90</td>\n      <td>1278.74</td>\n      <td>800.85</td>\n      <td>847.37</td>\n      <td>982.11</td>\n      <td>108.02</td>\n      <td>179.19</td>\n      <td>107.45</td>\n      <td>107.45</td>\n      <td>179.08</td>\n      <td>33.09</td>\n      <td>0</td>\n      <td>2</td>\n      <td>3</td>\n      <td>4</td>\n      <td>0.451580</td>\n      <td>0.526820</td>\n      <td>0.552798</td>\n      <td>0.285939</td>\n      <td>0.161883</td>\n      <td>0.088441</td>\n      <td>0.344577</td>\n      <td>0</td>\n      <td>0</td>\n      <td>0.071970</td>\n      <td>0.140130</td>\n      <td>0.134170</td>\n      <td>0.126804</td>\n      <td>0.182342</td>\n    </tr>\n    <tr>\n      <th>1</th>\n      <td>5730.56</td>\n      <td>2</td>\n      <td>3</td>\n      <td>1</td>\n      <td>46</td>\n      <td>-1</td>\n      <td>-1</td>\n      <td>-1</td>\n      <td>0</td>\n      <td>-1</td>\n      <td>-1</td>\n      <td>891.96</td>\n      <td>83.74</td>\n      <td>173.92</td>\n      <td>147.81</td>\n      <td>143.08</td>\n      <td>30.16</td>\n      <td>83.92</td>\n      <td>173.92</td>\n      <td>35.82</td>\n      <td>143.08</td>\n      <td>30.16</td>\n      <td>942.43</td>\n      <td>0</td>\n      <td>2</td>\n      <td>3</td>\n      <td>4</td>\n      <td>0.994737</td>\n      <td>0.975032</td>\n      <td>0.974207</td>\n      <td>0.969650</td>\n      <td>0.985387</td>\n      <td>0.844350</td>\n      <td>0.957227</td>\n      <td>0</td>\n      <td>0</td>\n      <td>1.002150</td>\n      <td>1.000000</td>\n      <td>0.242338</td>\n      <td>1.000000</td>\n      <td>1.000000</td>\n    </tr>\n    <tr>\n      <th>2</th>\n      <td>3581.60</td>\n      <td>2</td>\n      <td>2</td>\n      <td>1</td>\n      <td>47</td>\n      <td>-1</td>\n      <td>-1</td>\n      <td>-1</td>\n      <td>-1</td>\n      <td>-1</td>\n      <td>-2</td>\n      <td>238.75</td>\n      <td>238.75</td>\n      <td>0.00</td>\n      <td>224.57</td>\n      <td>-14.18</td>\n      <td>-14.18</td>\n      <td>238.75</td>\n      <td>0.00</td>\n      <td>224.57</td>\n      <td>0.00</td>\n      <td>0.00</td>\n      <td>0.00</td>\n      <td>1</td>\n      <td>2</td>\n      <td>3</td>\n      <td>4</td>\n      <td>1.003959</td>\n      <td>1.003959</td>\n      <td>0.937299</td>\n      <td>1.000000</td>\n      <td>0.933340</td>\n      <td>0.933340</td>\n      <td>0.968649</td>\n      <td>0</td>\n      <td>0</td>\n      <td>1.000000</td>\n      <td>0.000000</td>\n      <td>1.000000</td>\n      <td>-0.000000</td>\n      <td>-0.000000</td>\n    </tr>\n    <tr>\n      <th>3</th>\n      <td>6088.72</td>\n      <td>2</td>\n      <td>2</td>\n      <td>1</td>\n      <td>29</td>\n      <td>0</td>\n      <td>0</td>\n      <td>0</td>\n      <td>0</td>\n      <td>0</td>\n      <td>0</td>\n      <td>2832.72</td>\n      <td>2241.18</td>\n      <td>2267.76</td>\n      <td>2288.75</td>\n      <td>1558.17</td>\n      <td>1575.72</td>\n      <td>80.05</td>\n      <td>89.29</td>\n      <td>92.58</td>\n      <td>60.28</td>\n      <td>68.09</td>\n      <td>75.61</td>\n      <td>0</td>\n      <td>1</td>\n      <td>3</td>\n      <td>3</td>\n      <td>0.741207</td>\n      <td>0.744089</td>\n      <td>0.624100</td>\n      <td>0.627547</td>\n      <td>0.631913</td>\n      <td>0.534759</td>\n      <td>0.650603</td>\n      <td>0</td>\n      <td>0</td>\n      <td>0.035718</td>\n      <td>0.039374</td>\n      <td>0.040450</td>\n      <td>0.038686</td>\n      <td>0.043212</td>\n    </tr>\n    <tr>\n      <th>4</th>\n      <td>5372.40</td>\n      <td>2</td>\n      <td>1</td>\n      <td>2</td>\n      <td>33</td>\n      <td>-2</td>\n      <td>-2</td>\n      <td>-2</td>\n      <td>-2</td>\n      <td>-2</td>\n      <td>-2</td>\n      <td>873.66</td>\n      <td>961.55</td>\n      <td>1171.25</td>\n      <td>1198.37</td>\n      <td>995.68</td>\n      <td>80.98</td>\n      <td>967.28</td>\n      <td>1171.72</td>\n      <td>1198.94</td>\n      <td>995.97</td>\n      <td>80.98</td>\n      <td>6069.55</td>\n      <td>0</td>\n      <td>2</td>\n      <td>4</td>\n      <td>4</td>\n      <td>0.984927</td>\n      <td>0.814668</td>\n      <td>0.776940</td>\n      <td>0.781988</td>\n      <td>0.821020</td>\n      <td>0.837380</td>\n      <td>0.836154</td>\n      <td>0</td>\n      <td>0</td>\n      <td>1.005959</td>\n      <td>1.000401</td>\n      <td>1.000476</td>\n      <td>1.000291</td>\n      <td>1.000000</td>\n    </tr>\n  </tbody>\n</table>\n</div>"
     },
     "metadata": {},
     "execution_count": 51
    }
   ],
   "source": [
    "tr.head()"
   ]
  },
  {
   "cell_type": "code",
   "execution_count": 53,
   "metadata": {},
   "outputs": [],
   "source": [
    "pickle_out = open(\"../data/training_features.pickle\",\"wb\")\n",
    "pickle.dump(tr, pickle_out)\n",
    "pickle_out.close()"
   ]
  },
  {
   "cell_type": "code",
   "execution_count": 54,
   "metadata": {},
   "outputs": [],
   "source": [
    "pickle_out = open(\"../data/validate_features.pickle\",\"wb\")\n",
    "pickle.dump(val, pickle_out)\n",
    "pickle_out.close()"
   ]
  },
  {
   "cell_type": "markdown",
   "metadata": {},
   "source": [
    "# After Feature Selection"
   ]
  },
  {
   "cell_type": "code",
   "execution_count": 55,
   "metadata": {},
   "outputs": [],
   "source": [
    "train3 = tr[['limit', 'behind1', 'paid2', 'delayed', 'latemths', 'age', 'behind2', 'billed1', 'avg_av', 'avail1']]"
   ]
  },
  {
   "cell_type": "code",
   "execution_count": 56,
   "metadata": {},
   "outputs": [
    {
     "output_type": "execute_result",
     "data": {
      "text/plain": [
       "     limit  behind1    paid2  delayed  latemths  age  behind2  billed1  \\\n",
       "0  1790.80        0   179.19        0         0   44        0  1632.42   \n",
       "1  5730.56       -1   173.92        0         0   46       -1   891.96   \n",
       "2  3581.60       -1     0.00        0         0   47       -1   238.75   \n",
       "3  6088.72        0    89.29        0         0   29        0  2832.72   \n",
       "4  5372.40       -2  1171.72        0         0   33       -2   873.66   \n",
       "\n",
       "     avg_av    avail1  \n",
       "0  0.344577  0.088441  \n",
       "1  0.957227  0.844350  \n",
       "2  0.968649  0.933340  \n",
       "3  0.650603  0.534759  \n",
       "4  0.836154  0.837380  "
      ],
      "text/html": "<div>\n<style scoped>\n    .dataframe tbody tr th:only-of-type {\n        vertical-align: middle;\n    }\n\n    .dataframe tbody tr th {\n        vertical-align: top;\n    }\n\n    .dataframe thead th {\n        text-align: right;\n    }\n</style>\n<table border=\"1\" class=\"dataframe\">\n  <thead>\n    <tr style=\"text-align: right;\">\n      <th></th>\n      <th>limit</th>\n      <th>behind1</th>\n      <th>paid2</th>\n      <th>delayed</th>\n      <th>latemths</th>\n      <th>age</th>\n      <th>behind2</th>\n      <th>billed1</th>\n      <th>avg_av</th>\n      <th>avail1</th>\n    </tr>\n  </thead>\n  <tbody>\n    <tr>\n      <th>0</th>\n      <td>1790.80</td>\n      <td>0</td>\n      <td>179.19</td>\n      <td>0</td>\n      <td>0</td>\n      <td>44</td>\n      <td>0</td>\n      <td>1632.42</td>\n      <td>0.344577</td>\n      <td>0.088441</td>\n    </tr>\n    <tr>\n      <th>1</th>\n      <td>5730.56</td>\n      <td>-1</td>\n      <td>173.92</td>\n      <td>0</td>\n      <td>0</td>\n      <td>46</td>\n      <td>-1</td>\n      <td>891.96</td>\n      <td>0.957227</td>\n      <td>0.844350</td>\n    </tr>\n    <tr>\n      <th>2</th>\n      <td>3581.60</td>\n      <td>-1</td>\n      <td>0.00</td>\n      <td>0</td>\n      <td>0</td>\n      <td>47</td>\n      <td>-1</td>\n      <td>238.75</td>\n      <td>0.968649</td>\n      <td>0.933340</td>\n    </tr>\n    <tr>\n      <th>3</th>\n      <td>6088.72</td>\n      <td>0</td>\n      <td>89.29</td>\n      <td>0</td>\n      <td>0</td>\n      <td>29</td>\n      <td>0</td>\n      <td>2832.72</td>\n      <td>0.650603</td>\n      <td>0.534759</td>\n    </tr>\n    <tr>\n      <th>4</th>\n      <td>5372.40</td>\n      <td>-2</td>\n      <td>1171.72</td>\n      <td>0</td>\n      <td>0</td>\n      <td>33</td>\n      <td>-2</td>\n      <td>873.66</td>\n      <td>0.836154</td>\n      <td>0.837380</td>\n    </tr>\n  </tbody>\n</table>\n</div>"
     },
     "metadata": {},
     "execution_count": 56
    }
   ],
   "source": [
    "train3.head()"
   ]
  },
  {
   "cell_type": "code",
   "execution_count": 57,
   "metadata": {},
   "outputs": [],
   "source": [
    "validate3 = val[['limit', 'behind1', 'paid2', 'delayed', 'latemths', 'age', 'behind2', 'billed1', 'avg_av', 'avail1']]"
   ]
  },
  {
   "cell_type": "code",
   "execution_count": 58,
   "metadata": {},
   "outputs": [
    {
     "output_type": "execute_result",
     "data": {
      "text/plain": [
       "     limit  behind1   paid2  delayed  latemths  age  behind2  billed1  \\\n",
       "0  1074.48        0   71.63        0         0   25        0   317.47   \n",
       "1  5372.40        0  151.68        0         0   26        0  4897.33   \n",
       "2  2507.12        0  111.46        0         0   32        0  2511.49   \n",
       "3  4656.08        0   64.76        0         0   49        0   740.60   \n",
       "4  1790.80        0   53.72        1         1   36        0  3374.87   \n",
       "\n",
       "     avg_av    avail1  \n",
       "0  0.602051  0.704536  \n",
       "1  0.293715  0.088428  \n",
       "2  0.005220 -0.001743  \n",
       "3  0.883482  0.840939  \n",
       "4  0.188227 -0.884560  "
      ],
      "text/html": "<div>\n<style scoped>\n    .dataframe tbody tr th:only-of-type {\n        vertical-align: middle;\n    }\n\n    .dataframe tbody tr th {\n        vertical-align: top;\n    }\n\n    .dataframe thead th {\n        text-align: right;\n    }\n</style>\n<table border=\"1\" class=\"dataframe\">\n  <thead>\n    <tr style=\"text-align: right;\">\n      <th></th>\n      <th>limit</th>\n      <th>behind1</th>\n      <th>paid2</th>\n      <th>delayed</th>\n      <th>latemths</th>\n      <th>age</th>\n      <th>behind2</th>\n      <th>billed1</th>\n      <th>avg_av</th>\n      <th>avail1</th>\n    </tr>\n  </thead>\n  <tbody>\n    <tr>\n      <th>0</th>\n      <td>1074.48</td>\n      <td>0</td>\n      <td>71.63</td>\n      <td>0</td>\n      <td>0</td>\n      <td>25</td>\n      <td>0</td>\n      <td>317.47</td>\n      <td>0.602051</td>\n      <td>0.704536</td>\n    </tr>\n    <tr>\n      <th>1</th>\n      <td>5372.40</td>\n      <td>0</td>\n      <td>151.68</td>\n      <td>0</td>\n      <td>0</td>\n      <td>26</td>\n      <td>0</td>\n      <td>4897.33</td>\n      <td>0.293715</td>\n      <td>0.088428</td>\n    </tr>\n    <tr>\n      <th>2</th>\n      <td>2507.12</td>\n      <td>0</td>\n      <td>111.46</td>\n      <td>0</td>\n      <td>0</td>\n      <td>32</td>\n      <td>0</td>\n      <td>2511.49</td>\n      <td>0.005220</td>\n      <td>-0.001743</td>\n    </tr>\n    <tr>\n      <th>3</th>\n      <td>4656.08</td>\n      <td>0</td>\n      <td>64.76</td>\n      <td>0</td>\n      <td>0</td>\n      <td>49</td>\n      <td>0</td>\n      <td>740.60</td>\n      <td>0.883482</td>\n      <td>0.840939</td>\n    </tr>\n    <tr>\n      <th>4</th>\n      <td>1790.80</td>\n      <td>0</td>\n      <td>53.72</td>\n      <td>1</td>\n      <td>1</td>\n      <td>36</td>\n      <td>0</td>\n      <td>3374.87</td>\n      <td>0.188227</td>\n      <td>-0.884560</td>\n    </tr>\n  </tbody>\n</table>\n</div>"
     },
     "metadata": {},
     "execution_count": 58
    }
   ],
   "source": [
    "validate3.head()"
   ]
  },
  {
   "cell_type": "code",
   "execution_count": 59,
   "metadata": {},
   "outputs": [],
   "source": [
    "pickle_out = open(\"../data/training_model.pickle\",\"wb\")\n",
    "pickle.dump(tr, pickle_out)\n",
    "pickle_out.close()"
   ]
  },
  {
   "cell_type": "code",
   "execution_count": 60,
   "metadata": {},
   "outputs": [],
   "source": [
    "pickle_out = open(\"../data/validate_model.pickle\",\"wb\")\n",
    "pickle.dump(val, pickle_out)\n",
    "pickle_out.close()"
   ]
  },
  {
   "cell_type": "code",
   "execution_count": null,
   "metadata": {},
   "outputs": [],
   "source": []
  }
 ],
 "metadata": {
  "kernelspec": {
   "display_name": "Python 3",
   "language": "python",
   "name": "python3"
  },
  "language_info": {
   "codemirror_mode": {
    "name": "ipython",
    "version": 3
   },
   "file_extension": ".py",
   "mimetype": "text/x-python",
   "name": "python",
   "nbconvert_exporter": "python",
   "pygments_lexer": "ipython3",
   "version": "3.9.1"
  }
 },
 "nbformat": 4,
 "nbformat_minor": 2
}