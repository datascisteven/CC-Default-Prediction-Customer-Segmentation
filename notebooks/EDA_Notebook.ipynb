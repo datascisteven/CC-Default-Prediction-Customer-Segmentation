{
 "cells": [
  {
   "cell_type": "markdown",
   "metadata": {},
   "source": [
    "<h1><center><font size=\"6\">Data Cleaning, EDA, and Feature Engineering Notebook</font></center></h1>\n",
    "\n",
    "# Contents\n",
    "\n",
    "- <a href='#1'>Importing Packages</a>  \n",
    "- <a href='#2'>Uploading Data</a>\n",
    "- <a href='#3'>Creating Train, Validation, and Testing Sets</a>  \n",
    "- <a href='#4'>Data Cleaning</a>  \n",
    "- <a href='#5'>Exploratory Data Analysis</a>\n",
    "- <a href='#6'>Feature Engineering</a>\n",
    "- <a href='#7'>Post-Feature Selection</a> "
   ]
  },
  {
   "cell_type": "markdown",
   "metadata": {},
   "source": [
    "# <a id='1'>Importing Packages</a>"
   ]
  },
  {
   "cell_type": "code",
   "execution_count": 2,
   "metadata": {},
   "outputs": [],
   "source": [
    "# Importing Packages\n",
    "import numpy as np \n",
    "import pandas as pd\n",
    "import re\n",
    "import json\n",
    "import requests\n",
    "import warnings\n",
    "warnings.filterwarnings('ignore')\n",
    "pd.set_option(\"display.max_rows\", 999)\n",
    "pd.set_option(\"display.max_columns\", 999)\n",
    "\n",
    "import matplotlib.pyplot as plt\n",
    "from matplotlib import style\n",
    "import seaborn as sns\n",
    "%matplotlib inline\n",
    "plt.style.use(\"fivethirtyeight\")\n",
    "\n",
    "from sklearn.model_selection import train_test_split\n",
    "import pickle"
   ]
  },
  {
   "cell_type": "markdown",
   "metadata": {},
   "source": [
    "# <a id='2'>Uploading Data</a>"
   ]
  },
  {
   "cell_type": "code",
   "execution_count": 3,
   "metadata": {},
   "outputs": [
    {
     "output_type": "execute_result",
     "data": {
      "text/plain": [
       "0 ID LIMIT_BAL SEX EDUCATION MARRIAGE AGE PAY_0 PAY_2 PAY_3 PAY_4 PAY_5 PAY_6  \\\n",
       "1  1     20000   2         2        1  24     2     2    -1    -1    -2    -2   \n",
       "2  2    120000   2         2        2  26    -1     2     0     0     0     2   \n",
       "3  3     90000   2         2        2  34     0     0     0     0     0     0   \n",
       "4  4     50000   2         2        1  37     0     0     0     0     0     0   \n",
       "5  5     50000   1         2        1  57    -1     0    -1     0     0     0   \n",
       "\n",
       "0 BILL_AMT1 BILL_AMT2 BILL_AMT3 BILL_AMT4 BILL_AMT5 BILL_AMT6 PAY_AMT1  \\\n",
       "1      3913      3102       689         0         0         0        0   \n",
       "2      2682      1725      2682      3272      3455      3261        0   \n",
       "3     29239     14027     13559     14331     14948     15549     1518   \n",
       "4     46990     48233     49291     28314     28959     29547     2000   \n",
       "5      8617      5670     35835     20940     19146     19131     2000   \n",
       "\n",
       "0 PAY_AMT2 PAY_AMT3 PAY_AMT4 PAY_AMT5 PAY_AMT6 default  \n",
       "1      689        0        0        0        0       1  \n",
       "2     1000     1000     1000        0     2000       1  \n",
       "3     1500     1000     1000     1000     5000       0  \n",
       "4     2019     1200     1100     1069     1000       0  \n",
       "5    36681    10000     9000      689      679       0  "
      ],
      "text/html": "<div>\n<style scoped>\n    .dataframe tbody tr th:only-of-type {\n        vertical-align: middle;\n    }\n\n    .dataframe tbody tr th {\n        vertical-align: top;\n    }\n\n    .dataframe thead th {\n        text-align: right;\n    }\n</style>\n<table border=\"1\" class=\"dataframe\">\n  <thead>\n    <tr style=\"text-align: right;\">\n      <th></th>\n      <th>ID</th>\n      <th>LIMIT_BAL</th>\n      <th>SEX</th>\n      <th>EDUCATION</th>\n      <th>MARRIAGE</th>\n      <th>AGE</th>\n      <th>PAY_0</th>\n      <th>PAY_2</th>\n      <th>PAY_3</th>\n      <th>PAY_4</th>\n      <th>PAY_5</th>\n      <th>PAY_6</th>\n      <th>BILL_AMT1</th>\n      <th>BILL_AMT2</th>\n      <th>BILL_AMT3</th>\n      <th>BILL_AMT4</th>\n      <th>BILL_AMT5</th>\n      <th>BILL_AMT6</th>\n      <th>PAY_AMT1</th>\n      <th>PAY_AMT2</th>\n      <th>PAY_AMT3</th>\n      <th>PAY_AMT4</th>\n      <th>PAY_AMT5</th>\n      <th>PAY_AMT6</th>\n      <th>default</th>\n    </tr>\n  </thead>\n  <tbody>\n    <tr>\n      <th>1</th>\n      <td>1</td>\n      <td>20000</td>\n      <td>2</td>\n      <td>2</td>\n      <td>1</td>\n      <td>24</td>\n      <td>2</td>\n      <td>2</td>\n      <td>-1</td>\n      <td>-1</td>\n      <td>-2</td>\n      <td>-2</td>\n      <td>3913</td>\n      <td>3102</td>\n      <td>689</td>\n      <td>0</td>\n      <td>0</td>\n      <td>0</td>\n      <td>0</td>\n      <td>689</td>\n      <td>0</td>\n      <td>0</td>\n      <td>0</td>\n      <td>0</td>\n      <td>1</td>\n    </tr>\n    <tr>\n      <th>2</th>\n      <td>2</td>\n      <td>120000</td>\n      <td>2</td>\n      <td>2</td>\n      <td>2</td>\n      <td>26</td>\n      <td>-1</td>\n      <td>2</td>\n      <td>0</td>\n      <td>0</td>\n      <td>0</td>\n      <td>2</td>\n      <td>2682</td>\n      <td>1725</td>\n      <td>2682</td>\n      <td>3272</td>\n      <td>3455</td>\n      <td>3261</td>\n      <td>0</td>\n      <td>1000</td>\n      <td>1000</td>\n      <td>1000</td>\n      <td>0</td>\n      <td>2000</td>\n      <td>1</td>\n    </tr>\n    <tr>\n      <th>3</th>\n      <td>3</td>\n      <td>90000</td>\n      <td>2</td>\n      <td>2</td>\n      <td>2</td>\n      <td>34</td>\n      <td>0</td>\n      <td>0</td>\n      <td>0</td>\n      <td>0</td>\n      <td>0</td>\n      <td>0</td>\n      <td>29239</td>\n      <td>14027</td>\n      <td>13559</td>\n      <td>14331</td>\n      <td>14948</td>\n      <td>15549</td>\n      <td>1518</td>\n      <td>1500</td>\n      <td>1000</td>\n      <td>1000</td>\n      <td>1000</td>\n      <td>5000</td>\n      <td>0</td>\n    </tr>\n    <tr>\n      <th>4</th>\n      <td>4</td>\n      <td>50000</td>\n      <td>2</td>\n      <td>2</td>\n      <td>1</td>\n      <td>37</td>\n      <td>0</td>\n      <td>0</td>\n      <td>0</td>\n      <td>0</td>\n      <td>0</td>\n      <td>0</td>\n      <td>46990</td>\n      <td>48233</td>\n      <td>49291</td>\n      <td>28314</td>\n      <td>28959</td>\n      <td>29547</td>\n      <td>2000</td>\n      <td>2019</td>\n      <td>1200</td>\n      <td>1100</td>\n      <td>1069</td>\n      <td>1000</td>\n      <td>0</td>\n    </tr>\n    <tr>\n      <th>5</th>\n      <td>5</td>\n      <td>50000</td>\n      <td>1</td>\n      <td>2</td>\n      <td>1</td>\n      <td>57</td>\n      <td>-1</td>\n      <td>0</td>\n      <td>-1</td>\n      <td>0</td>\n      <td>0</td>\n      <td>0</td>\n      <td>8617</td>\n      <td>5670</td>\n      <td>35835</td>\n      <td>20940</td>\n      <td>19146</td>\n      <td>19131</td>\n      <td>2000</td>\n      <td>36681</td>\n      <td>10000</td>\n      <td>9000</td>\n      <td>689</td>\n      <td>679</td>\n      <td>0</td>\n    </tr>\n  </tbody>\n</table>\n</div>"
     },
     "metadata": {},
     "execution_count": 3
    }
   ],
   "source": [
    "df = pd.read_excel(\"../data/default of credit card clients.xls\")\n",
    "new_header = df.iloc[0]\n",
    "df = df[1:] \n",
    "df.columns = new_header\n",
    "df = df.rename(columns={\"default payment next month\": \"default\"}) \n",
    "df.head()"
   ]
  },
  {
   "cell_type": "code",
   "execution_count": 4,
   "metadata": {},
   "outputs": [
    {
     "output_type": "execute_result",
     "data": {
      "text/plain": [
       "0\n",
       "ID           object\n",
       "LIMIT_BAL    object\n",
       "SEX          object\n",
       "EDUCATION    object\n",
       "MARRIAGE     object\n",
       "AGE          object\n",
       "PAY_0        object\n",
       "PAY_2        object\n",
       "PAY_3        object\n",
       "PAY_4        object\n",
       "PAY_5        object\n",
       "PAY_6        object\n",
       "BILL_AMT1    object\n",
       "BILL_AMT2    object\n",
       "BILL_AMT3    object\n",
       "BILL_AMT4    object\n",
       "BILL_AMT5    object\n",
       "BILL_AMT6    object\n",
       "PAY_AMT1     object\n",
       "PAY_AMT2     object\n",
       "PAY_AMT3     object\n",
       "PAY_AMT4     object\n",
       "PAY_AMT5     object\n",
       "PAY_AMT6     object\n",
       "default      object\n",
       "dtype: object"
      ]
     },
     "metadata": {},
     "execution_count": 4
    }
   ],
   "source": [
    "df.dtypes"
   ]
  },
  {
   "cell_type": "markdown",
   "metadata": {},
   "source": [
    "# <a id='4'>Creating Train, Validation, and Testing Sets</a>"
   ]
  },
  {
   "cell_type": "code",
   "execution_count": 5,
   "metadata": {},
   "outputs": [],
   "source": [
    "X = df.drop([\"default\"], axis=1)\n",
    "y = df[\"default\"]\n",
    "# split the full data 80:20 into training:validation sets\n",
    "X_train, X_val, y_train, y_val = train_test_split(X, y, train_size=0.8, random_state=42)\n",
    "# split training data 87.5:12.5 into training:testing sets\n",
    "X_tr, X_tt, y_tr, y_tt = train_test_split(X_train, y_train, train_size=0.875, random_state=42)\n",
    "train = pd.concat([X_tr, y_tr], axis=1)\n",
    "val = pd.concat([X_val, y_val], axis=1)"
   ]
  },
  {
   "cell_type": "code",
   "execution_count": 6,
   "metadata": {},
   "outputs": [],
   "source": [
    "# X_tt.to_csv(\"../data/testing.csv\")\n",
    "# y_tt.to_csv(\"../data/testing_labels.csv\")\n",
    "# train.to_csv(\"../data/training.csv\", index=False)\n",
    "# val.to_csv(\"../data/validate.csv\", index=False)"
   ]
  },
  {
   "cell_type": "markdown",
   "metadata": {},
   "source": [
    "# <a id='5'>Data Cleaning</a>"
   ]
  },
  {
   "cell_type": "code",
   "execution_count": 35,
   "metadata": {},
   "outputs": [
    {
     "output_type": "execute_result",
     "data": {
      "text/plain": [
       "LIMIT_BAL    int64\n",
       "SEX          int64\n",
       "EDUCATION    int64\n",
       "MARRIAGE     int64\n",
       "AGE          int64\n",
       "PAY_0        int64\n",
       "PAY_2        int64\n",
       "PAY_3        int64\n",
       "PAY_4        int64\n",
       "PAY_5        int64\n",
       "PAY_6        int64\n",
       "BILL_AMT1    int64\n",
       "BILL_AMT2    int64\n",
       "BILL_AMT3    int64\n",
       "BILL_AMT4    int64\n",
       "BILL_AMT5    int64\n",
       "BILL_AMT6    int64\n",
       "PAY_AMT1     int64\n",
       "PAY_AMT2     int64\n",
       "PAY_AMT3     int64\n",
       "PAY_AMT4     int64\n",
       "PAY_AMT5     int64\n",
       "PAY_AMT6     int64\n",
       "default      int64\n",
       "dtype: object"
      ]
     },
     "metadata": {},
     "execution_count": 35
    }
   ],
   "source": [
    "tr = pd.read_csv(\"../data/training.csv\")\n",
    "val = pd.read_csv(\"../data/validate.csv\")\n",
    "tr = tr.drop([\"ID\"], axis=1)\n",
    "val = val.drop([\"ID\"], axis=1)\n",
    "tr.dtypes"
   ]
  },
  {
   "cell_type": "code",
   "execution_count": 36,
   "metadata": {},
   "outputs": [
    {
     "output_type": "execute_result",
     "data": {
      "text/plain": [
       "   LIMIT_BAL  SEX  EDUCATION  MARRIAGE  AGE  PAY_0  PAY_2  PAY_3  PAY_4  \\\n",
       "0      50000    2          2         1   44      0      0      0      0   \n",
       "1     160000    2          3         1   46     -1     -1     -1      0   \n",
       "2     100000    2          2         1   47     -1     -1     -1     -1   \n",
       "3     170000    2          2         1   29      0      0      0      0   \n",
       "4     150000    2          1         2   33     -2     -2     -2     -2   \n",
       "\n",
       "   PAY_5  PAY_6  BILL_AMT1  BILL_AMT2  BILL_AMT3  BILL_AMT4  BILL_AMT5  \\\n",
       "0      0      0      45578      41906      35703      22360      23659   \n",
       "1     -1     -1      24904       2338       4856       4127       3995   \n",
       "2     -1     -2       6666       6666          0       6270       -396   \n",
       "3      0      0      79091      62575      63317      63903      43505   \n",
       "4     -2     -2      24393      26847      32702      33459      27800   \n",
       "\n",
       "   BILL_AMT6  PAY_AMT1  PAY_AMT2  PAY_AMT3  PAY_AMT4  PAY_AMT5  PAY_AMT6  \\\n",
       "0      27421      3016      5003      3000      3000      5000       924   \n",
       "1        842      2343      4856      1000      3995       842     26313   \n",
       "2       -396      6666         0      6270         0         0         0   \n",
       "3      43995      2235      2493      2585      1683      1901      2111   \n",
       "4       2261     27007     32715     33475     27808      2261    169465   \n",
       "\n",
       "   default  \n",
       "0        0  \n",
       "1        0  \n",
       "2        1  \n",
       "3        0  \n",
       "4        0  "
      ],
      "text/html": "<div>\n<style scoped>\n    .dataframe tbody tr th:only-of-type {\n        vertical-align: middle;\n    }\n\n    .dataframe tbody tr th {\n        vertical-align: top;\n    }\n\n    .dataframe thead th {\n        text-align: right;\n    }\n</style>\n<table border=\"1\" class=\"dataframe\">\n  <thead>\n    <tr style=\"text-align: right;\">\n      <th></th>\n      <th>LIMIT_BAL</th>\n      <th>SEX</th>\n      <th>EDUCATION</th>\n      <th>MARRIAGE</th>\n      <th>AGE</th>\n      <th>PAY_0</th>\n      <th>PAY_2</th>\n      <th>PAY_3</th>\n      <th>PAY_4</th>\n      <th>PAY_5</th>\n      <th>PAY_6</th>\n      <th>BILL_AMT1</th>\n      <th>BILL_AMT2</th>\n      <th>BILL_AMT3</th>\n      <th>BILL_AMT4</th>\n      <th>BILL_AMT5</th>\n      <th>BILL_AMT6</th>\n      <th>PAY_AMT1</th>\n      <th>PAY_AMT2</th>\n      <th>PAY_AMT3</th>\n      <th>PAY_AMT4</th>\n      <th>PAY_AMT5</th>\n      <th>PAY_AMT6</th>\n      <th>default</th>\n    </tr>\n  </thead>\n  <tbody>\n    <tr>\n      <th>0</th>\n      <td>50000</td>\n      <td>2</td>\n      <td>2</td>\n      <td>1</td>\n      <td>44</td>\n      <td>0</td>\n      <td>0</td>\n      <td>0</td>\n      <td>0</td>\n      <td>0</td>\n      <td>0</td>\n      <td>45578</td>\n      <td>41906</td>\n      <td>35703</td>\n      <td>22360</td>\n      <td>23659</td>\n      <td>27421</td>\n      <td>3016</td>\n      <td>5003</td>\n      <td>3000</td>\n      <td>3000</td>\n      <td>5000</td>\n      <td>924</td>\n      <td>0</td>\n    </tr>\n    <tr>\n      <th>1</th>\n      <td>160000</td>\n      <td>2</td>\n      <td>3</td>\n      <td>1</td>\n      <td>46</td>\n      <td>-1</td>\n      <td>-1</td>\n      <td>-1</td>\n      <td>0</td>\n      <td>-1</td>\n      <td>-1</td>\n      <td>24904</td>\n      <td>2338</td>\n      <td>4856</td>\n      <td>4127</td>\n      <td>3995</td>\n      <td>842</td>\n      <td>2343</td>\n      <td>4856</td>\n      <td>1000</td>\n      <td>3995</td>\n      <td>842</td>\n      <td>26313</td>\n      <td>0</td>\n    </tr>\n    <tr>\n      <th>2</th>\n      <td>100000</td>\n      <td>2</td>\n      <td>2</td>\n      <td>1</td>\n      <td>47</td>\n      <td>-1</td>\n      <td>-1</td>\n      <td>-1</td>\n      <td>-1</td>\n      <td>-1</td>\n      <td>-2</td>\n      <td>6666</td>\n      <td>6666</td>\n      <td>0</td>\n      <td>6270</td>\n      <td>-396</td>\n      <td>-396</td>\n      <td>6666</td>\n      <td>0</td>\n      <td>6270</td>\n      <td>0</td>\n      <td>0</td>\n      <td>0</td>\n      <td>1</td>\n    </tr>\n    <tr>\n      <th>3</th>\n      <td>170000</td>\n      <td>2</td>\n      <td>2</td>\n      <td>1</td>\n      <td>29</td>\n      <td>0</td>\n      <td>0</td>\n      <td>0</td>\n      <td>0</td>\n      <td>0</td>\n      <td>0</td>\n      <td>79091</td>\n      <td>62575</td>\n      <td>63317</td>\n      <td>63903</td>\n      <td>43505</td>\n      <td>43995</td>\n      <td>2235</td>\n      <td>2493</td>\n      <td>2585</td>\n      <td>1683</td>\n      <td>1901</td>\n      <td>2111</td>\n      <td>0</td>\n    </tr>\n    <tr>\n      <th>4</th>\n      <td>150000</td>\n      <td>2</td>\n      <td>1</td>\n      <td>2</td>\n      <td>33</td>\n      <td>-2</td>\n      <td>-2</td>\n      <td>-2</td>\n      <td>-2</td>\n      <td>-2</td>\n      <td>-2</td>\n      <td>24393</td>\n      <td>26847</td>\n      <td>32702</td>\n      <td>33459</td>\n      <td>27800</td>\n      <td>2261</td>\n      <td>27007</td>\n      <td>32715</td>\n      <td>33475</td>\n      <td>27808</td>\n      <td>2261</td>\n      <td>169465</td>\n      <td>0</td>\n    </tr>\n  </tbody>\n</table>\n</div>"
     },
     "metadata": {},
     "execution_count": 36
    }
   ],
   "source": [
    "tr.head()"
   ]
  },
  {
   "cell_type": "code",
   "execution_count": 37,
   "metadata": {},
   "outputs": [
    {
     "output_type": "execute_result",
     "data": {
      "text/plain": [
       "            LIMIT_BAL           SEX     EDUCATION      MARRIAGE           AGE  \\\n",
       "count    21000.000000  21000.000000  21000.000000  21000.000000  21000.000000   \n",
       "mean    167214.937143      1.605190      1.854333      1.549476     35.538286   \n",
       "std     129561.159854      0.488821      0.794086      0.523126      9.257936   \n",
       "min      10000.000000      1.000000      0.000000      0.000000     21.000000   \n",
       "25%      50000.000000      1.000000      1.000000      1.000000     28.000000   \n",
       "50%     140000.000000      2.000000      2.000000      2.000000     34.000000   \n",
       "75%     240000.000000      2.000000      2.000000      2.000000     42.000000   \n",
       "max    1000000.000000      2.000000      6.000000      3.000000     79.000000   \n",
       "\n",
       "              PAY_0         PAY_2         PAY_3         PAY_4         PAY_5  \\\n",
       "count  21000.000000  21000.000000  21000.000000  21000.000000  21000.000000   \n",
       "mean      -0.015524     -0.130952     -0.165667     -0.216952     -0.261238   \n",
       "std        1.127750      1.200066      1.194393      1.170611      1.136246   \n",
       "min       -2.000000     -2.000000     -2.000000     -2.000000     -2.000000   \n",
       "25%       -1.000000     -1.000000     -1.000000     -1.000000     -1.000000   \n",
       "50%        0.000000      0.000000      0.000000      0.000000      0.000000   \n",
       "75%        0.000000      0.000000      0.000000      0.000000      0.000000   \n",
       "max        8.000000      8.000000      8.000000      8.000000      8.000000   \n",
       "\n",
       "              PAY_6      BILL_AMT1      BILL_AMT2     BILL_AMT3  \\\n",
       "count  21000.000000   21000.000000   21000.000000  2.100000e+04   \n",
       "mean      -0.284810   51115.879143   49164.750619  4.696772e+04   \n",
       "std        1.156573   73469.974615   71175.850265  6.960624e+04   \n",
       "min       -2.000000 -165580.000000  -69777.000000 -1.572640e+05   \n",
       "25%       -1.000000    3566.500000    3033.500000  2.743750e+03   \n",
       "50%        0.000000   22460.500000   21417.000000  2.007300e+04   \n",
       "75%        0.000000   66759.750000   63291.250000  5.969425e+04   \n",
       "max        8.000000  964511.000000  983931.000000  1.664089e+06   \n",
       "\n",
       "           BILL_AMT4      BILL_AMT5      BILL_AMT6       PAY_AMT1  \\\n",
       "count   21000.000000   21000.000000   21000.000000   21000.000000   \n",
       "mean    43174.979429   40376.466143   38976.187810    5732.100667   \n",
       "std     64284.893891   61004.334726   59676.470266   17510.937498   \n",
       "min   -170000.000000  -81334.000000 -209051.000000       0.000000   \n",
       "25%      2350.750000    1782.000000    1301.750000    1000.000000   \n",
       "50%     19038.500000   18100.000000   17128.500000    2100.000000   \n",
       "75%     54345.500000   50289.250000   49413.000000    5007.000000   \n",
       "max    891586.000000  927171.000000  961664.000000  873552.000000   \n",
       "\n",
       "           PAY_AMT2       PAY_AMT3       PAY_AMT4       PAY_AMT5  \\\n",
       "count  2.100000e+04   21000.000000   21000.000000   21000.000000   \n",
       "mean   6.006080e+03    5279.434524    4927.353714    4822.283381   \n",
       "std    2.508609e+04   18647.406220   16803.515819   15620.014696   \n",
       "min    0.000000e+00       0.000000       0.000000       0.000000   \n",
       "25%    8.360000e+02     390.000000     291.000000     243.000000   \n",
       "50%    2.007000e+03    1800.000000    1500.000000    1500.000000   \n",
       "75%    5.000000e+03    4500.000000    4001.000000    4034.000000   \n",
       "max    1.684259e+06  896040.000000  621000.000000  417990.000000   \n",
       "\n",
       "            PAY_AMT6       default  \n",
       "count   21000.000000  21000.000000  \n",
       "mean     5156.729952      0.221714  \n",
       "std     17658.819827      0.415410  \n",
       "min         0.000000      0.000000  \n",
       "25%       116.750000      0.000000  \n",
       "50%      1500.000000      0.000000  \n",
       "75%      4000.000000      0.000000  \n",
       "max    527143.000000      1.000000  "
      ],
      "text/html": "<div>\n<style scoped>\n    .dataframe tbody tr th:only-of-type {\n        vertical-align: middle;\n    }\n\n    .dataframe tbody tr th {\n        vertical-align: top;\n    }\n\n    .dataframe thead th {\n        text-align: right;\n    }\n</style>\n<table border=\"1\" class=\"dataframe\">\n  <thead>\n    <tr style=\"text-align: right;\">\n      <th></th>\n      <th>LIMIT_BAL</th>\n      <th>SEX</th>\n      <th>EDUCATION</th>\n      <th>MARRIAGE</th>\n      <th>AGE</th>\n      <th>PAY_0</th>\n      <th>PAY_2</th>\n      <th>PAY_3</th>\n      <th>PAY_4</th>\n      <th>PAY_5</th>\n      <th>PAY_6</th>\n      <th>BILL_AMT1</th>\n      <th>BILL_AMT2</th>\n      <th>BILL_AMT3</th>\n      <th>BILL_AMT4</th>\n      <th>BILL_AMT5</th>\n      <th>BILL_AMT6</th>\n      <th>PAY_AMT1</th>\n      <th>PAY_AMT2</th>\n      <th>PAY_AMT3</th>\n      <th>PAY_AMT4</th>\n      <th>PAY_AMT5</th>\n      <th>PAY_AMT6</th>\n      <th>default</th>\n    </tr>\n  </thead>\n  <tbody>\n    <tr>\n      <th>count</th>\n      <td>21000.000000</td>\n      <td>21000.000000</td>\n      <td>21000.000000</td>\n      <td>21000.000000</td>\n      <td>21000.000000</td>\n      <td>21000.000000</td>\n      <td>21000.000000</td>\n      <td>21000.000000</td>\n      <td>21000.000000</td>\n      <td>21000.000000</td>\n      <td>21000.000000</td>\n      <td>21000.000000</td>\n      <td>21000.000000</td>\n      <td>2.100000e+04</td>\n      <td>21000.000000</td>\n      <td>21000.000000</td>\n      <td>21000.000000</td>\n      <td>21000.000000</td>\n      <td>2.100000e+04</td>\n      <td>21000.000000</td>\n      <td>21000.000000</td>\n      <td>21000.000000</td>\n      <td>21000.000000</td>\n      <td>21000.000000</td>\n    </tr>\n    <tr>\n      <th>mean</th>\n      <td>167214.937143</td>\n      <td>1.605190</td>\n      <td>1.854333</td>\n      <td>1.549476</td>\n      <td>35.538286</td>\n      <td>-0.015524</td>\n      <td>-0.130952</td>\n      <td>-0.165667</td>\n      <td>-0.216952</td>\n      <td>-0.261238</td>\n      <td>-0.284810</td>\n      <td>51115.879143</td>\n      <td>49164.750619</td>\n      <td>4.696772e+04</td>\n      <td>43174.979429</td>\n      <td>40376.466143</td>\n      <td>38976.187810</td>\n      <td>5732.100667</td>\n      <td>6.006080e+03</td>\n      <td>5279.434524</td>\n      <td>4927.353714</td>\n      <td>4822.283381</td>\n      <td>5156.729952</td>\n      <td>0.221714</td>\n    </tr>\n    <tr>\n      <th>std</th>\n      <td>129561.159854</td>\n      <td>0.488821</td>\n      <td>0.794086</td>\n      <td>0.523126</td>\n      <td>9.257936</td>\n      <td>1.127750</td>\n      <td>1.200066</td>\n      <td>1.194393</td>\n      <td>1.170611</td>\n      <td>1.136246</td>\n      <td>1.156573</td>\n      <td>73469.974615</td>\n      <td>71175.850265</td>\n      <td>6.960624e+04</td>\n      <td>64284.893891</td>\n      <td>61004.334726</td>\n      <td>59676.470266</td>\n      <td>17510.937498</td>\n      <td>2.508609e+04</td>\n      <td>18647.406220</td>\n      <td>16803.515819</td>\n      <td>15620.014696</td>\n      <td>17658.819827</td>\n      <td>0.415410</td>\n    </tr>\n    <tr>\n      <th>min</th>\n      <td>10000.000000</td>\n      <td>1.000000</td>\n      <td>0.000000</td>\n      <td>0.000000</td>\n      <td>21.000000</td>\n      <td>-2.000000</td>\n      <td>-2.000000</td>\n      <td>-2.000000</td>\n      <td>-2.000000</td>\n      <td>-2.000000</td>\n      <td>-2.000000</td>\n      <td>-165580.000000</td>\n      <td>-69777.000000</td>\n      <td>-1.572640e+05</td>\n      <td>-170000.000000</td>\n      <td>-81334.000000</td>\n      <td>-209051.000000</td>\n      <td>0.000000</td>\n      <td>0.000000e+00</td>\n      <td>0.000000</td>\n      <td>0.000000</td>\n      <td>0.000000</td>\n      <td>0.000000</td>\n      <td>0.000000</td>\n    </tr>\n    <tr>\n      <th>25%</th>\n      <td>50000.000000</td>\n      <td>1.000000</td>\n      <td>1.000000</td>\n      <td>1.000000</td>\n      <td>28.000000</td>\n      <td>-1.000000</td>\n      <td>-1.000000</td>\n      <td>-1.000000</td>\n      <td>-1.000000</td>\n      <td>-1.000000</td>\n      <td>-1.000000</td>\n      <td>3566.500000</td>\n      <td>3033.500000</td>\n      <td>2.743750e+03</td>\n      <td>2350.750000</td>\n      <td>1782.000000</td>\n      <td>1301.750000</td>\n      <td>1000.000000</td>\n      <td>8.360000e+02</td>\n      <td>390.000000</td>\n      <td>291.000000</td>\n      <td>243.000000</td>\n      <td>116.750000</td>\n      <td>0.000000</td>\n    </tr>\n    <tr>\n      <th>50%</th>\n      <td>140000.000000</td>\n      <td>2.000000</td>\n      <td>2.000000</td>\n      <td>2.000000</td>\n      <td>34.000000</td>\n      <td>0.000000</td>\n      <td>0.000000</td>\n      <td>0.000000</td>\n      <td>0.000000</td>\n      <td>0.000000</td>\n      <td>0.000000</td>\n      <td>22460.500000</td>\n      <td>21417.000000</td>\n      <td>2.007300e+04</td>\n      <td>19038.500000</td>\n      <td>18100.000000</td>\n      <td>17128.500000</td>\n      <td>2100.000000</td>\n      <td>2.007000e+03</td>\n      <td>1800.000000</td>\n      <td>1500.000000</td>\n      <td>1500.000000</td>\n      <td>1500.000000</td>\n      <td>0.000000</td>\n    </tr>\n    <tr>\n      <th>75%</th>\n      <td>240000.000000</td>\n      <td>2.000000</td>\n      <td>2.000000</td>\n      <td>2.000000</td>\n      <td>42.000000</td>\n      <td>0.000000</td>\n      <td>0.000000</td>\n      <td>0.000000</td>\n      <td>0.000000</td>\n      <td>0.000000</td>\n      <td>0.000000</td>\n      <td>66759.750000</td>\n      <td>63291.250000</td>\n      <td>5.969425e+04</td>\n      <td>54345.500000</td>\n      <td>50289.250000</td>\n      <td>49413.000000</td>\n      <td>5007.000000</td>\n      <td>5.000000e+03</td>\n      <td>4500.000000</td>\n      <td>4001.000000</td>\n      <td>4034.000000</td>\n      <td>4000.000000</td>\n      <td>0.000000</td>\n    </tr>\n    <tr>\n      <th>max</th>\n      <td>1000000.000000</td>\n      <td>2.000000</td>\n      <td>6.000000</td>\n      <td>3.000000</td>\n      <td>79.000000</td>\n      <td>8.000000</td>\n      <td>8.000000</td>\n      <td>8.000000</td>\n      <td>8.000000</td>\n      <td>8.000000</td>\n      <td>8.000000</td>\n      <td>964511.000000</td>\n      <td>983931.000000</td>\n      <td>1.664089e+06</td>\n      <td>891586.000000</td>\n      <td>927171.000000</td>\n      <td>961664.000000</td>\n      <td>873552.000000</td>\n      <td>1.684259e+06</td>\n      <td>896040.000000</td>\n      <td>621000.000000</td>\n      <td>417990.000000</td>\n      <td>527143.000000</td>\n      <td>1.000000</td>\n    </tr>\n  </tbody>\n</table>\n</div>"
     },
     "metadata": {},
     "execution_count": 37
    }
   ],
   "source": [
    "# look for anomalies in minimum and maximum values and peculiarities in interquartile values\n",
    "tr.describe()"
   ]
  },
  {
   "cell_type": "code",
   "execution_count": 38,
   "metadata": {},
   "outputs": [],
   "source": [
    "# Use requests and json modules to webscrape current exchange rate for TWD to USD\n",
    "url = 'https://openexchangerates.org/api/latest.json?app_id=c51b1508fb4145259b1c2fade72a2c04'\n",
    "response = requests.get(url)\n",
    "data = response.json()\n",
    "rate = data['rates']['TWD']"
   ]
  },
  {
   "cell_type": "code",
   "execution_count": 39,
   "metadata": {},
   "outputs": [
    {
     "output_type": "stream",
     "name": "stdout",
     "text": [
      "LIMIT_BAL    0\nSEX          0\nEDUCATION    0\nMARRIAGE     0\nAGE          0\nPAY_0        0\nPAY_2        0\nPAY_3        0\nPAY_4        0\nPAY_5        0\nPAY_6        0\nBILL_AMT1    0\nBILL_AMT2    0\nBILL_AMT3    0\nBILL_AMT4    0\nBILL_AMT5    0\nBILL_AMT6    0\nPAY_AMT1     0\nPAY_AMT2     0\nPAY_AMT3     0\nPAY_AMT4     0\nPAY_AMT5     0\nPAY_AMT6     0\ndefault      0\ndtype: int64\nLIMIT_BAL    0\nSEX          0\nEDUCATION    0\nMARRIAGE     0\nAGE          0\nPAY_0        0\nPAY_2        0\nPAY_3        0\nPAY_4        0\nPAY_5        0\nPAY_6        0\nBILL_AMT1    0\nBILL_AMT2    0\nBILL_AMT3    0\nBILL_AMT4    0\nBILL_AMT5    0\nBILL_AMT6    0\nPAY_AMT1     0\nPAY_AMT2     0\nPAY_AMT3     0\nPAY_AMT4     0\nPAY_AMT5     0\nPAY_AMT6     0\ndefault      0\ndtype: int64\n"
     ]
    }
   ],
   "source": [
    "# check for null values\n",
    "data = [tr, val]\n",
    "for d in data:\n",
    "    print(d.isna().sum())"
   ]
  },
  {
   "cell_type": "code",
   "execution_count": 40,
   "metadata": {},
   "outputs": [],
   "source": [
    "# change column names for easier reference\n",
    "for d in data:    \n",
    "    d.rename(columns={\"PAY_0\": \"behind1\", \n",
    "                        \"PAY_2\": \"behind2\", \n",
    "                        \"PAY_3\": \"behind3\", \n",
    "                        \"PAY_4\": \"behind4\",\n",
    "                        \"PAY_5\": \"behind5\", \n",
    "                        \"PAY_6\": \"behind6\", \n",
    "                        \"BILL_AMT1\": \"billed1\", \n",
    "                        \"BILL_AMT2\": \"billed2\", \n",
    "                        \"BILL_AMT3\": \"billed3\", \n",
    "                        \"BILL_AMT4\": \"billed4\", \n",
    "                        \"BILL_AMT5\": \"billed5\", \n",
    "                        \"BILL_AMT6\": \"billed6\", \n",
    "                        \"PAY_AMT1\": \"paid1\", \n",
    "                        \"PAY_AMT2\": \"paid2\", \n",
    "                        \"PAY_AMT3\": \"paid3\", \n",
    "                        \"PAY_AMT4\": \"paid4\", \n",
    "                        \"PAY_AMT5\": \"paid5\", \n",
    "                        \"PAY_AMT6\": \"paid6\",\n",
    "                        \"SEX\": \"gender\",\n",
    "                        \"EDUCATION\": \"education\",\n",
    "                        \"MARRIAGE\": \"marriage\",\n",
    "                        \"AGE\": \"age\",\n",
    "                        \"LIMIT_BAL\": \"limit\"}, inplace=True)"
   ]
  },
  {
   "cell_type": "code",
   "execution_count": 41,
   "metadata": {},
   "outputs": [],
   "source": [
    "# Change all Taiwanese to US Dollars for better understanding for American audience\n",
    "for d in data:\n",
    "    d[['limit']] = d[['limit']]/rate\n",
    "    d[['billed1', 'billed2', 'billed3', 'billed4', 'billed5', 'billed6']] = d[['billed1', 'billed2', 'billed3', 'billed4', 'billed5', 'billed6']].divide(rate, axis=1)\n",
    "    d[['paid1', 'paid2', 'paid3', 'paid4', 'paid5', 'paid6']] = d[['paid1', 'paid2', 'paid3', 'paid4', 'paid5', 'paid6']].divide(rate, axis=1)"
   ]
  },
  {
   "cell_type": "code",
   "execution_count": 42,
   "metadata": {},
   "outputs": [],
   "source": [
    "# Round all decimals to two decimal places to represent cents\n",
    "for d in data:\n",
    "    d['limit'] = d['limit'].apply(lambda x: round(x, 2))\n",
    "    d[['billed1', 'billed2', 'billed3', 'billed4', 'billed5', 'billed6']] = d[['billed1', 'billed2', 'billed3', 'billed4', 'billed5', 'billed6']].apply(lambda x: round(x, 2))\n",
    "    d[['paid1', 'paid2', 'paid3', 'paid4', 'paid5', 'paid6']] = d[['paid1', 'paid2', 'paid3', 'paid4', 'paid5', 'paid6']].apply(lambda x: round(x, 2))"
   ]
  },
  {
   "cell_type": "code",
   "execution_count": 43,
   "metadata": {},
   "outputs": [],
   "source": [
    "# put all zero values into category of 3 (other) for marriage\n",
    "# lump all the other and unknown education categories together:  0, 5, 6 values to category 4 (other)\n",
    "for d in data:  \n",
    "    d.replace({'marriage': {0:3}}, inplace=True)\n",
    "    d.replace({'education': {5:4, 0:4, 6:4}}, inplace=True)"
   ]
  },
  {
   "cell_type": "markdown",
   "metadata": {},
   "source": [
    "## Pickle out baseline models"
   ]
  },
  {
   "cell_type": "code",
   "execution_count": 44,
   "metadata": {},
   "outputs": [
    {
     "output_type": "execute_result",
     "data": {
      "text/plain": [
       "     limit  gender  education  marriage  age  behind1  behind2  behind3  \\\n",
       "0  1790.26       2          2         1   44        0        0        0   \n",
       "1  5728.83       2          3         1   46       -1       -1       -1   \n",
       "2  3580.52       2          2         1   47       -1       -1       -1   \n",
       "3  6086.88       2          2         1   29        0        0        0   \n",
       "4  5370.78       2          1         2   33       -2       -2       -2   \n",
       "\n",
       "   behind4  behind5  behind6  billed1  billed2  billed3  billed4  billed5  \\\n",
       "0        0        0        0  1631.93  1500.45  1278.35   800.60   847.12   \n",
       "1        0       -1       -1   891.69    83.71   173.87   147.77   143.04   \n",
       "2       -1       -1       -2   238.68   238.68     0.00   224.50   -14.18   \n",
       "3        0        0        0  2831.87  2240.51  2267.08  2288.06  1557.71   \n",
       "4       -2       -2       -2   873.40   961.26  1170.90  1198.01   995.38   \n",
       "\n",
       "   billed6   paid1    paid2    paid3   paid4   paid5    paid6  default  \n",
       "0   981.81  107.99   179.13   107.42  107.42  179.03    33.08        0  \n",
       "1    30.15   83.89   173.87    35.81  143.04   30.15   942.14        0  \n",
       "2   -14.18  238.68     0.00   224.50    0.00    0.00     0.00        1  \n",
       "3  1575.25   80.02    89.26    92.56   60.26   68.07    75.58        0  \n",
       "4    80.96  966.99  1171.37  1198.58  995.67   80.96  6067.73        0  "
      ],
      "text/html": "<div>\n<style scoped>\n    .dataframe tbody tr th:only-of-type {\n        vertical-align: middle;\n    }\n\n    .dataframe tbody tr th {\n        vertical-align: top;\n    }\n\n    .dataframe thead th {\n        text-align: right;\n    }\n</style>\n<table border=\"1\" class=\"dataframe\">\n  <thead>\n    <tr style=\"text-align: right;\">\n      <th></th>\n      <th>limit</th>\n      <th>gender</th>\n      <th>education</th>\n      <th>marriage</th>\n      <th>age</th>\n      <th>behind1</th>\n      <th>behind2</th>\n      <th>behind3</th>\n      <th>behind4</th>\n      <th>behind5</th>\n      <th>behind6</th>\n      <th>billed1</th>\n      <th>billed2</th>\n      <th>billed3</th>\n      <th>billed4</th>\n      <th>billed5</th>\n      <th>billed6</th>\n      <th>paid1</th>\n      <th>paid2</th>\n      <th>paid3</th>\n      <th>paid4</th>\n      <th>paid5</th>\n      <th>paid6</th>\n      <th>default</th>\n    </tr>\n  </thead>\n  <tbody>\n    <tr>\n      <th>0</th>\n      <td>1790.26</td>\n      <td>2</td>\n      <td>2</td>\n      <td>1</td>\n      <td>44</td>\n      <td>0</td>\n      <td>0</td>\n      <td>0</td>\n      <td>0</td>\n      <td>0</td>\n      <td>0</td>\n      <td>1631.93</td>\n      <td>1500.45</td>\n      <td>1278.35</td>\n      <td>800.60</td>\n      <td>847.12</td>\n      <td>981.81</td>\n      <td>107.99</td>\n      <td>179.13</td>\n      <td>107.42</td>\n      <td>107.42</td>\n      <td>179.03</td>\n      <td>33.08</td>\n      <td>0</td>\n    </tr>\n    <tr>\n      <th>1</th>\n      <td>5728.83</td>\n      <td>2</td>\n      <td>3</td>\n      <td>1</td>\n      <td>46</td>\n      <td>-1</td>\n      <td>-1</td>\n      <td>-1</td>\n      <td>0</td>\n      <td>-1</td>\n      <td>-1</td>\n      <td>891.69</td>\n      <td>83.71</td>\n      <td>173.87</td>\n      <td>147.77</td>\n      <td>143.04</td>\n      <td>30.15</td>\n      <td>83.89</td>\n      <td>173.87</td>\n      <td>35.81</td>\n      <td>143.04</td>\n      <td>30.15</td>\n      <td>942.14</td>\n      <td>0</td>\n    </tr>\n    <tr>\n      <th>2</th>\n      <td>3580.52</td>\n      <td>2</td>\n      <td>2</td>\n      <td>1</td>\n      <td>47</td>\n      <td>-1</td>\n      <td>-1</td>\n      <td>-1</td>\n      <td>-1</td>\n      <td>-1</td>\n      <td>-2</td>\n      <td>238.68</td>\n      <td>238.68</td>\n      <td>0.00</td>\n      <td>224.50</td>\n      <td>-14.18</td>\n      <td>-14.18</td>\n      <td>238.68</td>\n      <td>0.00</td>\n      <td>224.50</td>\n      <td>0.00</td>\n      <td>0.00</td>\n      <td>0.00</td>\n      <td>1</td>\n    </tr>\n    <tr>\n      <th>3</th>\n      <td>6086.88</td>\n      <td>2</td>\n      <td>2</td>\n      <td>1</td>\n      <td>29</td>\n      <td>0</td>\n      <td>0</td>\n      <td>0</td>\n      <td>0</td>\n      <td>0</td>\n      <td>0</td>\n      <td>2831.87</td>\n      <td>2240.51</td>\n      <td>2267.08</td>\n      <td>2288.06</td>\n      <td>1557.71</td>\n      <td>1575.25</td>\n      <td>80.02</td>\n      <td>89.26</td>\n      <td>92.56</td>\n      <td>60.26</td>\n      <td>68.07</td>\n      <td>75.58</td>\n      <td>0</td>\n    </tr>\n    <tr>\n      <th>4</th>\n      <td>5370.78</td>\n      <td>2</td>\n      <td>1</td>\n      <td>2</td>\n      <td>33</td>\n      <td>-2</td>\n      <td>-2</td>\n      <td>-2</td>\n      <td>-2</td>\n      <td>-2</td>\n      <td>-2</td>\n      <td>873.40</td>\n      <td>961.26</td>\n      <td>1170.90</td>\n      <td>1198.01</td>\n      <td>995.38</td>\n      <td>80.96</td>\n      <td>966.99</td>\n      <td>1171.37</td>\n      <td>1198.58</td>\n      <td>995.67</td>\n      <td>80.96</td>\n      <td>6067.73</td>\n      <td>0</td>\n    </tr>\n  </tbody>\n</table>\n</div>"
     },
     "metadata": {},
     "execution_count": 44
    }
   ],
   "source": [
    "tr.head()"
   ]
  },
  {
   "cell_type": "code",
   "execution_count": 45,
   "metadata": {},
   "outputs": [],
   "source": [
    "pickle_out = open(\"../data/training_cleaned.pickle\",\"wb\")\n",
    "pickle.dump(tr, pickle_out)\n",
    "pickle_out.close()"
   ]
  },
  {
   "cell_type": "code",
   "execution_count": 46,
   "metadata": {},
   "outputs": [],
   "source": [
    "pickle_out = open(\"../data/validate_cleaned.pickle\",\"wb\")\n",
    "pickle.dump(val, pickle_out)\n",
    "pickle_out.close()"
   ]
  },
  {
   "cell_type": "markdown",
   "metadata": {},
   "source": [
    "# <a id='6'>Exploratory Data Analysis</a>"
   ]
  },
  {
   "cell_type": "code",
   "execution_count": 47,
   "metadata": {},
   "outputs": [],
   "source": [
    "# organize features into categorical and continuous\n",
    "categorical = tr[['gender', 'marriage', 'education', 'behind1', 'behind2', 'behind3', 'behind4', 'behind5', 'behind6']]\n",
    "continuous = tr[['limit', 'age', 'billed1', 'billed2', 'billed3', 'billed4', 'billed5', 'billed6', 'paid1', 'paid2', 'paid3', 'paid4', 'paid5', 'paid6']]\n",
    "cat_col = categorical.columns\n",
    "cont_col = continuous.columns"
   ]
  },
  {
   "cell_type": "code",
   "execution_count": 48,
   "metadata": {},
   "outputs": [],
   "source": [
    "# display distributions of all the continuous variables\n",
    "\n",
    "# con_1 = pd.melt(tr, value_vars = cont_col)\n",
    "# sns.set_theme(style=\"darkgrid\", font='serif', context='talk')\n",
    "# g = sns.FacetGrid(con_1, col='variable', col_wrap=3, sharex=False, sharey=False, height=4)\n",
    "# g = g.map(sns.distplot, 'value', color='r')\n",
    "# g.set_xticklabels(rotation=45)\n",
    "# g.fig.subplots_adjust(top=0.9)\n",
    "# g.fig.suptitle(\"Distributions of Continuous Features\")\n",
    "# g.fig.tight_layout()\n",
    "# plt.savefig(\"../images/distplot.png\")"
   ]
  },
  {
   "cell_type": "markdown",
   "metadata": {},
   "source": [
    "<img src=\"../images/distplot.png\">"
   ]
  },
  {
   "cell_type": "code",
   "execution_count": 49,
   "metadata": {},
   "outputs": [],
   "source": [
    "# Use bar graphs of the distribution of data for categorical variables\n",
    "\n",
    "# cat_1 = pd.melt(tr, value_vars=cat_col)\n",
    "# sns.set_theme(style=\"darkgrid\", font='serif', context='talk')\n",
    "# g = sns.FacetGrid(cat_1, col='variable', col_wrap=3, sharex=False, sharey=False, height=4)\n",
    "# g = g.map(sns.countplot, 'value', color='dodgerblue')\n",
    "# g.set_xticklabels()\n",
    "# g.fig.subplots_adjust(top=0.9)\n",
    "# g.fig.suptitle(\"Distributions of Categorical Features\")\n",
    "# g.fig.tight_layout()\n",
    "# plt.savefig(\"../images/countplot.png\")"
   ]
  },
  {
   "cell_type": "markdown",
   "metadata": {},
   "source": [
    "<img src=\"../images/countplot.png\">"
   ]
  },
  {
   "cell_type": "code",
   "execution_count": 50,
   "metadata": {},
   "outputs": [],
   "source": [
    "yes = tr.default.sum()\n",
    "no = len(tr)-yes\n",
    "perc_y = round(yes/len(tr)*100, 1)\n",
    "perc_n = round(no/len(tr)*100, 1)\n",
    "\n",
    "# plt.figure(figsize=(8,6))\n",
    "# sns.set_theme(style=\"darkgrid\", font='serif', context='talk')\n",
    "# sns.countplot('default', data=tr)\n",
    "# plt.title('Credit Card Baseline Default', size=16)\n",
    "# plt.box(False);\n",
    "# plt.savefig(\"../images/baseline.png\")"
   ]
  },
  {
   "cell_type": "markdown",
   "metadata": {},
   "source": [
    "<img src=\"../images/baseline.png\">"
   ]
  },
  {
   "cell_type": "code",
   "execution_count": 51,
   "metadata": {},
   "outputs": [
    {
     "output_type": "stream",
     "name": "stdout",
     "text": [
      "Number of Total Non-Defaulters:  4656\nNumber of Defaulters:  16344\nPercentage of Non-Defaulters:  22.2\nPercentage of Defaulters:  77.8\n"
     ]
    },
    {
     "output_type": "execute_result",
     "data": {
      "text/plain": [
       "                                  Training Dataset\n",
       "Number of Total Non-Defaulters:             4656.0\n",
       "Number of Defaulters:                      16344.0\n",
       "Percentage of Non-Defaulters:                 22.2\n",
       "Percentage of Defaulters:                     77.8"
      ],
      "text/html": "<div>\n<style scoped>\n    .dataframe tbody tr th:only-of-type {\n        vertical-align: middle;\n    }\n\n    .dataframe tbody tr th {\n        vertical-align: top;\n    }\n\n    .dataframe thead th {\n        text-align: right;\n    }\n</style>\n<table border=\"1\" class=\"dataframe\">\n  <thead>\n    <tr style=\"text-align: right;\">\n      <th></th>\n      <th>Training Dataset</th>\n    </tr>\n  </thead>\n  <tbody>\n    <tr>\n      <th>Number of Total Non-Defaulters:</th>\n      <td>4656.0</td>\n    </tr>\n    <tr>\n      <th>Number of Defaulters:</th>\n      <td>16344.0</td>\n    </tr>\n    <tr>\n      <th>Percentage of Non-Defaulters:</th>\n      <td>22.2</td>\n    </tr>\n    <tr>\n      <th>Percentage of Defaulters:</th>\n      <td>77.8</td>\n    </tr>\n  </tbody>\n</table>\n</div>"
     },
     "metadata": {},
     "execution_count": 51
    }
   ],
   "source": [
    "print(\"Number of Total Non-Defaulters: \", yes)\n",
    "print(\"Number of Defaulters: \", no)\n",
    "print(\"Percentage of Non-Defaulters: \", perc_y)\n",
    "print(\"Percentage of Defaulters: \", perc_n)\n",
    "\n",
    "pd.DataFrame\n",
    "default = pd.DataFrame(data = {\"Training Dataset\": [yes, no, perc_y, perc_n]}, \n",
    "                       index = [\"Number of Total Non-Defaulters: \", \"Number of Defaulters: \", \"Percentage of Non-Defaulters: \", \"Percentage of Defaulters: \"])\n",
    "default"
   ]
  },
  {
   "cell_type": "code",
   "execution_count": 52,
   "metadata": {},
   "outputs": [],
   "source": [
    "# subset = tr[['gender', 'education', 'marriage', 'behind1', 'behind2', 'behind3', 'behind4', 'behind5', 'behind6', 'default']]\n",
    "# f, axes = plt.subplots(3, 3, figsize=(15, 12), facecolor='white')\n",
    "# sns.set_theme(style=\"darkgrid\", font='serif', context='paper')\n",
    "# f.suptitle('Frequency of Categorical Variables', size=16)\n",
    "# ax1 = sns.countplot(x=\"gender\", hue=\"default\", data=subset, ax=axes[0,0])\n",
    "# ax2 = sns.countplot(x=\"education\", hue=\"default\", data=subset, ax=axes[0,1])\n",
    "# ax3 = sns.countplot(x=\"marriage\", hue=\"default\", data=subset, ax=axes[0,2])\n",
    "# ax4 = sns.countplot(x=\"behind1\", hue=\"default\", data=subset, ax=axes[1,0])\n",
    "# ax5 = sns.countplot(x=\"behind2\", hue=\"default\", data=subset, ax=axes[1,1])\n",
    "# ax6 = sns.countplot(x=\"behind3\", hue=\"default\", data=subset, ax=axes[1,2])\n",
    "# ax7 = sns.countplot(x=\"behind4\", hue=\"default\", data=subset, ax=axes[2,0])\n",
    "# ax8 = sns.countplot(x=\"behind5\", hue=\"default\", data=subset, ax=axes[2,1])\n",
    "# ax9 = sns.countplot(x=\"behind6\", hue=\"default\", data=subset, ax=axes[2,2])\n",
    "# plt.savefig(\"../images/default_freq_by_cat.png\")"
   ]
  },
  {
   "cell_type": "markdown",
   "metadata": {},
   "source": [
    "<img src=\"../images/default_freq_by_cat.png\">"
   ]
  },
  {
   "cell_type": "code",
   "execution_count": 53,
   "metadata": {},
   "outputs": [],
   "source": [
    "# plt.figure(figsize = (14,6))\n",
    "# plt.title('Distribution of Credit Limit', size=16)\n",
    "# sns.set_theme(style=\"darkgrid\", font='serif', context='poster')\n",
    "# g = sns.distplot(tr['limit'], kde=True, bins=200, color=\"blue\")\n",
    "# plt.show()\n",
    "# plt.savefig(\"../images/credit_limit.png\")"
   ]
  },
  {
   "cell_type": "markdown",
   "metadata": {},
   "source": [
    "<img src=\"../images/credit_limit.png\">"
   ]
  },
  {
   "cell_type": "code",
   "execution_count": 54,
   "metadata": {},
   "outputs": [],
   "source": [
    "# sns.set_theme(style=\"darkgrid\", font='serif', context='talk')\n",
    "# class_0 = tr.loc[tr['default'] == 0][\"limit\"]\n",
    "# class_1 = tr.loc[tr['default'] == 1][\"limit\"]\n",
    "# plt.figure(figsize = (14,6))\n",
    "# plt.title('Credit Limit by Default', size=16)\n",
    "# sns.set_theme(style=\"darkgrid\", font='serif', context='poster')\n",
    "# sns.distplot(class_1, kde=True, bins=200, color=\"blue\", label=\"No\")\n",
    "# sns.distplot(class_0, kde=True, bins=200, color=\"red\", label=\"Yes\")\n",
    "# plt.legend(title = 'default', loc='upper right', facecolor='white')\n",
    "# plt.show()\n",
    "# plt.savefig(\"../images/credit_limit_by_default.png\")"
   ]
  },
  {
   "cell_type": "markdown",
   "metadata": {},
   "source": [
    "<img src=\"../images/credit_limit_by_default.png\">"
   ]
  },
  {
   "cell_type": "code",
   "execution_count": 55,
   "metadata": {},
   "outputs": [],
   "source": [
    "# sns.boxplot(x=\"gender\", hue=\"default\", y=\"limit\", data=tr, palette=\"tab10\")\n",
    "# plt.legend(bbox_to_anchor=(1.01, 1), borderaxespad=0)\n",
    "# plt.tight_layout()\n",
    "# plt.title(\"Gender vs. Credit Limit for Defaulters and Non-defaulters\", size=14)\n",
    "# plt.savefig(\"../images/boxplot4.png\")"
   ]
  },
  {
   "cell_type": "markdown",
   "metadata": {},
   "source": [
    "<img src=\"../images/boxplot4.png\">"
   ]
  },
  {
   "cell_type": "code",
   "execution_count": 56,
   "metadata": {},
   "outputs": [],
   "source": [
    "# sns.boxplot(x='education', hue='default', y='limit', data=tr, palette='tab10')\n",
    "# plt.legend(bbox_to_anchor=(1.01, 1), borderaxespad=0)\n",
    "# plt.tight_layout()\n",
    "# plt.title(\"Education vs. Credit Limit for Defaulters and Non-defaulters\", size=14)\n",
    "# plt.savefig(\"../images/boxplot5.png\")"
   ]
  },
  {
   "cell_type": "markdown",
   "metadata": {},
   "source": [
    "<img src=\"../images/boxplot5.png\">"
   ]
  },
  {
   "cell_type": "code",
   "execution_count": 57,
   "metadata": {},
   "outputs": [],
   "source": [
    "# sns.boxplot(x='marriage', hue='default', y='limit', data=tr, palette='tab10')\n",
    "# plt.legend(bbox_to_anchor=(1.01, 1), borderaxespad=0)\n",
    "# plt.tight_layout()\n",
    "# plt.title(\"Marriage Status vs. Credit Limit for Defaulters and Non-defaulters\", size=14)\n",
    "# plt.savefig(\"../images/boxplot6.png\")"
   ]
  },
  {
   "cell_type": "markdown",
   "metadata": {},
   "source": [
    "<img src=\"../images/boxplot6.png\">"
   ]
  },
  {
   "cell_type": "code",
   "execution_count": 58,
   "metadata": {},
   "outputs": [
    {
     "output_type": "execute_result",
     "data": {
      "text/plain": [
       "default      0     1\n",
       "gender              \n",
       "1         6272  2019\n",
       "2        10072  2637"
      ],
      "text/html": "<div>\n<style scoped>\n    .dataframe tbody tr th:only-of-type {\n        vertical-align: middle;\n    }\n\n    .dataframe tbody tr th {\n        vertical-align: top;\n    }\n\n    .dataframe thead th {\n        text-align: right;\n    }\n</style>\n<table border=\"1\" class=\"dataframe\">\n  <thead>\n    <tr style=\"text-align: right;\">\n      <th>default</th>\n      <th>0</th>\n      <th>1</th>\n    </tr>\n    <tr>\n      <th>gender</th>\n      <th></th>\n      <th></th>\n    </tr>\n  </thead>\n  <tbody>\n    <tr>\n      <th>1</th>\n      <td>6272</td>\n      <td>2019</td>\n    </tr>\n    <tr>\n      <th>2</th>\n      <td>10072</td>\n      <td>2637</td>\n    </tr>\n  </tbody>\n</table>\n</div>"
     },
     "metadata": {},
     "execution_count": 58
    }
   ],
   "source": [
    "sex = tr.groupby(['gender', 'default']).size().unstack(1)\n",
    "sex"
   ]
  },
  {
   "cell_type": "code",
   "execution_count": 59,
   "metadata": {},
   "outputs": [],
   "source": [
    "# sns.set_theme(style=\"darkgrid\", font='serif', context='poster')\n",
    "# sex.plot(kind=\"bar\", stacked=True)\n",
    "# plt.legend(bbox_to_anchor=(1.01, 1), borderaxespad=0)\n",
    "# plt.title(\"Distribution Count for Gender and Default Status\",size=14)\n",
    "# plt.savefig(\"../images/stacked_bar.png\")"
   ]
  },
  {
   "cell_type": "markdown",
   "metadata": {},
   "source": [
    "<img src=\"../images/stacked_bar.png\">"
   ]
  },
  {
   "cell_type": "code",
   "execution_count": 60,
   "metadata": {},
   "outputs": [],
   "source": [
    "# sns.set_theme(style=\"darkgrid\", font='serif', context='talk')\n",
    "# sns.boxplot(x='default', y='age', data=tr, palette='tab10')\n",
    "# plt.title(\"Distribution of Default Status by Age\", size=14)\n",
    "# plt.savefig(\"../images/boxplot1.png\")"
   ]
  },
  {
   "cell_type": "markdown",
   "metadata": {},
   "source": [
    "<img src=\"../images/boxplot1.png\">"
   ]
  },
  {
   "cell_type": "code",
   "execution_count": 61,
   "metadata": {},
   "outputs": [
    {
     "output_type": "execute_result",
     "data": {
      "text/plain": [
       "default       0     1\n",
       "education            \n",
       "1          6013  1424\n",
       "2          7408  2341\n",
       "3          2626   866\n",
       "4           297    25"
      ],
      "text/html": "<div>\n<style scoped>\n    .dataframe tbody tr th:only-of-type {\n        vertical-align: middle;\n    }\n\n    .dataframe tbody tr th {\n        vertical-align: top;\n    }\n\n    .dataframe thead th {\n        text-align: right;\n    }\n</style>\n<table border=\"1\" class=\"dataframe\">\n  <thead>\n    <tr style=\"text-align: right;\">\n      <th>default</th>\n      <th>0</th>\n      <th>1</th>\n    </tr>\n    <tr>\n      <th>education</th>\n      <th></th>\n      <th></th>\n    </tr>\n  </thead>\n  <tbody>\n    <tr>\n      <th>1</th>\n      <td>6013</td>\n      <td>1424</td>\n    </tr>\n    <tr>\n      <th>2</th>\n      <td>7408</td>\n      <td>2341</td>\n    </tr>\n    <tr>\n      <th>3</th>\n      <td>2626</td>\n      <td>866</td>\n    </tr>\n    <tr>\n      <th>4</th>\n      <td>297</td>\n      <td>25</td>\n    </tr>\n  </tbody>\n</table>\n</div>"
     },
     "metadata": {},
     "execution_count": 61
    }
   ],
   "source": [
    "education = tr.groupby(['education', 'default']).size().unstack(1)\n",
    "education"
   ]
  },
  {
   "cell_type": "code",
   "execution_count": 62,
   "metadata": {},
   "outputs": [],
   "source": [
    "# education.plot(kind=\"bar\", stacked=True)\n",
    "# plt.title(\"Distribution Count of Educational Level and Default Status\", size=14)\n",
    "# plt.savefig(\"../data/stacked_bar2.png\")"
   ]
  },
  {
   "cell_type": "markdown",
   "metadata": {},
   "source": [
    "<img src=\"../images/stacked_bar2.png\">"
   ]
  },
  {
   "cell_type": "code",
   "execution_count": 63,
   "metadata": {},
   "outputs": [],
   "source": [
    "# sns.boxplot(x='default', y='age', hue='education', data=tr, palette='tab10')\n",
    "# plt.legend(bbox_to_anchor=(1.01, 1), borderaxespad=0)\n",
    "# plt.tight_layout()\n",
    "# plt.title(\"Default Status vs. Age for Different Educational Status\", size=14)\n",
    "# plt.savefig(\"../images/boxplot3.png\")"
   ]
  },
  {
   "cell_type": "markdown",
   "metadata": {},
   "source": [
    "<img src=\"../images/boxplot3.png\">"
   ]
  },
  {
   "cell_type": "code",
   "execution_count": 64,
   "metadata": {},
   "outputs": [
    {
     "output_type": "execute_result",
     "data": {
      "text/plain": [
       "default      0     1\n",
       "marriage            \n",
       "1         7354  2258\n",
       "2         8778  2336\n",
       "3          212    62"
      ],
      "text/html": "<div>\n<style scoped>\n    .dataframe tbody tr th:only-of-type {\n        vertical-align: middle;\n    }\n\n    .dataframe tbody tr th {\n        vertical-align: top;\n    }\n\n    .dataframe thead th {\n        text-align: right;\n    }\n</style>\n<table border=\"1\" class=\"dataframe\">\n  <thead>\n    <tr style=\"text-align: right;\">\n      <th>default</th>\n      <th>0</th>\n      <th>1</th>\n    </tr>\n    <tr>\n      <th>marriage</th>\n      <th></th>\n      <th></th>\n    </tr>\n  </thead>\n  <tbody>\n    <tr>\n      <th>1</th>\n      <td>7354</td>\n      <td>2258</td>\n    </tr>\n    <tr>\n      <th>2</th>\n      <td>8778</td>\n      <td>2336</td>\n    </tr>\n    <tr>\n      <th>3</th>\n      <td>212</td>\n      <td>62</td>\n    </tr>\n  </tbody>\n</table>\n</div>"
     },
     "metadata": {},
     "execution_count": 64
    }
   ],
   "source": [
    "marriage = tr.groupby(['marriage', 'default']).size().unstack(1)\n",
    "marriage"
   ]
  },
  {
   "cell_type": "code",
   "execution_count": 65,
   "metadata": {},
   "outputs": [],
   "source": [
    "# sns.boxplot(x='default', y='age', hue='marriage', data=tr, palette='tab10')\n",
    "# plt.legend(bbox_to_anchor=(1.01, 1), borderaxespad=0)\n",
    "# plt.tight_layout()\n",
    "# plt.savefig(\"../images/boxplot2.png\")"
   ]
  },
  {
   "cell_type": "markdown",
   "metadata": {},
   "source": [
    "<img src=\"../images/boxplot2.png\">"
   ]
  },
  {
   "cell_type": "code",
   "execution_count": 66,
   "metadata": {},
   "outputs": [],
   "source": [
    "# marriage.plot(kind=\"bar\", stacked=True)\n",
    "# plt.title(\"Distribution of Default Status for Marital Status\", size=14)\n",
    "# plt.savefig(\"../images/stacked_bar3.png\")"
   ]
  },
  {
   "source": [
    "<img src=\"../images/stacked_bar3.png\">"
   ],
   "cell_type": "markdown",
   "metadata": {}
  },
  {
   "cell_type": "code",
   "execution_count": 67,
   "metadata": {},
   "outputs": [],
   "source": [
    "# sns.set_theme(style=\"darkgrid\", font='serif', context='notebook')\n",
    "# g = sns.FacetGrid(tr, col='gender', row=\"marriage\", hue='default', sharey=False)\n",
    "# g.map(plt.hist, 'age', alpha=0.3, bins=50)\n",
    "# g.add_legend()\n",
    "# g.savefig(\"../images/marriage_gender.png\")"
   ]
  },
  {
   "cell_type": "markdown",
   "metadata": {},
   "source": [
    "<img src=\"../images/marriage_gender.png\">"
   ]
  },
  {
   "cell_type": "code",
   "execution_count": 68,
   "metadata": {},
   "outputs": [],
   "source": [
    "# sns.set_theme(style=\"darkgrid\", font='serif', context='talk')\n",
    "# g = sns.pairplot(tr[['gender', 'education', 'marriage', 'limit', 'age', 'default']], \n",
    "#              hue=\"default\", \n",
    "#              diag_kind=\"kde\",\n",
    "#              size=4);\n",
    "# g.savefig(\"../images/pairplot1.png\")"
   ]
  },
  {
   "cell_type": "markdown",
   "metadata": {},
   "source": [
    "<img src=\"../images/pairplot1.png\">"
   ]
  },
  {
   "cell_type": "code",
   "execution_count": 69,
   "metadata": {},
   "outputs": [],
   "source": [
    "# sns.set_theme(style=\"darkgrid\", font='serif', context='poster')\n",
    "# g = sns.pairplot(tr[['behind1', 'behind2', 'behind3', 'behind4', 'behind5', 'behind6', 'default']], \n",
    "#              hue=\"default\", \n",
    "#              diag_kind=\"kde\",\n",
    "#              size=4)\n",
    "# g.savefig(\"../images/pairplot2.png\")"
   ]
  },
  {
   "cell_type": "markdown",
   "metadata": {},
   "source": [
    "<img src=\"../images/pairplot2.png\">\n"
   ]
  },
  {
   "cell_type": "code",
   "execution_count": 70,
   "metadata": {},
   "outputs": [],
   "source": [
    "# plt.style.use(\"fivethirtyeight\")\n",
    "# sns.set_theme(style=\"darkgrid\", font='serif', context='poster')\n",
    "# g = sns.pairplot(tr[['billed1', 'billed2', 'billed3', 'billed4', 'billed5', 'billed6', 'default']], \n",
    "#              hue=\"default\", \n",
    "#              diag_kind=\"kde\",\n",
    "#              size=4)\n",
    "# g.savefig(\"../images/pairplot3.png\")"
   ]
  },
  {
   "cell_type": "markdown",
   "metadata": {},
   "source": [
    "<img src=\"../images/pairplot3.png\">"
   ]
  },
  {
   "cell_type": "code",
   "execution_count": 71,
   "metadata": {},
   "outputs": [],
   "source": [
    "# sns.set_theme(style=\"darkgrid\", font='serif', context='talk')\n",
    "# g = sns.pairplot(tr[['paid1', 'paid2', 'paid3', 'paid4', 'paid5', 'paid6', 'default']], \n",
    "#              hue=\"default\", \n",
    "#              diag_kind=\"kde\",\n",
    "#              size=4)\n",
    "# g.savefig(\"../images/pairplot4.png\")"
   ]
  },
  {
   "cell_type": "markdown",
   "metadata": {},
   "source": [
    "<img src=\"../images/pairplot4.png\">"
   ]
  },
  {
   "cell_type": "code",
   "execution_count": 72,
   "metadata": {},
   "outputs": [],
   "source": [
    "# plt.style.use(\"fivethirtyeight\")\n",
    "# sns.set_theme(style=\"darkgrid\", font='serif', context='paper')\n",
    "# plt.figure(figsize = (20,16))\n",
    "# plt.title('Pearson Correlation of Features', y = 1.05, size = 20)\n",
    "# # mask = np.zeros(tr.corr().shape, dtype=bool)\n",
    "# # mask[np.triu_indices(len(mask))] = True\n",
    "# g = sns.heatmap(tr.corr(), cmap='RdBu', annot=True, square=True, linecolor='white', linewidths=0.2, fmt=\".1f\")\n",
    "# plt.savefig(\"../images/correlation_matrix.png\")"
   ]
  },
  {
   "cell_type": "markdown",
   "metadata": {},
   "source": [
    "# <a id='7'>Feature Engineering</a>"
   ]
  },
  {
   "cell_type": "code",
   "execution_count": 73,
   "metadata": {},
   "outputs": [
    {
     "output_type": "execute_result",
     "data": {
      "text/plain": [
       "     limit  gender  education  marriage  age  behind1  behind2  behind3  \\\n",
       "0  1790.26       2          2         1   44        0        0        0   \n",
       "1  5728.83       2          3         1   46       -1       -1       -1   \n",
       "2  3580.52       2          2         1   47       -1       -1       -1   \n",
       "3  6086.88       2          2         1   29        0        0        0   \n",
       "4  5370.78       2          1         2   33       -2       -2       -2   \n",
       "\n",
       "   behind4  behind5  behind6  billed1  billed2  billed3  billed4  billed5  \\\n",
       "0        0        0        0  1631.93  1500.45  1278.35   800.60   847.12   \n",
       "1        0       -1       -1   891.69    83.71   173.87   147.77   143.04   \n",
       "2       -1       -1       -2   238.68   238.68     0.00   224.50   -14.18   \n",
       "3        0        0        0  2831.87  2240.51  2267.08  2288.06  1557.71   \n",
       "4       -2       -2       -2   873.40   961.26  1170.90  1198.01   995.38   \n",
       "\n",
       "   billed6   paid1    paid2    paid3   paid4   paid5    paid6  default  \n",
       "0   981.81  107.99   179.13   107.42  107.42  179.03    33.08        0  \n",
       "1    30.15   83.89   173.87    35.81  143.04   30.15   942.14        0  \n",
       "2   -14.18  238.68     0.00   224.50    0.00    0.00     0.00        1  \n",
       "3  1575.25   80.02    89.26    92.56   60.26   68.07    75.58        0  \n",
       "4    80.96  966.99  1171.37  1198.58  995.67   80.96  6067.73        0  "
      ],
      "text/html": "<div>\n<style scoped>\n    .dataframe tbody tr th:only-of-type {\n        vertical-align: middle;\n    }\n\n    .dataframe tbody tr th {\n        vertical-align: top;\n    }\n\n    .dataframe thead th {\n        text-align: right;\n    }\n</style>\n<table border=\"1\" class=\"dataframe\">\n  <thead>\n    <tr style=\"text-align: right;\">\n      <th></th>\n      <th>limit</th>\n      <th>gender</th>\n      <th>education</th>\n      <th>marriage</th>\n      <th>age</th>\n      <th>behind1</th>\n      <th>behind2</th>\n      <th>behind3</th>\n      <th>behind4</th>\n      <th>behind5</th>\n      <th>behind6</th>\n      <th>billed1</th>\n      <th>billed2</th>\n      <th>billed3</th>\n      <th>billed4</th>\n      <th>billed5</th>\n      <th>billed6</th>\n      <th>paid1</th>\n      <th>paid2</th>\n      <th>paid3</th>\n      <th>paid4</th>\n      <th>paid5</th>\n      <th>paid6</th>\n      <th>default</th>\n    </tr>\n  </thead>\n  <tbody>\n    <tr>\n      <th>0</th>\n      <td>1790.26</td>\n      <td>2</td>\n      <td>2</td>\n      <td>1</td>\n      <td>44</td>\n      <td>0</td>\n      <td>0</td>\n      <td>0</td>\n      <td>0</td>\n      <td>0</td>\n      <td>0</td>\n      <td>1631.93</td>\n      <td>1500.45</td>\n      <td>1278.35</td>\n      <td>800.60</td>\n      <td>847.12</td>\n      <td>981.81</td>\n      <td>107.99</td>\n      <td>179.13</td>\n      <td>107.42</td>\n      <td>107.42</td>\n      <td>179.03</td>\n      <td>33.08</td>\n      <td>0</td>\n    </tr>\n    <tr>\n      <th>1</th>\n      <td>5728.83</td>\n      <td>2</td>\n      <td>3</td>\n      <td>1</td>\n      <td>46</td>\n      <td>-1</td>\n      <td>-1</td>\n      <td>-1</td>\n      <td>0</td>\n      <td>-1</td>\n      <td>-1</td>\n      <td>891.69</td>\n      <td>83.71</td>\n      <td>173.87</td>\n      <td>147.77</td>\n      <td>143.04</td>\n      <td>30.15</td>\n      <td>83.89</td>\n      <td>173.87</td>\n      <td>35.81</td>\n      <td>143.04</td>\n      <td>30.15</td>\n      <td>942.14</td>\n      <td>0</td>\n    </tr>\n    <tr>\n      <th>2</th>\n      <td>3580.52</td>\n      <td>2</td>\n      <td>2</td>\n      <td>1</td>\n      <td>47</td>\n      <td>-1</td>\n      <td>-1</td>\n      <td>-1</td>\n      <td>-1</td>\n      <td>-1</td>\n      <td>-2</td>\n      <td>238.68</td>\n      <td>238.68</td>\n      <td>0.00</td>\n      <td>224.50</td>\n      <td>-14.18</td>\n      <td>-14.18</td>\n      <td>238.68</td>\n      <td>0.00</td>\n      <td>224.50</td>\n      <td>0.00</td>\n      <td>0.00</td>\n      <td>0.00</td>\n      <td>1</td>\n    </tr>\n    <tr>\n      <th>3</th>\n      <td>6086.88</td>\n      <td>2</td>\n      <td>2</td>\n      <td>1</td>\n      <td>29</td>\n      <td>0</td>\n      <td>0</td>\n      <td>0</td>\n      <td>0</td>\n      <td>0</td>\n      <td>0</td>\n      <td>2831.87</td>\n      <td>2240.51</td>\n      <td>2267.08</td>\n      <td>2288.06</td>\n      <td>1557.71</td>\n      <td>1575.25</td>\n      <td>80.02</td>\n      <td>89.26</td>\n      <td>92.56</td>\n      <td>60.26</td>\n      <td>68.07</td>\n      <td>75.58</td>\n      <td>0</td>\n    </tr>\n    <tr>\n      <th>4</th>\n      <td>5370.78</td>\n      <td>2</td>\n      <td>1</td>\n      <td>2</td>\n      <td>33</td>\n      <td>-2</td>\n      <td>-2</td>\n      <td>-2</td>\n      <td>-2</td>\n      <td>-2</td>\n      <td>-2</td>\n      <td>873.40</td>\n      <td>961.26</td>\n      <td>1170.90</td>\n      <td>1198.01</td>\n      <td>995.38</td>\n      <td>80.96</td>\n      <td>966.99</td>\n      <td>1171.37</td>\n      <td>1198.58</td>\n      <td>995.67</td>\n      <td>80.96</td>\n      <td>6067.73</td>\n      <td>0</td>\n    </tr>\n  </tbody>\n</table>\n</div>"
     },
     "metadata": {},
     "execution_count": 73
    }
   ],
   "source": [
    "tr.head()"
   ]
  },
  {
   "cell_type": "code",
   "execution_count": 74,
   "metadata": {},
   "outputs": [],
   "source": [
    "data = [tr, val]\n",
    "\n",
    "# create features for demographic variables\n",
    "for d in data:\n",
    "    d['age_bin'] = 0\n",
    "    d.loc[((d['age'] > 20) & (d['age'] < 30)) , 'age_bin'] = 1\n",
    "    d.loc[((d['age'] >= 30) & (d['age'] < 60)) , 'age_bin'] = 2\n",
    "    d.loc[((d['age'] >= 60) & (d['age'] < 81)) , 'age_bin'] = 3\n",
    "    # create categories for single, married, divorced males and females\n",
    "    d['gen-mar'] = d['gender'] + d['marriage']\n",
    "    # create categories for young, middle age and senior males and females\n",
    "    d['gen-age'] = d['gender'] + d['age_bin']\n",
    "\n",
    "# feature for credit use percentage: fraction of estimated available balance based on what is billed per month\n",
    "# (credit limit - monthly billed amount) / credit limit\n",
    "for d in data:\n",
    "    d['avail6'] = (d.limit - d.billed6) / d.limit\n",
    "    d['avail5'] = (d.limit - d.billed5) / d.limit\n",
    "    d['avail4'] = (d.limit - d.billed4) / d.limit\n",
    "    d['avail3'] = (d.limit - d.billed3) / d.limit\n",
    "    d['avail2'] = (d.limit - d.billed2) / d.limit\n",
    "    d['avail1'] = (d.limit - d.billed1) / d.limit\n",
    "    d['avg_av'] = (d.avail1 + d.avail2 + d.avail3 + d.avail4 + d.avail5 + d.avail6) / 6\n",
    "\n",
    "# create a feature that indicates whether a client has had a delayed payment or not\n",
    "def delayed_payment(d):\n",
    "    if (d.behind1 > 0) or (d.behind2 > 0) or (d.behind3 > 0) or (d.behind4 > 0) or (d.behind5 > 0) or (d.behind6 > 0):\n",
    "        return 1\n",
    "    else:\n",
    "        return 0\n",
    "for d in data:\n",
    "    d['delayed'] = d.apply(delayed_payment, axis=1)\n",
    "\n",
    "# create feature for the total number of months with delayed payment status for a particular client\n",
    "def total_months_with_delayed_payments(d):\n",
    "    count = 0\n",
    "    if (d.behind1 > 0):\n",
    "        count += 1\n",
    "    if (d.behind2 > 0):\n",
    "        count += 1\n",
    "    if (d.behind3 > 0):\n",
    "        count += 1\n",
    "    if (d.behind4 > 0):\n",
    "        count += 1\n",
    "    if (d.behind5 > 0):\n",
    "        count += 1\n",
    "    if (d.behind6 > 0):\n",
    "        count += 1\n",
    "    return count\n",
    "for d in data:\n",
    "    d['latemths'] = d.apply(total_months_with_delayed_payments, axis=1)\n",
    "\n",
    "# the ratio of amount paid and amount billed\n",
    "for d in data:\n",
    "    d['pperb1'] = d.paid1 / d.billed2\n",
    "    d['pperb2'] = d.paid2 / d.billed3\n",
    "    d['pperb3'] = d.paid3 / d.billed4\n",
    "    d['pperb4'] = d.paid4 / d.billed5\n",
    "    d['pperb5'] = d.paid5 / d.billed6\n",
    "\n",
    "# remove any infinity and NaN values\n",
    "datasets = ['pperb1', 'pperb2', 'pperb3', 'pperb4', 'pperb5']\n",
    "for data in datasets:\n",
    "    tr.replace({data: {np.inf: 0, np.nan: 0}}, inplace=True)\n",
    "    val.replace({data: {np.inf: 0, np.nan: 0}}, inplace=True)\n"
   ]
  },
  {
   "cell_type": "code",
   "execution_count": 77,
   "metadata": {},
   "outputs": [
    {
     "output_type": "execute_result",
     "data": {
      "text/plain": [
       "     limit  gender  education  marriage  age  behind1  behind2  behind3  \\\n",
       "0  1790.26       2          2         1   44        0        0        0   \n",
       "1  5728.83       2          3         1   46       -1       -1       -1   \n",
       "2  3580.52       2          2         1   47       -1       -1       -1   \n",
       "3  6086.88       2          2         1   29        0        0        0   \n",
       "4  5370.78       2          1         2   33       -2       -2       -2   \n",
       "\n",
       "   behind4  behind5  behind6  billed1  billed2  billed3  billed4  billed5  \\\n",
       "0        0        0        0  1631.93  1500.45  1278.35   800.60   847.12   \n",
       "1        0       -1       -1   891.69    83.71   173.87   147.77   143.04   \n",
       "2       -1       -1       -2   238.68   238.68     0.00   224.50   -14.18   \n",
       "3        0        0        0  2831.87  2240.51  2267.08  2288.06  1557.71   \n",
       "4       -2       -2       -2   873.40   961.26  1170.90  1198.01   995.38   \n",
       "\n",
       "   billed6   paid1    paid2    paid3   paid4   paid5    paid6  default  \\\n",
       "0   981.81  107.99   179.13   107.42  107.42  179.03    33.08        0   \n",
       "1    30.15   83.89   173.87    35.81  143.04   30.15   942.14        0   \n",
       "2   -14.18  238.68     0.00   224.50    0.00    0.00     0.00        1   \n",
       "3  1575.25   80.02    89.26    92.56   60.26   68.07    75.58        0   \n",
       "4    80.96  966.99  1171.37  1198.58  995.67   80.96  6067.73        0   \n",
       "\n",
       "   age_bin  gen-mar  gen-age    avail6    avail5    avail4    avail3  \\\n",
       "0        2        3        4  0.451582  0.526817  0.552802  0.285942   \n",
       "1        2        3        4  0.994737  0.975032  0.974206  0.969650   \n",
       "2        2        3        4  1.003960  1.003960  0.937300  1.000000   \n",
       "3        1        3        3  0.741206  0.744087  0.624100  0.627546   \n",
       "4        2        4        4  0.984926  0.814668  0.776939  0.781987   \n",
       "\n",
       "     avail2    avail1    avg_av  delayed  latemths    pperb1    pperb2  \\\n",
       "0  0.161882  0.088440  0.344578        0         0  0.071972  0.140126   \n",
       "1  0.985388  0.844350  0.957227        0         0  1.002150  1.000000   \n",
       "2  0.933339  0.933339  0.968650        0         0  1.000000  0.000000   \n",
       "3  0.631912  0.534758  0.650602        0         0  0.035715  0.039372   \n",
       "4  0.821020  0.837379  0.836153        0         0  1.005961  1.000401   \n",
       "\n",
       "     pperb3    pperb4    pperb5  \n",
       "0  0.134174  0.126806  0.182347  \n",
       "1  0.242336  1.000000  1.000000  \n",
       "2  1.000000 -0.000000 -0.000000  \n",
       "3  0.040453  0.038685  0.043212  \n",
       "4  1.000476  1.000291  1.000000  "
      ],
      "text/html": "<div>\n<style scoped>\n    .dataframe tbody tr th:only-of-type {\n        vertical-align: middle;\n    }\n\n    .dataframe tbody tr th {\n        vertical-align: top;\n    }\n\n    .dataframe thead th {\n        text-align: right;\n    }\n</style>\n<table border=\"1\" class=\"dataframe\">\n  <thead>\n    <tr style=\"text-align: right;\">\n      <th></th>\n      <th>limit</th>\n      <th>gender</th>\n      <th>education</th>\n      <th>marriage</th>\n      <th>age</th>\n      <th>behind1</th>\n      <th>behind2</th>\n      <th>behind3</th>\n      <th>behind4</th>\n      <th>behind5</th>\n      <th>behind6</th>\n      <th>billed1</th>\n      <th>billed2</th>\n      <th>billed3</th>\n      <th>billed4</th>\n      <th>billed5</th>\n      <th>billed6</th>\n      <th>paid1</th>\n      <th>paid2</th>\n      <th>paid3</th>\n      <th>paid4</th>\n      <th>paid5</th>\n      <th>paid6</th>\n      <th>default</th>\n      <th>age_bin</th>\n      <th>gen-mar</th>\n      <th>gen-age</th>\n      <th>avail6</th>\n      <th>avail5</th>\n      <th>avail4</th>\n      <th>avail3</th>\n      <th>avail2</th>\n      <th>avail1</th>\n      <th>avg_av</th>\n      <th>delayed</th>\n      <th>latemths</th>\n      <th>pperb1</th>\n      <th>pperb2</th>\n      <th>pperb3</th>\n      <th>pperb4</th>\n      <th>pperb5</th>\n    </tr>\n  </thead>\n  <tbody>\n    <tr>\n      <th>0</th>\n      <td>1790.26</td>\n      <td>2</td>\n      <td>2</td>\n      <td>1</td>\n      <td>44</td>\n      <td>0</td>\n      <td>0</td>\n      <td>0</td>\n      <td>0</td>\n      <td>0</td>\n      <td>0</td>\n      <td>1631.93</td>\n      <td>1500.45</td>\n      <td>1278.35</td>\n      <td>800.60</td>\n      <td>847.12</td>\n      <td>981.81</td>\n      <td>107.99</td>\n      <td>179.13</td>\n      <td>107.42</td>\n      <td>107.42</td>\n      <td>179.03</td>\n      <td>33.08</td>\n      <td>0</td>\n      <td>2</td>\n      <td>3</td>\n      <td>4</td>\n      <td>0.451582</td>\n      <td>0.526817</td>\n      <td>0.552802</td>\n      <td>0.285942</td>\n      <td>0.161882</td>\n      <td>0.088440</td>\n      <td>0.344578</td>\n      <td>0</td>\n      <td>0</td>\n      <td>0.071972</td>\n      <td>0.140126</td>\n      <td>0.134174</td>\n      <td>0.126806</td>\n      <td>0.182347</td>\n    </tr>\n    <tr>\n      <th>1</th>\n      <td>5728.83</td>\n      <td>2</td>\n      <td>3</td>\n      <td>1</td>\n      <td>46</td>\n      <td>-1</td>\n      <td>-1</td>\n      <td>-1</td>\n      <td>0</td>\n      <td>-1</td>\n      <td>-1</td>\n      <td>891.69</td>\n      <td>83.71</td>\n      <td>173.87</td>\n      <td>147.77</td>\n      <td>143.04</td>\n      <td>30.15</td>\n      <td>83.89</td>\n      <td>173.87</td>\n      <td>35.81</td>\n      <td>143.04</td>\n      <td>30.15</td>\n      <td>942.14</td>\n      <td>0</td>\n      <td>2</td>\n      <td>3</td>\n      <td>4</td>\n      <td>0.994737</td>\n      <td>0.975032</td>\n      <td>0.974206</td>\n      <td>0.969650</td>\n      <td>0.985388</td>\n      <td>0.844350</td>\n      <td>0.957227</td>\n      <td>0</td>\n      <td>0</td>\n      <td>1.002150</td>\n      <td>1.000000</td>\n      <td>0.242336</td>\n      <td>1.000000</td>\n      <td>1.000000</td>\n    </tr>\n    <tr>\n      <th>2</th>\n      <td>3580.52</td>\n      <td>2</td>\n      <td>2</td>\n      <td>1</td>\n      <td>47</td>\n      <td>-1</td>\n      <td>-1</td>\n      <td>-1</td>\n      <td>-1</td>\n      <td>-1</td>\n      <td>-2</td>\n      <td>238.68</td>\n      <td>238.68</td>\n      <td>0.00</td>\n      <td>224.50</td>\n      <td>-14.18</td>\n      <td>-14.18</td>\n      <td>238.68</td>\n      <td>0.00</td>\n      <td>224.50</td>\n      <td>0.00</td>\n      <td>0.00</td>\n      <td>0.00</td>\n      <td>1</td>\n      <td>2</td>\n      <td>3</td>\n      <td>4</td>\n      <td>1.003960</td>\n      <td>1.003960</td>\n      <td>0.937300</td>\n      <td>1.000000</td>\n      <td>0.933339</td>\n      <td>0.933339</td>\n      <td>0.968650</td>\n      <td>0</td>\n      <td>0</td>\n      <td>1.000000</td>\n      <td>0.000000</td>\n      <td>1.000000</td>\n      <td>-0.000000</td>\n      <td>-0.000000</td>\n    </tr>\n    <tr>\n      <th>3</th>\n      <td>6086.88</td>\n      <td>2</td>\n      <td>2</td>\n      <td>1</td>\n      <td>29</td>\n      <td>0</td>\n      <td>0</td>\n      <td>0</td>\n      <td>0</td>\n      <td>0</td>\n      <td>0</td>\n      <td>2831.87</td>\n      <td>2240.51</td>\n      <td>2267.08</td>\n      <td>2288.06</td>\n      <td>1557.71</td>\n      <td>1575.25</td>\n      <td>80.02</td>\n      <td>89.26</td>\n      <td>92.56</td>\n      <td>60.26</td>\n      <td>68.07</td>\n      <td>75.58</td>\n      <td>0</td>\n      <td>1</td>\n      <td>3</td>\n      <td>3</td>\n      <td>0.741206</td>\n      <td>0.744087</td>\n      <td>0.624100</td>\n      <td>0.627546</td>\n      <td>0.631912</td>\n      <td>0.534758</td>\n      <td>0.650602</td>\n      <td>0</td>\n      <td>0</td>\n      <td>0.035715</td>\n      <td>0.039372</td>\n      <td>0.040453</td>\n      <td>0.038685</td>\n      <td>0.043212</td>\n    </tr>\n    <tr>\n      <th>4</th>\n      <td>5370.78</td>\n      <td>2</td>\n      <td>1</td>\n      <td>2</td>\n      <td>33</td>\n      <td>-2</td>\n      <td>-2</td>\n      <td>-2</td>\n      <td>-2</td>\n      <td>-2</td>\n      <td>-2</td>\n      <td>873.40</td>\n      <td>961.26</td>\n      <td>1170.90</td>\n      <td>1198.01</td>\n      <td>995.38</td>\n      <td>80.96</td>\n      <td>966.99</td>\n      <td>1171.37</td>\n      <td>1198.58</td>\n      <td>995.67</td>\n      <td>80.96</td>\n      <td>6067.73</td>\n      <td>0</td>\n      <td>2</td>\n      <td>4</td>\n      <td>4</td>\n      <td>0.984926</td>\n      <td>0.814668</td>\n      <td>0.776939</td>\n      <td>0.781987</td>\n      <td>0.821020</td>\n      <td>0.837379</td>\n      <td>0.836153</td>\n      <td>0</td>\n      <td>0</td>\n      <td>1.005961</td>\n      <td>1.000401</td>\n      <td>1.000476</td>\n      <td>1.000291</td>\n      <td>1.000000</td>\n    </tr>\n  </tbody>\n</table>\n</div>"
     },
     "metadata": {},
     "execution_count": 77
    }
   ],
   "source": [
    "tr.head()"
   ]
  },
  {
   "cell_type": "code",
   "execution_count": 78,
   "metadata": {},
   "outputs": [],
   "source": [
    "# plt.style.use(\"fivethirtyeight\")\n",
    "# sns.set_theme(style=\"darkgrid\", font='serif', context='paper')\n",
    "# plt.figure(figsize = (20,16))\n",
    "# plt.title('Pearson Correlation of Features', y = 1.05, size = 20)\n",
    "# g = sns.heatmap(tr.corr(), cmap='RdBu', square=True, linecolor='white', linewidths=0.2)\n",
    "# plt.savefig(\"../images/correlation_matrix_2.png\")\n"
   ]
  },
  {
   "cell_type": "markdown",
   "metadata": {},
   "source": [
    "<img src=\"../images/correlation_matrix_2.png\">"
   ]
  },
  {
   "cell_type": "code",
   "execution_count": 79,
   "metadata": {},
   "outputs": [
    {
     "output_type": "execute_result",
     "data": {
      "text/plain": [
       "     limit  gender  education  marriage  age  behind1  behind2  behind3  \\\n",
       "0  1790.26       2          2         1   44        0        0        0   \n",
       "1  5728.83       2          3         1   46       -1       -1       -1   \n",
       "2  3580.52       2          2         1   47       -1       -1       -1   \n",
       "3  6086.88       2          2         1   29        0        0        0   \n",
       "4  5370.78       2          1         2   33       -2       -2       -2   \n",
       "\n",
       "   behind4  behind5  behind6  billed1  billed2  billed3  billed4  billed5  \\\n",
       "0        0        0        0  1631.93  1500.45  1278.35   800.60   847.12   \n",
       "1        0       -1       -1   891.69    83.71   173.87   147.77   143.04   \n",
       "2       -1       -1       -2   238.68   238.68     0.00   224.50   -14.18   \n",
       "3        0        0        0  2831.87  2240.51  2267.08  2288.06  1557.71   \n",
       "4       -2       -2       -2   873.40   961.26  1170.90  1198.01   995.38   \n",
       "\n",
       "   billed6   paid1    paid2    paid3   paid4   paid5    paid6  default  \\\n",
       "0   981.81  107.99   179.13   107.42  107.42  179.03    33.08        0   \n",
       "1    30.15   83.89   173.87    35.81  143.04   30.15   942.14        0   \n",
       "2   -14.18  238.68     0.00   224.50    0.00    0.00     0.00        1   \n",
       "3  1575.25   80.02    89.26    92.56   60.26   68.07    75.58        0   \n",
       "4    80.96  966.99  1171.37  1198.58  995.67   80.96  6067.73        0   \n",
       "\n",
       "   age_bin  gen-mar  gen-age    avail6    avail5    avail4    avail3  \\\n",
       "0        2        3        4  0.451582  0.526817  0.552802  0.285942   \n",
       "1        2        3        4  0.994737  0.975032  0.974206  0.969650   \n",
       "2        2        3        4  1.003960  1.003960  0.937300  1.000000   \n",
       "3        1        3        3  0.741206  0.744087  0.624100  0.627546   \n",
       "4        2        4        4  0.984926  0.814668  0.776939  0.781987   \n",
       "\n",
       "     avail2    avail1    avg_av  delayed  latemths    pperb1    pperb2  \\\n",
       "0  0.161882  0.088440  0.344578        0         0  0.071972  0.140126   \n",
       "1  0.985388  0.844350  0.957227        0         0  1.002150  1.000000   \n",
       "2  0.933339  0.933339  0.968650        0         0  1.000000  0.000000   \n",
       "3  0.631912  0.534758  0.650602        0         0  0.035715  0.039372   \n",
       "4  0.821020  0.837379  0.836153        0         0  1.005961  1.000401   \n",
       "\n",
       "     pperb3    pperb4    pperb5  \n",
       "0  0.134174  0.126806  0.182347  \n",
       "1  0.242336  1.000000  1.000000  \n",
       "2  1.000000 -0.000000 -0.000000  \n",
       "3  0.040453  0.038685  0.043212  \n",
       "4  1.000476  1.000291  1.000000  "
      ],
      "text/html": "<div>\n<style scoped>\n    .dataframe tbody tr th:only-of-type {\n        vertical-align: middle;\n    }\n\n    .dataframe tbody tr th {\n        vertical-align: top;\n    }\n\n    .dataframe thead th {\n        text-align: right;\n    }\n</style>\n<table border=\"1\" class=\"dataframe\">\n  <thead>\n    <tr style=\"text-align: right;\">\n      <th></th>\n      <th>limit</th>\n      <th>gender</th>\n      <th>education</th>\n      <th>marriage</th>\n      <th>age</th>\n      <th>behind1</th>\n      <th>behind2</th>\n      <th>behind3</th>\n      <th>behind4</th>\n      <th>behind5</th>\n      <th>behind6</th>\n      <th>billed1</th>\n      <th>billed2</th>\n      <th>billed3</th>\n      <th>billed4</th>\n      <th>billed5</th>\n      <th>billed6</th>\n      <th>paid1</th>\n      <th>paid2</th>\n      <th>paid3</th>\n      <th>paid4</th>\n      <th>paid5</th>\n      <th>paid6</th>\n      <th>default</th>\n      <th>age_bin</th>\n      <th>gen-mar</th>\n      <th>gen-age</th>\n      <th>avail6</th>\n      <th>avail5</th>\n      <th>avail4</th>\n      <th>avail3</th>\n      <th>avail2</th>\n      <th>avail1</th>\n      <th>avg_av</th>\n      <th>delayed</th>\n      <th>latemths</th>\n      <th>pperb1</th>\n      <th>pperb2</th>\n      <th>pperb3</th>\n      <th>pperb4</th>\n      <th>pperb5</th>\n    </tr>\n  </thead>\n  <tbody>\n    <tr>\n      <th>0</th>\n      <td>1790.26</td>\n      <td>2</td>\n      <td>2</td>\n      <td>1</td>\n      <td>44</td>\n      <td>0</td>\n      <td>0</td>\n      <td>0</td>\n      <td>0</td>\n      <td>0</td>\n      <td>0</td>\n      <td>1631.93</td>\n      <td>1500.45</td>\n      <td>1278.35</td>\n      <td>800.60</td>\n      <td>847.12</td>\n      <td>981.81</td>\n      <td>107.99</td>\n      <td>179.13</td>\n      <td>107.42</td>\n      <td>107.42</td>\n      <td>179.03</td>\n      <td>33.08</td>\n      <td>0</td>\n      <td>2</td>\n      <td>3</td>\n      <td>4</td>\n      <td>0.451582</td>\n      <td>0.526817</td>\n      <td>0.552802</td>\n      <td>0.285942</td>\n      <td>0.161882</td>\n      <td>0.088440</td>\n      <td>0.344578</td>\n      <td>0</td>\n      <td>0</td>\n      <td>0.071972</td>\n      <td>0.140126</td>\n      <td>0.134174</td>\n      <td>0.126806</td>\n      <td>0.182347</td>\n    </tr>\n    <tr>\n      <th>1</th>\n      <td>5728.83</td>\n      <td>2</td>\n      <td>3</td>\n      <td>1</td>\n      <td>46</td>\n      <td>-1</td>\n      <td>-1</td>\n      <td>-1</td>\n      <td>0</td>\n      <td>-1</td>\n      <td>-1</td>\n      <td>891.69</td>\n      <td>83.71</td>\n      <td>173.87</td>\n      <td>147.77</td>\n      <td>143.04</td>\n      <td>30.15</td>\n      <td>83.89</td>\n      <td>173.87</td>\n      <td>35.81</td>\n      <td>143.04</td>\n      <td>30.15</td>\n      <td>942.14</td>\n      <td>0</td>\n      <td>2</td>\n      <td>3</td>\n      <td>4</td>\n      <td>0.994737</td>\n      <td>0.975032</td>\n      <td>0.974206</td>\n      <td>0.969650</td>\n      <td>0.985388</td>\n      <td>0.844350</td>\n      <td>0.957227</td>\n      <td>0</td>\n      <td>0</td>\n      <td>1.002150</td>\n      <td>1.000000</td>\n      <td>0.242336</td>\n      <td>1.000000</td>\n      <td>1.000000</td>\n    </tr>\n    <tr>\n      <th>2</th>\n      <td>3580.52</td>\n      <td>2</td>\n      <td>2</td>\n      <td>1</td>\n      <td>47</td>\n      <td>-1</td>\n      <td>-1</td>\n      <td>-1</td>\n      <td>-1</td>\n      <td>-1</td>\n      <td>-2</td>\n      <td>238.68</td>\n      <td>238.68</td>\n      <td>0.00</td>\n      <td>224.50</td>\n      <td>-14.18</td>\n      <td>-14.18</td>\n      <td>238.68</td>\n      <td>0.00</td>\n      <td>224.50</td>\n      <td>0.00</td>\n      <td>0.00</td>\n      <td>0.00</td>\n      <td>1</td>\n      <td>2</td>\n      <td>3</td>\n      <td>4</td>\n      <td>1.003960</td>\n      <td>1.003960</td>\n      <td>0.937300</td>\n      <td>1.000000</td>\n      <td>0.933339</td>\n      <td>0.933339</td>\n      <td>0.968650</td>\n      <td>0</td>\n      <td>0</td>\n      <td>1.000000</td>\n      <td>0.000000</td>\n      <td>1.000000</td>\n      <td>-0.000000</td>\n      <td>-0.000000</td>\n    </tr>\n    <tr>\n      <th>3</th>\n      <td>6086.88</td>\n      <td>2</td>\n      <td>2</td>\n      <td>1</td>\n      <td>29</td>\n      <td>0</td>\n      <td>0</td>\n      <td>0</td>\n      <td>0</td>\n      <td>0</td>\n      <td>0</td>\n      <td>2831.87</td>\n      <td>2240.51</td>\n      <td>2267.08</td>\n      <td>2288.06</td>\n      <td>1557.71</td>\n      <td>1575.25</td>\n      <td>80.02</td>\n      <td>89.26</td>\n      <td>92.56</td>\n      <td>60.26</td>\n      <td>68.07</td>\n      <td>75.58</td>\n      <td>0</td>\n      <td>1</td>\n      <td>3</td>\n      <td>3</td>\n      <td>0.741206</td>\n      <td>0.744087</td>\n      <td>0.624100</td>\n      <td>0.627546</td>\n      <td>0.631912</td>\n      <td>0.534758</td>\n      <td>0.650602</td>\n      <td>0</td>\n      <td>0</td>\n      <td>0.035715</td>\n      <td>0.039372</td>\n      <td>0.040453</td>\n      <td>0.038685</td>\n      <td>0.043212</td>\n    </tr>\n    <tr>\n      <th>4</th>\n      <td>5370.78</td>\n      <td>2</td>\n      <td>1</td>\n      <td>2</td>\n      <td>33</td>\n      <td>-2</td>\n      <td>-2</td>\n      <td>-2</td>\n      <td>-2</td>\n      <td>-2</td>\n      <td>-2</td>\n      <td>873.40</td>\n      <td>961.26</td>\n      <td>1170.90</td>\n      <td>1198.01</td>\n      <td>995.38</td>\n      <td>80.96</td>\n      <td>966.99</td>\n      <td>1171.37</td>\n      <td>1198.58</td>\n      <td>995.67</td>\n      <td>80.96</td>\n      <td>6067.73</td>\n      <td>0</td>\n      <td>2</td>\n      <td>4</td>\n      <td>4</td>\n      <td>0.984926</td>\n      <td>0.814668</td>\n      <td>0.776939</td>\n      <td>0.781987</td>\n      <td>0.821020</td>\n      <td>0.837379</td>\n      <td>0.836153</td>\n      <td>0</td>\n      <td>0</td>\n      <td>1.005961</td>\n      <td>1.000401</td>\n      <td>1.000476</td>\n      <td>1.000291</td>\n      <td>1.000000</td>\n    </tr>\n  </tbody>\n</table>\n</div>"
     },
     "metadata": {},
     "execution_count": 79
    }
   ],
   "source": [
    "tr.head()"
   ]
  },
  {
   "cell_type": "code",
   "execution_count": 80,
   "metadata": {},
   "outputs": [],
   "source": [
    "pickle_out = open(\"../data/training_features.pickle\",\"wb\")\n",
    "pickle.dump(tr, pickle_out)\n",
    "pickle_out.close()"
   ]
  },
  {
   "cell_type": "code",
   "execution_count": 81,
   "metadata": {},
   "outputs": [],
   "source": [
    "pickle_out = open(\"../data/validate_features.pickle\",\"wb\")\n",
    "pickle.dump(val, pickle_out)\n",
    "pickle_out.close()"
   ]
  },
  {
   "cell_type": "markdown",
   "metadata": {},
   "source": [
    "# <a id='7'>Post-Feature Selection</a>"
   ]
  },
  {
   "cell_type": "code",
   "execution_count": 82,
   "metadata": {},
   "outputs": [
    {
     "output_type": "execute_result",
     "data": {
      "text/plain": [
       "     limit  gender  education  marriage  age  behind1  behind2  behind3  \\\n",
       "0  1790.26       2          2         1   44        0        0        0   \n",
       "1  5728.83       2          3         1   46       -1       -1       -1   \n",
       "2  3580.52       2          2         1   47       -1       -1       -1   \n",
       "3  6086.88       2          2         1   29        0        0        0   \n",
       "4  5370.78       2          1         2   33       -2       -2       -2   \n",
       "\n",
       "   behind4  behind5  behind6  billed1  billed2  billed3  billed4  billed5  \\\n",
       "0        0        0        0  1631.93  1500.45  1278.35   800.60   847.12   \n",
       "1        0       -1       -1   891.69    83.71   173.87   147.77   143.04   \n",
       "2       -1       -1       -2   238.68   238.68     0.00   224.50   -14.18   \n",
       "3        0        0        0  2831.87  2240.51  2267.08  2288.06  1557.71   \n",
       "4       -2       -2       -2   873.40   961.26  1170.90  1198.01   995.38   \n",
       "\n",
       "   billed6   paid1    paid2    paid3   paid4   paid5    paid6  default  \\\n",
       "0   981.81  107.99   179.13   107.42  107.42  179.03    33.08        0   \n",
       "1    30.15   83.89   173.87    35.81  143.04   30.15   942.14        0   \n",
       "2   -14.18  238.68     0.00   224.50    0.00    0.00     0.00        1   \n",
       "3  1575.25   80.02    89.26    92.56   60.26   68.07    75.58        0   \n",
       "4    80.96  966.99  1171.37  1198.58  995.67   80.96  6067.73        0   \n",
       "\n",
       "   age_bin  gen-mar  gen-age    avail6    avail5    avail4    avail3  \\\n",
       "0        2        3        4  0.451582  0.526817  0.552802  0.285942   \n",
       "1        2        3        4  0.994737  0.975032  0.974206  0.969650   \n",
       "2        2        3        4  1.003960  1.003960  0.937300  1.000000   \n",
       "3        1        3        3  0.741206  0.744087  0.624100  0.627546   \n",
       "4        2        4        4  0.984926  0.814668  0.776939  0.781987   \n",
       "\n",
       "     avail2    avail1    avg_av  delayed  latemths    pperb1    pperb2  \\\n",
       "0  0.161882  0.088440  0.344578        0         0  0.071972  0.140126   \n",
       "1  0.985388  0.844350  0.957227        0         0  1.002150  1.000000   \n",
       "2  0.933339  0.933339  0.968650        0         0  1.000000  0.000000   \n",
       "3  0.631912  0.534758  0.650602        0         0  0.035715  0.039372   \n",
       "4  0.821020  0.837379  0.836153        0         0  1.005961  1.000401   \n",
       "\n",
       "     pperb3    pperb4    pperb5  \n",
       "0  0.134174  0.126806  0.182347  \n",
       "1  0.242336  1.000000  1.000000  \n",
       "2  1.000000 -0.000000 -0.000000  \n",
       "3  0.040453  0.038685  0.043212  \n",
       "4  1.000476  1.000291  1.000000  "
      ],
      "text/html": "<div>\n<style scoped>\n    .dataframe tbody tr th:only-of-type {\n        vertical-align: middle;\n    }\n\n    .dataframe tbody tr th {\n        vertical-align: top;\n    }\n\n    .dataframe thead th {\n        text-align: right;\n    }\n</style>\n<table border=\"1\" class=\"dataframe\">\n  <thead>\n    <tr style=\"text-align: right;\">\n      <th></th>\n      <th>limit</th>\n      <th>gender</th>\n      <th>education</th>\n      <th>marriage</th>\n      <th>age</th>\n      <th>behind1</th>\n      <th>behind2</th>\n      <th>behind3</th>\n      <th>behind4</th>\n      <th>behind5</th>\n      <th>behind6</th>\n      <th>billed1</th>\n      <th>billed2</th>\n      <th>billed3</th>\n      <th>billed4</th>\n      <th>billed5</th>\n      <th>billed6</th>\n      <th>paid1</th>\n      <th>paid2</th>\n      <th>paid3</th>\n      <th>paid4</th>\n      <th>paid5</th>\n      <th>paid6</th>\n      <th>default</th>\n      <th>age_bin</th>\n      <th>gen-mar</th>\n      <th>gen-age</th>\n      <th>avail6</th>\n      <th>avail5</th>\n      <th>avail4</th>\n      <th>avail3</th>\n      <th>avail2</th>\n      <th>avail1</th>\n      <th>avg_av</th>\n      <th>delayed</th>\n      <th>latemths</th>\n      <th>pperb1</th>\n      <th>pperb2</th>\n      <th>pperb3</th>\n      <th>pperb4</th>\n      <th>pperb5</th>\n    </tr>\n  </thead>\n  <tbody>\n    <tr>\n      <th>0</th>\n      <td>1790.26</td>\n      <td>2</td>\n      <td>2</td>\n      <td>1</td>\n      <td>44</td>\n      <td>0</td>\n      <td>0</td>\n      <td>0</td>\n      <td>0</td>\n      <td>0</td>\n      <td>0</td>\n      <td>1631.93</td>\n      <td>1500.45</td>\n      <td>1278.35</td>\n      <td>800.60</td>\n      <td>847.12</td>\n      <td>981.81</td>\n      <td>107.99</td>\n      <td>179.13</td>\n      <td>107.42</td>\n      <td>107.42</td>\n      <td>179.03</td>\n      <td>33.08</td>\n      <td>0</td>\n      <td>2</td>\n      <td>3</td>\n      <td>4</td>\n      <td>0.451582</td>\n      <td>0.526817</td>\n      <td>0.552802</td>\n      <td>0.285942</td>\n      <td>0.161882</td>\n      <td>0.088440</td>\n      <td>0.344578</td>\n      <td>0</td>\n      <td>0</td>\n      <td>0.071972</td>\n      <td>0.140126</td>\n      <td>0.134174</td>\n      <td>0.126806</td>\n      <td>0.182347</td>\n    </tr>\n    <tr>\n      <th>1</th>\n      <td>5728.83</td>\n      <td>2</td>\n      <td>3</td>\n      <td>1</td>\n      <td>46</td>\n      <td>-1</td>\n      <td>-1</td>\n      <td>-1</td>\n      <td>0</td>\n      <td>-1</td>\n      <td>-1</td>\n      <td>891.69</td>\n      <td>83.71</td>\n      <td>173.87</td>\n      <td>147.77</td>\n      <td>143.04</td>\n      <td>30.15</td>\n      <td>83.89</td>\n      <td>173.87</td>\n      <td>35.81</td>\n      <td>143.04</td>\n      <td>30.15</td>\n      <td>942.14</td>\n      <td>0</td>\n      <td>2</td>\n      <td>3</td>\n      <td>4</td>\n      <td>0.994737</td>\n      <td>0.975032</td>\n      <td>0.974206</td>\n      <td>0.969650</td>\n      <td>0.985388</td>\n      <td>0.844350</td>\n      <td>0.957227</td>\n      <td>0</td>\n      <td>0</td>\n      <td>1.002150</td>\n      <td>1.000000</td>\n      <td>0.242336</td>\n      <td>1.000000</td>\n      <td>1.000000</td>\n    </tr>\n    <tr>\n      <th>2</th>\n      <td>3580.52</td>\n      <td>2</td>\n      <td>2</td>\n      <td>1</td>\n      <td>47</td>\n      <td>-1</td>\n      <td>-1</td>\n      <td>-1</td>\n      <td>-1</td>\n      <td>-1</td>\n      <td>-2</td>\n      <td>238.68</td>\n      <td>238.68</td>\n      <td>0.00</td>\n      <td>224.50</td>\n      <td>-14.18</td>\n      <td>-14.18</td>\n      <td>238.68</td>\n      <td>0.00</td>\n      <td>224.50</td>\n      <td>0.00</td>\n      <td>0.00</td>\n      <td>0.00</td>\n      <td>1</td>\n      <td>2</td>\n      <td>3</td>\n      <td>4</td>\n      <td>1.003960</td>\n      <td>1.003960</td>\n      <td>0.937300</td>\n      <td>1.000000</td>\n      <td>0.933339</td>\n      <td>0.933339</td>\n      <td>0.968650</td>\n      <td>0</td>\n      <td>0</td>\n      <td>1.000000</td>\n      <td>0.000000</td>\n      <td>1.000000</td>\n      <td>-0.000000</td>\n      <td>-0.000000</td>\n    </tr>\n    <tr>\n      <th>3</th>\n      <td>6086.88</td>\n      <td>2</td>\n      <td>2</td>\n      <td>1</td>\n      <td>29</td>\n      <td>0</td>\n      <td>0</td>\n      <td>0</td>\n      <td>0</td>\n      <td>0</td>\n      <td>0</td>\n      <td>2831.87</td>\n      <td>2240.51</td>\n      <td>2267.08</td>\n      <td>2288.06</td>\n      <td>1557.71</td>\n      <td>1575.25</td>\n      <td>80.02</td>\n      <td>89.26</td>\n      <td>92.56</td>\n      <td>60.26</td>\n      <td>68.07</td>\n      <td>75.58</td>\n      <td>0</td>\n      <td>1</td>\n      <td>3</td>\n      <td>3</td>\n      <td>0.741206</td>\n      <td>0.744087</td>\n      <td>0.624100</td>\n      <td>0.627546</td>\n      <td>0.631912</td>\n      <td>0.534758</td>\n      <td>0.650602</td>\n      <td>0</td>\n      <td>0</td>\n      <td>0.035715</td>\n      <td>0.039372</td>\n      <td>0.040453</td>\n      <td>0.038685</td>\n      <td>0.043212</td>\n    </tr>\n    <tr>\n      <th>4</th>\n      <td>5370.78</td>\n      <td>2</td>\n      <td>1</td>\n      <td>2</td>\n      <td>33</td>\n      <td>-2</td>\n      <td>-2</td>\n      <td>-2</td>\n      <td>-2</td>\n      <td>-2</td>\n      <td>-2</td>\n      <td>873.40</td>\n      <td>961.26</td>\n      <td>1170.90</td>\n      <td>1198.01</td>\n      <td>995.38</td>\n      <td>80.96</td>\n      <td>966.99</td>\n      <td>1171.37</td>\n      <td>1198.58</td>\n      <td>995.67</td>\n      <td>80.96</td>\n      <td>6067.73</td>\n      <td>0</td>\n      <td>2</td>\n      <td>4</td>\n      <td>4</td>\n      <td>0.984926</td>\n      <td>0.814668</td>\n      <td>0.776939</td>\n      <td>0.781987</td>\n      <td>0.821020</td>\n      <td>0.837379</td>\n      <td>0.836153</td>\n      <td>0</td>\n      <td>0</td>\n      <td>1.005961</td>\n      <td>1.000401</td>\n      <td>1.000476</td>\n      <td>1.000291</td>\n      <td>1.000000</td>\n    </tr>\n  </tbody>\n</table>\n</div>"
     },
     "metadata": {},
     "execution_count": 82
    }
   ],
   "source": [
    "tr.head()"
   ]
  },
  {
   "cell_type": "code",
   "execution_count": 83,
   "metadata": {},
   "outputs": [],
   "source": [
    "train3 = tr[['limit', 'behind1', 'paid2', 'delayed', 'latemths', 'age', 'behind2', 'billed1', 'avg_av', 'avail1', 'default']]\n",
    "validate3 = val[['limit', 'behind1', 'paid2', 'delayed', 'latemths', 'age', 'behind2', 'billed1', 'avg_av', 'avail1', 'default']]"
   ]
  },
  {
   "cell_type": "code",
   "execution_count": 84,
   "metadata": {},
   "outputs": [
    {
     "output_type": "execute_result",
     "data": {
      "text/plain": [
       "     limit  behind1    paid2  delayed  latemths  age  behind2  billed1  \\\n",
       "0  1790.26        0   179.13        0         0   44        0  1631.93   \n",
       "1  5728.83       -1   173.87        0         0   46       -1   891.69   \n",
       "2  3580.52       -1     0.00        0         0   47       -1   238.68   \n",
       "3  6086.88        0    89.26        0         0   29        0  2831.87   \n",
       "4  5370.78       -2  1171.37        0         0   33       -2   873.40   \n",
       "\n",
       "     avg_av    avail1  default  \n",
       "0  0.344578  0.088440        0  \n",
       "1  0.957227  0.844350        0  \n",
       "2  0.968650  0.933339        1  \n",
       "3  0.650602  0.534758        0  \n",
       "4  0.836153  0.837379        0  "
      ],
      "text/html": "<div>\n<style scoped>\n    .dataframe tbody tr th:only-of-type {\n        vertical-align: middle;\n    }\n\n    .dataframe tbody tr th {\n        vertical-align: top;\n    }\n\n    .dataframe thead th {\n        text-align: right;\n    }\n</style>\n<table border=\"1\" class=\"dataframe\">\n  <thead>\n    <tr style=\"text-align: right;\">\n      <th></th>\n      <th>limit</th>\n      <th>behind1</th>\n      <th>paid2</th>\n      <th>delayed</th>\n      <th>latemths</th>\n      <th>age</th>\n      <th>behind2</th>\n      <th>billed1</th>\n      <th>avg_av</th>\n      <th>avail1</th>\n      <th>default</th>\n    </tr>\n  </thead>\n  <tbody>\n    <tr>\n      <th>0</th>\n      <td>1790.26</td>\n      <td>0</td>\n      <td>179.13</td>\n      <td>0</td>\n      <td>0</td>\n      <td>44</td>\n      <td>0</td>\n      <td>1631.93</td>\n      <td>0.344578</td>\n      <td>0.088440</td>\n      <td>0</td>\n    </tr>\n    <tr>\n      <th>1</th>\n      <td>5728.83</td>\n      <td>-1</td>\n      <td>173.87</td>\n      <td>0</td>\n      <td>0</td>\n      <td>46</td>\n      <td>-1</td>\n      <td>891.69</td>\n      <td>0.957227</td>\n      <td>0.844350</td>\n      <td>0</td>\n    </tr>\n    <tr>\n      <th>2</th>\n      <td>3580.52</td>\n      <td>-1</td>\n      <td>0.00</td>\n      <td>0</td>\n      <td>0</td>\n      <td>47</td>\n      <td>-1</td>\n      <td>238.68</td>\n      <td>0.968650</td>\n      <td>0.933339</td>\n      <td>1</td>\n    </tr>\n    <tr>\n      <th>3</th>\n      <td>6086.88</td>\n      <td>0</td>\n      <td>89.26</td>\n      <td>0</td>\n      <td>0</td>\n      <td>29</td>\n      <td>0</td>\n      <td>2831.87</td>\n      <td>0.650602</td>\n      <td>0.534758</td>\n      <td>0</td>\n    </tr>\n    <tr>\n      <th>4</th>\n      <td>5370.78</td>\n      <td>-2</td>\n      <td>1171.37</td>\n      <td>0</td>\n      <td>0</td>\n      <td>33</td>\n      <td>-2</td>\n      <td>873.40</td>\n      <td>0.836153</td>\n      <td>0.837379</td>\n      <td>0</td>\n    </tr>\n  </tbody>\n</table>\n</div>"
     },
     "metadata": {},
     "execution_count": 84
    }
   ],
   "source": [
    "train3.head()"
   ]
  },
  {
   "cell_type": "code",
   "execution_count": 85,
   "metadata": {},
   "outputs": [
    {
     "output_type": "execute_result",
     "data": {
      "text/plain": [
       "     limit  behind1   paid2  delayed  latemths  age  behind2  billed1  \\\n",
       "0  1074.16        0   71.61        0         0   25        0   317.38   \n",
       "1  5370.78        0  151.64        0         0   26        0  4895.86   \n",
       "2  2506.36        0  111.43        0         0   32        0  2510.73   \n",
       "3  4654.68        0   64.74        0         0   49        0   740.38   \n",
       "4  1790.26        0   53.71        1         1   36        0  3373.85   \n",
       "\n",
       "     avg_av    avail1  default  \n",
       "0  0.602052  0.704532        0  \n",
       "1  0.293715  0.088427        0  \n",
       "2  0.005217 -0.001744        0  \n",
       "3  0.883482  0.840939        0  \n",
       "4  0.188227 -0.884559        1  "
      ],
      "text/html": "<div>\n<style scoped>\n    .dataframe tbody tr th:only-of-type {\n        vertical-align: middle;\n    }\n\n    .dataframe tbody tr th {\n        vertical-align: top;\n    }\n\n    .dataframe thead th {\n        text-align: right;\n    }\n</style>\n<table border=\"1\" class=\"dataframe\">\n  <thead>\n    <tr style=\"text-align: right;\">\n      <th></th>\n      <th>limit</th>\n      <th>behind1</th>\n      <th>paid2</th>\n      <th>delayed</th>\n      <th>latemths</th>\n      <th>age</th>\n      <th>behind2</th>\n      <th>billed1</th>\n      <th>avg_av</th>\n      <th>avail1</th>\n      <th>default</th>\n    </tr>\n  </thead>\n  <tbody>\n    <tr>\n      <th>0</th>\n      <td>1074.16</td>\n      <td>0</td>\n      <td>71.61</td>\n      <td>0</td>\n      <td>0</td>\n      <td>25</td>\n      <td>0</td>\n      <td>317.38</td>\n      <td>0.602052</td>\n      <td>0.704532</td>\n      <td>0</td>\n    </tr>\n    <tr>\n      <th>1</th>\n      <td>5370.78</td>\n      <td>0</td>\n      <td>151.64</td>\n      <td>0</td>\n      <td>0</td>\n      <td>26</td>\n      <td>0</td>\n      <td>4895.86</td>\n      <td>0.293715</td>\n      <td>0.088427</td>\n      <td>0</td>\n    </tr>\n    <tr>\n      <th>2</th>\n      <td>2506.36</td>\n      <td>0</td>\n      <td>111.43</td>\n      <td>0</td>\n      <td>0</td>\n      <td>32</td>\n      <td>0</td>\n      <td>2510.73</td>\n      <td>0.005217</td>\n      <td>-0.001744</td>\n      <td>0</td>\n    </tr>\n    <tr>\n      <th>3</th>\n      <td>4654.68</td>\n      <td>0</td>\n      <td>64.74</td>\n      <td>0</td>\n      <td>0</td>\n      <td>49</td>\n      <td>0</td>\n      <td>740.38</td>\n      <td>0.883482</td>\n      <td>0.840939</td>\n      <td>0</td>\n    </tr>\n    <tr>\n      <th>4</th>\n      <td>1790.26</td>\n      <td>0</td>\n      <td>53.71</td>\n      <td>1</td>\n      <td>1</td>\n      <td>36</td>\n      <td>0</td>\n      <td>3373.85</td>\n      <td>0.188227</td>\n      <td>-0.884559</td>\n      <td>1</td>\n    </tr>\n  </tbody>\n</table>\n</div>"
     },
     "metadata": {},
     "execution_count": 85
    }
   ],
   "source": [
    "validate3.head()"
   ]
  },
  {
   "cell_type": "code",
   "execution_count": 86,
   "metadata": {},
   "outputs": [],
   "source": [
    "pickle_out = open(\"../data/training_model.pickle\",\"wb\")\n",
    "pickle.dump(train3, pickle_out)\n",
    "pickle_out.close()"
   ]
  },
  {
   "cell_type": "code",
   "execution_count": 87,
   "metadata": {},
   "outputs": [],
   "source": [
    "pickle_out = open(\"../data/validate_model.pickle\",\"wb\")\n",
    "pickle.dump(validate3, pickle_out)\n",
    "pickle_out.close()"
   ]
  },
  {
   "cell_type": "code",
   "execution_count": null,
   "metadata": {},
   "outputs": [],
   "source": []
  }
 ],
 "metadata": {
  "kernelspec": {
   "display_name": "Python 3",
   "language": "python",
   "name": "python3"
  },
  "language_info": {
   "codemirror_mode": {
    "name": "ipython",
    "version": 3
   },
   "file_extension": ".py",
   "mimetype": "text/x-python",
   "name": "python",
   "nbconvert_exporter": "python",
   "pygments_lexer": "ipython3",
   "version": "3.9.1-final"
  }
 },
 "nbformat": 4,
 "nbformat_minor": 2
}