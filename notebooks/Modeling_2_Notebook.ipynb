{
 "cells": [
  {
   "cell_type": "markdown",
   "metadata": {},
   "source": [
    "<h1><center><font size=\"6\">Hyperparameter Tuning Notebook</font></center></h1>\n",
    "\n",
    "# Contents\n",
    "\n",
    "- <a href='#1'>Importing Packages</a>\n",
    "- <a href='#2'>Preparing Data for Modeling</a>  \n",
    "- <a href='#3'>Hyperparameter Tuning</a>\n",
    "    - <a href='#31'>Logistic Regression with GridSearchCV</a>\n",
    "    - <a href='#32'>Random Forest Classifier with GridSearchCV</a>\n",
    "    - <a href='#33'>AdaBoost Classifier with GridSearchCV</a>\n",
    "    - <a href='#34'>Gradient Boosting Classifier with GridSearchCV</a>\n",
    "    - <a href='#35'>XGBoost Classifier with GridSearchCV</a>\n",
    "    - <a href='#36'>Evaluation Metrics</a>\n",
    "- <a href='#4'>In-Depth Hyperparameter Tuning of Gradient Boosting Classifier</a>\n"
   ]
  },
  {
   "cell_type": "markdown",
   "metadata": {
    "code_folding": [],
    "heading_collapsed": true
   },
   "source": [
    "# <a id='1'>Importing Packages</a>"
   ]
  },
  {
   "cell_type": "code",
   "execution_count": 9,
   "metadata": {
    "hidden": true,
    "run_control": {
     "marked": true
    }
   },
   "outputs": [],
   "source": [
    "import numpy as np\n",
    "from numpy import where, mean\n",
    "import pandas as pd\n",
    "import re\n",
    "from matplotlib import pyplot as plt\n",
    "from matplotlib import style\n",
    "import seaborn as sns\n",
    "import warnings\n",
    "warnings.filterwarnings('ignore')\n",
    "%matplotlib inline\n",
    "import itertools\n",
    "from collections import Counter\n",
    "import pickle\n",
    "\n",
    "%reload_ext autoreload\n",
    "%autoreload 2\n",
    "\n",
    "from utils import *\n",
    "\n",
    "\n",
    "from sklearn.linear_model import LogisticRegression, SGDClassifier\n",
    "from sklearn.tree import DecisionTreeClassifier\n",
    "from sklearn.discriminant_analysis import LinearDiscriminantAnalysis\n",
    "from sklearn.neighbors import KNeighborsClassifier\n",
    "from sklearn.svm import SVC\n",
    "from sklearn.naive_bayes import GaussianNB\n",
    "from sklearn.experimental import enable_hist_gradient_boosting\n",
    "from sklearn.ensemble import AdaBoostClassifier, GradientBoostingClassifier, RandomForestClassifier, BaggingClassifier, HistGradientBoostingClassifier\n",
    "from sklearn.model_selection import train_test_split, KFold, cross_val_score, cross_val_predict, GridSearchCV,  RepeatedStratifiedKFold, cross_validate\n",
    "from sklearn.metrics import accuracy_score, confusion_matrix, precision_score, recall_score, f1_score, precision_recall_curve, roc_curve, roc_auc_score, classification_report, plot_confusion_matrix, auc, mean_squared_error, confusion_matrix, balanced_accuracy_score\n",
    "from sklearn.preprocessing import StandardScaler, OneHotEncoder\n",
    "from sklearn.pipeline import make_pipeline\n",
    "from sklearn.impute import SimpleImputer\n",
    "from sklearn.compose import ColumnTransformer, make_column_selector as selector\n",
    "from sklearn.dummy import DummyClassifier\n",
    "from sklearn.utils import resample\n",
    "\n",
    "from imblearn.pipeline import Pipeline\n",
    "from imblearn.over_sampling import RandomOverSampler, SMOTE\n",
    "from imblearn.under_sampling import CondensedNearestNeighbour, NeighbourhoodCleaningRule, NearMiss, OneSidedSelection, RandomUnderSampler\n",
    "from imblearn.ensemble import BalancedBaggingClassifier, BalancedRandomForestClassifier, EasyEnsembleClassifier, RUSBoostClassifier\n",
    "from imblearn.metrics import geometric_mean_score\n",
    "from imblearn.under_sampling import TomekLinks\n",
    "\n",
    "import xgboost as xgb\n",
    "from xgboost.sklearn import XGBClassifier\n"
   ]
  },
  {
   "cell_type": "markdown",
   "metadata": {
    "heading_collapsed": true
   },
   "source": [
    "# <a id='2'>Preparing Data for Modeling</a>"
   ]
  },
  {
   "cell_type": "code",
   "execution_count": 2,
   "metadata": {
    "hidden": true
   },
   "outputs": [],
   "source": [
    "pickle_in = open(\"../data/pickles/training_model.pickle\",\"rb\")\n",
    "train = pickle.load(pickle_in)\n",
    "pickle_in = open(\"../data/pickles/validate_model.pickle\",\"rb\")\n",
    "validate = pickle.load(pickle_in)"
   ]
  },
  {
   "cell_type": "code",
   "execution_count": 3,
   "metadata": {
    "hidden": true
   },
   "outputs": [
    {
     "output_type": "execute_result",
     "data": {
      "text/plain": [
       "     limit  behind1    paid2  delayed  latemths  age  behind2  billed1  \\\n",
       "0  1790.26        0   179.13        0         0   44        0  1631.93   \n",
       "1  5728.83       -1   173.87        0         0   46       -1   891.69   \n",
       "2  3580.52       -1     0.00        0         0   47       -1   238.68   \n",
       "3  6086.88        0    89.26        0         0   29        0  2831.87   \n",
       "4  5370.78       -2  1171.37        0         0   33       -2   873.40   \n",
       "\n",
       "     avg_av    avail1  default  \n",
       "0  0.344578  0.088440        0  \n",
       "1  0.957227  0.844350        0  \n",
       "2  0.968650  0.933339        1  \n",
       "3  0.650602  0.534758        0  \n",
       "4  0.836153  0.837379        0  "
      ],
      "text/html": "<div>\n<style scoped>\n    .dataframe tbody tr th:only-of-type {\n        vertical-align: middle;\n    }\n\n    .dataframe tbody tr th {\n        vertical-align: top;\n    }\n\n    .dataframe thead th {\n        text-align: right;\n    }\n</style>\n<table border=\"1\" class=\"dataframe\">\n  <thead>\n    <tr style=\"text-align: right;\">\n      <th></th>\n      <th>limit</th>\n      <th>behind1</th>\n      <th>paid2</th>\n      <th>delayed</th>\n      <th>latemths</th>\n      <th>age</th>\n      <th>behind2</th>\n      <th>billed1</th>\n      <th>avg_av</th>\n      <th>avail1</th>\n      <th>default</th>\n    </tr>\n  </thead>\n  <tbody>\n    <tr>\n      <th>0</th>\n      <td>1790.26</td>\n      <td>0</td>\n      <td>179.13</td>\n      <td>0</td>\n      <td>0</td>\n      <td>44</td>\n      <td>0</td>\n      <td>1631.93</td>\n      <td>0.344578</td>\n      <td>0.088440</td>\n      <td>0</td>\n    </tr>\n    <tr>\n      <th>1</th>\n      <td>5728.83</td>\n      <td>-1</td>\n      <td>173.87</td>\n      <td>0</td>\n      <td>0</td>\n      <td>46</td>\n      <td>-1</td>\n      <td>891.69</td>\n      <td>0.957227</td>\n      <td>0.844350</td>\n      <td>0</td>\n    </tr>\n    <tr>\n      <th>2</th>\n      <td>3580.52</td>\n      <td>-1</td>\n      <td>0.00</td>\n      <td>0</td>\n      <td>0</td>\n      <td>47</td>\n      <td>-1</td>\n      <td>238.68</td>\n      <td>0.968650</td>\n      <td>0.933339</td>\n      <td>1</td>\n    </tr>\n    <tr>\n      <th>3</th>\n      <td>6086.88</td>\n      <td>0</td>\n      <td>89.26</td>\n      <td>0</td>\n      <td>0</td>\n      <td>29</td>\n      <td>0</td>\n      <td>2831.87</td>\n      <td>0.650602</td>\n      <td>0.534758</td>\n      <td>0</td>\n    </tr>\n    <tr>\n      <th>4</th>\n      <td>5370.78</td>\n      <td>-2</td>\n      <td>1171.37</td>\n      <td>0</td>\n      <td>0</td>\n      <td>33</td>\n      <td>-2</td>\n      <td>873.40</td>\n      <td>0.836153</td>\n      <td>0.837379</td>\n      <td>0</td>\n    </tr>\n  </tbody>\n</table>\n</div>"
     },
     "metadata": {},
     "execution_count": 3
    }
   ],
   "source": [
    "train.head()"
   ]
  },
  {
   "cell_type": "code",
   "execution_count": 4,
   "metadata": {
    "hidden": true
   },
   "outputs": [],
   "source": [
    "X_train = train.drop([\"default\"], axis=1)\n",
    "y_tr = train[\"default\"]\n",
    "X_validate = validate.drop([\"default\"], axis=1)\n",
    "y_val = validate[\"default\"]"
   ]
  },
  {
   "cell_type": "code",
   "execution_count": 5,
   "metadata": {
    "hidden": true
   },
   "outputs": [],
   "source": [
    "scaler = StandardScaler()\n",
    "scaler.fit(X_train)\n",
    "X_tr = scaler.transform(X_train)\n",
    "X_val = scaler.transform(X_validate)"
   ]
  },
  {
   "cell_type": "markdown",
   "metadata": {},
   "source": [
    "# <a id='3'>Hyperparameter Tuning</a>"
   ]
  },
  {
   "cell_type": "markdown",
   "metadata": {
    "heading_collapsed": true
   },
   "source": [
    "## <a id='31'>Logistic Regression with GridSearchCV</a>"
   ]
  },
  {
   "cell_type": "code",
   "execution_count": 6,
   "metadata": {
    "code_folding": [
     0
    ],
    "hidden": true
   },
   "outputs": [],
   "source": [
    "# logreg = LogisticRegression()\n",
    "# params = {'C': [0.001, 0.01, 0.1, 1, 10], \n",
    "#           'penalty': ['none', 'l1', 'l2', 'elasticnet'],\n",
    "#           'solver': ['liblinear', 'newton-cg', 'lbfgs', 'sag', 'saga']}\n",
    "# gslog = GridSearchCV(estimator = logreg,\n",
    "#                      param_grid = params,\n",
    "#                      scoring = 'average_precision',\n",
    "#                      cv = 10,\n",
    "#                      n_jobs = -1).fit(X_tr, y_tr)\n",
    "# y_pred_gslog_tr = gslog.predict(X_tr)\n",
    "# y_pred_gslog_val = gslog.predict(X_val)\n",
    "# print(\"Best: %f using %s\" % (gslog.best_score_, gslog.best_params_))\n",
    "# print(\"\")\n",
    "# get_metrics(X_tr, y_tr, X_val, y_val, y_pred_gslog_tr, y_pred_gslog_val, gslog)\n",
    "\n",
    "# Best: 0.522622 using {'C': 1, 'penalty': 'l2', 'solver': 'newton-cg'}"
   ]
  },
  {
   "cell_type": "code",
   "execution_count": 7,
   "metadata": {
    "hidden": true,
    "run_control": {
     "marked": true
    }
   },
   "outputs": [
    {
     "output_type": "stream",
     "name": "stdout",
     "text": [
      "Training Accuracy:  0.8087142857142857\nValidation Accuracy:  0.8071666666666667\nTraining F1 Score:  0.40320903283316006\nValidation F1 Score:  0.380952380952381\nTraining AUC Score:  0.7476971040793051\nValidation AUC Score:  0.7467126831177808\nTraining Recall Score:  0.2914518900343643\nValidation Recall Score:  0.27113480578827115\nTraining Precision Score:  0.6539759036144578\nValidation Precision Score:  0.6402877697841727\nTraining Average Precision Score:  0.5205202430336466\nValidation Average Precision Score:  0.4986582661881126\n"
     ]
    }
   ],
   "source": [
    "logb = LogisticRegression(C=1, penalty='l2', solver='newton-cg').fit(X_tr, y_tr)\n",
    "y_pred_logb_tr = logb.predict(X_tr)\n",
    "y_pred_logb_val = logb.predict(X_val)\n",
    "get_metric(X_tr, y_tr, X_val, y_val, y_pred_logb_tr, y_pred_logb_val, logb)"
   ]
  },
  {
   "cell_type": "markdown",
   "metadata": {
    "heading_collapsed": true
   },
   "source": [
    "## <a id='33'>Random Forest Classifier with GridSearchCV</a>"
   ]
  },
  {
   "cell_type": "code",
   "execution_count": 8,
   "metadata": {
    "code_folding": [
     0
    ],
    "hidden": true,
    "run_control": {
     "marked": true
    }
   },
   "outputs": [],
   "source": [
    "# rfc = RandomForestClassifier()\n",
    "# params = {'n_estimators': [100, 200, 400, 600, 1000],\n",
    "#           'criterion': ['entropy', 'gini'],\n",
    "#           'max_depth': [5, 8, 15, 25, 30],\n",
    "#           'min_samples_split': [2, 5, 10, 15, 100],\n",
    "#           'min_samples_leaf': [1, 2, 5, 10]}\n",
    "# gsrfc = GridSearchCV(estimator = rfc,\n",
    "#                      param_grid = params,\n",
    "#                      scoring = 'average_precision',\n",
    "#                      cv = 5,\n",
    "#                      n_jobs = -1).fit(X_tr, y_tr)\n",
    "# y_pred_gsrfc_tr = gsrfc.predict(X_tr)\n",
    "# y_pred_gsrfc_val = gsrfc.predict(X_val)\n",
    "# print(\"Best: %f using %s\" % (gsrfc.best_score_, gsrfc.best_params_))\n",
    "# print(\"\")\n",
    "# get_metrics(X_tr, y_tr, X_val, y_val, y_pred_gsrfc_tr, y_pred_gsrfc_val, gsrfc)\n",
    "\n",
    "# Best: 0.565196 using {'criterion': 'gini', 'max_depth': 8, 'min_samples_leaf': 1, 'min_samples_split': 2, 'n_estimators': 400}"
   ]
  },
  {
   "cell_type": "code",
   "execution_count": 9,
   "metadata": {
    "hidden": true
   },
   "outputs": [
    {
     "output_type": "stream",
     "name": "stdout",
     "text": [
      "Training Accuracy:  0.8336666666666667\nValidation Accuracy:  0.8213333333333334\nTraining F1 Score:  0.5153323158040795\nValidation F1 Score:  0.46772591857000984\nTraining AUC Score:  0.8263548471080532\nValidation AUC Score:  0.7804000337339867\nTraining Recall Score:  0.39884020618556704\nValidation Recall Score:  0.3587204874333587\nTraining Precision Score:  0.7279498235985888\nValidation Precision Score:  0.6718972895863052\nTraining Average Precision Score:  0.6506872748217742\nValidation Average Precision Score:  0.5445290195021129\n"
     ]
    }
   ],
   "source": [
    "rfcb = RandomForestClassifier(criterion='gini', max_depth=8, min_samples_leaf=1, min_samples_split=2, n_estimators=400).fit(X_tr, y_tr)\n",
    "y_pred_rfcb_tr = rfcb.predict(X_tr)\n",
    "y_pred_rfcb_val = rfcb.predict(X_val)\n",
    "get_metric(X_tr, y_tr, X_val, y_val, y_pred_rfcb_tr, y_pred_rfcb_val, rfcb)"
   ]
  },
  {
   "cell_type": "markdown",
   "metadata": {
    "heading_collapsed": true
   },
   "source": [
    "## <a id='34'>AdaBoost Classifier with GridSearchCV</a>"
   ]
  },
  {
   "cell_type": "code",
   "execution_count": 10,
   "metadata": {
    "code_folding": [
     0
    ],
    "hidden": true,
    "run_control": {
     "marked": true
    }
   },
   "outputs": [],
   "source": [
    "# abc = AdaBoostClassifier()\n",
    "# params = {'n_estimators': [10, 50, 100, 200],\n",
    "#           'learning_rate': [0.001, 0.01, 0.1, 0.2, 0.5]}\n",
    "# gsabc = GridSearchCV(estimator = abc,\n",
    "#                      param_grid = params,\n",
    "#                      n_jobs = -1,\n",
    "#                      cv = 5,\n",
    "#                      scoring = 'average_precision').fit(X_tr, y_tr)\n",
    "# y_pred_gsabc_tr = gsabc.predict(X_tr)\n",
    "# y_pred_gsabc_val = gsabc.predict(X_val)\n",
    "# print(\"Best: %f using %s\" % (gsabc.best_score_, gsabc.best_params_))\n",
    "# print(\"\")\n",
    "# get_metrics(X_tr, y_tr, X_val, y_val, y_pred_gsabc_tr, y_pred_gsabc_val, gsabc)\n",
    "\n",
    "# Best: 0.545818 using {'learning_rate': 0.1, 'n_estimators': 200}"
   ]
  },
  {
   "cell_type": "code",
   "execution_count": 11,
   "metadata": {
    "hidden": true
   },
   "outputs": [
    {
     "output_type": "stream",
     "name": "stdout",
     "text": [
      "Training Accuracy:  0.8192380952380952\nValidation Accuracy:  0.8208333333333333\nTraining F1 Score:  0.44969556393157434\nValidation F1 Score:  0.4438696326952923\nTraining AUC Score:  0.7866775976198166\nValidation AUC Score:  0.7772694027703144\nTraining Recall Score:  0.3331185567010309\nValidation Recall Score:  0.32673267326732675\nTraining Precision Score:  0.691793041926851\nValidation Precision Score:  0.6919354838709677\nTraining Average Precision Score:  0.5528304845005094\nValidation Average Precision Score:  0.5244329096074963\n"
     ]
    }
   ],
   "source": [
    "abcb = AdaBoostClassifier(learning_rate=0.1, n_estimators=200).fit(X_tr, y_tr)\n",
    "y_pred_abcb_tr = abcb.predict(X_tr)\n",
    "y_pred_abcb_val = abcb.predict(X_val)\n",
    "get_metric(X_tr, y_tr, X_val, y_val, y_pred_abcb_tr, y_pred_abcb_val, abcb)"
   ]
  },
  {
   "cell_type": "markdown",
   "metadata": {
    "heading_collapsed": true
   },
   "source": [
    "## <a id='35'>Gradient Boosting with GridSearchCV</a>"
   ]
  },
  {
   "cell_type": "code",
   "execution_count": 12,
   "metadata": {
    "code_folding": [
     0
    ],
    "hidden": true,
    "run_control": {
     "marked": true
    }
   },
   "outputs": [],
   "source": [
    "# gbc = GradientBoostingClassifier()\n",
    "# params = {'n_estimators': [10, 100, 1000],\n",
    "#           'learning_rate': [0.001, 0.01, 0.1],\n",
    "#           'max_depth': [3, 7, 9]}\n",
    "# gsgbc = GridSearchCV(estimator = gbc,\n",
    "#                      param_grid = params, \n",
    "#                      n_jobs = -1, \n",
    "#                      cv = 5, \n",
    "#                      scoring = 'average_precision').fit(X_tr, y_tr)\n",
    "# y_pred_gsgbc_tr = gsgbc.predict(X_tr)\n",
    "# y_pred_gsgbc_val = gsgbc.predict(X_val)\n",
    "# print(\"Best: %f using %s\" % (gsgbc.best_score_, gsgbc.best_params_))\n",
    "# print(\"\")\n",
    "# get_metric(X_tr, y_tr, X_val, y_val, y_pred_gsgbc_tr, y_pred_gsgbc_tr, gsgbc)\n",
    "\n",
    "# Best: 0.558390 using {'learning_rate': 0.01, 'max_depth': 3, 'n_estimators': 1000}"
   ]
  },
  {
   "cell_type": "code",
   "execution_count": 13,
   "metadata": {
    "hidden": true,
    "run_control": {
     "marked": true
    }
   },
   "outputs": [
    {
     "output_type": "stream",
     "name": "stdout",
     "text": [
      "Training Accuracy:  0.8276190476190476\nValidation Accuracy:  0.8196666666666667\nTraining F1 Score:  0.49694274596998333\nValidation F1 Score:  0.4622266401590458\nTraining AUC Score:  0.805111244939135\nValidation AUC Score:  0.7812172216877036\nTraining Recall Score:  0.38402061855670105\nValidation Recall Score:  0.3541507996953541\nTraining Precision Score:  0.7039370078740157\nValidation Precision Score:  0.6652360515021459\nTraining Average Precision Score:  0.6003473510491001\nValidation Average Precision Score:  0.5435298387150838\n"
     ]
    }
   ],
   "source": [
    "gbcb = GradientBoostingClassifier(learning_rate=0.01, max_depth=3, n_estimators=1000).fit(X_tr, y_tr)\n",
    "y_pred_gbcb_tr = gbcb.predict(X_tr)\n",
    "y_pred_gbcb_val = gbcb.predict(X_val)\n",
    "get_metric(X_tr, y_tr, X_val, y_val, y_pred_gbcb_tr, y_pred_gbcb_val, gbcb)"
   ]
  },
  {
   "cell_type": "markdown",
   "metadata": {
    "heading_collapsed": true
   },
   "source": [
    "## <a id='36'>XGBoost Classifier with GridSearchCV</a>"
   ]
  },
  {
   "cell_type": "code",
   "execution_count": 14,
   "metadata": {
    "code_folding": [
     0
    ],
    "hidden": true,
    "run_control": {
     "marked": true
    }
   },
   "outputs": [],
   "source": [
    "# xgb = XGBClassifier()\n",
    "# params = {'n_estimators': [50, 100, 150, 200], \n",
    "#           'max_depth': [3, 5, 7, 10], \n",
    "#           'min_child_weight': [2, 3, 4, 5]}\n",
    "# gsxgb = GridSearchCV(estimator = xgb,\n",
    "#                      param_grid = params,\n",
    "#                      scoring = 'average_precision',\n",
    "#                      cv = 5,\n",
    "#                      n_jobs = -1).fit(X_tr, y_tr)\n",
    "# y_pred_gsxgb_tr = gsxgb.predict(X_tr)\n",
    "# y_pred_gsxgb_val = gsxgb.predict(X_val)\n",
    "# print(\"Best: %f using %s\" % (gsxgb.best_score_, gsxgb.best_params_))\n",
    "# print(\"\")\n",
    "# get_metrics(X_tr, y_tr, X_val, y_val, y_pred_gsxgb_tr, y_pred_gsxgb_val, gsxgb)\n",
    "\n",
    "# Best: 0.555500 using {'max_depth': 3, 'min_child_weight': 5, 'n_estimators': 50}\n"
   ]
  },
  {
   "cell_type": "code",
   "execution_count": 15,
   "metadata": {
    "hidden": true,
    "run_control": {
     "marked": true
    }
   },
   "outputs": [
    {
     "output_type": "stream",
     "name": "stdout",
     "text": [
      "[04:35:09] WARNING: /Users/runner/miniforge3/conda-bld/xgboost_1607604592557/work/src/learner.cc:1061: Starting in XGBoost 1.3.0, the default evaluation metric used with the objective 'binary:logistic' was changed from 'error' to 'logloss'. Explicitly set eval_metric if you'd like to restore the old behavior.\n",
      "Training Accuracy:  0.8276190476190476\n",
      "Validation Accuracy:  0.8185\n",
      "Training F1 Score:  0.49833702882483377\n",
      "Validation F1 Score:  0.4579392732702837\n",
      "Training AUC Score:  0.810540741434586\n",
      "Validation AUC Score:  0.7767761488364293\n",
      "Training Recall Score:  0.3861683848797251\n",
      "Validation Recall Score:  0.3503427265803503\n",
      "Training Precision Score:  0.70234375\n",
      "Validation Precision Score:  0.6609195402298851\n",
      "Training Average Precision Score:  0.6011613543281619\n",
      "Validation Average Precision Score:  0.5393954705676095\n"
     ]
    }
   ],
   "source": [
    "xgbb = XGBClassifier(max_depth=3, min_child_weight=1, n_estimators=50).fit(X_tr, y_tr)\n",
    "y_pred_xgbb_tr = xgbb.predict(X_tr)\n",
    "y_pred_xgbb_val = xgbb.predict(X_val)\n",
    "get_metric(X_tr, y_tr, X_val, y_val, y_pred_xgbb_tr, y_pred_xgbb_val, xgbb)"
   ]
  },
  {
   "cell_type": "markdown",
   "metadata": {
    "heading_collapsed": true
   },
   "source": [
    "## <a id='37'>Evaluation Metrics</a>"
   ]
  },
  {
   "cell_type": "code",
   "execution_count": 16,
   "metadata": {
    "code_folding": [
     0
    ],
    "hidden": true
   },
   "outputs": [],
   "source": [
    "data = {'Accuracy': [accuracy(y_val, y_pred_logb_val), \n",
    "                     accuracy(y_val, y_pred_rfcb_val), \n",
    "                     accuracy(y_val, y_pred_abcb_val), \n",
    "                     accuracy(y_val, y_pred_gbcb_val),\n",
    "                     accuracy(y_val, y_pred_xgbb_val)],\n",
    "        'F1 Score': [f1(y_val, y_pred_logb_val), \n",
    "                     f1(y_val, y_pred_rfcb_val), \n",
    "                     f1(y_val, y_pred_abcb_val), \n",
    "                     f1(y_val, y_pred_gbcb_val),\n",
    "                     f1(y_val, y_pred_xgbb_val)],\n",
    "        'Recall': [recall(y_val, y_pred_logb_val), \n",
    "                   recall(y_val, y_pred_rfcb_val), \n",
    "                   recall(y_val, y_pred_abcb_val),\n",
    "                   recall(y_val, y_pred_gbcb_val),\n",
    "                   recall(y_val, y_pred_xgbb_val)],\n",
    "        'Precision': [precision(y_val, y_pred_logb_val), \n",
    "                      precision(y_val, y_pred_rfcb_val), \n",
    "                      precision(y_val, y_pred_abcb_val),\n",
    "                      precision(y_val, y_pred_gbcb_val),\n",
    "                      precision(y_val, y_pred_xgbb_val)],\n",
    "        'ROC-AUC': [auc(X_val, y_val, logb),\n",
    "                   auc(X_val, y_val, rfcb),\n",
    "                   auc(X_val, y_val, abcb),\n",
    "                   auc(X_val, y_val, gbcb),\n",
    "                   auc(X_val, y_val, xgbb)]}\n",
    "scores3 = pd.DataFrame(data=data, index = ['Logistic Regression with GridSearchCV', \n",
    "                                           'Random Forest with GridSearchCV', \n",
    "                                           'AdaBoost with GridSearchCV', \n",
    "                                           'Gradient Boosting with GridSearchCV',\n",
    "                                           'XGBoost with GridSearchCV'])"
   ]
  },
  {
   "cell_type": "code",
   "execution_count": 17,
   "metadata": {
    "hidden": true
   },
   "outputs": [
    {
     "output_type": "execute_result",
     "data": {
      "text/plain": [
       "                                       Accuracy  F1 Score    Recall  \\\n",
       "Logistic Regression with GridSearchCV  0.807167  0.380952  0.271135   \n",
       "Random Forest with GridSearchCV        0.821333  0.467726  0.358720   \n",
       "AdaBoost with GridSearchCV             0.820833  0.443870  0.326733   \n",
       "Gradient Boosting with GridSearchCV    0.819667  0.462227  0.354151   \n",
       "XGBoost with GridSearchCV              0.818500  0.457939  0.350343   \n",
       "\n",
       "                                       Precision    PR AUC  \n",
       "Logistic Regression with GridSearchCV   0.640288  0.498658  \n",
       "Random Forest with GridSearchCV         0.671897  0.544529  \n",
       "AdaBoost with GridSearchCV              0.691935  0.524433  \n",
       "Gradient Boosting with GridSearchCV     0.665236  0.543530  \n",
       "XGBoost with GridSearchCV               0.660920  0.539395  "
      ],
      "text/html": "<div>\n<style scoped>\n    .dataframe tbody tr th:only-of-type {\n        vertical-align: middle;\n    }\n\n    .dataframe tbody tr th {\n        vertical-align: top;\n    }\n\n    .dataframe thead th {\n        text-align: right;\n    }\n</style>\n<table border=\"1\" class=\"dataframe\">\n  <thead>\n    <tr style=\"text-align: right;\">\n      <th></th>\n      <th>Accuracy</th>\n      <th>F1 Score</th>\n      <th>Recall</th>\n      <th>Precision</th>\n      <th>PR AUC</th>\n    </tr>\n  </thead>\n  <tbody>\n    <tr>\n      <th>Logistic Regression with GridSearchCV</th>\n      <td>0.807167</td>\n      <td>0.380952</td>\n      <td>0.271135</td>\n      <td>0.640288</td>\n      <td>0.498658</td>\n    </tr>\n    <tr>\n      <th>Random Forest with GridSearchCV</th>\n      <td>0.821333</td>\n      <td>0.467726</td>\n      <td>0.358720</td>\n      <td>0.671897</td>\n      <td>0.544529</td>\n    </tr>\n    <tr>\n      <th>AdaBoost with GridSearchCV</th>\n      <td>0.820833</td>\n      <td>0.443870</td>\n      <td>0.326733</td>\n      <td>0.691935</td>\n      <td>0.524433</td>\n    </tr>\n    <tr>\n      <th>Gradient Boosting with GridSearchCV</th>\n      <td>0.819667</td>\n      <td>0.462227</td>\n      <td>0.354151</td>\n      <td>0.665236</td>\n      <td>0.543530</td>\n    </tr>\n    <tr>\n      <th>XGBoost with GridSearchCV</th>\n      <td>0.818500</td>\n      <td>0.457939</td>\n      <td>0.350343</td>\n      <td>0.660920</td>\n      <td>0.539395</td>\n    </tr>\n  </tbody>\n</table>\n</div>"
     },
     "metadata": {},
     "execution_count": 17
    }
   ],
   "source": [
    "scores3"
   ]
  },
  {
   "cell_type": "code",
   "execution_count": 18,
   "metadata": {
    "hidden": true
   },
   "outputs": [],
   "source": [
    "scores3.to_csv(\"../data/charts/scores3.csv\")"
   ]
  },
  {
   "cell_type": "markdown",
   "metadata": {},
   "source": [
    "## Pickle out best model"
   ]
  },
  {
   "cell_type": "code",
   "execution_count": 54,
   "metadata": {},
   "outputs": [
    {
     "data": {
      "text/plain": [
       "RandomForestClassifier(max_depth=8, n_estimators=400)"
      ]
     },
     "execution_count": 54,
     "metadata": {},
     "output_type": "execute_result"
    }
   ],
   "source": [
    "rfcb"
   ]
  },
  {
   "cell_type": "code",
   "execution_count": 55,
   "metadata": {},
   "outputs": [],
   "source": [
    "pickle_out = open(\"../data/best_model.pickle\",\"wb\")\n",
    "pickle.dump(rfcb, pickle_out)\n",
    "pickle_out.close()"
   ]
  },
  {
   "source": [
    "## In-Depth Hyperparameter Tuning of Gradient Boosting Classifier"
   ],
   "cell_type": "markdown",
   "metadata": {}
  },
  {
   "cell_type": "code",
   "execution_count": 7,
   "metadata": {},
   "outputs": [
    {
     "output_type": "stream",
     "name": "stdout",
     "text": [
      "Fitting 5 folds for each of 7 candidates, totalling 35 fits\n",
      "[Parallel(n_jobs=4)]: Using backend LokyBackend with 4 concurrent workers.\n",
      "[Parallel(n_jobs=4)]: Done  35 out of  35 | elapsed:   16.9s finished\n",
      "Best: 0.784376 using {'n_estimators': 70}\n"
     ]
    }
   ],
   "source": [
    "params = {'n_estimators': range(20, 81, 10)}\n",
    "gs_gbc = GridSearchCV(estimator = GradientBoostingClassifier(random_state=42),\n",
    "                      param_grid = params, \n",
    "                      n_jobs = 4,\n",
    "                      iid = False, \n",
    "                      cv = 5, \n",
    "                      scoring = 'roc_auc',\n",
    "                      verbose = 1).fit(X_tr, y_tr)\n",
    "print(\"Best: %f using %s\" % (gs_gbc.best_score_, gs_gbc.best_params_))"
   ]
  },
  {
   "cell_type": "code",
   "execution_count": 8,
   "metadata": {},
   "outputs": [
    {
     "output_type": "stream",
     "name": "stdout",
     "text": [
      "Accuracy:  0.8205\nF1 Score:  0.4644455494778717\nROC-AUC Score:  0.7802866933884474\nRecall Score:  0.3556740289413557\nPrecision Score:  0.669054441260745\nPR-AUC Score:  0.544958983883158\n"
     ]
    }
   ],
   "source": [
    "y_pred_gsgbc = gs_gbc.predict(X_val)\n",
    "get_metric(X_val, y_val, y_pred_gsgbc, gs_gbc)"
   ]
  },
  {
   "cell_type": "code",
   "execution_count": 10,
   "metadata": {},
   "outputs": [
    {
     "output_type": "stream",
     "name": "stdout",
     "text": [
      "Fitting 5 folds for each of 30 candidates, totalling 150 fits\n",
      "[Parallel(n_jobs=4)]: Using backend LokyBackend with 4 concurrent workers.\n",
      "[Parallel(n_jobs=4)]: Done  42 tasks      | elapsed:   58.8s\n",
      "[Parallel(n_jobs=4)]: Done 150 out of 150 | elapsed:  6.1min finished\n",
      "Best: 0.785429 using {'max_depth': 5, 'min_samples_split': 200}\n"
     ]
    }
   ],
   "source": [
    "params_2 = {'max_depth': range(5, 16, 2), 'min_samples_split': range(200, 1001, 200)}\n",
    "gs_gbc_2 = GridSearchCV(estimator = GradientBoostingClassifier(random_state=42, n_estimators=70),\n",
    "                        param_grid = params_2, \n",
    "                        n_jobs = 4,\n",
    "                        iid = False, \n",
    "                        cv = 5, \n",
    "                        scoring = 'roc_auc',\n",
    "                        verbose = 1).fit(X_tr, y_tr)\n",
    "print(\"Best: %f using %s\" % (gs_gbc_2.best_score_, gs_gbc_2.best_params_))"
   ]
  },
  {
   "cell_type": "code",
   "execution_count": 11,
   "metadata": {},
   "outputs": [
    {
     "output_type": "stream",
     "name": "stdout",
     "text": [
      "Accuracy:  0.818\nF1 Score:  0.45994065281899105\nROC-AUC Score:  0.7802444446574937\nRecall Score:  0.3541507996953541\nPrecision Score:  0.6558533145275035\nPR-AUC Score:  0.5431625883138161\n"
     ]
    }
   ],
   "source": [
    "y_pred_gsgbc_2 = gs_gbc_2.predict(X_val)\n",
    "get_metric(X_val, y_val, y_pred_gsgbc_2, gs_gbc_2)"
   ]
  },
  {
   "cell_type": "code",
   "execution_count": 12,
   "metadata": {},
   "outputs": [
    {
     "output_type": "stream",
     "name": "stdout",
     "text": [
      "Fitting 5 folds for each of 42 candidates, totalling 210 fits\n",
      "[Parallel(n_jobs=4)]: Using backend LokyBackend with 4 concurrent workers.\n",
      "[Parallel(n_jobs=4)]: Done  42 tasks      | elapsed:   49.3s\n",
      "[Parallel(n_jobs=4)]: Done 192 tasks      | elapsed:  4.0min\n",
      "[Parallel(n_jobs=4)]: Done 210 out of 210 | elapsed:  4.5min finished\n",
      "Best: 0.786073 using {'min_samples_leaf': 50, 'min_samples_split': 1600}\n"
     ]
    }
   ],
   "source": [
    "params_3 = {'min_samples_split': range(1000, 2001, 200), 'min_samples_leaf': range(10, 71, 10)}\n",
    "gs_gbc_3 = GridSearchCV(estimator = GradientBoostingClassifier(random_state=42, n_estimators=70, max_depth=5),\n",
    "                        param_grid = params_3, \n",
    "                        n_jobs = 4,\n",
    "                        iid = False, \n",
    "                        cv = 5, \n",
    "                        scoring = 'roc_auc',\n",
    "                        verbose = 1).fit(X_tr, y_tr)\n",
    "print(\"Best: %f using %s\" % (gs_gbc_3.best_score_, gs_gbc_3.best_params_))"
   ]
  },
  {
   "cell_type": "code",
   "execution_count": 13,
   "metadata": {},
   "outputs": [
    {
     "output_type": "stream",
     "name": "stdout",
     "text": [
      "Accuracy:  0.8201666666666667\nF1 Score:  0.46504709965294994\nROC-AUC Score:  0.7793591712488936\nRecall Score:  0.3571972581873572\nPrecision Score:  0.6661931818181818\nPR-AUC Score:  0.5417669015523743\n"
     ]
    }
   ],
   "source": [
    "y_pred_gsgbc_3 = gs_gbc_3.predict(X_val)\n",
    "get_metric(X_val, y_val, y_pred_gsgbc_3, gs_gbc_3)"
   ]
  },
  {
   "cell_type": "code",
   "execution_count": 14,
   "metadata": {},
   "outputs": [
    {
     "output_type": "stream",
     "name": "stdout",
     "text": [
      "Fitting 5 folds for each of 7 candidates, totalling 35 fits\n",
      "[Parallel(n_jobs=4)]: Using backend LokyBackend with 4 concurrent workers.\n",
      "[Parallel(n_jobs=4)]: Done  35 out of  35 | elapsed:    6.5s finished\n",
      "Best: 0.784187 using {'max_features': 9}\n"
     ]
    }
   ],
   "source": [
    "params_4 = {'max_features': range(7, 20, 2)}\n",
    "gs_gbc_4 = GridSearchCV(estimator = GradientBoostingClassifier(random_state=42, n_estimators=70, min_samples_split=1800, min_samples_leaf=30),\n",
    "                        param_grid = params_4, \n",
    "                        n_jobs = 4,\n",
    "                        iid = False, \n",
    "                        cv = 5, \n",
    "                        scoring = 'roc_auc',\n",
    "                        verbose = 1).fit(X_tr, y_tr)\n",
    "print(\"Best: %f using %s\" % (gs_gbc_4.best_score_, gs_gbc_4.best_params_))"
   ]
  },
  {
   "cell_type": "code",
   "execution_count": 15,
   "metadata": {},
   "outputs": [
    {
     "output_type": "stream",
     "name": "stdout",
     "text": [
      "Accuracy:  0.8193333333333334\nF1 Score:  0.45854145854145856\nROC-AUC Score:  0.7814054722831263\nRecall Score:  0.3495811119573496\nPrecision Score:  0.6661828737300436\nPR-AUC Score:  0.5440445818118469\n"
     ]
    }
   ],
   "source": [
    "y_pred_gsgbc_4 = gs_gbc_4.predict(X_val)\n",
    "get_metric(X_val, y_val, y_pred_gsgbc_4, gs_gbc_4)"
   ]
  },
  {
   "cell_type": "code",
   "execution_count": 16,
   "metadata": {},
   "outputs": [
    {
     "output_type": "stream",
     "name": "stdout",
     "text": [
      "Fitting 5 folds for each of 7 candidates, totalling 35 fits\n",
      "[Parallel(n_jobs=4)]: Using backend LokyBackend with 4 concurrent workers.\n",
      "[Parallel(n_jobs=4)]: Done  35 out of  35 | elapsed:   15.6s finished\n",
      "Best: 0.784879 using {'subsample': 0.75}\n"
     ]
    }
   ],
   "source": [
    "params_5 = {'subsample': [0.6, 0.65, 0.7, 0.75, 0.8, 0.85, 0.9]}\n",
    "gs_gbc_5 = GridSearchCV(estimator = GradientBoostingClassifier(random_state=42, n_estimators=70, min_samples_split=1800, \n",
    "                                                               min_samples_leaf=30, max_features=9),\n",
    "                        param_grid = params_5, \n",
    "                        n_jobs = 4,\n",
    "                        iid = False, \n",
    "                        cv = 5, \n",
    "                        scoring = 'roc_auc',\n",
    "                        verbose = 1).fit(X_tr, y_tr)\n",
    "print(\"Best: %f using %s\" % (gs_gbc_5.best_score_, gs_gbc_5.best_params_))"
   ]
  },
  {
   "cell_type": "code",
   "execution_count": 17,
   "metadata": {},
   "outputs": [
    {
     "output_type": "stream",
     "name": "stdout",
     "text": [
      "Accuracy:  0.8196666666666667\nF1 Score:  0.4685658153241651\nROC-AUC Score:  0.7798962988649228\nRecall Score:  0.3632901751713633\nPrecision Score:  0.6597510373443983\nPR-AUC Score:  0.539293391995348\n"
     ]
    }
   ],
   "source": [
    "y_pred_gsgbc_5 = gs_gbc_5.predict(X_val)\n",
    "get_metric(X_val, y_val, y_pred_gsgbc_5, gs_gbc_5)"
   ]
  },
  {
   "cell_type": "code",
   "execution_count": 23,
   "metadata": {},
   "outputs": [
    {
     "output_type": "stream",
     "name": "stdout",
     "text": [
      "Accuracy:  0.821\nF1 Score:  0.4724950884086444\nROC-AUC Score:  0.7814880198036052\nRecall Score:  0.36633663366336633\nPrecision Score:  0.665283540802213\nPR-AUC Score:  0.5417204420522411\n"
     ]
    }
   ],
   "source": [
    "gbc_tuned = GradientBoostingClassifier(random_state=42, n_estimators=140, min_samples_split=1800, \n",
    "                                       min_samples_leaf=30, max_features=9, subsample=0.7, learning_rate=0.05).fit(X_tr, y_tr)\n",
    "y_pred_gbc_tuned = gbc_tuned.predict(X_val)\n",
    "get_metric(X_val, y_val, y_pred_gbc_tuned, gbc_tuned)"
   ]
  },
  {
   "cell_type": "code",
   "execution_count": 24,
   "metadata": {},
   "outputs": [
    {
     "output_type": "stream",
     "name": "stdout",
     "text": [
      "Accuracy:  0.8205\nF1 Score:  0.4707616707616708\nROC-AUC Score:  0.7814543020664018\nRecall Score:  0.3648134044173648\nPrecision Score:  0.6634349030470914\nPR-AUC Score:  0.5417136315291816\n"
     ]
    }
   ],
   "source": [
    "gbc_tuned_2 = GradientBoostingClassifier(random_state=42, n_estimators=800, min_samples_split=1800, \n",
    "                                       min_samples_leaf=30, max_features=9, subsample=0.7, learning_rate=0.01).fit(X_tr, y_tr)\n",
    "y_pred_gbc_tuned_2 = gbc_tuned_2.predict(X_val)\n",
    "get_metric(X_val, y_val, y_pred_gbc_tuned_2, gbc_tuned_2)"
   ]
  },
  {
   "cell_type": "code",
   "execution_count": 25,
   "metadata": {},
   "outputs": [
    {
     "output_type": "stream",
     "name": "stdout",
     "text": [
      "Accuracy:  0.8206666666666667\nF1 Score:  0.4715127701375246\nROC-AUC Score:  0.7813930414065187\nRecall Score:  0.3655750190403656\nPrecision Score:  0.6639004149377593\nPR-AUC Score:  0.5408805522595578\n"
     ]
    }
   ],
   "source": [
    "gbc_tuned_3 = GradientBoostingClassifier(random_state=42, n_estimators=1600, min_samples_split=1800, \n",
    "                                       min_samples_leaf=30, max_features=9, subsample=0.7, learning_rate=0.005).fit(X_tr, y_tr)\n",
    "y_pred_gbc_tuned_3 = gbc_tuned_3.predict(X_val)\n",
    "get_metric(X_val, y_val, y_pred_gbc_tuned_3, gbc_tuned_3)"
   ]
  },
  {
   "cell_type": "code",
   "execution_count": 26,
   "metadata": {},
   "outputs": [
    {
     "output_type": "stream",
     "name": "stdout",
     "text": [
      "Accuracy:  0.8206666666666667\nF1 Score:  0.4715127701375246\nROC-AUC Score:  0.7813930414065187\nRecall Score:  0.3655750190403656\nPrecision Score:  0.6639004149377593\nPR-AUC Score:  0.5408805522595578\n"
     ]
    }
   ],
   "source": [
    "gbc_tuned_4 = GradientBoostingClassifier(random_state=42, n_estimators=1600, min_samples_split=1800, \n",
    "                                       min_samples_leaf=30, max_features=9, subsample=0.7, learning_rate=0.005).fit(X_tr, y_tr)\n",
    "y_pred_gbc_tuned_4 = gbc_tuned_4.predict(X_val)\n",
    "get_metric(X_val, y_val, y_pred_gbc_tuned_4, gbc_tuned_4)"
   ]
  },
  {
   "cell_type": "code",
   "execution_count": null,
   "metadata": {},
   "outputs": [],
   "source": []
  }
 ],
 "metadata": {
  "kernelspec": {
   "name": "python3",
   "display_name": "Python 3.9.2 64-bit ('learn-env': conda)"
  },
  "language_info": {
   "codemirror_mode": {
    "name": "ipython",
    "version": 3
   },
   "file_extension": ".py",
   "mimetype": "text/x-python",
   "name": "python",
   "nbconvert_exporter": "python",
   "pygments_lexer": "ipython3",
   "version": "3.9.2"
  },
  "toc": {
   "base_numbering": 1,
   "nav_menu": {},
   "number_sections": true,
   "sideBar": true,
   "skip_h1_title": false,
   "title_cell": "Table of Contents",
   "title_sidebar": "Contents",
   "toc_cell": false,
   "toc_position": {},
   "toc_section_display": true,
   "toc_window_display": false
  },
  "interpreter": {
   "hash": "80773cdecc613a186b9eac051636553d2ff0f99c57590601666ed713bd5d0256"
  }
 },
 "nbformat": 4,
 "nbformat_minor": 2
}